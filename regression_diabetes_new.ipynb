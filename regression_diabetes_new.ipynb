{
 "cells": [
  {
   "cell_type": "markdown",
   "source": "# Setting up",
   "metadata": {
    "tags": [],
    "is_collapsed": false,
    "cell_id": "00000-71181ed0-fd24-4f94-b673-c5648b19e32e",
    "deepnote_cell_type": "text-cell-h1"
   }
  },
  {
   "cell_type": "code",
   "metadata": {
    "tags": [],
    "cell_id": "00000-543dfae4-cfba-4cc8-9871-e8d1dc92e677",
    "deepnote_to_be_reexecuted": false,
    "source_hash": "bc6d1f1a",
    "execution_start": 1639138479273,
    "execution_millis": 5910,
    "deepnote_cell_type": "code"
   },
   "source": "import numpy as np\nimport matplotlib.pyplot as plt\nimport pandas as pd\n\nfrom sklearn import datasets, tree\nfrom sklearn.linear_model import LinearRegression, Lasso, Ridge\nfrom sklearn.model_selection import train_test_split, KFold, GridSearchCV\nfrom sklearn.metrics import mean_squared_error, r2_score\nfrom sklearn.preprocessing import StandardScaler\nfrom sklearn.neighbors import KNeighborsRegressor\nfrom sklearn.ensemble import RandomForestRegressor\nfrom tensorflow.keras import Sequential, Input\nfrom tensorflow.keras.layers import Dense, Dropout\nfrom tensorflow.keras.losses import BinaryCrossentropy\nfrom tensorflow.random import set_seed\n\n# Import data\nfrom preprocessing import load_diabetes_prepr\n\n# Interpretability measures\nfrom interpretability import PDP\n\nimport shap",
   "execution_count": 1,
   "outputs": []
  },
  {
   "cell_type": "code",
   "metadata": {
    "tags": [],
    "cell_id": "00002-992926b3-896d-4878-a0a3-0f6822237570",
    "deepnote_to_be_reexecuted": false,
    "source_hash": "6df82a74",
    "execution_start": 1639138491279,
    "execution_millis": 5,
    "deepnote_cell_type": "code"
   },
   "source": "def find_best_model(model, parameters, X_train, y_train): \n    clf = GridSearchCV(model, parameters, scoring=('neg_root_mean_squared_error'), cv=KFold())\n    clf.fit(X_train, y_train)\n\n    return clf\n\ndef print_errors(model, model_name, X_test, y_test):\n    y_pred = model.predict(X_test)\n    \n    if model_name == \"Neural network\":\n        y_pred = np.reshape(y_pred, len(y_test))\n    \n    rmse = mean_squared_error(y_test, y_pred, squared=False)\n    print(\"RMSE ({}): {}\".format(model_name, rmse))\n    r2 = r2_score(y_test, y_pred)\n    print(\"R-squared score ({}) : {}\".format(model_name, r2))",
   "execution_count": 2,
   "outputs": []
  },
  {
   "cell_type": "code",
   "metadata": {
    "tags": [],
    "cell_id": "00003-060aeafa-5f3c-466b-bdcf-2d01b3da3cd6",
    "deepnote_to_be_reexecuted": false,
    "source_hash": "51be144a",
    "execution_start": 1639138492755,
    "execution_millis": 31,
    "deepnote_cell_type": "code"
   },
   "source": "X, y, feature_names = load_diabetes_prepr()\nseed = 3012\n\nX_train, X_test, y_train, y_test = train_test_split(X, y, test_size=0.2, random_state=seed)",
   "execution_count": 3,
   "outputs": []
  },
  {
   "cell_type": "markdown",
   "source": "# Training models",
   "metadata": {
    "tags": [],
    "is_collapsed": false,
    "cell_id": "00004-acf66e36-711a-42f5-9a8a-8a53f9fa55f4",
    "deepnote_cell_type": "text-cell-h1"
   }
  },
  {
   "cell_type": "markdown",
   "source": "## Sci-kit learn models",
   "metadata": {
    "tags": [],
    "is_collapsed": false,
    "cell_id": "00005-d4b87fdb-6984-43f0-b526-1d96cdde9b71",
    "deepnote_cell_type": "text-cell-h2"
   }
  },
  {
   "cell_type": "code",
   "metadata": {
    "tags": [],
    "cell_id": "00004-4a09155d-433a-45a8-accd-1c0dce1af8e3",
    "deepnote_to_be_reexecuted": false,
    "source_hash": "ace0a988",
    "execution_start": 1639138505205,
    "execution_millis": 4595,
    "deepnote_cell_type": "code"
   },
   "source": "model_names = [\n    \"decision tree regressor\",\n    \"linear regression\",\n    \"k-nearest neighbors\",\n    ]\n\nparameters = {\n    \"decision tree regressor\": {'criterion': ('squared_error', 'friedman_mse', 'absolute_error', 'poisson'), 'splitter': ('best', 'random') , 'min_samples_split': np.arange(2, 20)},\n    \"linear regression\": {},\n    \"k-nearest neighbors\": {'n_neighbors': np.arange(1, 20), 'weights': ('uniform', 'distance')},\n    }\n\nmodels_init = {\n    \"decision tree regressor\": tree.DecisionTreeRegressor(random_state=seed),\n    \"linear regression\": LinearRegression(),\n    \"k-nearest neighbors\": KNeighborsRegressor(),\n    }\n\nmodels = dict()\n\nfor model_name in model_names:\n    clf = find_best_model(models_init[model_name], parameters[model_name], X_train, y_train)\n    models[model_name] = clf.best_estimator_",
   "execution_count": 4,
   "outputs": []
  },
  {
   "cell_type": "markdown",
   "source": "## Neural network",
   "metadata": {
    "tags": [],
    "is_collapsed": true,
    "cell_id": "00007-5b82e18d-3052-4e4e-81ca-cdd13ce7852e",
    "deepnote_cell_type": "text-cell-h2"
   }
  },
  {
   "cell_type": "code",
   "metadata": {
    "tags": [],
    "cell_id": "00008-0879d3d5-7eee-4d48-b461-9dea8274fdd7",
    "deepnote_to_be_reexecuted": false,
    "source_hash": "aa0612da",
    "execution_start": 1639064683962,
    "execution_millis": 592544,
    "deepnote_cell_type": "code"
   },
   "source": "X_, X_test, y_, y_test = train_test_split(X, y, test_size=0.2, random_state=seed)\nX_train, X_val, y_train, y_val = train_test_split(X_, y_, test_size=0.2, random_state=seed)",
   "execution_count": null,
   "outputs": []
  },
  {
   "cell_type": "code",
   "metadata": {
    "tags": [],
    "cell_id": "00009-9b98d9a7-f0f1-4536-9e1b-d0070c328ed4",
    "deepnote_to_be_reexecuted": false,
    "source_hash": "c693fed7",
    "execution_start": 1639064683974,
    "execution_millis": 20976,
    "deepnote_cell_type": "code"
   },
   "source": "# Initialise neural network\nBATCH_SIZE=64\nINPUT_SIZE= X_train.shape[1]\n\nset_seed(seed)\n\nmodel = Sequential()\nmodel.add(Input(INPUT_SIZE))\nmodel.add(Dense(20, activation=\"relu\"))\nmodel.add(Dropout(0.1))\n# model.add(Dense(10, activation=\"relu\"))\n# model.add(Dropout(0.1))\nmodel.add(Dense(10, activation=\"relu\"))\nmodel.add(Dropout(0.1))\nmodel.add(Dense(1))\nmodel.compile(optimizer='adam',\n                loss=\"mean_absolute_error\",\n                metrics=['mean_squared_error'])\n\nn_epochs = 300\nhistory = model.fit(X_train, y_train, batch_size=BATCH_SIZE, epochs=n_epochs, validation_data=(X_val, y_val)) # validation_split=0.2)\n\nmodels[\"neural network\"] = model",
   "execution_count": null,
   "outputs": [
    {
     "name": "stdout",
     "text": "Epoch 1/300\n5/5 [==============================] - 1s 197ms/step - loss: 146.4270 - mean_squared_error: 27086.4674 - val_loss: 140.8831 - val_mean_squared_error: 25423.3105\nEpoch 2/300\n5/5 [==============================] - 0s 12ms/step - loss: 147.9914 - mean_squared_error: 27120.5641 - val_loss: 140.7796 - val_mean_squared_error: 25395.7246\nEpoch 3/300\n5/5 [==============================] - 0s 12ms/step - loss: 146.4534 - mean_squared_error: 26560.8151 - val_loss: 140.6728 - val_mean_squared_error: 25367.3555\nEpoch 4/300\n5/5 [==============================] - 0s 12ms/step - loss: 152.5552 - mean_squared_error: 28749.9326 - val_loss: 140.5561 - val_mean_squared_error: 25335.6348\nEpoch 5/300\n5/5 [==============================] - 0s 12ms/step - loss: 148.6716 - mean_squared_error: 27654.7334 - val_loss: 140.4284 - val_mean_squared_error: 25301.2031\nEpoch 6/300\n5/5 [==============================] - 0s 12ms/step - loss: 146.2454 - mean_squared_error: 26251.7858 - val_loss: 140.2891 - val_mean_squared_error: 25263.5293\nEpoch 7/300\n5/5 [==============================] - 0s 12ms/step - loss: 151.3184 - mean_squared_error: 28401.9531 - val_loss: 140.1385 - val_mean_squared_error: 25222.8086\nEpoch 8/300\n5/5 [==============================] - 0s 13ms/step - loss: 143.1714 - mean_squared_error: 25689.3783 - val_loss: 139.9772 - val_mean_squared_error: 25179.2715\nEpoch 9/300\n5/5 [==============================] - 0s 14ms/step - loss: 146.4945 - mean_squared_error: 26815.5312 - val_loss: 139.8003 - val_mean_squared_error: 25131.3418\nEpoch 10/300\n5/5 [==============================] - 0s 12ms/step - loss: 146.8591 - mean_squared_error: 26861.5983 - val_loss: 139.6090 - val_mean_squared_error: 25079.3164\nEpoch 11/300\n5/5 [==============================] - 0s 12ms/step - loss: 148.8412 - mean_squared_error: 27821.6784 - val_loss: 139.3988 - val_mean_squared_error: 25021.8242\nEpoch 12/300\n5/5 [==============================] - 0s 16ms/step - loss: 148.7062 - mean_squared_error: 27533.5309 - val_loss: 139.1741 - val_mean_squared_error: 24960.2559\nEpoch 13/300\n5/5 [==============================] - 0s 15ms/step - loss: 147.1751 - mean_squared_error: 27132.9033 - val_loss: 138.9322 - val_mean_squared_error: 24893.8613\nEpoch 14/300\n5/5 [==============================] - 0s 13ms/step - loss: 145.5965 - mean_squared_error: 26167.0117 - val_loss: 138.6724 - val_mean_squared_error: 24822.8105\nEpoch 15/300\n5/5 [==============================] - 0s 12ms/step - loss: 144.4839 - mean_squared_error: 25949.6455 - val_loss: 138.3933 - val_mean_squared_error: 24746.7598\nEpoch 16/300\n5/5 [==============================] - 0s 12ms/step - loss: 142.6218 - mean_squared_error: 25260.7458 - val_loss: 138.0871 - val_mean_squared_error: 24664.1543\nEpoch 17/300\n5/5 [==============================] - 0s 13ms/step - loss: 149.5464 - mean_squared_error: 27763.6494 - val_loss: 137.7579 - val_mean_squared_error: 24575.1152\nEpoch 18/300\n5/5 [==============================] - 0s 13ms/step - loss: 148.0693 - mean_squared_error: 27246.1094 - val_loss: 137.4028 - val_mean_squared_error: 24479.9316\nEpoch 19/300\n5/5 [==============================] - 0s 14ms/step - loss: 144.2417 - mean_squared_error: 26194.7832 - val_loss: 137.0189 - val_mean_squared_error: 24378.1426\nEpoch 20/300\n5/5 [==============================] - 0s 12ms/step - loss: 144.3707 - mean_squared_error: 25845.9466 - val_loss: 136.6099 - val_mean_squared_error: 24269.8242\nEpoch 21/300\n5/5 [==============================] - 0s 13ms/step - loss: 142.3805 - mean_squared_error: 25801.4082 - val_loss: 136.1695 - val_mean_squared_error: 24152.9336\nEpoch 22/300\n5/5 [==============================] - 0s 18ms/step - loss: 143.6458 - mean_squared_error: 26074.4085 - val_loss: 135.6944 - val_mean_squared_error: 24026.7500\nEpoch 23/300\n5/5 [==============================] - 0s 12ms/step - loss: 138.0059 - mean_squared_error: 24038.4912 - val_loss: 135.1864 - val_mean_squared_error: 23893.5098\nEpoch 24/300\n5/5 [==============================] - 0s 12ms/step - loss: 140.6065 - mean_squared_error: 25283.3698 - val_loss: 134.6395 - val_mean_squared_error: 23750.3164\nEpoch 25/300\n5/5 [==============================] - 0s 13ms/step - loss: 142.6432 - mean_squared_error: 25986.1953 - val_loss: 134.0493 - val_mean_squared_error: 23596.4551\nEpoch 26/300\n5/5 [==============================] - 0s 13ms/step - loss: 140.6946 - mean_squared_error: 25022.4844 - val_loss: 133.4173 - val_mean_squared_error: 23433.9531\nEpoch 27/300\n5/5 [==============================] - 0s 12ms/step - loss: 142.5925 - mean_squared_error: 25993.5400 - val_loss: 132.7479 - val_mean_squared_error: 23262.7598\nEpoch 28/300\n5/5 [==============================] - 0s 12ms/step - loss: 142.1450 - mean_squared_error: 25273.6549 - val_loss: 132.0348 - val_mean_squared_error: 23082.5879\nEpoch 29/300\n5/5 [==============================] - 0s 15ms/step - loss: 139.0965 - mean_squared_error: 24484.7826 - val_loss: 131.2674 - val_mean_squared_error: 22890.5703\nEpoch 30/300\n5/5 [==============================] - 0s 15ms/step - loss: 146.5949 - mean_squared_error: 27305.3955 - val_loss: 130.4356 - val_mean_squared_error: 22682.6504\nEpoch 31/300\n5/5 [==============================] - 0s 13ms/step - loss: 140.1571 - mean_squared_error: 25062.3210 - val_loss: 129.5397 - val_mean_squared_error: 22461.7949\nEpoch 32/300\n5/5 [==============================] - 0s 13ms/step - loss: 136.0766 - mean_squared_error: 23712.3519 - val_loss: 128.5819 - val_mean_squared_error: 22226.8770\nEpoch 33/300\n5/5 [==============================] - 0s 13ms/step - loss: 140.3777 - mean_squared_error: 24927.7917 - val_loss: 127.5670 - val_mean_squared_error: 21980.6621\nEpoch 34/300\n5/5 [==============================] - 0s 13ms/step - loss: 136.0919 - mean_squared_error: 23960.4235 - val_loss: 126.4957 - val_mean_squared_error: 21724.0000\nEpoch 35/300\n5/5 [==============================] - 0s 13ms/step - loss: 134.8140 - mean_squared_error: 23844.2272 - val_loss: 125.3584 - val_mean_squared_error: 21452.3750\nEpoch 36/300\n5/5 [==============================] - 0s 16ms/step - loss: 132.9253 - mean_squared_error: 23119.6585 - val_loss: 124.1585 - val_mean_squared_error: 21168.5508\nEpoch 37/300\n5/5 [==============================] - 0s 12ms/step - loss: 131.8033 - mean_squared_error: 22714.7826 - val_loss: 122.8869 - val_mean_squared_error: 20873.4316\nEpoch 38/300\n5/5 [==============================] - 0s 12ms/step - loss: 128.4774 - mean_squared_error: 21986.1797 - val_loss: 121.6055 - val_mean_squared_error: 20567.1953\nEpoch 39/300\n5/5 [==============================] - 0s 12ms/step - loss: 135.4722 - mean_squared_error: 24042.8923 - val_loss: 120.2927 - val_mean_squared_error: 20251.8652\nEpoch 40/300\n5/5 [==============================] - 0s 12ms/step - loss: 128.8994 - mean_squared_error: 22154.1465 - val_loss: 118.9098 - val_mean_squared_error: 19929.8496\nEpoch 41/300\n5/5 [==============================] - 0s 12ms/step - loss: 124.7860 - mean_squared_error: 21033.9922 - val_loss: 117.5154 - val_mean_squared_error: 19596.4688\nEpoch 42/300\n5/5 [==============================] - 0s 13ms/step - loss: 128.3384 - mean_squared_error: 22116.1914 - val_loss: 116.0715 - val_mean_squared_error: 19250.3867\nEpoch 43/300\n5/5 [==============================] - 0s 12ms/step - loss: 121.6634 - mean_squared_error: 20275.7354 - val_loss: 114.5787 - val_mean_squared_error: 18899.5039\nEpoch 44/300\n5/5 [==============================] - 0s 20ms/step - loss: 126.2474 - mean_squared_error: 21821.8590 - val_loss: 113.0307 - val_mean_squared_error: 18538.3340\nEpoch 45/300\n5/5 [==============================] - 0s 26ms/step - loss: 120.6941 - mean_squared_error: 20150.9639 - val_loss: 111.4880 - val_mean_squared_error: 18173.5488\nEpoch 46/300\n5/5 [==============================] - 0s 25ms/step - loss: 121.5602 - mean_squared_error: 20761.0433 - val_loss: 109.8959 - val_mean_squared_error: 17801.6816\nEpoch 47/300\n5/5 [==============================] - 0s 29ms/step - loss: 116.0403 - mean_squared_error: 19188.3727 - val_loss: 108.2639 - val_mean_squared_error: 17425.4531\nEpoch 48/300\n5/5 [==============================] - 0s 22ms/step - loss: 112.8368 - mean_squared_error: 18185.2493 - val_loss: 106.5612 - val_mean_squared_error: 17042.7793\nEpoch 49/300\n5/5 [==============================] - 0s 22ms/step - loss: 117.7558 - mean_squared_error: 19517.8092 - val_loss: 104.8027 - val_mean_squared_error: 16654.7188\nEpoch 50/300\n5/5 [==============================] - 0s 26ms/step - loss: 110.4075 - mean_squared_error: 17977.5954 - val_loss: 103.0740 - val_mean_squared_error: 16272.4014\nEpoch 51/300\n5/5 [==============================] - 0s 25ms/step - loss: 108.5335 - mean_squared_error: 17363.9251 - val_loss: 101.3807 - val_mean_squared_error: 15885.8838\nEpoch 52/300\n5/5 [==============================] - 0s 22ms/step - loss: 113.7210 - mean_squared_error: 18267.7848 - val_loss: 99.8222 - val_mean_squared_error: 15492.6689\nEpoch 53/300\n5/5 [==============================] - 0s 24ms/step - loss: 106.5592 - mean_squared_error: 16563.3914 - val_loss: 98.3827 - val_mean_squared_error: 15097.2012\nEpoch 54/300\n5/5 [==============================] - 0s 26ms/step - loss: 103.1357 - mean_squared_error: 15911.9591 - val_loss: 96.9179 - val_mean_squared_error: 14704.4131\nEpoch 55/300\n5/5 [==============================] - 0s 23ms/step - loss: 107.5920 - mean_squared_error: 16876.6898 - val_loss: 95.4087 - val_mean_squared_error: 14307.7793\nEpoch 56/300\n5/5 [==============================] - 0s 25ms/step - loss: 103.2649 - mean_squared_error: 15962.8840 - val_loss: 93.9628 - val_mean_squared_error: 13911.1943\nEpoch 57/300\n5/5 [==============================] - 0s 24ms/step - loss: 100.7658 - mean_squared_error: 15453.1312 - val_loss: 92.4980 - val_mean_squared_error: 13516.8281\nEpoch 58/300\n5/5 [==============================] - 0s 13ms/step - loss: 98.1981 - mean_squared_error: 14496.4785 - val_loss: 91.0140 - val_mean_squared_error: 13129.5488\nEpoch 59/300\n5/5 [==============================] - 0s 18ms/step - loss: 97.4792 - mean_squared_error: 14216.2993 - val_loss: 89.5330 - val_mean_squared_error: 12742.0840\nEpoch 60/300\n5/5 [==============================] - 0s 13ms/step - loss: 89.2526 - mean_squared_error: 12399.1426 - val_loss: 88.0252 - val_mean_squared_error: 12361.6240\nEpoch 61/300\n5/5 [==============================] - 0s 14ms/step - loss: 87.5242 - mean_squared_error: 11993.6257 - val_loss: 86.4121 - val_mean_squared_error: 11967.5820\nEpoch 62/300\n5/5 [==============================] - 0s 19ms/step - loss: 91.3502 - mean_squared_error: 12651.2510 - val_loss: 84.7744 - val_mean_squared_error: 11573.1494\nEpoch 63/300\n5/5 [==============================] - 0s 23ms/step - loss: 88.3390 - mean_squared_error: 12310.2827 - val_loss: 83.1951 - val_mean_squared_error: 11189.3037\nEpoch 64/300\n5/5 [==============================] - 0s 26ms/step - loss: 85.9960 - mean_squared_error: 11575.5418 - val_loss: 81.5730 - val_mean_squared_error: 10806.8340\nEpoch 65/300\n5/5 [==============================] - 0s 27ms/step - loss: 87.2560 - mean_squared_error: 11825.8047 - val_loss: 80.1652 - val_mean_squared_error: 10435.0508\nEpoch 66/300\n5/5 [==============================] - 0s 27ms/step - loss: 81.2256 - mean_squared_error: 10521.7528 - val_loss: 78.8808 - val_mean_squared_error: 10078.2822\nEpoch 67/300\n5/5 [==============================] - 0s 28ms/step - loss: 82.7869 - mean_squared_error: 10742.6934 - val_loss: 77.5615 - val_mean_squared_error: 9731.0332\nEpoch 68/300\n5/5 [==============================] - 0s 34ms/step - loss: 78.6899 - mean_squared_error: 9854.3517 - val_loss: 76.2377 - val_mean_squared_error: 9402.4395\nEpoch 69/300\n5/5 [==============================] - 0s 24ms/step - loss: 77.8143 - mean_squared_error: 9741.3221 - val_loss: 74.8434 - val_mean_squared_error: 9077.8262\nEpoch 70/300\n5/5 [==============================] - 0s 20ms/step - loss: 78.6229 - mean_squared_error: 9850.8698 - val_loss: 73.4741 - val_mean_squared_error: 8778.1904\nEpoch 71/300\n5/5 [==============================] - 0s 12ms/step - loss: 74.4086 - mean_squared_error: 8967.0827 - val_loss: 72.1439 - val_mean_squared_error: 8499.5400\nEpoch 72/300\n5/5 [==============================] - 0s 12ms/step - loss: 73.4491 - mean_squared_error: 9060.9653 - val_loss: 70.7943 - val_mean_squared_error: 8232.9453\nEpoch 73/300\n5/5 [==============================] - 0s 13ms/step - loss: 71.7928 - mean_squared_error: 8386.4821 - val_loss: 69.5038 - val_mean_squared_error: 7990.3628\nEpoch 74/300\n5/5 [==============================] - 0s 12ms/step - loss: 68.3267 - mean_squared_error: 7491.6460 - val_loss: 68.2774 - val_mean_squared_error: 7770.8452\nEpoch 75/300\n5/5 [==============================] - 0s 13ms/step - loss: 65.2057 - mean_squared_error: 7286.7508 - val_loss: 67.0618 - val_mean_squared_error: 7570.1489\nEpoch 76/300\n5/5 [==============================] - 0s 22ms/step - loss: 65.9891 - mean_squared_error: 7220.9164 - val_loss: 65.9191 - val_mean_squared_error: 7388.7598\nEpoch 77/300\n5/5 [==============================] - 0s 17ms/step - loss: 68.2026 - mean_squared_error: 7645.2172 - val_loss: 65.0059 - val_mean_squared_error: 7223.8477\nEpoch 78/300\n5/5 [==============================] - 0s 13ms/step - loss: 66.9516 - mean_squared_error: 7549.0512 - val_loss: 64.2574 - val_mean_squared_error: 7077.4165\nEpoch 79/300\n5/5 [==============================] - 0s 15ms/step - loss: 64.6152 - mean_squared_error: 6831.4167 - val_loss: 63.5448 - val_mean_squared_error: 6947.8374\nEpoch 80/300\n5/5 [==============================] - 0s 13ms/step - loss: 60.6902 - mean_squared_error: 6349.9046 - val_loss: 62.8822 - val_mean_squared_error: 6836.4941\nEpoch 81/300\n5/5 [==============================] - 0s 12ms/step - loss: 65.5131 - mean_squared_error: 7095.0688 - val_loss: 62.2235 - val_mean_squared_error: 6736.5469\nEpoch 82/300\n5/5 [==============================] - 0s 13ms/step - loss: 64.0715 - mean_squared_error: 7023.3514 - val_loss: 61.5236 - val_mean_squared_error: 6646.1680\nEpoch 83/300\n5/5 [==============================] - 0s 12ms/step - loss: 61.9474 - mean_squared_error: 6489.5788 - val_loss: 60.9354 - val_mean_squared_error: 6572.5298\nEpoch 84/300\n5/5 [==============================] - 0s 12ms/step - loss: 61.5112 - mean_squared_error: 6365.5634 - val_loss: 60.4614 - val_mean_squared_error: 6512.6680\nEpoch 85/300\n5/5 [==============================] - 0s 13ms/step - loss: 53.4011 - mean_squared_error: 4936.9573 - val_loss: 59.9785 - val_mean_squared_error: 6462.3325\nEpoch 86/300\n5/5 [==============================] - 0s 16ms/step - loss: 55.1622 - mean_squared_error: 5239.5242 - val_loss: 59.5443 - val_mean_squared_error: 6416.1187\nEpoch 87/300\n5/5 [==============================] - 0s 13ms/step - loss: 55.1941 - mean_squared_error: 5240.6858 - val_loss: 59.1005 - val_mean_squared_error: 6373.7002\nEpoch 88/300\n5/5 [==============================] - 0s 12ms/step - loss: 57.7946 - mean_squared_error: 5742.2505 - val_loss: 58.6618 - val_mean_squared_error: 6339.4775\nEpoch 89/300\n5/5 [==============================] - 0s 13ms/step - loss: 55.2554 - mean_squared_error: 5367.3630 - val_loss: 58.3489 - val_mean_squared_error: 6309.3320\nEpoch 90/300\n5/5 [==============================] - 0s 12ms/step - loss: 54.4362 - mean_squared_error: 5237.0780 - val_loss: 58.1522 - val_mean_squared_error: 6275.9976\nEpoch 91/300\n5/5 [==============================] - 0s 13ms/step - loss: 60.7587 - mean_squared_error: 6076.5458 - val_loss: 57.9701 - val_mean_squared_error: 6248.8213\nEpoch 92/300\n5/5 [==============================] - 0s 12ms/step - loss: 58.2569 - mean_squared_error: 5791.3793 - val_loss: 57.7855 - val_mean_squared_error: 6219.9580\nEpoch 93/300\n5/5 [==============================] - 0s 12ms/step - loss: 54.8911 - mean_squared_error: 5321.9814 - val_loss: 57.6243 - val_mean_squared_error: 6194.2212\nEpoch 94/300\n5/5 [==============================] - 0s 14ms/step - loss: 56.3745 - mean_squared_error: 5407.2921 - val_loss: 57.4680 - val_mean_squared_error: 6168.6069\nEpoch 95/300\n5/5 [==============================] - 0s 13ms/step - loss: 53.1730 - mean_squared_error: 4951.2078 - val_loss: 57.2838 - val_mean_squared_error: 6137.9644\nEpoch 96/300\n5/5 [==============================] - 0s 12ms/step - loss: 56.2931 - mean_squared_error: 5313.1852 - val_loss: 57.1057 - val_mean_squared_error: 6109.4458\nEpoch 97/300\n5/5 [==============================] - 0s 17ms/step - loss: 54.3480 - mean_squared_error: 5066.7957 - val_loss: 56.9128 - val_mean_squared_error: 6076.0962\nEpoch 98/300\n5/5 [==============================] - 0s 12ms/step - loss: 55.2915 - mean_squared_error: 5224.8307 - val_loss: 56.7123 - val_mean_squared_error: 6041.6953\nEpoch 99/300\n5/5 [==============================] - 0s 13ms/step - loss: 55.2109 - mean_squared_error: 5197.6708 - val_loss: 56.5340 - val_mean_squared_error: 6011.1152\nEpoch 100/300\n5/5 [==============================] - 0s 12ms/step - loss: 53.9657 - mean_squared_error: 4845.2589 - val_loss: 56.3518 - val_mean_squared_error: 5979.6401\nEpoch 101/300\n5/5 [==============================] - 0s 13ms/step - loss: 53.1952 - mean_squared_error: 4743.5208 - val_loss: 56.2123 - val_mean_squared_error: 5953.8003\nEpoch 102/300\n5/5 [==============================] - 0s 12ms/step - loss: 53.9339 - mean_squared_error: 4997.5383 - val_loss: 56.0624 - val_mean_squared_error: 5922.8179\nEpoch 103/300\n5/5 [==============================] - 0s 16ms/step - loss: 53.8654 - mean_squared_error: 4880.3319 - val_loss: 55.9276 - val_mean_squared_error: 5895.4795\nEpoch 104/300\n5/5 [==============================] - 0s 18ms/step - loss: 55.2509 - mean_squared_error: 4970.0853 - val_loss: 55.8008 - val_mean_squared_error: 5866.0645\nEpoch 105/300\n5/5 [==============================] - 0s 12ms/step - loss: 53.0674 - mean_squared_error: 4637.0030 - val_loss: 55.6850 - val_mean_squared_error: 5843.2915\nEpoch 106/300\n5/5 [==============================] - 0s 12ms/step - loss: 52.2721 - mean_squared_error: 4961.8787 - val_loss: 55.5594 - val_mean_squared_error: 5814.0156\nEpoch 107/300\n5/5 [==============================] - 0s 16ms/step - loss: 49.9803 - mean_squared_error: 4343.9701 - val_loss: 55.4045 - val_mean_squared_error: 5779.8530\nEpoch 108/300\n5/5 [==============================] - 0s 12ms/step - loss: 54.7757 - mean_squared_error: 5399.8329 - val_loss: 55.2495 - val_mean_squared_error: 5742.4092\nEpoch 109/300\n5/5 [==============================] - 0s 13ms/step - loss: 51.5276 - mean_squared_error: 4624.1826 - val_loss: 55.0829 - val_mean_squared_error: 5700.6680\nEpoch 110/300\n5/5 [==============================] - 0s 12ms/step - loss: 53.2782 - mean_squared_error: 4924.6391 - val_loss: 54.9519 - val_mean_squared_error: 5668.7568\nEpoch 111/300\n5/5 [==============================] - 0s 14ms/step - loss: 51.9415 - mean_squared_error: 4530.9637 - val_loss: 54.7963 - val_mean_squared_error: 5634.4800\nEpoch 112/300\n5/5 [==============================] - 0s 12ms/step - loss: 50.8750 - mean_squared_error: 4394.4749 - val_loss: 54.6319 - val_mean_squared_error: 5602.0088\nEpoch 113/300\n5/5 [==============================] - 0s 12ms/step - loss: 50.8177 - mean_squared_error: 4564.9769 - val_loss: 54.4588 - val_mean_squared_error: 5567.1182\nEpoch 114/300\n5/5 [==============================] - 0s 15ms/step - loss: 49.9234 - mean_squared_error: 4216.1297 - val_loss: 54.2844 - val_mean_squared_error: 5533.9023\nEpoch 115/300\n5/5 [==============================] - 0s 13ms/step - loss: 50.4603 - mean_squared_error: 4619.7986 - val_loss: 54.1003 - val_mean_squared_error: 5497.1450\nEpoch 116/300\n5/5 [==============================] - 0s 13ms/step - loss: 51.7239 - mean_squared_error: 4585.4826 - val_loss: 53.9813 - val_mean_squared_error: 5463.7573\nEpoch 117/300\n5/5 [==============================] - 0s 13ms/step - loss: 50.5834 - mean_squared_error: 4387.8824 - val_loss: 53.8542 - val_mean_squared_error: 5431.7798\nEpoch 118/300\n5/5 [==============================] - 0s 12ms/step - loss: 50.6214 - mean_squared_error: 4351.5949 - val_loss: 53.7378 - val_mean_squared_error: 5407.4370\nEpoch 119/300\n5/5 [==============================] - 0s 13ms/step - loss: 50.8514 - mean_squared_error: 4123.5838 - val_loss: 53.6499 - val_mean_squared_error: 5385.6753\nEpoch 120/300\n5/5 [==============================] - 0s 12ms/step - loss: 52.9573 - mean_squared_error: 4946.7878 - val_loss: 53.5342 - val_mean_squared_error: 5359.6313\nEpoch 121/300\n5/5 [==============================] - 0s 17ms/step - loss: 53.2325 - mean_squared_error: 4663.3128 - val_loss: 53.4221 - val_mean_squared_error: 5337.1816\nEpoch 122/300\n5/5 [==============================] - 0s 12ms/step - loss: 51.7397 - mean_squared_error: 4223.7920 - val_loss: 53.3134 - val_mean_squared_error: 5313.3384\nEpoch 123/300\n5/5 [==============================] - 0s 13ms/step - loss: 51.4775 - mean_squared_error: 4461.0864 - val_loss: 53.2193 - val_mean_squared_error: 5290.5503\nEpoch 124/300\n5/5 [==============================] - 0s 13ms/step - loss: 51.1107 - mean_squared_error: 4705.3123 - val_loss: 53.1144 - val_mean_squared_error: 5264.4819\nEpoch 125/300\n5/5 [==============================] - 0s 16ms/step - loss: 52.0475 - mean_squared_error: 4395.1290 - val_loss: 53.0072 - val_mean_squared_error: 5234.2515\nEpoch 126/300\n5/5 [==============================] - 0s 12ms/step - loss: 49.9953 - mean_squared_error: 4066.5203 - val_loss: 52.8898 - val_mean_squared_error: 5201.0737\nEpoch 127/300\n5/5 [==============================] - 0s 13ms/step - loss: 50.5704 - mean_squared_error: 4299.3597 - val_loss: 52.7889 - val_mean_squared_error: 5175.7847\nEpoch 128/300\n5/5 [==============================] - 0s 21ms/step - loss: 55.6531 - mean_squared_error: 5213.7016 - val_loss: 52.6979 - val_mean_squared_error: 5154.4795\nEpoch 129/300\n5/5 [==============================] - 0s 14ms/step - loss: 47.6117 - mean_squared_error: 3964.5147 - val_loss: 52.5805 - val_mean_squared_error: 5128.5684\nEpoch 130/300\n5/5 [==============================] - 0s 15ms/step - loss: 49.8661 - mean_squared_error: 4319.3834 - val_loss: 52.4661 - val_mean_squared_error: 5105.4077\nEpoch 131/300\n5/5 [==============================] - 0s 12ms/step - loss: 53.4412 - mean_squared_error: 4802.8861 - val_loss: 52.3687 - val_mean_squared_error: 5082.4268\nEpoch 132/300\n5/5 [==============================] - 0s 13ms/step - loss: 51.3129 - mean_squared_error: 4505.4209 - val_loss: 52.2935 - val_mean_squared_error: 5064.4277\nEpoch 133/300\n5/5 [==============================] - 0s 13ms/step - loss: 50.6986 - mean_squared_error: 4269.7484 - val_loss: 52.2093 - val_mean_squared_error: 5047.4424\nEpoch 134/300\n5/5 [==============================] - 0s 12ms/step - loss: 51.2329 - mean_squared_error: 4383.9457 - val_loss: 52.1398 - val_mean_squared_error: 5027.7969\nEpoch 135/300\n5/5 [==============================] - 0s 12ms/step - loss: 50.3704 - mean_squared_error: 4414.1110 - val_loss: 52.0412 - val_mean_squared_error: 5008.1367\nEpoch 136/300\n5/5 [==============================] - 0s 16ms/step - loss: 50.7800 - mean_squared_error: 4426.5383 - val_loss: 51.9289 - val_mean_squared_error: 4986.1851\nEpoch 137/300\n5/5 [==============================] - 0s 19ms/step - loss: 46.5187 - mean_squared_error: 3810.7374 - val_loss: 51.8338 - val_mean_squared_error: 4968.2676\nEpoch 138/300\n5/5 [==============================] - 0s 14ms/step - loss: 51.5076 - mean_squared_error: 4587.9200 - val_loss: 51.7640 - val_mean_squared_error: 4953.7524\nEpoch 139/300\n5/5 [==============================] - 0s 13ms/step - loss: 48.8076 - mean_squared_error: 3992.1444 - val_loss: 51.7036 - val_mean_squared_error: 4940.5522\nEpoch 140/300\n5/5 [==============================] - 0s 13ms/step - loss: 49.3394 - mean_squared_error: 4179.3487 - val_loss: 51.6373 - val_mean_squared_error: 4918.3003\nEpoch 141/300\n5/5 [==============================] - 0s 15ms/step - loss: 51.1962 - mean_squared_error: 4726.2472 - val_loss: 51.5951 - val_mean_squared_error: 4901.1226\nEpoch 142/300\n5/5 [==============================] - 0s 12ms/step - loss: 49.0139 - mean_squared_error: 4225.8606 - val_loss: 51.5362 - val_mean_squared_error: 4882.2104\nEpoch 143/300\n5/5 [==============================] - 0s 13ms/step - loss: 49.3449 - mean_squared_error: 4103.9218 - val_loss: 51.4676 - val_mean_squared_error: 4866.4570\nEpoch 144/300\n5/5 [==============================] - 0s 15ms/step - loss: 49.1058 - mean_squared_error: 4063.6949 - val_loss: 51.3809 - val_mean_squared_error: 4849.2310\nEpoch 145/300\n5/5 [==============================] - 0s 14ms/step - loss: 50.0361 - mean_squared_error: 4342.7944 - val_loss: 51.3045 - val_mean_squared_error: 4835.5645\nEpoch 146/300\n5/5 [==============================] - 0s 12ms/step - loss: 50.3432 - mean_squared_error: 4206.2985 - val_loss: 51.2303 - val_mean_squared_error: 4828.0117\nEpoch 147/300\n5/5 [==============================] - 0s 14ms/step - loss: 48.8718 - mean_squared_error: 4025.5015 - val_loss: 51.1618 - val_mean_squared_error: 4814.8804\nEpoch 148/300\n5/5 [==============================] - 0s 13ms/step - loss: 46.7279 - mean_squared_error: 3809.7424 - val_loss: 51.0811 - val_mean_squared_error: 4797.7920\nEpoch 149/300\n5/5 [==============================] - 0s 13ms/step - loss: 46.4931 - mean_squared_error: 3574.5374 - val_loss: 50.9979 - val_mean_squared_error: 4780.0815\nEpoch 150/300\n5/5 [==============================] - 0s 13ms/step - loss: 48.5767 - mean_squared_error: 4166.6752 - val_loss: 50.9309 - val_mean_squared_error: 4766.3462\nEpoch 151/300\n5/5 [==============================] - 0s 12ms/step - loss: 50.5220 - mean_squared_error: 4202.3280 - val_loss: 50.8647 - val_mean_squared_error: 4751.0806\nEpoch 152/300\n5/5 [==============================] - 0s 12ms/step - loss: 49.7534 - mean_squared_error: 4244.7177 - val_loss: 50.8080 - val_mean_squared_error: 4737.2417\nEpoch 153/300\n5/5 [==============================] - 0s 12ms/step - loss: 48.3799 - mean_squared_error: 3988.4594 - val_loss: 50.7428 - val_mean_squared_error: 4721.5840\nEpoch 154/300\n5/5 [==============================] - 0s 12ms/step - loss: 49.6385 - mean_squared_error: 4012.7017 - val_loss: 50.6878 - val_mean_squared_error: 4705.0361\nEpoch 155/300\n5/5 [==============================] - 0s 16ms/step - loss: 50.6609 - mean_squared_error: 4187.3145 - val_loss: 50.6256 - val_mean_squared_error: 4690.4644\nEpoch 156/300\n5/5 [==============================] - 0s 13ms/step - loss: 50.6177 - mean_squared_error: 4249.1386 - val_loss: 50.5749 - val_mean_squared_error: 4681.3936\nEpoch 157/300\n5/5 [==============================] - 0s 13ms/step - loss: 47.2415 - mean_squared_error: 3758.4994 - val_loss: 50.5181 - val_mean_squared_error: 4669.7837\nEpoch 158/300\n5/5 [==============================] - 0s 13ms/step - loss: 48.6146 - mean_squared_error: 3976.8926 - val_loss: 50.4595 - val_mean_squared_error: 4658.7495\nEpoch 159/300\n5/5 [==============================] - 0s 12ms/step - loss: 51.0637 - mean_squared_error: 4437.3039 - val_loss: 50.3929 - val_mean_squared_error: 4647.2725\nEpoch 160/300\n5/5 [==============================] - 0s 12ms/step - loss: 47.3254 - mean_squared_error: 4013.6196 - val_loss: 50.3463 - val_mean_squared_error: 4638.2695\nEpoch 161/300\n5/5 [==============================] - 0s 14ms/step - loss: 47.8476 - mean_squared_error: 3846.2503 - val_loss: 50.2820 - val_mean_squared_error: 4626.0752\nEpoch 162/300\n5/5 [==============================] - 0s 13ms/step - loss: 52.0935 - mean_squared_error: 4503.8646 - val_loss: 50.2226 - val_mean_squared_error: 4614.9111\nEpoch 163/300\n5/5 [==============================] - 0s 13ms/step - loss: 47.5555 - mean_squared_error: 3769.8104 - val_loss: 50.1654 - val_mean_squared_error: 4602.2646\nEpoch 164/300\n5/5 [==============================] - 0s 13ms/step - loss: 45.3589 - mean_squared_error: 3624.7849 - val_loss: 50.1044 - val_mean_squared_error: 4592.0381\nEpoch 165/300\n5/5 [==============================] - 0s 13ms/step - loss: 49.1793 - mean_squared_error: 3906.2623 - val_loss: 50.0405 - val_mean_squared_error: 4582.9790\nEpoch 166/300\n5/5 [==============================] - 0s 12ms/step - loss: 47.2347 - mean_squared_error: 3788.1446 - val_loss: 49.9878 - val_mean_squared_error: 4574.5649\nEpoch 167/300\n5/5 [==============================] - 0s 13ms/step - loss: 46.6623 - mean_squared_error: 3641.8295 - val_loss: 49.9200 - val_mean_squared_error: 4561.6484\nEpoch 168/300\n5/5 [==============================] - 0s 12ms/step - loss: 48.5038 - mean_squared_error: 3946.4139 - val_loss: 49.8625 - val_mean_squared_error: 4549.4575\nEpoch 169/300\n5/5 [==============================] - 0s 12ms/step - loss: 52.5187 - mean_squared_error: 4610.5824 - val_loss: 49.8067 - val_mean_squared_error: 4534.8730\nEpoch 170/300\n5/5 [==============================] - 0s 12ms/step - loss: 48.3454 - mean_squared_error: 3941.5713 - val_loss: 49.7683 - val_mean_squared_error: 4519.0537\nEpoch 171/300\n5/5 [==============================] - 0s 22ms/step - loss: 47.1438 - mean_squared_error: 3764.1446 - val_loss: 49.7005 - val_mean_squared_error: 4507.0103\nEpoch 172/300\n5/5 [==============================] - 0s 16ms/step - loss: 47.6551 - mean_squared_error: 3733.7858 - val_loss: 49.6214 - val_mean_squared_error: 4493.1738\nEpoch 173/300\n5/5 [==============================] - 0s 13ms/step - loss: 48.4310 - mean_squared_error: 3705.1122 - val_loss: 49.5478 - val_mean_squared_error: 4481.9858\nEpoch 174/300\n5/5 [==============================] - 0s 13ms/step - loss: 46.6680 - mean_squared_error: 3668.6267 - val_loss: 49.4474 - val_mean_squared_error: 4470.7690\nEpoch 175/300\n5/5 [==============================] - 0s 14ms/step - loss: 46.5581 - mean_squared_error: 3719.4052 - val_loss: 49.4044 - val_mean_squared_error: 4460.6099\nEpoch 176/300\n5/5 [==============================] - 0s 13ms/step - loss: 46.3195 - mean_squared_error: 3407.0719 - val_loss: 49.3711 - val_mean_squared_error: 4450.4995\nEpoch 177/300\n5/5 [==============================] - 0s 14ms/step - loss: 48.8990 - mean_squared_error: 3842.8203 - val_loss: 49.3166 - val_mean_squared_error: 4441.9150\nEpoch 178/300\n5/5 [==============================] - 0s 15ms/step - loss: 46.5176 - mean_squared_error: 3850.5361 - val_loss: 49.2410 - val_mean_squared_error: 4434.1602\nEpoch 179/300\n5/5 [==============================] - 0s 14ms/step - loss: 48.9426 - mean_squared_error: 4140.5765 - val_loss: 49.1154 - val_mean_squared_error: 4425.6187\nEpoch 180/300\n5/5 [==============================] - 0s 14ms/step - loss: 45.4604 - mean_squared_error: 3425.2710 - val_loss: 49.0041 - val_mean_squared_error: 4415.2700\nEpoch 181/300\n5/5 [==============================] - 0s 15ms/step - loss: 45.0859 - mean_squared_error: 3522.8995 - val_loss: 48.9080 - val_mean_squared_error: 4401.8286\nEpoch 182/300\n5/5 [==============================] - 0s 13ms/step - loss: 46.2942 - mean_squared_error: 3596.5474 - val_loss: 48.8186 - val_mean_squared_error: 4384.8350\nEpoch 183/300\n5/5 [==============================] - 0s 14ms/step - loss: 46.0802 - mean_squared_error: 3703.5856 - val_loss: 48.7438 - val_mean_squared_error: 4368.9937\nEpoch 184/300\n5/5 [==============================] - 0s 14ms/step - loss: 48.9450 - mean_squared_error: 3879.8272 - val_loss: 48.6619 - val_mean_squared_error: 4356.1230\nEpoch 185/300\n5/5 [==============================] - 0s 13ms/step - loss: 47.3305 - mean_squared_error: 3701.5378 - val_loss: 48.5921 - val_mean_squared_error: 4342.5884\nEpoch 186/300\n5/5 [==============================] - 0s 13ms/step - loss: 47.6299 - mean_squared_error: 3703.7261 - val_loss: 48.5256 - val_mean_squared_error: 4330.0771\nEpoch 187/300\n5/5 [==============================] - 0s 13ms/step - loss: 48.4699 - mean_squared_error: 3781.4215 - val_loss: 48.4584 - val_mean_squared_error: 4319.9756\nEpoch 188/300\n5/5 [==============================] - 0s 12ms/step - loss: 47.3986 - mean_squared_error: 3635.8925 - val_loss: 48.4049 - val_mean_squared_error: 4309.9438\nEpoch 189/300\n5/5 [==============================] - 0s 14ms/step - loss: 48.4860 - mean_squared_error: 3938.6374 - val_loss: 48.4061 - val_mean_squared_error: 4296.3027\nEpoch 190/300\n5/5 [==============================] - 0s 13ms/step - loss: 46.2360 - mean_squared_error: 3541.6378 - val_loss: 48.3865 - val_mean_squared_error: 4287.5801\nEpoch 191/300\n5/5 [==============================] - 0s 13ms/step - loss: 47.2483 - mean_squared_error: 3582.0566 - val_loss: 48.3773 - val_mean_squared_error: 4279.2905\nEpoch 192/300\n5/5 [==============================] - 0s 13ms/step - loss: 46.6230 - mean_squared_error: 3430.7002 - val_loss: 48.3419 - val_mean_squared_error: 4266.1460\nEpoch 193/300\n5/5 [==============================] - 0s 16ms/step - loss: 44.6206 - mean_squared_error: 3395.2914 - val_loss: 48.3205 - val_mean_squared_error: 4251.3779\nEpoch 194/300\n5/5 [==============================] - 0s 23ms/step - loss: 46.3346 - mean_squared_error: 3757.9301 - val_loss: 48.2910 - val_mean_squared_error: 4235.0337\nEpoch 195/300\n5/5 [==============================] - 0s 21ms/step - loss: 47.2080 - mean_squared_error: 3695.1431 - val_loss: 48.2383 - val_mean_squared_error: 4218.8940\nEpoch 196/300\n5/5 [==============================] - 0s 18ms/step - loss: 45.2117 - mean_squared_error: 3432.2628 - val_loss: 48.2004 - val_mean_squared_error: 4204.2886\nEpoch 197/300\n5/5 [==============================] - 0s 14ms/step - loss: 46.6892 - mean_squared_error: 3628.7050 - val_loss: 48.1424 - val_mean_squared_error: 4193.3120\nEpoch 198/300\n5/5 [==============================] - 0s 12ms/step - loss: 45.7445 - mean_squared_error: 3569.6249 - val_loss: 48.1022 - val_mean_squared_error: 4185.7256\nEpoch 199/300\n5/5 [==============================] - 0s 13ms/step - loss: 47.8496 - mean_squared_error: 3890.3866 - val_loss: 48.0288 - val_mean_squared_error: 4177.5029\nEpoch 200/300\n5/5 [==============================] - 0s 12ms/step - loss: 46.5221 - mean_squared_error: 3509.6387 - val_loss: 47.9379 - val_mean_squared_error: 4170.1348\nEpoch 201/300\n5/5 [==============================] - 0s 12ms/step - loss: 47.8079 - mean_squared_error: 3676.9309 - val_loss: 47.8757 - val_mean_squared_error: 4165.0024\nEpoch 202/300\n5/5 [==============================] - 0s 15ms/step - loss: 48.6658 - mean_squared_error: 3728.4750 - val_loss: 47.8445 - val_mean_squared_error: 4159.9756\nEpoch 203/300\n5/5 [==============================] - 0s 13ms/step - loss: 48.7062 - mean_squared_error: 3909.4137 - val_loss: 47.8547 - val_mean_squared_error: 4156.9727\nEpoch 204/300\n5/5 [==============================] - 0s 14ms/step - loss: 45.9907 - mean_squared_error: 3495.3543 - val_loss: 47.8855 - val_mean_squared_error: 4148.3794\nEpoch 205/300\n5/5 [==============================] - 0s 19ms/step - loss: 44.7004 - mean_squared_error: 3413.7606 - val_loss: 47.8569 - val_mean_squared_error: 4137.9395\nEpoch 206/300\n5/5 [==============================] - 0s 13ms/step - loss: 46.8817 - mean_squared_error: 3744.6828 - val_loss: 47.8460 - val_mean_squared_error: 4129.9829\nEpoch 207/300\n5/5 [==============================] - 0s 12ms/step - loss: 44.7964 - mean_squared_error: 3369.5671 - val_loss: 47.8613 - val_mean_squared_error: 4127.5244\nEpoch 208/300\n5/5 [==============================] - 0s 13ms/step - loss: 46.3608 - mean_squared_error: 3794.8919 - val_loss: 47.8397 - val_mean_squared_error: 4124.0288\nEpoch 209/300\n5/5 [==============================] - 0s 14ms/step - loss: 46.9133 - mean_squared_error: 3618.0017 - val_loss: 47.7921 - val_mean_squared_error: 4117.7446\nEpoch 210/300\n5/5 [==============================] - 0s 13ms/step - loss: 47.3105 - mean_squared_error: 3658.1568 - val_loss: 47.7407 - val_mean_squared_error: 4112.1304\nEpoch 211/300\n5/5 [==============================] - 0s 12ms/step - loss: 46.0704 - mean_squared_error: 3339.4715 - val_loss: 47.6757 - val_mean_squared_error: 4103.6226\nEpoch 212/300\n5/5 [==============================] - 0s 15ms/step - loss: 43.0076 - mean_squared_error: 3138.9535 - val_loss: 47.6057 - val_mean_squared_error: 4093.0916\nEpoch 213/300\n5/5 [==============================] - 0s 19ms/step - loss: 43.9293 - mean_squared_error: 3233.5068 - val_loss: 47.5193 - val_mean_squared_error: 4082.8267\nEpoch 214/300\n5/5 [==============================] - 0s 15ms/step - loss: 44.5389 - mean_squared_error: 3550.7897 - val_loss: 47.4413 - val_mean_squared_error: 4076.0674\nEpoch 215/300\n5/5 [==============================] - 0s 19ms/step - loss: 45.8243 - mean_squared_error: 3470.4828 - val_loss: 47.3487 - val_mean_squared_error: 4067.1550\nEpoch 216/300\n5/5 [==============================] - 0s 16ms/step - loss: 45.5127 - mean_squared_error: 3494.0113 - val_loss: 47.2779 - val_mean_squared_error: 4058.1880\nEpoch 217/300\n5/5 [==============================] - 0s 13ms/step - loss: 46.4669 - mean_squared_error: 3535.5813 - val_loss: 47.2190 - val_mean_squared_error: 4048.1880\nEpoch 218/300\n5/5 [==============================] - 0s 13ms/step - loss: 47.9289 - mean_squared_error: 3692.1610 - val_loss: 47.1328 - val_mean_squared_error: 4033.8047\nEpoch 219/300\n5/5 [==============================] - 0s 12ms/step - loss: 45.5700 - mean_squared_error: 3408.5932 - val_loss: 47.0971 - val_mean_squared_error: 4026.5176\nEpoch 220/300\n5/5 [==============================] - 0s 13ms/step - loss: 43.0212 - mean_squared_error: 3066.3570 - val_loss: 47.0485 - val_mean_squared_error: 4019.7883\nEpoch 221/300\n5/5 [==============================] - 0s 15ms/step - loss: 46.8503 - mean_squared_error: 3630.3497 - val_loss: 46.9503 - val_mean_squared_error: 4007.9146\nEpoch 222/300\n5/5 [==============================] - 0s 12ms/step - loss: 46.5312 - mean_squared_error: 3496.8492 - val_loss: 46.8366 - val_mean_squared_error: 4001.2446\nEpoch 223/300\n5/5 [==============================] - 0s 14ms/step - loss: 45.0113 - mean_squared_error: 3283.8355 - val_loss: 46.7732 - val_mean_squared_error: 3992.3125\nEpoch 224/300\n5/5 [==============================] - 0s 13ms/step - loss: 47.1205 - mean_squared_error: 3534.2023 - val_loss: 46.7281 - val_mean_squared_error: 3984.0955\nEpoch 225/300\n5/5 [==============================] - 0s 14ms/step - loss: 45.9621 - mean_squared_error: 3429.9441 - val_loss: 46.6600 - val_mean_squared_error: 3975.3201\nEpoch 226/300\n5/5 [==============================] - 0s 12ms/step - loss: 44.6493 - mean_squared_error: 3234.9486 - val_loss: 46.5994 - val_mean_squared_error: 3966.8306\nEpoch 227/300\n5/5 [==============================] - 0s 12ms/step - loss: 44.3645 - mean_squared_error: 3037.1876 - val_loss: 46.6017 - val_mean_squared_error: 3961.6245\nEpoch 228/300\n5/5 [==============================] - 0s 13ms/step - loss: 44.4222 - mean_squared_error: 3348.1000 - val_loss: 46.5953 - val_mean_squared_error: 3959.0190\nEpoch 229/300\n5/5 [==============================] - 0s 13ms/step - loss: 44.0101 - mean_squared_error: 3197.0411 - val_loss: 46.5862 - val_mean_squared_error: 3957.8428\nEpoch 230/300\n5/5 [==============================] - 0s 14ms/step - loss: 44.6673 - mean_squared_error: 3267.2323 - val_loss: 46.5550 - val_mean_squared_error: 3956.1479\nEpoch 231/300\n5/5 [==============================] - 0s 13ms/step - loss: 50.4443 - mean_squared_error: 4038.0701 - val_loss: 46.5104 - val_mean_squared_error: 3952.8279\nEpoch 232/300\n5/5 [==============================] - 0s 13ms/step - loss: 44.3685 - mean_squared_error: 3406.1599 - val_loss: 46.4764 - val_mean_squared_error: 3950.8428\nEpoch 233/300\n5/5 [==============================] - 0s 12ms/step - loss: 46.1197 - mean_squared_error: 3604.6657 - val_loss: 46.4453 - val_mean_squared_error: 3947.2874\nEpoch 234/300\n5/5 [==============================] - 0s 12ms/step - loss: 44.5426 - mean_squared_error: 3293.7966 - val_loss: 46.4265 - val_mean_squared_error: 3944.7632\nEpoch 235/300\n5/5 [==============================] - 0s 15ms/step - loss: 45.0860 - mean_squared_error: 3396.1395 - val_loss: 46.3808 - val_mean_squared_error: 3940.1431\nEpoch 236/300\n5/5 [==============================] - 0s 13ms/step - loss: 44.6729 - mean_squared_error: 3401.2344 - val_loss: 46.3195 - val_mean_squared_error: 3929.2297\nEpoch 237/300\n5/5 [==============================] - 0s 12ms/step - loss: 48.2388 - mean_squared_error: 3967.0374 - val_loss: 46.2707 - val_mean_squared_error: 3919.9036\nEpoch 238/300\n5/5 [==============================] - 0s 13ms/step - loss: 45.0827 - mean_squared_error: 3282.1154 - val_loss: 46.2388 - val_mean_squared_error: 3913.3447\nEpoch 239/300\n5/5 [==============================] - 0s 17ms/step - loss: 45.0392 - mean_squared_error: 3383.1136 - val_loss: 46.2005 - val_mean_squared_error: 3908.4568\nEpoch 240/300\n5/5 [==============================] - 0s 22ms/step - loss: 46.9268 - mean_squared_error: 3637.7718 - val_loss: 46.1808 - val_mean_squared_error: 3904.1135\nEpoch 241/300\n5/5 [==============================] - 0s 16ms/step - loss: 43.8971 - mean_squared_error: 3328.8285 - val_loss: 46.2259 - val_mean_squared_error: 3897.5242\nEpoch 242/300\n5/5 [==============================] - 0s 13ms/step - loss: 46.3338 - mean_squared_error: 3508.0860 - val_loss: 46.2282 - val_mean_squared_error: 3891.2275\nEpoch 243/300\n5/5 [==============================] - 0s 13ms/step - loss: 44.6229 - mean_squared_error: 3449.0217 - val_loss: 46.2377 - val_mean_squared_error: 3886.0168\nEpoch 244/300\n5/5 [==============================] - 0s 13ms/step - loss: 44.7466 - mean_squared_error: 3327.2587 - val_loss: 46.2267 - val_mean_squared_error: 3882.7878\nEpoch 245/300\n5/5 [==============================] - 0s 12ms/step - loss: 45.2057 - mean_squared_error: 3365.7350 - val_loss: 46.1988 - val_mean_squared_error: 3877.0071\nEpoch 246/300\n5/5 [==============================] - 0s 15ms/step - loss: 46.7742 - mean_squared_error: 3470.4879 - val_loss: 46.1279 - val_mean_squared_error: 3868.1328\nEpoch 247/300\n5/5 [==============================] - 0s 12ms/step - loss: 47.9821 - mean_squared_error: 3755.2140 - val_loss: 46.0712 - val_mean_squared_error: 3861.7720\nEpoch 248/300\n5/5 [==============================] - 0s 12ms/step - loss: 45.2255 - mean_squared_error: 3332.7121 - val_loss: 46.0694 - val_mean_squared_error: 3855.8557\nEpoch 249/300\n5/5 [==============================] - 0s 15ms/step - loss: 44.1113 - mean_squared_error: 3074.5181 - val_loss: 46.0282 - val_mean_squared_error: 3849.4568\nEpoch 250/300\n5/5 [==============================] - 0s 13ms/step - loss: 44.9018 - mean_squared_error: 3384.5609 - val_loss: 45.9549 - val_mean_squared_error: 3843.3289\nEpoch 251/300\n5/5 [==============================] - 0s 15ms/step - loss: 49.1002 - mean_squared_error: 3994.6964 - val_loss: 45.8866 - val_mean_squared_error: 3837.7249\nEpoch 252/300\n5/5 [==============================] - 0s 12ms/step - loss: 45.4038 - mean_squared_error: 3499.2694 - val_loss: 45.8342 - val_mean_squared_error: 3830.0713\nEpoch 253/300\n5/5 [==============================] - 0s 12ms/step - loss: 46.4330 - mean_squared_error: 3570.4008 - val_loss: 45.7823 - val_mean_squared_error: 3826.0752\nEpoch 254/300\n5/5 [==============================] - 0s 13ms/step - loss: 41.5230 - mean_squared_error: 2894.1219 - val_loss: 45.7423 - val_mean_squared_error: 3818.8931\nEpoch 255/300\n5/5 [==============================] - 0s 18ms/step - loss: 46.3124 - mean_squared_error: 3471.5525 - val_loss: 45.7380 - val_mean_squared_error: 3812.0269\nEpoch 256/300\n5/5 [==============================] - 0s 14ms/step - loss: 44.9778 - mean_squared_error: 3333.9513 - val_loss: 45.7143 - val_mean_squared_error: 3804.6990\nEpoch 257/300\n5/5 [==============================] - 0s 14ms/step - loss: 44.0470 - mean_squared_error: 3180.3285 - val_loss: 45.7383 - val_mean_squared_error: 3800.1487\nEpoch 258/300\n5/5 [==============================] - 0s 12ms/step - loss: 41.4130 - mean_squared_error: 2955.1752 - val_loss: 45.7631 - val_mean_squared_error: 3795.9524\nEpoch 259/300\n5/5 [==============================] - 0s 12ms/step - loss: 43.5765 - mean_squared_error: 3204.6174 - val_loss: 45.8100 - val_mean_squared_error: 3791.3689\nEpoch 260/300\n5/5 [==============================] - 0s 13ms/step - loss: 45.5217 - mean_squared_error: 3368.2968 - val_loss: 45.8418 - val_mean_squared_error: 3788.8652\nEpoch 261/300\n5/5 [==============================] - 0s 12ms/step - loss: 44.0752 - mean_squared_error: 3275.7087 - val_loss: 45.8422 - val_mean_squared_error: 3784.9934\nEpoch 262/300\n5/5 [==============================] - 0s 13ms/step - loss: 47.2064 - mean_squared_error: 3604.5508 - val_loss: 45.7936 - val_mean_squared_error: 3776.0098\nEpoch 263/300\n5/5 [==============================] - 0s 14ms/step - loss: 45.4706 - mean_squared_error: 3465.8486 - val_loss: 45.7514 - val_mean_squared_error: 3763.8157\nEpoch 264/300\n5/5 [==============================] - 0s 13ms/step - loss: 42.5412 - mean_squared_error: 3124.1532 - val_loss: 45.6944 - val_mean_squared_error: 3753.1350\nEpoch 265/300\n5/5 [==============================] - 0s 13ms/step - loss: 44.2653 - mean_squared_error: 3347.3224 - val_loss: 45.6338 - val_mean_squared_error: 3746.0959\nEpoch 266/300\n5/5 [==============================] - 0s 21ms/step - loss: 45.5292 - mean_squared_error: 3286.1194 - val_loss: 45.5785 - val_mean_squared_error: 3741.6069\nEpoch 267/300\n5/5 [==============================] - 0s 17ms/step - loss: 47.0981 - mean_squared_error: 3564.7797 - val_loss: 45.5390 - val_mean_squared_error: 3739.5837\nEpoch 268/300\n5/5 [==============================] - 0s 19ms/step - loss: 45.5219 - mean_squared_error: 3450.0540 - val_loss: 45.5151 - val_mean_squared_error: 3737.8701\nEpoch 269/300\n5/5 [==============================] - 0s 15ms/step - loss: 45.8060 - mean_squared_error: 3380.2278 - val_loss: 45.4787 - val_mean_squared_error: 3737.2981\nEpoch 270/300\n5/5 [==============================] - 0s 13ms/step - loss: 45.1291 - mean_squared_error: 3193.2196 - val_loss: 45.4944 - val_mean_squared_error: 3738.2927\nEpoch 271/300\n5/5 [==============================] - 0s 15ms/step - loss: 49.0837 - mean_squared_error: 3886.8223 - val_loss: 45.4802 - val_mean_squared_error: 3736.9358\nEpoch 272/300\n5/5 [==============================] - 0s 12ms/step - loss: 45.4932 - mean_squared_error: 3494.2594 - val_loss: 45.4889 - val_mean_squared_error: 3734.2878\nEpoch 273/300\n5/5 [==============================] - 0s 15ms/step - loss: 45.5171 - mean_squared_error: 3276.4152 - val_loss: 45.5121 - val_mean_squared_error: 3734.4529\nEpoch 274/300\n5/5 [==============================] - 0s 12ms/step - loss: 46.4889 - mean_squared_error: 3518.0179 - val_loss: 45.5283 - val_mean_squared_error: 3732.0942\nEpoch 275/300\n5/5 [==============================] - 0s 13ms/step - loss: 42.7354 - mean_squared_error: 3029.9428 - val_loss: 45.5515 - val_mean_squared_error: 3728.2966\nEpoch 276/300\n5/5 [==============================] - 0s 13ms/step - loss: 44.1552 - mean_squared_error: 3253.3172 - val_loss: 45.5332 - val_mean_squared_error: 3725.9973\nEpoch 277/300\n5/5 [==============================] - 0s 12ms/step - loss: 45.9854 - mean_squared_error: 3422.2588 - val_loss: 45.5272 - val_mean_squared_error: 3723.5488\nEpoch 278/300\n5/5 [==============================] - 0s 13ms/step - loss: 42.2080 - mean_squared_error: 3081.7205 - val_loss: 45.4789 - val_mean_squared_error: 3721.9189\nEpoch 279/300\n5/5 [==============================] - 0s 14ms/step - loss: 43.6231 - mean_squared_error: 3254.3412 - val_loss: 45.4063 - val_mean_squared_error: 3715.2500\nEpoch 280/300\n5/5 [==============================] - 0s 13ms/step - loss: 42.9767 - mean_squared_error: 3051.0257 - val_loss: 45.3375 - val_mean_squared_error: 3707.9858\nEpoch 281/300\n5/5 [==============================] - 0s 14ms/step - loss: 45.6933 - mean_squared_error: 3587.3612 - val_loss: 45.2834 - val_mean_squared_error: 3699.9441\nEpoch 282/300\n5/5 [==============================] - 0s 13ms/step - loss: 42.2458 - mean_squared_error: 2845.1949 - val_loss: 45.2636 - val_mean_squared_error: 3691.1965\nEpoch 283/300\n5/5 [==============================] - 0s 12ms/step - loss: 44.0694 - mean_squared_error: 3215.8938 - val_loss: 45.2771 - val_mean_squared_error: 3684.2473\nEpoch 284/300\n5/5 [==============================] - 0s 18ms/step - loss: 44.2870 - mean_squared_error: 3316.1283 - val_loss: 45.3027 - val_mean_squared_error: 3678.1841\nEpoch 285/300\n5/5 [==============================] - 0s 13ms/step - loss: 45.7622 - mean_squared_error: 3379.6970 - val_loss: 45.3104 - val_mean_squared_error: 3672.0342\nEpoch 286/300\n5/5 [==============================] - 0s 13ms/step - loss: 40.5171 - mean_squared_error: 2950.5925 - val_loss: 45.3291 - val_mean_squared_error: 3671.1689\nEpoch 287/300\n5/5 [==============================] - 0s 12ms/step - loss: 43.0622 - mean_squared_error: 3199.4737 - val_loss: 45.3034 - val_mean_squared_error: 3672.2258\nEpoch 288/300\n5/5 [==============================] - 0s 15ms/step - loss: 47.9293 - mean_squared_error: 3652.4314 - val_loss: 45.2632 - val_mean_squared_error: 3668.6172\nEpoch 289/300\n5/5 [==============================] - 0s 13ms/step - loss: 47.0783 - mean_squared_error: 3668.6880 - val_loss: 45.2718 - val_mean_squared_error: 3663.2673\nEpoch 290/300\n5/5 [==============================] - 0s 17ms/step - loss: 44.5572 - mean_squared_error: 3229.2270 - val_loss: 45.2691 - val_mean_squared_error: 3658.1885\nEpoch 291/300\n5/5 [==============================] - 0s 18ms/step - loss: 43.7552 - mean_squared_error: 3226.5255 - val_loss: 45.2298 - val_mean_squared_error: 3652.8293\nEpoch 292/300\n5/5 [==============================] - 0s 16ms/step - loss: 44.8121 - mean_squared_error: 3193.4479 - val_loss: 45.2061 - val_mean_squared_error: 3647.2285\nEpoch 293/300\n5/5 [==============================] - 0s 13ms/step - loss: 45.4027 - mean_squared_error: 3420.3326 - val_loss: 45.1836 - val_mean_squared_error: 3641.7715\nEpoch 294/300\n5/5 [==============================] - 0s 13ms/step - loss: 44.3351 - mean_squared_error: 3123.0897 - val_loss: 45.1622 - val_mean_squared_error: 3632.0352\nEpoch 295/300\n5/5 [==============================] - 0s 14ms/step - loss: 42.3101 - mean_squared_error: 3055.6458 - val_loss: 45.1633 - val_mean_squared_error: 3623.4592\nEpoch 296/300\n5/5 [==============================] - 0s 12ms/step - loss: 45.1210 - mean_squared_error: 3319.6741 - val_loss: 45.1544 - val_mean_squared_error: 3619.4978\nEpoch 297/300\n5/5 [==============================] - 0s 13ms/step - loss: 46.4130 - mean_squared_error: 3470.5801 - val_loss: 45.1481 - val_mean_squared_error: 3618.6931\nEpoch 298/300\n5/5 [==============================] - 0s 14ms/step - loss: 43.5007 - mean_squared_error: 3137.6209 - val_loss: 45.1375 - val_mean_squared_error: 3617.1685\nEpoch 299/300\n5/5 [==============================] - 0s 19ms/step - loss: 42.5559 - mean_squared_error: 3013.4334 - val_loss: 45.1246 - val_mean_squared_error: 3615.5972\nEpoch 300/300\n5/5 [==============================] - 0s 14ms/step - loss: 44.1823 - mean_squared_error: 3455.5658 - val_loss: 45.1013 - val_mean_squared_error: 3609.3606\n",
     "output_type": "stream"
    }
   ]
  },
  {
   "cell_type": "markdown",
   "source": "## Errors",
   "metadata": {
    "tags": [],
    "is_collapsed": false,
    "cell_id": "00007-9e48294e-3c0b-433a-bb13-fa69a1194f1a",
    "deepnote_cell_type": "text-cell-h2"
   }
  },
  {
   "cell_type": "code",
   "metadata": {
    "tags": [],
    "cell_id": "00007-a747e77b-7064-4bc1-8cf5-a48c103ab7b8",
    "deepnote_to_be_reexecuted": false,
    "source_hash": "65148c9e",
    "execution_start": 1639138510113,
    "execution_millis": 9,
    "deepnote_cell_type": "code"
   },
   "source": "for model_name in models.keys():\n    print_errors(models[model_name], model_name, X_test, y_test)",
   "execution_count": 5,
   "outputs": [
    {
     "name": "stdout",
     "text": "RMSE (decision tree regressor): 69.59748588943553\nR-squared score (decision tree regressor) : 0.3640695526393021\nRMSE (linear regression): 58.94293390689424\nR-squared score (linear regression) : 0.543872754881746\nRMSE (k-nearest neighbors): 64.45688846172169\nR-squared score (k-nearest neighbors) : 0.4545421586812478\n",
     "output_type": "stream"
    }
   ]
  },
  {
   "cell_type": "markdown",
   "source": "# Intrinsic interpretability",
   "metadata": {
    "tags": [],
    "is_collapsed": false,
    "cell_id": "00012-5c293437-00f2-48b2-b261-9e69efccf6a6",
    "deepnote_cell_type": "text-cell-h1"
   }
  },
  {
   "cell_type": "code",
   "metadata": {
    "tags": [],
    "cell_id": "00014-5eac115b-0026-4476-bdd8-2e6ef0cf758f",
    "deepnote_to_be_reexecuted": false,
    "source_hash": "382e2998",
    "execution_start": 1639064705193,
    "execution_millis": 386,
    "deepnote_output_heights": [
     259
    ],
    "deepnote_cell_type": "code"
   },
   "source": "dtr_feat_imps = models[\"decision tree regressor\"].feature_importances_\n\nlinreg_coefs = models[\"linear regression\"].coef_\nlinreg_feat_imps = np.abs(linreg_coefs) / np.sum(np.abs(linreg_coefs))\n\nfeat_imps = pd.DataFrame({\"decision tree regressor\": dtr_feat_imps, \"linear regression\": linreg_feat_imps}, index=feature_names)\nfeat_imps.plot.bar()\nplt.show()",
   "execution_count": null,
   "outputs": [
    {
     "data": {
      "text/plain": "<Figure size 432x288 with 1 Axes>",
      "image/png": "[encoded data removed]"
     },
     "metadata": {
      "needs_background": "light",
      "image/png": {
       "width": 378,
       "height": 257
      }
     },
     "output_type": "display_data"
    }
   ]
  },
  {
   "cell_type": "markdown",
   "source": "# Partial dependence plot",
   "metadata": {
    "tags": [],
    "is_collapsed": false,
    "cell_id": "00014-c1b3e60c-5337-4bbd-b00a-1c34fbd330a5",
    "deepnote_cell_type": "text-cell-h1"
   }
  },
  {
   "cell_type": "code",
   "metadata": {
    "tags": [],
    "cell_id": "00014-90548af4-d7cd-4ff3-b144-1944e6690421",
    "deepnote_to_be_reexecuted": false,
    "source_hash": "47c3944",
    "execution_start": 1639064705587,
    "deepnote_output_heights": [
     null,
     280,
     280,
     280,
     null,
     280,
     280,
     280,
     null,
     280,
     280,
     280,
     null,
     280,
     280,
     280
    ],
    "execution_millis": 13760,
    "output_cleared": true,
    "deepnote_cell_type": "code"
   },
   "source": "categorical = [False, True, False, False, False, False, False, False, False, False]\n\nfor model_name in models.keys():\n    model = models[model_name]\n    print(model_name)\n\n    for i in range(3): # range(X_test.shape[1]):\n        PDP(i, feature_names[i], model, X_test, y_test, categorical=categorical[i])\n        plt.show()\n        plt.close()",
   "execution_count": null,
   "outputs": []
  },
  {
   "cell_type": "markdown",
   "source": "# SHAP",
   "metadata": {
    "tags": [],
    "is_collapsed": false,
    "cell_id": "00016-3a73a92b-2a4e-42a1-aa53-57e28d06108a",
    "deepnote_cell_type": "text-cell-h1"
   }
  },
  {
   "cell_type": "markdown",
   "source": "## Instance-based interpretation",
   "metadata": {
    "tags": [],
    "is_collapsed": false,
    "cell_id": "00017-ad875742-73d4-42f4-bf23-7f8ec501aa8c",
    "deepnote_cell_type": "text-cell-h2"
   }
  },
  {
   "cell_type": "code",
   "metadata": {
    "tags": [],
    "cell_id": "00017-d8a5f52d-806c-4d37-aedd-c0953dabcd8c",
    "deepnote_to_be_reexecuted": false,
    "source_hash": "e72e39ff",
    "execution_start": 1639065136880,
    "execution_millis": 66,
    "deepnote_output_heights": [
     40.390625
    ],
    "deepnote_cell_type": "code"
   },
   "source": "models[\"neural network\"].predict(X_test[:2])",
   "execution_count": null,
   "outputs": [
    {
     "output_type": "execute_result",
     "execution_count": 12,
     "data": {
      "text/plain": "array([[197.7348 ],\n       [ 96.16026]], dtype=float32)"
     },
     "metadata": {}
    }
   ]
  },
  {
   "cell_type": "code",
   "metadata": {
    "tags": [],
    "cell_id": "00018-bd235fec-b309-4357-919c-5c92491a7691",
    "deepnote_to_be_reexecuted": false,
    "source_hash": "23ccf75c",
    "execution_start": 1639065192442,
    "execution_millis": 253,
    "deepnote_cell_type": "code"
   },
   "source": "explainers = dict()\n\nfor model_name in models.keys():\n  model = models[model_name]\n\n  if model_name == \"neural network\":\n    def nn_predict(X):\n      y_pred = model.predict(X)\n      y_pred = np.reshape(y_pred, X.shape[0])\n      return y_pred\n\n    explainers[model_name] = shap.KernelExplainer(nn_predict, X_train)\n  else:\n    explainers[model_name] = shap.KernelExplainer(model.predict, X_train)",
   "execution_count": null,
   "outputs": [
    {
     "name": "stderr",
     "text": "Using 282 background data samples could cause slower run times. Consider using shap.sample(data, K) or shap.kmeans(data, K) to summarize the background as K samples.\nUsing 282 background data samples could cause slower run times. Consider using shap.sample(data, K) or shap.kmeans(data, K) to summarize the background as K samples.\nUsing 282 background data samples could cause slower run times. Consider using shap.sample(data, K) or shap.kmeans(data, K) to summarize the background as K samples.\nUsing 282 background data samples could cause slower run times. Consider using shap.sample(data, K) or shap.kmeans(data, K) to summarize the background as K samples.\n",
     "output_type": "stream"
    }
   ]
  },
  {
   "cell_type": "code",
   "metadata": {
    "tags": [],
    "cell_id": "00019-88b8132f-e2b2-4e59-b52d-a69722281851",
    "deepnote_to_be_reexecuted": false,
    "source_hash": "a5f80932",
    "execution_start": 1639065387675,
    "execution_millis": 15973,
    "deepnote_output_heights": [
     21.1875,
     250
    ],
    "deepnote_cell_type": "code"
   },
   "source": "idx = 4\nmodel_name = \"neural network\"\n\nX_test_df = pd.DataFrame(X_test, columns=feature_names)\n\nexplainer = explainers[model_name]\nshap_test = explainer.shap_values(X_test_df.iloc[idx])\n\n# PLOT SHAPLEY VALUES IN NORMAL WAY\n\nplt.bar(np.arange(len(feature_names)), shap_test)\n\n# shap.initjs()\n# shap.force_plot(explainer.expected_value, shap_test, X_test_df.iloc[idx])",
   "execution_count": null,
   "outputs": [
    {
     "output_type": "execute_result",
     "execution_count": 25,
     "data": {
      "text/plain": "<BarContainer object of 10 artists>"
     },
     "metadata": {}
    },
    {
     "data": {
      "text/plain": "<Figure size 432x288 with 1 Axes>",
      "image/png": "[encoded data removed]"
     },
     "metadata": {
      "needs_background": "light",
      "image/png": {
       "width": 377,
       "height": 248
      }
     },
     "output_type": "display_data"
    }
   ]
  },
  {
   "cell_type": "markdown",
   "source": "## Global interpretation",
   "metadata": {
    "tags": [],
    "is_collapsed": false,
    "cell_id": "00021-4e0be74a-6dee-4296-9942-a938e0c24b62",
    "deepnote_cell_type": "text-cell-h2"
   }
  },
  {
   "cell_type": "code",
   "metadata": {
    "tags": [],
    "cell_id": "00021-37c179c8-2a8f-460d-aec2-06e0cb67ff94",
    "deepnote_to_be_reexecuted": false,
    "source_hash": "412ef9f7",
    "execution_start": 1639065491986,
    "execution_millis": 163430,
    "deepnote_cell_type": "code"
   },
   "source": "shap_values_all = dict()\nX_test_df = pd.DataFrame(X_test, columns=feature_names)\n\nfor model_name in models.keys():\n    print(model_name)\n    explainer = explainers[model_name]\n\n    shap_values = explainer.shap_values(X_test_df.iloc[:7])\n    shap_values_all[model_name] = shap_values",
   "execution_count": null,
   "outputs": [
    {
     "name": "stdout",
     "text": "decision tree regressor\n",
     "output_type": "stream"
    },
    {
     "data": {
      "text/plain": "  0%|          | 0/7 [00:00<?, ?it/s]",
      "application/vnd.jupyter.widget-view+json": {
       "version_major": 2,
       "version_minor": 0,
       "model_id": "d39e2b5df42e442bbd8623772cabc64b"
      }
     },
     "metadata": {},
     "output_type": "display_data"
    },
    {
     "name": "stdout",
     "text": "linear regression\n",
     "output_type": "stream"
    },
    {
     "data": {
      "text/plain": "  0%|          | 0/7 [00:00<?, ?it/s]",
      "application/vnd.jupyter.widget-view+json": {
       "version_major": 2,
       "version_minor": 0,
       "model_id": "7309132798064cd39e9d0f357449ed17"
      }
     },
     "metadata": {},
     "output_type": "display_data"
    },
    {
     "name": "stdout",
     "text": "k-nearest neighbors\n",
     "output_type": "stream"
    },
    {
     "data": {
      "text/plain": "  0%|          | 0/7 [00:00<?, ?it/s]",
      "application/vnd.jupyter.widget-view+json": {
       "version_major": 2,
       "version_minor": 0,
       "model_id": "5445515c019c475092c0c589a749b448"
      }
     },
     "metadata": {},
     "output_type": "display_data"
    },
    {
     "name": "stdout",
     "text": "neural network\n",
     "output_type": "stream"
    },
    {
     "data": {
      "text/plain": "  0%|          | 0/7 [00:00<?, ?it/s]",
      "application/vnd.jupyter.widget-view+json": {
       "version_major": 2,
       "version_minor": 0,
       "model_id": "49d5fac7e7304782b0b9e45c951b0456"
      }
     },
     "metadata": {},
     "output_type": "display_data"
    }
   ]
  },
  {
   "cell_type": "code",
   "metadata": {
    "tags": [],
    "cell_id": "00023-36edfc47-df97-4895-bac0-477633df0668",
    "deepnote_to_be_reexecuted": false,
    "source_hash": "751b1164",
    "execution_start": 1639065655427,
    "execution_millis": 5,
    "deepnote_cell_type": "code"
   },
   "source": "shapley_feat_imps = pd.DataFrame(index=feature_names)\n\nfor model_name in models.keys():\n  shap_values = shap_values_all[model_name]\n  feat_imps = np.mean(np.abs(shap_values), axis=0)\n  feat_imps /= np.sum(feat_imps)\n  shapley_feat_imps.insert(0, model_name, feat_imps)",
   "execution_count": null,
   "outputs": []
  },
  {
   "cell_type": "code",
   "metadata": {
    "tags": [],
    "cell_id": "00024-2f1af9bc-36d4-40e2-a89b-01dea43876e5",
    "deepnote_to_be_reexecuted": false,
    "source_hash": "f93fc232",
    "execution_start": 1639065655446,
    "execution_millis": 527,
    "deepnote_output_heights": [
     259
    ],
    "deepnote_cell_type": "code"
   },
   "source": "shapley_feat_imps.plot.bar()\nplt.show()",
   "execution_count": null,
   "outputs": [
    {
     "data": {
      "text/plain": "<Figure size 432x288 with 1 Axes>",
      "image/png": "[encoded data removed]"
     },
     "metadata": {
      "needs_background": "light",
      "image/png": {
       "width": 378,
       "height": 257
      }
     },
     "output_type": "display_data"
    }
   ]
  },
  {
   "cell_type": "markdown",
   "source": "# Counterfactuals",
   "metadata": {
    "tags": [],
    "is_collapsed": false,
    "cell_id": "00025-f6097a5a-cd13-425f-a788-7c9de75c4f10",
    "deepnote_cell_type": "text-cell-h1"
   }
  },
  {
   "cell_type": "code",
   "metadata": {
    "tags": [],
    "cell_id": "00025-a16aee14-6846-495b-a5ca-4a1f5e8cb9fd",
    "deepnote_to_be_reexecuted": false,
    "source_hash": "5525ef12",
    "execution_start": 1639138520917,
    "execution_millis": 1,
    "deepnote_cell_type": "code"
   },
   "source": "categorical = [False, True, False, False, False, False, False, False, False, False] # meegeven bij preprocessing module\ncategorical_values = list()\n\nfor i in range(len(feature_names)):\n  if categorical[i]:\n    categorical_values.append(np.unique(X_train[:, i]))\n  else:\n    categorical_values.append(None)",
   "execution_count": 6,
   "outputs": []
  },
  {
   "cell_type": "code",
   "metadata": {
    "tags": [],
    "cell_id": "00027-24d57512-7c9f-474f-8d9e-dbdb3aa080a4",
    "deepnote_to_be_reexecuted": false,
    "source_hash": "9bcd97b5",
    "execution_start": 1639138525398,
    "execution_millis": 3,
    "deepnote_cell_type": "code"
   },
   "source": "def postproces_nn(y_pred_nn):\n  return np.reshape(y_pred_nn, y_pred_nn.shape[0])",
   "execution_count": 7,
   "outputs": []
  },
  {
   "cell_type": "code",
   "source": "print(model.predict(X_test))",
   "metadata": {
    "tags": [],
    "cell_id": "00029-bcf136c5-ed3f-4c2c-85f3-327d8feb832b",
    "deepnote_to_be_reexecuted": false,
    "source_hash": "87f6f2f0",
    "execution_start": 1639138672466,
    "execution_millis": 10,
    "deepnote_cell_type": "code"
   },
   "outputs": [
    {
     "name": "stdout",
     "text": "[213.94006129 100.35461183 122.16133058 179.34727178 129.10358991\n  80.74110797  99.99157389 212.6901091  196.83151573 100.88297703\n 235.88384761 163.6078187   95.94159925 102.83230327  93.82090132\n 124.46788423 146.85834065 144.44500219 134.17486577 211.13983663\n 172.08890219 163.97225735 202.56083849 120.78415226 143.43128374\n 228.89230304 117.96205498 254.63532797  50.85889278 123.33236078\n 108.84425003 209.0830146  153.44954168  85.90091572 147.83237593\n 281.14773569  70.99984287 106.66175049 230.16964391 220.49281315\n 114.3400661  150.53826906 154.71762008  99.10684691 236.96850735\n 118.16720995 110.25178335  60.76732173 134.30243832 227.29046351\n  67.51578801 184.21706593 143.79948683 130.51489768 171.73493777\n 235.05741856 206.16660359 150.51035358 136.35650993 225.81601465\n 202.53719899 207.27382307 185.46578733 256.66968436 174.66469766\n 142.7184409  176.49708969 166.59824806 261.66380458 137.52044732\n 114.07163319 201.98969536 107.06816664 142.51406961 207.25806532\n 202.21869633 227.85360709  78.3793849  233.54295894  54.05620858\n 215.7705305  117.79787338 187.66933284 247.29627872 120.40026207\n 152.63090127 189.79229919 257.22178921 143.93366791]\n",
     "output_type": "stream"
    }
   ],
   "execution_count": 10
  },
  {
   "cell_type": "code",
   "metadata": {
    "tags": [],
    "cell_id": "00029-7dc44159-5b8d-47cf-8342-4e7e2c265acd",
    "deepnote_to_be_reexecuted": false,
    "source_hash": "1b65ae23",
    "execution_start": 1639139233311,
    "execution_millis": 615219,
    "deepnote_cell_type": "code"
   },
   "source": "instance_idx = 0\nn_counterfactuals = 10\nupdate_time = 5000\nmodel_name = \"decision tree regressor\" \n# features_to_vary = categorical\nfeatures_to_vary = [True] * len(feature_names)\n# features_to_vary = [True, True, True, True, False, False, False, False, False, False]\nlimit_varied_features = True\ngoal_pred = 70.0\nalpha = 1.0\ntol = 2.0\n\nmodel = models[model_name]\n\nnp.random.seed(seed)\n\ninstance = X_test[instance_idx]\ninstance = np.reshape(instance, (1, len(feature_names)))\noriginal_pred = model.predict(instance)[0]\nprint(f\"Original prediction: {original_pred}\")\n\ncounterfactuals = instance * np.ones((n_counterfactuals, len(feature_names)))\ncounterfactual_losses = np.ones(n_counterfactuals) * 100\n\nupdate_counter = 0\ntotal_counter = 0\n\nwhile update_counter < update_time:\n  counterfactual_found = False\n  counter = 0\n  prev_instance = np.copy(instance)\n\n  while counter < 100 and not counterfactual_found:\n    # Change a feature value randomly\n    feature_idx = np.random.randint(len(feature_names))\n\n    while not features_to_vary[feature_idx]:\n      feature_idx = np.random.randint(len(feature_names))\n\n    if categorical[feature_idx]:\n      new_value = np.random.choice(categorical_values[feature_idx])\n    else:\n      minimum_value = np.min(X_train[:,feature_idx]) # extend this range\n      maximum_value = np.max(X_train[:,feature_idx])\n      new_value = np.random.random() * (maximum_value - minimum_value) + minimum_value\n    \n    new_instance = np.copy(prev_instance)\n    new_instance[:,feature_idx] = new_value\n\n    # Make a new prediction\n    new_pred = model.predict(new_instance)[0]\n    \n    # Check if new instance is a counterfactual\n    if new_pred > goal_pred - tol and new_pred < goal_pred + tol:\n      counterfactual_found = True\n      counterfactual_loss = np.sum(np.abs(new_instance - instance)) + alpha * np.abs(new_pred - goal_pred)\n\n      # Check if counterfactual already in the set\n      # not (new_instance == counterfactuals).all(axis=1).any()\n\n      # Standard counterfactual to replace is the one with the biggest loss value\n      idx_to_replace = np.argmax(counterfactual_losses)\n\n      # If varied features are limited we replace the instance with the same\n      # varied features\n      if limit_varied_features:\n        counterfactuals_varied_features = ((counterfactuals - instance) != 0.0)\n        varied_features = ((new_instance - instance) != 0.0)\n      \n        counterfactuals_with_same_varied_features = (varied_features == counterfactuals_varied_features).all(axis=1)\n\n        if counterfactuals_with_same_varied_features.any():\n          idx_to_replace = np.where(counterfactuals_with_same_varied_features)\n      \n      # Check if new loss value is smaller than the one we want to replace\n      if counterfactual_loss < counterfactual_losses[idx_to_replace]:\n        # Replace counterfactual in set with found instance\n        counterfactuals[idx_to_replace] = new_instance\n        counterfactual_losses[idx_to_replace] = counterfactual_loss\n        \n        print(\"---------------------------------------------------------------\")\n        print(f\"Counts total: {total_counter}\")\n        print(f\"Counts since last update: {update_counter}\")\n        print(f\"Counterfactual losses: {counterfactual_losses}\")\n\n        update_counter = 0\n    \n    prev_instance = np.copy(new_instance)\n\n    counter += 1\n    \n  update_counter += 1\n  total_counter += 1\n\nprint(\"---------------------------------------------------------------\")\nprint(f\"Total counts: {total_counter}\")\nprint(f\"Counts since last update: {update_counter}\")\n\nsort_indices = np.argsort(counterfactual_losses)\ncounterfactual_losses = counterfactual_losses[sort_indices]\ncounterfactuals = counterfactuals[sort_indices]\n\n# Niet counterfactuals eruit halen eventueel\n\nprint(f\"Counterfactual_losses: {counterfactual_losses}\")",
   "execution_count": 16,
   "outputs": [
    {
     "name": "stdout",
     "text": "Original prediction: 211.3\n---------------------------------------------------------------\nCounts total: 9\nCounts since last update: 9\nCounterfactual losses: [ 16.03380867 100.         100.         100.         100.\n 100.         100.         100.         100.         100.        ]\n---------------------------------------------------------------\nCounts total: 69\nCounts since last update: 60\nCounterfactual losses: [ 16.03380867  17.05669266 100.         100.         100.\n 100.         100.         100.         100.         100.        ]\n---------------------------------------------------------------\nCounts total: 437\nCounts since last update: 368\nCounterfactual losses: [ 16.03380867  15.43966731 100.         100.         100.\n 100.         100.         100.         100.         100.        ]\n---------------------------------------------------------------\nCounts total: 579\nCounts since last update: 142\nCounterfactual losses: [ 14.53946325  15.43966731 100.         100.         100.\n 100.         100.         100.         100.         100.        ]\n---------------------------------------------------------------\nCounts total: 593\nCounts since last update: 14\nCounterfactual losses: [ 14.53946325  12.27759047 100.         100.         100.\n 100.         100.         100.         100.         100.        ]\n---------------------------------------------------------------\nCounts total: 606\nCounts since last update: 13\nCounterfactual losses: [ 14.53946325  12.27759047  17.56372799 100.         100.\n 100.         100.         100.         100.         100.        ]\n---------------------------------------------------------------\nCounts total: 1169\nCounts since last update: 563\nCounterfactual losses: [ 14.53946325  12.27759047  17.56372799  18.88387518 100.\n 100.         100.         100.         100.         100.        ]\n---------------------------------------------------------------\nCounts total: 1188\nCounts since last update: 19\nCounterfactual losses: [ 14.53946325  12.27759047  17.56372799  18.88387518  14.2736103\n 100.         100.         100.         100.         100.        ]\n---------------------------------------------------------------\nCounts total: 1922\nCounts since last update: 734\nCounterfactual losses: [ 14.48476363  12.27759047  17.56372799  18.88387518  14.2736103\n 100.         100.         100.         100.         100.        ]\n---------------------------------------------------------------\nCounts total: 2566\nCounts since last update: 644\nCounterfactual losses: [ 14.48476363  12.27759047  17.56372799  18.88387518  14.24345396\n 100.         100.         100.         100.         100.        ]\n---------------------------------------------------------------\nCounts total: 2649\nCounts since last update: 83\nCounterfactual losses: [ 14.48476363  12.27759047  17.56372799  18.88387518  14.24345396\n  16.74533324 100.         100.         100.         100.        ]\n---------------------------------------------------------------\nCounts total: 3026\nCounts since last update: 377\nCounterfactual losses: [ 14.48476363  12.27759047  17.56372799  16.71593235  14.24345396\n  16.74533324 100.         100.         100.         100.        ]\n---------------------------------------------------------------\nCounts total: 3861\nCounts since last update: 835\nCounterfactual losses: [ 14.48476363  12.27759047  17.56372799  16.71593235  14.24345396\n  16.74533324  17.357063   100.         100.         100.        ]\n---------------------------------------------------------------\nCounts total: 4223\nCounts since last update: 362\nCounterfactual losses: [ 13.76515411  12.27759047  17.56372799  16.71593235  14.24345396\n  16.74533324  17.357063   100.         100.         100.        ]\n---------------------------------------------------------------\nCounts total: 5629\nCounts since last update: 1406\nCounterfactual losses: [ 13.00504264  12.27759047  17.56372799  16.71593235  14.24345396\n  16.74533324  17.357063   100.         100.         100.        ]\n---------------------------------------------------------------\nCounts total: 6008\nCounts since last update: 379\nCounterfactual losses: [ 13.00504264  12.27759047  17.56372799  14.77319198  14.24345396\n  16.74533324  17.357063   100.         100.         100.        ]\n---------------------------------------------------------------\nCounts total: 6183\nCounts since last update: 175\nCounterfactual losses: [ 13.00504264  12.27759047  17.56372799  14.77319198  14.24345396\n  14.24745578  17.357063   100.         100.         100.        ]\n---------------------------------------------------------------\nCounts total: 6260\nCounts since last update: 77\nCounterfactual losses: [ 13.00504264  12.27759047  17.56372799  14.77319198  14.24345396\n  14.24745578  14.03156027 100.         100.         100.        ]\n---------------------------------------------------------------\nCounts total: 8082\nCounts since last update: 1822\nCounterfactual losses: [ 13.00504264  12.27759047  17.56372799  14.77319198  14.24345396\n  14.24745578  12.32158107 100.         100.         100.        ]\n---------------------------------------------------------------\nCounts total: 10476\nCounts since last update: 2394\nCounterfactual losses: [ 12.50604194  12.27759047  17.56372799  14.77319198  14.24345396\n  14.24745578  12.32158107 100.         100.         100.        ]\n---------------------------------------------------------------\nCounts total: 10730\nCounts since last update: 254\nCounterfactual losses: [ 12.50604194  10.35599556  17.56372799  14.77319198  14.24345396\n  14.24745578  12.32158107 100.         100.         100.        ]\n---------------------------------------------------------------\nCounts total: 11668\nCounts since last update: 938\nCounterfactual losses: [ 12.50604194  10.35599556  17.56372799  14.77319198  14.24345396\n  14.24745578  12.32158107  13.16618997 100.         100.        ]\n---------------------------------------------------------------\nCounts total: 12110\nCounts since last update: 442\nCounterfactual losses: [ 12.50604194  10.35599556  17.56372799  13.12196908  14.24345396\n  14.24745578  12.32158107  13.16618997 100.         100.        ]\n---------------------------------------------------------------\nCounts total: 16341\nCounts since last update: 4231\nCounterfactual losses: [ 12.50604194  10.35599556  17.56372799  13.12196908  14.24345396\n  14.24745578  12.32158107  12.97957335 100.         100.        ]\n---------------------------------------------------------------\nCounts total: 18915\nCounts since last update: 2574\nCounterfactual losses: [ 12.50604194  10.35599556  17.56372799  13.12196908  14.24345396\n  13.69537598  12.32158107  12.97957335 100.         100.        ]\n---------------------------------------------------------------\nCounts total: 20122\nCounts since last update: 1207\nCounterfactual losses: [ 12.50604194  10.35599556  17.56372799  13.12196908  14.24345396\n  13.39355836  12.32158107  12.97957335 100.         100.        ]\n---------------------------------------------------------------\nCounts total: 20472\nCounts since last update: 350\nCounterfactual losses: [ 12.50604194  10.35599556  17.56372799  12.9305866   14.24345396\n  13.39355836  12.32158107  12.97957335 100.         100.        ]\n---------------------------------------------------------------\nCounts total: 24258\nCounts since last update: 3786\nCounterfactual losses: [ 12.50604194  10.35599556  17.56372799  12.68050117  14.24345396\n  13.39355836  12.32158107  12.97957335 100.         100.        ]\n---------------------------------------------------------------\nCounts total: 26236\nCounts since last update: 1978\nCounterfactual losses: [ 12.50604194  10.35599556  17.56372799  11.13776148  14.24345396\n  13.39355836  12.32158107  12.97957335 100.         100.        ]\n---------------------------------------------------------------\nTotal counts: 31236\nCounts since last update: 5000\nCounterfactual_losses: [ 10.35599556  11.13776148  12.32158107  12.50604194  12.97957335\n  13.39355836  14.24345396  17.56372799 100.         100.        ]\n",
     "output_type": "stream"
    }
   ]
  },
  {
   "cell_type": "code",
   "source": "",
   "metadata": {
    "tags": [],
    "cell_id": "00032-f448b21e-288b-4251-b9a8-e89bb7a917d7",
    "deepnote_cell_type": "code"
   },
   "outputs": [],
   "execution_count": null
  },
  {
   "cell_type": "markdown",
   "source": "<a style='text-decoration:none;line-height:16px;display:flex;color:#5B5B62;padding:10px;justify-content:end;' href='https://deepnote.com?utm_source=created-in-deepnote-cell&projectId=90a57419-7b7b-4aa4-8a97-858f9f98a849' target=\"_blank\">\n<img alt='Created in deepnote.com' style='display:inline;max-height:16px;margin:0px;margin-right:7.5px;' src='data:image/svg+xml;base64,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' > </img>\nCreated in <span style='font-weight:600;margin-left:4px;'>Deepnote</span></a>",
   "metadata": {
    "tags": [],
    "created_in_deepnote_cell": true,
    "deepnote_cell_type": "markdown"
   }
  }
 ],
 "nbformat": 4,
 "nbformat_minor": 2,
 "metadata": {
  "orig_nbformat": 2,
  "deepnote": {
   "is_reactive": false
  },
  "deepnote_notebook_id": "c772793d-03ac-46d6-8df3-744c557bc987",
  "deepnote_execution_queue": []
 }
}