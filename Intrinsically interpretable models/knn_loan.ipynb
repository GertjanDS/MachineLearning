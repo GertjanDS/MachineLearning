{
 "cells": [
  {
   "cell_type": "code",
   "metadata": {
    "tags": [],
    "cell_id": "00000-0b63c229-e07c-4c8c-8773-3c31b513189d",
    "deepnote_to_be_reexecuted": false,
    "source_hash": "ba2caa1e",
    "execution_start": 1636654444936,
    "execution_millis": 1672,
    "deepnote_cell_type": "code"
   },
   "source": "import numpy as np\nimport matplotlib.pyplot as plt\nimport pandas as pd\n\nfrom sklearn import datasets, metrics\nfrom sklearn.model_selection import train_test_split\nfrom sklearn.neighbors import KNeighborsClassifier",
   "execution_count": null,
   "outputs": []
  },
  {
   "cell_type": "code",
   "metadata": {
    "tags": [],
    "cell_id": "00001-5a89fbbc-c129-4ce6-9592-0770432370a3",
    "deepnote_to_be_reexecuted": false,
    "source_hash": "d29b9095",
    "execution_start": 1636654446615,
    "execution_millis": 39,
    "deepnote_cell_type": "code"
   },
   "source": "def test_model(X_train, y_train, X_test, y_test, model):\n    model.fit(X_train, y_train)\n    y_pred = model.predict(X_test)\n    bal_acc = metrics.balanced_accuracy_score(y_test, y_pred)\n    print(\"Balanced accuracy: {}\".format(bal_acc))\n    print_metrics(y_pred, y_test)\n\n\n\n# Calculates the per-class accuracy given predicted and true output labels.\ndef class_accs(y_pred, y_true):\n    acc0 = ((y_pred == y_true) & (y_true == 0)).sum() / (y_true == 0).sum()\n    acc1 = ((y_pred == y_true) & (y_true == 1)).sum() / (y_true == 1).sum()\n    return acc0, acc1\n\n# Prints a summary of performance metrics given predicted and true output labels.\ndef print_metrics(y_pred, y_true):\n    f1 = metrics.f1_score(y_true, y_pred)\n    acc = metrics.accuracy_score(y_true, y_pred)\n    acc0, acc1 = class_accs(y_pred, y_true)\n    print(f'\\tF1 = {f1}')\n    print(f'\\tAccuracy = {acc}')\n    print(f'\\t\\tclass 0: {acc0}')\n    print(f'\\t\\tclass 1: {acc1}')",
   "execution_count": null,
   "outputs": []
  },
  {
   "cell_type": "code",
   "metadata": {
    "tags": [],
    "cell_id": "00002-5c096d4e-4a31-41f0-9c9e-11b78ade1f0d",
    "deepnote_to_be_reexecuted": false,
    "source_hash": "c860adfa",
    "execution_start": 1636654446666,
    "execution_millis": 77,
    "deepnote_cell_type": "code"
   },
   "source": "# Import data and make it nice (see notebook data_exploration_loan.ipynb)\n\ndf = pd.read_csv('../loan_data_set.csv')\n\ndf = df.drop(\"Loan_ID\", axis=1)\n\ndf = df.dropna(axis=0)\n\nd1 = {\"Y\": 1, \"N\": 0}\nd2 = {\"Yes\": 1, \"No\": 0}\nd3 = {\"Male\": 1, \"Female\": 0}\nd4 = {\"0\": 0, \"1\": 1, \"2\": 2, \"3+\": 3}\nd5 = {\"Graduate\": 1, \"Not Graduate\": 0}\nd6 = {\"Rural\": 0, \"Semiurban\": 0.5, \"Urban\": 1}\n\ncleanup_nums = {\"Loan_Status\": d1, \"Married\": d2, \"Self_Employed\": d2, \"Gender\": d3,\n\"Dependents\": d4, \"Education\": d5, \"Property_Area\": d6}\n\ndf.replace(cleanup_nums, inplace=True)",
   "execution_count": null,
   "outputs": []
  },
  {
   "cell_type": "code",
   "metadata": {
    "tags": [],
    "cell_id": "00003-e8dce6ee-9753-4b2c-bfde-a6c1e71df5a8",
    "deepnote_to_be_reexecuted": false,
    "source_hash": "94da0f42",
    "execution_start": 1636654446750,
    "execution_millis": 15,
    "deepnote_cell_type": "code"
   },
   "source": "# Convert everything to array\nX = df.values[:,:-1]\ny = df.values[:,-1]\nfeature_names = df.columns[:-1]",
   "execution_count": null,
   "outputs": []
  },
  {
   "cell_type": "code",
   "metadata": {
    "tags": [],
    "cell_id": "00004-fd7a23a0-84f3-4814-9269-2724c80350e1",
    "deepnote_to_be_reexecuted": false,
    "source_hash": "961b0cd9",
    "execution_start": 1636654446772,
    "execution_millis": 14,
    "deepnote_cell_type": "code"
   },
   "source": "seed = 1998\n\nX_train, X_test, y_train, y_test = train_test_split(X, y, random_state=seed)",
   "execution_count": null,
   "outputs": []
  },
  {
   "cell_type": "code",
   "metadata": {
    "tags": [],
    "cell_id": "00005-c3dd5133-6aa6-4d82-af5d-31ec5acdd957",
    "deepnote_to_be_reexecuted": false,
    "source_hash": "1862e6ed",
    "execution_start": 1636654446796,
    "execution_millis": 9,
    "deepnote_cell_type": "code"
   },
   "source": "def knn(x_train, y_train, x_test, y_test,n):\n    n_range = range(1, n)\n    results = []\n    for n in n_range:\n        knn = KNeighborsClassifier(n_neighbors=n)\n        knn.fit(x_train, y_train)\n        #Predict the response for test dataset\n        predict_y = knn.predict(x_test)\n        accuracy = metrics.accuracy_score(y_test, predict_y)\n        #matrix = confusion_matrix(y_test,predict_y)\n        #seaborn_matrix = sns.heatmap(matrix, annot = True, cmap=\"Blues\",cbar=True)\n        results.append(accuracy)\n        print(f\"Results for model with K = {n}\")\n        test_model(x_train, y_train, x_test, y_test, knn)\n    return results",
   "execution_count": null,
   "outputs": []
  },
  {
   "cell_type": "code",
   "metadata": {
    "tags": [],
    "cell_id": "00006-8c4c22b6-7dc4-488a-b9d7-c5639590a13d",
    "deepnote_to_be_reexecuted": false,
    "source_hash": "ceb3b88e",
    "execution_start": 1636654623099,
    "execution_millis": 1287,
    "deepnote_cell_type": "code"
   },
   "source": "output = knn(X_train, y_train, X_test, y_test, 20)\nn_range = range(1,20)\n\nplt.plot(n_range, output)",
   "execution_count": null,
   "outputs": [
    {
     "name": "stdout",
     "text": "Results for model with K = 1\nBalanced accuracy: 0.5125038592158073\n\tF1 = 0.675\n\tAccuracy = 0.5666666666666667\n\t\tclass 0: 0.34146341463414637\n\t\tclass 1: 0.6835443037974683\nResults for model with K = 2\nBalanced accuracy: 0.5580426057425132\n\tF1 = 0.5925925925925926\n\tAccuracy = 0.5416666666666666\n\t\tclass 0: 0.6097560975609756\n\t\tclass 1: 0.5063291139240507\nResults for model with K = 3\nBalanced accuracy: 0.4827107131830812\n\tF1 = 0.6826347305389221\n\tAccuracy = 0.5583333333333333\n\t\tclass 0: 0.24390243902439024\n\t\tclass 1: 0.7215189873417721\nResults for model with K = 4\nBalanced accuracy: 0.5165174436554493\n\tF1 = 0.6164383561643836\n\tAccuracy = 0.5333333333333333\n\t\tclass 0: 0.4634146341463415\n\t\tclass 1: 0.569620253164557\nResults for model with K = 5\nBalanced accuracy: 0.5026242667489966\n\tF1 = 0.7272727272727272\n\tAccuracy = 0.6\n\t\tclass 0: 0.1951219512195122\n\t\tclass 1: 0.810126582278481\nResults for model with K = 6\nBalanced accuracy: 0.5382834208088917\n\tF1 = 0.7185628742514971\n\tAccuracy = 0.6083333333333333\n\t\tclass 0: 0.3170731707317073\n\t\tclass 1: 0.759493670886076\nResults for model with K = 7\nBalanced accuracy: 0.49629515282494596\n\tF1 = 0.7200000000000001\n\tAccuracy = 0.5916666666666667\n\t\tclass 0: 0.1951219512195122\n\t\tclass 1: 0.7974683544303798\nResults for model with K = 8\nBalanced accuracy: 0.5138931769064526\n\tF1 = 0.7100591715976332\n\tAccuracy = 0.5916666666666667\n\t\tclass 0: 0.2682926829268293\n\t\tclass 1: 0.759493670886076\nResults for model with K = 9\nBalanced accuracy: 0.509416486569929\n\tF1 = 0.7444444444444445\n\tAccuracy = 0.6166666666666667\n\t\tclass 0: 0.17073170731707318\n\t\tclass 1: 0.8481012658227848\nResults for model with K = 10\nBalanced accuracy: 0.47777091694967583\n\tF1 = 0.7085714285714286\n\tAccuracy = 0.575\n\t\tclass 0: 0.17073170731707318\n\t\tclass 1: 0.7848101265822784\nResults for model with K = 11\nBalanced accuracy: 0.5157456004939797\n\tF1 = 0.7513812154696132\n\tAccuracy = 0.625\n\t\tclass 0: 0.17073170731707318\n\t\tclass 1: 0.8607594936708861\nResults for model with K = 12\nBalanced accuracy: 0.5279407224451992\n\tF1 = 0.7555555555555555\n\tAccuracy = 0.6333333333333333\n\t\tclass 0: 0.1951219512195122\n\t\tclass 1: 0.8607594936708861\nResults for model with K = 13\nBalanced accuracy: 0.5230009262117938\n\tF1 = 0.7765957446808511\n\tAccuracy = 0.65\n\t\tclass 0: 0.12195121951219512\n\t\tclass 1: 0.9240506329113924\nResults for model with K = 14\nBalanced accuracy: 0.5410620561901821\n\tF1 = 0.7783783783783783\n\tAccuracy = 0.6583333333333333\n\t\tclass 0: 0.17073170731707318\n\t\tclass 1: 0.9113924050632911\nResults for model with K = 15\nBalanced accuracy: 0.511268910157456\n\tF1 = 0.78125\n\tAccuracy = 0.65\n\t\tclass 0: 0.07317073170731707\n\t\tclass 1: 0.9493670886075949\nResults for model with K = 16\nBalanced accuracy: 0.5108058042605743\n\tF1 = 0.7724867724867727\n\tAccuracy = 0.6416666666666667\n\t\tclass 0: 0.0975609756097561\n\t\tclass 1: 0.9240506329113924\nResults for model with K = 17\nBalanced accuracy: 0.5054029021302872\n\tF1 = 0.7835051546391752\n\tAccuracy = 0.65\n\t\tclass 0: 0.04878048780487805\n\t\tclass 1: 0.9620253164556962\nResults for model with K = 18\nBalanced accuracy: 0.4990737882062365\n\tF1 = 0.7772020725388601\n\tAccuracy = 0.6416666666666667\n\t\tclass 0: 0.04878048780487805\n\t\tclass 1: 0.9493670886075949\nResults for model with K = 19\nBalanced accuracy: 0.49953689410311825\n\tF1 = 0.7857142857142857\n\tAccuracy = 0.65\n\t\tclass 0: 0.024390243902439025\n\t\tclass 1: 0.9746835443037974\n",
     "output_type": "stream"
    },
    {
     "output_type": "execute_result",
     "execution_count": 8,
     "data": {
      "text/plain": "[<matplotlib.lines.Line2D at 0x7fd09ec40b90>]"
     },
     "metadata": {}
    },
    {
     "data": {
      "text/plain": "<Figure size 432x288 with 1 Axes>",
      "image/png": "[encoded data removed]"
     },
     "metadata": {
      "needs_background": "light",
      "image/png": {
       "width": 378,
       "height": 248
      }
     },
     "output_type": "display_data"
    }
   ]
  },
  {
   "cell_type": "code",
   "metadata": {
    "tags": [],
    "cell_id": "00007-7f1dfa12-82be-4d66-8df8-4b6362ad72e4",
    "deepnote_to_be_reexecuted": false,
    "source_hash": "b623e53d",
    "execution_start": 1636654452159,
    "execution_millis": 2,
    "deepnote_cell_type": "code"
   },
   "source": "",
   "execution_count": null,
   "outputs": []
  },
  {
   "cell_type": "markdown",
   "source": "<a style='text-decoration:none;line-height:16px;display:flex;color:#5B5B62;padding:10px;justify-content:end;' href='https://deepnote.com?utm_source=created-in-deepnote-cell&projectId=5161fece-8ef6-4825-9ea6-16ebba884483' target=\"_blank\">\n<img alt='Created in deepnote.com' style='display:inline;max-height:16px;margin:0px;margin-right:7.5px;' src='data:image/svg+xml;base64,PD94bWwgdmVyc2lvbj0iMS4wIiBlbmNvZGluZz0iVVRGLTgiPz4KPHN2ZyB3aWR0aD0iODBweCIgaGVpZ2h0PSI4MHB4IiB2aWV3Qm94PSIwIDAgODAgODAiIHZlcnNpb249IjEuMSIgeG1sbnM9Imh0dHA6Ly93d3cudzMub3JnLzIwMDAvc3ZnIiB4bWxuczp4bGluaz0iaHR0cDovL3d3dy53My5vcmcvMTk5OS94bGluayI+CiAgICA8IS0tIEdlbmVyYXRvcjogU2tldGNoIDU0LjEgKDc2NDkwKSAtIGh0dHBzOi8vc2tldGNoYXBwLmNvbSAtLT4KICAgIDx0aXRsZT5Hcm91cCAzPC90aXRsZT4KICAgIDxkZXNjPkNyZWF0ZWQgd2l0aCBTa2V0Y2guPC9kZXNjPgogICAgPGcgaWQ9IkxhbmRpbmciIHN0cm9rZT0ibm9uZSIgc3Ryb2tlLXdpZHRoPSIxIiBmaWxsPSJub25lIiBmaWxsLXJ1bGU9ImV2ZW5vZGQiPgogICAgICAgIDxnIGlkPSJBcnRib2FyZCIgdHJhbnNmb3JtPSJ0cmFuc2xhdGUoLTEyMzUuMDAwMDAwLCAtNzkuMDAwMDAwKSI+CiAgICAgICAgICAgIDxnIGlkPSJHcm91cC0zIiB0cmFuc2Zvcm09InRyYW5zbGF0ZSgxMjM1LjAwMDAwMCwgNzkuMDAwMDAwKSI+CiAgICAgICAgICAgICAgICA8cG9seWdvbiBpZD0iUGF0aC0yMCIgZmlsbD0iIzAyNjVCNCIgcG9pbnRzPSIyLjM3NjIzNzYyIDgwIDM4LjA0NzY2NjcgODAgNTcuODIxNzgyMiA3My44MDU3NTkyIDU3LjgyMTc4MjIgMzIuNzU5MjczOSAzOS4xNDAyMjc4IDMxLjY4MzE2ODMiPjwvcG9seWdvbj4KICAgICAgICAgICAgICAgIDxwYXRoIGQ9Ik0zNS4wMDc3MTgsODAgQzQyLjkwNjIwMDcsNzYuNDU0OTM1OCA0Ny41NjQ5MTY3LDcxLjU0MjI2NzEgNDguOTgzODY2LDY1LjI2MTk5MzkgQzUxLjExMjI4OTksNTUuODQxNTg0MiA0MS42NzcxNzk1LDQ5LjIxMjIyODQgMjUuNjIzOTg0Niw0OS4yMTIyMjg0IEMyNS40ODQ5Mjg5LDQ5LjEyNjg0NDggMjkuODI2MTI5Niw0My4yODM4MjQ4IDM4LjY0NzU4NjksMzEuNjgzMTY4MyBMNzIuODcxMjg3MSwzMi41NTQ0MjUgTDY1LjI4MDk3Myw2Ny42NzYzNDIxIEw1MS4xMTIyODk5LDc3LjM3NjE0NCBMMzUuMDA3NzE4LDgwIFoiIGlkPSJQYXRoLTIyIiBmaWxsPSIjMDAyODY4Ij48L3BhdGg+CiAgICAgICAgICAgICAgICA8cGF0aCBkPSJNMCwzNy43MzA0NDA1IEwyNy4xMTQ1MzcsMC4yNTcxMTE0MzYgQzYyLjM3MTUxMjMsLTEuOTkwNzE3MDEgODAsMTAuNTAwMzkyNyA4MCwzNy43MzA0NDA1IEM4MCw2NC45NjA0ODgyIDY0Ljc3NjUwMzgsNzkuMDUwMzQxNCAzNC4zMjk1MTEzLDgwIEM0Ny4wNTUzNDg5LDc3LjU2NzA4MDggNTMuNDE4MjY3Nyw3MC4zMTM2MTAzIDUzLjQxODI2NzcsNTguMjM5NTg4NSBDNTMuNDE4MjY3Nyw0MC4xMjg1NTU3IDM2LjMwMzk1NDQsMzcuNzMwNDQwNSAyNS4yMjc0MTcsMzcuNzMwNDQwNSBDMTcuODQzMDU4NiwzNy43MzA0NDA1IDkuNDMzOTE5NjYsMzcuNzMwNDQwNSAwLDM3LjczMDQ0MDUgWiIgaWQ9IlBhdGgtMTkiIGZpbGw9IiMzNzkzRUYiPjwvcGF0aD4KICAgICAgICAgICAgPC9nPgogICAgICAgIDwvZz4KICAgIDwvZz4KPC9zdmc+' > </img>\nCreated in <span style='font-weight:600;margin-left:4px;'>Deepnote</span></a>",
   "metadata": {
    "tags": [],
    "created_in_deepnote_cell": true,
    "deepnote_cell_type": "markdown"
   }
  }
 ],
 "nbformat": 4,
 "nbformat_minor": 2,
 "metadata": {
  "orig_nbformat": 2,
  "deepnote": {
   "is_reactive": false
  },
  "deepnote_notebook_id": "b24e3d69-4181-45d5-821f-43d5ef69ef3b",
  "deepnote_execution_queue": []
 }
}