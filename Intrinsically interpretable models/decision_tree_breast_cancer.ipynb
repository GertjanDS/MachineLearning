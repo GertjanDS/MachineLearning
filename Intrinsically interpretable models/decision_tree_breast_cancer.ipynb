{
 "cells": [
  {
   "cell_type": "markdown",
   "source": "# Pre-processing",
   "metadata": {
    "tags": [],
    "is_collapsed": false,
    "cell_id": "00000-8cb0ee1f-f836-4f09-adaf-cd333936579a",
    "deepnote_cell_type": "text-cell-h1"
   }
  },
  {
   "cell_type": "code",
   "metadata": {
    "tags": [],
    "cell_id": "00000-8883dcbd-a9c6-4f96-8ea8-07447964408c",
    "deepnote_to_be_reexecuted": false,
    "source_hash": "75cca024",
    "execution_start": 1636119588161,
    "execution_millis": 5903,
    "deepnote_cell_type": "code"
   },
   "source": "from sklearn import datasets, tree, metrics\nimport pandas as pd\nimport matplotlib.pyplot as plt\nimport seaborn as sns\nfrom sklearn.preprocessing import StandardScaler\nfrom sklearn.model_selection import KFold, cross_val_score, train_test_split, StratifiedKFold, LeaveOneOut\nimport numpy as np\nfrom sklearn.pipeline import Pipeline",
   "execution_count": null,
   "outputs": []
  },
  {
   "cell_type": "markdown",
   "source": "First we load in the data from sklearn.",
   "metadata": {
    "tags": [],
    "cell_id": "00001-9131535c-17d1-41ba-b59f-282f6cf25118",
    "deepnote_cell_type": "markdown"
   }
  },
  {
   "cell_type": "code",
   "metadata": {
    "tags": [],
    "cell_id": "00001-c0715293-f448-40b6-a5b9-ee9b107bb4a7",
    "deepnote_to_be_reexecuted": false,
    "source_hash": "50f7d7e4",
    "execution_start": 1636119594124,
    "execution_millis": 149,
    "deepnote_cell_type": "code"
   },
   "source": "wisconsin = datasets.load_breast_cancer()\nprint(wisconsin.keys())\nX = wisconsin.data\ny = wisconsin.target",
   "execution_count": null,
   "outputs": [
    {
     "name": "stdout",
     "text": "dict_keys(['data', 'target', 'frame', 'target_names', 'DESCR', 'feature_names', 'filename', 'data_module'])\n",
     "output_type": "stream"
    }
   ]
  },
  {
   "cell_type": "markdown",
   "source": "We take over the functions from the practical to print accuracies.",
   "metadata": {
    "tags": [],
    "cell_id": "00002-1d403f03-bcf5-4199-a88a-27a16f15e0bb",
    "deepnote_cell_type": "markdown"
   }
  },
  {
   "cell_type": "code",
   "metadata": {
    "tags": [],
    "cell_id": "00003-e60e24a6-11bb-4f21-9ffd-99dfab6e327c",
    "deepnote_to_be_reexecuted": false,
    "source_hash": "7470a3a9",
    "execution_start": 1636119594286,
    "execution_millis": 41,
    "deepnote_cell_type": "code"
   },
   "source": "# Calculates the per-class accuracy given predicted and true output labels.\ndef class_accs(y_pred, y_true):\n    acc0 = ((y_pred == y_true) & (y_true == 0)).sum() / (y_true == 0).sum()\n    acc1 = ((y_pred == y_true) & (y_true == 1)).sum() / (y_true == 1).sum()\n    return acc0, acc1\n\n# Prints a summary of performance metrics given predicted and true output labels.\ndef print_metrics(y_pred, y_true):\n    f1 = metrics.f1_score(y_true, y_pred)\n    acc = metrics.accuracy_score(y_true, y_pred)\n    acc0, acc1 = class_accs(y_pred, y_true)\n    print(f'\\tF1 = {f1}')\n    print(f'\\tAccuracy = {acc}')\n    print(f'\\t\\tclass 0: {acc0}')\n    print(f'\\t\\tclass 1: {acc1}')",
   "execution_count": null,
   "outputs": []
  },
  {
   "cell_type": "markdown",
   "source": "# Decision trees",
   "metadata": {
    "tags": [],
    "is_collapsed": false,
    "cell_id": "00006-43d63521-900b-443a-9221-41b4c786bc8b",
    "deepnote_cell_type": "text-cell-h1"
   }
  },
  {
   "cell_type": "markdown",
   "source": "## Simple decision tree",
   "metadata": {
    "tags": [],
    "is_collapsed": false,
    "cell_id": "00007-6613dc9f-cd6f-43ab-8b41-28c3b8b763ae",
    "deepnote_cell_type": "text-cell-h2"
   }
  },
  {
   "cell_type": "markdown",
   "source": "We start with a simple decision tree. We simply split the data set in two and train a tree. Then we print the accuracies.",
   "metadata": {
    "tags": [],
    "cell_id": "00007-b6a5562f-b1c3-4f75-b621-5fc68ebf2904",
    "deepnote_cell_type": "markdown"
   }
  },
  {
   "cell_type": "code",
   "metadata": {
    "tags": [],
    "cell_id": "00003-3e9bdcc2-3141-4b3b-bf59-c0335f03fcdd",
    "deepnote_to_be_reexecuted": false,
    "source_hash": "f1dd9c97",
    "execution_start": 1636120899795,
    "execution_millis": 44,
    "deepnote_cell_type": "code"
   },
   "source": "np.random.seed(2)\n\nX_train = X[:300]\ny_train = y[:300]\nX_test = X[300:]\ny_test = y[300:]\n\ndt = tree.DecisionTreeClassifier()\ndt.fit(X_train, y_train)\ny_pred = dt.predict(X_test)\n\nconf = metrics.confusion_matrix(y_test, y_pred)\nprint(\"Malignant accuracy: {}\".format(conf[0,0] / np.sum(conf[0,:])))\nprint(\"Benign accuracy: {}\".format(conf[1,1] / np.sum(conf[1,:])))\nprint_metrics(y_pred, y_test)\nprint(\"Balanced accuracy: {}\".format(metrics.balanced_accuracy_score(y_test, y_pred)))",
   "execution_count": null,
   "outputs": [
    {
     "name": "stdout",
     "text": "Malignant accuracy: 0.9393939393939394\nBenign accuracy: 0.896551724137931\n\tF1 = 0.9357326478149101\n\tAccuracy = 0.9070631970260223\n\t\tclass 0: 0.9393939393939394\n\t\tclass 1: 0.896551724137931\nBalanced accuracy: 0.9179728317659352\n",
     "output_type": "stream"
    }
   ]
  },
  {
   "cell_type": "markdown",
   "source": "## Plotting the tree",
   "metadata": {
    "tags": [],
    "is_collapsed": false,
    "cell_id": "00010-e59b86ef-fb0a-4801-87d2-e3106c1d1108",
    "deepnote_cell_type": "text-cell-h2"
   }
  },
  {
   "cell_type": "markdown",
   "source": "This cell uses the sklearn train_test_split function. It fits a tree and then plots it. It also prints the feature importances.",
   "metadata": {
    "tags": [],
    "cell_id": "00011-f3085d4b-dd11-4975-9fa5-5335b22f006c",
    "deepnote_cell_type": "markdown"
   }
  },
  {
   "cell_type": "code",
   "metadata": {
    "tags": [],
    "cell_id": "00004-1a77bd82-175e-4a32-bb74-3d8ce4792bd5",
    "deepnote_to_be_reexecuted": false,
    "source_hash": "3d870ab5",
    "execution_start": 1636119594458,
    "execution_millis": 9620,
    "deepnote_cell_type": "code"
   },
   "source": "seed = 5\n\nnp.random.seed(seed)\nX_train, X_test, y_train, y_test = train_test_split(X, y, random_state=seed, stratify=y)\n\ndt = tree.DecisionTreeClassifier()\ndt.fit(X_train, y_train)\ntree.plot_tree(dt, feature_names=wisconsin.feature_names, class_names=[\"malignant\", \"benign\"])\nplt.savefig(\"Decision_tree.png\", dpi=400)\nplt.close()\n\n# kf = KFold(5, shuffle=True, random_state=2)\n# bal_accs = cross_val_score(dt, X, y, cv=kf, scoring=\"balanced_accuracy\")\n# print(\"Balanced accuracy: {}\".format(np.mean(bal_accs)))\n\nimportances = pd.DataFrame(zip(wisconsin.feature_names, dt.feature_importances_), columns=['Feature', 'Importance'])\nimportances.sort_values(by = 'Importance', ascending = False).head(30)",
   "execution_count": null,
   "outputs": [
    {
     "output_type": "execute_result",
     "execution_count": 5,
     "data": {
      "application/vnd.deepnote.dataframe.v2+json": {
       "row_count": 30,
       "column_count": 2,
       "columns": [
        {
         "name": "Feature",
         "dtype": "object",
         "stats": {
          "unique_count": 30,
          "nan_count": 0,
          "categories": [
           {
            "name": "worst perimeter",
            "count": 1
           },
           {
            "name": "worst concave points",
            "count": 1
           },
           {
            "name": "28 others",
            "count": 28
           }
          ]
         }
        },
        {
         "name": "Importance",
         "dtype": "float64",
         "stats": {
          "unique_count": 8,
          "nan_count": 0,
          "min": "0.0",
          "max": "0.7030970008973043",
          "histogram": [
           {
            "bin_start": 0,
            "bin_end": 0.07030970008973043,
            "count": 28
           },
           {
            "bin_start": 0.07030970008973043,
            "bin_end": 0.14061940017946087,
            "count": 0
           },
           {
            "bin_start": 0.14061940017946087,
            "bin_end": 0.21092910026919132,
            "count": 1
           },
           {
            "bin_start": 0.21092910026919132,
            "bin_end": 0.28123880035892174,
            "count": 0
           },
           {
            "bin_start": 0.28123880035892174,
            "bin_end": 0.35154850044865216,
            "count": 0
           },
           {
            "bin_start": 0.35154850044865216,
            "bin_end": 0.42185820053838263,
            "count": 0
           },
           {
            "bin_start": 0.42185820053838263,
            "bin_end": 0.49216790062811305,
            "count": 0
           },
           {
            "bin_start": 0.49216790062811305,
            "bin_end": 0.5624776007178435,
            "count": 0
           },
           {
            "bin_start": 0.5624776007178435,
            "bin_end": 0.632787300807574,
            "count": 0
           },
           {
            "bin_start": 0.632787300807574,
            "bin_end": 0.7030970008973043,
            "count": 1
           }
          ]
         }
        },
        {
         "name": "_deepnote_index_column",
         "dtype": "int64"
        }
       ],
       "rows_top": [
        {
         "Feature": "worst perimeter",
         "Importance": 0.7030970008973043,
         "_deepnote_index_column": 22
        },
        {
         "Feature": "worst concave points",
         "Importance": 0.14654466182273407,
         "_deepnote_index_column": 27
        },
        {
         "Feature": "worst texture",
         "Importance": 0.05976673587240632,
         "_deepnote_index_column": 21
        },
        {
         "Feature": "worst area",
         "Importance": 0.04992361571772352,
         "_deepnote_index_column": 23
        },
        {
         "Feature": "area error",
         "Importance": 0.022358936515217556,
         "_deepnote_index_column": 13
        },
        {
         "Feature": "worst concavity",
         "Importance": 0.009801870837736319,
         "_deepnote_index_column": 26
        },
        {
         "Feature": "worst fractal dimension",
         "Importance": 0.008507178336878057,
         "_deepnote_index_column": 29
        },
        {
         "Feature": "concavity error",
         "Importance": 0,
         "_deepnote_index_column": 16
        },
        {
         "Feature": "worst symmetry",
         "Importance": 0,
         "_deepnote_index_column": 28
        },
        {
         "Feature": "worst compactness",
         "Importance": 0,
         "_deepnote_index_column": 25
        },
        {
         "Feature": "worst smoothness",
         "Importance": 0,
         "_deepnote_index_column": 24
        },
        {
         "Feature": "worst radius",
         "Importance": 0,
         "_deepnote_index_column": 20
        },
        {
         "Feature": "fractal dimension error",
         "Importance": 0,
         "_deepnote_index_column": 19
        },
        {
         "Feature": "symmetry error",
         "Importance": 0,
         "_deepnote_index_column": 18
        },
        {
         "Feature": "concave points error",
         "Importance": 0,
         "_deepnote_index_column": 17
        },
        {
         "Feature": "mean radius",
         "Importance": 0,
         "_deepnote_index_column": 0
        },
        {
         "Feature": "mean texture",
         "Importance": 0,
         "_deepnote_index_column": 1
        },
        {
         "Feature": "smoothness error",
         "Importance": 0,
         "_deepnote_index_column": 14
        },
        {
         "Feature": "perimeter error",
         "Importance": 0,
         "_deepnote_index_column": 12
        },
        {
         "Feature": "texture error",
         "Importance": 0,
         "_deepnote_index_column": 11
        },
        {
         "Feature": "radius error",
         "Importance": 0,
         "_deepnote_index_column": 10
        },
        {
         "Feature": "mean fractal dimension",
         "Importance": 0,
         "_deepnote_index_column": 9
        },
        {
         "Feature": "mean symmetry",
         "Importance": 0,
         "_deepnote_index_column": 8
        },
        {
         "Feature": "mean concave points",
         "Importance": 0,
         "_deepnote_index_column": 7
        },
        {
         "Feature": "mean concavity",
         "Importance": 0,
         "_deepnote_index_column": 6
        },
        {
         "Feature": "mean compactness",
         "Importance": 0,
         "_deepnote_index_column": 5
        },
        {
         "Feature": "mean smoothness",
         "Importance": 0,
         "_deepnote_index_column": 4
        },
        {
         "Feature": "mean area",
         "Importance": 0,
         "_deepnote_index_column": 3
        },
        {
         "Feature": "mean perimeter",
         "Importance": 0,
         "_deepnote_index_column": 2
        },
        {
         "Feature": "compactness error",
         "Importance": 0,
         "_deepnote_index_column": 15
        }
       ],
       "rows_bottom": null
      },
      "text/plain": "                    Feature  Importance\n22          worst perimeter    0.703097\n27     worst concave points    0.146545\n21            worst texture    0.059767\n23               worst area    0.049924\n13               area error    0.022359\n26          worst concavity    0.009802\n29  worst fractal dimension    0.008507\n16          concavity error    0.000000\n28           worst symmetry    0.000000\n25        worst compactness    0.000000\n24         worst smoothness    0.000000\n20             worst radius    0.000000\n19  fractal dimension error    0.000000\n18           symmetry error    0.000000\n17     concave points error    0.000000\n0               mean radius    0.000000\n1              mean texture    0.000000\n14         smoothness error    0.000000\n12          perimeter error    0.000000\n11            texture error    0.000000\n10             radius error    0.000000\n9    mean fractal dimension    0.000000\n8             mean symmetry    0.000000\n7       mean concave points    0.000000\n6            mean concavity    0.000000\n5          mean compactness    0.000000\n4           mean smoothness    0.000000\n3                 mean area    0.000000\n2            mean perimeter    0.000000\n15        compactness error    0.000000",
      "text/html": "<div>\n<style scoped>\n    .dataframe tbody tr th:only-of-type {\n        vertical-align: middle;\n    }\n\n    .dataframe tbody tr th {\n        vertical-align: top;\n    }\n\n    .dataframe thead th {\n        text-align: right;\n    }\n</style>\n<table border=\"1\" class=\"dataframe\">\n  <thead>\n    <tr style=\"text-align: right;\">\n      <th></th>\n      <th>Feature</th>\n      <th>Importance</th>\n    </tr>\n  </thead>\n  <tbody>\n    <tr>\n      <th>22</th>\n      <td>worst perimeter</td>\n      <td>0.703097</td>\n    </tr>\n    <tr>\n      <th>27</th>\n      <td>worst concave points</td>\n      <td>0.146545</td>\n    </tr>\n    <tr>\n      <th>21</th>\n      <td>worst texture</td>\n      <td>0.059767</td>\n    </tr>\n    <tr>\n      <th>23</th>\n      <td>worst area</td>\n      <td>0.049924</td>\n    </tr>\n    <tr>\n      <th>13</th>\n      <td>area error</td>\n      <td>0.022359</td>\n    </tr>\n    <tr>\n      <th>26</th>\n      <td>worst concavity</td>\n      <td>0.009802</td>\n    </tr>\n    <tr>\n      <th>29</th>\n      <td>worst fractal dimension</td>\n      <td>0.008507</td>\n    </tr>\n    <tr>\n      <th>16</th>\n      <td>concavity error</td>\n      <td>0.000000</td>\n    </tr>\n    <tr>\n      <th>28</th>\n      <td>worst symmetry</td>\n      <td>0.000000</td>\n    </tr>\n    <tr>\n      <th>25</th>\n      <td>worst compactness</td>\n      <td>0.000000</td>\n    </tr>\n    <tr>\n      <th>24</th>\n      <td>worst smoothness</td>\n      <td>0.000000</td>\n    </tr>\n    <tr>\n      <th>20</th>\n      <td>worst radius</td>\n      <td>0.000000</td>\n    </tr>\n    <tr>\n      <th>19</th>\n      <td>fractal dimension error</td>\n      <td>0.000000</td>\n    </tr>\n    <tr>\n      <th>18</th>\n      <td>symmetry error</td>\n      <td>0.000000</td>\n    </tr>\n    <tr>\n      <th>17</th>\n      <td>concave points error</td>\n      <td>0.000000</td>\n    </tr>\n    <tr>\n      <th>0</th>\n      <td>mean radius</td>\n      <td>0.000000</td>\n    </tr>\n    <tr>\n      <th>1</th>\n      <td>mean texture</td>\n      <td>0.000000</td>\n    </tr>\n    <tr>\n      <th>14</th>\n      <td>smoothness error</td>\n      <td>0.000000</td>\n    </tr>\n    <tr>\n      <th>12</th>\n      <td>perimeter error</td>\n      <td>0.000000</td>\n    </tr>\n    <tr>\n      <th>11</th>\n      <td>texture error</td>\n      <td>0.000000</td>\n    </tr>\n    <tr>\n      <th>10</th>\n      <td>radius error</td>\n      <td>0.000000</td>\n    </tr>\n    <tr>\n      <th>9</th>\n      <td>mean fractal dimension</td>\n      <td>0.000000</td>\n    </tr>\n    <tr>\n      <th>8</th>\n      <td>mean symmetry</td>\n      <td>0.000000</td>\n    </tr>\n    <tr>\n      <th>7</th>\n      <td>mean concave points</td>\n      <td>0.000000</td>\n    </tr>\n    <tr>\n      <th>6</th>\n      <td>mean concavity</td>\n      <td>0.000000</td>\n    </tr>\n    <tr>\n      <th>5</th>\n      <td>mean compactness</td>\n      <td>0.000000</td>\n    </tr>\n    <tr>\n      <th>4</th>\n      <td>mean smoothness</td>\n      <td>0.000000</td>\n    </tr>\n    <tr>\n      <th>3</th>\n      <td>mean area</td>\n      <td>0.000000</td>\n    </tr>\n    <tr>\n      <th>2</th>\n      <td>mean perimeter</td>\n      <td>0.000000</td>\n    </tr>\n    <tr>\n      <th>15</th>\n      <td>compactness error</td>\n      <td>0.000000</td>\n    </tr>\n  </tbody>\n</table>\n</div>"
     },
     "metadata": {}
    }
   ]
  },
  {
   "cell_type": "markdown",
   "source": "## K-fold cross validation",
   "metadata": {
    "tags": [],
    "is_collapsed": false,
    "cell_id": "00013-2e663f99-8833-4cb6-b5a6-a41191b9210a",
    "deepnote_cell_type": "text-cell-h2"
   }
  },
  {
   "cell_type": "markdown",
   "source": "Here we use k-fold cross validation to train a tree on each fold. We also extract the feature importances of each fold. We then take the average of these feature importances. This is not stable for relatively small numbers of folds (e.g. 10). For larger number of folds this is almost equivalent to training the trees on the entire dataset.",
   "metadata": {
    "tags": [],
    "cell_id": "00014-0ad94ae0-9c04-4c2c-adef-708409b081f2",
    "deepnote_cell_type": "markdown"
   }
  },
  {
   "cell_type": "code",
   "metadata": {
    "tags": [],
    "cell_id": "00006-c3da6aa2-738d-4899-8310-cd95865f265a",
    "deepnote_to_be_reexecuted": false,
    "source_hash": "74df6b9a",
    "execution_start": 1636119604094,
    "execution_millis": 1757,
    "deepnote_cell_type": "code"
   },
   "source": "def calc_feature_importances(X, y, n_splits, seed):\n    kf = StratifiedKFold(n_splits=n_splits, random_state=seed, shuffle=True)\n    dt = tree.DecisionTreeClassifier()\n    feat_imps = []\n\n    for train_idx, test_idx in kf.split(X, y):\n        dt.fit(X[train_idx], y[train_idx])\n        feat_imps.append(dt.feature_importances_)\n\n    feat_imps_avg = np.mean(feat_imps, axis=0)\n    \n    return feat_imps_avg\n\n\nseed = 3012\n\nfeat_imps_avg = []\n\nfor n_splits in range(5, 15, 5):\n    feat_imps_avg.append(calc_feature_importances(X, y, n_splits, seed))\n\nfeat_imps_avg = np.array(feat_imps_avg)\n\nfor i in range(30):\n    plt.plot(np.arange(5, 15, 5), feat_imps_avg[:,i], label=wisconsin.feature_names[i])\n\nplt.legend(bbox_to_anchor=(1.04,1), loc=\"upper left\")\nplt.show()\n\nimportances = pd.DataFrame(zip(wisconsin.feature_names, feat_imps_avg[-1,:]), columns=['Feature', 'Importance'])\n# importances.to_csv(\"strat_kf_n_splits=10.csv\", float_format=\"%.10f\")\nimportances.sort_values(by = 'Importance', ascending = False).head(30)",
   "execution_count": null,
   "outputs": [
    {
     "data": {
      "text/plain": "<Figure size 432x288 with 1 Axes>",
      "image/png": "[encoded data removed]"
     },
     "metadata": {
      "needs_background": "light",
      "image/png": {
       "width": 551,
       "height": 472
      }
     },
     "output_type": "display_data"
    },
    {
     "output_type": "execute_result",
     "execution_count": 6,
     "data": {
      "application/vnd.deepnote.dataframe.v2+json": {
       "row_count": 30,
       "column_count": 2,
       "columns": [
        {
         "name": "Feature",
         "dtype": "object",
         "stats": {
          "unique_count": 30,
          "nan_count": 0,
          "categories": [
           {
            "name": "worst radius",
            "count": 1
           },
           {
            "name": "worst concave points",
            "count": 1
           },
           {
            "name": "28 others",
            "count": 28
           }
          ]
         }
        },
        {
         "name": "Importance",
         "dtype": "float64",
         "stats": {
          "unique_count": 28,
          "nan_count": 0,
          "min": "0.0",
          "max": "0.35407262196796707",
          "histogram": [
           {
            "bin_start": 0,
            "bin_end": 0.035407262196796706,
            "count": 25
           },
           {
            "bin_start": 0.035407262196796706,
            "bin_end": 0.07081452439359341,
            "count": 1
           },
           {
            "bin_start": 0.07081452439359341,
            "bin_end": 0.10622178659039011,
            "count": 1
           },
           {
            "bin_start": 0.10622178659039011,
            "bin_end": 0.14162904878718682,
            "count": 0
           },
           {
            "bin_start": 0.14162904878718682,
            "bin_end": 0.17703631098398354,
            "count": 1
           },
           {
            "bin_start": 0.17703631098398354,
            "bin_end": 0.21244357318078022,
            "count": 0
           },
           {
            "bin_start": 0.21244357318078022,
            "bin_end": 0.24785083537757693,
            "count": 1
           },
           {
            "bin_start": 0.24785083537757693,
            "bin_end": 0.28325809757437365,
            "count": 0
           },
           {
            "bin_start": 0.28325809757437365,
            "bin_end": 0.31866535977117033,
            "count": 0
           },
           {
            "bin_start": 0.31866535977117033,
            "bin_end": 0.35407262196796707,
            "count": 1
           }
          ]
         }
        },
        {
         "name": "_deepnote_index_column",
         "dtype": "int64"
        }
       ],
       "rows_top": [
        {
         "Feature": "worst radius",
         "Importance": 0.35407262196796707,
         "_deepnote_index_column": 20
        },
        {
         "Feature": "worst concave points",
         "Importance": 0.23668815234048876,
         "_deepnote_index_column": 27
        },
        {
         "Feature": "worst perimeter",
         "Importance": 0.14427978971561134,
         "_deepnote_index_column": 22
        },
        {
         "Feature": "worst area",
         "Importance": 0.10105190441649806,
         "_deepnote_index_column": 23
        },
        {
         "Feature": "worst texture",
         "Importance": 0.039100296082290494,
         "_deepnote_index_column": 21
        },
        {
         "Feature": "mean texture",
         "Importance": 0.0322665214414362,
         "_deepnote_index_column": 1
        },
        {
         "Feature": "worst smoothness",
         "Importance": 0.010780441045185062,
         "_deepnote_index_column": 24
        },
        {
         "Feature": "texture error",
         "Importance": 0.00981727421686712,
         "_deepnote_index_column": 11
        },
        {
         "Feature": "worst concavity",
         "Importance": 0.009754765197498152,
         "_deepnote_index_column": 26
        },
        {
         "Feature": "area error",
         "Importance": 0.009709815563254062,
         "_deepnote_index_column": 13
        },
        {
         "Feature": "mean concave points",
         "Importance": 0.009086001777054691,
         "_deepnote_index_column": 7
        },
        {
         "Feature": "worst fractal dimension",
         "Importance": 0.005491726791781551,
         "_deepnote_index_column": 29
        },
        {
         "Feature": "concave points error",
         "Importance": 0.0050454038381732924,
         "_deepnote_index_column": 17
        },
        {
         "Feature": "mean area",
         "Importance": 0.004248646940189147,
         "_deepnote_index_column": 3
        },
        {
         "Feature": "smoothness error",
         "Importance": 0.004212523188155746,
         "_deepnote_index_column": 14
        },
        {
         "Feature": "worst symmetry",
         "Importance": 0.003542317139204554,
         "_deepnote_index_column": 28
        },
        {
         "Feature": "mean concavity",
         "Importance": 0.0031977721827053983,
         "_deepnote_index_column": 6
        },
        {
         "Feature": "symmetry error",
         "Importance": 0.0031064183789623473,
         "_deepnote_index_column": 18
        },
        {
         "Feature": "radius error",
         "Importance": 0.002354722733173619,
         "_deepnote_index_column": 10
        },
        {
         "Feature": "fractal dimension error",
         "Importance": 0.0023230806986159792,
         "_deepnote_index_column": 19
        },
        {
         "Feature": "mean compactness",
         "Importance": 0.0021881832844078933,
         "_deepnote_index_column": 5
        },
        {
         "Feature": "compactness error",
         "Importance": 0.0017600084615791423,
         "_deepnote_index_column": 15
        },
        {
         "Feature": "perimeter error",
         "Importance": 0.0015642747039978408,
         "_deepnote_index_column": 12
        },
        {
         "Feature": "mean symmetry",
         "Importance": 0.0014108879370840308,
         "_deepnote_index_column": 8
        },
        {
         "Feature": "mean smoothness",
         "Importance": 0.0013971642684271737,
         "_deepnote_index_column": 4
        },
        {
         "Feature": "mean fractal dimension",
         "Importance": 0.0008069864101246905,
         "_deepnote_index_column": 9
        },
        {
         "Feature": "mean radius",
         "Importance": 0.0007422992792665447,
         "_deepnote_index_column": 0
        },
        {
         "Feature": "concavity error",
         "Importance": 0,
         "_deepnote_index_column": 16
        },
        {
         "Feature": "worst compactness",
         "Importance": 0,
         "_deepnote_index_column": 25
        },
        {
         "Feature": "mean perimeter",
         "Importance": 0,
         "_deepnote_index_column": 2
        }
       ],
       "rows_bottom": null
      },
      "text/plain": "                    Feature  Importance\n20             worst radius    0.354073\n27     worst concave points    0.236688\n22          worst perimeter    0.144280\n23               worst area    0.101052\n21            worst texture    0.039100\n1              mean texture    0.032267\n24         worst smoothness    0.010780\n11            texture error    0.009817\n26          worst concavity    0.009755\n13               area error    0.009710\n7       mean concave points    0.009086\n29  worst fractal dimension    0.005492\n17     concave points error    0.005045\n3                 mean area    0.004249\n14         smoothness error    0.004213\n28           worst symmetry    0.003542\n6            mean concavity    0.003198\n18           symmetry error    0.003106\n10             radius error    0.002355\n19  fractal dimension error    0.002323\n5          mean compactness    0.002188\n15        compactness error    0.001760\n12          perimeter error    0.001564\n8             mean symmetry    0.001411\n4           mean smoothness    0.001397\n9    mean fractal dimension    0.000807\n0               mean radius    0.000742\n16          concavity error    0.000000\n25        worst compactness    0.000000\n2            mean perimeter    0.000000",
      "text/html": "<div>\n<style scoped>\n    .dataframe tbody tr th:only-of-type {\n        vertical-align: middle;\n    }\n\n    .dataframe tbody tr th {\n        vertical-align: top;\n    }\n\n    .dataframe thead th {\n        text-align: right;\n    }\n</style>\n<table border=\"1\" class=\"dataframe\">\n  <thead>\n    <tr style=\"text-align: right;\">\n      <th></th>\n      <th>Feature</th>\n      <th>Importance</th>\n    </tr>\n  </thead>\n  <tbody>\n    <tr>\n      <th>20</th>\n      <td>worst radius</td>\n      <td>0.354073</td>\n    </tr>\n    <tr>\n      <th>27</th>\n      <td>worst concave points</td>\n      <td>0.236688</td>\n    </tr>\n    <tr>\n      <th>22</th>\n      <td>worst perimeter</td>\n      <td>0.144280</td>\n    </tr>\n    <tr>\n      <th>23</th>\n      <td>worst area</td>\n      <td>0.101052</td>\n    </tr>\n    <tr>\n      <th>21</th>\n      <td>worst texture</td>\n      <td>0.039100</td>\n    </tr>\n    <tr>\n      <th>1</th>\n      <td>mean texture</td>\n      <td>0.032267</td>\n    </tr>\n    <tr>\n      <th>24</th>\n      <td>worst smoothness</td>\n      <td>0.010780</td>\n    </tr>\n    <tr>\n      <th>11</th>\n      <td>texture error</td>\n      <td>0.009817</td>\n    </tr>\n    <tr>\n      <th>26</th>\n      <td>worst concavity</td>\n      <td>0.009755</td>\n    </tr>\n    <tr>\n      <th>13</th>\n      <td>area error</td>\n      <td>0.009710</td>\n    </tr>\n    <tr>\n      <th>7</th>\n      <td>mean concave points</td>\n      <td>0.009086</td>\n    </tr>\n    <tr>\n      <th>29</th>\n      <td>worst fractal dimension</td>\n      <td>0.005492</td>\n    </tr>\n    <tr>\n      <th>17</th>\n      <td>concave points error</td>\n      <td>0.005045</td>\n    </tr>\n    <tr>\n      <th>3</th>\n      <td>mean area</td>\n      <td>0.004249</td>\n    </tr>\n    <tr>\n      <th>14</th>\n      <td>smoothness error</td>\n      <td>0.004213</td>\n    </tr>\n    <tr>\n      <th>28</th>\n      <td>worst symmetry</td>\n      <td>0.003542</td>\n    </tr>\n    <tr>\n      <th>6</th>\n      <td>mean concavity</td>\n      <td>0.003198</td>\n    </tr>\n    <tr>\n      <th>18</th>\n      <td>symmetry error</td>\n      <td>0.003106</td>\n    </tr>\n    <tr>\n      <th>10</th>\n      <td>radius error</td>\n      <td>0.002355</td>\n    </tr>\n    <tr>\n      <th>19</th>\n      <td>fractal dimension error</td>\n      <td>0.002323</td>\n    </tr>\n    <tr>\n      <th>5</th>\n      <td>mean compactness</td>\n      <td>0.002188</td>\n    </tr>\n    <tr>\n      <th>15</th>\n      <td>compactness error</td>\n      <td>0.001760</td>\n    </tr>\n    <tr>\n      <th>12</th>\n      <td>perimeter error</td>\n      <td>0.001564</td>\n    </tr>\n    <tr>\n      <th>8</th>\n      <td>mean symmetry</td>\n      <td>0.001411</td>\n    </tr>\n    <tr>\n      <th>4</th>\n      <td>mean smoothness</td>\n      <td>0.001397</td>\n    </tr>\n    <tr>\n      <th>9</th>\n      <td>mean fractal dimension</td>\n      <td>0.000807</td>\n    </tr>\n    <tr>\n      <th>0</th>\n      <td>mean radius</td>\n      <td>0.000742</td>\n    </tr>\n    <tr>\n      <th>16</th>\n      <td>concavity error</td>\n      <td>0.000000</td>\n    </tr>\n    <tr>\n      <th>25</th>\n      <td>worst compactness</td>\n      <td>0.000000</td>\n    </tr>\n    <tr>\n      <th>2</th>\n      <td>mean perimeter</td>\n      <td>0.000000</td>\n    </tr>\n  </tbody>\n</table>\n</div>"
     },
     "metadata": {}
    }
   ]
  },
  {
   "cell_type": "markdown",
   "source": "## Randomness in decision trees",
   "metadata": {
    "tags": [],
    "is_collapsed": false,
    "cell_id": "00016-22cb6f61-d3d8-4e20-a69e-751e3c3e87e2",
    "deepnote_cell_type": "text-cell-h2"
   }
  },
  {
   "cell_type": "markdown",
   "source": "The specific splitting in a training and testing dataset has an influence on the feature importances of the tree. Also, on a given training set, every time a tree is trained, it can give different values, because of the random choosing. So, maybe k-fold cross validation is a good option here.",
   "metadata": {
    "tags": [],
    "cell_id": "00017-76210d6f-4445-43aa-99ba-c3a39e4ae9a0",
    "deepnote_cell_type": "markdown"
   }
  },
  {
   "cell_type": "code",
   "metadata": {
    "tags": [],
    "cell_id": "00007-e7230fe4-6586-4b64-b517-79279eddf445",
    "deepnote_to_be_reexecuted": false,
    "source_hash": "176b5475",
    "execution_start": 1636119605930,
    "execution_millis": 35032,
    "deepnote_cell_type": "code"
   },
   "source": "seed = 421\nX_train, X_test, y_train, y_test = train_test_split(X, y, random_state=seed, stratify=y)",
   "execution_count": null,
   "outputs": []
  },
  {
   "cell_type": "code",
   "metadata": {
    "tags": [],
    "cell_id": "00008-c979ea25-4a52-4769-9935-e4c19e143517",
    "deepnote_to_be_reexecuted": false,
    "source_hash": "ba1a799d",
    "execution_start": 1636119761163,
    "execution_millis": 8031,
    "deepnote_cell_type": "code"
   },
   "source": "dt = tree.DecisionTreeClassifier()\nfeat_imps = []\nbal_accs = []\n\nfor i in range(1000):\n    dt.fit(X_train, y_train)\n    y_pred = dt.predict(X_test)\n    bal_acc = metrics.balanced_accuracy_score(y_test, y_pred)\n    bal_accs.append(bal_acc)\n    \nplt.hist(bal_accs)\nplt.show()\n\nfeat_imps.append(dt.feature_importances_)\nfeat_imps = np.array(feat_imps)\nfeat_imps_avg = np.mean(feat_imps, axis=0)\n\nplt.bar(np.arange(30), feat_imps_avg)\nplt.show()\n\nprint(feat_imps_avg)",
   "execution_count": null,
   "outputs": [
    {
     "data": {
      "text/plain": "<Figure size 432x288 with 1 Axes>",
      "image/png": "[encoded data removed]"
     },
     "metadata": {
      "needs_background": "light",
      "image/png": {
       "width": 375,
       "height": 248
      }
     },
     "output_type": "display_data"
    },
    {
     "data": {
      "text/plain": "<Figure size 432x288 with 1 Axes>",
      "image/png": "[encoded data removed]"
     },
     "metadata": {
      "needs_background": "light",
      "image/png": {
       "width": 372,
       "height": 248
      }
     },
     "output_type": "display_data"
    },
    {
     "name": "stdout",
     "text": "[0.         0.         0.         0.         0.         0.\n 0.         0.72233872 0.0164203  0.         0.         0.\n 0.         0.         0.00121234 0.         0.         0.\n 0.         0.00950649 0.         0.07662054 0.         0.12285883\n 0.         0.         0.02365305 0.01770816 0.         0.00968157]\n",
     "output_type": "stream"
    }
   ]
  },
  {
   "cell_type": "markdown",
   "source": "# 0 = malignant, 1 = benign",
   "metadata": {
    "tags": [],
    "is_collapsed": false,
    "cell_id": "00005-f3bf505b-4fef-48e8-8ed8-d66b115a8729",
    "deepnote_cell_type": "text-cell-h1"
   }
  },
  {
   "cell_type": "markdown",
   "source": "",
   "metadata": {
    "tags": [],
    "cell_id": "00008-d7f0312d-27d8-4f2e-b5aa-20ff5dea1b65",
    "deepnote_cell_type": "markdown"
   }
  },
  {
   "cell_type": "markdown",
   "source": "<a style='text-decoration:none;line-height:16px;display:flex;color:#5B5B62;padding:10px;justify-content:end;' href='https://deepnote.com?utm_source=created-in-deepnote-cell&projectId=5161fece-8ef6-4825-9ea6-16ebba884483' target=\"_blank\">\n<img alt='Created in deepnote.com' style='display:inline;max-height:16px;margin:0px;margin-right:7.5px;' src='data:image/svg+xml;base64,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' > </img>\nCreated in <span style='font-weight:600;margin-left:4px;'>Deepnote</span></a>",
   "metadata": {
    "tags": [],
    "created_in_deepnote_cell": true,
    "deepnote_cell_type": "markdown"
   }
  }
 ],
 "nbformat": 4,
 "nbformat_minor": 2,
 "metadata": {
  "orig_nbformat": 2,
  "deepnote": {
   "is_reactive": false
  },
  "deepnote_notebook_id": "89a4c5d7-9b03-4c6b-8600-1ccc19d39d1b",
  "deepnote_execution_queue": []
 }
}