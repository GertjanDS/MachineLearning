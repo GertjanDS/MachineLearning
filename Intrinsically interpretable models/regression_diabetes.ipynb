{
 "cells": [
  {
   "cell_type": "code",
   "metadata": {
    "tags": [],
    "cell_id": "00000-b340fce0-0a92-4e29-bed8-e9a13b475262",
    "deepnote_to_be_reexecuted": false,
    "source_hash": "e01eb985",
    "execution_start": 1636304232692,
    "execution_millis": 1,
    "deepnote_cell_type": "code"
   },
   "source": "import numpy as np\nimport matplotlib.pyplot as plt\n\nfrom sklearn import datasets, tree\nfrom sklearn.linear_model import LinearRegression, Lasso, Ridge\nfrom sklearn.model_selection import train_test_split, KFold\nfrom sklearn.metrics import mean_squared_error, r2_score\nfrom sklearn.preprocessing import StandardScaler\nfrom sklearn.neighbors import KNeighborsRegressor\nfrom sklearn.ensemble import RandomForestRegressor",
   "outputs": [],
   "execution_count": null
  },
  {
   "cell_type": "code",
   "metadata": {
    "tags": [],
    "cell_id": "00001-1e79b978-b945-4992-8488-7c4afa475a1e",
    "deepnote_to_be_reexecuted": false,
    "source_hash": "a787daa2",
    "execution_start": 1636302774368,
    "execution_millis": 54,
    "deepnote_cell_type": "code"
   },
   "source": "diabetes = datasets.load_diabetes()\nX = diabetes.data\ny = diabetes.target\nfeature_names = diabetes.feature_names",
   "outputs": [],
   "execution_count": null
  },
  {
   "cell_type": "code",
   "metadata": {
    "tags": [],
    "cell_id": "00002-29bbf4dd-07c4-4c19-90bb-3493ab18ebf8",
    "deepnote_to_be_reexecuted": false,
    "source_hash": "41ede5de",
    "execution_start": 1636302774437,
    "execution_millis": 18,
    "deepnote_cell_type": "code"
   },
   "source": "def fit_and_error(X, y, seed, model, model_name):\n    X_train, X_test, y_train, y_test = train_test_split(X, y, random_state=seed)\n    model.fit(X_train, y_train)\n    y_pred = model.predict(X_test)\n    rmse = mean_squared_error(y_test, y_pred, squared=False)\n    print(\"RMSE ({}): {}\".format(model_name, rmse))\n    r2 = r2_score(y_test, y_pred)\n    print(\"R-squared score ({}) : {}\".format(model_name, r2))",
   "outputs": [],
   "execution_count": null
  },
  {
   "cell_type": "markdown",
   "source": "# Linear regression models",
   "metadata": {
    "tags": [],
    "is_collapsed": false,
    "cell_id": "00003-d128e717-a1d1-4f31-9c2b-0844f5b4d3b7",
    "deepnote_cell_type": "text-cell-h1"
   }
  },
  {
   "cell_type": "code",
   "metadata": {
    "tags": [],
    "cell_id": "00000-397025ef-44e3-41af-948f-b55e0a94653c",
    "deepnote_to_be_reexecuted": false,
    "source_hash": "1ed41eef",
    "execution_start": 1636302774472,
    "execution_millis": 61,
    "deepnote_cell_type": "code"
   },
   "source": "seed = 3012\n\nfit_and_error(X, y, seed, LinearRegression(), \"linear regression\")\nfit_and_error(X, y, seed, Ridge(alpha = 0.01), \"small Ridge\")\nfit_and_error(X, y, seed, Ridge(alpha = 100), \"big Ridge\")\nfit_and_error(X, y, seed, Lasso(alpha = 0.01), \"small Lasso\")\nfit_and_error(X, y, seed, Lasso(alpha = 10), \"big Lasso\")",
   "outputs": [
    {
     "name": "stdout",
     "text": "RMSE (linear regression): 58.01703303432585\nR-squared score (linear regression) : 0.5295657911827079\nRMSE (small Ridge): 58.34626135065782\nR-squared score (small Ridge) : 0.5242115114945769\nRMSE (big Ridge): 87.22003521044822\nR-squared score (big Ridge) : -0.06321324831254205\nRMSE (small Lasso): 58.26101896634339\nR-squared score (small Lasso) : 0.525600725392204\nRMSE (big Lasso): 88.0562185057193\nR-squared score (big Lasso) : -0.08369713825220626\n",
     "output_type": "stream"
    }
   ],
   "execution_count": null
  },
  {
   "cell_type": "markdown",
   "source": "# Decision tree regressor",
   "metadata": {
    "tags": [],
    "is_collapsed": false,
    "cell_id": "00007-d66dfd3a-85e9-45d9-babd-657b393112f0",
    "deepnote_cell_type": "text-cell-h1"
   }
  },
  {
   "cell_type": "code",
   "metadata": {
    "tags": [],
    "cell_id": "00007-286455ce-312d-4153-bd0c-5c1fa0b7c91c",
    "deepnote_to_be_reexecuted": false,
    "source_hash": "ccdaf9e4",
    "execution_start": 1636304673168,
    "execution_millis": 19,
    "deepnote_cell_type": "code"
   },
   "source": "seed = 3012\nfit_and_error(X, y, seed, tree.DecisionTreeRegressor(random_state=seed), \"decision tree regressor\")",
   "outputs": [
    {
     "name": "stdout",
     "text": "RMSE (decision tree regressor): 86.38683166249753\nR-squared score (decision tree regressor) : -0.042996752780275926\n",
     "output_type": "stream"
    }
   ],
   "execution_count": null
  },
  {
   "cell_type": "markdown",
   "source": "# KNN regressor",
   "metadata": {
    "tags": [],
    "is_collapsed": false,
    "cell_id": "00007-4ef9bf9b-2a17-43ce-bb72-944d9f4efa58",
    "deepnote_cell_type": "text-cell-h1"
   }
  },
  {
   "cell_type": "code",
   "metadata": {
    "tags": [],
    "cell_id": "00009-e6fd9ec2-541b-4621-9e73-084a8f8639ed",
    "deepnote_to_be_reexecuted": false,
    "source_hash": "53dfb3aa",
    "execution_start": 1636305033312,
    "execution_millis": 25,
    "deepnote_cell_type": "code"
   },
   "source": "seed = 3012\nfit_and_error(X, y, seed, KNeighborsRegressor(n_neighbors=30), \"KNN regressor\")\n\nkf = KFold()\n\nkNN = KNeighborsRegressor()\ni = 1\n\nfor train_ind, test_ind in kf.split(X, y):\n    X_train, y_train, X_test, y_test = X[train_ind], y[train_ind], X[test_ind], y[test_ind]\n    kNN.fit(X_train, y_train)\n    y_pred = kNN.predict(X_test)\n\n    model_name = \"Fold \" + str(i)\n\n    rmse = mean_squared_error(y_test, y_pred, squared=False)\n    print(\"RMSE ({}): {}\".format(model_name, rmse))\n    r2 = r2_score(y_test, y_pred)\n    print(\"R-squared score ({}) : {}\".format(model_name, r2))\n\n    i += 1",
   "outputs": [
    {
     "name": "stdout",
     "text": "RMSE (KNN regressor): 65.4395337894654\nR-squared score (KNN regressor) : 0.4014943459791206\nRMSE (Fold 1): 56.27781010409307\nR-squared score (Fold 1) : 0.3500881704895432\nRMSE (Fold 2): 63.42066440961733\nR-squared score (Fold 2) : 0.36602995137367067\nRMSE (Fold 3): 59.63695849204433\nR-squared score (Fold 3) : 0.43172984693193817\nRMSE (Fold 4): 59.59086644475279\nR-squared score (Fold 4) : 0.32312430274373505\nRMSE (Fold 5): 61.70551028879026\nR-squared score (Fold 5) : 0.41156845751616766\n",
     "output_type": "stream"
    }
   ],
   "execution_count": null
  },
  {
   "cell_type": "markdown",
   "source": "# Random forest regressor",
   "metadata": {
    "tags": [],
    "is_collapsed": false,
    "cell_id": "00009-e6fb40d9-1ef9-4af4-b909-4469f38201b5",
    "deepnote_cell_type": "text-cell-h1"
   }
  },
  {
   "cell_type": "code",
   "source": "seed = 3012\nfit_and_error(X, y, seed, RandomForestRegressor(random_state=seed), \"Random forest regressor\")",
   "metadata": {
    "tags": [],
    "cell_id": "00009-5c3f9e1b-db99-4829-a9d2-f3ed939f02e2",
    "deepnote_to_be_reexecuted": false,
    "source_hash": "4121cd52",
    "execution_start": 1636303061540,
    "execution_millis": 298,
    "deepnote_cell_type": "code"
   },
   "outputs": [
    {
     "name": "stdout",
     "text": "RMSE (Random forest regressor): 62.0870605399103\nR-squared score (Random forest regressor) : 0.46124655245531554\n",
     "output_type": "stream"
    }
   ],
   "execution_count": null
  },
  {
   "cell_type": "code",
   "source": "",
   "metadata": {
    "tags": [],
    "cell_id": "00011-41f3a969-d34a-4015-98af-0d3f15ef6f33",
    "deepnote_cell_type": "code"
   },
   "outputs": [],
   "execution_count": null
  },
  {
   "cell_type": "markdown",
   "source": "<a style='text-decoration:none;line-height:16px;display:flex;color:#5B5B62;padding:10px;justify-content:end;' href='https://deepnote.com?utm_source=created-in-deepnote-cell&projectId=5161fece-8ef6-4825-9ea6-16ebba884483' target=\"_blank\">\n<img alt='Created in deepnote.com' style='display:inline;max-height:16px;margin:0px;margin-right:7.5px;' src='data:image/svg+xml;base64,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' > </img>\nCreated in <span style='font-weight:600;margin-left:4px;'>Deepnote</span></a>",
   "metadata": {
    "tags": [],
    "created_in_deepnote_cell": true,
    "deepnote_cell_type": "markdown"
   }
  }
 ],
 "nbformat": 4,
 "nbformat_minor": 2,
 "metadata": {
  "orig_nbformat": 2,
  "deepnote": {
   "is_reactive": false
  },
  "deepnote_notebook_id": "e0cbee11-e55d-414d-974d-0b9e415764ef",
  "deepnote_execution_queue": []
 }
}