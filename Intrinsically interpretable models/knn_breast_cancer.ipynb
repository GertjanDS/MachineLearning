{
 "cells": [
  {
   "cell_type": "code",
   "metadata": {
    "tags": [],
    "cell_id": "00000-f8f21035-300c-4269-a255-51ee5250deea",
    "deepnote_to_be_reexecuted": false,
    "source_hash": "bd3a003f",
    "execution_start": 1636652832582,
    "execution_millis": 2812,
    "deepnote_cell_type": "code"
   },
   "source": "import numpy as np\nimport matplotlib.pyplot as plt\n\nfrom sklearn import datasets, metrics\nfrom sklearn.model_selection import train_test_split\nfrom sklearn.neighbors import KNeighborsClassifier",
   "execution_count": null,
   "outputs": []
  },
  {
   "cell_type": "code",
   "metadata": {
    "tags": [],
    "cell_id": "00001-401a9319-4878-4f8f-816c-9ef53e15023b",
    "deepnote_to_be_reexecuted": false,
    "source_hash": "50f7d7e4",
    "execution_start": 1636652835396,
    "execution_millis": 210,
    "deepnote_cell_type": "code"
   },
   "source": "wisconsin = datasets.load_breast_cancer()\nprint(wisconsin.keys())\nX = wisconsin.data\ny = wisconsin.target",
   "execution_count": null,
   "outputs": [
    {
     "name": "stdout",
     "text": "dict_keys(['data', 'target', 'frame', 'target_names', 'DESCR', 'feature_names', 'filename', 'data_module'])\n",
     "output_type": "stream"
    }
   ]
  },
  {
   "cell_type": "code",
   "metadata": {
    "tags": [],
    "cell_id": "00002-d718117c-d184-4971-b0dd-c251e835735f",
    "deepnote_to_be_reexecuted": false,
    "source_hash": "a89f0f21",
    "execution_start": 1636652846277,
    "execution_millis": 12,
    "deepnote_cell_type": "code"
   },
   "source": "seed = 1902\n\nX_train, X_test, y_train, y_test = train_test_split(X, y, random_state=seed)",
   "execution_count": null,
   "outputs": []
  },
  {
   "cell_type": "code",
   "metadata": {
    "tags": [],
    "cell_id": "00003-5eaae811-bc78-4156-b8e7-7dc978a908a3",
    "deepnote_to_be_reexecuted": false,
    "source_hash": "1862e6ed",
    "execution_start": 1636653753642,
    "execution_millis": 5,
    "deepnote_cell_type": "code"
   },
   "source": "def knn(x_train, y_train, x_test, y_test,n):\n    n_range = range(1, n)\n    results = []\n    for n in n_range:\n        knn = KNeighborsClassifier(n_neighbors=n)\n        knn.fit(x_train, y_train)\n        #Predict the response for test dataset\n        predict_y = knn.predict(x_test)\n        accuracy = metrics.accuracy_score(y_test, predict_y)\n        #matrix = confusion_matrix(y_test,predict_y)\n        #seaborn_matrix = sns.heatmap(matrix, annot = True, cmap=\"Blues\",cbar=True)\n        results.append(accuracy)\n        print(f\"Results for model with K = {n}\")\n        test_model(x_train, y_train, x_test, y_test, knn)\n    return results",
   "execution_count": null,
   "outputs": []
  },
  {
   "cell_type": "code",
   "metadata": {
    "tags": [],
    "cell_id": "00004-68758019-1a61-4566-b46b-c0344b12f0fb",
    "deepnote_to_be_reexecuted": false,
    "source_hash": "bf245dd1",
    "execution_start": 1636653758409,
    "execution_millis": 6694,
    "is_output_hidden": false,
    "deepnote_output_heights": [
     null,
     21.1875,
     250
    ],
    "deepnote_cell_type": "code"
   },
   "source": "output = knn(X_train, y_train, X_test, y_test, 100)\nn_range = range(1,100)\n\nplt.plot(n_range, output)",
   "execution_count": null,
   "outputs": [
    {
     "name": "stdout",
     "text": "Results for model with K = 1\nBalanced accuracy: 0.9253430185633575\n\tF1 = 0.9411764705882352\n\tAccuracy = 0.9300699300699301\n\t\tclass 0: 0.8983050847457628\n\t\tclass 1: 0.9523809523809523\nResults for model with K = 2\nBalanced accuracy: 0.9100080710250202\n\tF1 = 0.9212121212121211\n\tAccuracy = 0.9090909090909091\n\t\tclass 0: 0.9152542372881356\n\t\tclass 1: 0.9047619047619048\nResults for model with K = 3\nBalanced accuracy: 0.9253430185633575\n\tF1 = 0.9411764705882352\n\tAccuracy = 0.9300699300699301\n\t\tclass 0: 0.8983050847457628\n\t\tclass 1: 0.9523809523809523\nResults for model with K = 4\nBalanced accuracy: 0.9193906376109766\n\tF1 = 0.9349112426035503\n\tAccuracy = 0.9230769230769231\n\t\tclass 0: 0.8983050847457628\n\t\tclass 1: 0.9404761904761905\nResults for model with K = 5\nBalanced accuracy: 0.9253430185633575\n\tF1 = 0.9411764705882352\n\tAccuracy = 0.9300699300699301\n\t\tclass 0: 0.8983050847457628\n\t\tclass 1: 0.9523809523809523\nResults for model with K = 6\nBalanced accuracy: 0.9193906376109766\n\tF1 = 0.9349112426035503\n\tAccuracy = 0.9230769230769231\n\t\tclass 0: 0.8983050847457628\n\t\tclass 1: 0.9404761904761905\nResults for model with K = 7\nBalanced accuracy: 0.9253430185633575\n\tF1 = 0.9411764705882352\n\tAccuracy = 0.9300699300699301\n\t\tclass 0: 0.8983050847457628\n\t\tclass 1: 0.9523809523809523\nResults for model with K = 8\nBalanced accuracy: 0.9253430185633575\n\tF1 = 0.9411764705882352\n\tAccuracy = 0.9300699300699301\n\t\tclass 0: 0.8983050847457628\n\t\tclass 1: 0.9523809523809523\nResults for model with K = 9\nBalanced accuracy: 0.9312953995157385\n\tF1 = 0.9473684210526316\n\tAccuracy = 0.9370629370629371\n\t\tclass 0: 0.8983050847457628\n\t\tclass 1: 0.9642857142857143\nResults for model with K = 10\nBalanced accuracy: 0.9312953995157385\n\tF1 = 0.9473684210526316\n\tAccuracy = 0.9370629370629371\n\t\tclass 0: 0.8983050847457628\n\t\tclass 1: 0.9642857142857143\nResults for model with K = 11\nBalanced accuracy: 0.9312953995157385\n\tF1 = 0.9473684210526316\n\tAccuracy = 0.9370629370629371\n\t\tclass 0: 0.8983050847457628\n\t\tclass 1: 0.9642857142857143\nResults for model with K = 12\nBalanced accuracy: 0.9312953995157385\n\tF1 = 0.9473684210526316\n\tAccuracy = 0.9370629370629371\n\t\tclass 0: 0.8983050847457628\n\t\tclass 1: 0.9642857142857143\nResults for model with K = 13\nBalanced accuracy: 0.9228208232445521\n\tF1 = 0.941860465116279\n\tAccuracy = 0.9300699300699301\n\t\tclass 0: 0.8813559322033898\n\t\tclass 1: 0.9642857142857143\nResults for model with K = 14\nBalanced accuracy: 0.9312953995157385\n\tF1 = 0.9473684210526316\n\tAccuracy = 0.9370629370629371\n\t\tclass 0: 0.8983050847457628\n\t\tclass 1: 0.9642857142857143\nResults for model with K = 15\nBalanced accuracy: 0.9228208232445521\n\tF1 = 0.941860465116279\n\tAccuracy = 0.9300699300699301\n\t\tclass 0: 0.8813559322033898\n\t\tclass 1: 0.9642857142857143\nResults for model with K = 16\nBalanced accuracy: 0.9228208232445521\n\tF1 = 0.941860465116279\n\tAccuracy = 0.9300699300699301\n\t\tclass 0: 0.8813559322033898\n\t\tclass 1: 0.9642857142857143\nResults for model with K = 17\nBalanced accuracy: 0.9228208232445521\n\tF1 = 0.941860465116279\n\tAccuracy = 0.9300699300699301\n\t\tclass 0: 0.8813559322033898\n\t\tclass 1: 0.9642857142857143\nResults for model with K = 18\nBalanced accuracy: 0.9228208232445521\n\tF1 = 0.941860465116279\n\tAccuracy = 0.9300699300699301\n\t\tclass 0: 0.8813559322033898\n\t\tclass 1: 0.9642857142857143\nResults for model with K = 19\nBalanced accuracy: 0.9228208232445521\n\tF1 = 0.941860465116279\n\tAccuracy = 0.9300699300699301\n\t\tclass 0: 0.8813559322033898\n\t\tclass 1: 0.9642857142857143\nResults for model with K = 20\nBalanced accuracy: 0.9228208232445521\n\tF1 = 0.941860465116279\n\tAccuracy = 0.9300699300699301\n\t\tclass 0: 0.8813559322033898\n\t\tclass 1: 0.9642857142857143\nResults for model with K = 21\nBalanced accuracy: 0.9228208232445521\n\tF1 = 0.941860465116279\n\tAccuracy = 0.9300699300699301\n\t\tclass 0: 0.8813559322033898\n\t\tclass 1: 0.9642857142857143\nResults for model with K = 22\nBalanced accuracy: 0.9228208232445521\n\tF1 = 0.941860465116279\n\tAccuracy = 0.9300699300699301\n\t\tclass 0: 0.8813559322033898\n\t\tclass 1: 0.9642857142857143\nResults for model with K = 23\nBalanced accuracy: 0.9228208232445521\n\tF1 = 0.941860465116279\n\tAccuracy = 0.9300699300699301\n\t\tclass 0: 0.8813559322033898\n\t\tclass 1: 0.9642857142857143\nResults for model with K = 24\nBalanced accuracy: 0.9228208232445521\n\tF1 = 0.941860465116279\n\tAccuracy = 0.9300699300699301\n\t\tclass 0: 0.8813559322033898\n\t\tclass 1: 0.9642857142857143\nResults for model with K = 25\nBalanced accuracy: 0.9228208232445521\n\tF1 = 0.941860465116279\n\tAccuracy = 0.9300699300699301\n\t\tclass 0: 0.8813559322033898\n\t\tclass 1: 0.9642857142857143\nResults for model with K = 26\nBalanced accuracy: 0.9228208232445521\n\tF1 = 0.941860465116279\n\tAccuracy = 0.9300699300699301\n\t\tclass 0: 0.8813559322033898\n\t\tclass 1: 0.9642857142857143\nResults for model with K = 27\nBalanced accuracy: 0.9228208232445521\n\tF1 = 0.941860465116279\n\tAccuracy = 0.9300699300699301\n\t\tclass 0: 0.8813559322033898\n\t\tclass 1: 0.9642857142857143\nResults for model with K = 28\nBalanced accuracy: 0.9228208232445521\n\tF1 = 0.941860465116279\n\tAccuracy = 0.9300699300699301\n\t\tclass 0: 0.8813559322033898\n\t\tclass 1: 0.9642857142857143\nResults for model with K = 29\nBalanced accuracy: 0.9228208232445521\n\tF1 = 0.941860465116279\n\tAccuracy = 0.9300699300699301\n\t\tclass 0: 0.8813559322033898\n\t\tclass 1: 0.9642857142857143\nResults for model with K = 30\nBalanced accuracy: 0.9228208232445521\n\tF1 = 0.941860465116279\n\tAccuracy = 0.9300699300699301\n\t\tclass 0: 0.8813559322033898\n\t\tclass 1: 0.9642857142857143\nResults for model with K = 31\nBalanced accuracy: 0.9228208232445521\n\tF1 = 0.941860465116279\n\tAccuracy = 0.9300699300699301\n\t\tclass 0: 0.8813559322033898\n\t\tclass 1: 0.9642857142857143\nResults for model with K = 32\nBalanced accuracy: 0.9228208232445521\n\tF1 = 0.941860465116279\n\tAccuracy = 0.9300699300699301\n\t\tclass 0: 0.8813559322033898\n\t\tclass 1: 0.9642857142857143\nResults for model with K = 33\nBalanced accuracy: 0.9228208232445521\n\tF1 = 0.941860465116279\n\tAccuracy = 0.9300699300699301\n\t\tclass 0: 0.8813559322033898\n\t\tclass 1: 0.9642857142857143\nResults for model with K = 34\nBalanced accuracy: 0.9228208232445521\n\tF1 = 0.941860465116279\n\tAccuracy = 0.9300699300699301\n\t\tclass 0: 0.8813559322033898\n\t\tclass 1: 0.9642857142857143\nResults for model with K = 35\nBalanced accuracy: 0.9228208232445521\n\tF1 = 0.941860465116279\n\tAccuracy = 0.9300699300699301\n\t\tclass 0: 0.8813559322033898\n\t\tclass 1: 0.9642857142857143\nResults for model with K = 36\nBalanced accuracy: 0.9228208232445521\n\tF1 = 0.941860465116279\n\tAccuracy = 0.9300699300699301\n\t\tclass 0: 0.8813559322033898\n\t\tclass 1: 0.9642857142857143\nResults for model with K = 37\nBalanced accuracy: 0.9228208232445521\n\tF1 = 0.941860465116279\n\tAccuracy = 0.9300699300699301\n\t\tclass 0: 0.8813559322033898\n\t\tclass 1: 0.9642857142857143\nResults for model with K = 38\nBalanced accuracy: 0.9228208232445521\n\tF1 = 0.941860465116279\n\tAccuracy = 0.9300699300699301\n\t\tclass 0: 0.8813559322033898\n\t\tclass 1: 0.9642857142857143\nResults for model with K = 39\nBalanced accuracy: 0.9228208232445521\n\tF1 = 0.941860465116279\n\tAccuracy = 0.9300699300699301\n\t\tclass 0: 0.8813559322033898\n\t\tclass 1: 0.9642857142857143\nResults for model with K = 40\nBalanced accuracy: 0.9228208232445521\n\tF1 = 0.941860465116279\n\tAccuracy = 0.9300699300699301\n\t\tclass 0: 0.8813559322033898\n\t\tclass 1: 0.9642857142857143\nResults for model with K = 41\nBalanced accuracy: 0.9143462469733656\n\tF1 = 0.9364161849710984\n\tAccuracy = 0.9230769230769231\n\t\tclass 0: 0.864406779661017\n\t\tclass 1: 0.9642857142857143\nResults for model with K = 42\nBalanced accuracy: 0.9228208232445521\n\tF1 = 0.941860465116279\n\tAccuracy = 0.9300699300699301\n\t\tclass 0: 0.8813559322033898\n\t\tclass 1: 0.9642857142857143\nResults for model with K = 43\nBalanced accuracy: 0.9143462469733656\n\tF1 = 0.9364161849710984\n\tAccuracy = 0.9230769230769231\n\t\tclass 0: 0.864406779661017\n\t\tclass 1: 0.9642857142857143\nResults for model with K = 44\nBalanced accuracy: 0.9228208232445521\n\tF1 = 0.941860465116279\n\tAccuracy = 0.9300699300699301\n\t\tclass 0: 0.8813559322033898\n\t\tclass 1: 0.9642857142857143\nResults for model with K = 45\nBalanced accuracy: 0.9143462469733656\n\tF1 = 0.9364161849710984\n\tAccuracy = 0.9230769230769231\n\t\tclass 0: 0.864406779661017\n\t\tclass 1: 0.9642857142857143\nResults for model with K = 46\nBalanced accuracy: 0.9143462469733656\n\tF1 = 0.9364161849710984\n\tAccuracy = 0.9230769230769231\n\t\tclass 0: 0.864406779661017\n\t\tclass 1: 0.9642857142857143\nResults for model with K = 47\nBalanced accuracy: 0.9143462469733656\n\tF1 = 0.9364161849710984\n\tAccuracy = 0.9230769230769231\n\t\tclass 0: 0.864406779661017\n\t\tclass 1: 0.9642857142857143\nResults for model with K = 48\nBalanced accuracy: 0.9228208232445521\n\tF1 = 0.941860465116279\n\tAccuracy = 0.9300699300699301\n\t\tclass 0: 0.8813559322033898\n\t\tclass 1: 0.9642857142857143\nResults for model with K = 49\nBalanced accuracy: 0.9202986279257466\n\tF1 = 0.9425287356321839\n\tAccuracy = 0.9300699300699301\n\t\tclass 0: 0.864406779661017\n\t\tclass 1: 0.9761904761904762\nResults for model with K = 50\nBalanced accuracy: 0.9143462469733656\n\tF1 = 0.9364161849710984\n\tAccuracy = 0.9230769230769231\n\t\tclass 0: 0.864406779661017\n\t\tclass 1: 0.9642857142857143\nResults for model with K = 51\nBalanced accuracy: 0.9058716707021792\n\tF1 = 0.9310344827586207\n\tAccuracy = 0.916083916083916\n\t\tclass 0: 0.847457627118644\n\t\tclass 1: 0.9642857142857143\nResults for model with K = 52\nBalanced accuracy: 0.9143462469733656\n\tF1 = 0.9364161849710984\n\tAccuracy = 0.9230769230769231\n\t\tclass 0: 0.864406779661017\n\t\tclass 1: 0.9642857142857143\nResults for model with K = 53\nBalanced accuracy: 0.9143462469733656\n\tF1 = 0.9364161849710984\n\tAccuracy = 0.9230769230769231\n\t\tclass 0: 0.864406779661017\n\t\tclass 1: 0.9642857142857143\nResults for model with K = 54\nBalanced accuracy: 0.9143462469733656\n\tF1 = 0.9364161849710984\n\tAccuracy = 0.9230769230769231\n\t\tclass 0: 0.864406779661017\n\t\tclass 1: 0.9642857142857143\nResults for model with K = 55\nBalanced accuracy: 0.9143462469733656\n\tF1 = 0.9364161849710984\n\tAccuracy = 0.9230769230769231\n\t\tclass 0: 0.864406779661017\n\t\tclass 1: 0.9642857142857143\nResults for model with K = 56\nBalanced accuracy: 0.9143462469733656\n\tF1 = 0.9364161849710984\n\tAccuracy = 0.9230769230769231\n\t\tclass 0: 0.864406779661017\n\t\tclass 1: 0.9642857142857143\nResults for model with K = 57\nBalanced accuracy: 0.9058716707021792\n\tF1 = 0.9310344827586207\n\tAccuracy = 0.916083916083916\n\t\tclass 0: 0.847457627118644\n\t\tclass 1: 0.9642857142857143\nResults for model with K = 58\nBalanced accuracy: 0.9058716707021792\n\tF1 = 0.9310344827586207\n\tAccuracy = 0.916083916083916\n\t\tclass 0: 0.847457627118644\n\t\tclass 1: 0.9642857142857143\nResults for model with K = 59\nBalanced accuracy: 0.9058716707021792\n\tF1 = 0.9310344827586207\n\tAccuracy = 0.916083916083916\n\t\tclass 0: 0.847457627118644\n\t\tclass 1: 0.9642857142857143\nResults for model with K = 60\nBalanced accuracy: 0.9058716707021792\n\tF1 = 0.9310344827586207\n\tAccuracy = 0.916083916083916\n\t\tclass 0: 0.847457627118644\n\t\tclass 1: 0.9642857142857143\nResults for model with K = 61\nBalanced accuracy: 0.9058716707021792\n\tF1 = 0.9310344827586207\n\tAccuracy = 0.916083916083916\n\t\tclass 0: 0.847457627118644\n\t\tclass 1: 0.9642857142857143\nResults for model with K = 62\nBalanced accuracy: 0.9058716707021792\n\tF1 = 0.9310344827586207\n\tAccuracy = 0.916083916083916\n\t\tclass 0: 0.847457627118644\n\t\tclass 1: 0.9642857142857143\nResults for model with K = 63\nBalanced accuracy: 0.9058716707021792\n\tF1 = 0.9310344827586207\n\tAccuracy = 0.916083916083916\n\t\tclass 0: 0.847457627118644\n\t\tclass 1: 0.9642857142857143\nResults for model with K = 64\nBalanced accuracy: 0.9058716707021792\n\tF1 = 0.9310344827586207\n\tAccuracy = 0.916083916083916\n\t\tclass 0: 0.847457627118644\n\t\tclass 1: 0.9642857142857143\nResults for model with K = 65\nBalanced accuracy: 0.9058716707021792\n\tF1 = 0.9310344827586207\n\tAccuracy = 0.916083916083916\n\t\tclass 0: 0.847457627118644\n\t\tclass 1: 0.9642857142857143\nResults for model with K = 66\nBalanced accuracy: 0.9058716707021792\n\tF1 = 0.9310344827586207\n\tAccuracy = 0.916083916083916\n\t\tclass 0: 0.847457627118644\n\t\tclass 1: 0.9642857142857143\nResults for model with K = 67\nBalanced accuracy: 0.9058716707021792\n\tF1 = 0.9310344827586207\n\tAccuracy = 0.916083916083916\n\t\tclass 0: 0.847457627118644\n\t\tclass 1: 0.9642857142857143\nResults for model with K = 68\nBalanced accuracy: 0.9058716707021792\n\tF1 = 0.9310344827586207\n\tAccuracy = 0.916083916083916\n\t\tclass 0: 0.847457627118644\n\t\tclass 1: 0.9642857142857143\nResults for model with K = 69\nBalanced accuracy: 0.9058716707021792\n\tF1 = 0.9310344827586207\n\tAccuracy = 0.916083916083916\n\t\tclass 0: 0.847457627118644\n\t\tclass 1: 0.9642857142857143\nResults for model with K = 70\nBalanced accuracy: 0.9058716707021792\n\tF1 = 0.9310344827586207\n\tAccuracy = 0.916083916083916\n\t\tclass 0: 0.847457627118644\n\t\tclass 1: 0.9642857142857143\nResults for model with K = 71\nBalanced accuracy: 0.9058716707021792\n\tF1 = 0.9310344827586207\n\tAccuracy = 0.916083916083916\n\t\tclass 0: 0.847457627118644\n\t\tclass 1: 0.9642857142857143\nResults for model with K = 72\nBalanced accuracy: 0.9058716707021792\n\tF1 = 0.9310344827586207\n\tAccuracy = 0.916083916083916\n\t\tclass 0: 0.847457627118644\n\t\tclass 1: 0.9642857142857143\nResults for model with K = 73\nBalanced accuracy: 0.9058716707021792\n\tF1 = 0.9310344827586207\n\tAccuracy = 0.916083916083916\n\t\tclass 0: 0.847457627118644\n\t\tclass 1: 0.9642857142857143\nResults for model with K = 74\nBalanced accuracy: 0.9058716707021792\n\tF1 = 0.9310344827586207\n\tAccuracy = 0.916083916083916\n\t\tclass 0: 0.847457627118644\n\t\tclass 1: 0.9642857142857143\nResults for model with K = 75\nBalanced accuracy: 0.9058716707021792\n\tF1 = 0.9310344827586207\n\tAccuracy = 0.916083916083916\n\t\tclass 0: 0.847457627118644\n\t\tclass 1: 0.9642857142857143\nResults for model with K = 76\nBalanced accuracy: 0.9058716707021792\n\tF1 = 0.9310344827586207\n\tAccuracy = 0.916083916083916\n\t\tclass 0: 0.847457627118644\n\t\tclass 1: 0.9642857142857143\nResults for model with K = 77\nBalanced accuracy: 0.8973970944309928\n\tF1 = 0.9257142857142856\n\tAccuracy = 0.9090909090909091\n\t\tclass 0: 0.8305084745762712\n\t\tclass 1: 0.9642857142857143\nResults for model with K = 78\nBalanced accuracy: 0.8973970944309928\n\tF1 = 0.9257142857142856\n\tAccuracy = 0.9090909090909091\n\t\tclass 0: 0.8305084745762712\n\t\tclass 1: 0.9642857142857143\nResults for model with K = 79\nBalanced accuracy: 0.8973970944309928\n\tF1 = 0.9257142857142856\n\tAccuracy = 0.9090909090909091\n\t\tclass 0: 0.8305084745762712\n\t\tclass 1: 0.9642857142857143\nResults for model with K = 80\nBalanced accuracy: 0.9058716707021792\n\tF1 = 0.9310344827586207\n\tAccuracy = 0.916083916083916\n\t\tclass 0: 0.847457627118644\n\t\tclass 1: 0.9642857142857143\nResults for model with K = 81\nBalanced accuracy: 0.9058716707021792\n\tF1 = 0.9310344827586207\n\tAccuracy = 0.916083916083916\n\t\tclass 0: 0.847457627118644\n\t\tclass 1: 0.9642857142857143\nResults for model with K = 82\nBalanced accuracy: 0.9058716707021792\n\tF1 = 0.9310344827586207\n\tAccuracy = 0.916083916083916\n\t\tclass 0: 0.847457627118644\n\t\tclass 1: 0.9642857142857143\nResults for model with K = 83\nBalanced accuracy: 0.8973970944309928\n\tF1 = 0.9257142857142856\n\tAccuracy = 0.9090909090909091\n\t\tclass 0: 0.8305084745762712\n\t\tclass 1: 0.9642857142857143\nResults for model with K = 84\nBalanced accuracy: 0.8973970944309928\n\tF1 = 0.9257142857142856\n\tAccuracy = 0.9090909090909091\n\t\tclass 0: 0.8305084745762712\n\t\tclass 1: 0.9642857142857143\nResults for model with K = 85\nBalanced accuracy: 0.8973970944309928\n\tF1 = 0.9257142857142856\n\tAccuracy = 0.9090909090909091\n\t\tclass 0: 0.8305084745762712\n\t\tclass 1: 0.9642857142857143\nResults for model with K = 86\nBalanced accuracy: 0.8973970944309928\n\tF1 = 0.9257142857142856\n\tAccuracy = 0.9090909090909091\n\t\tclass 0: 0.8305084745762712\n\t\tclass 1: 0.9642857142857143\nResults for model with K = 87\nBalanced accuracy: 0.8973970944309928\n\tF1 = 0.9257142857142856\n\tAccuracy = 0.9090909090909091\n\t\tclass 0: 0.8305084745762712\n\t\tclass 1: 0.9642857142857143\nResults for model with K = 88\nBalanced accuracy: 0.8973970944309928\n\tF1 = 0.9257142857142856\n\tAccuracy = 0.9090909090909091\n\t\tclass 0: 0.8305084745762712\n\t\tclass 1: 0.9642857142857143\nResults for model with K = 89\nBalanced accuracy: 0.8973970944309928\n\tF1 = 0.9257142857142856\n\tAccuracy = 0.9090909090909091\n\t\tclass 0: 0.8305084745762712\n\t\tclass 1: 0.9642857142857143\nResults for model with K = 90\nBalanced accuracy: 0.8973970944309928\n\tF1 = 0.9257142857142856\n\tAccuracy = 0.9090909090909091\n\t\tclass 0: 0.8305084745762712\n\t\tclass 1: 0.9642857142857143\nResults for model with K = 91\nBalanced accuracy: 0.8973970944309928\n\tF1 = 0.9257142857142856\n\tAccuracy = 0.9090909090909091\n\t\tclass 0: 0.8305084745762712\n\t\tclass 1: 0.9642857142857143\nResults for model with K = 92\nBalanced accuracy: 0.8973970944309928\n\tF1 = 0.9257142857142856\n\tAccuracy = 0.9090909090909091\n\t\tclass 0: 0.8305084745762712\n\t\tclass 1: 0.9642857142857143\nResults for model with K = 93\nBalanced accuracy: 0.8973970944309928\n\tF1 = 0.9257142857142856\n\tAccuracy = 0.9090909090909091\n\t\tclass 0: 0.8305084745762712\n\t\tclass 1: 0.9642857142857143\nResults for model with K = 94\nBalanced accuracy: 0.8973970944309928\n\tF1 = 0.9257142857142856\n\tAccuracy = 0.9090909090909091\n\t\tclass 0: 0.8305084745762712\n\t\tclass 1: 0.9642857142857143\nResults for model with K = 95\nBalanced accuracy: 0.8973970944309928\n\tF1 = 0.9257142857142856\n\tAccuracy = 0.9090909090909091\n\t\tclass 0: 0.8305084745762712\n\t\tclass 1: 0.9642857142857143\nResults for model with K = 96\nBalanced accuracy: 0.8973970944309928\n\tF1 = 0.9257142857142856\n\tAccuracy = 0.9090909090909091\n\t\tclass 0: 0.8305084745762712\n\t\tclass 1: 0.9642857142857143\nResults for model with K = 97\nBalanced accuracy: 0.8973970944309928\n\tF1 = 0.9257142857142856\n\tAccuracy = 0.9090909090909091\n\t\tclass 0: 0.8305084745762712\n\t\tclass 1: 0.9642857142857143\nResults for model with K = 98\nBalanced accuracy: 0.8973970944309928\n\tF1 = 0.9257142857142856\n\tAccuracy = 0.9090909090909091\n\t\tclass 0: 0.8305084745762712\n\t\tclass 1: 0.9642857142857143\nResults for model with K = 99\nBalanced accuracy: 0.8973970944309928\n\tF1 = 0.9257142857142856\n\tAccuracy = 0.9090909090909091\n\t\tclass 0: 0.8305084745762712\n\t\tclass 1: 0.9642857142857143\n",
     "output_type": "stream"
    },
    {
     "output_type": "execute_result",
     "execution_count": 32,
     "data": {
      "text/plain": "[<matplotlib.lines.Line2D at 0x7fe475d65350>]"
     },
     "metadata": {}
    },
    {
     "data": {
      "text/plain": "<Figure size 432x288 with 1 Axes>",
      "image/png": "[encoded data removed]"
     },
     "metadata": {
      "needs_background": "light",
      "image/png": {
       "width": 384,
       "height": 248
      }
     },
     "output_type": "display_data"
    }
   ]
  },
  {
   "cell_type": "markdown",
   "source": "As we can see in the plot above; best  results are situated around k=10, so we can rerun our range, but for a smaller amount of k:\n",
   "metadata": {
    "tags": [],
    "cell_id": "00007-8d1b9233-7ac3-45ff-aca7-21fbfe19b674",
    "deepnote_cell_type": "markdown"
   }
  },
  {
   "cell_type": "code",
   "metadata": {
    "tags": [],
    "cell_id": "00005-de168b0d-32bf-44ca-bd71-5794100ff3fb",
    "deepnote_to_be_reexecuted": false,
    "source_hash": "6ac3c39a",
    "execution_start": 1636652976230,
    "execution_millis": 789,
    "output_cleared": true,
    "deepnote_cell_type": "code"
   },
   "source": "output = knn(X_train, y_train, X_test, y_test, 15)\nn_range = range(1,15)\n\nplt.plot(n_range, output)",
   "execution_count": null,
   "outputs": []
  },
  {
   "cell_type": "markdown",
   "source": "Optimal results  are obtained for k=9, 10, 11, 12, 14 so lets check out the accuracy scores:",
   "metadata": {
    "tags": [],
    "cell_id": "00008-d08d6891-6ebe-4b20-9c61-61ffb74fd7d3",
    "deepnote_cell_type": "markdown"
   }
  },
  {
   "cell_type": "code",
   "metadata": {
    "tags": [],
    "cell_id": "00006-300d02b2-9b42-4a55-839a-8820f49d61ab",
    "deepnote_to_be_reexecuted": false,
    "source_hash": "7235037d",
    "execution_start": 1636653089572,
    "execution_millis": 172,
    "deepnote_cell_type": "code"
   },
   "source": "print(output[9:14])",
   "execution_count": null,
   "outputs": [
    {
     "name": "stdout",
     "text": "[0.9370629370629371, 0.9370629370629371, 0.9370629370629371, 0.9300699300699301, 0.9370629370629371]\n",
     "output_type": "stream"
    }
   ]
  },
  {
   "cell_type": "code",
   "metadata": {
    "tags": [],
    "cell_id": "00009-4d3227f1-02e9-414e-b78e-c1da6927c89a",
    "deepnote_to_be_reexecuted": false,
    "source_hash": "d29b9095",
    "execution_start": 1636653373172,
    "execution_millis": 13,
    "deepnote_cell_type": "code"
   },
   "source": "def test_model(X_train, y_train, X_test, y_test, model):\n    model.fit(X_train, y_train)\n    y_pred = model.predict(X_test)\n    bal_acc = metrics.balanced_accuracy_score(y_test, y_pred)\n    print(\"Balanced accuracy: {}\".format(bal_acc))\n    print_metrics(y_pred, y_test)\n\n\n\n# Calculates the per-class accuracy given predicted and true output labels.\ndef class_accs(y_pred, y_true):\n    acc0 = ((y_pred == y_true) & (y_true == 0)).sum() / (y_true == 0).sum()\n    acc1 = ((y_pred == y_true) & (y_true == 1)).sum() / (y_true == 1).sum()\n    return acc0, acc1\n\n# Prints a summary of performance metrics given predicted and true output labels.\ndef print_metrics(y_pred, y_true):\n    f1 = metrics.f1_score(y_true, y_pred)\n    acc = metrics.accuracy_score(y_true, y_pred)\n    acc0, acc1 = class_accs(y_pred, y_true)\n    print(f'\\tF1 = {f1}')\n    print(f'\\tAccuracy = {acc}')\n    print(f'\\t\\tclass 0: {acc0}')\n    print(f'\\t\\tclass 1: {acc1}')",
   "execution_count": null,
   "outputs": []
  },
  {
   "cell_type": "code",
   "metadata": {
    "tags": [],
    "cell_id": "00010-9426126e-f2d3-43d3-9e14-5d02e88f9642",
    "deepnote_to_be_reexecuted": false,
    "source_hash": "5b0dd535",
    "execution_start": 1636653377296,
    "execution_millis": 75,
    "deepnote_cell_type": "code"
   },
   "source": "\nknn = KNeighborsClassifier(n_neighbors=9)\nknn.fit(X_train, y_train)\n\ntest_model(X_train, y_train, X_test, y_test, knn)",
   "execution_count": null,
   "outputs": [
    {
     "name": "stdout",
     "text": "Balanced accuracy: 0.9312953995157385\n\tF1 = 0.9473684210526316\n\tAccuracy = 0.9370629370629371\n\t\tclass 0: 0.8983050847457628\n\t\tclass 1: 0.9642857142857143\n",
     "output_type": "stream"
    }
   ]
  },
  {
   "cell_type": "markdown",
   "source": "<a style='text-decoration:none;line-height:16px;display:flex;color:#5B5B62;padding:10px;justify-content:end;' href='https://deepnote.com?utm_source=created-in-deepnote-cell&projectId=5161fece-8ef6-4825-9ea6-16ebba884483' target=\"_blank\">\n<img alt='Created in deepnote.com' style='display:inline;max-height:16px;margin:0px;margin-right:7.5px;' src='data:image/svg+xml;base64,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' > </img>\nCreated in <span style='font-weight:600;margin-left:4px;'>Deepnote</span></a>",
   "metadata": {
    "tags": [],
    "created_in_deepnote_cell": true,
    "deepnote_cell_type": "markdown"
   }
  }
 ],
 "nbformat": 4,
 "nbformat_minor": 2,
 "metadata": {
  "orig_nbformat": 2,
  "deepnote": {
   "is_reactive": false
  },
  "deepnote_notebook_id": "4183ca13-b6f1-46a9-b7ac-12e2f82526d0",
  "deepnote_execution_queue": []
 }
}