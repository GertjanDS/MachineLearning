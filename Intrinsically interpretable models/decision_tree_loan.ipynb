{
 "cells": [
  {
   "cell_type": "code",
   "metadata": {
    "tags": [],
    "cell_id": "00000-31d26bb4-dc38-4085-bf65-b2b9423c3558",
    "deepnote_to_be_reexecuted": false,
    "source_hash": "e16f8337",
    "execution_start": 1636293376503,
    "execution_millis": 916,
    "deepnote_cell_type": "code"
   },
   "source": "import pandas as pd\nimport numpy as np\nimport matplotlib.pyplot as plt\n\nfrom sklearn import tree, metrics, ensemble, svm\nfrom sklearn.model_selection import train_test_split",
   "outputs": [],
   "execution_count": null
  },
  {
   "cell_type": "code",
   "metadata": {
    "tags": [],
    "cell_id": "00001-8aefbe46-2ab8-4f29-a931-5edde216aaee",
    "deepnote_to_be_reexecuted": false,
    "source_hash": "7470a3a9",
    "execution_start": 1636293377428,
    "execution_millis": 3,
    "deepnote_cell_type": "code"
   },
   "source": "# Calculates the per-class accuracy given predicted and true output labels.\ndef class_accs(y_pred, y_true):\n    acc0 = ((y_pred == y_true) & (y_true == 0)).sum() / (y_true == 0).sum()\n    acc1 = ((y_pred == y_true) & (y_true == 1)).sum() / (y_true == 1).sum()\n    return acc0, acc1\n\n# Prints a summary of performance metrics given predicted and true output labels.\ndef print_metrics(y_pred, y_true):\n    f1 = metrics.f1_score(y_true, y_pred)\n    acc = metrics.accuracy_score(y_true, y_pred)\n    acc0, acc1 = class_accs(y_pred, y_true)\n    print(f'\\tF1 = {f1}')\n    print(f'\\tAccuracy = {acc}')\n    print(f'\\t\\tclass 0: {acc0}')\n    print(f'\\t\\tclass 1: {acc1}')",
   "outputs": [],
   "execution_count": null
  },
  {
   "cell_type": "code",
   "metadata": {
    "tags": [],
    "cell_id": "00000-0ea32640-3354-4d31-bccb-43bf49ed357c",
    "deepnote_to_be_reexecuted": false,
    "source_hash": "c860adfa",
    "execution_start": 1636293377443,
    "execution_millis": 26,
    "deepnote_cell_type": "code"
   },
   "source": "# Import data and make it nice (see notebook data_exploration_loan.ipynb)\n\ndf = pd.read_csv('../loan_data_set.csv')\n\ndf = df.drop(\"Loan_ID\", axis=1)\n\ndf = df.dropna(axis=0)\n\nd1 = {\"Y\": 1, \"N\": 0}\nd2 = {\"Yes\": 1, \"No\": 0}\nd3 = {\"Male\": 1, \"Female\": 0}\nd4 = {\"0\": 0, \"1\": 1, \"2\": 2, \"3+\": 3}\nd5 = {\"Graduate\": 1, \"Not Graduate\": 0}\nd6 = {\"Rural\": 0, \"Semiurban\": 0.5, \"Urban\": 1}\n\ncleanup_nums = {\"Loan_Status\": d1, \"Married\": d2, \"Self_Employed\": d2, \"Gender\": d3,\n\"Dependents\": d4, \"Education\": d5, \"Property_Area\": d6}\n\ndf.replace(cleanup_nums, inplace=True)",
   "outputs": [],
   "execution_count": null
  },
  {
   "cell_type": "code",
   "metadata": {
    "tags": [],
    "cell_id": "00002-94f3eb1f-7b60-440d-8281-32265d5362c5",
    "deepnote_to_be_reexecuted": false,
    "source_hash": "f804c160",
    "execution_start": 1636293377484,
    "execution_millis": 101,
    "deepnote_cell_type": "code"
   },
   "source": "df",
   "outputs": [
    {
     "output_type": "execute_result",
     "execution_count": 4,
     "data": {
      "application/vnd.deepnote.dataframe.v2+json": {
       "row_count": 480,
       "column_count": 12,
       "columns": [
        {
         "name": "Gender",
         "dtype": "int64",
         "stats": {
          "unique_count": 2,
          "nan_count": 0,
          "min": "0",
          "max": "1",
          "histogram": [
           {
            "bin_start": 0,
            "bin_end": 0.1,
            "count": 86
           },
           {
            "bin_start": 0.1,
            "bin_end": 0.2,
            "count": 0
           },
           {
            "bin_start": 0.2,
            "bin_end": 0.30000000000000004,
            "count": 0
           },
           {
            "bin_start": 0.30000000000000004,
            "bin_end": 0.4,
            "count": 0
           },
           {
            "bin_start": 0.4,
            "bin_end": 0.5,
            "count": 0
           },
           {
            "bin_start": 0.5,
            "bin_end": 0.6000000000000001,
            "count": 0
           },
           {
            "bin_start": 0.6000000000000001,
            "bin_end": 0.7000000000000001,
            "count": 0
           },
           {
            "bin_start": 0.7000000000000001,
            "bin_end": 0.8,
            "count": 0
           },
           {
            "bin_start": 0.8,
            "bin_end": 0.9,
            "count": 0
           },
           {
            "bin_start": 0.9,
            "bin_end": 1,
            "count": 394
           }
          ]
         }
        },
        {
         "name": "Married",
         "dtype": "int64",
         "stats": {
          "unique_count": 2,
          "nan_count": 0,
          "min": "0",
          "max": "1",
          "histogram": [
           {
            "bin_start": 0,
            "bin_end": 0.1,
            "count": 169
           },
           {
            "bin_start": 0.1,
            "bin_end": 0.2,
            "count": 0
           },
           {
            "bin_start": 0.2,
            "bin_end": 0.30000000000000004,
            "count": 0
           },
           {
            "bin_start": 0.30000000000000004,
            "bin_end": 0.4,
            "count": 0
           },
           {
            "bin_start": 0.4,
            "bin_end": 0.5,
            "count": 0
           },
           {
            "bin_start": 0.5,
            "bin_end": 0.6000000000000001,
            "count": 0
           },
           {
            "bin_start": 0.6000000000000001,
            "bin_end": 0.7000000000000001,
            "count": 0
           },
           {
            "bin_start": 0.7000000000000001,
            "bin_end": 0.8,
            "count": 0
           },
           {
            "bin_start": 0.8,
            "bin_end": 0.9,
            "count": 0
           },
           {
            "bin_start": 0.9,
            "bin_end": 1,
            "count": 311
           }
          ]
         }
        },
        {
         "name": "Dependents",
         "dtype": "int64",
         "stats": {
          "unique_count": 4,
          "nan_count": 0,
          "min": "0",
          "max": "3",
          "histogram": [
           {
            "bin_start": 0,
            "bin_end": 0.3,
            "count": 274
           },
           {
            "bin_start": 0.3,
            "bin_end": 0.6,
            "count": 0
           },
           {
            "bin_start": 0.6,
            "bin_end": 0.8999999999999999,
            "count": 0
           },
           {
            "bin_start": 0.8999999999999999,
            "bin_end": 1.2,
            "count": 80
           },
           {
            "bin_start": 1.2,
            "bin_end": 1.5,
            "count": 0
           },
           {
            "bin_start": 1.5,
            "bin_end": 1.7999999999999998,
            "count": 0
           },
           {
            "bin_start": 1.7999999999999998,
            "bin_end": 2.1,
            "count": 85
           },
           {
            "bin_start": 2.1,
            "bin_end": 2.4,
            "count": 0
           },
           {
            "bin_start": 2.4,
            "bin_end": 2.6999999999999997,
            "count": 0
           },
           {
            "bin_start": 2.6999999999999997,
            "bin_end": 3,
            "count": 41
           }
          ]
         }
        },
        {
         "name": "Education",
         "dtype": "int64",
         "stats": {
          "unique_count": 2,
          "nan_count": 0,
          "min": "0",
          "max": "1",
          "histogram": [
           {
            "bin_start": 0,
            "bin_end": 0.1,
            "count": 97
           },
           {
            "bin_start": 0.1,
            "bin_end": 0.2,
            "count": 0
           },
           {
            "bin_start": 0.2,
            "bin_end": 0.30000000000000004,
            "count": 0
           },
           {
            "bin_start": 0.30000000000000004,
            "bin_end": 0.4,
            "count": 0
           },
           {
            "bin_start": 0.4,
            "bin_end": 0.5,
            "count": 0
           },
           {
            "bin_start": 0.5,
            "bin_end": 0.6000000000000001,
            "count": 0
           },
           {
            "bin_start": 0.6000000000000001,
            "bin_end": 0.7000000000000001,
            "count": 0
           },
           {
            "bin_start": 0.7000000000000001,
            "bin_end": 0.8,
            "count": 0
           },
           {
            "bin_start": 0.8,
            "bin_end": 0.9,
            "count": 0
           },
           {
            "bin_start": 0.9,
            "bin_end": 1,
            "count": 383
           }
          ]
         }
        },
        {
         "name": "Self_Employed",
         "dtype": "int64",
         "stats": {
          "unique_count": 2,
          "nan_count": 0,
          "min": "0",
          "max": "1",
          "histogram": [
           {
            "bin_start": 0,
            "bin_end": 0.1,
            "count": 414
           },
           {
            "bin_start": 0.1,
            "bin_end": 0.2,
            "count": 0
           },
           {
            "bin_start": 0.2,
            "bin_end": 0.30000000000000004,
            "count": 0
           },
           {
            "bin_start": 0.30000000000000004,
            "bin_end": 0.4,
            "count": 0
           },
           {
            "bin_start": 0.4,
            "bin_end": 0.5,
            "count": 0
           },
           {
            "bin_start": 0.5,
            "bin_end": 0.6000000000000001,
            "count": 0
           },
           {
            "bin_start": 0.6000000000000001,
            "bin_end": 0.7000000000000001,
            "count": 0
           },
           {
            "bin_start": 0.7000000000000001,
            "bin_end": 0.8,
            "count": 0
           },
           {
            "bin_start": 0.8,
            "bin_end": 0.9,
            "count": 0
           },
           {
            "bin_start": 0.9,
            "bin_end": 1,
            "count": 66
           }
          ]
         }
        },
        {
         "name": "ApplicantIncome",
         "dtype": "int64",
         "stats": {
          "unique_count": 405,
          "nan_count": 0,
          "min": "150",
          "max": "81000",
          "histogram": [
           {
            "bin_start": 150,
            "bin_end": 8235,
            "count": 412
           },
           {
            "bin_start": 8235,
            "bin_end": 16320,
            "count": 53
           },
           {
            "bin_start": 16320,
            "bin_end": 24405,
            "count": 10
           },
           {
            "bin_start": 24405,
            "bin_end": 32490,
            "count": 0
           },
           {
            "bin_start": 32490,
            "bin_end": 40575,
            "count": 4
           },
           {
            "bin_start": 40575,
            "bin_end": 48660,
            "count": 0
           },
           {
            "bin_start": 48660,
            "bin_end": 56745,
            "count": 0
           },
           {
            "bin_start": 56745,
            "bin_end": 64830,
            "count": 0
           },
           {
            "bin_start": 64830,
            "bin_end": 72915,
            "count": 0
           },
           {
            "bin_start": 72915,
            "bin_end": 81000,
            "count": 1
           }
          ]
         }
        },
        {
         "name": "CoapplicantIncome",
         "dtype": "float64",
         "stats": {
          "unique_count": 232,
          "nan_count": 0,
          "min": "0.0",
          "max": "33837.0",
          "histogram": [
           {
            "bin_start": 0,
            "bin_end": 3383.7,
            "count": 418
           },
           {
            "bin_start": 3383.7,
            "bin_end": 6767.4,
            "count": 49
           },
           {
            "bin_start": 6767.4,
            "bin_end": 10151.099999999999,
            "count": 8
           },
           {
            "bin_start": 10151.099999999999,
            "bin_end": 13534.8,
            "count": 2
           },
           {
            "bin_start": 13534.8,
            "bin_end": 16918.5,
            "count": 0
           },
           {
            "bin_start": 16918.5,
            "bin_end": 20302.199999999997,
            "count": 2
           },
           {
            "bin_start": 20302.199999999997,
            "bin_end": 23685.899999999998,
            "count": 0
           },
           {
            "bin_start": 23685.899999999998,
            "bin_end": 27069.6,
            "count": 0
           },
           {
            "bin_start": 27069.6,
            "bin_end": 30453.3,
            "count": 0
           },
           {
            "bin_start": 30453.3,
            "bin_end": 33837,
            "count": 1
           }
          ]
         }
        },
        {
         "name": "LoanAmount",
         "dtype": "float64",
         "stats": {
          "unique_count": 186,
          "nan_count": 0,
          "min": "9.0",
          "max": "600.0",
          "histogram": [
           {
            "bin_start": 9,
            "bin_end": 68.1,
            "count": 42
           },
           {
            "bin_start": 68.1,
            "bin_end": 127.2,
            "count": 194
           },
           {
            "bin_start": 127.2,
            "bin_end": 186.3,
            "count": 153
           },
           {
            "bin_start": 186.3,
            "bin_end": 245.4,
            "count": 49
           },
           {
            "bin_start": 245.4,
            "bin_end": 304.5,
            "count": 22
           },
           {
            "bin_start": 304.5,
            "bin_end": 363.6,
            "count": 8
           },
           {
            "bin_start": 363.6,
            "bin_end": 422.7,
            "count": 3
           },
           {
            "bin_start": 422.7,
            "bin_end": 481.8,
            "count": 3
           },
           {
            "bin_start": 481.8,
            "bin_end": 540.9,
            "count": 3
           },
           {
            "bin_start": 540.9,
            "bin_end": 600,
            "count": 3
           }
          ]
         }
        },
        {
         "name": "Loan_Amount_Term",
         "dtype": "float64",
         "stats": {
          "unique_count": 9,
          "nan_count": 0,
          "min": "36.0",
          "max": "480.0",
          "histogram": [
           {
            "bin_start": 36,
            "bin_end": 80.4,
            "count": 4
           },
           {
            "bin_start": 80.4,
            "bin_end": 124.8,
            "count": 6
           },
           {
            "bin_start": 124.8,
            "bin_end": 169.2,
            "count": 0
           },
           {
            "bin_start": 169.2,
            "bin_end": 213.6,
            "count": 36
           },
           {
            "bin_start": 213.6,
            "bin_end": 258,
            "count": 2
           },
           {
            "bin_start": 258,
            "bin_end": 302.4,
            "count": 9
           },
           {
            "bin_start": 302.4,
            "bin_end": 346.8,
            "count": 0
           },
           {
            "bin_start": 346.8,
            "bin_end": 391.2,
            "count": 411
           },
           {
            "bin_start": 391.2,
            "bin_end": 435.59999999999997,
            "count": 0
           },
           {
            "bin_start": 435.59999999999997,
            "bin_end": 480,
            "count": 12
           }
          ]
         }
        },
        {
         "name": "Credit_History",
         "dtype": "float64",
         "stats": {
          "unique_count": 2,
          "nan_count": 0,
          "min": "0.0",
          "max": "1.0",
          "histogram": [
           {
            "bin_start": 0,
            "bin_end": 0.1,
            "count": 70
           },
           {
            "bin_start": 0.1,
            "bin_end": 0.2,
            "count": 0
           },
           {
            "bin_start": 0.2,
            "bin_end": 0.30000000000000004,
            "count": 0
           },
           {
            "bin_start": 0.30000000000000004,
            "bin_end": 0.4,
            "count": 0
           },
           {
            "bin_start": 0.4,
            "bin_end": 0.5,
            "count": 0
           },
           {
            "bin_start": 0.5,
            "bin_end": 0.6000000000000001,
            "count": 0
           },
           {
            "bin_start": 0.6000000000000001,
            "bin_end": 0.7000000000000001,
            "count": 0
           },
           {
            "bin_start": 0.7000000000000001,
            "bin_end": 0.8,
            "count": 0
           },
           {
            "bin_start": 0.8,
            "bin_end": 0.9,
            "count": 0
           },
           {
            "bin_start": 0.9,
            "bin_end": 1,
            "count": 410
           }
          ]
         }
        },
        {
         "name": "Property_Area",
         "dtype": "float64",
         "stats": {
          "unique_count": 3,
          "nan_count": 0,
          "min": "0.0",
          "max": "1.0",
          "histogram": [
           {
            "bin_start": 0,
            "bin_end": 0.1,
            "count": 139
           },
           {
            "bin_start": 0.1,
            "bin_end": 0.2,
            "count": 0
           },
           {
            "bin_start": 0.2,
            "bin_end": 0.30000000000000004,
            "count": 0
           },
           {
            "bin_start": 0.30000000000000004,
            "bin_end": 0.4,
            "count": 0
           },
           {
            "bin_start": 0.4,
            "bin_end": 0.5,
            "count": 0
           },
           {
            "bin_start": 0.5,
            "bin_end": 0.6000000000000001,
            "count": 191
           },
           {
            "bin_start": 0.6000000000000001,
            "bin_end": 0.7000000000000001,
            "count": 0
           },
           {
            "bin_start": 0.7000000000000001,
            "bin_end": 0.8,
            "count": 0
           },
           {
            "bin_start": 0.8,
            "bin_end": 0.9,
            "count": 0
           },
           {
            "bin_start": 0.9,
            "bin_end": 1,
            "count": 150
           }
          ]
         }
        },
        {
         "name": "Loan_Status",
         "dtype": "int64",
         "stats": {
          "unique_count": 2,
          "nan_count": 0,
          "min": "0",
          "max": "1",
          "histogram": [
           {
            "bin_start": 0,
            "bin_end": 0.1,
            "count": 148
           },
           {
            "bin_start": 0.1,
            "bin_end": 0.2,
            "count": 0
           },
           {
            "bin_start": 0.2,
            "bin_end": 0.30000000000000004,
            "count": 0
           },
           {
            "bin_start": 0.30000000000000004,
            "bin_end": 0.4,
            "count": 0
           },
           {
            "bin_start": 0.4,
            "bin_end": 0.5,
            "count": 0
           },
           {
            "bin_start": 0.5,
            "bin_end": 0.6000000000000001,
            "count": 0
           },
           {
            "bin_start": 0.6000000000000001,
            "bin_end": 0.7000000000000001,
            "count": 0
           },
           {
            "bin_start": 0.7000000000000001,
            "bin_end": 0.8,
            "count": 0
           },
           {
            "bin_start": 0.8,
            "bin_end": 0.9,
            "count": 0
           },
           {
            "bin_start": 0.9,
            "bin_end": 1,
            "count": 332
           }
          ]
         }
        },
        {
         "name": "_deepnote_index_column",
         "dtype": "int64"
        }
       ],
       "rows_top": [
        {
         "Gender": 1,
         "Married": 1,
         "Dependents": 1,
         "Education": 1,
         "Self_Employed": 0,
         "ApplicantIncome": 4583,
         "CoapplicantIncome": 1508,
         "LoanAmount": 128,
         "Loan_Amount_Term": 360,
         "Credit_History": 1,
         "Property_Area": 0,
         "Loan_Status": 0,
         "_deepnote_index_column": 1
        },
        {
         "Gender": 1,
         "Married": 1,
         "Dependents": 0,
         "Education": 1,
         "Self_Employed": 1,
         "ApplicantIncome": 3000,
         "CoapplicantIncome": 0,
         "LoanAmount": 66,
         "Loan_Amount_Term": 360,
         "Credit_History": 1,
         "Property_Area": 1,
         "Loan_Status": 1,
         "_deepnote_index_column": 2
        },
        {
         "Gender": 1,
         "Married": 1,
         "Dependents": 0,
         "Education": 0,
         "Self_Employed": 0,
         "ApplicantIncome": 2583,
         "CoapplicantIncome": 2358,
         "LoanAmount": 120,
         "Loan_Amount_Term": 360,
         "Credit_History": 1,
         "Property_Area": 1,
         "Loan_Status": 1,
         "_deepnote_index_column": 3
        },
        {
         "Gender": 1,
         "Married": 0,
         "Dependents": 0,
         "Education": 1,
         "Self_Employed": 0,
         "ApplicantIncome": 6000,
         "CoapplicantIncome": 0,
         "LoanAmount": 141,
         "Loan_Amount_Term": 360,
         "Credit_History": 1,
         "Property_Area": 1,
         "Loan_Status": 1,
         "_deepnote_index_column": 4
        },
        {
         "Gender": 1,
         "Married": 1,
         "Dependents": 2,
         "Education": 1,
         "Self_Employed": 1,
         "ApplicantIncome": 5417,
         "CoapplicantIncome": 4196,
         "LoanAmount": 267,
         "Loan_Amount_Term": 360,
         "Credit_History": 1,
         "Property_Area": 1,
         "Loan_Status": 1,
         "_deepnote_index_column": 5
        },
        {
         "Gender": 1,
         "Married": 1,
         "Dependents": 0,
         "Education": 0,
         "Self_Employed": 0,
         "ApplicantIncome": 2333,
         "CoapplicantIncome": 1516,
         "LoanAmount": 95,
         "Loan_Amount_Term": 360,
         "Credit_History": 1,
         "Property_Area": 1,
         "Loan_Status": 1,
         "_deepnote_index_column": 6
        },
        {
         "Gender": 1,
         "Married": 1,
         "Dependents": 3,
         "Education": 1,
         "Self_Employed": 0,
         "ApplicantIncome": 3036,
         "CoapplicantIncome": 2504,
         "LoanAmount": 158,
         "Loan_Amount_Term": 360,
         "Credit_History": 0,
         "Property_Area": 0.5,
         "Loan_Status": 0,
         "_deepnote_index_column": 7
        },
        {
         "Gender": 1,
         "Married": 1,
         "Dependents": 2,
         "Education": 1,
         "Self_Employed": 0,
         "ApplicantIncome": 4006,
         "CoapplicantIncome": 1526,
         "LoanAmount": 168,
         "Loan_Amount_Term": 360,
         "Credit_History": 1,
         "Property_Area": 1,
         "Loan_Status": 1,
         "_deepnote_index_column": 8
        },
        {
         "Gender": 1,
         "Married": 1,
         "Dependents": 1,
         "Education": 1,
         "Self_Employed": 0,
         "ApplicantIncome": 12841,
         "CoapplicantIncome": 10968,
         "LoanAmount": 349,
         "Loan_Amount_Term": 360,
         "Credit_History": 1,
         "Property_Area": 0.5,
         "Loan_Status": 0,
         "_deepnote_index_column": 9
        },
        {
         "Gender": 1,
         "Married": 1,
         "Dependents": 2,
         "Education": 1,
         "Self_Employed": 0,
         "ApplicantIncome": 3200,
         "CoapplicantIncome": 700,
         "LoanAmount": 70,
         "Loan_Amount_Term": 360,
         "Credit_History": 1,
         "Property_Area": 1,
         "Loan_Status": 1,
         "_deepnote_index_column": 10
        },
        {
         "Gender": 1,
         "Married": 1,
         "Dependents": 2,
         "Education": 1,
         "Self_Employed": 0,
         "ApplicantIncome": 3073,
         "CoapplicantIncome": 8106,
         "LoanAmount": 200,
         "Loan_Amount_Term": 360,
         "Credit_History": 1,
         "Property_Area": 1,
         "Loan_Status": 1,
         "_deepnote_index_column": 12
        },
        {
         "Gender": 1,
         "Married": 0,
         "Dependents": 0,
         "Education": 1,
         "Self_Employed": 0,
         "ApplicantIncome": 1853,
         "CoapplicantIncome": 2840,
         "LoanAmount": 114,
         "Loan_Amount_Term": 360,
         "Credit_History": 1,
         "Property_Area": 0,
         "Loan_Status": 0,
         "_deepnote_index_column": 13
        },
        {
         "Gender": 1,
         "Married": 1,
         "Dependents": 2,
         "Education": 1,
         "Self_Employed": 0,
         "ApplicantIncome": 1299,
         "CoapplicantIncome": 1086,
         "LoanAmount": 17,
         "Loan_Amount_Term": 120,
         "Credit_History": 1,
         "Property_Area": 1,
         "Loan_Status": 1,
         "_deepnote_index_column": 14
        },
        {
         "Gender": 1,
         "Married": 0,
         "Dependents": 0,
         "Education": 1,
         "Self_Employed": 0,
         "ApplicantIncome": 4950,
         "CoapplicantIncome": 0,
         "LoanAmount": 125,
         "Loan_Amount_Term": 360,
         "Credit_History": 1,
         "Property_Area": 1,
         "Loan_Status": 1,
         "_deepnote_index_column": 15
        },
        {
         "Gender": 0,
         "Married": 0,
         "Dependents": 0,
         "Education": 1,
         "Self_Employed": 0,
         "ApplicantIncome": 3510,
         "CoapplicantIncome": 0,
         "LoanAmount": 76,
         "Loan_Amount_Term": 360,
         "Credit_History": 0,
         "Property_Area": 1,
         "Loan_Status": 0,
         "_deepnote_index_column": 17
        },
        {
         "Gender": 1,
         "Married": 1,
         "Dependents": 0,
         "Education": 0,
         "Self_Employed": 0,
         "ApplicantIncome": 4887,
         "CoapplicantIncome": 0,
         "LoanAmount": 133,
         "Loan_Amount_Term": 360,
         "Credit_History": 1,
         "Property_Area": 0,
         "Loan_Status": 0,
         "_deepnote_index_column": 18
        },
        {
         "Gender": 1,
         "Married": 1,
         "Dependents": 0,
         "Education": 0,
         "Self_Employed": 0,
         "ApplicantIncome": 7660,
         "CoapplicantIncome": 0,
         "LoanAmount": 104,
         "Loan_Amount_Term": 360,
         "Credit_History": 0,
         "Property_Area": 1,
         "Loan_Status": 0,
         "_deepnote_index_column": 20
        },
        {
         "Gender": 1,
         "Married": 1,
         "Dependents": 1,
         "Education": 1,
         "Self_Employed": 0,
         "ApplicantIncome": 5955,
         "CoapplicantIncome": 5625,
         "LoanAmount": 315,
         "Loan_Amount_Term": 360,
         "Credit_History": 1,
         "Property_Area": 1,
         "Loan_Status": 1,
         "_deepnote_index_column": 21
        },
        {
         "Gender": 1,
         "Married": 1,
         "Dependents": 0,
         "Education": 0,
         "Self_Employed": 0,
         "ApplicantIncome": 2600,
         "CoapplicantIncome": 1911,
         "LoanAmount": 116,
         "Loan_Amount_Term": 360,
         "Credit_History": 0,
         "Property_Area": 0.5,
         "Loan_Status": 0,
         "_deepnote_index_column": 22
        },
        {
         "Gender": 1,
         "Married": 1,
         "Dependents": 0,
         "Education": 1,
         "Self_Employed": 1,
         "ApplicantIncome": 9560,
         "CoapplicantIncome": 0,
         "LoanAmount": 191,
         "Loan_Amount_Term": 360,
         "Credit_History": 1,
         "Property_Area": 0.5,
         "Loan_Status": 1,
         "_deepnote_index_column": 25
        },
        {
         "Gender": 1,
         "Married": 1,
         "Dependents": 0,
         "Education": 1,
         "Self_Employed": 0,
         "ApplicantIncome": 2799,
         "CoapplicantIncome": 2253,
         "LoanAmount": 122,
         "Loan_Amount_Term": 360,
         "Credit_History": 1,
         "Property_Area": 0.5,
         "Loan_Status": 1,
         "_deepnote_index_column": 26
        },
        {
         "Gender": 1,
         "Married": 1,
         "Dependents": 2,
         "Education": 0,
         "Self_Employed": 0,
         "ApplicantIncome": 4226,
         "CoapplicantIncome": 1040,
         "LoanAmount": 110,
         "Loan_Amount_Term": 360,
         "Credit_History": 1,
         "Property_Area": 1,
         "Loan_Status": 1,
         "_deepnote_index_column": 27
        },
        {
         "Gender": 1,
         "Married": 0,
         "Dependents": 0,
         "Education": 0,
         "Self_Employed": 0,
         "ApplicantIncome": 1442,
         "CoapplicantIncome": 0,
         "LoanAmount": 35,
         "Loan_Amount_Term": 360,
         "Credit_History": 1,
         "Property_Area": 1,
         "Loan_Status": 0,
         "_deepnote_index_column": 28
        },
        {
         "Gender": 1,
         "Married": 0,
         "Dependents": 0,
         "Education": 1,
         "Self_Employed": 0,
         "ApplicantIncome": 3167,
         "CoapplicantIncome": 0,
         "LoanAmount": 74,
         "Loan_Amount_Term": 360,
         "Credit_History": 1,
         "Property_Area": 1,
         "Loan_Status": 0,
         "_deepnote_index_column": 31
        },
        {
         "Gender": 1,
         "Married": 0,
         "Dependents": 1,
         "Education": 1,
         "Self_Employed": 1,
         "ApplicantIncome": 4692,
         "CoapplicantIncome": 0,
         "LoanAmount": 106,
         "Loan_Amount_Term": 360,
         "Credit_History": 1,
         "Property_Area": 0,
         "Loan_Status": 0,
         "_deepnote_index_column": 32
        },
        {
         "Gender": 1,
         "Married": 1,
         "Dependents": 0,
         "Education": 1,
         "Self_Employed": 0,
         "ApplicantIncome": 3500,
         "CoapplicantIncome": 1667,
         "LoanAmount": 114,
         "Loan_Amount_Term": 360,
         "Credit_History": 1,
         "Property_Area": 0.5,
         "Loan_Status": 1,
         "_deepnote_index_column": 33
        },
        {
         "Gender": 1,
         "Married": 0,
         "Dependents": 3,
         "Education": 1,
         "Self_Employed": 0,
         "ApplicantIncome": 12500,
         "CoapplicantIncome": 3000,
         "LoanAmount": 320,
         "Loan_Amount_Term": 360,
         "Credit_History": 1,
         "Property_Area": 0,
         "Loan_Status": 0,
         "_deepnote_index_column": 34
        },
        {
         "Gender": 0,
         "Married": 1,
         "Dependents": 0,
         "Education": 1,
         "Self_Employed": 0,
         "ApplicantIncome": 3667,
         "CoapplicantIncome": 1459,
         "LoanAmount": 144,
         "Loan_Amount_Term": 360,
         "Credit_History": 1,
         "Property_Area": 0.5,
         "Loan_Status": 1,
         "_deepnote_index_column": 37
        },
        {
         "Gender": 1,
         "Married": 0,
         "Dependents": 0,
         "Education": 1,
         "Self_Employed": 0,
         "ApplicantIncome": 4166,
         "CoapplicantIncome": 7210,
         "LoanAmount": 184,
         "Loan_Amount_Term": 360,
         "Credit_History": 1,
         "Property_Area": 1,
         "Loan_Status": 1,
         "_deepnote_index_column": 38
        },
        {
         "Gender": 1,
         "Married": 0,
         "Dependents": 0,
         "Education": 0,
         "Self_Employed": 0,
         "ApplicantIncome": 3748,
         "CoapplicantIncome": 1668,
         "LoanAmount": 110,
         "Loan_Amount_Term": 360,
         "Credit_History": 1,
         "Property_Area": 0.5,
         "Loan_Status": 1,
         "_deepnote_index_column": 39
        },
        {
         "Gender": 1,
         "Married": 0,
         "Dependents": 0,
         "Education": 1,
         "Self_Employed": 0,
         "ApplicantIncome": 3600,
         "CoapplicantIncome": 0,
         "LoanAmount": 80,
         "Loan_Amount_Term": 360,
         "Credit_History": 1,
         "Property_Area": 1,
         "Loan_Status": 0,
         "_deepnote_index_column": 40
        },
        {
         "Gender": 1,
         "Married": 0,
         "Dependents": 0,
         "Education": 1,
         "Self_Employed": 0,
         "ApplicantIncome": 1800,
         "CoapplicantIncome": 1213,
         "LoanAmount": 47,
         "Loan_Amount_Term": 360,
         "Credit_History": 1,
         "Property_Area": 1,
         "Loan_Status": 1,
         "_deepnote_index_column": 41
        },
        {
         "Gender": 1,
         "Married": 1,
         "Dependents": 0,
         "Education": 1,
         "Self_Employed": 0,
         "ApplicantIncome": 3941,
         "CoapplicantIncome": 2336,
         "LoanAmount": 134,
         "Loan_Amount_Term": 360,
         "Credit_History": 1,
         "Property_Area": 0.5,
         "Loan_Status": 1,
         "_deepnote_index_column": 43
        },
        {
         "Gender": 1,
         "Married": 1,
         "Dependents": 1,
         "Education": 1,
         "Self_Employed": 0,
         "ApplicantIncome": 5649,
         "CoapplicantIncome": 0,
         "LoanAmount": 44,
         "Loan_Amount_Term": 360,
         "Credit_History": 1,
         "Property_Area": 1,
         "Loan_Status": 1,
         "_deepnote_index_column": 46
        },
        {
         "Gender": 1,
         "Married": 1,
         "Dependents": 0,
         "Education": 1,
         "Self_Employed": 0,
         "ApplicantIncome": 5821,
         "CoapplicantIncome": 0,
         "LoanAmount": 144,
         "Loan_Amount_Term": 360,
         "Credit_History": 1,
         "Property_Area": 1,
         "Loan_Status": 1,
         "_deepnote_index_column": 47
        },
        {
         "Gender": 0,
         "Married": 1,
         "Dependents": 0,
         "Education": 1,
         "Self_Employed": 0,
         "ApplicantIncome": 2645,
         "CoapplicantIncome": 3440,
         "LoanAmount": 120,
         "Loan_Amount_Term": 360,
         "Credit_History": 0,
         "Property_Area": 1,
         "Loan_Status": 0,
         "_deepnote_index_column": 48
        },
        {
         "Gender": 0,
         "Married": 0,
         "Dependents": 0,
         "Education": 1,
         "Self_Employed": 0,
         "ApplicantIncome": 4000,
         "CoapplicantIncome": 2275,
         "LoanAmount": 144,
         "Loan_Amount_Term": 360,
         "Credit_History": 1,
         "Property_Area": 0.5,
         "Loan_Status": 1,
         "_deepnote_index_column": 49
        },
        {
         "Gender": 0,
         "Married": 1,
         "Dependents": 0,
         "Education": 0,
         "Self_Employed": 0,
         "ApplicantIncome": 1928,
         "CoapplicantIncome": 1644,
         "LoanAmount": 100,
         "Loan_Amount_Term": 360,
         "Credit_History": 1,
         "Property_Area": 0.5,
         "Loan_Status": 1,
         "_deepnote_index_column": 50
        },
        {
         "Gender": 0,
         "Married": 0,
         "Dependents": 0,
         "Education": 1,
         "Self_Employed": 0,
         "ApplicantIncome": 3086,
         "CoapplicantIncome": 0,
         "LoanAmount": 120,
         "Loan_Amount_Term": 360,
         "Credit_History": 1,
         "Property_Area": 0.5,
         "Loan_Status": 1,
         "_deepnote_index_column": 51
        },
        {
         "Gender": 0,
         "Married": 0,
         "Dependents": 0,
         "Education": 1,
         "Self_Employed": 0,
         "ApplicantIncome": 4230,
         "CoapplicantIncome": 0,
         "LoanAmount": 112,
         "Loan_Amount_Term": 360,
         "Credit_History": 1,
         "Property_Area": 0.5,
         "Loan_Status": 0,
         "_deepnote_index_column": 52
        },
        {
         "Gender": 1,
         "Married": 1,
         "Dependents": 2,
         "Education": 1,
         "Self_Employed": 0,
         "ApplicantIncome": 4616,
         "CoapplicantIncome": 0,
         "LoanAmount": 134,
         "Loan_Amount_Term": 360,
         "Credit_History": 1,
         "Property_Area": 1,
         "Loan_Status": 0,
         "_deepnote_index_column": 53
        }
       ],
       "rows_bottom": [
        {
         "Gender": 0,
         "Married": 1,
         "Dependents": 1,
         "Education": 1,
         "Self_Employed": 1,
         "ApplicantIncome": 19484,
         "CoapplicantIncome": 0,
         "LoanAmount": 600,
         "Loan_Amount_Term": 360,
         "Credit_History": 1,
         "Property_Area": 0.5,
         "Loan_Status": 1,
         "_deepnote_index_column": 561
        },
        {
         "Gender": 1,
         "Married": 1,
         "Dependents": 0,
         "Education": 1,
         "Self_Employed": 0,
         "ApplicantIncome": 5923,
         "CoapplicantIncome": 2054,
         "LoanAmount": 211,
         "Loan_Amount_Term": 360,
         "Credit_History": 1,
         "Property_Area": 0,
         "Loan_Status": 1,
         "_deepnote_index_column": 562
        },
        {
         "Gender": 1,
         "Married": 0,
         "Dependents": 0,
         "Education": 0,
         "Self_Employed": 1,
         "ApplicantIncome": 5800,
         "CoapplicantIncome": 0,
         "LoanAmount": 132,
         "Loan_Amount_Term": 360,
         "Credit_History": 1,
         "Property_Area": 0.5,
         "Loan_Status": 1,
         "_deepnote_index_column": 563
        },
        {
         "Gender": 1,
         "Married": 1,
         "Dependents": 2,
         "Education": 1,
         "Self_Employed": 0,
         "ApplicantIncome": 8799,
         "CoapplicantIncome": 0,
         "LoanAmount": 258,
         "Loan_Amount_Term": 360,
         "Credit_History": 0,
         "Property_Area": 1,
         "Loan_Status": 0,
         "_deepnote_index_column": 564
        },
        {
         "Gender": 1,
         "Married": 0,
         "Dependents": 0,
         "Education": 1,
         "Self_Employed": 0,
         "ApplicantIncome": 3333,
         "CoapplicantIncome": 0,
         "LoanAmount": 70,
         "Loan_Amount_Term": 360,
         "Credit_History": 1,
         "Property_Area": 1,
         "Loan_Status": 1,
         "_deepnote_index_column": 566
        },
        {
         "Gender": 1,
         "Married": 1,
         "Dependents": 3,
         "Education": 1,
         "Self_Employed": 0,
         "ApplicantIncome": 3400,
         "CoapplicantIncome": 2500,
         "LoanAmount": 123,
         "Loan_Amount_Term": 360,
         "Credit_History": 0,
         "Property_Area": 0,
         "Loan_Status": 0,
         "_deepnote_index_column": 567
        },
        {
         "Gender": 0,
         "Married": 0,
         "Dependents": 0,
         "Education": 1,
         "Self_Employed": 0,
         "ApplicantIncome": 2378,
         "CoapplicantIncome": 0,
         "LoanAmount": 9,
         "Loan_Amount_Term": 360,
         "Credit_History": 1,
         "Property_Area": 1,
         "Loan_Status": 0,
         "_deepnote_index_column": 568
        },
        {
         "Gender": 1,
         "Married": 1,
         "Dependents": 0,
         "Education": 1,
         "Self_Employed": 0,
         "ApplicantIncome": 3166,
         "CoapplicantIncome": 2064,
         "LoanAmount": 104,
         "Loan_Amount_Term": 360,
         "Credit_History": 0,
         "Property_Area": 1,
         "Loan_Status": 0,
         "_deepnote_index_column": 569
        },
        {
         "Gender": 1,
         "Married": 1,
         "Dependents": 1,
         "Education": 1,
         "Self_Employed": 0,
         "ApplicantIncome": 3417,
         "CoapplicantIncome": 1750,
         "LoanAmount": 186,
         "Loan_Amount_Term": 360,
         "Credit_History": 1,
         "Property_Area": 1,
         "Loan_Status": 1,
         "_deepnote_index_column": 570
        },
        {
         "Gender": 1,
         "Married": 1,
         "Dependents": 2,
         "Education": 1,
         "Self_Employed": 0,
         "ApplicantIncome": 16666,
         "CoapplicantIncome": 0,
         "LoanAmount": 275,
         "Loan_Amount_Term": 360,
         "Credit_History": 1,
         "Property_Area": 1,
         "Loan_Status": 1,
         "_deepnote_index_column": 572
        },
        {
         "Gender": 1,
         "Married": 1,
         "Dependents": 2,
         "Education": 0,
         "Self_Employed": 0,
         "ApplicantIncome": 6125,
         "CoapplicantIncome": 1625,
         "LoanAmount": 187,
         "Loan_Amount_Term": 480,
         "Credit_History": 1,
         "Property_Area": 0.5,
         "Loan_Status": 0,
         "_deepnote_index_column": 573
        },
        {
         "Gender": 1,
         "Married": 1,
         "Dependents": 3,
         "Education": 1,
         "Self_Employed": 0,
         "ApplicantIncome": 6406,
         "CoapplicantIncome": 0,
         "LoanAmount": 150,
         "Loan_Amount_Term": 360,
         "Credit_History": 1,
         "Property_Area": 0.5,
         "Loan_Status": 0,
         "_deepnote_index_column": 574
        },
        {
         "Gender": 1,
         "Married": 1,
         "Dependents": 2,
         "Education": 1,
         "Self_Employed": 0,
         "ApplicantIncome": 3159,
         "CoapplicantIncome": 461,
         "LoanAmount": 108,
         "Loan_Amount_Term": 84,
         "Credit_History": 1,
         "Property_Area": 1,
         "Loan_Status": 1,
         "_deepnote_index_column": 575
        },
        {
         "Gender": 1,
         "Married": 0,
         "Dependents": 0,
         "Education": 1,
         "Self_Employed": 0,
         "ApplicantIncome": 3229,
         "CoapplicantIncome": 2739,
         "LoanAmount": 110,
         "Loan_Amount_Term": 360,
         "Credit_History": 1,
         "Property_Area": 1,
         "Loan_Status": 1,
         "_deepnote_index_column": 577
        },
        {
         "Gender": 1,
         "Married": 1,
         "Dependents": 1,
         "Education": 1,
         "Self_Employed": 0,
         "ApplicantIncome": 1782,
         "CoapplicantIncome": 2232,
         "LoanAmount": 107,
         "Loan_Amount_Term": 360,
         "Credit_History": 1,
         "Property_Area": 0,
         "Loan_Status": 1,
         "_deepnote_index_column": 578
        },
        {
         "Gender": 1,
         "Married": 1,
         "Dependents": 2,
         "Education": 1,
         "Self_Employed": 0,
         "ApplicantIncome": 6540,
         "CoapplicantIncome": 0,
         "LoanAmount": 205,
         "Loan_Amount_Term": 360,
         "Credit_History": 1,
         "Property_Area": 0.5,
         "Loan_Status": 1,
         "_deepnote_index_column": 580
        },
        {
         "Gender": 1,
         "Married": 0,
         "Dependents": 0,
         "Education": 1,
         "Self_Employed": 0,
         "ApplicantIncome": 1836,
         "CoapplicantIncome": 33837,
         "LoanAmount": 90,
         "Loan_Amount_Term": 360,
         "Credit_History": 1,
         "Property_Area": 1,
         "Loan_Status": 0,
         "_deepnote_index_column": 581
        },
        {
         "Gender": 0,
         "Married": 1,
         "Dependents": 0,
         "Education": 1,
         "Self_Employed": 0,
         "ApplicantIncome": 3166,
         "CoapplicantIncome": 0,
         "LoanAmount": 36,
         "Loan_Amount_Term": 360,
         "Credit_History": 1,
         "Property_Area": 0.5,
         "Loan_Status": 1,
         "_deepnote_index_column": 582
        },
        {
         "Gender": 1,
         "Married": 1,
         "Dependents": 1,
         "Education": 1,
         "Self_Employed": 0,
         "ApplicantIncome": 2787,
         "CoapplicantIncome": 1917,
         "LoanAmount": 146,
         "Loan_Amount_Term": 360,
         "Credit_History": 0,
         "Property_Area": 0,
         "Loan_Status": 0,
         "_deepnote_index_column": 584
        },
        {
         "Gender": 1,
         "Married": 1,
         "Dependents": 1,
         "Education": 1,
         "Self_Employed": 0,
         "ApplicantIncome": 4283,
         "CoapplicantIncome": 3000,
         "LoanAmount": 172,
         "Loan_Amount_Term": 84,
         "Credit_History": 1,
         "Property_Area": 0,
         "Loan_Status": 0,
         "_deepnote_index_column": 585
        },
        {
         "Gender": 1,
         "Married": 1,
         "Dependents": 0,
         "Education": 1,
         "Self_Employed": 0,
         "ApplicantIncome": 2297,
         "CoapplicantIncome": 1522,
         "LoanAmount": 104,
         "Loan_Amount_Term": 360,
         "Credit_History": 1,
         "Property_Area": 1,
         "Loan_Status": 1,
         "_deepnote_index_column": 586
        },
        {
         "Gender": 0,
         "Married": 0,
         "Dependents": 0,
         "Education": 0,
         "Self_Employed": 0,
         "ApplicantIncome": 2165,
         "CoapplicantIncome": 0,
         "LoanAmount": 70,
         "Loan_Amount_Term": 360,
         "Credit_History": 1,
         "Property_Area": 0.5,
         "Loan_Status": 1,
         "_deepnote_index_column": 587
        },
        {
         "Gender": 1,
         "Married": 1,
         "Dependents": 2,
         "Education": 1,
         "Self_Employed": 1,
         "ApplicantIncome": 2726,
         "CoapplicantIncome": 0,
         "LoanAmount": 106,
         "Loan_Amount_Term": 360,
         "Credit_History": 0,
         "Property_Area": 0.5,
         "Loan_Status": 0,
         "_deepnote_index_column": 589
        },
        {
         "Gender": 1,
         "Married": 1,
         "Dependents": 0,
         "Education": 1,
         "Self_Employed": 0,
         "ApplicantIncome": 3000,
         "CoapplicantIncome": 3416,
         "LoanAmount": 56,
         "Loan_Amount_Term": 180,
         "Credit_History": 1,
         "Property_Area": 0.5,
         "Loan_Status": 1,
         "_deepnote_index_column": 590
        },
        {
         "Gender": 1,
         "Married": 1,
         "Dependents": 2,
         "Education": 1,
         "Self_Employed": 1,
         "ApplicantIncome": 6000,
         "CoapplicantIncome": 0,
         "LoanAmount": 205,
         "Loan_Amount_Term": 240,
         "Credit_History": 1,
         "Property_Area": 0.5,
         "Loan_Status": 0,
         "_deepnote_index_column": 591
        },
        {
         "Gender": 1,
         "Married": 1,
         "Dependents": 0,
         "Education": 1,
         "Self_Employed": 0,
         "ApplicantIncome": 3859,
         "CoapplicantIncome": 3300,
         "LoanAmount": 142,
         "Loan_Amount_Term": 180,
         "Credit_History": 1,
         "Property_Area": 0,
         "Loan_Status": 1,
         "_deepnote_index_column": 593
        },
        {
         "Gender": 1,
         "Married": 1,
         "Dependents": 0,
         "Education": 1,
         "Self_Employed": 1,
         "ApplicantIncome": 16120,
         "CoapplicantIncome": 0,
         "LoanAmount": 260,
         "Loan_Amount_Term": 360,
         "Credit_History": 1,
         "Property_Area": 1,
         "Loan_Status": 1,
         "_deepnote_index_column": 594
        },
        {
         "Gender": 1,
         "Married": 0,
         "Dependents": 0,
         "Education": 0,
         "Self_Employed": 0,
         "ApplicantIncome": 3833,
         "CoapplicantIncome": 0,
         "LoanAmount": 110,
         "Loan_Amount_Term": 360,
         "Credit_History": 1,
         "Property_Area": 0,
         "Loan_Status": 1,
         "_deepnote_index_column": 595
        },
        {
         "Gender": 1,
         "Married": 1,
         "Dependents": 2,
         "Education": 0,
         "Self_Employed": 1,
         "ApplicantIncome": 6383,
         "CoapplicantIncome": 1000,
         "LoanAmount": 187,
         "Loan_Amount_Term": 360,
         "Credit_History": 1,
         "Property_Area": 0,
         "Loan_Status": 0,
         "_deepnote_index_column": 596
        },
        {
         "Gender": 1,
         "Married": 1,
         "Dependents": 0,
         "Education": 1,
         "Self_Employed": 1,
         "ApplicantIncome": 9963,
         "CoapplicantIncome": 0,
         "LoanAmount": 180,
         "Loan_Amount_Term": 360,
         "Credit_History": 1,
         "Property_Area": 0,
         "Loan_Status": 1,
         "_deepnote_index_column": 598
        },
        {
         "Gender": 1,
         "Married": 1,
         "Dependents": 2,
         "Education": 1,
         "Self_Employed": 0,
         "ApplicantIncome": 5780,
         "CoapplicantIncome": 0,
         "LoanAmount": 192,
         "Loan_Amount_Term": 360,
         "Credit_History": 1,
         "Property_Area": 1,
         "Loan_Status": 1,
         "_deepnote_index_column": 599
        },
        {
         "Gender": 1,
         "Married": 1,
         "Dependents": 3,
         "Education": 1,
         "Self_Employed": 0,
         "ApplicantIncome": 5703,
         "CoapplicantIncome": 0,
         "LoanAmount": 128,
         "Loan_Amount_Term": 360,
         "Credit_History": 1,
         "Property_Area": 1,
         "Loan_Status": 1,
         "_deepnote_index_column": 602
        },
        {
         "Gender": 1,
         "Married": 0,
         "Dependents": 0,
         "Education": 1,
         "Self_Employed": 0,
         "ApplicantIncome": 3676,
         "CoapplicantIncome": 4301,
         "LoanAmount": 172,
         "Loan_Amount_Term": 360,
         "Credit_History": 1,
         "Property_Area": 0,
         "Loan_Status": 1,
         "_deepnote_index_column": 603
        },
        {
         "Gender": 0,
         "Married": 1,
         "Dependents": 1,
         "Education": 1,
         "Self_Employed": 0,
         "ApplicantIncome": 12000,
         "CoapplicantIncome": 0,
         "LoanAmount": 496,
         "Loan_Amount_Term": 360,
         "Credit_History": 1,
         "Property_Area": 0.5,
         "Loan_Status": 1,
         "_deepnote_index_column": 604
        },
        {
         "Gender": 1,
         "Married": 1,
         "Dependents": 1,
         "Education": 1,
         "Self_Employed": 0,
         "ApplicantIncome": 3400,
         "CoapplicantIncome": 2500,
         "LoanAmount": 173,
         "Loan_Amount_Term": 360,
         "Credit_History": 1,
         "Property_Area": 0.5,
         "Loan_Status": 1,
         "_deepnote_index_column": 606
        },
        {
         "Gender": 1,
         "Married": 1,
         "Dependents": 2,
         "Education": 0,
         "Self_Employed": 0,
         "ApplicantIncome": 3987,
         "CoapplicantIncome": 1411,
         "LoanAmount": 157,
         "Loan_Amount_Term": 360,
         "Credit_History": 1,
         "Property_Area": 0,
         "Loan_Status": 1,
         "_deepnote_index_column": 607
        },
        {
         "Gender": 1,
         "Married": 1,
         "Dependents": 0,
         "Education": 1,
         "Self_Employed": 0,
         "ApplicantIncome": 3232,
         "CoapplicantIncome": 1950,
         "LoanAmount": 108,
         "Loan_Amount_Term": 360,
         "Credit_History": 1,
         "Property_Area": 0,
         "Loan_Status": 1,
         "_deepnote_index_column": 608
        },
        {
         "Gender": 0,
         "Married": 0,
         "Dependents": 0,
         "Education": 1,
         "Self_Employed": 0,
         "ApplicantIncome": 2900,
         "CoapplicantIncome": 0,
         "LoanAmount": 71,
         "Loan_Amount_Term": 360,
         "Credit_History": 1,
         "Property_Area": 0,
         "Loan_Status": 1,
         "_deepnote_index_column": 609
        },
        {
         "Gender": 1,
         "Married": 1,
         "Dependents": 3,
         "Education": 1,
         "Self_Employed": 0,
         "ApplicantIncome": 4106,
         "CoapplicantIncome": 0,
         "LoanAmount": 40,
         "Loan_Amount_Term": 180,
         "Credit_History": 1,
         "Property_Area": 0,
         "Loan_Status": 1,
         "_deepnote_index_column": 610
        },
        {
         "Gender": 1,
         "Married": 1,
         "Dependents": 1,
         "Education": 1,
         "Self_Employed": 0,
         "ApplicantIncome": 8072,
         "CoapplicantIncome": 240,
         "LoanAmount": 253,
         "Loan_Amount_Term": 360,
         "Credit_History": 1,
         "Property_Area": 1,
         "Loan_Status": 1,
         "_deepnote_index_column": 611
        },
        {
         "Gender": 1,
         "Married": 1,
         "Dependents": 2,
         "Education": 1,
         "Self_Employed": 0,
         "ApplicantIncome": 7583,
         "CoapplicantIncome": 0,
         "LoanAmount": 187,
         "Loan_Amount_Term": 360,
         "Credit_History": 1,
         "Property_Area": 1,
         "Loan_Status": 1,
         "_deepnote_index_column": 612
        },
        {
         "Gender": 0,
         "Married": 0,
         "Dependents": 0,
         "Education": 1,
         "Self_Employed": 1,
         "ApplicantIncome": 4583,
         "CoapplicantIncome": 0,
         "LoanAmount": 133,
         "Loan_Amount_Term": 360,
         "Credit_History": 0,
         "Property_Area": 0.5,
         "Loan_Status": 0,
         "_deepnote_index_column": 613
        }
       ]
      },
      "text/plain": "     Gender  Married  Dependents  Education  Self_Employed  ApplicantIncome  \\\n1         1        1           1          1              0             4583   \n2         1        1           0          1              1             3000   \n3         1        1           0          0              0             2583   \n4         1        0           0          1              0             6000   \n5         1        1           2          1              1             5417   \n..      ...      ...         ...        ...            ...              ...   \n609       0        0           0          1              0             2900   \n610       1        1           3          1              0             4106   \n611       1        1           1          1              0             8072   \n612       1        1           2          1              0             7583   \n613       0        0           0          1              1             4583   \n\n     CoapplicantIncome  LoanAmount  Loan_Amount_Term  Credit_History  \\\n1               1508.0       128.0             360.0             1.0   \n2                  0.0        66.0             360.0             1.0   \n3               2358.0       120.0             360.0             1.0   \n4                  0.0       141.0             360.0             1.0   \n5               4196.0       267.0             360.0             1.0   \n..                 ...         ...               ...             ...   \n609                0.0        71.0             360.0             1.0   \n610                0.0        40.0             180.0             1.0   \n611              240.0       253.0             360.0             1.0   \n612                0.0       187.0             360.0             1.0   \n613                0.0       133.0             360.0             0.0   \n\n     Property_Area  Loan_Status  \n1              0.0            0  \n2              1.0            1  \n3              1.0            1  \n4              1.0            1  \n5              1.0            1  \n..             ...          ...  \n609            0.0            1  \n610            0.0            1  \n611            1.0            1  \n612            1.0            1  \n613            0.5            0  \n\n[480 rows x 12 columns]",
      "text/html": "<div>\n<style scoped>\n    .dataframe tbody tr th:only-of-type {\n        vertical-align: middle;\n    }\n\n    .dataframe tbody tr th {\n        vertical-align: top;\n    }\n\n    .dataframe thead th {\n        text-align: right;\n    }\n</style>\n<table border=\"1\" class=\"dataframe\">\n  <thead>\n    <tr style=\"text-align: right;\">\n      <th></th>\n      <th>Gender</th>\n      <th>Married</th>\n      <th>Dependents</th>\n      <th>Education</th>\n      <th>Self_Employed</th>\n      <th>ApplicantIncome</th>\n      <th>CoapplicantIncome</th>\n      <th>LoanAmount</th>\n      <th>Loan_Amount_Term</th>\n      <th>Credit_History</th>\n      <th>Property_Area</th>\n      <th>Loan_Status</th>\n    </tr>\n  </thead>\n  <tbody>\n    <tr>\n      <th>1</th>\n      <td>1</td>\n      <td>1</td>\n      <td>1</td>\n      <td>1</td>\n      <td>0</td>\n      <td>4583</td>\n      <td>1508.0</td>\n      <td>128.0</td>\n      <td>360.0</td>\n      <td>1.0</td>\n      <td>0.0</td>\n      <td>0</td>\n    </tr>\n    <tr>\n      <th>2</th>\n      <td>1</td>\n      <td>1</td>\n      <td>0</td>\n      <td>1</td>\n      <td>1</td>\n      <td>3000</td>\n      <td>0.0</td>\n      <td>66.0</td>\n      <td>360.0</td>\n      <td>1.0</td>\n      <td>1.0</td>\n      <td>1</td>\n    </tr>\n    <tr>\n      <th>3</th>\n      <td>1</td>\n      <td>1</td>\n      <td>0</td>\n      <td>0</td>\n      <td>0</td>\n      <td>2583</td>\n      <td>2358.0</td>\n      <td>120.0</td>\n      <td>360.0</td>\n      <td>1.0</td>\n      <td>1.0</td>\n      <td>1</td>\n    </tr>\n    <tr>\n      <th>4</th>\n      <td>1</td>\n      <td>0</td>\n      <td>0</td>\n      <td>1</td>\n      <td>0</td>\n      <td>6000</td>\n      <td>0.0</td>\n      <td>141.0</td>\n      <td>360.0</td>\n      <td>1.0</td>\n      <td>1.0</td>\n      <td>1</td>\n    </tr>\n    <tr>\n      <th>5</th>\n      <td>1</td>\n      <td>1</td>\n      <td>2</td>\n      <td>1</td>\n      <td>1</td>\n      <td>5417</td>\n      <td>4196.0</td>\n      <td>267.0</td>\n      <td>360.0</td>\n      <td>1.0</td>\n      <td>1.0</td>\n      <td>1</td>\n    </tr>\n    <tr>\n      <th>...</th>\n      <td>...</td>\n      <td>...</td>\n      <td>...</td>\n      <td>...</td>\n      <td>...</td>\n      <td>...</td>\n      <td>...</td>\n      <td>...</td>\n      <td>...</td>\n      <td>...</td>\n      <td>...</td>\n      <td>...</td>\n    </tr>\n    <tr>\n      <th>609</th>\n      <td>0</td>\n      <td>0</td>\n      <td>0</td>\n      <td>1</td>\n      <td>0</td>\n      <td>2900</td>\n      <td>0.0</td>\n      <td>71.0</td>\n      <td>360.0</td>\n      <td>1.0</td>\n      <td>0.0</td>\n      <td>1</td>\n    </tr>\n    <tr>\n      <th>610</th>\n      <td>1</td>\n      <td>1</td>\n      <td>3</td>\n      <td>1</td>\n      <td>0</td>\n      <td>4106</td>\n      <td>0.0</td>\n      <td>40.0</td>\n      <td>180.0</td>\n      <td>1.0</td>\n      <td>0.0</td>\n      <td>1</td>\n    </tr>\n    <tr>\n      <th>611</th>\n      <td>1</td>\n      <td>1</td>\n      <td>1</td>\n      <td>1</td>\n      <td>0</td>\n      <td>8072</td>\n      <td>240.0</td>\n      <td>253.0</td>\n      <td>360.0</td>\n      <td>1.0</td>\n      <td>1.0</td>\n      <td>1</td>\n    </tr>\n    <tr>\n      <th>612</th>\n      <td>1</td>\n      <td>1</td>\n      <td>2</td>\n      <td>1</td>\n      <td>0</td>\n      <td>7583</td>\n      <td>0.0</td>\n      <td>187.0</td>\n      <td>360.0</td>\n      <td>1.0</td>\n      <td>1.0</td>\n      <td>1</td>\n    </tr>\n    <tr>\n      <th>613</th>\n      <td>0</td>\n      <td>0</td>\n      <td>0</td>\n      <td>1</td>\n      <td>1</td>\n      <td>4583</td>\n      <td>0.0</td>\n      <td>133.0</td>\n      <td>360.0</td>\n      <td>0.0</td>\n      <td>0.5</td>\n      <td>0</td>\n    </tr>\n  </tbody>\n</table>\n<p>480 rows × 12 columns</p>\n</div>"
     },
     "metadata": {}
    }
   ],
   "execution_count": null
  },
  {
   "cell_type": "code",
   "metadata": {
    "tags": [],
    "cell_id": "00001-3780ef67-dc34-4686-b440-ca49f86ae864",
    "deepnote_to_be_reexecuted": false,
    "source_hash": "8dc3f9fc",
    "execution_start": 1636293377586,
    "execution_millis": 1,
    "deepnote_cell_type": "code"
   },
   "source": "# Convert everything to a NumPy array\nX = df.values[:,:-1]\ny = df.values[:,-1]\nfeature_names = df.columns[:-1]",
   "outputs": [],
   "execution_count": null
  },
  {
   "cell_type": "code",
   "metadata": {
    "tags": [],
    "cell_id": "00004-26d26774-7b5b-4745-88bc-6e11f2a8c6bd",
    "deepnote_to_be_reexecuted": false,
    "source_hash": "abb737e1",
    "execution_start": 1636293377636,
    "execution_millis": 0,
    "deepnote_cell_type": "code"
   },
   "source": "seed = 1812\nX_train, X_test, y_train, y_test = train_test_split(X, y, random_state=seed, stratify=y)",
   "outputs": [],
   "execution_count": null
  },
  {
   "cell_type": "code",
   "metadata": {
    "tags": [],
    "cell_id": "00005-805f548b-bb6f-4e23-8c8d-5f4d96626c1f",
    "deepnote_to_be_reexecuted": false,
    "source_hash": "5d702adf",
    "execution_start": 1636293377637,
    "execution_millis": 0,
    "deepnote_cell_type": "code"
   },
   "source": "def test_model(X_train, y_train, X_test, y_test, model, plot_tree=False):\n    model.fit(X_train, y_train)\n    y_pred = model.predict(X_test)\n    bal_acc = metrics.balanced_accuracy_score(y_test, y_pred)\n    print(\"Balanced accuracy: {}\".format(bal_acc))\n    print_metrics(y_pred, y_test)\n\n    if plot_tree:\n        tree.plot_tree(model, feature_names=feature_names)\n        plt.savefig(\"Decision_tree_loan.png\", dpi=800)\n        plt.close()",
   "outputs": [],
   "execution_count": null
  },
  {
   "cell_type": "code",
   "metadata": {
    "tags": [],
    "cell_id": "00003-5c722065-a625-4672-9d57-bbe43bb13791",
    "deepnote_to_be_reexecuted": false,
    "source_hash": "9e4338cc",
    "execution_start": 1636293377637,
    "execution_millis": 10903,
    "deepnote_cell_type": "code"
   },
   "source": "test_model(X_train, y_train, X_test, y_test, tree.DecisionTreeClassifier(), plot_tree=True)\ntest_model(X_train, y_train, X_test, y_test, ensemble.RandomForestClassifier())\ntest_model(X_train, y_train, X_test, y_test, svm.SVC(kernel=\"rbf\"))",
   "outputs": [
    {
     "name": "stdout",
     "text": "Balanced accuracy: 0.6167372191468576\n\tF1 = 0.7560975609756098\n\tAccuracy = 0.6666666666666666\n\t\tclass 0: 0.4864864864864865\n\t\tclass 1: 0.7469879518072289\nBalanced accuracy: 0.7070986649299902\n\tF1 = 0.8603351955307261\n\tAccuracy = 0.7916666666666666\n\t\tclass 0: 0.4864864864864865\n\t\tclass 1: 0.927710843373494\nBalanced accuracy: 0.5\n\tF1 = 0.8177339901477833\n\tAccuracy = 0.6916666666666667\n\t\tclass 0: 0.0\n\t\tclass 1: 1.0\n",
     "output_type": "stream"
    }
   ],
   "execution_count": null
  },
  {
   "cell_type": "markdown",
   "source": "<a style='text-decoration:none;line-height:16px;display:flex;color:#5B5B62;padding:10px;justify-content:end;' href='https://deepnote.com?utm_source=created-in-deepnote-cell&projectId=5161fece-8ef6-4825-9ea6-16ebba884483' target=\"_blank\">\n<img alt='Created in deepnote.com' style='display:inline;max-height:16px;margin:0px;margin-right:7.5px;' src='data:image/svg+xml;base64,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' > </img>\nCreated in <span style='font-weight:600;margin-left:4px;'>Deepnote</span></a>",
   "metadata": {
    "tags": [],
    "created_in_deepnote_cell": true,
    "deepnote_cell_type": "markdown"
   }
  }
 ],
 "nbformat": 4,
 "nbformat_minor": 2,
 "metadata": {
  "orig_nbformat": 2,
  "deepnote": {
   "is_reactive": false
  },
  "deepnote_notebook_id": "f44c7529-de08-4e96-b030-d9fbb5972ac8",
  "deepnote_execution_queue": []
 }
}