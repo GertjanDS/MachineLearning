{
  "nbformat": 4,
  "nbformat_minor": 0,
  "metadata": {
    "orig_nbformat": 2,
    "deepnote": {
      "is_reactive": false
    },
    "deepnote_notebook_id": "2037f38c-a316-44c5-8dfa-505e2033289c",
    "deepnote_execution_queue": [],
    "deepnote_app_layout": "article",
    "colab": {
      "name": "classification_wisconsin.ipynb",
      "provenance": []
    },
    "language_info": {
      "name": "python"
    },
    "kernelspec": {
      "name": "python3",
      "display_name": "Python 3"
    },
    "widgets": {
      "application/vnd.jupyter.widget-state+json": {
        "f3b675f41be44518a162883a873c8c84": {
          "model_module": "@jupyter-widgets/controls",
          "model_name": "HBoxModel",
          "model_module_version": "1.5.0",
          "state": {
            "_view_name": "HBoxView",
            "_dom_classes": [],
            "_model_name": "HBoxModel",
            "_view_module": "@jupyter-widgets/controls",
            "_model_module_version": "1.5.0",
            "_view_count": null,
            "_view_module_version": "1.5.0",
            "box_style": "",
            "layout": "IPY_MODEL_7b482421593e441cb0681a42b7bd4aa0",
            "_model_module": "@jupyter-widgets/controls",
            "children": [
              "IPY_MODEL_119cd310a61b48fab9ed79c1904e8804",
              "IPY_MODEL_2a1df851b7274a978c06b6b8389f889a",
              "IPY_MODEL_b9ae900edb8745baaa53770e0d9cab3c"
            ]
          }
        },
        "7b482421593e441cb0681a42b7bd4aa0": {
          "model_module": "@jupyter-widgets/base",
          "model_name": "LayoutModel",
          "model_module_version": "1.2.0",
          "state": {
            "_view_name": "LayoutView",
            "grid_template_rows": null,
            "right": null,
            "justify_content": null,
            "_view_module": "@jupyter-widgets/base",
            "overflow": null,
            "_model_module_version": "1.2.0",
            "_view_count": null,
            "flex_flow": null,
            "width": null,
            "min_width": null,
            "border": null,
            "align_items": null,
            "bottom": null,
            "_model_module": "@jupyter-widgets/base",
            "top": null,
            "grid_column": null,
            "overflow_y": null,
            "overflow_x": null,
            "grid_auto_flow": null,
            "grid_area": null,
            "grid_template_columns": null,
            "flex": null,
            "_model_name": "LayoutModel",
            "justify_items": null,
            "grid_row": null,
            "max_height": null,
            "align_content": null,
            "visibility": null,
            "align_self": null,
            "height": null,
            "min_height": null,
            "padding": null,
            "grid_auto_rows": null,
            "grid_gap": null,
            "max_width": null,
            "order": null,
            "_view_module_version": "1.2.0",
            "grid_template_areas": null,
            "object_position": null,
            "object_fit": null,
            "grid_auto_columns": null,
            "margin": null,
            "display": null,
            "left": null
          }
        },
        "119cd310a61b48fab9ed79c1904e8804": {
          "model_module": "@jupyter-widgets/controls",
          "model_name": "HTMLModel",
          "model_module_version": "1.5.0",
          "state": {
            "_view_name": "HTMLView",
            "style": "IPY_MODEL_8541bb629946489d82e78115f444355f",
            "_dom_classes": [],
            "description": "",
            "_model_name": "HTMLModel",
            "placeholder": "​",
            "_view_module": "@jupyter-widgets/controls",
            "_model_module_version": "1.5.0",
            "value": " 20%",
            "_view_count": null,
            "_view_module_version": "1.5.0",
            "description_tooltip": null,
            "_model_module": "@jupyter-widgets/controls",
            "layout": "IPY_MODEL_2092aa41988541e398a34e96081653dd"
          }
        },
        "2a1df851b7274a978c06b6b8389f889a": {
          "model_module": "@jupyter-widgets/controls",
          "model_name": "FloatProgressModel",
          "model_module_version": "1.5.0",
          "state": {
            "_view_name": "ProgressView",
            "style": "IPY_MODEL_e8bb7b3c730a4a4cb835906e4e5574bf",
            "_dom_classes": [],
            "description": "",
            "_model_name": "FloatProgressModel",
            "bar_style": "",
            "max": 5,
            "_view_module": "@jupyter-widgets/controls",
            "_model_module_version": "1.5.0",
            "value": 1,
            "_view_count": null,
            "_view_module_version": "1.5.0",
            "orientation": "horizontal",
            "min": 0,
            "description_tooltip": null,
            "_model_module": "@jupyter-widgets/controls",
            "layout": "IPY_MODEL_07e52aa2ca9542bd9f5a83e040e3157e"
          }
        },
        "b9ae900edb8745baaa53770e0d9cab3c": {
          "model_module": "@jupyter-widgets/controls",
          "model_name": "HTMLModel",
          "model_module_version": "1.5.0",
          "state": {
            "_view_name": "HTMLView",
            "style": "IPY_MODEL_0b972abccbbe44a09d8b9ff909d6dbf3",
            "_dom_classes": [],
            "description": "",
            "_model_name": "HTMLModel",
            "placeholder": "​",
            "_view_module": "@jupyter-widgets/controls",
            "_model_module_version": "1.5.0",
            "value": " 1/5 [00:34&lt;02:19, 34.84s/it]",
            "_view_count": null,
            "_view_module_version": "1.5.0",
            "description_tooltip": null,
            "_model_module": "@jupyter-widgets/controls",
            "layout": "IPY_MODEL_d6ed58c96e1747ecb25be8b5623f7274"
          }
        },
        "8541bb629946489d82e78115f444355f": {
          "model_module": "@jupyter-widgets/controls",
          "model_name": "DescriptionStyleModel",
          "model_module_version": "1.5.0",
          "state": {
            "_view_name": "StyleView",
            "_model_name": "DescriptionStyleModel",
            "description_width": "",
            "_view_module": "@jupyter-widgets/base",
            "_model_module_version": "1.5.0",
            "_view_count": null,
            "_view_module_version": "1.2.0",
            "_model_module": "@jupyter-widgets/controls"
          }
        },
        "2092aa41988541e398a34e96081653dd": {
          "model_module": "@jupyter-widgets/base",
          "model_name": "LayoutModel",
          "model_module_version": "1.2.0",
          "state": {
            "_view_name": "LayoutView",
            "grid_template_rows": null,
            "right": null,
            "justify_content": null,
            "_view_module": "@jupyter-widgets/base",
            "overflow": null,
            "_model_module_version": "1.2.0",
            "_view_count": null,
            "flex_flow": null,
            "width": null,
            "min_width": null,
            "border": null,
            "align_items": null,
            "bottom": null,
            "_model_module": "@jupyter-widgets/base",
            "top": null,
            "grid_column": null,
            "overflow_y": null,
            "overflow_x": null,
            "grid_auto_flow": null,
            "grid_area": null,
            "grid_template_columns": null,
            "flex": null,
            "_model_name": "LayoutModel",
            "justify_items": null,
            "grid_row": null,
            "max_height": null,
            "align_content": null,
            "visibility": null,
            "align_self": null,
            "height": null,
            "min_height": null,
            "padding": null,
            "grid_auto_rows": null,
            "grid_gap": null,
            "max_width": null,
            "order": null,
            "_view_module_version": "1.2.0",
            "grid_template_areas": null,
            "object_position": null,
            "object_fit": null,
            "grid_auto_columns": null,
            "margin": null,
            "display": null,
            "left": null
          }
        },
        "e8bb7b3c730a4a4cb835906e4e5574bf": {
          "model_module": "@jupyter-widgets/controls",
          "model_name": "ProgressStyleModel",
          "model_module_version": "1.5.0",
          "state": {
            "_view_name": "StyleView",
            "_model_name": "ProgressStyleModel",
            "description_width": "",
            "_view_module": "@jupyter-widgets/base",
            "_model_module_version": "1.5.0",
            "_view_count": null,
            "_view_module_version": "1.2.0",
            "bar_color": null,
            "_model_module": "@jupyter-widgets/controls"
          }
        },
        "07e52aa2ca9542bd9f5a83e040e3157e": {
          "model_module": "@jupyter-widgets/base",
          "model_name": "LayoutModel",
          "model_module_version": "1.2.0",
          "state": {
            "_view_name": "LayoutView",
            "grid_template_rows": null,
            "right": null,
            "justify_content": null,
            "_view_module": "@jupyter-widgets/base",
            "overflow": null,
            "_model_module_version": "1.2.0",
            "_view_count": null,
            "flex_flow": null,
            "width": null,
            "min_width": null,
            "border": null,
            "align_items": null,
            "bottom": null,
            "_model_module": "@jupyter-widgets/base",
            "top": null,
            "grid_column": null,
            "overflow_y": null,
            "overflow_x": null,
            "grid_auto_flow": null,
            "grid_area": null,
            "grid_template_columns": null,
            "flex": null,
            "_model_name": "LayoutModel",
            "justify_items": null,
            "grid_row": null,
            "max_height": null,
            "align_content": null,
            "visibility": null,
            "align_self": null,
            "height": null,
            "min_height": null,
            "padding": null,
            "grid_auto_rows": null,
            "grid_gap": null,
            "max_width": null,
            "order": null,
            "_view_module_version": "1.2.0",
            "grid_template_areas": null,
            "object_position": null,
            "object_fit": null,
            "grid_auto_columns": null,
            "margin": null,
            "display": null,
            "left": null
          }
        },
        "0b972abccbbe44a09d8b9ff909d6dbf3": {
          "model_module": "@jupyter-widgets/controls",
          "model_name": "DescriptionStyleModel",
          "model_module_version": "1.5.0",
          "state": {
            "_view_name": "StyleView",
            "_model_name": "DescriptionStyleModel",
            "description_width": "",
            "_view_module": "@jupyter-widgets/base",
            "_model_module_version": "1.5.0",
            "_view_count": null,
            "_view_module_version": "1.2.0",
            "_model_module": "@jupyter-widgets/controls"
          }
        },
        "d6ed58c96e1747ecb25be8b5623f7274": {
          "model_module": "@jupyter-widgets/base",
          "model_name": "LayoutModel",
          "model_module_version": "1.2.0",
          "state": {
            "_view_name": "LayoutView",
            "grid_template_rows": null,
            "right": null,
            "justify_content": null,
            "_view_module": "@jupyter-widgets/base",
            "overflow": null,
            "_model_module_version": "1.2.0",
            "_view_count": null,
            "flex_flow": null,
            "width": null,
            "min_width": null,
            "border": null,
            "align_items": null,
            "bottom": null,
            "_model_module": "@jupyter-widgets/base",
            "top": null,
            "grid_column": null,
            "overflow_y": null,
            "overflow_x": null,
            "grid_auto_flow": null,
            "grid_area": null,
            "grid_template_columns": null,
            "flex": null,
            "_model_name": "LayoutModel",
            "justify_items": null,
            "grid_row": null,
            "max_height": null,
            "align_content": null,
            "visibility": null,
            "align_self": null,
            "height": null,
            "min_height": null,
            "padding": null,
            "grid_auto_rows": null,
            "grid_gap": null,
            "max_width": null,
            "order": null,
            "_view_module_version": "1.2.0",
            "grid_template_areas": null,
            "object_position": null,
            "object_fit": null,
            "grid_auto_columns": null,
            "margin": null,
            "display": null,
            "left": null
          }
        }
      }
    }
  },
  "cells": [
    {
      "cell_type": "markdown",
      "metadata": {
        "tags": [],
        "is_collapsed": false,
        "cell_id": "00000-ff3c3007-7a3c-4192-a5d6-98934b2d2490",
        "deepnote_app_coordinates": {
          "x": 0,
          "y": null,
          "w": 12,
          "h": 2
        },
        "deepnote_cell_type": "text-cell-h1",
        "id": "ZH9yW1UmL1gD"
      },
      "source": [
        "# Setting up"
      ]
    },
    {
      "cell_type": "code",
      "metadata": {
        "tags": [],
        "cell_id": "00000-6cd51b82-eb2d-42c7-97e5-046c1066ef4f",
        "deepnote_to_be_reexecuted": false,
        "source_hash": "ea5894a4",
        "execution_start": 1638868040193,
        "execution_millis": 6145,
        "deepnote_app_coordinates": {
          "x": 0,
          "y": 3,
          "w": 12,
          "h": 5
        },
        "deepnote_output_heights": [
          462.75
        ],
        "deepnote_cell_type": "code",
        "id": "JDxfeVcUL1gF"
      },
      "source": [
        "import numpy as np\n",
        "import matplotlib.pyplot as plt\n",
        "import pandas as pd\n",
        "import shap\n",
        "\n",
        "from sklearn.model_selection import train_test_split, KFold, GridSearchCV, StratifiedKFold\n",
        "from sklearn.metrics import balanced_accuracy_score, accuracy_score, f1_score\n",
        "\n",
        "# Models\n",
        "from sklearn.neighbors import KNeighborsClassifier\n",
        "from sklearn.tree import DecisionTreeClassifier\n",
        "from sklearn.svm import SVC\n",
        "from tensorflow.keras import Sequential, Input\n",
        "from tensorflow.keras.layers import Dense, Dropout\n",
        "from tensorflow.keras.losses import BinaryCrossentropy\n",
        "from tensorflow.random import set_seed\n",
        "\n",
        "# from preprocessing import load_wisconsin_prepr\n",
        "\n",
        "# Interpretability measures\n",
        "from interpretability import PDP"
      ],
      "execution_count": 22,
      "outputs": []
    },
    {
      "cell_type": "code",
      "metadata": {
        "tags": [],
        "cell_id": "00001-ef876d0b-97ae-472d-8118-b80d41c67be2",
        "deepnote_to_be_reexecuted": false,
        "source_hash": "85ecb44b",
        "execution_start": 1638867946411,
        "execution_millis": 7,
        "deepnote_app_coordinates": {
          "x": 0,
          "y": 9,
          "w": 12,
          "h": 5
        },
        "deepnote_cell_type": "code",
        "id": "s2kszauTL1gH"
      },
      "source": [
        "def find_best_model(model, parameters, X_train, y_train): \n",
        "    clf = GridSearchCV(model, parameters, scoring=('balanced_accuracy'), cv=StratifiedKFold())\n",
        "    clf.fit(X_train, y_train)\n",
        "\n",
        "    return clf\n",
        "\n",
        "# Calculates the per-class accuracy given predicted and true output labels.\n",
        "def class_accs(y_pred, y_true):\n",
        "    acc0 = ((y_pred == y_true) & (y_true == 0)).sum() / (y_true == 0).sum()\n",
        "    acc1 = ((y_pred == y_true) & (y_true == 1)).sum() / (y_true == 1).sum()\n",
        "    return acc0, acc1\n",
        "\n",
        "# Prints a summary of performance metrics given predicted and true output labels.\n",
        "def print_metrics(y_pred, y_true):\n",
        "    f1 = f1_score(y_true, y_pred)\n",
        "    acc = accuracy_score(y_true, y_pred)\n",
        "    acc0, acc1 = class_accs(y_pred, y_true)\n",
        "    print(f'F1 = {f1}')\n",
        "    print(f'Accuracy = {acc}')\n",
        "    print(f'\\tclass 0: {acc0}')\n",
        "    print(f'\\tclass 1: {acc1}')\n",
        "\n",
        "def classify(output: np.ndarray):\n",
        "    return (output > 0.5).astype(int)\n",
        "\n",
        "def print_errors(clf, model_name, X_test, y_test):\n",
        "    y_pred = clf.predict(X_test)\n",
        "    if model_name == \"neural network\":\n",
        "        y_pred = np.reshape(y_pred, len(y_test))\n",
        "        y_pred = classify(y_pred)\n",
        "    \n",
        "    bal_acc = balanced_accuracy_score(y_test, y_pred)\n",
        "    print(\"Balanced accuracy ({}) = {}\".format(model_name, bal_acc))\n",
        "    print_metrics(y_pred, y_test)"
      ],
      "execution_count": 23,
      "outputs": []
    },
    {
      "cell_type": "code",
      "metadata": {
        "tags": [],
        "cell_id": "00002-48220a2c-1018-4a39-bfb1-9d3c57a0410b",
        "deepnote_to_be_reexecuted": false,
        "source_hash": "6cb31da9",
        "execution_start": 1638867955758,
        "execution_millis": 32,
        "deepnote_app_coordinates": {
          "x": 0,
          "y": 15,
          "w": 12,
          "h": 5
        },
        "deepnote_cell_type": "code",
        "id": "634IrHR6L1gH"
      },
      "source": [
        "X, y, feature_names = load_wisconsin_prepr()\n",
        "seed = 3011\n",
        "\n",
        "X_train, X_test, y_train, y_test = train_test_split(X, y, test_size=0.2, random_state=seed, stratify=y)"
      ],
      "execution_count": 50,
      "outputs": []
    },
    {
      "cell_type": "markdown",
      "metadata": {
        "id": "V-RdOA0EN3kX"
      },
      "source": [
        "# Training models"
      ]
    },
    {
      "cell_type": "markdown",
      "metadata": {
        "tags": [],
        "is_collapsed": false,
        "cell_id": "00004-9b855a33-d3eb-413b-bc22-72fc992b05c2",
        "deepnote_cell_type": "text-cell-h1",
        "id": "IfkoY0QaL1gI"
      },
      "source": [
        "## Scikit-learn models"
      ]
    },
    {
      "cell_type": "code",
      "metadata": {
        "tags": [],
        "cell_id": "00004-2a9513a9-a526-4077-8ce3-429190234ab9",
        "deepnote_to_be_reexecuted": true,
        "source_hash": "a7d99450",
        "execution_start": 1638728231334,
        "execution_millis": 4600,
        "deepnote_output_heights": [
          21.1875
        ],
        "deepnote_cell_type": "code",
        "id": "zQBeoDC3L1gI"
      },
      "source": [
        "model_names = [\n",
        "    \"k-nearest neighbors\", \n",
        "    \"decision tree classifier\",\n",
        "    \"support vector classifier\",\n",
        "    ]\n",
        "\n",
        "parameters = {\n",
        "    \"k-nearest neighbors\": {'n_neighbors': np.arange(1, 20), 'weights': ('uniform', 'distance')}, # 'n_neighbors': np.arange(1, 364)\n",
        "    \"decision tree classifier\": {'criterion': ('gini', 'entropy'), 'min_samples_split': np.arange(2, 20)}, # 'min_samples_split': np.arange(2, 364)\n",
        "    \"support vector classifier\": {'C': np.geomspace(0.01, 100, 41)}\n",
        "    }\n",
        "\n",
        "models_init = {\n",
        "    \"k-nearest neighbors\": KNeighborsClassifier(),\n",
        "    \"decision tree classifier\": DecisionTreeClassifier(random_state=seed),\n",
        "    \"support vector classifier\": SVC(kernel=\"linear\")\n",
        "    }\n",
        "\n",
        "models = dict()\n",
        "\n",
        "for model_name in model_names:\n",
        "    clf = find_best_model(models_init[model_name], parameters[model_name], X_train, y_train)\n",
        "    models[model_name] = clf.best_estimator_"
      ],
      "execution_count": 52,
      "outputs": []
    },
    {
      "cell_type": "markdown",
      "metadata": {
        "id": "-gy9opUMN-hc"
      },
      "source": [
        "## Neural network"
      ]
    },
    {
      "cell_type": "code",
      "metadata": {
        "id": "t1Y3dRfQOAML"
      },
      "source": [
        "X_, X_test, y_, y_test = train_test_split(X, y, test_size=0.2, random_state=seed, stratify=y)\n",
        "X_train, X_val, y_train, y_val = train_test_split(X_, y_, test_size=0.2, random_state=seed, stratify=y_)"
      ],
      "execution_count": 53,
      "outputs": []
    },
    {
      "cell_type": "code",
      "metadata": {
        "id": "VPD1EQljOJWI"
      },
      "source": [
        "# Initialise neural network\n",
        "BATCH_SIZE=64\n",
        "INPUT_SIZE= X_train.shape[1]\n",
        "\n",
        "set_seed(seed)\n",
        "\n",
        "model = Sequential()\n",
        "model.add(Input(INPUT_SIZE))\n",
        "model.add(Dense(20, activation=\"relu\"))\n",
        "model.add(Dropout(0.1))\n",
        "model.add(Dense(10, activation=\"relu\"))\n",
        "model.add(Dropout(0.1))\n",
        "model.add(Dense(5, activation=\"relu\"))\n",
        "model.add(Dropout(0.1))\n",
        "model.add(Dense(1, activation=\"sigmoid\"))\n",
        "model.compile(optimizer='adam',\n",
        "                loss=\"binary_crossentropy\",\n",
        "                metrics='binary_accuracy')\n",
        "\n",
        "n_epochs = 1629\n",
        "history = model.fit(X_train, y_train, batch_size=BATCH_SIZE, epochs=n_epochs, validation_data=(X_val, y_val)) # validation_split=0.2)\n",
        "\n",
        "models[\"neural network\"] = model"
      ],
      "execution_count": null,
      "outputs": []
    },
    {
      "cell_type": "markdown",
      "metadata": {
        "id": "ghZdMopVSOFx"
      },
      "source": [
        "## Errors"
      ]
    },
    {
      "cell_type": "code",
      "metadata": {
        "id": "BdOOxtvUSNpE",
        "outputId": "a29fef76-d3cc-46ee-846a-c4fcacf9109a",
        "colab": {
          "base_uri": "https://localhost:8080/"
        }
      },
      "source": [
        "for model_name in models.keys():\n",
        "    print_errors(models[model_name], model_name, X_test, y_test)"
      ],
      "execution_count": 55,
      "outputs": [
        {
          "output_type": "stream",
          "name": "stdout",
          "text": [
            "Balanced accuracy (k-nearest neighbors) = 0.9692460317460317\n",
            "F1 = 0.9793103448275863\n",
            "Accuracy = 0.9736842105263158\n",
            "\tclass 0: 0.9523809523809523\n",
            "\tclass 1: 0.9861111111111112\n",
            "Balanced accuracy (decision tree classifier) = 0.9295634920634921\n",
            "F1 = 0.943661971830986\n",
            "Accuracy = 0.9298245614035088\n",
            "\tclass 0: 0.9285714285714286\n",
            "\tclass 1: 0.9305555555555556\n",
            "Balanced accuracy (support vector classifier) = 0.9404761904761905\n",
            "F1 = 0.9664429530201343\n",
            "Accuracy = 0.956140350877193\n",
            "\tclass 0: 0.8809523809523809\n",
            "\tclass 1: 1.0\n",
            "Balanced accuracy (neural network) = 0.9761904761904762\n",
            "F1 = 0.9863013698630138\n",
            "Accuracy = 0.9824561403508771\n",
            "\tclass 0: 0.9523809523809523\n",
            "\tclass 1: 1.0\n"
          ]
        }
      ]
    },
    {
      "cell_type": "markdown",
      "metadata": {
        "tags": [],
        "is_collapsed": false,
        "cell_id": "00006-79bfd5d5-67fe-4b43-b204-71926b7b0748",
        "deepnote_cell_type": "text-cell-h1",
        "id": "I074qky8L1gJ"
      },
      "source": [
        "# Intrinsic interpretability"
      ]
    },
    {
      "cell_type": "code",
      "metadata": {
        "tags": [],
        "cell_id": "00007-4b23187f-bc95-407b-afdd-a3be7f433873",
        "deepnote_to_be_reexecuted": true,
        "source_hash": "e12fe36e",
        "execution_start": 1638728239361,
        "execution_millis": 850,
        "deepnote_output_heights": [
          21.1875,
          359
        ],
        "deepnote_cell_type": "code",
        "id": "6Fkvd_OeL1gJ",
        "outputId": "1ddcd061-a288-480c-db62-845cf65f602a",
        "colab": {
          "base_uri": "https://localhost:8080/",
          "height": 391
        }
      },
      "source": [
        "dtr_feat_imps = models[\"decision tree classifier\"].feature_importances_\n",
        "\n",
        "svc_coefs = models[\"support vector classifier\"].coef_[0]\n",
        "svc_feat_imps = np.abs(svc_coefs) / np.sum(np.abs(svc_coefs))\n",
        "\n",
        "feat_imps = pd.DataFrame({\"decision tree classifier\": dtr_feat_imps, \"support vector classifier\": svc_feat_imps}, index=feature_names)\n",
        "feat_imps.plot.bar()"
      ],
      "execution_count": 57,
      "outputs": [
        {
          "output_type": "execute_result",
          "data": {
            "text/plain": [
              "<matplotlib.axes._subplots.AxesSubplot at 0x7f2b2b8bc190>"
            ]
          },
          "metadata": {},
          "execution_count": 57
        },
        {
          "output_type": "display_data",
          "data": {
            "image/png": "[encoded data removed]",
            "text/plain": [
              "<Figure size 432x288 with 1 Axes>"
            ]
          },
          "metadata": {
            "needs_background": "light"
          }
        }
      ]
    },
    {
      "cell_type": "markdown",
      "metadata": {
        "tags": [],
        "is_collapsed": false,
        "cell_id": "00008-36d67a84-1493-4f17-9a8b-e4d3ce13e24e",
        "deepnote_cell_type": "text-cell-h1",
        "id": "roAhizIrL1gK"
      },
      "source": [
        "# Partial dependence plot"
      ]
    },
    {
      "cell_type": "code",
      "metadata": {
        "tags": [],
        "cell_id": "00009-54b9b92e-4e3d-4663-9470-5265332b7348",
        "deepnote_to_be_reexecuted": true,
        "source_hash": "721cd6ff",
        "execution_start": 1638728244644,
        "execution_millis": 4346,
        "deepnote_output_heights": [
          null,
          280,
          280,
          null,
          280,
          280,
          null,
          280,
          280
        ],
        "output_cleared": false,
        "deepnote_cell_type": "code",
        "id": "Gwz_xsQBL1gK",
        "outputId": "3249ba14-af57-40f9-ef85-27f60ee47cca",
        "colab": {
          "base_uri": "https://localhost:8080/",
          "height": 1000
        }
      },
      "source": [
        "for model_name in models.keys():\n",
        "    model = models[model_name]\n",
        "    print(model_name)\n",
        "\n",
        "    for i in range(2): # range(X_test.shape[1]):\n",
        "        PDP(i, feature_names[i], model, X_test, y_test, categorical=False)\n",
        "        plt.show()\n",
        "        plt.close()"
      ],
      "execution_count": 58,
      "outputs": [
        {
          "output_type": "stream",
          "name": "stdout",
          "text": [
            "k-nearest neighbors\n"
          ]
        },
        {
          "output_type": "display_data",
          "data": {
            "image/png": "[encoded data removed]",
            "text/plain": [
              "<Figure size 432x288 with 1 Axes>"
            ]
          },
          "metadata": {
            "needs_background": "light"
          }
        },
        {
          "output_type": "display_data",
          "data": {
            "image/png": "[encoded data removed]",
            "text/plain": [
              "<Figure size 432x288 with 1 Axes>"
            ]
          },
          "metadata": {
            "needs_background": "light"
          }
        },
        {
          "output_type": "stream",
          "name": "stdout",
          "text": [
            "decision tree classifier\n"
          ]
        },
        {
          "output_type": "display_data",
          "data": {
            "image/png": "[encoded data removed]",
            "text/plain": [
              "<Figure size 432x288 with 1 Axes>"
            ]
          },
          "metadata": {
            "needs_background": "light"
          }
        },
        {
          "output_type": "display_data",
          "data": {
            "image/png": "[encoded data removed]",
            "text/plain": [
              "<Figure size 432x288 with 1 Axes>"
            ]
          },
          "metadata": {
            "needs_background": "light"
          }
        },
        {
          "output_type": "stream",
          "name": "stdout",
          "text": [
            "support vector classifier\n"
          ]
        },
        {
          "output_type": "display_data",
          "data": {
            "image/png": "[encoded data removed]",
            "text/plain": [
              "<Figure size 432x288 with 1 Axes>"
            ]
          },
          "metadata": {
            "needs_background": "light"
          }
        },
        {
          "output_type": "display_data",
          "data": {
            "image/png": "[encoded data removed]",
            "text/plain": [
              "<Figure size 432x288 with 1 Axes>"
            ]
          },
          "metadata": {
            "needs_background": "light"
          }
        },
        {
          "output_type": "stream",
          "name": "stdout",
          "text": [
            "neural network\n"
          ]
        },
        {
          "output_type": "display_data",
          "data": {
            "image/png": "[encoded data removed]",
            "text/plain": [
              "<Figure size 432x288 with 1 Axes>"
            ]
          },
          "metadata": {
            "needs_background": "light"
          }
        },
        {
          "output_type": "display_data",
          "data": {
            "image/png": "[encoded data removed]",
            "text/plain": [
              "<Figure size 432x288 with 1 Axes>"
            ]
          },
          "metadata": {
            "needs_background": "light"
          }
        }
      ]
    },
    {
      "cell_type": "markdown",
      "metadata": {
        "tags": [],
        "is_collapsed": false,
        "cell_id": "00010-beed2e39-4c1d-47ed-8b90-4921796aba3b",
        "deepnote_cell_type": "text-cell-h1",
        "id": "Zw440TLgL1gL"
      },
      "source": [
        "# SHAP"
      ]
    },
    {
      "cell_type": "markdown",
      "metadata": {
        "id": "nmTYLp28T7FB"
      },
      "source": [
        "## Instance-based interpretability"
      ]
    },
    {
      "cell_type": "code",
      "metadata": {
        "id": "vdMEMhVjX2Qv"
      },
      "source": [
        "explainers = dict()"
      ],
      "execution_count": 104,
      "outputs": []
    },
    {
      "cell_type": "code",
      "metadata": {
        "id": "Iirl4hdEaGvz"
      },
      "source": [
        "model_name = \"neural network\"\n",
        "model = models[model_name]\n",
        "\n",
        "def nn_predict(X):\n",
        "  y_pred = model.predict(X)\n",
        "  y_pred = np.reshape(y_pred, X.shape[0])\n",
        "  return classify(np.array(y_pred))\n",
        "\n",
        "explainers[model_name] = shap.KernelExplainer(nn_predict, X_train)"
      ],
      "execution_count": null,
      "outputs": []
    },
    {
      "cell_type": "code",
      "metadata": {
        "id": "cYXnb4q1aImp"
      },
      "source": [
        "model_name = \"support vector classifier\"\n",
        "model = models[model_name]\n",
        "\n",
        "explainers[model_name] = shap.KernelExplainer(model.predict, X_train)"
      ],
      "execution_count": null,
      "outputs": []
    },
    {
      "cell_type": "code",
      "metadata": {
        "id": "10DOr2RMaUmg"
      },
      "source": [
        "model_name = \"k-nearest neighbors\"\n",
        "model = models[model_name]\n",
        "\n",
        "explainers[model_name] = shap.KernelExplainer(model.predict, X_train)"
      ],
      "execution_count": null,
      "outputs": []
    },
    {
      "cell_type": "code",
      "metadata": {
        "id": "6-a_TC0LaYGK"
      },
      "source": [
        "model_name = \"decision tree classifier\"\n",
        "model = models[model_name]\n",
        "\n",
        "explainers[model_name] = shap.TreeExplainer(model)"
      ],
      "execution_count": 135,
      "outputs": []
    },
    {
      "cell_type": "code",
      "metadata": {
        "id": "r8qKLZ2CXNRj"
      },
      "source": [
        "idx = 4\n",
        "model_name = \"k-nearest neighbors\"\n",
        "\n",
        "X_test_df = pd.DataFrame(X_test, columns=feature_names)\n",
        "\n",
        "explainer = explainers[model_name]\n",
        "shap_test = explainer.shap_values(X_test_df.iloc[idx])\n",
        "\n",
        "# PLOT SHAPLEY VALUES IN NORMAL WAY\n",
        "\n",
        "shap.initjs()\n",
        "shap.force_plot(explainer.expected_value, shap_test, X_test_df.iloc[idx])\n",
        "# shap.force_plot(explainer.expected_value[1], shap_test[1], X_test_df.iloc[idx]) # for decision trees"
      ],
      "execution_count": null,
      "outputs": []
    },
    {
      "cell_type": "markdown",
      "metadata": {
        "id": "5tMyWqB8fuVk"
      },
      "source": [
        "## Global interpretation"
      ]
    },
    {
      "cell_type": "code",
      "metadata": {
        "id": "J-I-FlhwgX4w"
      },
      "source": [
        "shapley_feat_imps = pd.DataFrame()\n",
        "shapley_feat_imps\n",
        "\n",
        "X_test_df = pd.DataFrame(X_test, columns=feature_names)"
      ],
      "execution_count": 167,
      "outputs": []
    },
    {
      "cell_type": "code",
      "metadata": {
        "id": "-2uX27sSgrvI",
        "outputId": "78252adb-ef2b-44dc-e47f-34af184c1f06",
        "colab": {
          "base_uri": "https://localhost:8080/",
          "height": 295,
          "referenced_widgets": [
            "f3b675f41be44518a162883a873c8c84",
            "7b482421593e441cb0681a42b7bd4aa0",
            "119cd310a61b48fab9ed79c1904e8804",
            "2a1df851b7274a978c06b6b8389f889a",
            "b9ae900edb8745baaa53770e0d9cab3c",
            "8541bb629946489d82e78115f444355f",
            "2092aa41988541e398a34e96081653dd",
            "e8bb7b3c730a4a4cb835906e4e5574bf",
            "07e52aa2ca9542bd9f5a83e040e3157e",
            "0b972abccbbe44a09d8b9ff909d6dbf3",
            "d6ed58c96e1747ecb25be8b5623f7274"
          ]
        }
      },
      "source": [
        "for model_name in models.keys():\n",
        "    explainer = explainers[model_name]\n",
        "    shap_values = explainer.shap_values(X_test_df.iloc[:5])\n",
        "    if model_name == \"decision tree classifier\":\n",
        "        shap_values = shap_values[1]\n",
        "    print(shap_values)\n",
        "    print(shap_values.shape)"
      ],
      "execution_count": null,
      "outputs": [
        {
          "output_type": "display_data",
          "data": {
            "application/vnd.jupyter.widget-view+json": {
              "model_id": "f3b675f41be44518a162883a873c8c84",
              "version_minor": 0,
              "version_major": 2
            },
            "text/plain": [
              "  0%|          | 0/5 [00:00<?, ?it/s]"
            ]
          },
          "metadata": {}
        },
        {
          "output_type": "stream",
          "name": "stderr",
          "text": [
            "The default of 'normalize' will be set to False in version 1.2 and deprecated in version 1.4.\n",
            "If you wish to scale the data, use Pipeline with a StandardScaler in a preprocessing stage. To reproduce the previous behavior:\n",
            "\n",
            "from sklearn.pipeline import make_pipeline\n",
            "\n",
            "model = make_pipeline(StandardScaler(with_mean=False), LassoLarsIC())\n",
            "\n",
            "If you wish to pass a sample_weight parameter, you need to pass it as a fit parameter to each step of the pipeline as follows:\n",
            "\n",
            "kwargs = {s[0] + '__sample_weight': sample_weight for s in model.steps}\n",
            "model.fit(X, y, **kwargs)\n",
            "\n",
            "Set parameter alpha to: original_alpha * np.sqrt(n_samples). \n"
          ]
        }
      ]
    },
    {
      "cell_type": "code",
      "metadata": {
        "tags": [],
        "cell_id": "00014-e2c33b7d-b550-47e8-b1e6-e70e652467f6",
        "deepnote_to_be_reexecuted": true,
        "source_hash": "a24fc2cf",
        "deepnote_cell_type": "code",
        "id": "ll3Er6MuL1gM",
        "outputId": "4b5625d0-d631-4d90-e863-f9a614e7a513",
        "colab": {
          "base_uri": "https://localhost:8080/",
          "height": 235
        }
      },
      "source": [
        "feat_imps = np.mean(np.abs(shap_test),axis=0)\n",
        "feat_imps /= np.sum(feat_imps)\n",
        "sort_idx = np.argsort(feat_imps)[::-1]\n",
        "\n",
        "df = pd.DataFrame({'Shapley': feat_imps[sort_idx], 'Intrinsic': (np.abs(model.coef_[0]) / np.sum(np.abs(model.coef_[0])))[sort_idx]}, index=feature_names[sort_idx])\n",
        "df.plot.bar()"
      ],
      "execution_count": 46,
      "outputs": [
        {
          "output_type": "error",
          "ename": "AttributeError",
          "evalue": "ignored",
          "traceback": [
            "\u001b[0;31m---------------------------------------------------------------------------\u001b[0m",
            "\u001b[0;31mAttributeError\u001b[0m                            Traceback (most recent call last)",
            "\u001b[0;32m<ipython-input-46-39974eeb4847>\u001b[0m in \u001b[0;36m<module>\u001b[0;34m()\u001b[0m\n\u001b[1;32m      3\u001b[0m \u001b[0msort_idx\u001b[0m \u001b[0;34m=\u001b[0m \u001b[0mnp\u001b[0m\u001b[0;34m.\u001b[0m\u001b[0margsort\u001b[0m\u001b[0;34m(\u001b[0m\u001b[0mfeat_imps\u001b[0m\u001b[0;34m)\u001b[0m\u001b[0;34m[\u001b[0m\u001b[0;34m:\u001b[0m\u001b[0;34m:\u001b[0m\u001b[0;34m-\u001b[0m\u001b[0;36m1\u001b[0m\u001b[0;34m]\u001b[0m\u001b[0;34m\u001b[0m\u001b[0;34m\u001b[0m\u001b[0m\n\u001b[1;32m      4\u001b[0m \u001b[0;34m\u001b[0m\u001b[0m\n\u001b[0;32m----> 5\u001b[0;31m \u001b[0mdf\u001b[0m \u001b[0;34m=\u001b[0m \u001b[0mpd\u001b[0m\u001b[0;34m.\u001b[0m\u001b[0mDataFrame\u001b[0m\u001b[0;34m(\u001b[0m\u001b[0;34m{\u001b[0m\u001b[0;34m'Shapley'\u001b[0m\u001b[0;34m:\u001b[0m \u001b[0mfeat_imps\u001b[0m\u001b[0;34m[\u001b[0m\u001b[0msort_idx\u001b[0m\u001b[0;34m]\u001b[0m\u001b[0;34m,\u001b[0m \u001b[0;34m'Intrinsic'\u001b[0m\u001b[0;34m:\u001b[0m \u001b[0;34m(\u001b[0m\u001b[0mnp\u001b[0m\u001b[0;34m.\u001b[0m\u001b[0mabs\u001b[0m\u001b[0;34m(\u001b[0m\u001b[0mmodel\u001b[0m\u001b[0;34m.\u001b[0m\u001b[0mcoef_\u001b[0m\u001b[0;34m[\u001b[0m\u001b[0;36m0\u001b[0m\u001b[0;34m]\u001b[0m\u001b[0;34m)\u001b[0m \u001b[0;34m/\u001b[0m \u001b[0mnp\u001b[0m\u001b[0;34m.\u001b[0m\u001b[0msum\u001b[0m\u001b[0;34m(\u001b[0m\u001b[0mnp\u001b[0m\u001b[0;34m.\u001b[0m\u001b[0mabs\u001b[0m\u001b[0;34m(\u001b[0m\u001b[0mmodel\u001b[0m\u001b[0;34m.\u001b[0m\u001b[0mcoef_\u001b[0m\u001b[0;34m[\u001b[0m\u001b[0;36m0\u001b[0m\u001b[0;34m]\u001b[0m\u001b[0;34m)\u001b[0m\u001b[0;34m)\u001b[0m\u001b[0;34m)\u001b[0m\u001b[0;34m[\u001b[0m\u001b[0msort_idx\u001b[0m\u001b[0;34m]\u001b[0m\u001b[0;34m}\u001b[0m\u001b[0;34m,\u001b[0m \u001b[0mindex\u001b[0m\u001b[0;34m=\u001b[0m\u001b[0mfeature_names\u001b[0m\u001b[0;34m[\u001b[0m\u001b[0msort_idx\u001b[0m\u001b[0;34m]\u001b[0m\u001b[0;34m)\u001b[0m\u001b[0;34m\u001b[0m\u001b[0;34m\u001b[0m\u001b[0m\n\u001b[0m\u001b[1;32m      6\u001b[0m \u001b[0mdf\u001b[0m\u001b[0;34m.\u001b[0m\u001b[0mplot\u001b[0m\u001b[0;34m.\u001b[0m\u001b[0mbar\u001b[0m\u001b[0;34m(\u001b[0m\u001b[0;34m)\u001b[0m\u001b[0;34m\u001b[0m\u001b[0;34m\u001b[0m\u001b[0m\n",
            "\u001b[0;31mAttributeError\u001b[0m: 'Sequential' object has no attribute 'coef_'"
          ]
        }
      ]
    },
    {
      "cell_type": "code",
      "metadata": {
        "tags": [],
        "cell_id": "00035-fec052e5-d887-4af0-9257-b3a480887eee",
        "deepnote_to_be_reexecuted": true,
        "source_hash": "5e047789",
        "execution_start": 1638728586398,
        "execution_millis": 665,
        "deepnote_output_heights": [
          21.1875,
          359
        ],
        "deepnote_cell_type": "code",
        "id": "5ZGsp2G_L1gM",
        "outputId": "30a90d59-8b50-4078-f9b9-d372cb71668d",
        "colab": {
          "base_uri": "https://localhost:8080/",
          "height": 391
        }
      },
      "source": [
        "shapley_feat_imps = np.mean(np.abs(shap_test),axis=0)\n",
        "shapley_feat_imps /= np.sum(shapley_feat_imps)\n",
        "\n",
        "shapley_feat_imps = pd.DataFrame({\"support vector classifier\": shapley_feat_imps}, index=feature_names)\n",
        "shapley_feat_imps.plot.bar()"
      ],
      "execution_count": 17,
      "outputs": [
        {
          "output_type": "execute_result",
          "data": {
            "text/plain": [
              "<matplotlib.axes._subplots.AxesSubplot at 0x7f2b312f2d50>"
            ]
          },
          "metadata": {},
          "execution_count": 17
        },
        {
          "output_type": "display_data",
          "data": {
            "image/png": "[encoded data removed]",
            "text/plain": [
              "<Figure size 432x288 with 1 Axes>"
            ]
          },
          "metadata": {
            "needs_background": "light"
          }
        }
      ]
    },
    {
      "cell_type": "markdown",
      "metadata": {
        "tags": [],
        "is_collapsed": false,
        "cell_id": "00033-3d697e73-585e-4088-bbd6-81e77f987188",
        "deepnote_cell_type": "text-cell-h1",
        "id": "UTzwQOFWL1gN"
      },
      "source": [
        "# Prutsen"
      ]
    },
    {
      "cell_type": "code",
      "metadata": {
        "tags": [],
        "cell_id": "00035-bf54fc1b-c3bd-4ca4-b5b2-ad38a5f6a024",
        "deepnote_to_be_reexecuted": true,
        "source_hash": "8efa8153",
        "execution_start": 1638867772527,
        "execution_millis": 336,
        "deepnote_output_heights": [
          250
        ],
        "deepnote_cell_type": "code",
        "id": "2OwYVHUcL1gN",
        "outputId": "8237721e-92c6-461f-ef2a-6351e3a87d52",
        "colab": {
          "base_uri": "https://localhost:8080/",
          "height": 300
        }
      },
      "source": [
        "# Beste aantal epochs zoeken\n",
        "\n",
        "for key in history.history.keys():\n",
        "    plt.plot(np.arange(1, n_epochs+1), history.history[key], label=key)\n",
        "plt.legend()\n",
        "plt.show()\n",
        "\n",
        "print(np.argmin(history.history['val_loss']))\n",
        "print(np.where(history.history['val_loss'] == np.min(history.history['val_loss'])))"
      ],
      "execution_count": 61,
      "outputs": [
        {
          "output_type": "display_data",
          "data": {
            "image/png": "[encoded data removed]",
            "text/plain": [
              "<Figure size 432x288 with 1 Axes>"
            ]
          },
          "metadata": {
            "needs_background": "light"
          }
        },
        {
          "output_type": "stream",
          "name": "stdout",
          "text": [
            "1418\n",
            "(array([1418]),)\n"
          ]
        }
      ]
    }
  ]
}