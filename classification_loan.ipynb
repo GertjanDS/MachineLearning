{
 "cells": [
  {
   "cell_type": "code",
   "metadata": {
    "tags": [],
    "deepnote_to_be_reexecuted": false,
    "source_hash": "a24548d7",
    "execution_start": 1636913668136,
    "execution_millis": 1535,
    "cell_id": "00000-1cf35a6d-f995-4874-814f-7c4bb6c48816",
    "deepnote_cell_type": "code"
   },
   "source": "import numpy as np\nimport matplotlib.pyplot as plt\nimport pandas as pd\n\nfrom sklearn.model_selection import train_test_split, KFold, GridSearchCV, StratifiedKFold\nfrom sklearn.metrics import balanced_accuracy_score, accuracy_score, f1_score\n\n# Models\nfrom sklearn.neighbors import KNeighborsClassifier\nfrom sklearn.tree import DecisionTreeClassifier\nfrom sklearn.svm import SVC\n\nfrom preprocessing import load_loan_prepr",
   "execution_count": 1,
   "outputs": []
  },
  {
   "cell_type": "code",
   "metadata": {
    "tags": [],
    "deepnote_to_be_reexecuted": false,
    "source_hash": "19b44a40",
    "execution_start": 1636913669672,
    "execution_millis": 1,
    "cell_id": "00001-46b1acd8-d6b2-46c0-8af1-85ecef5f45cd",
    "deepnote_cell_type": "code"
   },
   "source": "def find_best_model(model, parameters, X_train, y_train): \n    clf = GridSearchCV(model, parameters, scoring=('balanced_accuracy'), cv=StratifiedKFold())\n    clf.fit(X_train, y_train)\n\n    return clf\n\n# Calculates the per-class accuracy given predicted and true output labels.\ndef class_accs(y_pred, y_true):\n    acc0 = ((y_pred == y_true) & (y_true == 0)).sum() / (y_true == 0).sum()\n    acc1 = ((y_pred == y_true) & (y_true == 1)).sum() / (y_true == 1).sum()\n    return acc0, acc1\n\n# Prints a summary of performance metrics given predicted and true output labels.\ndef print_metrics(y_pred, y_true):\n    f1 = f1_score(y_true, y_pred)\n    acc = accuracy_score(y_true, y_pred)\n    acc0, acc1 = class_accs(y_pred, y_true)\n    print(f'F1 = {f1}')\n    print(f'Accuracy = {acc}')\n    print(f'\\tclass 0: {acc0}')\n    print(f'\\tclass 1: {acc1}')\n\ndef print_errors(clf, model_name, X_test, y_test):\n    y_pred = clf.predict(X_test)\n    \n    bal_acc = balanced_accuracy_score(y_test, y_pred)\n    print(\"Balanced accuracy ({}) = {}\".format(model_name, bal_acc))\n    print_metrics(y_pred, y_test)",
   "execution_count": 2,
   "outputs": []
  },
  {
   "cell_type": "code",
   "metadata": {
    "tags": [],
    "deepnote_to_be_reexecuted": false,
    "source_hash": "b82f6dec",
    "execution_start": 1636913669673,
    "execution_millis": 0,
    "cell_id": "00002-9a383203-c340-4794-a2d1-f4a502f5da2a",
    "deepnote_cell_type": "code"
   },
   "source": "X, y, feature_names = load_loan_prepr()\nseed = 3012\n\nX_train, X_test, y_train, y_test = train_test_split(X, y, test_size=0.2, random_state=seed)",
   "execution_count": 3,
   "outputs": []
  },
  {
   "cell_type": "markdown",
   "source": "# KNN classifier",
   "metadata": {
    "tags": [],
    "is_collapsed": false,
    "cell_id": "00003-3289aa09-553f-48b4-8192-deb90f730e5e",
    "deepnote_cell_type": "text-cell-h1"
   }
  },
  {
   "cell_type": "code",
   "metadata": {
    "tags": [],
    "deepnote_to_be_reexecuted": false,
    "source_hash": "57487bd1",
    "execution_start": 1636913669674,
    "execution_millis": 22341,
    "cell_id": "00004-e40f8ecb-db48-46c7-a364-b0e5c5220ace",
    "deepnote_cell_type": "code"
   },
   "source": "model_name = \"k-nearest neighbors\"\nparameters = {'n_neighbors': np.arange(1, 307), 'weights': ('uniform', 'distance')}\nkNN = KNeighborsClassifier()\n\nclf = find_best_model(kNN, parameters, X_train, y_train)\nprint_errors(clf, model_name, X_test, y_test)\n\nclf.best_estimator_",
   "execution_count": 4,
   "outputs": [
    {
     "name": "stdout",
     "text": "Balanced accuracy (k-nearest neighbors) = 0.6621204323211528\nF1 = 0.8413793103448275\nAccuracy = 0.7604166666666666\n\tclass 0: 0.41379310344827586\n\tclass 1: 0.9104477611940298\n",
     "output_type": "stream"
    },
    {
     "output_type": "execute_result",
     "execution_count": 4,
     "data": {
      "text/plain": "KNeighborsClassifier()"
     },
     "metadata": {}
    }
   ]
  },
  {
   "cell_type": "code",
   "source": "model = clf.best_estimator_\n\nidx = 9\ncategorical = True\n\nif categorical:\n    values = np.unique(X[:,idx])\nelse:\n    values = np.linspace(np.min(X[:,idx]), np.max(X[:,idx]), len(X))\n\nPDP = list()\n\nfor value in values:\n    X_copy = np.copy(X)\n    X_copy[:,idx] = value\n    predictions = model.predict(X_copy)\n    PDP.append(np.mean(predictions))\n\nif not categorical:\n    plt.plot(values, PDP)\nelse:\n    plt.bar(values, PDP)",
   "metadata": {
    "tags": [],
    "cell_id": "00005-47a533cc-e200-46a6-8bea-225cc921229b",
    "deepnote_to_be_reexecuted": false,
    "source_hash": "9536554c",
    "execution_start": 1636913692020,
    "execution_millis": 380,
    "deepnote_cell_type": "code"
   },
   "outputs": [
    {
     "data": {
      "text/plain": "<Figure size 432x288 with 1 Axes>",
      "image/png": "[encoded data removed]"
     },
     "metadata": {
      "needs_background": "light",
      "image/png": {
       "width": 372,
       "height": 252
      }
     },
     "output_type": "display_data"
    }
   ],
   "execution_count": 5
  },
  {
   "cell_type": "markdown",
   "source": "# Decision tree classifier",
   "metadata": {
    "tags": [],
    "is_collapsed": false,
    "cell_id": "00005-65fdfdd1-4c13-486e-845c-6875be5f6813",
    "deepnote_cell_type": "text-cell-h1"
   }
  },
  {
   "cell_type": "code",
   "metadata": {
    "tags": [],
    "deepnote_to_be_reexecuted": false,
    "source_hash": "10a2863c",
    "execution_start": 1636913692342,
    "execution_millis": 10794,
    "cell_id": "00006-eeab91a6-e273-4a9d-bd0f-06a743e4cba6",
    "deepnote_cell_type": "code"
   },
   "source": "model_name = \"decision tree classifier\"\nparameters = {'criterion': ('gini', 'entropy'), 'min_samples_split': np.arange(2, 307)}\ntr = DecisionTreeClassifier(random_state=seed)\n\nclf = find_best_model(tr, parameters, X_train, y_train)\nprint_errors(clf, model_name, X_test, y_test)\n\nclf.best_estimator_",
   "execution_count": 6,
   "outputs": [
    {
     "name": "stdout",
     "text": "Balanced accuracy (decision tree classifier) = 0.6374163664436439\nF1 = 0.8275862068965517\nAccuracy = 0.7395833333333334\n\tclass 0: 0.3793103448275862\n\tclass 1: 0.8955223880597015\n",
     "output_type": "stream"
    },
    {
     "output_type": "execute_result",
     "execution_count": 6,
     "data": {
      "text/plain": "DecisionTreeClassifier(min_samples_split=49, random_state=3012)"
     },
     "metadata": {}
    }
   ]
  },
  {
   "cell_type": "code",
   "metadata": {
    "tags": [],
    "deepnote_to_be_reexecuted": false,
    "source_hash": "7ccb9e14",
    "execution_start": 1636913703135,
    "execution_millis": 347,
    "cell_id": "00007-22edab82-43ee-4d48-8300-6c79272193bb",
    "deepnote_cell_type": "code"
   },
   "source": "model = clf.best_estimator_\nmodel.feature_importances_\ndf = pd.Series(data=model.feature_importances_, index=feature_names)\ndf.plot.bar()",
   "execution_count": 7,
   "outputs": [
    {
     "output_type": "execute_result",
     "execution_count": 7,
     "data": {
      "text/plain": "<AxesSubplot:>"
     },
     "metadata": {}
    },
    {
     "data": {
      "text/plain": "<Figure size 432x288 with 1 Axes>",
      "image/png": "[encoded data removed]"
     },
     "metadata": {
      "needs_background": "light",
      "image/png": {
       "width": 372,
       "height": 335
      }
     },
     "output_type": "display_data"
    }
   ]
  },
  {
   "cell_type": "markdown",
   "source": "# Support vector classifier",
   "metadata": {
    "tags": [],
    "is_collapsed": false,
    "cell_id": "00008-b8bd7128-94cc-4391-a992-51fea2fc60b5",
    "deepnote_cell_type": "text-cell-h1"
   }
  },
  {
   "cell_type": "code",
   "metadata": {
    "tags": [],
    "deepnote_to_be_reexecuted": false,
    "source_hash": "6d5489f4",
    "execution_start": 1636913703498,
    "execution_millis": 3269,
    "cell_id": "00009-68b1b2de-deac-4252-a7e6-08578b6f5771",
    "deepnote_cell_type": "code"
   },
   "source": "model_name = \"support vector classifier\"\nparameters = {'C': np.geomspace(0.0001, 100, 61)}\nsvc = SVC(kernel=\"linear\")\n\nclf = find_best_model(svc, parameters, X_train, y_train)\nprint_errors(clf, model_name, X_test, y_test)\n\nclf.best_estimator_",
   "execution_count": 8,
   "outputs": [
    {
     "name": "stdout",
     "text": "Balanced accuracy (support vector classifier) = 0.6994338651569737\nF1 = 0.88\nAccuracy = 0.8125\n\tclass 0: 0.41379310344827586\n\tclass 1: 0.9850746268656716\n",
     "output_type": "stream"
    },
    {
     "output_type": "execute_result",
     "execution_count": 8,
     "data": {
      "text/plain": "SVC(C=0.003981071705534973, kernel='linear')"
     },
     "metadata": {}
    }
   ]
  },
  {
   "cell_type": "code",
   "metadata": {
    "tags": [],
    "deepnote_to_be_reexecuted": false,
    "source_hash": "7f29bcd1",
    "execution_start": 1636913706857,
    "execution_millis": 231,
    "cell_id": "00010-d2c1520a-301f-42b1-ac1b-7409ed51831d",
    "deepnote_cell_type": "code"
   },
   "source": "model = clf.best_estimator_\ndf = pd.Series(data=np.abs(model.coef_[0]) / np.sum(np.abs(model.coef_[0])), index=feature_names)\ndf.plot.bar()",
   "execution_count": 9,
   "outputs": [
    {
     "output_type": "execute_result",
     "execution_count": 9,
     "data": {
      "text/plain": "<AxesSubplot:>"
     },
     "metadata": {}
    },
    {
     "data": {
      "text/plain": "<Figure size 432x288 with 1 Axes>",
      "image/png": "[encoded data removed]"
     },
     "metadata": {
      "needs_background": "light",
      "image/png": {
       "width": 372,
       "height": 335
      }
     },
     "output_type": "display_data"
    }
   ]
  },
  {
   "cell_type": "code",
   "source": "from sklearn.inspection import PartialDependenceDisplay\nfrom sklearn.inspection import partial_dependence\n\npdp, axes = partial_dependence(model, X, [1, 1], method=\"brute\", percentiles=(0.0, 1.0))\nprint(pdp)\npdp, axes = partial_dependence(model, X, [2, 2], method=\"brute\", percentiles=(0.0, 1.0))\nprint(pdp)",
   "metadata": {
    "tags": [],
    "cell_id": "00011-4736a8fd-13d3-4076-9688-10b73ab8cf53",
    "deepnote_to_be_reexecuted": false,
    "source_hash": "d3955cd2",
    "execution_start": 1636913707097,
    "execution_millis": 192,
    "deepnote_cell_type": "code"
   },
   "outputs": [
    {
     "name": "stdout",
     "text": "[[[0.79029255 0.79025329]\n  [0.79029255 0.79025329]]]\n[[[0.79026684 0.79026719 0.79026755 0.79026791]\n  [0.79026684 0.79026719 0.79026755 0.79026791]\n  [0.79026684 0.79026719 0.79026755 0.79026791]\n  [0.79026684 0.79026719 0.79026755 0.79026791]]]\n/shared-libs/python3.7/py/lib/python3.7/site-packages/sklearn/inspection/_partial_dependence.py:523: FutureWarning: A Bunch will be returned in place of 'predictions' from version 1.1 (renaming of 0.26) with partial dependence results accessible via the 'average' key. In the meantime, pass kind='average' to get the future behaviour.\n  FutureWarning,\n/shared-libs/python3.7/py/lib/python3.7/site-packages/sklearn/inspection/_partial_dependence.py:523: FutureWarning: A Bunch will be returned in place of 'predictions' from version 1.1 (renaming of 0.26) with partial dependence results accessible via the 'average' key. In the meantime, pass kind='average' to get the future behaviour.\n  FutureWarning,\n",
     "output_type": "stream"
    }
   ],
   "execution_count": 10
  },
  {
   "cell_type": "code",
   "source": "unique = np.unique(X[:,7])\nPDP = list()\nfor value in unique:\n    X_copy = np.copy(X)\n    X_copy[:,7] = value\n    predictions = model.predict(X_copy)\n    PDP.append(np.mean(predictions))\n\nprint(unique)\nprint(PDP)\nplt.plot(unique, PDP)",
   "metadata": {
    "tags": [],
    "cell_id": "00012-0312f374-da2f-440d-bbb8-8507e668e4a7",
    "deepnote_to_be_reexecuted": false,
    "source_hash": "d2968024",
    "execution_start": 1636913707337,
    "execution_millis": 1137,
    "deepnote_cell_type": "code"
   },
   "outputs": [
    {
     "name": "stdout",
     "text": "[-1.68774224e+00 -1.58826976e+00 -1.48879728e+00 -1.47636323e+00\n -1.42662699e+00 -1.36445669e+00 -1.35202263e+00 -1.30228639e+00\n -1.25255016e+00 -1.24011610e+00 -1.22768204e+00 -1.21524798e+00\n -1.20281392e+00 -1.17794580e+00 -1.14064362e+00 -1.12820956e+00\n -1.11577550e+00 -1.10334144e+00 -1.06603926e+00 -1.05360521e+00\n -1.02873709e+00 -1.01630303e+00 -9.91434908e-01 -9.79000849e-01\n -9.66566789e-01 -9.29264611e-01 -9.16830552e-01 -8.91962433e-01\n -8.79528373e-01 -8.67094314e-01 -8.54660255e-01 -8.29792136e-01\n -8.04924017e-01 -7.92489958e-01 -7.67621839e-01 -7.55187779e-01\n -7.30319661e-01 -7.17885601e-01 -7.05451542e-01 -6.93017482e-01\n -6.80583423e-01 -6.43281245e-01 -6.30847185e-01 -6.18413126e-01\n -6.05979066e-01 -5.93545007e-01 -5.81110948e-01 -5.68676888e-01\n -5.56242829e-01 -5.43808769e-01 -5.31374710e-01 -5.18940650e-01\n -5.06506591e-01 -4.94072532e-01 -4.81638472e-01 -4.69204413e-01\n -4.56770353e-01 -4.44336294e-01 -4.31902235e-01 -4.19468175e-01\n -4.07034116e-01 -3.94600056e-01 -3.82165997e-01 -3.69731938e-01\n -3.57297878e-01 -3.44863819e-01 -3.32429759e-01 -3.19995700e-01\n -3.07561640e-01 -2.95127581e-01 -2.82693522e-01 -2.70259462e-01\n -2.57825403e-01 -2.45391343e-01 -2.32957284e-01 -2.20523225e-01\n -2.08089165e-01 -1.95655106e-01 -1.83221046e-01 -1.70786987e-01\n -1.58352927e-01 -1.45918868e-01 -1.33484809e-01 -1.21050749e-01\n -1.08616690e-01 -9.61826304e-02 -8.37485710e-02 -7.13145116e-02\n -5.88804522e-02 -4.64463928e-02 -3.40123334e-02 -2.15782739e-02\n -9.14421453e-03  3.28984489e-03  1.57239043e-02  4.05920231e-02\n  5.30260825e-02  6.54601420e-02  7.78942014e-02  9.03282608e-02\n  1.02762320e-01  1.15196380e-01  1.27630439e-01  1.40064498e-01\n  1.52498558e-01  1.64932617e-01  1.89800736e-01  2.02234796e-01\n  2.14668855e-01  2.39536974e-01  2.51971033e-01  2.64405093e-01\n  2.76839152e-01  2.89273211e-01  3.14141330e-01  3.39009449e-01\n  3.51443508e-01  3.76311627e-01  3.88745687e-01  4.13613806e-01\n  4.38481924e-01  4.50915984e-01  4.63350043e-01  4.88218162e-01\n  5.00652221e-01  5.13086281e-01  5.25520340e-01  5.37954400e-01\n  5.75256578e-01  5.87690637e-01  6.12558756e-01  6.87163113e-01\n  6.99597172e-01  7.49333410e-01  7.74201529e-01  7.86635588e-01\n  7.99069647e-01  8.11503707e-01  8.23937766e-01  8.61239944e-01\n  8.86108063e-01  9.10976182e-01  9.98014598e-01  1.03531678e+00\n  1.06018490e+00  1.10992113e+00  1.13478925e+00  1.17209143e+00\n  1.18452549e+00  1.20939361e+00  1.22182767e+00  1.23426173e+00\n  1.25912985e+00  1.30886608e+00  1.34616826e+00  1.37103638e+00\n  1.40833856e+00  1.42077262e+00  1.43320668e+00  1.52024509e+00\n  1.61971757e+00  1.66945381e+00  1.68188787e+00  1.75649222e+00\n  1.80622846e+00  1.88083282e+00  1.93056905e+00  1.98030529e+00\n  2.03004153e+00  2.06734371e+00  2.07977777e+00  2.11707995e+00\n  2.17925024e+00  2.22898648e+00  2.53983797e+00  2.67661262e+00\n  2.87555757e+00  2.92529381e+00  3.17397500e+00  3.62160113e+00\n  4.16869975e+00  4.35521064e+00  4.36764470e+00  4.41738094e+00\n  5.28776510e+00  5.66078688e+00]\n[0.8541666666666666, 0.8541666666666666, 0.8541666666666666, 0.8541666666666666, 0.8541666666666666, 0.8541666666666666, 0.8541666666666666, 0.8541666666666666, 0.8541666666666666, 0.8541666666666666, 0.8541666666666666, 0.8541666666666666, 0.8541666666666666, 0.8541666666666666, 0.8541666666666666, 0.8541666666666666, 0.8541666666666666, 0.8541666666666666, 0.8541666666666666, 0.8541666666666666, 0.8541666666666666, 0.8541666666666666, 0.8541666666666666, 0.8541666666666666, 0.8541666666666666, 0.8541666666666666, 0.8541666666666666, 0.8541666666666666, 0.8541666666666666, 0.8541666666666666, 0.8541666666666666, 0.8541666666666666, 0.8541666666666666, 0.8541666666666666, 0.8541666666666666, 0.8541666666666666, 0.8541666666666666, 0.8541666666666666, 0.8541666666666666, 0.8541666666666666, 0.8541666666666666, 0.8541666666666666, 0.8541666666666666, 0.8541666666666666, 0.8541666666666666, 0.8541666666666666, 0.8541666666666666, 0.8541666666666666, 0.8541666666666666, 0.8541666666666666, 0.8541666666666666, 0.8541666666666666, 0.8541666666666666, 0.8541666666666666, 0.8541666666666666, 0.8541666666666666, 0.8541666666666666, 0.8541666666666666, 0.8541666666666666, 0.8541666666666666, 0.8541666666666666, 0.8541666666666666, 0.8541666666666666, 0.8541666666666666, 0.8541666666666666, 0.8541666666666666, 0.8541666666666666, 0.8541666666666666, 0.8541666666666666, 0.8541666666666666, 0.8541666666666666, 0.8541666666666666, 0.8541666666666666, 0.8541666666666666, 0.8541666666666666, 0.8541666666666666, 0.8541666666666666, 0.8541666666666666, 0.8541666666666666, 0.8541666666666666, 0.8541666666666666, 0.8541666666666666, 0.8541666666666666, 0.8541666666666666, 0.8541666666666666, 0.8541666666666666, 0.8541666666666666, 0.8541666666666666, 0.8541666666666666, 0.8541666666666666, 0.8541666666666666, 0.8541666666666666, 0.8541666666666666, 0.8541666666666666, 0.8541666666666666, 0.8541666666666666, 0.8541666666666666, 0.8541666666666666, 0.8541666666666666, 0.8541666666666666, 0.8541666666666666, 0.8541666666666666, 0.8541666666666666, 0.8541666666666666, 0.8541666666666666, 0.8541666666666666, 0.8541666666666666, 0.8541666666666666, 0.8541666666666666, 0.8541666666666666, 0.8541666666666666, 0.8541666666666666, 0.8541666666666666, 0.8541666666666666, 0.8541666666666666, 0.8541666666666666, 0.8541666666666666, 0.8541666666666666, 0.8541666666666666, 0.8541666666666666, 0.8541666666666666, 0.8541666666666666, 0.8541666666666666, 0.8541666666666666, 0.8541666666666666, 0.8541666666666666, 0.8541666666666666, 0.8541666666666666, 0.8541666666666666, 0.8541666666666666, 0.8541666666666666, 0.8541666666666666, 0.8541666666666666, 0.8541666666666666, 0.8541666666666666, 0.8541666666666666, 0.8541666666666666, 0.8541666666666666, 0.8541666666666666, 0.8541666666666666, 0.8541666666666666, 0.8541666666666666, 0.8541666666666666, 0.8541666666666666, 0.8541666666666666, 0.8541666666666666, 0.8541666666666666, 0.8541666666666666, 0.8541666666666666, 0.8541666666666666, 0.8541666666666666, 0.8541666666666666, 0.8541666666666666, 0.8541666666666666, 0.8541666666666666, 0.8541666666666666, 0.8541666666666666, 0.8541666666666666, 0.8541666666666666, 0.8541666666666666, 0.8541666666666666, 0.8541666666666666, 0.8541666666666666, 0.8541666666666666, 0.8541666666666666, 0.8541666666666666, 0.8541666666666666, 0.8541666666666666, 0.8541666666666666, 0.8541666666666666, 0.8541666666666666, 0.8541666666666666, 0.8541666666666666, 0.8541666666666666, 0.8541666666666666, 0.8541666666666666, 0.8541666666666666, 0.8541666666666666, 0.8541666666666666, 0.8541666666666666, 0.8541666666666666, 0.8541666666666666, 0.8541666666666666, 0.8541666666666666, 0.8541666666666666, 0.8541666666666666]\n",
     "output_type": "stream"
    },
    {
     "output_type": "execute_result",
     "execution_count": 11,
     "data": {
      "text/plain": "[<matplotlib.lines.Line2D at 0x7fab266eb5d0>]"
     },
     "metadata": {}
    },
    {
     "data": {
      "text/plain": "<Figure size 432x288 with 1 Axes>",
      "image/png": "[encoded data removed]"
     },
     "metadata": {
      "needs_background": "light",
      "image/png": {
       "width": 380,
       "height": 250
      }
     },
     "output_type": "display_data"
    }
   ],
   "execution_count": 11
  },
  {
   "cell_type": "code",
   "source": "",
   "metadata": {
    "tags": [],
    "cell_id": "00013-4881ab27-8741-4ec0-800c-cd786b0b7b45",
    "deepnote_to_be_reexecuted": false,
    "source_hash": "b623e53d",
    "execution_start": 1636913708522,
    "execution_millis": 0,
    "deepnote_cell_type": "code"
   },
   "outputs": [],
   "execution_count": 11
  },
  {
   "cell_type": "markdown",
   "source": "<a style='text-decoration:none;line-height:16px;display:flex;color:#5B5B62;padding:10px;justify-content:end;' href='https://deepnote.com?utm_source=created-in-deepnote-cell&projectId=5161fece-8ef6-4825-9ea6-16ebba884483' target=\"_blank\">\n<img alt='Created in deepnote.com' style='display:inline;max-height:16px;margin:0px;margin-right:7.5px;' src='data:image/svg+xml;base64,PD94bWwgdmVyc2lvbj0iMS4wIiBlbmNvZGluZz0iVVRGLTgiPz4KPHN2ZyB3aWR0aD0iODBweCIgaGVpZ2h0PSI4MHB4IiB2aWV3Qm94PSIwIDAgODAgODAiIHZlcnNpb249IjEuMSIgeG1sbnM9Imh0dHA6Ly93d3cudzMub3JnLzIwMDAvc3ZnIiB4bWxuczp4bGluaz0iaHR0cDovL3d3dy53My5vcmcvMTk5OS94bGluayI+CiAgICA8IS0tIEdlbmVyYXRvcjogU2tldGNoIDU0LjEgKDc2NDkwKSAtIGh0dHBzOi8vc2tldGNoYXBwLmNvbSAtLT4KICAgIDx0aXRsZT5Hcm91cCAzPC90aXRsZT4KICAgIDxkZXNjPkNyZWF0ZWQgd2l0aCBTa2V0Y2guPC9kZXNjPgogICAgPGcgaWQ9IkxhbmRpbmciIHN0cm9rZT0ibm9uZSIgc3Ryb2tlLXdpZHRoPSIxIiBmaWxsPSJub25lIiBmaWxsLXJ1bGU9ImV2ZW5vZGQiPgogICAgICAgIDxnIGlkPSJBcnRib2FyZCIgdHJhbnNmb3JtPSJ0cmFuc2xhdGUoLTEyMzUuMDAwMDAwLCAtNzkuMDAwMDAwKSI+CiAgICAgICAgICAgIDxnIGlkPSJHcm91cC0zIiB0cmFuc2Zvcm09InRyYW5zbGF0ZSgxMjM1LjAwMDAwMCwgNzkuMDAwMDAwKSI+CiAgICAgICAgICAgICAgICA8cG9seWdvbiBpZD0iUGF0aC0yMCIgZmlsbD0iIzAyNjVCNCIgcG9pbnRzPSIyLjM3NjIzNzYyIDgwIDM4LjA0NzY2NjcgODAgNTcuODIxNzgyMiA3My44MDU3NTkyIDU3LjgyMTc4MjIgMzIuNzU5MjczOSAzOS4xNDAyMjc4IDMxLjY4MzE2ODMiPjwvcG9seWdvbj4KICAgICAgICAgICAgICAgIDxwYXRoIGQ9Ik0zNS4wMDc3MTgsODAgQzQyLjkwNjIwMDcsNzYuNDU0OTM1OCA0Ny41NjQ5MTY3LDcxLjU0MjI2NzEgNDguOTgzODY2LDY1LjI2MTk5MzkgQzUxLjExMjI4OTksNTUuODQxNTg0MiA0MS42NzcxNzk1LDQ5LjIxMjIyODQgMjUuNjIzOTg0Niw0OS4yMTIyMjg0IEMyNS40ODQ5Mjg5LDQ5LjEyNjg0NDggMjkuODI2MTI5Niw0My4yODM4MjQ4IDM4LjY0NzU4NjksMzEuNjgzMTY4MyBMNzIuODcxMjg3MSwzMi41NTQ0MjUgTDY1LjI4MDk3Myw2Ny42NzYzNDIxIEw1MS4xMTIyODk5LDc3LjM3NjE0NCBMMzUuMDA3NzE4LDgwIFoiIGlkPSJQYXRoLTIyIiBmaWxsPSIjMDAyODY4Ij48L3BhdGg+CiAgICAgICAgICAgICAgICA8cGF0aCBkPSJNMCwzNy43MzA0NDA1IEwyNy4xMTQ1MzcsMC4yNTcxMTE0MzYgQzYyLjM3MTUxMjMsLTEuOTkwNzE3MDEgODAsMTAuNTAwMzkyNyA4MCwzNy43MzA0NDA1IEM4MCw2NC45NjA0ODgyIDY0Ljc3NjUwMzgsNzkuMDUwMzQxNCAzNC4zMjk1MTEzLDgwIEM0Ny4wNTUzNDg5LDc3LjU2NzA4MDggNTMuNDE4MjY3Nyw3MC4zMTM2MTAzIDUzLjQxODI2NzcsNTguMjM5NTg4NSBDNTMuNDE4MjY3Nyw0MC4xMjg1NTU3IDM2LjMwMzk1NDQsMzcuNzMwNDQwNSAyNS4yMjc0MTcsMzcuNzMwNDQwNSBDMTcuODQzMDU4NiwzNy43MzA0NDA1IDkuNDMzOTE5NjYsMzcuNzMwNDQwNSAwLDM3LjczMDQ0MDUgWiIgaWQ9IlBhdGgtMTkiIGZpbGw9IiMzNzkzRUYiPjwvcGF0aD4KICAgICAgICAgICAgPC9nPgogICAgICAgIDwvZz4KICAgIDwvZz4KPC9zdmc+' > </img>\nCreated in <span style='font-weight:600;margin-left:4px;'>Deepnote</span></a>",
   "metadata": {
    "tags": [],
    "created_in_deepnote_cell": true,
    "deepnote_cell_type": "markdown"
   }
  }
 ],
 "nbformat": 4,
 "nbformat_minor": 2,
 "metadata": {
  "orig_nbformat": 2,
  "deepnote": {
   "is_reactive": false
  },
  "deepnote_notebook_id": "d217b4eb-d24e-4970-a468-997e83cae982",
  "deepnote_execution_queue": []
 }
}