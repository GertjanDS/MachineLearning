{
 "cells": [
  {
   "cell_type": "markdown",
   "source": "# Setting up",
   "metadata": {
    "tags": [],
    "is_collapsed": false,
    "cell_id": "00000-30a4ee6a-d30a-484b-84e3-d1e17a2014b3",
    "id": "DdJa0UQWho_B",
    "deepnote_cell_type": "text-cell-h1"
   }
  },
  {
   "cell_type": "code",
   "metadata": {
    "tags": [],
    "deepnote_to_be_reexecuted": false,
    "source_hash": "85415b02",
    "execution_start": 1640210504951,
    "execution_millis": 10623,
    "cell_id": "00000-1cf35a6d-f995-4874-814f-7c4bb6c48816",
    "id": "GqSlMQ_-ho_D",
    "output_cleared": false,
    "deepnote_cell_type": "code"
   },
   "source": "import numpy as np\nimport matplotlib.pyplot as plt\nimport pandas as pd\nimport shap\nimport seaborn as sns\nimport time\n\nfrom sklearn.model_selection import train_test_split, KFold, GridSearchCV, StratifiedKFold\nfrom sklearn.metrics import balanced_accuracy_score, accuracy_score, f1_score\n\n# Models\nfrom sklearn.neighbors import KNeighborsClassifier\nfrom sklearn.tree import DecisionTreeClassifier\nfrom sklearn.svm import SVC\nfrom sklearn.preprocessing import StandardScaler\nfrom tensorflow.keras import Sequential, Input\nfrom tensorflow.keras.layers import Dense, Dropout\nfrom tensorflow.keras.losses import BinaryCrossentropy\nfrom tensorflow.random import set_seed\n\nfrom preprocessing import load_loan_prepr\n\n# Interpretability measures\nfrom interpretability import PDP, generate_counterfactuals, inverse_transform\nfrom anchor import anchor_tabular\nimport lime\nimport lime.lime_tabular",
   "execution_count": null,
   "outputs": []
  },
  {
   "cell_type": "code",
   "metadata": {
    "tags": [],
    "deepnote_to_be_reexecuted": false,
    "source_hash": "85ecb44b",
    "execution_start": 1640210515585,
    "execution_millis": 35,
    "cell_id": "00001-46b1acd8-d6b2-46c0-8af1-85ecef5f45cd",
    "id": "zEE_8bMAho_E",
    "output_cleared": true,
    "deepnote_cell_type": "code"
   },
   "source": "def find_best_model(model, parameters, X_train, y_train): \n    clf = GridSearchCV(model, parameters, scoring=('balanced_accuracy'), cv=StratifiedKFold())\n    clf.fit(X_train, y_train)\n\n    return clf\n\n# Calculates the per-class accuracy given predicted and true output labels.\ndef class_accs(y_pred, y_true):\n    acc0 = ((y_pred == y_true) & (y_true == 0)).sum() / (y_true == 0).sum()\n    acc1 = ((y_pred == y_true) & (y_true == 1)).sum() / (y_true == 1).sum()\n    return acc0, acc1\n\n# Prints a summary of performance metrics given predicted and true output labels.\ndef print_metrics(y_pred, y_true):\n    f1 = f1_score(y_true, y_pred)\n    acc = accuracy_score(y_true, y_pred)\n    acc0, acc1 = class_accs(y_pred, y_true)\n    print(f'F1 = {f1}')\n    print(f'Accuracy = {acc}')\n    print(f'\\tclass 0: {acc0}')\n    print(f'\\tclass 1: {acc1}')\n\ndef classify(output: np.ndarray):\n    return (output > 0.5).astype(int)\n\ndef print_errors(clf, model_name, X_test, y_test):\n    y_pred = clf.predict(X_test)\n    if model_name == \"neural network\":\n        y_pred = np.reshape(y_pred, len(y_test))\n        y_pred = classify(y_pred)\n    \n    bal_acc = balanced_accuracy_score(y_test, y_pred)\n    print(\"Balanced accuracy ({}) = {}\".format(model_name, bal_acc))\n    print_metrics(y_pred, y_test)",
   "execution_count": null,
   "outputs": []
  },
  {
   "cell_type": "code",
   "metadata": {
    "tags": [],
    "deepnote_to_be_reexecuted": false,
    "source_hash": "51facdde",
    "execution_start": 1640210515629,
    "execution_millis": 79,
    "cell_id": "00002-9a383203-c340-4794-a2d1-f4a502f5da2a",
    "id": "sywKUmsrho_E",
    "output_cleared": false,
    "deepnote_cell_type": "code"
   },
   "source": "X, y, feature_names, categorical = load_loan_prepr()\nseed = 3012\n\nX_train, X_test, y_train, y_test = train_test_split(X, y, test_size=0.2, random_state=seed, stratify=y)\n\n# Scale the data\nscaler = StandardScaler()\nX_train = scaler.fit_transform(X_train)\nX_test = scaler.transform(X_test)",
   "execution_count": null,
   "outputs": [
    {
     "name": "stdout",
     "text": "Original shape:  (614, 13)\n",
     "output_type": "stream",
     "data": {}
    }
   ]
  },
  {
   "cell_type": "code",
   "metadata": {
    "tags": [],
    "cell_id": "00004-b1e8b5d4-fb41-4d62-81be-019471de988d",
    "deepnote_to_be_reexecuted": false,
    "source_hash": "5e2d30bc",
    "execution_start": 1640210515723,
    "execution_millis": 5,
    "deepnote_cell_type": "code"
   },
   "source": "print(X.shape)",
   "execution_count": null,
   "outputs": [
    {
     "name": "stdout",
     "text": "(480, 11)\n",
     "output_type": "stream",
     "data": {}
    }
   ]
  },
  {
   "cell_type": "markdown",
   "source": "    PDP_examples = X_test[[34, 92, 95],:] # [:,[0, 2, 5]]\n    print(scaler.inverse_transform(X_test)[:,[0, 2, 5]][[34, 92, 95],:])",
   "metadata": {
    "tags": [],
    "cell_id": "00004-675c5f04-d768-4e6d-81dd-180dd7a0a7b9",
    "deepnote_to_be_reexecuted": false,
    "source_hash": "23569840",
    "execution_start": 1639563736364,
    "execution_millis": 77,
    "deepnote_cell_type": "markdown"
   }
  },
  {
   "cell_type": "markdown",
   "source": "    print(feature_names)\n    dab = scaler.inverse_transform(X_test)[:,[0, 2, 5]][[34, 92, 95],:]\n    print(dab.shape)\n    # dab2 = dab[[34, 92, 95],:]\n    for i, instance in enumerate(dab):\n        print(i, instance)",
   "metadata": {
    "tags": [],
    "cell_id": "00004-ea36366b-6ccc-458e-a5c8-435ab66636f4",
    "deepnote_to_be_reexecuted": false,
    "source_hash": "9d3223ad",
    "execution_start": 1639563581795,
    "execution_millis": 279,
    "deepnote_cell_type": "markdown"
   }
  },
  {
   "cell_type": "code",
   "metadata": {
    "tags": [],
    "cell_id": "00004-4a7b1280-05df-4535-b275-e2566cf6dade",
    "deepnote_to_be_reexecuted": false,
    "source_hash": "4dcdc7e4",
    "execution_start": 1640210515789,
    "execution_millis": 86444265,
    "deepnote_output_heights": [
     null,
     611
    ],
    "deepnote_cell_type": "code"
   },
   "source": "# d1 = {\"Y\": 1, \"N\": 0}\nd2 = {\"Yes\": 1, \"No\": 0}\nd3 = {\"Male\": 1, \"Female\": 0}\nd4 = {\"0\": 0, \"1\": 1, \"2\": 2, \"3+\": 3}\nd5 = {\"Graduate\": 1, \"Not Graduate\": 0}\nd6 = {\"Rural\": 0, \"Semiurban\": 0.5, \"Urban\": 1}\n\ncleanup_nums = {\"Married\": d2, \"Self_Employed\": d2, \"Gender\": d3,\n\"Dependents\": d4, \"Education\": d5, \"Property_Area\": d6} # \"Loan_Status\": d1,\n\ninv_dicts = dict()\n\n# Invert dictionary\nfor feature, dictionary in cleanup_nums.items():\n    inv_dict = {float(v): k for k, v in dictionary.items()}\n    inv_dicts[feature] = inv_dict",
   "execution_count": null,
   "outputs": []
  },
  {
   "cell_type": "markdown",
   "source": "# Training models",
   "metadata": {
    "id": "eqhllEzyj4_y",
    "cell_id": "00005-9dc40359-9e95-4c7b-bc14-ce11db29b027",
    "deepnote_cell_type": "markdown"
   }
  },
  {
   "cell_type": "markdown",
   "source": "## Scikit-learn models",
   "metadata": {
    "id": "yIPRaicBj7ZA",
    "cell_id": "00006-502e74a5-0971-4451-b583-94ac0fd50735",
    "deepnote_cell_type": "markdown"
   }
  },
  {
   "cell_type": "code",
   "metadata": {
    "id": "wz0tisbej9Wo",
    "cell_id": "00007-1519c46b-f5e5-4f95-9d9c-12b6025b9aec",
    "deepnote_to_be_reexecuted": false,
    "source_hash": "98b17569",
    "execution_start": 1640210515790,
    "execution_millis": 23285,
    "output_cleared": true,
    "deepnote_cell_type": "code"
   },
   "source": "model_names = [\n    \"k-nearest neighbors\", \n    \"decision tree classifier\",\n    \"support vector classifier\",\n    ]\n\nparameters = {\n    \"k-nearest neighbors\": {'n_neighbors': np.arange(1, 20), 'weights': ('uniform', 'distance')}, # 'n_neighbors': np.arange(1, 364)\n    \"decision tree classifier\": {'criterion': ('gini', 'entropy'), 'min_samples_split': np.arange(2, 20)}, # 'min_samples_split': np.arange(2, 364)\n    \"support vector classifier\": {'C': np.geomspace(0.01, 100, 41)}\n    }\n\nmodels_init = {\n    \"k-nearest neighbors\": KNeighborsClassifier(),\n    \"decision tree classifier\": DecisionTreeClassifier(random_state=seed),\n    \"support vector classifier\": SVC(kernel=\"linear\", probability=True)\n    }\n\nmodels = dict()\ntrain_times = dict()\n\nfor model_name in model_names:\n    start = time.time()\n    clf = find_best_model(models_init[model_name], parameters[model_name], X_train, y_train)\n    end = time.time()\n    \n    models[model_name] = clf.best_estimator_\n    train_times[model_name] = (end - start)",
   "execution_count": null,
   "outputs": []
  },
  {
   "cell_type": "markdown",
   "source": "## Neural network",
   "metadata": {
    "id": "nd9B85i-kLqO",
    "cell_id": "00008-160b332e-4478-41ed-ad12-7ea6d4abe5a0",
    "deepnote_cell_type": "markdown"
   }
  },
  {
   "cell_type": "code",
   "metadata": {
    "id": "zTQRUuR-kVBM",
    "cell_id": "00009-f1006d9d-f43f-4efd-ae8f-3a29147bfa70",
    "deepnote_to_be_reexecuted": false,
    "source_hash": "de5327cc",
    "execution_start": 1640210539086,
    "execution_millis": 14,
    "output_cleared": true,
    "deepnote_cell_type": "code"
   },
   "source": "X_train_nn, X_val_nn, y_train_nn, y_val_nn = train_test_split(X_train, y_train, test_size=0.2, random_state=seed, stratify=y_train)",
   "execution_count": null,
   "outputs": []
  },
  {
   "cell_type": "code",
   "metadata": {
    "colab": {
     "base_uri": "https://localhost:8080/"
    },
    "id": "ViXBqIsDkSm2",
    "outputId": "f0db1f6d-e802-4fa7-8011-3c9e464f7c1c",
    "cell_id": "00010-6d7e54db-4a03-4d47-ac9f-26b4ab57c475",
    "deepnote_to_be_reexecuted": false,
    "source_hash": "127c7d2",
    "execution_start": 1640210539108,
    "execution_millis": 16999,
    "output_cleared": false,
    "deepnote_cell_type": "code"
   },
   "source": "# Initialise neural network\nBATCH_SIZE= 64\nINPUT_SIZE= X_train_nn.shape[1]\n\nset_seed(seed)\n\nstart = time.time()\nmodel = Sequential()\nmodel.add(Input(INPUT_SIZE))\nmodel.add(Dense(20, activation=\"relu\"))\nmodel.add(Dropout(0.1))\nmodel.add(Dense(10, activation=\"relu\"))\nmodel.add(Dropout(0.1))\n# model.add(Dense(5, activation=\"relu\"))\n# model.add(Dropout(0.1))\nmodel.add(Dense(1, activation=\"sigmoid\"))\nmodel.compile(optimizer='adam',\n                loss=\"binary_crossentropy\",\n                metrics='binary_accuracy')\n\nn_epochs = 101\n# n_epochs = 86\nhistory = model.fit(X_train_nn, y_train_nn, batch_size=BATCH_SIZE, epochs=n_epochs, validation_data=(X_val_nn, y_val_nn))\nend = time.time()\n\ntrain_times[\"neural network\"] = (end - start)\nmodels[\"neural network\"] = model",
   "execution_count": null,
   "outputs": [
    {
     "name": "stdout",
     "text": "Epoch 1/101\n5/5 [==============================] - 3s 518ms/step - loss: 0.7054 - binary_accuracy: 0.6371 - val_loss: 0.7428 - val_binary_accuracy: 0.5844\nEpoch 2/101\n5/5 [==============================] - 0s 26ms/step - loss: 0.7073 - binary_accuracy: 0.6186 - val_loss: 0.7328 - val_binary_accuracy: 0.5974\nEpoch 3/101\n5/5 [==============================] - 0s 20ms/step - loss: 0.6822 - binary_accuracy: 0.6453 - val_loss: 0.7236 - val_binary_accuracy: 0.6234\nEpoch 4/101\n5/5 [==============================] - 0s 25ms/step - loss: 0.7061 - binary_accuracy: 0.6106 - val_loss: 0.7147 - val_binary_accuracy: 0.6494\nEpoch 5/101\n5/5 [==============================] - 0s 28ms/step - loss: 0.6823 - binary_accuracy: 0.6677 - val_loss: 0.7063 - val_binary_accuracy: 0.6494\nEpoch 6/101\n5/5 [==============================] - 0s 25ms/step - loss: 0.6730 - binary_accuracy: 0.6918 - val_loss: 0.6980 - val_binary_accuracy: 0.6494\nEpoch 7/101\n5/5 [==============================] - 0s 21ms/step - loss: 0.6580 - binary_accuracy: 0.6603 - val_loss: 0.6904 - val_binary_accuracy: 0.6623\nEpoch 8/101\n5/5 [==============================] - 0s 28ms/step - loss: 0.6629 - binary_accuracy: 0.6757 - val_loss: 0.6832 - val_binary_accuracy: 0.6623\nEpoch 9/101\n5/5 [==============================] - 0s 29ms/step - loss: 0.6521 - binary_accuracy: 0.6570 - val_loss: 0.6767 - val_binary_accuracy: 0.6623\nEpoch 10/101\n5/5 [==============================] - 0s 55ms/step - loss: 0.6305 - binary_accuracy: 0.6894 - val_loss: 0.6705 - val_binary_accuracy: 0.6623\nEpoch 11/101\n5/5 [==============================] - 0s 39ms/step - loss: 0.6174 - binary_accuracy: 0.6944 - val_loss: 0.6643 - val_binary_accuracy: 0.6753\nEpoch 12/101\n5/5 [==============================] - 0s 19ms/step - loss: 0.6120 - binary_accuracy: 0.7039 - val_loss: 0.6582 - val_binary_accuracy: 0.6753\nEpoch 13/101\n5/5 [==============================] - 0s 33ms/step - loss: 0.6192 - binary_accuracy: 0.6887 - val_loss: 0.6525 - val_binary_accuracy: 0.6883\nEpoch 14/101\n5/5 [==============================] - 0s 35ms/step - loss: 0.6132 - binary_accuracy: 0.7044 - val_loss: 0.6470 - val_binary_accuracy: 0.6883\nEpoch 15/101\n5/5 [==============================] - 0s 38ms/step - loss: 0.6115 - binary_accuracy: 0.7094 - val_loss: 0.6413 - val_binary_accuracy: 0.6883\nEpoch 16/101\n5/5 [==============================] - 0s 42ms/step - loss: 0.6140 - binary_accuracy: 0.6957 - val_loss: 0.6360 - val_binary_accuracy: 0.6883\nEpoch 17/101\n5/5 [==============================] - 0s 24ms/step - loss: 0.5818 - binary_accuracy: 0.7261 - val_loss: 0.6306 - val_binary_accuracy: 0.6883\nEpoch 18/101\n5/5 [==============================] - 0s 22ms/step - loss: 0.5851 - binary_accuracy: 0.7215 - val_loss: 0.6255 - val_binary_accuracy: 0.6883\nEpoch 19/101\n5/5 [==============================] - 0s 20ms/step - loss: 0.5763 - binary_accuracy: 0.7102 - val_loss: 0.6202 - val_binary_accuracy: 0.6883\nEpoch 20/101\n5/5 [==============================] - 0s 32ms/step - loss: 0.5741 - binary_accuracy: 0.7141 - val_loss: 0.6149 - val_binary_accuracy: 0.6883\nEpoch 21/101\n5/5 [==============================] - 0s 31ms/step - loss: 0.5786 - binary_accuracy: 0.7135 - val_loss: 0.6100 - val_binary_accuracy: 0.6883\nEpoch 22/101\n5/5 [==============================] - 0s 30ms/step - loss: 0.5819 - binary_accuracy: 0.7391 - val_loss: 0.6053 - val_binary_accuracy: 0.6883\nEpoch 23/101\n5/5 [==============================] - 0s 19ms/step - loss: 0.5469 - binary_accuracy: 0.7397 - val_loss: 0.6011 - val_binary_accuracy: 0.6883\nEpoch 24/101\n5/5 [==============================] - 0s 24ms/step - loss: 0.5565 - binary_accuracy: 0.7291 - val_loss: 0.5967 - val_binary_accuracy: 0.6883\nEpoch 25/101\n5/5 [==============================] - 0s 20ms/step - loss: 0.5511 - binary_accuracy: 0.7285 - val_loss: 0.5925 - val_binary_accuracy: 0.7013\nEpoch 26/101\n5/5 [==============================] - 0s 25ms/step - loss: 0.5708 - binary_accuracy: 0.7209 - val_loss: 0.5884 - val_binary_accuracy: 0.7013\nEpoch 27/101\n5/5 [==============================] - 0s 32ms/step - loss: 0.5577 - binary_accuracy: 0.7469 - val_loss: 0.5844 - val_binary_accuracy: 0.7143\nEpoch 28/101\n5/5 [==============================] - 0s 38ms/step - loss: 0.5507 - binary_accuracy: 0.7217 - val_loss: 0.5810 - val_binary_accuracy: 0.7273\nEpoch 29/101\n5/5 [==============================] - 0s 29ms/step - loss: 0.5282 - binary_accuracy: 0.7376 - val_loss: 0.5774 - val_binary_accuracy: 0.7403\nEpoch 30/101\n5/5 [==============================] - 0s 28ms/step - loss: 0.5513 - binary_accuracy: 0.7265 - val_loss: 0.5737 - val_binary_accuracy: 0.7273\nEpoch 31/101\n5/5 [==============================] - 0s 23ms/step - loss: 0.5480 - binary_accuracy: 0.7569 - val_loss: 0.5702 - val_binary_accuracy: 0.7403\nEpoch 32/101\n5/5 [==============================] - 0s 18ms/step - loss: 0.5533 - binary_accuracy: 0.7636 - val_loss: 0.5672 - val_binary_accuracy: 0.7532\nEpoch 33/101\n5/5 [==============================] - 0s 22ms/step - loss: 0.5513 - binary_accuracy: 0.7677 - val_loss: 0.5641 - val_binary_accuracy: 0.7532\nEpoch 34/101\n5/5 [==============================] - 0s 30ms/step - loss: 0.5233 - binary_accuracy: 0.7712 - val_loss: 0.5611 - val_binary_accuracy: 0.7532\nEpoch 35/101\n5/5 [==============================] - 0s 33ms/step - loss: 0.5276 - binary_accuracy: 0.7806 - val_loss: 0.5580 - val_binary_accuracy: 0.7532\nEpoch 36/101\n5/5 [==============================] - 0s 29ms/step - loss: 0.5367 - binary_accuracy: 0.7801 - val_loss: 0.5552 - val_binary_accuracy: 0.7532\nEpoch 37/101\n5/5 [==============================] - 0s 31ms/step - loss: 0.5137 - binary_accuracy: 0.7773 - val_loss: 0.5520 - val_binary_accuracy: 0.7662\nEpoch 38/101\n5/5 [==============================] - 0s 29ms/step - loss: 0.5195 - binary_accuracy: 0.7773 - val_loss: 0.5492 - val_binary_accuracy: 0.7662\nEpoch 39/101\n5/5 [==============================] - 0s 29ms/step - loss: 0.5648 - binary_accuracy: 0.7400 - val_loss: 0.5468 - val_binary_accuracy: 0.7662\nEpoch 40/101\n5/5 [==============================] - 0s 25ms/step - loss: 0.5260 - binary_accuracy: 0.7530 - val_loss: 0.5445 - val_binary_accuracy: 0.7662\nEpoch 41/101\n5/5 [==============================] - 0s 25ms/step - loss: 0.5249 - binary_accuracy: 0.7486 - val_loss: 0.5424 - val_binary_accuracy: 0.7662\nEpoch 42/101\n5/5 [==============================] - 0s 39ms/step - loss: 0.5502 - binary_accuracy: 0.7686 - val_loss: 0.5397 - val_binary_accuracy: 0.7662\nEpoch 43/101\n5/5 [==============================] - 0s 44ms/step - loss: 0.5507 - binary_accuracy: 0.7743 - val_loss: 0.5374 - val_binary_accuracy: 0.7662\nEpoch 44/101\n5/5 [==============================] - 0s 36ms/step - loss: 0.4903 - binary_accuracy: 0.8055 - val_loss: 0.5350 - val_binary_accuracy: 0.7922\nEpoch 45/101\n5/5 [==============================] - 0s 29ms/step - loss: 0.5171 - binary_accuracy: 0.7836 - val_loss: 0.5325 - val_binary_accuracy: 0.7922\nEpoch 46/101\n5/5 [==============================] - 0s 25ms/step - loss: 0.5102 - binary_accuracy: 0.7762 - val_loss: 0.5300 - val_binary_accuracy: 0.7922\nEpoch 47/101\n5/5 [==============================] - 0s 28ms/step - loss: 0.4771 - binary_accuracy: 0.8127 - val_loss: 0.5275 - val_binary_accuracy: 0.7922\nEpoch 48/101\n5/5 [==============================] - 0s 26ms/step - loss: 0.4973 - binary_accuracy: 0.7951 - val_loss: 0.5256 - val_binary_accuracy: 0.7922\nEpoch 49/101\n5/5 [==============================] - 0s 30ms/step - loss: 0.5216 - binary_accuracy: 0.7738 - val_loss: 0.5236 - val_binary_accuracy: 0.8052\nEpoch 50/101\n5/5 [==============================] - 0s 23ms/step - loss: 0.4889 - binary_accuracy: 0.7929 - val_loss: 0.5218 - val_binary_accuracy: 0.8052\nEpoch 51/101\n5/5 [==============================] - 0s 31ms/step - loss: 0.4941 - binary_accuracy: 0.8020 - val_loss: 0.5198 - val_binary_accuracy: 0.8052\nEpoch 52/101\n5/5 [==============================] - 0s 35ms/step - loss: 0.5038 - binary_accuracy: 0.7964 - val_loss: 0.5186 - val_binary_accuracy: 0.8052\nEpoch 53/101\n5/5 [==============================] - 0s 31ms/step - loss: 0.4690 - binary_accuracy: 0.8003 - val_loss: 0.5173 - val_binary_accuracy: 0.8052\nEpoch 54/101\n5/5 [==============================] - 0s 29ms/step - loss: 0.4678 - binary_accuracy: 0.8205 - val_loss: 0.5160 - val_binary_accuracy: 0.8052\nEpoch 55/101\n5/5 [==============================] - 0s 25ms/step - loss: 0.4752 - binary_accuracy: 0.8177 - val_loss: 0.5142 - val_binary_accuracy: 0.8052\nEpoch 56/101\n5/5 [==============================] - 0s 25ms/step - loss: 0.4946 - binary_accuracy: 0.7903 - val_loss: 0.5120 - val_binary_accuracy: 0.8052\nEpoch 57/101\n5/5 [==============================] - 0s 30ms/step - loss: 0.4757 - binary_accuracy: 0.8168 - val_loss: 0.5099 - val_binary_accuracy: 0.8052\nEpoch 58/101\n5/5 [==============================] - 0s 30ms/step - loss: 0.5182 - binary_accuracy: 0.7842 - val_loss: 0.5083 - val_binary_accuracy: 0.8052\nEpoch 59/101\n5/5 [==============================] - 0s 28ms/step - loss: 0.4948 - binary_accuracy: 0.7934 - val_loss: 0.5065 - val_binary_accuracy: 0.8052\nEpoch 60/101\n5/5 [==============================] - 0s 26ms/step - loss: 0.4415 - binary_accuracy: 0.8461 - val_loss: 0.5048 - val_binary_accuracy: 0.8052\nEpoch 61/101\n5/5 [==============================] - 0s 25ms/step - loss: 0.4643 - binary_accuracy: 0.8274 - val_loss: 0.5037 - val_binary_accuracy: 0.8182\nEpoch 62/101\n5/5 [==============================] - 0s 26ms/step - loss: 0.4598 - binary_accuracy: 0.8277 - val_loss: 0.5023 - val_binary_accuracy: 0.8182\nEpoch 63/101\n5/5 [==============================] - 0s 26ms/step - loss: 0.4676 - binary_accuracy: 0.8068 - val_loss: 0.5013 - val_binary_accuracy: 0.8182\nEpoch 64/101\n5/5 [==============================] - 0s 24ms/step - loss: 0.4746 - binary_accuracy: 0.8044 - val_loss: 0.5006 - val_binary_accuracy: 0.8182\nEpoch 65/101\n5/5 [==============================] - 0s 26ms/step - loss: 0.5150 - binary_accuracy: 0.7984 - val_loss: 0.5003 - val_binary_accuracy: 0.8182\nEpoch 66/101\n5/5 [==============================] - 0s 31ms/step - loss: 0.4884 - binary_accuracy: 0.7849 - val_loss: 0.5005 - val_binary_accuracy: 0.8182\nEpoch 67/101\n5/5 [==============================] - 0s 25ms/step - loss: 0.4665 - binary_accuracy: 0.8096 - val_loss: 0.5002 - val_binary_accuracy: 0.8052\nEpoch 68/101\n5/5 [==============================] - 0s 28ms/step - loss: 0.4842 - binary_accuracy: 0.7979 - val_loss: 0.5001 - val_binary_accuracy: 0.8052\nEpoch 69/101\n5/5 [==============================] - 0s 29ms/step - loss: 0.4838 - binary_accuracy: 0.8159 - val_loss: 0.4991 - val_binary_accuracy: 0.8052\nEpoch 70/101\n5/5 [==============================] - 0s 20ms/step - loss: 0.4542 - binary_accuracy: 0.8311 - val_loss: 0.4984 - val_binary_accuracy: 0.8052\nEpoch 71/101\n5/5 [==============================] - 0s 19ms/step - loss: 0.4818 - binary_accuracy: 0.8148 - val_loss: 0.4977 - val_binary_accuracy: 0.8052\nEpoch 72/101\n5/5 [==============================] - 0s 23ms/step - loss: 0.5090 - binary_accuracy: 0.7866 - val_loss: 0.4974 - val_binary_accuracy: 0.8052\nEpoch 73/101\n5/5 [==============================] - 0s 37ms/step - loss: 0.4414 - binary_accuracy: 0.8146 - val_loss: 0.4968 - val_binary_accuracy: 0.8052\nEpoch 74/101\n5/5 [==============================] - 0s 35ms/step - loss: 0.4630 - binary_accuracy: 0.8018 - val_loss: 0.4960 - val_binary_accuracy: 0.8052\nEpoch 75/101\n5/5 [==============================] - 0s 31ms/step - loss: 0.4846 - binary_accuracy: 0.7923 - val_loss: 0.4955 - val_binary_accuracy: 0.8052\nEpoch 76/101\n5/5 [==============================] - 0s 44ms/step - loss: 0.5121 - binary_accuracy: 0.7999 - val_loss: 0.4950 - val_binary_accuracy: 0.8052\nEpoch 77/101\n5/5 [==============================] - 0s 32ms/step - loss: 0.4260 - binary_accuracy: 0.8077 - val_loss: 0.4946 - val_binary_accuracy: 0.8052\nEpoch 78/101\n5/5 [==============================] - 0s 37ms/step - loss: 0.4527 - binary_accuracy: 0.8116 - val_loss: 0.4947 - val_binary_accuracy: 0.8052\nEpoch 79/101\n5/5 [==============================] - 0s 22ms/step - loss: 0.4348 - binary_accuracy: 0.8437 - val_loss: 0.4945 - val_binary_accuracy: 0.8052\nEpoch 80/101\n5/5 [==============================] - 0s 33ms/step - loss: 0.4304 - binary_accuracy: 0.8530 - val_loss: 0.4941 - val_binary_accuracy: 0.8052\nEpoch 81/101\n5/5 [==============================] - 0s 28ms/step - loss: 0.4635 - binary_accuracy: 0.8198 - val_loss: 0.4934 - val_binary_accuracy: 0.8052\nEpoch 82/101\n5/5 [==============================] - 0s 21ms/step - loss: 0.4862 - binary_accuracy: 0.7931 - val_loss: 0.4932 - val_binary_accuracy: 0.8052\nEpoch 83/101\n5/5 [==============================] - 0s 22ms/step - loss: 0.4372 - binary_accuracy: 0.8335 - val_loss: 0.4925 - val_binary_accuracy: 0.8052\nEpoch 84/101\n5/5 [==============================] - 0s 24ms/step - loss: 0.4243 - binary_accuracy: 0.8504 - val_loss: 0.4920 - val_binary_accuracy: 0.8182\nEpoch 85/101\n5/5 [==============================] - 0s 33ms/step - loss: 0.4379 - binary_accuracy: 0.8333 - val_loss: 0.4918 - val_binary_accuracy: 0.8182\nEpoch 86/101\n5/5 [==============================] - 0s 29ms/step - loss: 0.4250 - binary_accuracy: 0.8474 - val_loss: 0.4917 - val_binary_accuracy: 0.8182\nEpoch 87/101\n5/5 [==============================] - 0s 21ms/step - loss: 0.4722 - binary_accuracy: 0.8103 - val_loss: 0.4920 - val_binary_accuracy: 0.8182\nEpoch 88/101\n5/5 [==============================] - 0s 26ms/step - loss: 0.4593 - binary_accuracy: 0.8235 - val_loss: 0.4920 - val_binary_accuracy: 0.8182\nEpoch 89/101\n5/5 [==============================] - 0s 32ms/step - loss: 0.4546 - binary_accuracy: 0.8131 - val_loss: 0.4915 - val_binary_accuracy: 0.8182\nEpoch 90/101\n5/5 [==============================] - 0s 30ms/step - loss: 0.4645 - binary_accuracy: 0.8192 - val_loss: 0.4920 - val_binary_accuracy: 0.8182\nEpoch 91/101\n5/5 [==============================] - 0s 32ms/step - loss: 0.4176 - binary_accuracy: 0.8435 - val_loss: 0.4923 - val_binary_accuracy: 0.8052\nEpoch 92/101\n5/5 [==============================] - 0s 48ms/step - loss: 0.4480 - binary_accuracy: 0.8266 - val_loss: 0.4927 - val_binary_accuracy: 0.8052\nEpoch 93/101\n5/5 [==============================] - 0s 28ms/step - loss: 0.4242 - binary_accuracy: 0.8409 - val_loss: 0.4923 - val_binary_accuracy: 0.8052\nEpoch 94/101\n5/5 [==============================] - 0s 29ms/step - loss: 0.4533 - binary_accuracy: 0.8127 - val_loss: 0.4926 - val_binary_accuracy: 0.8052\nEpoch 95/101\n5/5 [==============================] - 0s 35ms/step - loss: 0.4891 - binary_accuracy: 0.7999 - val_loss: 0.4928 - val_binary_accuracy: 0.8052\nEpoch 96/101\n5/5 [==============================] - 0s 26ms/step - loss: 0.4338 - binary_accuracy: 0.8181 - val_loss: 0.4930 - val_binary_accuracy: 0.8052\nEpoch 97/101\n5/5 [==============================] - 0s 26ms/step - loss: 0.4226 - binary_accuracy: 0.8264 - val_loss: 0.4924 - val_binary_accuracy: 0.8182\nEpoch 98/101\n5/5 [==============================] - 0s 27ms/step - loss: 0.4432 - binary_accuracy: 0.8240 - val_loss: 0.4923 - val_binary_accuracy: 0.8182\nEpoch 99/101\n5/5 [==============================] - 0s 30ms/step - loss: 0.4552 - binary_accuracy: 0.8118 - val_loss: 0.4918 - val_binary_accuracy: 0.8182\nEpoch 100/101\n5/5 [==============================] - 0s 44ms/step - loss: 0.4829 - binary_accuracy: 0.8027 - val_loss: 0.4916 - val_binary_accuracy: 0.8182\nEpoch 101/101\n5/5 [==============================] - 0s 30ms/step - loss: 0.4064 - binary_accuracy: 0.8435 - val_loss: 0.4915 - val_binary_accuracy: 0.8182\n",
     "output_type": "stream",
     "data": {}
    }
   ]
  },
  {
   "cell_type": "markdown",
   "source": "## Errors and times",
   "metadata": {
    "tags": [],
    "is_collapsed": false,
    "cell_id": "00010-ae416b84-5bbf-4b83-90b9-5da0eee1eaae",
    "deepnote_cell_type": "text-cell-h2"
   }
  },
  {
   "cell_type": "code",
   "metadata": {
    "tags": [],
    "cell_id": "00008-6fe148b4-6ffa-4fa8-9757-c2c5839c1850",
    "deepnote_to_be_reexecuted": false,
    "source_hash": "4c56a59e",
    "execution_start": 1640210556106,
    "execution_millis": 9,
    "output_cleared": false,
    "deepnote_cell_type": "code"
   },
   "source": "for name, model_time in train_times.items():\n    print(f\"Model {name} took {model_time} seconds to train\")",
   "execution_count": null,
   "outputs": [
    {
     "name": "stdout",
     "text": "Model k-nearest neighbors took 1.9175200462341309 seconds to train\nModel decision tree classifier took 1.1125001907348633 seconds to train\nModel support vector classifier took 20.264036655426025 seconds to train\nModel neural network took 16.954256057739258 seconds to train\n",
     "output_type": "stream",
     "data": {}
    }
   ]
  },
  {
   "cell_type": "code",
   "metadata": {
    "colab": {
     "base_uri": "https://localhost:8080/"
    },
    "id": "V6yGxRTxkf3J",
    "outputId": "b99d0ccc-092c-48b6-a511-8ea2261f2d0c",
    "cell_id": "00012-157e83a7-eaae-4135-b2f8-0695e17be191",
    "deepnote_to_be_reexecuted": false,
    "source_hash": "65148c9e",
    "execution_start": 1640210556168,
    "execution_millis": 280,
    "output_cleared": false,
    "deepnote_cell_type": "code"
   },
   "source": "for model_name in models.keys():\n    print_errors(models[model_name], model_name, X_test, y_test)",
   "execution_count": null,
   "outputs": [
    {
     "name": "stdout",
     "text": "Balanced accuracy (k-nearest neighbors) = 0.7181818181818183\nF1 = 0.8767123287671234\nAccuracy = 0.8125\n\tclass 0: 0.4666666666666667\n\tclass 1: 0.9696969696969697\nBalanced accuracy (decision tree classifier) = 0.6681818181818182\nF1 = 0.7969924812030075\nAccuracy = 0.71875\n\tclass 0: 0.5333333333333333\n\tclass 1: 0.803030303030303\nBalanced accuracy (support vector classifier) = 0.7333333333333334\nF1 = 0.8918918918918919\nAccuracy = 0.8333333333333334\n\tclass 0: 0.4666666666666667\n\tclass 1: 1.0\nBalanced accuracy (neural network) = 0.7348484848484849\nF1 = 0.8827586206896552\nAccuracy = 0.8229166666666666\n\tclass 0: 0.5\n\tclass 1: 0.9696969696969697\n",
     "output_type": "stream",
     "data": {}
    }
   ]
  },
  {
   "cell_type": "code",
   "metadata": {
    "tags": [],
    "cell_id": "00013-17ce5333-fa69-4cf5-8c68-83b4575ed621",
    "deepnote_to_be_reexecuted": false,
    "source_hash": "49030ef1",
    "execution_start": 1640210556545,
    "execution_millis": 159939,
    "deepnote_cell_type": "code"
   },
   "source": "inference_times = dict()\n\nX_copy = np.tile(X_test[:50], (20000, 1))\n\nfor model_name, model in models.items():\n    start = time.time()\n    y_pred = model.predict(X_copy)\n    end = time.time()\n    inference_times[model_name] = (end - start)\n\nfor model_name, inference_time in inference_times.items():\n    print(f\"Model {model_name} took {inference_time} seconds to make 1 000 000 predictions\")",
   "execution_count": null,
   "outputs": [
    {
     "name": "stdout",
     "text": "Model k-nearest neighbors took 90.35485339164734 seconds to make 1 000 000 predictions\nModel decision tree classifier took 0.08821630477905273 seconds to make 1 000 000 predictions\nModel support vector classifier took 12.636113166809082 seconds to make 1 000 000 predictions\nModel neural network took 56.84111762046814 seconds to make 1 000 000 predictions\n",
     "output_type": "stream",
     "data": {}
    }
   ]
  },
  {
   "cell_type": "markdown",
   "source": "# Intrinsic interpretability",
   "metadata": {
    "tags": [],
    "is_collapsed": false,
    "cell_id": "00013-f4a27634-2e0c-49ac-8d57-3494bb41dad1",
    "deepnote_cell_type": "text-cell-h1"
   }
  },
  {
   "cell_type": "code",
   "metadata": {
    "colab": {
     "base_uri": "https://localhost:8080/",
     "height": 369
    },
    "id": "WY6k0YcIkmi-",
    "outputId": "2c814eb3-7796-47a1-8163-22f795773a0e",
    "cell_id": "00014-efd734f7-ddd7-4b07-9576-67bab3f5a499",
    "deepnote_output_heights": [
     null,
     282
    ],
    "deepnote_to_be_reexecuted": false,
    "source_hash": "bcb19231",
    "execution_start": 1640210716483,
    "execution_millis": 1424,
    "output_cleared": false,
    "deepnote_cell_type": "code"
   },
   "source": "dtr_feat_imps = models[\"decision tree classifier\"].feature_importances_\n\nsvc_coefs = models[\"support vector classifier\"].coef_[0]\nsvc_feat_imps = np.abs(svc_coefs) / np.sum(np.abs(svc_coefs))\n\nintr_feat_imps = pd.DataFrame({\"decision tree classifier\": dtr_feat_imps, \"support vector classifier\": svc_feat_imps}, index=feature_names)\nintr_feat_imps.plot.bar()\n\n# plt.show()\nplt.tight_layout()\nplt.savefig(f\"Figures/loan/intrinsic_feature_importance_loan.png\", dpi=300)\nplt.close()",
   "execution_count": null,
   "outputs": []
  },
  {
   "cell_type": "markdown",
   "source": "# Partial dependence plots",
   "metadata": {
    "tags": [],
    "is_collapsed": false,
    "cell_id": "00016-2b64f45e-b344-4ca7-b640-55d2d878e432",
    "deepnote_cell_type": "text-cell-h1"
   }
  },
  {
   "cell_type": "code",
   "metadata": {
    "tags": [],
    "cell_id": "00017-aff36e9c-6b14-47a8-816f-e909b5353644",
    "deepnote_to_be_reexecuted": false,
    "source_hash": "d10d42b0",
    "execution_start": 1640210717921,
    "execution_millis": 16,
    "deepnote_cell_type": "code"
   },
   "source": "def inverse_transform(X, feat_idx, scaler):\n    return X * np.sqrt(scaler.var_[feat_idx]) + scaler.mean_[feat_idx]",
   "execution_count": null,
   "outputs": []
  },
  {
   "cell_type": "code",
   "metadata": {
    "id": "t_ZwtTSekuJN",
    "cell_id": "00016-1290e1d2-b8ed-406a-b9f9-ddcabf86149f",
    "colab": {
     "base_uri": "https://localhost:8080/",
     "height": 1000
    },
    "outputId": "b6779b52-91e9-437d-dfd3-1180f006448a",
    "deepnote_output_heights": [
     null,
     268,
     268,
     264,
     null,
     264,
     264,
     264,
     null,
     268,
     268,
     264,
     null,
     268,
     268,
     264
    ],
    "deepnote_to_be_reexecuted": false,
    "source_hash": "5b2a0c06",
    "execution_start": 1640210717948,
    "execution_millis": 79211,
    "output_cleared": false,
    "deepnote_cell_type": "code"
   },
   "source": "for model_name in models.keys():\n    model = models[model_name]\n    print(model_name)\n\n    for i in range(len(feature_names)):\n        feat_values, PDP_values = PDP(\"classification\", i, feature_names[i], model, X_test, y_test, categorical=categorical[i])\n        print(PDP_values)\n\n        # Make a line plot if feature is not categorical and a bar plot if it is categorical\n        plt.xlabel(feature_names[i])\n        plt.ylabel(\"Average prediction\")\n\n        original_feat_values = inverse_transform(feat_values, i, scaler)\n\n        if not categorical[i]:\n            plt.plot(original_feat_values, PDP_values)\n        else:\n            diff = max(PDP_values) - min(PDP_values)\n            if diff != 0.0:\n                plt.ylim(max(min(PDP_values) - 0.2 * diff, 0.0), max(PDP_values) + 0.2 * diff)\n            else:\n                plt.ylim(min(PDP_values) - 0.001, max(PDP_values) + 0.001)\n            \n            tick_label = original_feat_values\n\n            if feature_names[i] in inv_dicts.keys():\n                tick_label = list()\n                for value in original_feat_values:\n                    tick_label.append(inv_dicts[feature_names[i]][round(value, 2)])\n\n            plt.bar(original_feat_values, PDP_values, width=(original_feat_values[1]-original_feat_values[0]) * 0.9, tick_label=tick_label)\n\n        plt.savefig(f\"Figures/loan/PDP_loan_{model_name}_{i}.png\", dpi=300)\n        plt.close()",
   "execution_count": null,
   "outputs": [
    {
     "name": "stdout",
     "text": "k-nearest neighbors\n[0.8125, 0.8541666666666666]\n[0.8229166666666666, 0.8541666666666666]\n[0.84375, 0.84375, 0.8333333333333334, 0.875]\n[0.8333333333333334, 0.84375]\n[0.8333333333333334, 0.8645833333333334]\n[0.8541666666666666, 0.84375, 0.84375, 0.84375, 0.84375, 0.84375, 0.84375, 0.84375, 0.8333333333333334, 0.8333333333333334, 0.8333333333333334, 0.8333333333333334, 0.8229166666666666, 0.8229166666666666, 0.8229166666666666, 0.8229166666666666, 0.8229166666666666, 0.8229166666666666, 0.8333333333333334, 0.8333333333333334, 0.8333333333333334, 0.8229166666666666, 0.8333333333333334, 0.8333333333333334, 0.8333333333333334, 0.8333333333333334, 0.8333333333333334, 0.8333333333333334, 0.8229166666666666, 0.8333333333333334, 0.8333333333333334, 0.8333333333333334, 0.8333333333333334, 0.8333333333333334, 0.8333333333333334, 0.8333333333333334, 0.84375, 0.84375, 0.84375, 0.84375, 0.84375, 0.84375, 0.84375, 0.84375, 0.84375, 0.84375, 0.84375, 0.84375, 0.84375, 0.8541666666666666, 0.8541666666666666, 0.8541666666666666, 0.8541666666666666, 0.8541666666666666, 0.8541666666666666, 0.8541666666666666, 0.8541666666666666, 0.8541666666666666, 0.8541666666666666, 0.8541666666666666, 0.8541666666666666, 0.8541666666666666, 0.84375, 0.84375, 0.8333333333333334, 0.8333333333333334, 0.8229166666666666, 0.8229166666666666, 0.8229166666666666, 0.8229166666666666, 0.8333333333333334, 0.8229166666666666, 0.8229166666666666, 0.8125, 0.8125, 0.8125, 0.8125, 0.8125, 0.8229166666666666, 0.8229166666666666, 0.8333333333333334, 0.8541666666666666, 0.8541666666666666, 0.8541666666666666, 0.8541666666666666, 0.8541666666666666, 0.8541666666666666, 0.8541666666666666, 0.8541666666666666, 0.8541666666666666, 0.8541666666666666, 0.8541666666666666, 0.8541666666666666, 0.8541666666666666, 0.8541666666666666, 0.8541666666666666, 0.8541666666666666, 0.8645833333333334, 0.8645833333333334, 0.8645833333333334]\n[0.8229166666666666, 0.8229166666666666, 0.8229166666666666, 0.8229166666666666, 0.8229166666666666, 0.8229166666666666, 0.8229166666666666, 0.8229166666666666, 0.8229166666666666, 0.8229166666666666, 0.8229166666666666, 0.8229166666666666, 0.8229166666666666, 0.8229166666666666, 0.8229166666666666, 0.8229166666666666, 0.8229166666666666, 0.8229166666666666, 0.8229166666666666, 0.8229166666666666, 0.8229166666666666, 0.8333333333333334, 0.8333333333333334, 0.8229166666666666, 0.8229166666666666, 0.8229166666666666, 0.8229166666666666, 0.8229166666666666, 0.8229166666666666, 0.8229166666666666, 0.8229166666666666, 0.8333333333333334, 0.8333333333333334, 0.8333333333333334, 0.8333333333333334, 0.8333333333333334, 0.8333333333333334, 0.8333333333333334, 0.8333333333333334, 0.8333333333333334, 0.8333333333333334, 0.8333333333333334, 0.8333333333333334, 0.8333333333333334, 0.8333333333333334, 0.8333333333333334, 0.8333333333333334, 0.8333333333333334, 0.8333333333333334, 0.8333333333333334, 0.8333333333333334, 0.8333333333333334, 0.8333333333333334, 0.8333333333333334, 0.8333333333333334, 0.8333333333333334, 0.8333333333333334, 0.8333333333333334, 0.8333333333333334, 0.8333333333333334, 0.8333333333333334, 0.8333333333333334, 0.8333333333333334, 0.8333333333333334, 0.8333333333333334, 0.8333333333333334, 0.8333333333333334, 0.84375, 0.84375, 0.84375, 0.84375, 0.84375, 0.84375, 0.84375, 0.84375, 0.84375, 0.84375, 0.8333333333333334, 0.8333333333333334, 0.8333333333333334, 0.8333333333333334, 0.8333333333333334, 0.8333333333333334, 0.8333333333333334, 0.8333333333333334, 0.8333333333333334, 0.8333333333333334, 0.8333333333333334, 0.8333333333333334, 0.84375, 0.84375, 0.84375, 0.84375, 0.84375, 0.84375, 0.84375, 0.84375, 0.84375, 0.84375, 0.84375]\n[0.8229166666666666, 0.8229166666666666, 0.8229166666666666, 0.8229166666666666, 0.8333333333333334, 0.8229166666666666, 0.8229166666666666, 0.8229166666666666, 0.8333333333333334, 0.8333333333333334, 0.8229166666666666, 0.8229166666666666, 0.8229166666666666, 0.8333333333333334, 0.84375, 0.84375, 0.84375, 0.84375, 0.84375, 0.84375, 0.84375, 0.84375, 0.84375, 0.84375, 0.84375, 0.84375, 0.84375, 0.84375, 0.84375, 0.84375, 0.8333333333333334, 0.8229166666666666, 0.8229166666666666, 0.8229166666666666, 0.8229166666666666, 0.8333333333333334, 0.8229166666666666, 0.8229166666666666, 0.8229166666666666, 0.8229166666666666, 0.8229166666666666, 0.8229166666666666, 0.8229166666666666, 0.8229166666666666, 0.8229166666666666, 0.8229166666666666, 0.8333333333333334, 0.8229166666666666, 0.8125, 0.8125, 0.8229166666666666, 0.8333333333333334, 0.8229166666666666, 0.8229166666666666, 0.8229166666666666, 0.8229166666666666, 0.8229166666666666, 0.8229166666666666, 0.8229166666666666, 0.8229166666666666, 0.8229166666666666, 0.8125, 0.8020833333333334, 0.7916666666666666, 0.7916666666666666, 0.7916666666666666, 0.8020833333333334, 0.8020833333333334, 0.8020833333333334, 0.8020833333333334, 0.8020833333333334, 0.8020833333333334, 0.8020833333333334, 0.8125, 0.8229166666666666, 0.8229166666666666, 0.8020833333333334, 0.8020833333333334, 0.7916666666666666, 0.7916666666666666, 0.8020833333333334, 0.7916666666666666, 0.78125, 0.78125, 0.7708333333333334, 0.7708333333333334, 0.7708333333333334, 0.7708333333333334, 0.7708333333333334, 0.7708333333333334, 0.7708333333333334, 0.7708333333333334, 0.78125, 0.8020833333333334, 0.8125, 0.8229166666666666, 0.8125, 0.7916666666666666, 0.75, 0.7395833333333334]\n[0.8958333333333334, 0.8958333333333334, 0.8958333333333334, 0.8958333333333334, 0.8958333333333334, 0.8958333333333334, 0.8854166666666666, 0.8854166666666666, 0.8854166666666666, 0.875, 0.875, 0.875, 0.8645833333333334, 0.8645833333333334, 0.8645833333333334, 0.8645833333333334, 0.8541666666666666, 0.8541666666666666, 0.8541666666666666, 0.8541666666666666, 0.8541666666666666, 0.8541666666666666, 0.8541666666666666, 0.84375, 0.84375, 0.84375, 0.8333333333333334, 0.8333333333333334, 0.8333333333333334, 0.8333333333333334, 0.8333333333333334, 0.8333333333333334, 0.8333333333333334, 0.8333333333333334, 0.8333333333333334, 0.8333333333333334, 0.8333333333333334, 0.84375, 0.84375, 0.8333333333333334, 0.8333333333333334, 0.8333333333333334, 0.8333333333333334, 0.8333333333333334, 0.8333333333333334, 0.8333333333333334, 0.8333333333333334, 0.8333333333333334, 0.8333333333333334, 0.8333333333333334, 0.8333333333333334, 0.8333333333333334, 0.8333333333333334, 0.8333333333333334, 0.8333333333333334, 0.8333333333333334, 0.8333333333333334, 0.8333333333333334, 0.8333333333333334, 0.8333333333333334, 0.8333333333333334, 0.8333333333333334, 0.8333333333333334, 0.8333333333333334, 0.8333333333333334, 0.8333333333333334, 0.8333333333333334, 0.8333333333333334, 0.8333333333333334, 0.8333333333333334, 0.8333333333333334, 0.8333333333333334, 0.8333333333333334, 0.8333333333333334, 0.8333333333333334, 0.8333333333333334, 0.8333333333333334, 0.8333333333333334, 0.8333333333333334, 0.8333333333333334, 0.8333333333333334, 0.8333333333333334, 0.8229166666666666, 0.8125, 0.8125, 0.8125, 0.8125, 0.8125, 0.8125, 0.8125, 0.8125, 0.8125, 0.8125, 0.8125, 0.8020833333333334, 0.7916666666666666, 0.7916666666666666, 0.7916666666666666, 0.7916666666666666, 0.7916666666666666]\n[0.041666666666666664, 0.96875]\n[0.8333333333333334, 0.8541666666666666, 0.8333333333333334]\ndecision tree classifier\n[0.6979166666666666, 0.6979166666666666]\n[0.7083333333333334, 0.6979166666666666]\n[0.6979166666666666, 0.6979166666666666, 0.6979166666666666, 0.6979166666666666]\n[0.6354166666666666, 0.7291666666666666]\n[0.6979166666666666, 0.7083333333333334]\n[0.0, 0.0, 0.625, 0.7083333333333334, 0.7083333333333334, 0.7083333333333334, 0.6041666666666666, 0.6770833333333334, 0.6041666666666666, 0.6041666666666666, 0.6041666666666666, 0.6041666666666666, 0.6041666666666666, 0.6041666666666666, 0.6041666666666666, 0.6041666666666666, 0.6041666666666666, 0.6041666666666666, 0.6041666666666666, 0.6041666666666666, 0.6041666666666666, 0.6041666666666666, 0.6041666666666666, 0.6041666666666666, 0.6041666666666666, 0.6041666666666666, 0.6041666666666666, 0.6041666666666666, 0.6041666666666666, 0.6041666666666666, 0.6041666666666666, 0.6041666666666666, 0.6041666666666666, 0.6041666666666666, 0.6041666666666666, 0.6041666666666666, 0.6041666666666666, 0.6041666666666666, 0.6041666666666666, 0.6041666666666666, 0.6041666666666666, 0.6041666666666666, 0.6041666666666666, 0.6041666666666666, 0.6041666666666666, 0.6041666666666666, 0.6041666666666666, 0.6041666666666666, 0.6041666666666666, 0.6041666666666666, 0.6041666666666666, 0.6041666666666666, 0.6041666666666666, 0.6041666666666666, 0.6041666666666666, 0.6041666666666666, 0.6041666666666666, 0.6041666666666666, 0.6041666666666666, 0.6041666666666666, 0.6041666666666666, 0.6041666666666666, 0.6041666666666666, 0.6041666666666666, 0.6041666666666666, 0.6041666666666666, 0.6041666666666666, 0.6041666666666666, 0.6041666666666666, 0.6041666666666666, 0.6041666666666666, 0.6041666666666666, 0.6041666666666666, 0.6041666666666666, 0.6041666666666666, 0.6041666666666666, 0.6041666666666666, 0.6041666666666666, 0.6041666666666666, 0.6041666666666666, 0.6041666666666666, 0.6041666666666666, 0.6041666666666666, 0.6041666666666666, 0.6041666666666666, 0.6041666666666666, 0.6041666666666666, 0.6041666666666666, 0.6041666666666666, 0.6041666666666666, 0.6041666666666666, 0.6041666666666666, 0.6041666666666666, 0.6041666666666666, 0.6041666666666666, 0.6041666666666666, 0.6041666666666666, 0.6041666666666666, 0.6041666666666666, 0.6041666666666666]\n[0.7083333333333334, 0.7083333333333334, 0.7083333333333334, 0.7083333333333334, 0.7083333333333334, 0.7083333333333334, 0.7083333333333334, 0.7083333333333334, 0.7083333333333334, 0.7083333333333334, 0.7083333333333334, 0.7083333333333334, 0.7604166666666666, 0.7604166666666666, 0.7604166666666666, 0.7604166666666666, 0.7604166666666666, 0.7604166666666666, 0.7604166666666666, 0.7604166666666666, 0.7604166666666666, 0.7604166666666666, 0.7604166666666666, 0.7604166666666666, 0.7604166666666666, 0.7604166666666666, 0.6979166666666666, 0.6979166666666666, 0.6979166666666666, 0.6979166666666666, 0.6979166666666666, 0.7916666666666666, 0.7916666666666666, 0.7916666666666666, 0.7916666666666666, 0.7916666666666666, 0.7916666666666666, 0.65625, 0.65625, 0.65625, 0.65625, 0.65625, 0.65625, 0.59375, 0.59375, 0.59375, 0.59375, 0.5416666666666666, 0.5416666666666666, 0.5416666666666666, 0.5416666666666666, 0.5416666666666666, 0.5416666666666666, 0.5416666666666666, 0.5416666666666666, 0.6770833333333334, 0.6770833333333334, 0.6770833333333334, 0.6770833333333334, 0.6770833333333334, 0.6770833333333334, 0.6770833333333334, 0.6770833333333334, 0.6770833333333334, 0.6770833333333334, 0.6770833333333334, 0.6770833333333334, 0.6770833333333334, 0.6770833333333334, 0.6770833333333334, 0.6770833333333334, 0.6770833333333334, 0.6354166666666666, 0.6354166666666666, 0.6354166666666666, 0.6354166666666666, 0.6354166666666666, 0.6354166666666666, 0.59375, 0.59375, 0.59375, 0.59375, 0.59375, 0.59375, 0.59375, 0.59375, 0.59375, 0.59375, 0.59375, 0.59375, 0.59375, 0.59375, 0.59375, 0.59375, 0.59375, 0.59375, 0.59375, 0.59375, 0.59375, 0.59375]\n[0.8125, 0.8125, 0.8125, 0.8125, 0.8125, 0.8125, 0.8125, 0.8125, 0.8125, 0.3645833333333333, 0.3645833333333333, 0.3645833333333333, 0.2708333333333333, 0.3645833333333333, 0.3645833333333333, 0.3645833333333333, 0.3645833333333333, 0.7291666666666666, 0.7291666666666666, 0.7291666666666666, 0.7291666666666666, 0.7291666666666666, 0.7291666666666666, 0.7291666666666666, 0.7291666666666666, 0.7291666666666666, 0.7291666666666666, 0.7291666666666666, 0.6354166666666666, 0.6354166666666666, 0.6354166666666666, 0.6354166666666666, 0.6354166666666666, 0.6354166666666666, 0.6354166666666666, 0.6354166666666666, 0.6354166666666666, 0.6354166666666666, 0.6354166666666666, 0.6354166666666666, 0.6354166666666666, 0.6354166666666666, 0.6354166666666666, 0.6354166666666666, 0.6354166666666666, 0.6354166666666666, 0.6354166666666666, 0.6354166666666666, 0.6354166666666666, 0.6354166666666666, 0.6354166666666666, 0.6354166666666666, 0.6979166666666666, 0.6979166666666666, 0.6979166666666666, 0.6979166666666666, 0.6979166666666666, 0.6979166666666666, 0.6979166666666666, 0.6979166666666666, 0.6979166666666666, 0.6979166666666666, 0.6979166666666666, 0.6979166666666666, 0.6979166666666666, 0.6979166666666666, 0.6979166666666666, 0.6979166666666666, 0.6979166666666666, 0.6979166666666666, 0.6979166666666666, 0.6979166666666666, 0.6979166666666666, 0.6979166666666666, 0.6979166666666666, 0.6979166666666666, 0.6979166666666666, 0.6979166666666666, 0.6979166666666666, 0.6979166666666666, 0.6979166666666666, 0.6979166666666666, 0.6979166666666666, 0.6979166666666666, 0.6979166666666666, 0.6979166666666666, 0.6979166666666666, 0.6979166666666666, 0.6979166666666666, 0.6979166666666666, 0.6979166666666666, 0.6979166666666666, 0.6979166666666666, 0.6979166666666666, 0.6979166666666666, 0.6979166666666666, 0.6979166666666666, 0.6979166666666666, 0.6979166666666666, 0.6979166666666666]\n[0.6979166666666666, 0.6979166666666666, 0.6979166666666666, 0.6979166666666666, 0.6979166666666666, 0.6979166666666666, 0.6979166666666666, 0.6979166666666666, 0.6979166666666666, 0.6979166666666666, 0.6979166666666666, 0.6979166666666666, 0.6979166666666666, 0.6979166666666666, 0.6979166666666666, 0.6979166666666666, 0.6979166666666666, 0.6979166666666666, 0.6979166666666666, 0.6979166666666666, 0.6979166666666666, 0.6979166666666666, 0.6979166666666666, 0.6979166666666666, 0.6979166666666666, 0.6979166666666666, 0.6979166666666666, 0.6979166666666666, 0.6979166666666666, 0.6979166666666666, 0.6979166666666666, 0.6979166666666666, 0.6979166666666666, 0.6979166666666666, 0.6979166666666666, 0.6979166666666666, 0.6979166666666666, 0.6979166666666666, 0.6979166666666666, 0.6979166666666666, 0.6979166666666666, 0.6979166666666666, 0.6979166666666666, 0.6979166666666666, 0.6979166666666666, 0.6979166666666666, 0.6979166666666666, 0.6979166666666666, 0.6979166666666666, 0.6979166666666666, 0.6979166666666666, 0.6979166666666666, 0.6979166666666666, 0.6979166666666666, 0.6979166666666666, 0.6979166666666666, 0.6979166666666666, 0.6979166666666666, 0.6979166666666666, 0.6979166666666666, 0.6979166666666666, 0.6979166666666666, 0.6979166666666666, 0.6979166666666666, 0.6979166666666666, 0.6979166666666666, 0.6979166666666666, 0.6979166666666666, 0.6979166666666666, 0.6979166666666666, 0.6979166666666666, 0.6979166666666666, 0.6979166666666666, 0.6979166666666666, 0.6979166666666666, 0.6979166666666666, 0.6979166666666666, 0.6979166666666666, 0.6979166666666666, 0.6979166666666666, 0.6979166666666666, 0.6979166666666666, 0.6979166666666666, 0.6979166666666666, 0.3541666666666667, 0.3541666666666667, 0.3541666666666667, 0.3541666666666667, 0.3541666666666667, 0.3541666666666667, 0.3541666666666667, 0.3541666666666667, 0.3541666666666667, 0.3541666666666667, 0.3541666666666667, 0.3541666666666667, 0.3541666666666667, 0.3541666666666667, 0.3541666666666667, 0.3541666666666667]\n[0.0, 0.8333333333333334]\n[0.6666666666666666, 0.7604166666666666, 0.7395833333333334]\nsupport vector classifier\n[0.8541666666666666, 0.8541666666666666]\n[0.8541666666666666, 0.8541666666666666]\n[0.8541666666666666, 0.8541666666666666, 0.8541666666666666, 0.8541666666666666]\n[0.8541666666666666, 0.8541666666666666]\n[0.8541666666666666, 0.8541666666666666]\n[0.8541666666666666, 0.8541666666666666, 0.8541666666666666, 0.8541666666666666, 0.8541666666666666, 0.8541666666666666, 0.8541666666666666, 0.8541666666666666, 0.8541666666666666, 0.8541666666666666, 0.8541666666666666, 0.8541666666666666, 0.8541666666666666, 0.8541666666666666, 0.8541666666666666, 0.8541666666666666, 0.8541666666666666, 0.8541666666666666, 0.8541666666666666, 0.8541666666666666, 0.8541666666666666, 0.8541666666666666, 0.8541666666666666, 0.8541666666666666, 0.8541666666666666, 0.8541666666666666, 0.8541666666666666, 0.8541666666666666, 0.8541666666666666, 0.8541666666666666, 0.8541666666666666, 0.8541666666666666, 0.8541666666666666, 0.8541666666666666, 0.8541666666666666, 0.8541666666666666, 0.8541666666666666, 0.8541666666666666, 0.8541666666666666, 0.8541666666666666, 0.8541666666666666, 0.8541666666666666, 0.8541666666666666, 0.8541666666666666, 0.8541666666666666, 0.8541666666666666, 0.8541666666666666, 0.8541666666666666, 0.8541666666666666, 0.8541666666666666, 0.8541666666666666, 0.8541666666666666, 0.8541666666666666, 0.8541666666666666, 0.8541666666666666, 0.8541666666666666, 0.8541666666666666, 0.8541666666666666, 0.8541666666666666, 0.8541666666666666, 0.8541666666666666, 0.8541666666666666, 0.8541666666666666, 0.8541666666666666, 0.8541666666666666, 0.8541666666666666, 0.8541666666666666, 0.8541666666666666, 0.8541666666666666, 0.8541666666666666, 0.8541666666666666, 0.8541666666666666, 0.8541666666666666, 0.8541666666666666, 0.8541666666666666, 0.8541666666666666, 0.8541666666666666, 0.8541666666666666, 0.8541666666666666, 0.8541666666666666, 0.8541666666666666, 0.8541666666666666, 0.8541666666666666, 0.8541666666666666, 0.8541666666666666, 0.8541666666666666, 0.8541666666666666, 0.8541666666666666, 0.8541666666666666, 0.8541666666666666, 0.8541666666666666, 0.8541666666666666, 0.8541666666666666, 0.8541666666666666, 0.8541666666666666, 0.8541666666666666, 0.8541666666666666, 0.8541666666666666, 0.8541666666666666, 0.8541666666666666]\n[0.8541666666666666, 0.8541666666666666, 0.8541666666666666, 0.8541666666666666, 0.8541666666666666, 0.8541666666666666, 0.8541666666666666, 0.8541666666666666, 0.8541666666666666, 0.8541666666666666, 0.8541666666666666, 0.8541666666666666, 0.8541666666666666, 0.8541666666666666, 0.8541666666666666, 0.8541666666666666, 0.8541666666666666, 0.8541666666666666, 0.8541666666666666, 0.8541666666666666, 0.8541666666666666, 0.8541666666666666, 0.8541666666666666, 0.8541666666666666, 0.8541666666666666, 0.8541666666666666, 0.8541666666666666, 0.8541666666666666, 0.8541666666666666, 0.8541666666666666, 0.8541666666666666, 0.8541666666666666, 0.8541666666666666, 0.8541666666666666, 0.8541666666666666, 0.8541666666666666, 0.8541666666666666, 0.8541666666666666, 0.8541666666666666, 0.8541666666666666, 0.8541666666666666, 0.8541666666666666, 0.8541666666666666, 0.8541666666666666, 0.8541666666666666, 0.8541666666666666, 0.8541666666666666, 0.8541666666666666, 0.8541666666666666, 0.8541666666666666, 0.8541666666666666, 0.8541666666666666, 0.8541666666666666, 0.8541666666666666, 0.8541666666666666, 0.8541666666666666, 0.8541666666666666, 0.8541666666666666, 0.8541666666666666, 0.8541666666666666, 0.8541666666666666, 0.8541666666666666, 0.8541666666666666, 0.8541666666666666, 0.8541666666666666, 0.8541666666666666, 0.8541666666666666, 0.8541666666666666, 0.8541666666666666, 0.8541666666666666, 0.8541666666666666, 0.8541666666666666, 0.8541666666666666, 0.8541666666666666, 0.8541666666666666, 0.8541666666666666, 0.8541666666666666, 0.8541666666666666, 0.8541666666666666, 0.8541666666666666, 0.8541666666666666, 0.8541666666666666, 0.8541666666666666, 0.8541666666666666, 0.8541666666666666, 0.8541666666666666, 0.8541666666666666, 0.8541666666666666, 0.8541666666666666, 0.8541666666666666, 0.8541666666666666, 0.8541666666666666, 0.8541666666666666, 0.8541666666666666, 0.8541666666666666, 0.8541666666666666, 0.8541666666666666, 0.8541666666666666, 0.8541666666666666, 0.8541666666666666]\n[0.8541666666666666, 0.8541666666666666, 0.8541666666666666, 0.8541666666666666, 0.8541666666666666, 0.8541666666666666, 0.8541666666666666, 0.8541666666666666, 0.8541666666666666, 0.8541666666666666, 0.8541666666666666, 0.8541666666666666, 0.8541666666666666, 0.8541666666666666, 0.8541666666666666, 0.8541666666666666, 0.8541666666666666, 0.8541666666666666, 0.8541666666666666, 0.8541666666666666, 0.8541666666666666, 0.8541666666666666, 0.8541666666666666, 0.8541666666666666, 0.8541666666666666, 0.8541666666666666, 0.8541666666666666, 0.8541666666666666, 0.8541666666666666, 0.8541666666666666, 0.8541666666666666, 0.8541666666666666, 0.8541666666666666, 0.8541666666666666, 0.8541666666666666, 0.8541666666666666, 0.8541666666666666, 0.8541666666666666, 0.8541666666666666, 0.8541666666666666, 0.8541666666666666, 0.8541666666666666, 0.8541666666666666, 0.8541666666666666, 0.8541666666666666, 0.8541666666666666, 0.8541666666666666, 0.8541666666666666, 0.8541666666666666, 0.8541666666666666, 0.8541666666666666, 0.8541666666666666, 0.8541666666666666, 0.8541666666666666, 0.8541666666666666, 0.8541666666666666, 0.8541666666666666, 0.8541666666666666, 0.8541666666666666, 0.8541666666666666, 0.8541666666666666, 0.8541666666666666, 0.8541666666666666, 0.8541666666666666, 0.8541666666666666, 0.8541666666666666, 0.8541666666666666, 0.8541666666666666, 0.8541666666666666, 0.8541666666666666, 0.8541666666666666, 0.8541666666666666, 0.8541666666666666, 0.8541666666666666, 0.8541666666666666, 0.8541666666666666, 0.8541666666666666, 0.8541666666666666, 0.8541666666666666, 0.8541666666666666, 0.8541666666666666, 0.8541666666666666, 0.8541666666666666, 0.8541666666666666, 0.8541666666666666, 0.8541666666666666, 0.8541666666666666, 0.8541666666666666, 0.8541666666666666, 0.8541666666666666, 0.8541666666666666, 0.8541666666666666, 0.8541666666666666, 0.8541666666666666, 0.8541666666666666, 0.8541666666666666, 0.8541666666666666, 0.8541666666666666, 0.8541666666666666, 0.8541666666666666]\n[0.8541666666666666, 0.8541666666666666, 0.8541666666666666, 0.8541666666666666, 0.8541666666666666, 0.8541666666666666, 0.8541666666666666, 0.8541666666666666, 0.8541666666666666, 0.8541666666666666, 0.8541666666666666, 0.8541666666666666, 0.8541666666666666, 0.8541666666666666, 0.8541666666666666, 0.8541666666666666, 0.8541666666666666, 0.8541666666666666, 0.8541666666666666, 0.8541666666666666, 0.8541666666666666, 0.8541666666666666, 0.8541666666666666, 0.8541666666666666, 0.8541666666666666, 0.8541666666666666, 0.8541666666666666, 0.8541666666666666, 0.8541666666666666, 0.8541666666666666, 0.8541666666666666, 0.8541666666666666, 0.8541666666666666, 0.8541666666666666, 0.8541666666666666, 0.8541666666666666, 0.8541666666666666, 0.8541666666666666, 0.8541666666666666, 0.8541666666666666, 0.8541666666666666, 0.8541666666666666, 0.8541666666666666, 0.8541666666666666, 0.8541666666666666, 0.8541666666666666, 0.8541666666666666, 0.8541666666666666, 0.8541666666666666, 0.8541666666666666, 0.8541666666666666, 0.8541666666666666, 0.8541666666666666, 0.8541666666666666, 0.8541666666666666, 0.8541666666666666, 0.8541666666666666, 0.8541666666666666, 0.8541666666666666, 0.8541666666666666, 0.8541666666666666, 0.8541666666666666, 0.8541666666666666, 0.8541666666666666, 0.8541666666666666, 0.8541666666666666, 0.8541666666666666, 0.8541666666666666, 0.8541666666666666, 0.8541666666666666, 0.8541666666666666, 0.8541666666666666, 0.8541666666666666, 0.8541666666666666, 0.8541666666666666, 0.8541666666666666, 0.8541666666666666, 0.8541666666666666, 0.8541666666666666, 0.8541666666666666, 0.8541666666666666, 0.8541666666666666, 0.8541666666666666, 0.8541666666666666, 0.8541666666666666, 0.8541666666666666, 0.8541666666666666, 0.8541666666666666, 0.8541666666666666, 0.8541666666666666, 0.8541666666666666, 0.8541666666666666, 0.8541666666666666, 0.8541666666666666, 0.8541666666666666, 0.8541666666666666, 0.8541666666666666, 0.8541666666666666, 0.8541666666666666, 0.8541666666666666]\n[0.0, 1.0]\n[0.8541666666666666, 0.8541666666666666, 0.8541666666666666]\nneural network\n[0.78125, 0.8333333333333334]\n[0.7708333333333334, 0.8541666666666666]\n[0.8333333333333334, 0.8229166666666666, 0.8229166666666666, 0.8020833333333334]\n[0.7916666666666666, 0.8229166666666666]\n[0.8229166666666666, 0.8333333333333334]\n[0.8333333333333334, 0.8333333333333334, 0.8333333333333334, 0.8333333333333334, 0.8333333333333334, 0.8333333333333334, 0.8333333333333334, 0.8333333333333334, 0.8333333333333334, 0.8333333333333334, 0.8333333333333334, 0.8333333333333334, 0.8333333333333334, 0.8333333333333334, 0.8333333333333334, 0.8333333333333334, 0.8333333333333334, 0.8333333333333334, 0.8333333333333334, 0.8333333333333334, 0.8333333333333334, 0.8333333333333334, 0.8333333333333334, 0.8333333333333334, 0.8333333333333334, 0.8333333333333334, 0.8333333333333334, 0.8333333333333334, 0.8333333333333334, 0.8333333333333334, 0.8333333333333334, 0.8229166666666666, 0.8229166666666666, 0.8229166666666666, 0.8229166666666666, 0.8229166666666666, 0.8229166666666666, 0.8229166666666666, 0.8229166666666666, 0.8125, 0.8020833333333334, 0.8020833333333334, 0.8020833333333334, 0.8020833333333334, 0.7916666666666666, 0.78125, 0.78125, 0.78125, 0.78125, 0.7916666666666666, 0.7916666666666666, 0.7916666666666666, 0.7916666666666666, 0.7916666666666666, 0.78125, 0.78125, 0.78125, 0.78125, 0.78125, 0.7708333333333334, 0.7708333333333334, 0.7708333333333334, 0.7604166666666666, 0.7604166666666666, 0.75, 0.75, 0.75, 0.75, 0.75, 0.75, 0.7291666666666666, 0.71875, 0.6979166666666666, 0.6979166666666666, 0.6979166666666666, 0.6875, 0.6875, 0.6875, 0.6770833333333334, 0.6770833333333334, 0.6770833333333334, 0.6770833333333334, 0.6770833333333334, 0.6770833333333334, 0.6770833333333334, 0.6666666666666666, 0.65625, 0.65625, 0.6458333333333334, 0.6354166666666666, 0.6145833333333334, 0.6041666666666666, 0.6041666666666666, 0.59375, 0.59375, 0.5833333333333334, 0.5729166666666666, 0.5520833333333334, 0.5520833333333334, 0.5520833333333334]\n[0.8229166666666666, 0.8229166666666666, 0.8229166666666666, 0.8229166666666666, 0.8229166666666666, 0.8229166666666666, 0.8229166666666666, 0.8229166666666666, 0.8229166666666666, 0.8229166666666666, 0.8229166666666666, 0.8229166666666666, 0.8229166666666666, 0.8229166666666666, 0.8229166666666666, 0.8229166666666666, 0.8229166666666666, 0.8229166666666666, 0.8333333333333334, 0.8333333333333334, 0.8333333333333334, 0.8333333333333334, 0.8333333333333334, 0.8333333333333334, 0.8333333333333334, 0.8333333333333334, 0.8333333333333334, 0.8333333333333334, 0.8333333333333334, 0.8333333333333334, 0.8333333333333334, 0.8333333333333334, 0.8333333333333334, 0.8333333333333334, 0.8333333333333334, 0.8333333333333334, 0.8333333333333334, 0.8333333333333334, 0.8333333333333334, 0.8333333333333334, 0.8333333333333334, 0.8333333333333334, 0.8333333333333334, 0.8333333333333334, 0.8333333333333334, 0.8333333333333334, 0.8333333333333334, 0.8333333333333334, 0.8333333333333334, 0.8333333333333334, 0.8333333333333334, 0.8333333333333334, 0.8333333333333334, 0.8333333333333334, 0.8333333333333334, 0.8333333333333334, 0.8333333333333334, 0.8333333333333334, 0.8333333333333334, 0.8333333333333334, 0.8333333333333334, 0.8333333333333334, 0.8333333333333334, 0.8333333333333334, 0.8229166666666666, 0.8229166666666666, 0.8229166666666666, 0.8229166666666666, 0.8229166666666666, 0.8229166666666666, 0.8229166666666666, 0.8229166666666666, 0.8229166666666666, 0.8229166666666666, 0.8229166666666666, 0.8229166666666666, 0.8229166666666666, 0.8229166666666666, 0.8229166666666666, 0.8229166666666666, 0.8229166666666666, 0.8229166666666666, 0.8229166666666666, 0.8229166666666666, 0.8229166666666666, 0.8229166666666666, 0.8229166666666666, 0.8229166666666666, 0.8229166666666666, 0.8229166666666666, 0.8229166666666666, 0.8229166666666666, 0.8229166666666666, 0.8229166666666666, 0.8229166666666666, 0.8229166666666666, 0.8125, 0.8125, 0.8125, 0.8125]\n[0.8541666666666666, 0.8541666666666666, 0.8541666666666666, 0.8541666666666666, 0.8541666666666666, 0.8541666666666666, 0.8541666666666666, 0.8541666666666666, 0.8541666666666666, 0.8541666666666666, 0.8541666666666666, 0.8541666666666666, 0.8541666666666666, 0.8541666666666666, 0.8541666666666666, 0.8541666666666666, 0.8541666666666666, 0.8541666666666666, 0.8541666666666666, 0.8541666666666666, 0.8541666666666666, 0.8541666666666666, 0.8541666666666666, 0.8541666666666666, 0.84375, 0.84375, 0.84375, 0.8333333333333334, 0.8333333333333334, 0.8333333333333334, 0.8333333333333334, 0.8333333333333334, 0.8333333333333334, 0.8333333333333334, 0.8333333333333334, 0.8333333333333334, 0.8333333333333334, 0.8229166666666666, 0.8229166666666666, 0.8229166666666666, 0.8229166666666666, 0.8229166666666666, 0.8125, 0.8125, 0.8125, 0.8125, 0.8125, 0.8125, 0.8125, 0.8125, 0.8125, 0.8020833333333334, 0.7916666666666666, 0.7916666666666666, 0.78125, 0.78125, 0.7708333333333334, 0.7708333333333334, 0.7708333333333334, 0.7604166666666666, 0.75, 0.75, 0.7395833333333334, 0.7291666666666666, 0.71875, 0.7083333333333334, 0.6875, 0.6770833333333334, 0.6770833333333334, 0.6770833333333334, 0.6770833333333334, 0.6666666666666666, 0.65625, 0.6354166666666666, 0.6354166666666666, 0.625, 0.625, 0.6145833333333334, 0.59375, 0.59375, 0.59375, 0.59375, 0.59375, 0.59375, 0.59375, 0.59375, 0.59375, 0.5833333333333334, 0.5833333333333334, 0.5833333333333334, 0.5833333333333334, 0.5833333333333334, 0.5833333333333334, 0.5833333333333334, 0.5833333333333334, 0.5833333333333334, 0.5833333333333334, 0.5833333333333334, 0.5833333333333334, 0.5833333333333334]\n[0.78125, 0.78125, 0.78125, 0.78125, 0.78125, 0.78125, 0.78125, 0.78125, 0.7916666666666666, 0.7916666666666666, 0.7916666666666666, 0.7916666666666666, 0.7916666666666666, 0.7916666666666666, 0.7916666666666666, 0.8020833333333334, 0.8020833333333334, 0.8020833333333334, 0.8020833333333334, 0.8020833333333334, 0.8020833333333334, 0.8020833333333334, 0.8020833333333334, 0.8020833333333334, 0.8020833333333334, 0.8020833333333334, 0.7916666666666666, 0.7916666666666666, 0.7916666666666666, 0.7916666666666666, 0.7916666666666666, 0.7916666666666666, 0.7916666666666666, 0.7916666666666666, 0.8020833333333334, 0.8020833333333334, 0.8125, 0.8125, 0.8125, 0.8229166666666666, 0.8229166666666666, 0.8229166666666666, 0.8333333333333334, 0.8333333333333334, 0.8333333333333334, 0.8333333333333334, 0.8333333333333334, 0.8333333333333334, 0.8333333333333334, 0.8333333333333334, 0.8333333333333334, 0.8333333333333334, 0.8333333333333334, 0.8333333333333334, 0.8333333333333334, 0.8333333333333334, 0.8333333333333334, 0.8333333333333334, 0.8333333333333334, 0.8333333333333334, 0.8333333333333334, 0.8333333333333334, 0.8333333333333334, 0.8333333333333334, 0.8229166666666666, 0.8229166666666666, 0.8229166666666666, 0.8229166666666666, 0.8229166666666666, 0.8229166666666666, 0.8229166666666666, 0.8229166666666666, 0.8229166666666666, 0.8229166666666666, 0.8229166666666666, 0.8229166666666666, 0.8229166666666666, 0.8229166666666666, 0.8229166666666666, 0.8229166666666666, 0.8229166666666666, 0.8229166666666666, 0.8229166666666666, 0.8229166666666666, 0.8229166666666666, 0.8229166666666666, 0.8229166666666666, 0.8229166666666666, 0.8229166666666666, 0.8229166666666666, 0.8229166666666666, 0.8229166666666666, 0.8229166666666666, 0.8229166666666666, 0.8229166666666666, 0.8229166666666666, 0.8229166666666666, 0.8229166666666666, 0.8229166666666666, 0.8229166666666666]\n[0.0, 0.96875]\n[0.7916666666666666, 0.8229166666666666, 0.8333333333333334]\n",
     "output_type": "stream",
     "data": {}
    }
   ]
  },
  {
   "cell_type": "code",
   "metadata": {
    "tags": [],
    "cell_id": "00022-f1ba3637-6e2a-458a-b61f-bd780ca6c6a3",
    "deepnote_to_be_reexecuted": false,
    "source_hash": "c5040870",
    "execution_start": 1640210797178,
    "execution_millis": 97,
    "deepnote_cell_type": "code"
   },
   "source": "for model_name, model in models.items():\n    print(model_name, model.predict(PDP_examples))",
   "execution_count": null,
   "outputs": [
    {
     "output_type": "error",
     "ename": "NameError",
     "evalue": "name 'PDP_examples' is not defined",
     "traceback": [
      "\u001b[0;31m---------------------------------------------------------------------------\u001b[0m",
      "\u001b[0;31mNameError\u001b[0m                                 Traceback (most recent call last)",
      "\u001b[0;32m<ipython-input-15-168185ef6093>\u001b[0m in \u001b[0;36m<module>\u001b[0;34m\u001b[0m\n\u001b[1;32m      1\u001b[0m \u001b[0;32mfor\u001b[0m \u001b[0mmodel_name\u001b[0m\u001b[0;34m,\u001b[0m \u001b[0mmodel\u001b[0m \u001b[0;32min\u001b[0m \u001b[0mmodels\u001b[0m\u001b[0;34m.\u001b[0m\u001b[0mitems\u001b[0m\u001b[0;34m(\u001b[0m\u001b[0;34m)\u001b[0m\u001b[0;34m:\u001b[0m\u001b[0;34m\u001b[0m\u001b[0;34m\u001b[0m\u001b[0m\n\u001b[0;32m----> 2\u001b[0;31m     \u001b[0mprint\u001b[0m\u001b[0;34m(\u001b[0m\u001b[0mmodel_name\u001b[0m\u001b[0;34m,\u001b[0m \u001b[0mmodel\u001b[0m\u001b[0;34m.\u001b[0m\u001b[0mpredict\u001b[0m\u001b[0;34m(\u001b[0m\u001b[0mPDP_examples\u001b[0m\u001b[0;34m)\u001b[0m\u001b[0;34m)\u001b[0m\u001b[0;34m\u001b[0m\u001b[0;34m\u001b[0m\u001b[0m\n\u001b[0m",
      "\u001b[0;31mNameError\u001b[0m: name 'PDP_examples' is not defined"
     ],
     "data": {}
    }
   ]
  },
  {
   "cell_type": "markdown",
   "source": "Smoother plots if we use probabilities",
   "metadata": {
    "tags": [],
    "cell_id": "00033-d1421828-a5a1-4c57-998d-2b23c8d04135",
    "id": "ylcvvQ-9ho_K",
    "deepnote_cell_type": "markdown"
   }
  },
  {
   "cell_type": "markdown",
   "source": "# SHAP",
   "metadata": {
    "id": "UHNDUCNHk19n",
    "cell_id": "00018-37416c20-dc30-413f-90a2-d5dc52d8430c",
    "deepnote_cell_type": "markdown"
   }
  },
  {
   "cell_type": "markdown",
   "source": "## Instance-based interpretability",
   "metadata": {
    "id": "WGonOXHLl_7I",
    "cell_id": "00019-7e370659-9a8f-47d6-9f50-70fb42db154d",
    "deepnote_cell_type": "markdown"
   }
  },
  {
   "cell_type": "code",
   "metadata": {
    "id": "QHcABitrquLN",
    "outputId": "98c2044c-15c6-426c-8a85-797b9cbef7b6",
    "colab": {
     "base_uri": "https://localhost:8080/"
    },
    "cell_id": "00020-f1b40388-4e1a-4ea2-8e7a-6f9beaa78e48",
    "deepnote_to_be_reexecuted": true,
    "source_hash": "5e30c7c3",
    "execution_start": 1639641867214,
    "execution_millis": 9033,
    "output_cleared": false,
    "deepnote_cell_type": "code"
   },
   "source": "explainers = dict()\n\nfor model_name in models.keys():\n  model = models[model_name]\n\n  if model_name == \"neural network\":\n    def nn_predict(X):\n      y_pred = model.predict(X)\n      y_pred = np.reshape(y_pred, X.shape[0])\n      return classify(np.array(y_pred))\n\n    explainers[model_name] = shap.KernelExplainer(nn_predict, shap.kmeans(X_train, 250)) # shap.sample(X_train, 200))\n  else:\n    explainers[model_name] = shap.KernelExplainer(model.predict, shap.kmeans(X_train, 250)) # shap.sample(X_train, 200))",
   "execution_count": null,
   "outputs": [
    {
     "name": "stderr",
     "text": "Using 250 background data samples could cause slower run times. Consider using shap.sample(data, K) or shap.kmeans(data, K) to summarize the background as K samples.\nUsing 250 background data samples could cause slower run times. Consider using shap.sample(data, K) or shap.kmeans(data, K) to summarize the background as K samples.\nUsing 250 background data samples could cause slower run times. Consider using shap.sample(data, K) or shap.kmeans(data, K) to summarize the background as K samples.\nUsing 250 background data samples could cause slower run times. Consider using shap.sample(data, K) or shap.kmeans(data, K) to summarize the background as K samples.\n",
     "output_type": "stream",
     "data": {}
    }
   ]
  },
  {
   "cell_type": "code",
   "metadata": {
    "id": "r8qKLZ2CXNRj",
    "colab": {
     "base_uri": "https://localhost:8080/",
     "height": 213
    },
    "outputId": "ae6e16eb-c165-4fbe-c4e1-45698c569364",
    "cell_id": "00021-01398e41-38a1-4425-afec-cdb6705678ee",
    "deepnote_output_heights": [
     24,
     117.125
    ],
    "deepnote_to_be_reexecuted": true,
    "source_hash": "65326d4",
    "execution_start": 1639641876260,
    "execution_millis": 42942,
    "output_cleared": true,
    "deepnote_cell_type": "code"
   },
   "source": "idx = 4\nshap_instance_times = dict()\n\nfor model_name in models.keys():\n    X_test_df = pd.DataFrame(X_test, columns=feature_names)\n\n    start = time.time()\n    explainer = explainers[model_name]\n    shap_instance = explainer.shap_values(X_test_df.iloc[idx])\n    end = time.time()\n\n    shap_instance_times[model_name] = (end - start)\n\n    # PLOT SHAP VALUES IN NORMAL WAY\n    shap_instance = pd.DataFrame(shap_instance, index=feature_names)\n    shap_instance.plot.bar(legend=None)\n    plt.tight_layout()\n    plt.savefig(f\"Figures/loan/SHAP_instance_loan_{model_name}_{idx}.png\", dpi=300)\n    plt.close()\n\n    # shap.initjs()\n    # shap.force_plot(explainer.expected_value, shap_instance, X_test_df.iloc[idx])",
   "execution_count": null,
   "outputs": []
  },
  {
   "cell_type": "code",
   "metadata": {
    "tags": [],
    "cell_id": "00023-6c83bb9b-b67b-4136-8098-52803305b817",
    "deepnote_to_be_reexecuted": true,
    "source_hash": "ebbc9dc",
    "execution_start": 1639641919207,
    "execution_millis": 31,
    "deepnote_cell_type": "code"
   },
   "source": "for model_name, model_time in shap_instance_times.items():\n    print(f\"Model {model_name} took {model_time} seconds to explain an instance using SHAP\")",
   "execution_count": null,
   "outputs": [
    {
     "name": "stdout",
     "text": "Model k-nearest neighbors took 21.39141273498535 seconds to explain an instance using SHAP\nModel decision tree classifier took 1.7393653392791748 seconds to explain an instance using SHAP\nModel support vector classifier took 4.046915292739868 seconds to explain an instance using SHAP\nModel neural network took 12.510249853134155 seconds to explain an instance using SHAP\n",
     "output_type": "stream",
     "data": {}
    }
   ]
  },
  {
   "cell_type": "markdown",
   "source": "## Global interpretation",
   "metadata": {
    "tags": [],
    "is_collapsed": false,
    "cell_id": "00022-012951a2-7afe-4c5e-9f18-d5f55b646355",
    "deepnote_cell_type": "text-cell-h2"
   }
  },
  {
   "cell_type": "markdown",
   "source": "    shap_global_times = dict()\n    # X_test_df = pd.DataFrame(X_test, columns=feature_names)\n\n    for model_name in models.keys():\n        start = time.time()\n        print(model_name)\n        explainer = explainers[model_name]\n\n        shap_values = explainer.shap_values(shap.sample(X_test, 50, random_state=seed))\n        np.savetxt(f\"Output/loan/shap_values_loan_{model_name}.txt\", shap_values)\n        end = time.time()\n\n        shap_global_times[model_name] = (end - start)",
   "metadata": {
    "id": "-2uX27sSgrvI",
    "outputId": "13b22b5d-2a4c-4621-bb91-567e4563e748",
    "colab": {
     "base_uri": "https://localhost:8080/",
     "height": 215,
     "referenced_widgets": [
      "976f13862126459e8de36df116ceee92",
      "72800f55e1c5406c9eedadeebb56b073",
      "f8f55cfa9c34466a8554d813706b7036",
      "8fea85f763cc449c93a12e61059140ca",
      "0c3e803b3cc043d98fcdb95b3abc1090",
      "11dc79cfd8c345e68414cdfb06b0dd03",
      "14dffc505ada4f1394f039d9d600f4af",
      "36565ff5caaf48089942de85ec7df055",
      "4f3e3b7629e34bde97f8ea41464a0e03",
      "062ff5eb8da84c918ac7473fca6d92fe",
      "45de92e0323f46ba87b99170afaf2da0",
      "141866bbd38f461586efaa0f54013c9c",
      "ec41a6e2f52f4fe4bd6a6b5aab452895",
      "77e22b6a7b3b4709a142d60496646dd3",
      "82392fa4357f4dfab0fa069766f7136e",
      "41cba768907047ecbd5d58c88a7ade35",
      "b70a4f7d3f164be0b9b81789baa1ed76",
      "11fd7d10b869494c977eeff998a05c6d",
      "66830714c7c043f38e896e8dc30b2922",
      "e6b09548282748d4a254c426953948d3",
      "ae5c45d87bcb4c5aaa030d22538c024d",
      "261038562a704cc39102d095eb56432e",
      "43f012312b344061a55dd7919d4f0372",
      "4c0415f737004806a67ae8bdf8455881",
      "2dd6f9f81e1449c8a8a2c9accb1e2bd0",
      "d0a179bee5914cab9416a01705caa53e",
      "1b43d58473a945d2aa2456891c1ba589",
      "c98894195fd74b6f9874f9e4e3db32bf",
      "741523278bf04675b8304a6d45eee98a",
      "6f838487aee74b43b5d502d456b56ddc",
      "2b5c5b0c493b4e27a46c7230231a35d5",
      "a78d78730f364db29642401ca47e30d0",
      "532db55f4845496eb15aec36c9e6a1cd",
      "c8233598e2b942619a816d53a97c733d",
      "9a4e44d4c12f43c4af571cddd40ee3c2",
      "a55476e38bf54c8b900dd7773f2b21ca",
      "5262debbd3994f7ea2891a226a1499dd",
      "11321901ecf64a34b12aca71738290bc",
      "10ac7493e4994d44bd5f3304c9fec520",
      "f3cd56bba7ee4ba6831014749af1ec8b",
      "548ff72f89f74a789ee2b66221bf89d5",
      "5ddf2e9948d840ca9446c7d3e2fee074",
      "70220eae36eb41f8b576ae7c55569c93",
      "4a68a68563c74320ab4929eb156d2caa",
      "59ac4fece88a4cfeb6bf214c211ad600",
      "39d0c99635fe4e898e8f283915925fc6",
      "0f7046162cd34c728716af238502b0f1",
      "7fffd5a859d54466b9476a15f0742b59"
     ]
    },
    "cell_id": "00023-9f2f5c82-a910-4267-b679-72505a251459",
    "deepnote_to_be_reexecuted": false,
    "source_hash": "30b9f3f5",
    "execution_start": 1639413662774,
    "execution_millis": 3914114,
    "deepnote_output_heights": [
     null,
     null,
     607
    ],
    "output_cleared": false,
    "deepnote_cell_type": "markdown"
   }
  },
  {
   "cell_type": "markdown",
   "source": "    for name, model_time in shap_global_times.items():\n        print(f\"Model {name} took {model_time} seconds to explain using SHAP\")",
   "metadata": {
    "tags": [],
    "cell_id": "00024-9b36b62c-7c20-4fe4-9f8b-25c898b04b20",
    "deepnote_to_be_reexecuted": false,
    "source_hash": "e50076f0",
    "execution_start": 1639417576897,
    "execution_millis": 14,
    "output_cleared": false,
    "deepnote_cell_type": "markdown"
   }
  },
  {
   "cell_type": "code",
   "metadata": {
    "tags": [],
    "cell_id": "00025-eac5a50b-1a78-4b9e-838d-8a3bf1e38550",
    "output_cleared": false,
    "deepnote_to_be_reexecuted": true,
    "source_hash": "987763ca",
    "execution_start": 1639917134279,
    "execution_millis": 39,
    "deepnote_cell_type": "code"
   },
   "source": "shap_values_all = dict()\n\nfor model_name in models.keys():\n    shap_values_all[model_name] = np.loadtxt(f\"Output/loan/shap_values_loan_{model_name}.txt\")",
   "execution_count": null,
   "outputs": []
  },
  {
   "cell_type": "code",
   "metadata": {
    "id": "vxAdPExEnB-A",
    "cell_id": "00025-5e733fe0-5779-4e8b-b666-f6b05441fcf8",
    "deepnote_to_be_reexecuted": true,
    "source_hash": "4952ec8f",
    "execution_start": 1639917134325,
    "execution_millis": 16,
    "output_cleared": true,
    "deepnote_cell_type": "code"
   },
   "source": "shap_feat_imps = pd.DataFrame(index=feature_names)\n\nfor model_name in models.keys():\n  shap_values = shap_values_all[model_name]\n  feat_imps = np.mean(np.abs(shap_values), axis=0)\n  feat_imps /= np.sum(feat_imps)\n  shap_feat_imps.insert(0, model_name, feat_imps)",
   "execution_count": null,
   "outputs": []
  },
  {
   "cell_type": "code",
   "metadata": {
    "id": "kgGqR7zToZi0",
    "colab": {
     "base_uri": "https://localhost:8080/",
     "height": 352
    },
    "outputId": "3096bd9b-80ae-45af-cada-6ae9b2ba8d64",
    "cell_id": "00026-82f370cf-436b-4e46-a70f-d6c7c13f65f3",
    "deepnote_output_heights": [
     337
    ],
    "deepnote_to_be_reexecuted": true,
    "source_hash": "f7a8adb1",
    "execution_start": 1639917134346,
    "execution_millis": 1739,
    "output_cleared": true,
    "deepnote_cell_type": "code"
   },
   "source": "shap_feat_imps.plot.bar()\nplt.ylabel(\"SHAP feature importance\")\nplt.tight_layout()\nplt.savefig(\"Figures/loan/SHAP_feature_importance_loan.png\", dpi=300)\nplt.close()",
   "execution_count": null,
   "outputs": []
  },
  {
   "cell_type": "markdown",
   "source": "# Counterfactuals",
   "metadata": {
    "tags": [],
    "is_collapsed": false,
    "cell_id": "00032-ebfc4e09-d854-481c-9c9c-281aa67d4daa",
    "deepnote_cell_type": "text-cell-h1"
   }
  },
  {
   "cell_type": "code",
   "metadata": {
    "tags": [],
    "cell_id": "00042-e37e655f-13ea-46ee-b7fc-b5ff3f7be00c",
    "deepnote_to_be_reexecuted": true,
    "source_hash": "e36816f5",
    "execution_start": 1639580696140,
    "execution_millis": 9,
    "deepnote_cell_type": "code"
   },
   "source": "model_name = \"decision tree classifier\"\nmodel = models[model_name]\nprint(model.predict(X_test))",
   "execution_count": null,
   "outputs": [
    {
     "name": "stdout",
     "text": "[1. 1. 1. 1. 0. 0. 0. 1. 1. 1. 1. 1. 1. 1. 0. 1. 1. 1. 0. 1. 1. 1. 1. 1.\n 1. 0. 1. 1. 0. 1. 1. 1. 0. 0. 1. 1. 1. 0. 0. 0. 1. 0. 1. 1. 1. 0. 0. 1.\n 1. 1. 1. 1. 1. 1. 1. 1. 1. 0. 1. 1. 0. 1. 0. 1. 1. 1. 1. 1. 1. 1. 1. 1.\n 0. 1. 0. 0. 1. 1. 1. 1. 0. 0. 0. 1. 1. 0. 1. 0. 0. 1. 0. 1. 0. 1. 1. 1.]\n",
     "output_type": "stream",
     "data": {}
    }
   ]
  },
  {
   "cell_type": "code",
   "metadata": {
    "tags": [],
    "cell_id": "00043-84cf3267-f706-4bbb-8c29-d424f00f6fc3",
    "deepnote_to_be_reexecuted": true,
    "source_hash": "494017bf",
    "execution_start": 1639581051233,
    "execution_millis": 10,
    "deepnote_cell_type": "code"
   },
   "source": "print(len(X_test))",
   "execution_count": null,
   "outputs": [
    {
     "name": "stdout",
     "text": "96\n",
     "output_type": "stream",
     "data": {}
    }
   ]
  },
  {
   "cell_type": "code",
   "metadata": {
    "tags": [],
    "cell_id": "00035-10af5392-7d21-41c9-ae97-12304e78cdb9",
    "deepnote_to_be_reexecuted": true,
    "source_hash": "eb73b0cf",
    "execution_start": 1639641919246,
    "execution_millis": 93138,
    "deepnote_output_heights": [
     null,
     611
    ],
    "output_cleared": false,
    "deepnote_cell_type": "code"
   },
   "source": "instance_idx = 92\ncounterfactual_times = dict()\n\ntotal_time = 500\n\nfor model_name in models.keys():\n    instance = X_test[instance_idx]\n    model = models[model_name]\n\n    start = time.time()\n    counterfactuals, counterfactual_losses = generate_counterfactuals(\"classification\", instance, X_train, model, categorical, seed, total_time=total_time)\n    end = time.time()\n\n    counterfactual_times[model_name] = (end - start)\n\n    np.savetxt(f\"Output/loan/counterfactuals_loan_{model_name}_instance{instance_idx}.txt\", counterfactuals)\n    np.savetxt(f\"Output/loan/counterfactual_losses_loan_{model_name}_instance{instance_idx}.txt\", counterfactual_losses)",
   "execution_count": null,
   "outputs": [
    {
     "name": "stdout",
     "text": "Original prediction: 1\n100%|██████████| 500/500 [00:03<00:00, 126.13it/s]\nCounterfactual_losses: [3.22301208 3.54448806 3.80960617 3.9903475  4.01280051 4.12734369\n 4.48784165 4.56073132 4.60985445 4.81334003]\nOriginal prediction: 0\n100%|██████████| 500/500 [00:00<00:00, 814.31it/s]\nCounterfactual_losses: [0.42666079 0.69884101 0.90983429 1.29399328 1.29815267 1.34503792\n 2.00953593 2.29038528 2.33028378 2.50985753]\nOriginal prediction: 1\n100%|██████████| 500/500 [00:02<00:00, 216.88it/s]\nCounterfactual_losses: [2.83335041 2.8459747  3.78122369 3.80960617 4.12734369 4.90787474\n 5.21609806 5.36868054 5.50941082 5.73255787]\nOriginal prediction: 1\n100%|██████████| 500/500 [01:25<00:00,  5.82it/s]\nCounterfactual_losses: [2.83335041 3.0265135  3.19362863 3.80960617 3.92303279 4.17600609\n 4.60985445 4.77126099 4.90787474 5.00990439]\n",
     "output_type": "stream",
     "data": {}
    }
   ]
  },
  {
   "cell_type": "code",
   "metadata": {
    "tags": [],
    "cell_id": "00044-381ba51c-cd88-4d6b-aa18-9099891fc810",
    "deepnote_to_be_reexecuted": true,
    "source_hash": "80175182",
    "execution_start": 1639581065359,
    "execution_millis": 30,
    "deepnote_output_heights": [
     577.9375
    ],
    "deepnote_cell_type": "code"
   },
   "source": "instance_inv = (scaler.inverse_transform(instance.reshape(1, -1))).reshape(11)\n\ninstance_transl = list()\n\nfor i, feature_name in enumerate(feature_names):\n    if feature_name in inv_dicts.keys():\n        instance_transl.append(inv_dicts[feature_name][round(instance_inv[i], 2)])\n    else:\n        instance_transl.append(instance_inv[i])\n\nprint(\"----- ORIGINAL INSTANCE ------\")\nprint(instance_transl)\n\ncounterfactuals_inv = scaler.inverse_transform(counterfactuals)\ncounterfactuals_transl = list()\n\nfor counterfactual in counterfactuals_inv:\n    counterfactual_transl = list()\n    for i, feature_name in enumerate(feature_names):\n        if feature_name in inv_dicts.keys():\n            counterfactual_transl.append(inv_dicts[feature_name][round(counterfactual[i], 2)])\n        else:\n            counterfactual_transl.append(counterfactual[i])\n    counterfactuals_transl.append(counterfactual_transl)\n\nprint(\"----- COUNTERFACTUALS -----\")\nfor counterfactual in counterfactuals_transl:\n    print(counterfactual)",
   "execution_count": null,
   "outputs": [
    {
     "name": "stdout",
     "text": "----- ORIGINAL INSTANCE ------\n['Male', 'Yes', '3+', 'Not Graduate', 'Yes', 5703.0, -2.2737367544323206e-13, 130.0, 360.0, 1.0, 'Rural']\n----- COUNTERFACTUALS -----\n['Male', 'Yes', '3+', 'Not Graduate', 'Yes', 3875.5791802887084, -2.2737367544323206e-13, 130.0, 360.0, 1.0, 'Rural']\n['Male', 'Yes', '3+', 'Not Graduate', 'Yes', 5703.0, 1848.554064617396, 130.0, 360.0, 1.0, 'Rural']\n['Male', 'Yes', '3+', 'Not Graduate', 'Yes', 5703.0, -2.2737367544323206e-13, 58.23530776703082, 360.0, 1.0, 'Rural']\n['Male', 'Yes', '3+', 'Not Graduate', 'Yes', 5703.0, -2.2737367544323206e-13, 130.0, 360.0, 1.0, 'Semiurban']\n['Male', 'Yes', '3+', 'Not Graduate', 'Yes', 5703.0, -2.2737367544323206e-13, 130.0, 360.2709697914039, 1.0, 'Semiurban']\n['Male', 'Yes', '3+', 'Not Graduate', 'Yes', 5703.0, -2.2737367544323206e-13, 131.6382226856526, 360.0, 1.0, 'Semiurban']\n['Male', 'Yes', '3+', 'Not Graduate', 'Yes', 5900.2647599883985, -2.2737367544323206e-13, 130.0, 360.0, 1.0, 'Semiurban']\n['Male', 'Yes', '3+', 'Not Graduate', 'Yes', 5703.0, -2.2737367544323206e-13, 124.64952887852445, 357.46992205520206, 1.0, 'Semiurban']\n['Male', 'Yes', '3+', 'Not Graduate', 'Yes', 5703.0, -2.2737367544323206e-13, 19.243536360941135, 355.33845557255165, 1.0, 'Rural']\n['Male', 'Yes', '3+', 'Not Graduate', 'Yes', 6905.508822079616, -2.2737367544323206e-13, 25.250449665357408, 360.0, 1.0, 'Rural']\n['Male', 'Yes', '3+', 'Not Graduate', 'Yes', 5703.0, 3106.3179375970976, 130.0, 330.3670952887841, 1.0, 'Rural']\n['Male', 'Yes', '2', 'Not Graduate', 'Yes', 2300.7007385052384, -2.2737367544323206e-13, 130.0, 360.0, 1.0, 'Rural']\n['Male', 'Yes', '3+', 'Not Graduate', 'Yes', 5703.0, 178.48554725620784, 264.1300481442164, 360.0, 1.0, 'Rural']\n['Male', 'Yes', '3+', 'Not Graduate', 'Yes', 5703.0, 2241.5793451244663, 130.0, 360.0, 1.0, 'Semiurban']\n['Male', 'Yes', '2', 'Not Graduate', 'Yes', 5703.0, 3251.8696821979393, 130.0, 360.0, 1.0, 'Rural']\n['Male', 'Yes', '2', 'Not Graduate', 'Yes', 5703.0, -2.2737367544323206e-13, 130.0, 360.0, 1.0, 'Semiurban']\n['Male', 'Yes', '2', 'Not Graduate', 'Yes', 5703.0, -2.2737367544323206e-13, 22.623641366785847, 360.0, 1.0, 'Rural']\n['Male', 'Yes', '3+', 'Not Graduate', 'Yes', 7897.652253130907, 108.64292765352343, 285.7751363615371, 360.0, 1.0, 'Rural']\n['Male', 'Yes', '2', 'Not Graduate', 'Yes', 6839.252578338859, -2.2737367544323206e-13, 34.25593492024149, 360.0, 1.0, 'Rural']\n['Male', 'No', '3+', 'Not Graduate', 'Yes', 4016.936304528258, -2.2737367544323206e-13, 130.0, 360.0, 1.0, 'Rural']\n",
     "output_type": "stream",
     "data": {}
    }
   ]
  },
  {
   "cell_type": "code",
   "metadata": {
    "tags": [],
    "cell_id": "00046-1b3bbe0a-dc52-42ab-80f2-340d3b741a7d",
    "deepnote_to_be_reexecuted": true,
    "source_hash": "abcccb13",
    "execution_start": 1639581220632,
    "execution_millis": 14,
    "deepnote_cell_type": "code"
   },
   "source": "print(counterfactual_losses)",
   "execution_count": null,
   "outputs": [
    {
     "name": "stdout",
     "text": "[0.31181245 0.65307852 0.86496687 1.29399328 1.29815267 1.31373848\n 1.32765253 1.39731831 1.40648248 1.46771125 1.55230177 1.55678941\n 1.67970267 2.08592431 2.12511382 2.27024904 2.27044361 2.29038528\n 2.32412023 2.36221704]\n",
     "output_type": "stream",
     "data": {}
    }
   ]
  },
  {
   "cell_type": "code",
   "metadata": {
    "tags": [],
    "cell_id": "00045-2693c78c-5501-4ddb-8f74-f85938e3b7b9",
    "deepnote_to_be_reexecuted": true,
    "source_hash": "f6a916f6",
    "execution_start": 1639581322777,
    "execution_millis": 4,
    "deepnote_cell_type": "code"
   },
   "source": "print(model.predict(counterfactuals))",
   "execution_count": null,
   "outputs": [
    {
     "name": "stdout",
     "text": "[1. 1. 1. 1. 1. 1. 1. 1. 1. 1. 1. 1. 1. 1. 1. 1. 1. 1. 1. 1.]\n",
     "output_type": "stream",
     "data": {}
    }
   ]
  },
  {
   "cell_type": "code",
   "metadata": {
    "tags": [],
    "cell_id": "00036-898bacb4-c48b-4770-b22d-ae5adc92e032",
    "deepnote_to_be_reexecuted": true,
    "source_hash": "e4885a32",
    "execution_start": 1639642012388,
    "execution_millis": 11,
    "deepnote_cell_type": "code"
   },
   "source": "for model_name, model_time in counterfactual_times.items():\n    print(f\"Model {model_name} took {model_time} seconds to generate counterfactuals\")",
   "execution_count": null,
   "outputs": [
    {
     "name": "stdout",
     "text": "Model k-nearest neighbors took 3.974433660507202 seconds to generate counterfactuals\nModel decision tree classifier took 0.6183183193206787 seconds to generate counterfactuals\nModel support vector classifier took 2.3166310787200928 seconds to generate counterfactuals\nModel neural network took 85.98889493942261 seconds to generate counterfactuals\n",
     "output_type": "stream",
     "data": {}
    }
   ]
  },
  {
   "cell_type": "code",
   "metadata": {
    "tags": [],
    "cell_id": "00039-f1f0d92d-5f85-4790-83f9-74b85d652eda",
    "deepnote_to_be_reexecuted": true,
    "source_hash": "22a77fb2",
    "execution_start": 1639580681669,
    "execution_millis": 505,
    "deepnote_cell_type": "code"
   },
   "source": "model_name = \"decision tree classifier\"\n\ncounterfactuals = np.loadtxt(f\"Output/loan/counterfactuals_loan_{model_name}_instance{instance_idx}.txt\")\ncounterfactual_losses = np.loadtxt(f\"Output/loan/counterfactual_losses_loan_{model_name}_instance{instance_idx}.txt\")\ninstance = X_test[instance_idx]\nprint(models[model_name].predict(counterfactuals))\nprint(models[model_name].predict(X_test[:instance_idx+1]))",
   "execution_count": null,
   "outputs": [
    {
     "name": "stdout",
     "text": "[1. 1. 1. 1. 1. 1. 1. 1. 1. 1.]\n[1. 1. 1. 1. 0.]\n",
     "output_type": "stream",
     "data": {}
    }
   ]
  },
  {
   "cell_type": "markdown",
   "source": "# Anchors",
   "metadata": {
    "tags": [],
    "is_collapsed": false,
    "cell_id": "00034-443af22b-d476-4168-a2ba-da6df0b20bb6",
    "deepnote_cell_type": "text-cell-h1"
   }
  },
  {
   "cell_type": "code",
   "metadata": {
    "tags": [],
    "cell_id": "00037-cdda3cfa-6194-4e71-a0b4-a7454335e1b6",
    "deepnote_to_be_reexecuted": true,
    "source_hash": "64ad3862",
    "execution_start": 1639642012402,
    "execution_millis": 2066,
    "deepnote_output_heights": [
     193.875,
     462.5
    ],
    "output_cleared": false,
    "deepnote_cell_type": "code"
   },
   "source": "cat_dict = {0: [\"Female\", \"Male\"], 1: ['Not Married', \"Married\"], 2: [\"0\",\"1\",\"2\",\"3+\"], 3: [\"Not Graduate\",\"Graduate\"], 4: [\"Not self employed\",\"Self employed\"]}\nclass_names = ['Loan Denied', 'Loan Accepted']\nanch_exp = anchor_tabular.AnchorTabularExplainer(\n    class_names,\n    [ 'Gender', 'Married', 'Dependents', 'Education',\n       'Self_Employed', 'ApplicantIncome', 'CoapplicantIncome', 'LoanAmount',\n       'Loan_Amount_Term', 'Credit_History', 'Property_Area'],\n    X_train,\n    cat_dict\n)\n### Anchors do some weird things here depending on the numbers... idx = 27 works great as an example\nidx = 27\n\ntmp = X_test[idx].reshape(1, -1)\n\nnp.random.seed(seed)\n\nanchor_times = dict()\n\nfor name in models.keys():\n    print(f\"Anchor based on {name} gives: \")\n    t =  anch_exp.class_names[int(\n        models[name].predict(tmp))]\n\n    start = time.time()\n\n    if name == \"neural network\":\n        def nn_predict(X):\n            y_pred = models[\"neural network\"].predict(X)\n            y_pred = np.reshape(y_pred, X.shape[0])\n            return classify(np.array(y_pred))\n\n        expl = anch_exp.explain_instance(\n            X_test[idx],\n            nn_predict, threshold=0.6) # Change threshold a bit for more interesting anchors\n\n    else:\n        expl = anch_exp.explain_instance(\n            X_test[idx],\n            models[name].predict) # Change threshold a bit for more interesting anchors\n\n    end = time.time()\n\n    anchor_times[name] = (end - start)\n\n    print('Anchor: %s' % (' AND '.join(expl.names())))\n    print('Precision: %.2f' % expl.precision())\n    print('Coverage: %.2f' % expl.coverage())\n",
   "execution_count": null,
   "outputs": [
    {
     "name": "stdout",
     "text": "Anchor based on k-nearest neighbors gives: \nAnchor: Loan_Amount_Term <= 0.26 AND CoapplicantIncome <= -0.21 AND Property_Area > -0.05 AND Education = Not Graduate AND Dependents = 0 AND Gender = Female\nPrecision: 0.97\nCoverage: 0.06\nAnchor based on decision tree classifier gives: \nAnchor: CoapplicantIncome <= -0.58 AND Education = Not Graduate AND Gender = Female AND Loan_Amount_Term <= 0.26 AND -1.35 < Property_Area <= 1.24 AND Self_Employed = Not self employed AND Credit_History <= 0.41\nPrecision: 0.78\nCoverage: 0.17\nAnchor based on support vector classifier gives: \nAnchor: Loan_Amount_Term <= 0.26 AND Education = Not Graduate AND Credit_History <= 0.41 AND Property_Area > -1.35 AND Gender = Female AND LoanAmount <= 0.31 AND CoapplicantIncome <= -0.21\nPrecision: 0.98\nCoverage: 0.16\nAnchor based on neural network gives: \nAnchor: \nPrecision: 0.83\nCoverage: 1.00\n",
     "output_type": "stream",
     "data": {}
    }
   ]
  },
  {
   "cell_type": "code",
   "metadata": {
    "tags": [],
    "cell_id": "00043-a0ded645-540d-4508-8bc9-fee9eeb6add7",
    "deepnote_to_be_reexecuted": true,
    "source_hash": "ae9d8f2d",
    "execution_start": 1639642014474,
    "execution_millis": 2,
    "deepnote_cell_type": "code"
   },
   "source": "for model_name, model_time in anchor_times.items():\n    print(f\"Model {model_name} took {model_time} seconds to generate anchor rules\")",
   "execution_count": null,
   "outputs": [
    {
     "name": "stdout",
     "text": "Model k-nearest neighbors took 0.8756978511810303 seconds to generate anchor rules\nModel decision tree classifier took 0.6131925582885742 seconds to generate anchor rules\nModel support vector classifier took 0.43254590034484863 seconds to generate anchor rules\nModel neural network took 0.11177420616149902 seconds to generate anchor rules\n",
     "output_type": "stream",
     "data": {}
    }
   ]
  },
  {
   "cell_type": "markdown",
   "source": "# LIME",
   "metadata": {
    "tags": [],
    "is_collapsed": false,
    "cell_id": "00055-2f49724b-88da-4920-808a-0063cff74fd6",
    "deepnote_cell_type": "text-cell-h1"
   }
  },
  {
   "cell_type": "markdown",
   "source": "## Instance-based interpretability",
   "metadata": {
    "tags": [],
    "is_collapsed": false,
    "cell_id": "00049-ba47bf19-590a-469d-9458-c53f9e1d7fc3",
    "deepnote_cell_type": "text-cell-h2"
   }
  },
  {
   "cell_type": "code",
   "metadata": {
    "tags": [],
    "cell_id": "00038-b4c3bb39-fedd-42ef-badf-61923ee24787",
    "deepnote_to_be_reexecuted": true,
    "source_hash": "b589d5b5",
    "execution_start": 1639921795689,
    "execution_millis": 1,
    "deepnote_output_heights": [
     null,
     611,
     null,
     611,
     null,
     611,
     null,
     611
    ],
    "output_cleared": true,
    "deepnote_cell_type": "code"
   },
   "source": "explainer = lime.lime_tabular.LimeTabularExplainer(X_train, \n    feature_names=[ 'Gender', 'Married', 'Dependents', 'Education',\n       'Self_Employed', 'ApplicantIncome', 'CoapplicantIncome', 'LoanAmount',\n       'Loan_Amount_Term', 'Credit_History', 'Property_Area'], \n    class_names=['Loan Denied', 'Loan Accepted'],\n    categorical_features=[0, 1, 2, 3, 4, 9, 10], \n    verbose=True, mode='classification')",
   "execution_count": null,
   "outputs": []
  },
  {
   "cell_type": "code",
   "metadata": {
    "tags": [],
    "cell_id": "00051-441e6cc7-5f9c-420f-91ab-7f9a39b3ed88",
    "deepnote_to_be_reexecuted": true,
    "source_hash": "54e6df6d",
    "execution_start": 1639921796342,
    "deepnote_output_heights": [
     null,
     611,
     null,
     611,
     null,
     611,
     null,
     611
    ],
    "execution_millis": 13149,
    "output_cleared": true,
    "deepnote_cell_type": "code"
   },
   "source": "np.random.seed(20)\nidx = 20\nlime_times = dict()\n\nfor name in models.keys():\n    print(f\"Lime explanation for {name}\")\n    start = time.time()\n    if name == \"neural network\":\n        def nn_predict_proba(X):\n            y_pred = models[name].predict(X)\n            y_prob = np.tile(y_pred, (1, 2))\n            y_prob[:,0] = 1.0 - y_prob[:,-1]\n            return y_prob\n        \n        exp = explainer.explain_instance(X_test[idx], nn_predict_proba, num_features=11) \n    else: \n        exp = explainer.explain_instance(X_test[idx], models[name].predict_proba, num_features=11) # Change num_featurese for more or less explainations\n    \n    exp.show_in_notebook(show_table=True)\n    end = time.time()\n    lime_times[name] = (end - start)\n\nprint(y_test[idx])",
   "execution_count": null,
   "outputs": []
  },
  {
   "cell_type": "code",
   "metadata": {
    "tags": [],
    "cell_id": "00057-1ab92137-dc07-4e1d-954f-f7f3de452036",
    "deepnote_to_be_reexecuted": true,
    "source_hash": "cf8537d9",
    "execution_start": 1639921832828,
    "execution_millis": 2,
    "deepnote_cell_type": "code"
   },
   "source": "for model_name, model_time in lime_times.items():\n    print(f\"Model {model_name} took {model_time} seconds to generate an explanation using LIME\")",
   "execution_count": null,
   "outputs": [
    {
     "name": "stdout",
     "text": "Model k-nearest neighbors took 3.1001031398773193 seconds to generate an explanation using LIME\nModel decision tree classifier took 3.2748122215270996 seconds to generate an explanation using LIME\nModel support vector classifier took 3.15670108795166 seconds to generate an explanation using LIME\nModel neural network took 3.3951752185821533 seconds to generate an explanation using LIME\n",
     "output_type": "stream",
     "data": {}
    }
   ]
  },
  {
   "cell_type": "markdown",
   "source": "## Global interpretation",
   "metadata": {
    "tags": [],
    "is_collapsed": false,
    "cell_id": "00052-9d9d5f49-8e41-49d9-87ca-1f8b3262dec3",
    "deepnote_cell_type": "text-cell-h2"
   }
  },
  {
   "cell_type": "markdown",
   "source": "    lime_global_times = dict()\n    np.random.seed(seed)\n\n    for model_name in models.keys():\n        start = time.time()\n        print(model_name)\n        lime_values = np.zeros((50, len(feature_names)))\n\n        for idx, instance in enumerate(shap.sample(X_test, 50, random_state=seed)):\n        \n            if model_name == \"neural network\":\n\n                def nn_predict_proba(X):\n                    y_pred = models[model_name].predict(X)\n                    y_prob = np.tile(y_pred, (1, 2))\n                    y_prob[:,0] = 1.0 - y_prob[:,-1]\n                    return y_prob\n\n                exp = explainer.explain_instance(instance, nn_predict_proba, num_features=11)\n\n            else: \n                exp = explainer.explain_instance(instance, models[model_name].predict_proba, num_features=11)\n\n            exp_dict = exp.as_map()\n\n            for feat_idx, lime_value in exp_dict[1]:\n                lime_values[idx, feat_idx] = lime_value\n\n        end = time.time()\n        lime_global_times[model_name] = (end - start)\n        np.savetxt(f\"Output/loan/lime_values_loan_{model_name}.txt\", lime_values)\n        print(\"---------------------------------------------------------------\")",
   "metadata": {
    "tags": [],
    "cell_id": "00053-4ef67af5-ae1f-47fd-9d73-39aa65b923ad",
    "deepnote_to_be_reexecuted": false,
    "source_hash": "a38eb661",
    "execution_start": 1639921857399,
    "execution_millis": 645765,
    "deepnote_output_heights": [
     null,
     606.328125
    ],
    "deepnote_cell_type": "markdown"
   }
  },
  {
   "cell_type": "markdown",
   "source": "    for name, model_time in lime_global_times.items():\n        print(f\"Model {name} took {model_time} seconds to explain using LIME\")",
   "metadata": {
    "tags": [],
    "cell_id": "00054-e3cded2d-672b-4054-9585-a205b784ead3",
    "deepnote_to_be_reexecuted": false,
    "source_hash": "5ddc65c0",
    "execution_start": 1639922527346,
    "execution_millis": 5,
    "deepnote_cell_type": "markdown"
   }
  },
  {
   "cell_type": "code",
   "metadata": {
    "tags": [],
    "cell_id": "00055-07d7cd0c-0d92-4bec-8305-f44d022cf3b3",
    "deepnote_to_be_reexecuted": true,
    "source_hash": "80d4a08a",
    "execution_start": 1639923245041,
    "execution_millis": 187,
    "deepnote_cell_type": "code"
   },
   "source": "lime_values_all = dict()\n\nfor model_name in models.keys():\n    lime_values_all[model_name] = np.loadtxt(f\"Output/loan/lime_values_loan_{model_name}.txt\")",
   "execution_count": null,
   "outputs": []
  },
  {
   "cell_type": "code",
   "metadata": {
    "tags": [],
    "cell_id": "00057-a96452e5-d2ea-4a7d-98cc-49cee358694a",
    "deepnote_to_be_reexecuted": true,
    "source_hash": "7636959d",
    "execution_start": 1639923246074,
    "execution_millis": 8,
    "deepnote_cell_type": "code"
   },
   "source": "lime_feat_imps = pd.DataFrame(index=feature_names)\n\nfor model_name in models.keys():\n  lime_values = lime_values_all[model_name]\n  feat_imps = np.mean(np.abs(lime_values), axis=0)\n  feat_imps /= np.sum(feat_imps)\n  lime_feat_imps.insert(0, model_name, feat_imps)",
   "execution_count": null,
   "outputs": []
  },
  {
   "cell_type": "code",
   "metadata": {
    "tags": [],
    "cell_id": "00058-311ff550-1533-4f3e-8781-9ea371308a05",
    "deepnote_to_be_reexecuted": true,
    "source_hash": "9624ffdf",
    "execution_start": 1639923246825,
    "execution_millis": 1317,
    "deepnote_output_heights": [
     282
    ],
    "deepnote_cell_type": "code"
   },
   "source": "lime_feat_imps.plot.bar()\nplt.ylabel(\"LIME feature importance\")\nplt.tight_layout()\nplt.savefig(\"Figures/loan/LIME_feature_importance_loan.png\", dpi=300)\nplt.show()\nplt.close()",
   "execution_count": null,
   "outputs": [
    {
     "data": {
      "text/plain": "<Figure size 432x288 with 1 Axes>",
      "image/png": "[encoded data removed]"
     },
     "metadata": {
      "needs_background": "light",
      "image/png": {
       "width": 424,
       "height": 280
      }
     },
     "output_type": "display_data"
    }
   ]
  },
  {
   "cell_type": "markdown",
   "source": "# Comparing feature importances",
   "metadata": {
    "tags": [],
    "is_collapsed": false,
    "cell_id": "00026-80de2e2a-4ed5-42d0-9e0c-20d9d5c28c9d",
    "deepnote_cell_type": "text-cell-h1"
   }
  },
  {
   "cell_type": "markdown",
   "source": "Lai et al.",
   "metadata": {
    "tags": [],
    "cell_id": "00027-a3e29473-a358-4d63-9625-baf524c1ddf5",
    "deepnote_cell_type": "markdown"
   }
  },
  {
   "cell_type": "markdown",
   "source": "    intr_mapper = dict()\n    shap_mapper = dict()\n\n    for model_name in models.keys():\n        intr_mapper[model_name] = model_name + \" (intrinsic)\"\n        shap_mapper[model_name] = model_name + \" (SHAP)\"\n\n    intr_feat_imps.rename(columns=intr_mapper, errors=\"ignore\")\n    shap_feat_imps.rename(columns=shap_mapper)\n\n    all_feat_imps = pd.concat([intr_feat_imps.rename(columns=intr_mapper, errors=\"ignore\"), shap_feat_imps.rename(columns=shap_mapper)], axis=1)",
   "metadata": {
    "tags": [],
    "cell_id": "00027-0aeea150-4d12-483c-9106-4aff2e458fd0",
    "deepnote_to_be_reexecuted": false,
    "source_hash": "64a86479",
    "execution_start": 1639433287455,
    "execution_millis": 66,
    "deepnote_output_heights": [
     null,
     351
    ],
    "output_cleared": false,
    "deepnote_cell_type": "markdown"
   }
  },
  {
   "cell_type": "code",
   "metadata": {
    "tags": [],
    "cell_id": "00035-50d76797-1626-4224-9e5b-f6191e837d73",
    "deepnote_to_be_reexecuted": true,
    "source_hash": "501b870a",
    "execution_start": 1639922589501,
    "execution_millis": 2,
    "deepnote_cell_type": "code"
   },
   "source": "intr_mapper = {\n    \"decision tree classifier\": \"dtr (intr)\", \n    \"support vector classifier\": \"svc (intr)\", \n    # \"k-nearest neighbors\": \"knn (intr)\", \n    # \"neural network\": \"nn (intr)\",\n    }\n\nshap_mapper = {\n    \"decision tree classifier\": \"dtr (SHAP)\", \n    \"support vector classifier\": \"svc (SHAP)\", \n    \"k-nearest neighbors\": \"knn (SHAP)\", \n    \"neural network\": \"nn (SHAP)\",\n    }\n\nlime_mapper = {\n    \"decision tree classifier\": \"dtr (LIME)\", \n    \"support vector classifier\": \"svc (LIME)\", \n    \"k-nearest neighbors\": \"knn (LIME)\", \n    \"neural network\": \"nn (LIME)\",\n    }\n\nall_feat_imps = pd.concat([intr_feat_imps.rename(columns=intr_mapper, errors=\"ignore\"), shap_feat_imps.rename(columns=shap_mapper), lime_feat_imps.rename(columns=lime_mapper)], axis=1)",
   "execution_count": null,
   "outputs": []
  },
  {
   "cell_type": "code",
   "metadata": {
    "tags": [],
    "cell_id": "00030-1088801a-aa9d-407e-a7e3-beb9b27a6d9c",
    "deepnote_to_be_reexecuted": true,
    "source_hash": "8e877e3a",
    "execution_start": 1639922590964,
    "execution_millis": 32387,
    "deepnote_output_heights": [
     611,
     611,
     611,
     611,
     611,
     611,
     611,
     611,
     611,
     611,
     611
    ],
    "output_cleared": true,
    "deepnote_cell_type": "code"
   },
   "source": "all_feat_imps_columns = all_feat_imps.columns\njaccard_sim = pd.DataFrame(np.zeros((len(all_feat_imps_columns), len(all_feat_imps_columns))), index=all_feat_imps_columns, columns=all_feat_imps_columns)\njaccard_sims = list()\n\nfor k in range(1, len(feature_names) + 1):\n    for column_name_1 in all_feat_imps_columns:\n        for column_name_2 in all_feat_imps_columns:\n            feat_imps_1 = np.array(all_feat_imps[column_name_1])\n            feat_imps_2 = np.array(all_feat_imps[column_name_2])\n\n            top_features_1 = feature_names[np.argsort(feat_imps_1)][::-1][:k]\n            top_features_2 = feature_names[np.argsort(feat_imps_2)][::-1][:k]\n\n            union = len(top_features_1)\n            intersec = 0\n\n            for feature in top_features_1:\n                if feature in top_features_2:\n                    intersec += 1\n                else: \n                    union += 1\n\n            jaccard_sim[column_name_1][column_name_2] = intersec / union\n\n    f, ax = plt.subplots(figsize=(6, 6), dpi=300)\n    sns.heatmap(jaccard_sim, vmin=0.0, vmax=1.0, annot=True, square=True)\n    plt.tight_layout()\n    plt.savefig(f\"Figures/loan/jaccard_loan_top_{k}.png\")\n    plt.show()\n    plt.close()\n\n    jaccard_sims.append(jaccard_sim.copy())",
   "execution_count": null,
   "outputs": []
  },
  {
   "cell_type": "code",
   "metadata": {
    "tags": [],
    "cell_id": "00037-cfda3d4f-5a87-4768-9daf-bedd6ed1279d",
    "deepnote_to_be_reexecuted": true,
    "source_hash": "83d04de7",
    "execution_start": 1639922961801,
    "execution_millis": 5973,
    "deepnote_output_heights": [
     282,
     282,
     282,
     282,
     282,
     282,
     282
    ],
    "deepnote_cell_type": "code"
   },
   "source": "# Compare intrinsic values\ncompairs = [(\"dtr (intr)\", \"svc (intr)\")]\n\nfor pair in compairs:\n    column_name_1, column_name_2 = pair\n    sim_values = list()\n    for k in range(len(feature_names)):\n        jaccard_sim = jaccard_sims[k]\n        sim_values.append(jaccard_sim[column_name_1][column_name_2])\n    plt.plot(np.arange(1, len(feature_names) + 1), sim_values, label=f\"{column_name_1[:-7]} x {column_name_2[:-7]}\", marker=\"o\")\n\nplt.xlabel(r\"$k$\")\nplt.ylabel(\"Jaccard similarity\")\nplt.ylim(-0.1, 1.1)\nplt.tight_layout()\nplt.legend()\nplt.savefig(f\"Figures/loan/jaccard_intr_models.png\", dpi=300)\nplt.show()\nplt.close()\n\n# Compare SHAP values\ncompairs = [\n    (\"dtr (SHAP)\", \"svc (SHAP)\"),\n    (\"dtr (SHAP)\", \"knn (SHAP)\"),\n    (\"dtr (SHAP)\", \"nn (SHAP)\"),\n    (\"svc (SHAP)\", \"knn (SHAP)\"),\n    (\"svc (SHAP)\", \"nn (SHAP)\"),\n    (\"knn (SHAP)\", \"nn (SHAP)\"),\n    ]\n\nfor i, pair in enumerate(compairs):\n    column_name_1, column_name_2 = pair\n    sim_values = list()\n    for k in range(len(feature_names)):\n        jaccard_sim = jaccard_sims[k]\n        sim_values.append(jaccard_sim[column_name_1][column_name_2])\n    plt.plot(np.arange(1, len(feature_names) + 1), sim_values, label=f\"{column_name_1[:-7]} x {column_name_2[:-7]}\", marker=\"o\", markersize=10-1.0*i)\n\nplt.xlabel(r\"$k$\")\nplt.ylabel(\"Jaccard similarity\")\nplt.ylim(-0.1, 1.1)\nplt.tight_layout()\nplt.legend()\nplt.savefig(f\"Figures/loan/jaccard_SHAP_models.png\", dpi=300)\nplt.show()\nplt.close()\n\n# Compare LIME models\ncompairs = [\n    (\"dtr (LIME)\", \"svc (LIME)\"),\n    (\"dtr (LIME)\", \"knn (LIME)\"),\n    (\"dtr (LIME)\", \"nn (LIME)\"),\n    (\"svc (LIME)\", \"knn (LIME)\"),\n    (\"svc (LIME)\", \"nn (LIME)\"),\n    (\"knn (LIME)\", \"nn (LIME)\"),\n    ]\n\nfor i, pair in enumerate(compairs):\n    column_name_1, column_name_2 = pair\n    sim_values = list()\n    for k in range(len(feature_names)):\n        jaccard_sim = jaccard_sims[k]\n        sim_values.append(jaccard_sim[column_name_1][column_name_2])\n    plt.plot(np.arange(1, len(feature_names) + 1), sim_values, label=f\"{column_name_1[:-7]} x {column_name_2[:-7]}\", marker=\"o\", markersize=10-1.0*i)\n\nplt.xlabel(r\"$k$\")\nplt.ylabel(\"Jaccard similarity\")\nplt.ylim(-0.1, 1.1)\nplt.tight_layout()\nplt.legend()\nplt.savefig(f\"Figures/loan/jaccard_LIME_models.png\", dpi=300)\nplt.show()\nplt.close()\n\n# Compare decision tree interpretability\ncompairs = [\n    (\"dtr (intr)\", \"dtr (SHAP)\"),\n    (\"dtr (intr)\", \"dtr (LIME)\"),\n    (\"dtr (SHAP)\", \"dtr (LIME)\"),\n    ]\n\nfor i, pair in enumerate(compairs):\n    column_name_1, column_name_2 = pair\n    sim_values = list()\n    for k in range(len(feature_names)):\n        jaccard_sim = jaccard_sims[k]\n        sim_values.append(jaccard_sim[column_name_1][column_name_2])\n    plt.plot(np.arange(1, len(feature_names) + 1), sim_values, label=f\"{column_name_1} x {column_name_2}\", marker=\"o\", markersize=10-2*i)\n\nplt.xlabel(r\"$k$\")\nplt.ylabel(\"Jaccard similarity\")\nplt.ylim(-0.1, 1.1)\nplt.tight_layout()\nplt.legend()\nplt.savefig(f\"Figures/loan/jaccard_decision_tree_classifier.png\", dpi=300)\nplt.show()\nplt.close()\n\n# Compare support vector interpretability\ncompairs = [\n    (\"svc (intr)\", \"svc (SHAP)\"),\n    (\"svc (intr)\", \"svc (LIME)\"),\n    (\"svc (SHAP)\", \"svc (LIME)\"),\n    ]\n\nfor i, pair in enumerate(compairs):\n    column_name_1, column_name_2 = pair\n    sim_values = list()\n    for k in range(len(feature_names)):\n        jaccard_sim = jaccard_sims[k]\n        sim_values.append(jaccard_sim[column_name_1][column_name_2])\n    plt.plot(np.arange(1, len(feature_names) + 1), sim_values, label=f\"{column_name_1} x {column_name_2}\", marker=\"o\", markersize=10-2*i)\n\nplt.xlabel(r\"$k$\")\nplt.ylabel(\"Jaccard similarity\")\nplt.ylim(-0.1, 1.1)\nplt.tight_layout()\nplt.legend()\nplt.savefig(f\"Figures/loan/jaccard_support_vector_classifier.png\", dpi=300)\nplt.show()\nplt.close()\n\n# Compare kNN interpretability\ncompairs = [\n    (\"knn (SHAP)\", \"knn (LIME)\"),\n    ]\n\nfor i, pair in enumerate(compairs):\n    column_name_1, column_name_2 = pair\n    sim_values = list()\n    for k in range(len(feature_names)):\n        jaccard_sim = jaccard_sims[k]\n        sim_values.append(jaccard_sim[column_name_1][column_name_2])\n    plt.plot(np.arange(1, len(feature_names) + 1), sim_values, label=f\"{column_name_1} x {column_name_2}\", marker=\"o\", markersize=10-2*i)\n\nplt.xlabel(r\"$k$\")\nplt.ylabel(\"Jaccard similarity\")\nplt.ylim(-0.1, 1.1)\nplt.tight_layout()\nplt.legend()\nplt.savefig(f\"Figures/loan/jaccard_k_nearest_neighbors_classifier.png\", dpi=300)\nplt.show()\nplt.close()\n\n# Compare neural network interpretability\ncompairs = [\n    (\"nn (SHAP)\", \"nn (LIME)\"),\n    ]\n\nfor i, pair in enumerate(compairs):\n    column_name_1, column_name_2 = pair\n    sim_values = list()\n    for k in range(len(feature_names)):\n        jaccard_sim = jaccard_sims[k]\n        sim_values.append(jaccard_sim[column_name_1][column_name_2])\n    plt.plot(np.arange(1, len(feature_names) + 1), sim_values, label=f\"{column_name_1} x {column_name_2}\", marker=\"o\", markersize=10-2*i)\n\nplt.xlabel(r\"$k$\")\nplt.ylabel(\"Jaccard similarity\")\nplt.ylim(-0.1, 1.1)\nplt.tight_layout()\nplt.legend()\nplt.savefig(f\"Figures/loan/jaccard_neural_network_classifier.png\", dpi=300)\nplt.show()\nplt.close()",
   "execution_count": null,
   "outputs": [
    {
     "data": {
      "text/plain": "<Figure size 432x288 with 1 Axes>",
      "image/png": "[encoded data removed]"
     },
     "metadata": {
      "needs_background": "light",
      "image/png": {
       "width": 424,
       "height": 280
      }
     },
     "output_type": "display_data"
    },
    {
     "data": {
      "text/plain": "<Figure size 432x288 with 1 Axes>",
      "image/png": "[encoded data removed]"
     },
     "metadata": {
      "needs_background": "light",
      "image/png": {
       "width": 424,
       "height": 280
      }
     },
     "output_type": "display_data"
    },
    {
     "data": {
      "text/plain": "<Figure size 432x288 with 1 Axes>",
      "image/png": "[encoded data removed]"
     },
     "metadata": {
      "needs_background": "light",
      "image/png": {
       "width": 424,
       "height": 280
      }
     },
     "output_type": "display_data"
    },
    {
     "data": {
      "text/plain": "<Figure size 432x288 with 1 Axes>",
      "image/png": "[encoded data removed]"
     },
     "metadata": {
      "needs_background": "light",
      "image/png": {
       "width": 424,
       "height": 280
      }
     },
     "output_type": "display_data"
    },
    {
     "data": {
      "text/plain": "<Figure size 432x288 with 1 Axes>",
      "image/png": "[encoded data removed]"
     },
     "metadata": {
      "needs_background": "light",
      "image/png": {
       "width": 424,
       "height": 280
      }
     },
     "output_type": "display_data"
    },
    {
     "data": {
      "text/plain": "<Figure size 432x288 with 1 Axes>",
      "image/png": "[encoded data removed]"
     },
     "metadata": {
      "needs_background": "light",
      "image/png": {
       "width": 424,
       "height": 280
      }
     },
     "output_type": "display_data"
    },
    {
     "data": {
      "text/plain": "<Figure size 432x288 with 1 Axes>",
      "image/png": "[encoded data removed]"
     },
     "metadata": {
      "needs_background": "light",
      "image/png": {
       "width": 424,
       "height": 280
      }
     },
     "output_type": "display_data"
    }
   ]
  },
  {
   "cell_type": "code",
   "metadata": {
    "tags": [],
    "cell_id": "00042-8d9b423b-5cd2-409c-849a-33d6776c57a4",
    "deepnote_to_be_reexecuted": true,
    "source_hash": "dcee9cfa",
    "execution_start": 1639923068676,
    "execution_millis": 4,
    "deepnote_cell_type": "code"
   },
   "source": "print(all_feat_imps.columns)",
   "execution_count": null,
   "outputs": [
    {
     "name": "stdout",
     "text": "Index(['dtr (intr)', 'svc (intr)', 'nn (SHAP)', 'svc (SHAP)', 'dtr (SHAP)',\n       'knn (SHAP)', 'nn (LIME)', 'svc (LIME)', 'dtr (LIME)', 'knn (LIME)'],\n      dtype='object')\n",
     "output_type": "stream",
     "data": {}
    }
   ]
  },
  {
   "cell_type": "code",
   "metadata": {
    "tags": [],
    "cell_id": "00042-932bba64-a9c3-49ae-b128-4fc5436bdb41",
    "deepnote_to_be_reexecuted": true,
    "source_hash": "446289be",
    "execution_start": 1639923079233,
    "execution_millis": 2,
    "deepnote_cell_type": "code"
   },
   "source": "print(all_feat_imps[[\"dtr (intr)\", \"dtr (SHAP)\", \"dtr (LIME)\"]])",
   "execution_count": null,
   "outputs": [
    {
     "name": "stdout",
     "text": "                   dtr (intr)  dtr (SHAP)  dtr (LIME)\nGender               0.000000    0.000000    0.008364\nMarried              0.018035    0.008420    0.038851\nDependents           0.013345    0.000000    0.007529\nEducation            0.014331    0.071014    0.007380\nSelf_Employed        0.037750    0.005650    0.016385\nApplicantIncome      0.135933    0.198784    0.088484\nCoapplicantIncome    0.233551    0.118107    0.044782\nLoanAmount           0.172140    0.131027    0.050983\nLoan_Amount_Term     0.045692    0.010578    0.276025\nCredit_History       0.300184    0.374732    0.404868\nProperty_Area        0.029037    0.081686    0.056349\n",
     "output_type": "stream",
     "data": {}
    }
   ]
  },
  {
   "cell_type": "code",
   "metadata": {
    "tags": [],
    "cell_id": "00042-975d70a7-83b6-41e6-88d0-6ef44f32f6fd",
    "deepnote_to_be_reexecuted": true,
    "source_hash": "347ae2d6",
    "execution_start": 1639923161729,
    "execution_millis": 1337,
    "deepnote_output_heights": [
     282
    ],
    "deepnote_cell_type": "code"
   },
   "source": "all_feat_imps[[\"dtr (intr)\", \"dtr (SHAP)\", \"dtr (LIME)\"]].plot.bar()\nplt.ylabel(\"Feature importance\")\nplt.tight_layout()\nplt.savefig(\"Figures/loan/comp_dtr_feature_importance_loan.png\", dpi=300)\nplt.show()\nplt.close()",
   "execution_count": null,
   "outputs": [
    {
     "data": {
      "text/plain": "<Figure size 432x288 with 1 Axes>",
      "image/png": "[encoded data removed]"
     },
     "metadata": {
      "needs_background": "light",
      "image/png": {
       "width": 418,
       "height": 280
      }
     },
     "output_type": "display_data"
    }
   ]
  },
  {
   "cell_type": "code",
   "metadata": {
    "tags": [],
    "cell_id": "00045-9d52cb84-a73a-4bc0-aa68-9940ad43363e",
    "deepnote_to_be_reexecuted": true,
    "source_hash": "705e30f8",
    "execution_start": 1639669907538,
    "execution_millis": 1510,
    "deepnote_output_heights": [
     282
    ],
    "deepnote_cell_type": "code"
   },
   "source": "all_feat_imps[[\"svc (intr)\", \"svc (SHAP)\"]].plot.bar()\nplt.ylabel(\"Feature importance\")\nplt.tight_layout()\nplt.savefig(\"Figures/loan/comp_svc_feature_importance_loan.png\", dpi=300)\nplt.show()\nplt.close()",
   "execution_count": null,
   "outputs": [
    {
     "data": {
      "text/plain": "<Figure size 432x288 with 1 Axes>",
      "image/png": "[encoded data removed]"
     },
     "metadata": {
      "needs_background": "light",
      "image/png": {
       "width": 424,
       "height": 280
      }
     },
     "output_type": "display_data"
    }
   ]
  },
  {
   "cell_type": "markdown",
   "source": "# Prutsen",
   "metadata": {
    "tags": [],
    "is_collapsed": false,
    "cell_id": "00036-a2f68710-4cc2-449b-b18e-7eb04975c71c",
    "deepnote_cell_type": "text-cell-h1"
   }
  },
  {
   "cell_type": "markdown",
   "source": "    for key in history.history.keys():\n        plt.plot(np.arange(1, n_epochs+1), history.history[key], label=key)\n    plt.legend()\n    plt.show()\n\n    print(np.argmin(history.history['val_loss']))\n    print(np.where(history.history['val_loss'] == np.min(history.history['val_loss'])))",
   "metadata": {
    "tags": [],
    "cell_id": "00029-5b200ca6-83ee-4d15-9058-0c7f43d2fe5b",
    "deepnote_to_be_reexecuted": false,
    "source_hash": "8d1043e0",
    "execution_start": 1638713125495,
    "execution_millis": 391,
    "deepnote_output_heights": [
     250,
     250
    ],
    "id": "i_zpUWH8ho_K",
    "deepnote_cell_type": "markdown"
   }
  },
  {
   "cell_type": "code",
   "metadata": {
    "tags": [],
    "cell_id": "00052-5d57ff16-753f-47d1-a5bb-d750de648083",
    "deepnote_to_be_reexecuted": true,
    "source_hash": "edbe292a",
    "execution_start": 1639570598623,
    "execution_millis": 101,
    "deepnote_cell_type": "code"
   },
   "source": "model = models[\"neural network\"]\nprint(np.mean((classify(model.predict(X_test[X_test[:,9] < -2,:]))).flatten()))",
   "execution_count": null,
   "outputs": [
    {
     "name": "stdout",
     "text": "0.0\n",
     "output_type": "stream",
     "data": {}
    }
   ]
  },
  {
   "cell_type": "code",
   "metadata": {
    "tags": [],
    "cell_id": "00053-038cbd83-02d3-4d6e-bfd6-a932107acba2",
    "deepnote_to_be_reexecuted": true,
    "source_hash": "b623e53d",
    "deepnote_cell_type": "code"
   },
   "source": "",
   "execution_count": null,
   "outputs": []
  },
  {
   "cell_type": "markdown",
   "source": "<a style='text-decoration:none;line-height:16px;display:flex;color:#5B5B62;padding:10px;justify-content:end;' href='https://deepnote.com?utm_source=created-in-deepnote-cell&projectId=90a57419-7b7b-4aa4-8a97-858f9f98a849' target=\"_blank\">\n<img alt='Created in deepnote.com' style='display:inline;max-height:16px;margin:0px;margin-right:7.5px;' src='data:image/svg+xml;base64,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' > </img>\nCreated in <span style='font-weight:600;margin-left:4px;'>Deepnote</span></a>",
   "metadata": {
    "tags": [],
    "created_in_deepnote_cell": true,
    "deepnote_cell_type": "markdown"
   }
  }
 ],
 "nbformat": 4,
 "nbformat_minor": 0,
 "metadata": {
  "orig_nbformat": 2,
  "deepnote": {
   "is_reactive": false
  },
  "deepnote_notebook_id": "d217b4eb-d24e-4970-a468-997e83cae982",
  "deepnote_execution_queue": [],
  "colab": {
   "name": "classification_loan.ipynb",
   "provenance": []
  },
  "language_info": {
   "name": "python"
  },
  "kernelspec": {
   "name": "python3",
   "display_name": "Python 3"
  },
  "widgets": {
   "application/vnd.jupyter.widget-state+json": {
    "976f13862126459e8de36df116ceee92": {
     "model_module": "@jupyter-widgets/controls",
     "model_name": "HBoxModel",
     "model_module_version": "1.5.0",
     "state": {
      "_view_name": "HBoxView",
      "_dom_classes": [],
      "_model_name": "HBoxModel",
      "_view_module": "@jupyter-widgets/controls",
      "_model_module_version": "1.5.0",
      "_view_count": null,
      "_view_module_version": "1.5.0",
      "box_style": "",
      "layout": "IPY_MODEL_72800f55e1c5406c9eedadeebb56b073",
      "_model_module": "@jupyter-widgets/controls",
      "children": [
       "IPY_MODEL_f8f55cfa9c34466a8554d813706b7036",
       "IPY_MODEL_8fea85f763cc449c93a12e61059140ca",
       "IPY_MODEL_0c3e803b3cc043d98fcdb95b3abc1090"
      ]
     }
    },
    "72800f55e1c5406c9eedadeebb56b073": {
     "model_module": "@jupyter-widgets/base",
     "model_name": "LayoutModel",
     "model_module_version": "1.2.0",
     "state": {
      "_view_name": "LayoutView",
      "grid_template_rows": null,
      "right": null,
      "justify_content": null,
      "_view_module": "@jupyter-widgets/base",
      "overflow": null,
      "_model_module_version": "1.2.0",
      "_view_count": null,
      "flex_flow": null,
      "width": null,
      "min_width": null,
      "border": null,
      "align_items": null,
      "bottom": null,
      "_model_module": "@jupyter-widgets/base",
      "top": null,
      "grid_column": null,
      "overflow_y": null,
      "overflow_x": null,
      "grid_auto_flow": null,
      "grid_area": null,
      "grid_template_columns": null,
      "flex": null,
      "_model_name": "LayoutModel",
      "justify_items": null,
      "grid_row": null,
      "max_height": null,
      "align_content": null,
      "visibility": null,
      "align_self": null,
      "height": null,
      "min_height": null,
      "padding": null,
      "grid_auto_rows": null,
      "grid_gap": null,
      "max_width": null,
      "order": null,
      "_view_module_version": "1.2.0",
      "grid_template_areas": null,
      "object_position": null,
      "object_fit": null,
      "grid_auto_columns": null,
      "margin": null,
      "display": null,
      "left": null
     }
    },
    "f8f55cfa9c34466a8554d813706b7036": {
     "model_module": "@jupyter-widgets/controls",
     "model_name": "HTMLModel",
     "model_module_version": "1.5.0",
     "state": {
      "_view_name": "HTMLView",
      "style": "IPY_MODEL_11dc79cfd8c345e68414cdfb06b0dd03",
      "_dom_classes": [],
      "description": "",
      "_model_name": "HTMLModel",
      "placeholder": "​",
      "_view_module": "@jupyter-widgets/controls",
      "_model_module_version": "1.5.0",
      "value": "100%",
      "_view_count": null,
      "_view_module_version": "1.5.0",
      "description_tooltip": null,
      "_model_module": "@jupyter-widgets/controls",
      "layout": "IPY_MODEL_14dffc505ada4f1394f039d9d600f4af"
     }
    },
    "8fea85f763cc449c93a12e61059140ca": {
     "model_module": "@jupyter-widgets/controls",
     "model_name": "FloatProgressModel",
     "model_module_version": "1.5.0",
     "state": {
      "_view_name": "ProgressView",
      "style": "IPY_MODEL_36565ff5caaf48089942de85ec7df055",
      "_dom_classes": [],
      "description": "",
      "_model_name": "FloatProgressModel",
      "bar_style": "success",
      "max": 7,
      "_view_module": "@jupyter-widgets/controls",
      "_model_module_version": "1.5.0",
      "value": 7,
      "_view_count": null,
      "_view_module_version": "1.5.0",
      "orientation": "horizontal",
      "min": 0,
      "description_tooltip": null,
      "_model_module": "@jupyter-widgets/controls",
      "layout": "IPY_MODEL_4f3e3b7629e34bde97f8ea41464a0e03"
     }
    },
    "0c3e803b3cc043d98fcdb95b3abc1090": {
     "model_module": "@jupyter-widgets/controls",
     "model_name": "HTMLModel",
     "model_module_version": "1.5.0",
     "state": {
      "_view_name": "HTMLView",
      "style": "IPY_MODEL_062ff5eb8da84c918ac7473fca6d92fe",
      "_dom_classes": [],
      "description": "",
      "_model_name": "HTMLModel",
      "placeholder": "​",
      "_view_module": "@jupyter-widgets/controls",
      "_model_module_version": "1.5.0",
      "value": " 7/7 [02:56&lt;00:00, 25.20s/it]",
      "_view_count": null,
      "_view_module_version": "1.5.0",
      "description_tooltip": null,
      "_model_module": "@jupyter-widgets/controls",
      "layout": "IPY_MODEL_45de92e0323f46ba87b99170afaf2da0"
     }
    },
    "11dc79cfd8c345e68414cdfb06b0dd03": {
     "model_module": "@jupyter-widgets/controls",
     "model_name": "DescriptionStyleModel",
     "model_module_version": "1.5.0",
     "state": {
      "_view_name": "StyleView",
      "_model_name": "DescriptionStyleModel",
      "description_width": "",
      "_view_module": "@jupyter-widgets/base",
      "_model_module_version": "1.5.0",
      "_view_count": null,
      "_view_module_version": "1.2.0",
      "_model_module": "@jupyter-widgets/controls"
     }
    },
    "14dffc505ada4f1394f039d9d600f4af": {
     "model_module": "@jupyter-widgets/base",
     "model_name": "LayoutModel",
     "model_module_version": "1.2.0",
     "state": {
      "_view_name": "LayoutView",
      "grid_template_rows": null,
      "right": null,
      "justify_content": null,
      "_view_module": "@jupyter-widgets/base",
      "overflow": null,
      "_model_module_version": "1.2.0",
      "_view_count": null,
      "flex_flow": null,
      "width": null,
      "min_width": null,
      "border": null,
      "align_items": null,
      "bottom": null,
      "_model_module": "@jupyter-widgets/base",
      "top": null,
      "grid_column": null,
      "overflow_y": null,
      "overflow_x": null,
      "grid_auto_flow": null,
      "grid_area": null,
      "grid_template_columns": null,
      "flex": null,
      "_model_name": "LayoutModel",
      "justify_items": null,
      "grid_row": null,
      "max_height": null,
      "align_content": null,
      "visibility": null,
      "align_self": null,
      "height": null,
      "min_height": null,
      "padding": null,
      "grid_auto_rows": null,
      "grid_gap": null,
      "max_width": null,
      "order": null,
      "_view_module_version": "1.2.0",
      "grid_template_areas": null,
      "object_position": null,
      "object_fit": null,
      "grid_auto_columns": null,
      "margin": null,
      "display": null,
      "left": null
     }
    },
    "36565ff5caaf48089942de85ec7df055": {
     "model_module": "@jupyter-widgets/controls",
     "model_name": "ProgressStyleModel",
     "model_module_version": "1.5.0",
     "state": {
      "_view_name": "StyleView",
      "_model_name": "ProgressStyleModel",
      "description_width": "",
      "_view_module": "@jupyter-widgets/base",
      "_model_module_version": "1.5.0",
      "_view_count": null,
      "_view_module_version": "1.2.0",
      "bar_color": null,
      "_model_module": "@jupyter-widgets/controls"
     }
    },
    "4f3e3b7629e34bde97f8ea41464a0e03": {
     "model_module": "@jupyter-widgets/base",
     "model_name": "LayoutModel",
     "model_module_version": "1.2.0",
     "state": {
      "_view_name": "LayoutView",
      "grid_template_rows": null,
      "right": null,
      "justify_content": null,
      "_view_module": "@jupyter-widgets/base",
      "overflow": null,
      "_model_module_version": "1.2.0",
      "_view_count": null,
      "flex_flow": null,
      "width": null,
      "min_width": null,
      "border": null,
      "align_items": null,
      "bottom": null,
      "_model_module": "@jupyter-widgets/base",
      "top": null,
      "grid_column": null,
      "overflow_y": null,
      "overflow_x": null,
      "grid_auto_flow": null,
      "grid_area": null,
      "grid_template_columns": null,
      "flex": null,
      "_model_name": "LayoutModel",
      "justify_items": null,
      "grid_row": null,
      "max_height": null,
      "align_content": null,
      "visibility": null,
      "align_self": null,
      "height": null,
      "min_height": null,
      "padding": null,
      "grid_auto_rows": null,
      "grid_gap": null,
      "max_width": null,
      "order": null,
      "_view_module_version": "1.2.0",
      "grid_template_areas": null,
      "object_position": null,
      "object_fit": null,
      "grid_auto_columns": null,
      "margin": null,
      "display": null,
      "left": null
     }
    },
    "062ff5eb8da84c918ac7473fca6d92fe": {
     "model_module": "@jupyter-widgets/controls",
     "model_name": "DescriptionStyleModel",
     "model_module_version": "1.5.0",
     "state": {
      "_view_name": "StyleView",
      "_model_name": "DescriptionStyleModel",
      "description_width": "",
      "_view_module": "@jupyter-widgets/base",
      "_model_module_version": "1.5.0",
      "_view_count": null,
      "_view_module_version": "1.2.0",
      "_model_module": "@jupyter-widgets/controls"
     }
    },
    "45de92e0323f46ba87b99170afaf2da0": {
     "model_module": "@jupyter-widgets/base",
     "model_name": "LayoutModel",
     "model_module_version": "1.2.0",
     "state": {
      "_view_name": "LayoutView",
      "grid_template_rows": null,
      "right": null,
      "justify_content": null,
      "_view_module": "@jupyter-widgets/base",
      "overflow": null,
      "_model_module_version": "1.2.0",
      "_view_count": null,
      "flex_flow": null,
      "width": null,
      "min_width": null,
      "border": null,
      "align_items": null,
      "bottom": null,
      "_model_module": "@jupyter-widgets/base",
      "top": null,
      "grid_column": null,
      "overflow_y": null,
      "overflow_x": null,
      "grid_auto_flow": null,
      "grid_area": null,
      "grid_template_columns": null,
      "flex": null,
      "_model_name": "LayoutModel",
      "justify_items": null,
      "grid_row": null,
      "max_height": null,
      "align_content": null,
      "visibility": null,
      "align_self": null,
      "height": null,
      "min_height": null,
      "padding": null,
      "grid_auto_rows": null,
      "grid_gap": null,
      "max_width": null,
      "order": null,
      "_view_module_version": "1.2.0",
      "grid_template_areas": null,
      "object_position": null,
      "object_fit": null,
      "grid_auto_columns": null,
      "margin": null,
      "display": null,
      "left": null
     }
    },
    "141866bbd38f461586efaa0f54013c9c": {
     "model_module": "@jupyter-widgets/controls",
     "model_name": "HBoxModel",
     "model_module_version": "1.5.0",
     "state": {
      "_view_name": "HBoxView",
      "_dom_classes": [],
      "_model_name": "HBoxModel",
      "_view_module": "@jupyter-widgets/controls",
      "_model_module_version": "1.5.0",
      "_view_count": null,
      "_view_module_version": "1.5.0",
      "box_style": "",
      "layout": "IPY_MODEL_ec41a6e2f52f4fe4bd6a6b5aab452895",
      "_model_module": "@jupyter-widgets/controls",
      "children": [
       "IPY_MODEL_77e22b6a7b3b4709a142d60496646dd3",
       "IPY_MODEL_82392fa4357f4dfab0fa069766f7136e",
       "IPY_MODEL_41cba768907047ecbd5d58c88a7ade35"
      ]
     }
    },
    "ec41a6e2f52f4fe4bd6a6b5aab452895": {
     "model_module": "@jupyter-widgets/base",
     "model_name": "LayoutModel",
     "model_module_version": "1.2.0",
     "state": {
      "_view_name": "LayoutView",
      "grid_template_rows": null,
      "right": null,
      "justify_content": null,
      "_view_module": "@jupyter-widgets/base",
      "overflow": null,
      "_model_module_version": "1.2.0",
      "_view_count": null,
      "flex_flow": null,
      "width": null,
      "min_width": null,
      "border": null,
      "align_items": null,
      "bottom": null,
      "_model_module": "@jupyter-widgets/base",
      "top": null,
      "grid_column": null,
      "overflow_y": null,
      "overflow_x": null,
      "grid_auto_flow": null,
      "grid_area": null,
      "grid_template_columns": null,
      "flex": null,
      "_model_name": "LayoutModel",
      "justify_items": null,
      "grid_row": null,
      "max_height": null,
      "align_content": null,
      "visibility": null,
      "align_self": null,
      "height": null,
      "min_height": null,
      "padding": null,
      "grid_auto_rows": null,
      "grid_gap": null,
      "max_width": null,
      "order": null,
      "_view_module_version": "1.2.0",
      "grid_template_areas": null,
      "object_position": null,
      "object_fit": null,
      "grid_auto_columns": null,
      "margin": null,
      "display": null,
      "left": null
     }
    },
    "77e22b6a7b3b4709a142d60496646dd3": {
     "model_module": "@jupyter-widgets/controls",
     "model_name": "HTMLModel",
     "model_module_version": "1.5.0",
     "state": {
      "_view_name": "HTMLView",
      "style": "IPY_MODEL_b70a4f7d3f164be0b9b81789baa1ed76",
      "_dom_classes": [],
      "description": "",
      "_model_name": "HTMLModel",
      "placeholder": "​",
      "_view_module": "@jupyter-widgets/controls",
      "_model_module_version": "1.5.0",
      "value": "100%",
      "_view_count": null,
      "_view_module_version": "1.5.0",
      "description_tooltip": null,
      "_model_module": "@jupyter-widgets/controls",
      "layout": "IPY_MODEL_11fd7d10b869494c977eeff998a05c6d"
     }
    },
    "82392fa4357f4dfab0fa069766f7136e": {
     "model_module": "@jupyter-widgets/controls",
     "model_name": "FloatProgressModel",
     "model_module_version": "1.5.0",
     "state": {
      "_view_name": "ProgressView",
      "style": "IPY_MODEL_66830714c7c043f38e896e8dc30b2922",
      "_dom_classes": [],
      "description": "",
      "_model_name": "FloatProgressModel",
      "bar_style": "success",
      "max": 7,
      "_view_module": "@jupyter-widgets/controls",
      "_model_module_version": "1.5.0",
      "value": 7,
      "_view_count": null,
      "_view_module_version": "1.5.0",
      "orientation": "horizontal",
      "min": 0,
      "description_tooltip": null,
      "_model_module": "@jupyter-widgets/controls",
      "layout": "IPY_MODEL_e6b09548282748d4a254c426953948d3"
     }
    },
    "41cba768907047ecbd5d58c88a7ade35": {
     "model_module": "@jupyter-widgets/controls",
     "model_name": "HTMLModel",
     "model_module_version": "1.5.0",
     "state": {
      "_view_name": "HTMLView",
      "style": "IPY_MODEL_ae5c45d87bcb4c5aaa030d22538c024d",
      "_dom_classes": [],
      "description": "",
      "_model_name": "HTMLModel",
      "placeholder": "​",
      "_view_module": "@jupyter-widgets/controls",
      "_model_module_version": "1.5.0",
      "value": " 7/7 [00:17&lt;00:00,  2.50s/it]",
      "_view_count": null,
      "_view_module_version": "1.5.0",
      "description_tooltip": null,
      "_model_module": "@jupyter-widgets/controls",
      "layout": "IPY_MODEL_261038562a704cc39102d095eb56432e"
     }
    },
    "b70a4f7d3f164be0b9b81789baa1ed76": {
     "model_module": "@jupyter-widgets/controls",
     "model_name": "DescriptionStyleModel",
     "model_module_version": "1.5.0",
     "state": {
      "_view_name": "StyleView",
      "_model_name": "DescriptionStyleModel",
      "description_width": "",
      "_view_module": "@jupyter-widgets/base",
      "_model_module_version": "1.5.0",
      "_view_count": null,
      "_view_module_version": "1.2.0",
      "_model_module": "@jupyter-widgets/controls"
     }
    },
    "11fd7d10b869494c977eeff998a05c6d": {
     "model_module": "@jupyter-widgets/base",
     "model_name": "LayoutModel",
     "model_module_version": "1.2.0",
     "state": {
      "_view_name": "LayoutView",
      "grid_template_rows": null,
      "right": null,
      "justify_content": null,
      "_view_module": "@jupyter-widgets/base",
      "overflow": null,
      "_model_module_version": "1.2.0",
      "_view_count": null,
      "flex_flow": null,
      "width": null,
      "min_width": null,
      "border": null,
      "align_items": null,
      "bottom": null,
      "_model_module": "@jupyter-widgets/base",
      "top": null,
      "grid_column": null,
      "overflow_y": null,
      "overflow_x": null,
      "grid_auto_flow": null,
      "grid_area": null,
      "grid_template_columns": null,
      "flex": null,
      "_model_name": "LayoutModel",
      "justify_items": null,
      "grid_row": null,
      "max_height": null,
      "align_content": null,
      "visibility": null,
      "align_self": null,
      "height": null,
      "min_height": null,
      "padding": null,
      "grid_auto_rows": null,
      "grid_gap": null,
      "max_width": null,
      "order": null,
      "_view_module_version": "1.2.0",
      "grid_template_areas": null,
      "object_position": null,
      "object_fit": null,
      "grid_auto_columns": null,
      "margin": null,
      "display": null,
      "left": null
     }
    },
    "66830714c7c043f38e896e8dc30b2922": {
     "model_module": "@jupyter-widgets/controls",
     "model_name": "ProgressStyleModel",
     "model_module_version": "1.5.0",
     "state": {
      "_view_name": "StyleView",
      "_model_name": "ProgressStyleModel",
      "description_width": "",
      "_view_module": "@jupyter-widgets/base",
      "_model_module_version": "1.5.0",
      "_view_count": null,
      "_view_module_version": "1.2.0",
      "bar_color": null,
      "_model_module": "@jupyter-widgets/controls"
     }
    },
    "e6b09548282748d4a254c426953948d3": {
     "model_module": "@jupyter-widgets/base",
     "model_name": "LayoutModel",
     "model_module_version": "1.2.0",
     "state": {
      "_view_name": "LayoutView",
      "grid_template_rows": null,
      "right": null,
      "justify_content": null,
      "_view_module": "@jupyter-widgets/base",
      "overflow": null,
      "_model_module_version": "1.2.0",
      "_view_count": null,
      "flex_flow": null,
      "width": null,
      "min_width": null,
      "border": null,
      "align_items": null,
      "bottom": null,
      "_model_module": "@jupyter-widgets/base",
      "top": null,
      "grid_column": null,
      "overflow_y": null,
      "overflow_x": null,
      "grid_auto_flow": null,
      "grid_area": null,
      "grid_template_columns": null,
      "flex": null,
      "_model_name": "LayoutModel",
      "justify_items": null,
      "grid_row": null,
      "max_height": null,
      "align_content": null,
      "visibility": null,
      "align_self": null,
      "height": null,
      "min_height": null,
      "padding": null,
      "grid_auto_rows": null,
      "grid_gap": null,
      "max_width": null,
      "order": null,
      "_view_module_version": "1.2.0",
      "grid_template_areas": null,
      "object_position": null,
      "object_fit": null,
      "grid_auto_columns": null,
      "margin": null,
      "display": null,
      "left": null
     }
    },
    "ae5c45d87bcb4c5aaa030d22538c024d": {
     "model_module": "@jupyter-widgets/controls",
     "model_name": "DescriptionStyleModel",
     "model_module_version": "1.5.0",
     "state": {
      "_view_name": "StyleView",
      "_model_name": "DescriptionStyleModel",
      "description_width": "",
      "_view_module": "@jupyter-widgets/base",
      "_model_module_version": "1.5.0",
      "_view_count": null,
      "_view_module_version": "1.2.0",
      "_model_module": "@jupyter-widgets/controls"
     }
    },
    "261038562a704cc39102d095eb56432e": {
     "model_module": "@jupyter-widgets/base",
     "model_name": "LayoutModel",
     "model_module_version": "1.2.0",
     "state": {
      "_view_name": "LayoutView",
      "grid_template_rows": null,
      "right": null,
      "justify_content": null,
      "_view_module": "@jupyter-widgets/base",
      "overflow": null,
      "_model_module_version": "1.2.0",
      "_view_count": null,
      "flex_flow": null,
      "width": null,
      "min_width": null,
      "border": null,
      "align_items": null,
      "bottom": null,
      "_model_module": "@jupyter-widgets/base",
      "top": null,
      "grid_column": null,
      "overflow_y": null,
      "overflow_x": null,
      "grid_auto_flow": null,
      "grid_area": null,
      "grid_template_columns": null,
      "flex": null,
      "_model_name": "LayoutModel",
      "justify_items": null,
      "grid_row": null,
      "max_height": null,
      "align_content": null,
      "visibility": null,
      "align_self": null,
      "height": null,
      "min_height": null,
      "padding": null,
      "grid_auto_rows": null,
      "grid_gap": null,
      "max_width": null,
      "order": null,
      "_view_module_version": "1.2.0",
      "grid_template_areas": null,
      "object_position": null,
      "object_fit": null,
      "grid_auto_columns": null,
      "margin": null,
      "display": null,
      "left": null
     }
    },
    "43f012312b344061a55dd7919d4f0372": {
     "model_module": "@jupyter-widgets/controls",
     "model_name": "HBoxModel",
     "model_module_version": "1.5.0",
     "state": {
      "_view_name": "HBoxView",
      "_dom_classes": [],
      "_model_name": "HBoxModel",
      "_view_module": "@jupyter-widgets/controls",
      "_model_module_version": "1.5.0",
      "_view_count": null,
      "_view_module_version": "1.5.0",
      "box_style": "",
      "layout": "IPY_MODEL_4c0415f737004806a67ae8bdf8455881",
      "_model_module": "@jupyter-widgets/controls",
      "children": [
       "IPY_MODEL_2dd6f9f81e1449c8a8a2c9accb1e2bd0",
       "IPY_MODEL_d0a179bee5914cab9416a01705caa53e",
       "IPY_MODEL_1b43d58473a945d2aa2456891c1ba589"
      ]
     }
    },
    "4c0415f737004806a67ae8bdf8455881": {
     "model_module": "@jupyter-widgets/base",
     "model_name": "LayoutModel",
     "model_module_version": "1.2.0",
     "state": {
      "_view_name": "LayoutView",
      "grid_template_rows": null,
      "right": null,
      "justify_content": null,
      "_view_module": "@jupyter-widgets/base",
      "overflow": null,
      "_model_module_version": "1.2.0",
      "_view_count": null,
      "flex_flow": null,
      "width": null,
      "min_width": null,
      "border": null,
      "align_items": null,
      "bottom": null,
      "_model_module": "@jupyter-widgets/base",
      "top": null,
      "grid_column": null,
      "overflow_y": null,
      "overflow_x": null,
      "grid_auto_flow": null,
      "grid_area": null,
      "grid_template_columns": null,
      "flex": null,
      "_model_name": "LayoutModel",
      "justify_items": null,
      "grid_row": null,
      "max_height": null,
      "align_content": null,
      "visibility": null,
      "align_self": null,
      "height": null,
      "min_height": null,
      "padding": null,
      "grid_auto_rows": null,
      "grid_gap": null,
      "max_width": null,
      "order": null,
      "_view_module_version": "1.2.0",
      "grid_template_areas": null,
      "object_position": null,
      "object_fit": null,
      "grid_auto_columns": null,
      "margin": null,
      "display": null,
      "left": null
     }
    },
    "2dd6f9f81e1449c8a8a2c9accb1e2bd0": {
     "model_module": "@jupyter-widgets/controls",
     "model_name": "HTMLModel",
     "model_module_version": "1.5.0",
     "state": {
      "_view_name": "HTMLView",
      "style": "IPY_MODEL_c98894195fd74b6f9874f9e4e3db32bf",
      "_dom_classes": [],
      "description": "",
      "_model_name": "HTMLModel",
      "placeholder": "​",
      "_view_module": "@jupyter-widgets/controls",
      "_model_module_version": "1.5.0",
      "value": "100%",
      "_view_count": null,
      "_view_module_version": "1.5.0",
      "description_tooltip": null,
      "_model_module": "@jupyter-widgets/controls",
      "layout": "IPY_MODEL_741523278bf04675b8304a6d45eee98a"
     }
    },
    "d0a179bee5914cab9416a01705caa53e": {
     "model_module": "@jupyter-widgets/controls",
     "model_name": "FloatProgressModel",
     "model_module_version": "1.5.0",
     "state": {
      "_view_name": "ProgressView",
      "style": "IPY_MODEL_6f838487aee74b43b5d502d456b56ddc",
      "_dom_classes": [],
      "description": "",
      "_model_name": "FloatProgressModel",
      "bar_style": "success",
      "max": 7,
      "_view_module": "@jupyter-widgets/controls",
      "_model_module_version": "1.5.0",
      "value": 7,
      "_view_count": null,
      "_view_module_version": "1.5.0",
      "orientation": "horizontal",
      "min": 0,
      "description_tooltip": null,
      "_model_module": "@jupyter-widgets/controls",
      "layout": "IPY_MODEL_2b5c5b0c493b4e27a46c7230231a35d5"
     }
    },
    "1b43d58473a945d2aa2456891c1ba589": {
     "model_module": "@jupyter-widgets/controls",
     "model_name": "HTMLModel",
     "model_module_version": "1.5.0",
     "state": {
      "_view_name": "HTMLView",
      "style": "IPY_MODEL_a78d78730f364db29642401ca47e30d0",
      "_dom_classes": [],
      "description": "",
      "_model_name": "HTMLModel",
      "placeholder": "​",
      "_view_module": "@jupyter-widgets/controls",
      "_model_module_version": "1.5.0",
      "value": " 7/7 [00:42&lt;00:00,  6.01s/it]",
      "_view_count": null,
      "_view_module_version": "1.5.0",
      "description_tooltip": null,
      "_model_module": "@jupyter-widgets/controls",
      "layout": "IPY_MODEL_532db55f4845496eb15aec36c9e6a1cd"
     }
    },
    "c98894195fd74b6f9874f9e4e3db32bf": {
     "model_module": "@jupyter-widgets/controls",
     "model_name": "DescriptionStyleModel",
     "model_module_version": "1.5.0",
     "state": {
      "_view_name": "StyleView",
      "_model_name": "DescriptionStyleModel",
      "description_width": "",
      "_view_module": "@jupyter-widgets/base",
      "_model_module_version": "1.5.0",
      "_view_count": null,
      "_view_module_version": "1.2.0",
      "_model_module": "@jupyter-widgets/controls"
     }
    },
    "741523278bf04675b8304a6d45eee98a": {
     "model_module": "@jupyter-widgets/base",
     "model_name": "LayoutModel",
     "model_module_version": "1.2.0",
     "state": {
      "_view_name": "LayoutView",
      "grid_template_rows": null,
      "right": null,
      "justify_content": null,
      "_view_module": "@jupyter-widgets/base",
      "overflow": null,
      "_model_module_version": "1.2.0",
      "_view_count": null,
      "flex_flow": null,
      "width": null,
      "min_width": null,
      "border": null,
      "align_items": null,
      "bottom": null,
      "_model_module": "@jupyter-widgets/base",
      "top": null,
      "grid_column": null,
      "overflow_y": null,
      "overflow_x": null,
      "grid_auto_flow": null,
      "grid_area": null,
      "grid_template_columns": null,
      "flex": null,
      "_model_name": "LayoutModel",
      "justify_items": null,
      "grid_row": null,
      "max_height": null,
      "align_content": null,
      "visibility": null,
      "align_self": null,
      "height": null,
      "min_height": null,
      "padding": null,
      "grid_auto_rows": null,
      "grid_gap": null,
      "max_width": null,
      "order": null,
      "_view_module_version": "1.2.0",
      "grid_template_areas": null,
      "object_position": null,
      "object_fit": null,
      "grid_auto_columns": null,
      "margin": null,
      "display": null,
      "left": null
     }
    },
    "6f838487aee74b43b5d502d456b56ddc": {
     "model_module": "@jupyter-widgets/controls",
     "model_name": "ProgressStyleModel",
     "model_module_version": "1.5.0",
     "state": {
      "_view_name": "StyleView",
      "_model_name": "ProgressStyleModel",
      "description_width": "",
      "_view_module": "@jupyter-widgets/base",
      "_model_module_version": "1.5.0",
      "_view_count": null,
      "_view_module_version": "1.2.0",
      "bar_color": null,
      "_model_module": "@jupyter-widgets/controls"
     }
    },
    "2b5c5b0c493b4e27a46c7230231a35d5": {
     "model_module": "@jupyter-widgets/base",
     "model_name": "LayoutModel",
     "model_module_version": "1.2.0",
     "state": {
      "_view_name": "LayoutView",
      "grid_template_rows": null,
      "right": null,
      "justify_content": null,
      "_view_module": "@jupyter-widgets/base",
      "overflow": null,
      "_model_module_version": "1.2.0",
      "_view_count": null,
      "flex_flow": null,
      "width": null,
      "min_width": null,
      "border": null,
      "align_items": null,
      "bottom": null,
      "_model_module": "@jupyter-widgets/base",
      "top": null,
      "grid_column": null,
      "overflow_y": null,
      "overflow_x": null,
      "grid_auto_flow": null,
      "grid_area": null,
      "grid_template_columns": null,
      "flex": null,
      "_model_name": "LayoutModel",
      "justify_items": null,
      "grid_row": null,
      "max_height": null,
      "align_content": null,
      "visibility": null,
      "align_self": null,
      "height": null,
      "min_height": null,
      "padding": null,
      "grid_auto_rows": null,
      "grid_gap": null,
      "max_width": null,
      "order": null,
      "_view_module_version": "1.2.0",
      "grid_template_areas": null,
      "object_position": null,
      "object_fit": null,
      "grid_auto_columns": null,
      "margin": null,
      "display": null,
      "left": null
     }
    },
    "a78d78730f364db29642401ca47e30d0": {
     "model_module": "@jupyter-widgets/controls",
     "model_name": "DescriptionStyleModel",
     "model_module_version": "1.5.0",
     "state": {
      "_view_name": "StyleView",
      "_model_name": "DescriptionStyleModel",
      "description_width": "",
      "_view_module": "@jupyter-widgets/base",
      "_model_module_version": "1.5.0",
      "_view_count": null,
      "_view_module_version": "1.2.0",
      "_model_module": "@jupyter-widgets/controls"
     }
    },
    "532db55f4845496eb15aec36c9e6a1cd": {
     "model_module": "@jupyter-widgets/base",
     "model_name": "LayoutModel",
     "model_module_version": "1.2.0",
     "state": {
      "_view_name": "LayoutView",
      "grid_template_rows": null,
      "right": null,
      "justify_content": null,
      "_view_module": "@jupyter-widgets/base",
      "overflow": null,
      "_model_module_version": "1.2.0",
      "_view_count": null,
      "flex_flow": null,
      "width": null,
      "min_width": null,
      "border": null,
      "align_items": null,
      "bottom": null,
      "_model_module": "@jupyter-widgets/base",
      "top": null,
      "grid_column": null,
      "overflow_y": null,
      "overflow_x": null,
      "grid_auto_flow": null,
      "grid_area": null,
      "grid_template_columns": null,
      "flex": null,
      "_model_name": "LayoutModel",
      "justify_items": null,
      "grid_row": null,
      "max_height": null,
      "align_content": null,
      "visibility": null,
      "align_self": null,
      "height": null,
      "min_height": null,
      "padding": null,
      "grid_auto_rows": null,
      "grid_gap": null,
      "max_width": null,
      "order": null,
      "_view_module_version": "1.2.0",
      "grid_template_areas": null,
      "object_position": null,
      "object_fit": null,
      "grid_auto_columns": null,
      "margin": null,
      "display": null,
      "left": null
     }
    },
    "c8233598e2b942619a816d53a97c733d": {
     "model_module": "@jupyter-widgets/controls",
     "model_name": "HBoxModel",
     "model_module_version": "1.5.0",
     "state": {
      "_view_name": "HBoxView",
      "_dom_classes": [],
      "_model_name": "HBoxModel",
      "_view_module": "@jupyter-widgets/controls",
      "_model_module_version": "1.5.0",
      "_view_count": null,
      "_view_module_version": "1.5.0",
      "box_style": "",
      "layout": "IPY_MODEL_9a4e44d4c12f43c4af571cddd40ee3c2",
      "_model_module": "@jupyter-widgets/controls",
      "children": [
       "IPY_MODEL_a55476e38bf54c8b900dd7773f2b21ca",
       "IPY_MODEL_5262debbd3994f7ea2891a226a1499dd",
       "IPY_MODEL_11321901ecf64a34b12aca71738290bc"
      ]
     }
    },
    "9a4e44d4c12f43c4af571cddd40ee3c2": {
     "model_module": "@jupyter-widgets/base",
     "model_name": "LayoutModel",
     "model_module_version": "1.2.0",
     "state": {
      "_view_name": "LayoutView",
      "grid_template_rows": null,
      "right": null,
      "justify_content": null,
      "_view_module": "@jupyter-widgets/base",
      "overflow": null,
      "_model_module_version": "1.2.0",
      "_view_count": null,
      "flex_flow": null,
      "width": null,
      "min_width": null,
      "border": null,
      "align_items": null,
      "bottom": null,
      "_model_module": "@jupyter-widgets/base",
      "top": null,
      "grid_column": null,
      "overflow_y": null,
      "overflow_x": null,
      "grid_auto_flow": null,
      "grid_area": null,
      "grid_template_columns": null,
      "flex": null,
      "_model_name": "LayoutModel",
      "justify_items": null,
      "grid_row": null,
      "max_height": null,
      "align_content": null,
      "visibility": null,
      "align_self": null,
      "height": null,
      "min_height": null,
      "padding": null,
      "grid_auto_rows": null,
      "grid_gap": null,
      "max_width": null,
      "order": null,
      "_view_module_version": "1.2.0",
      "grid_template_areas": null,
      "object_position": null,
      "object_fit": null,
      "grid_auto_columns": null,
      "margin": null,
      "display": null,
      "left": null
     }
    },
    "a55476e38bf54c8b900dd7773f2b21ca": {
     "model_module": "@jupyter-widgets/controls",
     "model_name": "HTMLModel",
     "model_module_version": "1.5.0",
     "state": {
      "_view_name": "HTMLView",
      "style": "IPY_MODEL_10ac7493e4994d44bd5f3304c9fec520",
      "_dom_classes": [],
      "description": "",
      "_model_name": "HTMLModel",
      "placeholder": "​",
      "_view_module": "@jupyter-widgets/controls",
      "_model_module_version": "1.5.0",
      "value": "100%",
      "_view_count": null,
      "_view_module_version": "1.5.0",
      "description_tooltip": null,
      "_model_module": "@jupyter-widgets/controls",
      "layout": "IPY_MODEL_f3cd56bba7ee4ba6831014749af1ec8b"
     }
    },
    "5262debbd3994f7ea2891a226a1499dd": {
     "model_module": "@jupyter-widgets/controls",
     "model_name": "FloatProgressModel",
     "model_module_version": "1.5.0",
     "state": {
      "_view_name": "ProgressView",
      "style": "IPY_MODEL_548ff72f89f74a789ee2b66221bf89d5",
      "_dom_classes": [],
      "description": "",
      "_model_name": "FloatProgressModel",
      "bar_style": "success",
      "max": 7,
      "_view_module": "@jupyter-widgets/controls",
      "_model_module_version": "1.5.0",
      "value": 7,
      "_view_count": null,
      "_view_module_version": "1.5.0",
      "orientation": "horizontal",
      "min": 0,
      "description_tooltip": null,
      "_model_module": "@jupyter-widgets/controls",
      "layout": "IPY_MODEL_5ddf2e9948d840ca9446c7d3e2fee074"
     }
    },
    "11321901ecf64a34b12aca71738290bc": {
     "model_module": "@jupyter-widgets/controls",
     "model_name": "HTMLModel",
     "model_module_version": "1.5.0",
     "state": {
      "_view_name": "HTMLView",
      "style": "IPY_MODEL_70220eae36eb41f8b576ae7c55569c93",
      "_dom_classes": [],
      "description": "",
      "_model_name": "HTMLModel",
      "placeholder": "​",
      "_view_module": "@jupyter-widgets/controls",
      "_model_module_version": "1.5.0",
      "value": " 7/7 [03:49&lt;00:00, 34.54s/it]",
      "_view_count": null,
      "_view_module_version": "1.5.0",
      "description_tooltip": null,
      "_model_module": "@jupyter-widgets/controls",
      "layout": "IPY_MODEL_4a68a68563c74320ab4929eb156d2caa"
     }
    },
    "10ac7493e4994d44bd5f3304c9fec520": {
     "model_module": "@jupyter-widgets/controls",
     "model_name": "DescriptionStyleModel",
     "model_module_version": "1.5.0",
     "state": {
      "_view_name": "StyleView",
      "_model_name": "DescriptionStyleModel",
      "description_width": "",
      "_view_module": "@jupyter-widgets/base",
      "_model_module_version": "1.5.0",
      "_view_count": null,
      "_view_module_version": "1.2.0",
      "_model_module": "@jupyter-widgets/controls"
     }
    },
    "f3cd56bba7ee4ba6831014749af1ec8b": {
     "model_module": "@jupyter-widgets/base",
     "model_name": "LayoutModel",
     "model_module_version": "1.2.0",
     "state": {
      "_view_name": "LayoutView",
      "grid_template_rows": null,
      "right": null,
      "justify_content": null,
      "_view_module": "@jupyter-widgets/base",
      "overflow": null,
      "_model_module_version": "1.2.0",
      "_view_count": null,
      "flex_flow": null,
      "width": null,
      "min_width": null,
      "border": null,
      "align_items": null,
      "bottom": null,
      "_model_module": "@jupyter-widgets/base",
      "top": null,
      "grid_column": null,
      "overflow_y": null,
      "overflow_x": null,
      "grid_auto_flow": null,
      "grid_area": null,
      "grid_template_columns": null,
      "flex": null,
      "_model_name": "LayoutModel",
      "justify_items": null,
      "grid_row": null,
      "max_height": null,
      "align_content": null,
      "visibility": null,
      "align_self": null,
      "height": null,
      "min_height": null,
      "padding": null,
      "grid_auto_rows": null,
      "grid_gap": null,
      "max_width": null,
      "order": null,
      "_view_module_version": "1.2.0",
      "grid_template_areas": null,
      "object_position": null,
      "object_fit": null,
      "grid_auto_columns": null,
      "margin": null,
      "display": null,
      "left": null
     }
    },
    "548ff72f89f74a789ee2b66221bf89d5": {
     "model_module": "@jupyter-widgets/controls",
     "model_name": "ProgressStyleModel",
     "model_module_version": "1.5.0",
     "state": {
      "_view_name": "StyleView",
      "_model_name": "ProgressStyleModel",
      "description_width": "",
      "_view_module": "@jupyter-widgets/base",
      "_model_module_version": "1.5.0",
      "_view_count": null,
      "_view_module_version": "1.2.0",
      "bar_color": null,
      "_model_module": "@jupyter-widgets/controls"
     }
    },
    "5ddf2e9948d840ca9446c7d3e2fee074": {
     "model_module": "@jupyter-widgets/base",
     "model_name": "LayoutModel",
     "model_module_version": "1.2.0",
     "state": {
      "_view_name": "LayoutView",
      "grid_template_rows": null,
      "right": null,
      "justify_content": null,
      "_view_module": "@jupyter-widgets/base",
      "overflow": null,
      "_model_module_version": "1.2.0",
      "_view_count": null,
      "flex_flow": null,
      "width": null,
      "min_width": null,
      "border": null,
      "align_items": null,
      "bottom": null,
      "_model_module": "@jupyter-widgets/base",
      "top": null,
      "grid_column": null,
      "overflow_y": null,
      "overflow_x": null,
      "grid_auto_flow": null,
      "grid_area": null,
      "grid_template_columns": null,
      "flex": null,
      "_model_name": "LayoutModel",
      "justify_items": null,
      "grid_row": null,
      "max_height": null,
      "align_content": null,
      "visibility": null,
      "align_self": null,
      "height": null,
      "min_height": null,
      "padding": null,
      "grid_auto_rows": null,
      "grid_gap": null,
      "max_width": null,
      "order": null,
      "_view_module_version": "1.2.0",
      "grid_template_areas": null,
      "object_position": null,
      "object_fit": null,
      "grid_auto_columns": null,
      "margin": null,
      "display": null,
      "left": null
     }
    },
    "70220eae36eb41f8b576ae7c55569c93": {
     "model_module": "@jupyter-widgets/controls",
     "model_name": "DescriptionStyleModel",
     "model_module_version": "1.5.0",
     "state": {
      "_view_name": "StyleView",
      "_model_name": "DescriptionStyleModel",
      "description_width": "",
      "_view_module": "@jupyter-widgets/base",
      "_model_module_version": "1.5.0",
      "_view_count": null,
      "_view_module_version": "1.2.0",
      "_model_module": "@jupyter-widgets/controls"
     }
    },
    "4a68a68563c74320ab4929eb156d2caa": {
     "model_module": "@jupyter-widgets/base",
     "model_name": "LayoutModel",
     "model_module_version": "1.2.0",
     "state": {
      "_view_name": "LayoutView",
      "grid_template_rows": null,
      "right": null,
      "justify_content": null,
      "_view_module": "@jupyter-widgets/base",
      "overflow": null,
      "_model_module_version": "1.2.0",
      "_view_count": null,
      "flex_flow": null,
      "width": null,
      "min_width": null,
      "border": null,
      "align_items": null,
      "bottom": null,
      "_model_module": "@jupyter-widgets/base",
      "top": null,
      "grid_column": null,
      "overflow_y": null,
      "overflow_x": null,
      "grid_auto_flow": null,
      "grid_area": null,
      "grid_template_columns": null,
      "flex": null,
      "_model_name": "LayoutModel",
      "justify_items": null,
      "grid_row": null,
      "max_height": null,
      "align_content": null,
      "visibility": null,
      "align_self": null,
      "height": null,
      "min_height": null,
      "padding": null,
      "grid_auto_rows": null,
      "grid_gap": null,
      "max_width": null,
      "order": null,
      "_view_module_version": "1.2.0",
      "grid_template_areas": null,
      "object_position": null,
      "object_fit": null,
      "grid_auto_columns": null,
      "margin": null,
      "display": null,
      "left": null
     }
    }
   }
  }
 }
}