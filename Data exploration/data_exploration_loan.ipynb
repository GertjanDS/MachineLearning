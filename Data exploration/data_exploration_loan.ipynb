{
 "cells": [
  {
   "cell_type": "code",
   "metadata": {
    "tags": [],
    "cell_id": "00000-c0183036-0733-4d19-b31e-f815a5336dfb",
    "deepnote_to_be_reexecuted": false,
    "source_hash": "b7858e6a",
    "execution_start": 1636293311416,
    "execution_millis": 1369,
    "deepnote_cell_type": "code"
   },
   "source": "from sklearn import datasets\nimport pandas as pd\nimport matplotlib.pyplot as plt\nimport seaborn as sns\nfrom sklearn.preprocessing import StandardScaler",
   "outputs": [],
   "execution_count": null
  },
  {
   "cell_type": "code",
   "metadata": {
    "tags": [],
    "cell_id": "00001-07a259cd-3268-4c33-ba1a-953840e94600",
    "deepnote_to_be_reexecuted": false,
    "source_hash": "c8b35ad8",
    "execution_start": 1636293312793,
    "execution_millis": 18,
    "deepnote_cell_type": "code"
   },
   "source": "df = pd.read_csv('../loan_data_set.csv')\ndf.columns",
   "outputs": [
    {
     "output_type": "execute_result",
     "execution_count": 2,
     "data": {
      "text/plain": "Index(['Loan_ID', 'Gender', 'Married', 'Dependents', 'Education',\n       'Self_Employed', 'ApplicantIncome', 'CoapplicantIncome', 'LoanAmount',\n       'Loan_Amount_Term', 'Credit_History', 'Property_Area', 'Loan_Status'],\n      dtype='object')"
     },
     "metadata": {}
    }
   ],
   "execution_count": null
  },
  {
   "cell_type": "code",
   "metadata": {
    "tags": [],
    "cell_id": "00002-eff36e07-a12f-4391-babb-78d44f563c6d",
    "deepnote_to_be_reexecuted": false,
    "source_hash": "f804c160",
    "execution_start": 1636293312816,
    "execution_millis": 97,
    "deepnote_cell_type": "code"
   },
   "source": "df",
   "outputs": [
    {
     "output_type": "execute_result",
     "execution_count": 3,
     "data": {
      "application/vnd.deepnote.dataframe.v2+json": {
       "row_count": 614,
       "column_count": 13,
       "columns": [
        {
         "name": "Loan_ID",
         "dtype": "object",
         "stats": {
          "unique_count": 614,
          "nan_count": 0,
          "categories": [
           {
            "name": "LP001002",
            "count": 1
           },
           {
            "name": "LP001003",
            "count": 1
           },
           {
            "name": "612 others",
            "count": 612
           }
          ]
         }
        },
        {
         "name": "Gender",
         "dtype": "object",
         "stats": {
          "unique_count": 2,
          "nan_count": 13,
          "categories": [
           {
            "name": "Male",
            "count": 489
           },
           {
            "name": "Female",
            "count": 112
           },
           {
            "name": "Missing",
            "count": 13
           }
          ]
         }
        },
        {
         "name": "Married",
         "dtype": "object",
         "stats": {
          "unique_count": 2,
          "nan_count": 3,
          "categories": [
           {
            "name": "Yes",
            "count": 398
           },
           {
            "name": "No",
            "count": 213
           },
           {
            "name": "Missing",
            "count": 3
           }
          ]
         }
        },
        {
         "name": "Dependents",
         "dtype": "object",
         "stats": {
          "unique_count": 4,
          "nan_count": 15,
          "categories": [
           {
            "name": "0",
            "count": 345
           },
           {
            "name": "3 others",
            "count": 254
           },
           {
            "name": "Missing",
            "count": 15
           }
          ]
         }
        },
        {
         "name": "Education",
         "dtype": "object",
         "stats": {
          "unique_count": 2,
          "nan_count": 0,
          "categories": [
           {
            "name": "Graduate",
            "count": 480
           },
           {
            "name": "Not Graduate",
            "count": 134
           }
          ]
         }
        },
        {
         "name": "Self_Employed",
         "dtype": "object",
         "stats": {
          "unique_count": 2,
          "nan_count": 32,
          "categories": [
           {
            "name": "No",
            "count": 500
           },
           {
            "name": "Yes",
            "count": 82
           },
           {
            "name": "Missing",
            "count": 32
           }
          ]
         }
        },
        {
         "name": "ApplicantIncome",
         "dtype": "int64",
         "stats": {
          "unique_count": 505,
          "nan_count": 0,
          "min": "150",
          "max": "81000",
          "histogram": [
           {
            "bin_start": 150,
            "bin_end": 8235,
            "count": 533
           },
           {
            "bin_start": 8235,
            "bin_end": 16320,
            "count": 59
           },
           {
            "bin_start": 16320,
            "bin_end": 24405,
            "count": 15
           },
           {
            "bin_start": 24405,
            "bin_end": 32490,
            "count": 0
           },
           {
            "bin_start": 32490,
            "bin_end": 40575,
            "count": 4
           },
           {
            "bin_start": 40575,
            "bin_end": 48660,
            "count": 0
           },
           {
            "bin_start": 48660,
            "bin_end": 56745,
            "count": 1
           },
           {
            "bin_start": 56745,
            "bin_end": 64830,
            "count": 1
           },
           {
            "bin_start": 64830,
            "bin_end": 72915,
            "count": 0
           },
           {
            "bin_start": 72915,
            "bin_end": 81000,
            "count": 1
           }
          ]
         }
        },
        {
         "name": "CoapplicantIncome",
         "dtype": "float64",
         "stats": {
          "unique_count": 287,
          "nan_count": 0,
          "min": "0.0",
          "max": "41667.0",
          "histogram": [
           {
            "bin_start": 0,
            "bin_end": 4166.7,
            "count": 561
           },
           {
            "bin_start": 4166.7,
            "bin_end": 8333.4,
            "count": 46
           },
           {
            "bin_start": 8333.4,
            "bin_end": 12500.099999999999,
            "count": 3
           },
           {
            "bin_start": 12500.099999999999,
            "bin_end": 16666.8,
            "count": 0
           },
           {
            "bin_start": 16666.8,
            "bin_end": 20833.5,
            "count": 2
           },
           {
            "bin_start": 20833.5,
            "bin_end": 25000.199999999997,
            "count": 0
           },
           {
            "bin_start": 25000.199999999997,
            "bin_end": 29166.899999999998,
            "count": 0
           },
           {
            "bin_start": 29166.899999999998,
            "bin_end": 33333.6,
            "count": 0
           },
           {
            "bin_start": 33333.6,
            "bin_end": 37500.299999999996,
            "count": 1
           },
           {
            "bin_start": 37500.299999999996,
            "bin_end": 41667,
            "count": 1
           }
          ]
         }
        },
        {
         "name": "LoanAmount",
         "dtype": "float64",
         "stats": {
          "unique_count": 203,
          "nan_count": 22,
          "min": "9.0",
          "max": "700.0",
          "histogram": [
           {
            "bin_start": 9,
            "bin_end": 78.1,
            "count": 72
           },
           {
            "bin_start": 78.1,
            "bin_end": 147.2,
            "count": 310
           },
           {
            "bin_start": 147.2,
            "bin_end": 216.29999999999998,
            "count": 143
           },
           {
            "bin_start": 216.29999999999998,
            "bin_end": 285.4,
            "count": 33
           },
           {
            "bin_start": 285.4,
            "bin_end": 354.5,
            "count": 15
           },
           {
            "bin_start": 354.5,
            "bin_end": 423.59999999999997,
            "count": 6
           },
           {
            "bin_start": 423.59999999999997,
            "bin_end": 492.69999999999993,
            "count": 5
           },
           {
            "bin_start": 492.69999999999993,
            "bin_end": 561.8,
            "count": 3
           },
           {
            "bin_start": 561.8,
            "bin_end": 630.9,
            "count": 3
           },
           {
            "bin_start": 630.9,
            "bin_end": 700,
            "count": 2
           }
          ]
         }
        },
        {
         "name": "Loan_Amount_Term",
         "dtype": "float64",
         "stats": {
          "unique_count": 10,
          "nan_count": 14,
          "min": "12.0",
          "max": "480.0",
          "histogram": [
           {
            "bin_start": 12,
            "bin_end": 58.8,
            "count": 3
           },
           {
            "bin_start": 58.8,
            "bin_end": 105.6,
            "count": 6
           },
           {
            "bin_start": 105.6,
            "bin_end": 152.39999999999998,
            "count": 3
           },
           {
            "bin_start": 152.39999999999998,
            "bin_end": 199.2,
            "count": 44
           },
           {
            "bin_start": 199.2,
            "bin_end": 246,
            "count": 4
           },
           {
            "bin_start": 246,
            "bin_end": 292.79999999999995,
            "count": 0
           },
           {
            "bin_start": 292.79999999999995,
            "bin_end": 339.59999999999997,
            "count": 13
           },
           {
            "bin_start": 339.59999999999997,
            "bin_end": 386.4,
            "count": 512
           },
           {
            "bin_start": 386.4,
            "bin_end": 433.2,
            "count": 0
           },
           {
            "bin_start": 433.2,
            "bin_end": 480,
            "count": 15
           }
          ]
         }
        },
        {
         "name": "Credit_History",
         "dtype": "float64",
         "stats": {
          "unique_count": 2,
          "nan_count": 50,
          "min": "0.0",
          "max": "1.0",
          "histogram": [
           {
            "bin_start": 0,
            "bin_end": 0.1,
            "count": 89
           },
           {
            "bin_start": 0.1,
            "bin_end": 0.2,
            "count": 0
           },
           {
            "bin_start": 0.2,
            "bin_end": 0.30000000000000004,
            "count": 0
           },
           {
            "bin_start": 0.30000000000000004,
            "bin_end": 0.4,
            "count": 0
           },
           {
            "bin_start": 0.4,
            "bin_end": 0.5,
            "count": 0
           },
           {
            "bin_start": 0.5,
            "bin_end": 0.6000000000000001,
            "count": 0
           },
           {
            "bin_start": 0.6000000000000001,
            "bin_end": 0.7000000000000001,
            "count": 0
           },
           {
            "bin_start": 0.7000000000000001,
            "bin_end": 0.8,
            "count": 0
           },
           {
            "bin_start": 0.8,
            "bin_end": 0.9,
            "count": 0
           },
           {
            "bin_start": 0.9,
            "bin_end": 1,
            "count": 475
           }
          ]
         }
        },
        {
         "name": "Property_Area",
         "dtype": "object",
         "stats": {
          "unique_count": 3,
          "nan_count": 0,
          "categories": [
           {
            "name": "Semiurban",
            "count": 233
           },
           {
            "name": "Urban",
            "count": 202
           },
           {
            "name": "Rural",
            "count": 179
           }
          ]
         }
        },
        {
         "name": "Loan_Status",
         "dtype": "object",
         "stats": {
          "unique_count": 2,
          "nan_count": 0,
          "categories": [
           {
            "name": "Y",
            "count": 422
           },
           {
            "name": "N",
            "count": 192
           }
          ]
         }
        },
        {
         "name": "_deepnote_index_column",
         "dtype": "int64"
        }
       ],
       "rows_top": [
        {
         "Loan_ID": "LP001002",
         "Gender": "Male",
         "Married": "No",
         "Dependents": "0",
         "Education": "Graduate",
         "Self_Employed": "No",
         "ApplicantIncome": 5849,
         "CoapplicantIncome": 0,
         "LoanAmount": "nan",
         "Loan_Amount_Term": 360,
         "Credit_History": 1,
         "Property_Area": "Urban",
         "Loan_Status": "Y",
         "_deepnote_index_column": 0
        },
        {
         "Loan_ID": "LP001003",
         "Gender": "Male",
         "Married": "Yes",
         "Dependents": "1",
         "Education": "Graduate",
         "Self_Employed": "No",
         "ApplicantIncome": 4583,
         "CoapplicantIncome": 1508,
         "LoanAmount": 128,
         "Loan_Amount_Term": 360,
         "Credit_History": 1,
         "Property_Area": "Rural",
         "Loan_Status": "N",
         "_deepnote_index_column": 1
        },
        {
         "Loan_ID": "LP001005",
         "Gender": "Male",
         "Married": "Yes",
         "Dependents": "0",
         "Education": "Graduate",
         "Self_Employed": "Yes",
         "ApplicantIncome": 3000,
         "CoapplicantIncome": 0,
         "LoanAmount": 66,
         "Loan_Amount_Term": 360,
         "Credit_History": 1,
         "Property_Area": "Urban",
         "Loan_Status": "Y",
         "_deepnote_index_column": 2
        },
        {
         "Loan_ID": "LP001006",
         "Gender": "Male",
         "Married": "Yes",
         "Dependents": "0",
         "Education": "Not Graduate",
         "Self_Employed": "No",
         "ApplicantIncome": 2583,
         "CoapplicantIncome": 2358,
         "LoanAmount": 120,
         "Loan_Amount_Term": 360,
         "Credit_History": 1,
         "Property_Area": "Urban",
         "Loan_Status": "Y",
         "_deepnote_index_column": 3
        },
        {
         "Loan_ID": "LP001008",
         "Gender": "Male",
         "Married": "No",
         "Dependents": "0",
         "Education": "Graduate",
         "Self_Employed": "No",
         "ApplicantIncome": 6000,
         "CoapplicantIncome": 0,
         "LoanAmount": 141,
         "Loan_Amount_Term": 360,
         "Credit_History": 1,
         "Property_Area": "Urban",
         "Loan_Status": "Y",
         "_deepnote_index_column": 4
        },
        {
         "Loan_ID": "LP001011",
         "Gender": "Male",
         "Married": "Yes",
         "Dependents": "2",
         "Education": "Graduate",
         "Self_Employed": "Yes",
         "ApplicantIncome": 5417,
         "CoapplicantIncome": 4196,
         "LoanAmount": 267,
         "Loan_Amount_Term": 360,
         "Credit_History": 1,
         "Property_Area": "Urban",
         "Loan_Status": "Y",
         "_deepnote_index_column": 5
        },
        {
         "Loan_ID": "LP001013",
         "Gender": "Male",
         "Married": "Yes",
         "Dependents": "0",
         "Education": "Not Graduate",
         "Self_Employed": "No",
         "ApplicantIncome": 2333,
         "CoapplicantIncome": 1516,
         "LoanAmount": 95,
         "Loan_Amount_Term": 360,
         "Credit_History": 1,
         "Property_Area": "Urban",
         "Loan_Status": "Y",
         "_deepnote_index_column": 6
        },
        {
         "Loan_ID": "LP001014",
         "Gender": "Male",
         "Married": "Yes",
         "Dependents": "3+",
         "Education": "Graduate",
         "Self_Employed": "No",
         "ApplicantIncome": 3036,
         "CoapplicantIncome": 2504,
         "LoanAmount": 158,
         "Loan_Amount_Term": 360,
         "Credit_History": 0,
         "Property_Area": "Semiurban",
         "Loan_Status": "N",
         "_deepnote_index_column": 7
        },
        {
         "Loan_ID": "LP001018",
         "Gender": "Male",
         "Married": "Yes",
         "Dependents": "2",
         "Education": "Graduate",
         "Self_Employed": "No",
         "ApplicantIncome": 4006,
         "CoapplicantIncome": 1526,
         "LoanAmount": 168,
         "Loan_Amount_Term": 360,
         "Credit_History": 1,
         "Property_Area": "Urban",
         "Loan_Status": "Y",
         "_deepnote_index_column": 8
        },
        {
         "Loan_ID": "LP001020",
         "Gender": "Male",
         "Married": "Yes",
         "Dependents": "1",
         "Education": "Graduate",
         "Self_Employed": "No",
         "ApplicantIncome": 12841,
         "CoapplicantIncome": 10968,
         "LoanAmount": 349,
         "Loan_Amount_Term": 360,
         "Credit_History": 1,
         "Property_Area": "Semiurban",
         "Loan_Status": "N",
         "_deepnote_index_column": 9
        },
        {
         "Loan_ID": "LP001024",
         "Gender": "Male",
         "Married": "Yes",
         "Dependents": "2",
         "Education": "Graduate",
         "Self_Employed": "No",
         "ApplicantIncome": 3200,
         "CoapplicantIncome": 700,
         "LoanAmount": 70,
         "Loan_Amount_Term": 360,
         "Credit_History": 1,
         "Property_Area": "Urban",
         "Loan_Status": "Y",
         "_deepnote_index_column": 10
        },
        {
         "Loan_ID": "LP001027",
         "Gender": "Male",
         "Married": "Yes",
         "Dependents": "2",
         "Education": "Graduate",
         "Self_Employed": "nan",
         "ApplicantIncome": 2500,
         "CoapplicantIncome": 1840,
         "LoanAmount": 109,
         "Loan_Amount_Term": 360,
         "Credit_History": 1,
         "Property_Area": "Urban",
         "Loan_Status": "Y",
         "_deepnote_index_column": 11
        },
        {
         "Loan_ID": "LP001028",
         "Gender": "Male",
         "Married": "Yes",
         "Dependents": "2",
         "Education": "Graduate",
         "Self_Employed": "No",
         "ApplicantIncome": 3073,
         "CoapplicantIncome": 8106,
         "LoanAmount": 200,
         "Loan_Amount_Term": 360,
         "Credit_History": 1,
         "Property_Area": "Urban",
         "Loan_Status": "Y",
         "_deepnote_index_column": 12
        },
        {
         "Loan_ID": "LP001029",
         "Gender": "Male",
         "Married": "No",
         "Dependents": "0",
         "Education": "Graduate",
         "Self_Employed": "No",
         "ApplicantIncome": 1853,
         "CoapplicantIncome": 2840,
         "LoanAmount": 114,
         "Loan_Amount_Term": 360,
         "Credit_History": 1,
         "Property_Area": "Rural",
         "Loan_Status": "N",
         "_deepnote_index_column": 13
        },
        {
         "Loan_ID": "LP001030",
         "Gender": "Male",
         "Married": "Yes",
         "Dependents": "2",
         "Education": "Graduate",
         "Self_Employed": "No",
         "ApplicantIncome": 1299,
         "CoapplicantIncome": 1086,
         "LoanAmount": 17,
         "Loan_Amount_Term": 120,
         "Credit_History": 1,
         "Property_Area": "Urban",
         "Loan_Status": "Y",
         "_deepnote_index_column": 14
        },
        {
         "Loan_ID": "LP001032",
         "Gender": "Male",
         "Married": "No",
         "Dependents": "0",
         "Education": "Graduate",
         "Self_Employed": "No",
         "ApplicantIncome": 4950,
         "CoapplicantIncome": 0,
         "LoanAmount": 125,
         "Loan_Amount_Term": 360,
         "Credit_History": 1,
         "Property_Area": "Urban",
         "Loan_Status": "Y",
         "_deepnote_index_column": 15
        },
        {
         "Loan_ID": "LP001034",
         "Gender": "Male",
         "Married": "No",
         "Dependents": "1",
         "Education": "Not Graduate",
         "Self_Employed": "No",
         "ApplicantIncome": 3596,
         "CoapplicantIncome": 0,
         "LoanAmount": 100,
         "Loan_Amount_Term": 240,
         "Credit_History": "nan",
         "Property_Area": "Urban",
         "Loan_Status": "Y",
         "_deepnote_index_column": 16
        },
        {
         "Loan_ID": "LP001036",
         "Gender": "Female",
         "Married": "No",
         "Dependents": "0",
         "Education": "Graduate",
         "Self_Employed": "No",
         "ApplicantIncome": 3510,
         "CoapplicantIncome": 0,
         "LoanAmount": 76,
         "Loan_Amount_Term": 360,
         "Credit_History": 0,
         "Property_Area": "Urban",
         "Loan_Status": "N",
         "_deepnote_index_column": 17
        },
        {
         "Loan_ID": "LP001038",
         "Gender": "Male",
         "Married": "Yes",
         "Dependents": "0",
         "Education": "Not Graduate",
         "Self_Employed": "No",
         "ApplicantIncome": 4887,
         "CoapplicantIncome": 0,
         "LoanAmount": 133,
         "Loan_Amount_Term": 360,
         "Credit_History": 1,
         "Property_Area": "Rural",
         "Loan_Status": "N",
         "_deepnote_index_column": 18
        },
        {
         "Loan_ID": "LP001041",
         "Gender": "Male",
         "Married": "Yes",
         "Dependents": "0",
         "Education": "Graduate",
         "Self_Employed": "nan",
         "ApplicantIncome": 2600,
         "CoapplicantIncome": 3500,
         "LoanAmount": 115,
         "Loan_Amount_Term": "nan",
         "Credit_History": 1,
         "Property_Area": "Urban",
         "Loan_Status": "Y",
         "_deepnote_index_column": 19
        },
        {
         "Loan_ID": "LP001043",
         "Gender": "Male",
         "Married": "Yes",
         "Dependents": "0",
         "Education": "Not Graduate",
         "Self_Employed": "No",
         "ApplicantIncome": 7660,
         "CoapplicantIncome": 0,
         "LoanAmount": 104,
         "Loan_Amount_Term": 360,
         "Credit_History": 0,
         "Property_Area": "Urban",
         "Loan_Status": "N",
         "_deepnote_index_column": 20
        },
        {
         "Loan_ID": "LP001046",
         "Gender": "Male",
         "Married": "Yes",
         "Dependents": "1",
         "Education": "Graduate",
         "Self_Employed": "No",
         "ApplicantIncome": 5955,
         "CoapplicantIncome": 5625,
         "LoanAmount": 315,
         "Loan_Amount_Term": 360,
         "Credit_History": 1,
         "Property_Area": "Urban",
         "Loan_Status": "Y",
         "_deepnote_index_column": 21
        },
        {
         "Loan_ID": "LP001047",
         "Gender": "Male",
         "Married": "Yes",
         "Dependents": "0",
         "Education": "Not Graduate",
         "Self_Employed": "No",
         "ApplicantIncome": 2600,
         "CoapplicantIncome": 1911,
         "LoanAmount": 116,
         "Loan_Amount_Term": 360,
         "Credit_History": 0,
         "Property_Area": "Semiurban",
         "Loan_Status": "N",
         "_deepnote_index_column": 22
        },
        {
         "Loan_ID": "LP001050",
         "Gender": "nan",
         "Married": "Yes",
         "Dependents": "2",
         "Education": "Not Graduate",
         "Self_Employed": "No",
         "ApplicantIncome": 3365,
         "CoapplicantIncome": 1917,
         "LoanAmount": 112,
         "Loan_Amount_Term": 360,
         "Credit_History": 0,
         "Property_Area": "Rural",
         "Loan_Status": "N",
         "_deepnote_index_column": 23
        },
        {
         "Loan_ID": "LP001052",
         "Gender": "Male",
         "Married": "Yes",
         "Dependents": "1",
         "Education": "Graduate",
         "Self_Employed": "nan",
         "ApplicantIncome": 3717,
         "CoapplicantIncome": 2925,
         "LoanAmount": 151,
         "Loan_Amount_Term": 360,
         "Credit_History": "nan",
         "Property_Area": "Semiurban",
         "Loan_Status": "N",
         "_deepnote_index_column": 24
        },
        {
         "Loan_ID": "LP001066",
         "Gender": "Male",
         "Married": "Yes",
         "Dependents": "0",
         "Education": "Graduate",
         "Self_Employed": "Yes",
         "ApplicantIncome": 9560,
         "CoapplicantIncome": 0,
         "LoanAmount": 191,
         "Loan_Amount_Term": 360,
         "Credit_History": 1,
         "Property_Area": "Semiurban",
         "Loan_Status": "Y",
         "_deepnote_index_column": 25
        },
        {
         "Loan_ID": "LP001068",
         "Gender": "Male",
         "Married": "Yes",
         "Dependents": "0",
         "Education": "Graduate",
         "Self_Employed": "No",
         "ApplicantIncome": 2799,
         "CoapplicantIncome": 2253,
         "LoanAmount": 122,
         "Loan_Amount_Term": 360,
         "Credit_History": 1,
         "Property_Area": "Semiurban",
         "Loan_Status": "Y",
         "_deepnote_index_column": 26
        },
        {
         "Loan_ID": "LP001073",
         "Gender": "Male",
         "Married": "Yes",
         "Dependents": "2",
         "Education": "Not Graduate",
         "Self_Employed": "No",
         "ApplicantIncome": 4226,
         "CoapplicantIncome": 1040,
         "LoanAmount": 110,
         "Loan_Amount_Term": 360,
         "Credit_History": 1,
         "Property_Area": "Urban",
         "Loan_Status": "Y",
         "_deepnote_index_column": 27
        },
        {
         "Loan_ID": "LP001086",
         "Gender": "Male",
         "Married": "No",
         "Dependents": "0",
         "Education": "Not Graduate",
         "Self_Employed": "No",
         "ApplicantIncome": 1442,
         "CoapplicantIncome": 0,
         "LoanAmount": 35,
         "Loan_Amount_Term": 360,
         "Credit_History": 1,
         "Property_Area": "Urban",
         "Loan_Status": "N",
         "_deepnote_index_column": 28
        },
        {
         "Loan_ID": "LP001087",
         "Gender": "Female",
         "Married": "No",
         "Dependents": "2",
         "Education": "Graduate",
         "Self_Employed": "nan",
         "ApplicantIncome": 3750,
         "CoapplicantIncome": 2083,
         "LoanAmount": 120,
         "Loan_Amount_Term": 360,
         "Credit_History": 1,
         "Property_Area": "Semiurban",
         "Loan_Status": "Y",
         "_deepnote_index_column": 29
        },
        {
         "Loan_ID": "LP001091",
         "Gender": "Male",
         "Married": "Yes",
         "Dependents": "1",
         "Education": "Graduate",
         "Self_Employed": "nan",
         "ApplicantIncome": 4166,
         "CoapplicantIncome": 3369,
         "LoanAmount": 201,
         "Loan_Amount_Term": 360,
         "Credit_History": "nan",
         "Property_Area": "Urban",
         "Loan_Status": "N",
         "_deepnote_index_column": 30
        },
        {
         "Loan_ID": "LP001095",
         "Gender": "Male",
         "Married": "No",
         "Dependents": "0",
         "Education": "Graduate",
         "Self_Employed": "No",
         "ApplicantIncome": 3167,
         "CoapplicantIncome": 0,
         "LoanAmount": 74,
         "Loan_Amount_Term": 360,
         "Credit_History": 1,
         "Property_Area": "Urban",
         "Loan_Status": "N",
         "_deepnote_index_column": 31
        },
        {
         "Loan_ID": "LP001097",
         "Gender": "Male",
         "Married": "No",
         "Dependents": "1",
         "Education": "Graduate",
         "Self_Employed": "Yes",
         "ApplicantIncome": 4692,
         "CoapplicantIncome": 0,
         "LoanAmount": 106,
         "Loan_Amount_Term": 360,
         "Credit_History": 1,
         "Property_Area": "Rural",
         "Loan_Status": "N",
         "_deepnote_index_column": 32
        },
        {
         "Loan_ID": "LP001098",
         "Gender": "Male",
         "Married": "Yes",
         "Dependents": "0",
         "Education": "Graduate",
         "Self_Employed": "No",
         "ApplicantIncome": 3500,
         "CoapplicantIncome": 1667,
         "LoanAmount": 114,
         "Loan_Amount_Term": 360,
         "Credit_History": 1,
         "Property_Area": "Semiurban",
         "Loan_Status": "Y",
         "_deepnote_index_column": 33
        },
        {
         "Loan_ID": "LP001100",
         "Gender": "Male",
         "Married": "No",
         "Dependents": "3+",
         "Education": "Graduate",
         "Self_Employed": "No",
         "ApplicantIncome": 12500,
         "CoapplicantIncome": 3000,
         "LoanAmount": 320,
         "Loan_Amount_Term": 360,
         "Credit_History": 1,
         "Property_Area": "Rural",
         "Loan_Status": "N",
         "_deepnote_index_column": 34
        },
        {
         "Loan_ID": "LP001106",
         "Gender": "Male",
         "Married": "Yes",
         "Dependents": "0",
         "Education": "Graduate",
         "Self_Employed": "No",
         "ApplicantIncome": 2275,
         "CoapplicantIncome": 2067,
         "LoanAmount": "nan",
         "Loan_Amount_Term": 360,
         "Credit_History": 1,
         "Property_Area": "Urban",
         "Loan_Status": "Y",
         "_deepnote_index_column": 35
        },
        {
         "Loan_ID": "LP001109",
         "Gender": "Male",
         "Married": "Yes",
         "Dependents": "0",
         "Education": "Graduate",
         "Self_Employed": "No",
         "ApplicantIncome": 1828,
         "CoapplicantIncome": 1330,
         "LoanAmount": 100,
         "Loan_Amount_Term": "nan",
         "Credit_History": 0,
         "Property_Area": "Urban",
         "Loan_Status": "N",
         "_deepnote_index_column": 36
        },
        {
         "Loan_ID": "LP001112",
         "Gender": "Female",
         "Married": "Yes",
         "Dependents": "0",
         "Education": "Graduate",
         "Self_Employed": "No",
         "ApplicantIncome": 3667,
         "CoapplicantIncome": 1459,
         "LoanAmount": 144,
         "Loan_Amount_Term": 360,
         "Credit_History": 1,
         "Property_Area": "Semiurban",
         "Loan_Status": "Y",
         "_deepnote_index_column": 37
        }
       ],
       "rows_bottom": [
        {
         "Loan_ID": "LP002872",
         "Gender": "nan",
         "Married": "Yes",
         "Dependents": "0",
         "Education": "Graduate",
         "Self_Employed": "No",
         "ApplicantIncome": 3087,
         "CoapplicantIncome": 2210,
         "LoanAmount": 136,
         "Loan_Amount_Term": 360,
         "Credit_History": 0,
         "Property_Area": "Semiurban",
         "Loan_Status": "N",
         "_deepnote_index_column": 576
        },
        {
         "Loan_ID": "LP002874",
         "Gender": "Male",
         "Married": "No",
         "Dependents": "0",
         "Education": "Graduate",
         "Self_Employed": "No",
         "ApplicantIncome": 3229,
         "CoapplicantIncome": 2739,
         "LoanAmount": 110,
         "Loan_Amount_Term": 360,
         "Credit_History": 1,
         "Property_Area": "Urban",
         "Loan_Status": "Y",
         "_deepnote_index_column": 577
        },
        {
         "Loan_ID": "LP002877",
         "Gender": "Male",
         "Married": "Yes",
         "Dependents": "1",
         "Education": "Graduate",
         "Self_Employed": "No",
         "ApplicantIncome": 1782,
         "CoapplicantIncome": 2232,
         "LoanAmount": 107,
         "Loan_Amount_Term": 360,
         "Credit_History": 1,
         "Property_Area": "Rural",
         "Loan_Status": "Y",
         "_deepnote_index_column": 578
        },
        {
         "Loan_ID": "LP002888",
         "Gender": "Male",
         "Married": "No",
         "Dependents": "0",
         "Education": "Graduate",
         "Self_Employed": "nan",
         "ApplicantIncome": 3182,
         "CoapplicantIncome": 2917,
         "LoanAmount": 161,
         "Loan_Amount_Term": 360,
         "Credit_History": 1,
         "Property_Area": "Urban",
         "Loan_Status": "Y",
         "_deepnote_index_column": 579
        },
        {
         "Loan_ID": "LP002892",
         "Gender": "Male",
         "Married": "Yes",
         "Dependents": "2",
         "Education": "Graduate",
         "Self_Employed": "No",
         "ApplicantIncome": 6540,
         "CoapplicantIncome": 0,
         "LoanAmount": 205,
         "Loan_Amount_Term": 360,
         "Credit_History": 1,
         "Property_Area": "Semiurban",
         "Loan_Status": "Y",
         "_deepnote_index_column": 580
        },
        {
         "Loan_ID": "LP002893",
         "Gender": "Male",
         "Married": "No",
         "Dependents": "0",
         "Education": "Graduate",
         "Self_Employed": "No",
         "ApplicantIncome": 1836,
         "CoapplicantIncome": 33837,
         "LoanAmount": 90,
         "Loan_Amount_Term": 360,
         "Credit_History": 1,
         "Property_Area": "Urban",
         "Loan_Status": "N",
         "_deepnote_index_column": 581
        },
        {
         "Loan_ID": "LP002894",
         "Gender": "Female",
         "Married": "Yes",
         "Dependents": "0",
         "Education": "Graduate",
         "Self_Employed": "No",
         "ApplicantIncome": 3166,
         "CoapplicantIncome": 0,
         "LoanAmount": 36,
         "Loan_Amount_Term": 360,
         "Credit_History": 1,
         "Property_Area": "Semiurban",
         "Loan_Status": "Y",
         "_deepnote_index_column": 582
        },
        {
         "Loan_ID": "LP002898",
         "Gender": "Male",
         "Married": "Yes",
         "Dependents": "1",
         "Education": "Graduate",
         "Self_Employed": "No",
         "ApplicantIncome": 1880,
         "CoapplicantIncome": 0,
         "LoanAmount": 61,
         "Loan_Amount_Term": 360,
         "Credit_History": "nan",
         "Property_Area": "Rural",
         "Loan_Status": "N",
         "_deepnote_index_column": 583
        },
        {
         "Loan_ID": "LP002911",
         "Gender": "Male",
         "Married": "Yes",
         "Dependents": "1",
         "Education": "Graduate",
         "Self_Employed": "No",
         "ApplicantIncome": 2787,
         "CoapplicantIncome": 1917,
         "LoanAmount": 146,
         "Loan_Amount_Term": 360,
         "Credit_History": 0,
         "Property_Area": "Rural",
         "Loan_Status": "N",
         "_deepnote_index_column": 584
        },
        {
         "Loan_ID": "LP002912",
         "Gender": "Male",
         "Married": "Yes",
         "Dependents": "1",
         "Education": "Graduate",
         "Self_Employed": "No",
         "ApplicantIncome": 4283,
         "CoapplicantIncome": 3000,
         "LoanAmount": 172,
         "Loan_Amount_Term": 84,
         "Credit_History": 1,
         "Property_Area": "Rural",
         "Loan_Status": "N",
         "_deepnote_index_column": 585
        },
        {
         "Loan_ID": "LP002916",
         "Gender": "Male",
         "Married": "Yes",
         "Dependents": "0",
         "Education": "Graduate",
         "Self_Employed": "No",
         "ApplicantIncome": 2297,
         "CoapplicantIncome": 1522,
         "LoanAmount": 104,
         "Loan_Amount_Term": 360,
         "Credit_History": 1,
         "Property_Area": "Urban",
         "Loan_Status": "Y",
         "_deepnote_index_column": 586
        },
        {
         "Loan_ID": "LP002917",
         "Gender": "Female",
         "Married": "No",
         "Dependents": "0",
         "Education": "Not Graduate",
         "Self_Employed": "No",
         "ApplicantIncome": 2165,
         "CoapplicantIncome": 0,
         "LoanAmount": 70,
         "Loan_Amount_Term": 360,
         "Credit_History": 1,
         "Property_Area": "Semiurban",
         "Loan_Status": "Y",
         "_deepnote_index_column": 587
        },
        {
         "Loan_ID": "LP002925",
         "Gender": "nan",
         "Married": "No",
         "Dependents": "0",
         "Education": "Graduate",
         "Self_Employed": "No",
         "ApplicantIncome": 4750,
         "CoapplicantIncome": 0,
         "LoanAmount": 94,
         "Loan_Amount_Term": 360,
         "Credit_History": 1,
         "Property_Area": "Semiurban",
         "Loan_Status": "Y",
         "_deepnote_index_column": 588
        },
        {
         "Loan_ID": "LP002926",
         "Gender": "Male",
         "Married": "Yes",
         "Dependents": "2",
         "Education": "Graduate",
         "Self_Employed": "Yes",
         "ApplicantIncome": 2726,
         "CoapplicantIncome": 0,
         "LoanAmount": 106,
         "Loan_Amount_Term": 360,
         "Credit_History": 0,
         "Property_Area": "Semiurban",
         "Loan_Status": "N",
         "_deepnote_index_column": 589
        },
        {
         "Loan_ID": "LP002928",
         "Gender": "Male",
         "Married": "Yes",
         "Dependents": "0",
         "Education": "Graduate",
         "Self_Employed": "No",
         "ApplicantIncome": 3000,
         "CoapplicantIncome": 3416,
         "LoanAmount": 56,
         "Loan_Amount_Term": 180,
         "Credit_History": 1,
         "Property_Area": "Semiurban",
         "Loan_Status": "Y",
         "_deepnote_index_column": 590
        },
        {
         "Loan_ID": "LP002931",
         "Gender": "Male",
         "Married": "Yes",
         "Dependents": "2",
         "Education": "Graduate",
         "Self_Employed": "Yes",
         "ApplicantIncome": 6000,
         "CoapplicantIncome": 0,
         "LoanAmount": 205,
         "Loan_Amount_Term": 240,
         "Credit_History": 1,
         "Property_Area": "Semiurban",
         "Loan_Status": "N",
         "_deepnote_index_column": 591
        },
        {
         "Loan_ID": "LP002933",
         "Gender": "nan",
         "Married": "No",
         "Dependents": "3+",
         "Education": "Graduate",
         "Self_Employed": "Yes",
         "ApplicantIncome": 9357,
         "CoapplicantIncome": 0,
         "LoanAmount": 292,
         "Loan_Amount_Term": 360,
         "Credit_History": 1,
         "Property_Area": "Semiurban",
         "Loan_Status": "Y",
         "_deepnote_index_column": 592
        },
        {
         "Loan_ID": "LP002936",
         "Gender": "Male",
         "Married": "Yes",
         "Dependents": "0",
         "Education": "Graduate",
         "Self_Employed": "No",
         "ApplicantIncome": 3859,
         "CoapplicantIncome": 3300,
         "LoanAmount": 142,
         "Loan_Amount_Term": 180,
         "Credit_History": 1,
         "Property_Area": "Rural",
         "Loan_Status": "Y",
         "_deepnote_index_column": 593
        },
        {
         "Loan_ID": "LP002938",
         "Gender": "Male",
         "Married": "Yes",
         "Dependents": "0",
         "Education": "Graduate",
         "Self_Employed": "Yes",
         "ApplicantIncome": 16120,
         "CoapplicantIncome": 0,
         "LoanAmount": 260,
         "Loan_Amount_Term": 360,
         "Credit_History": 1,
         "Property_Area": "Urban",
         "Loan_Status": "Y",
         "_deepnote_index_column": 594
        },
        {
         "Loan_ID": "LP002940",
         "Gender": "Male",
         "Married": "No",
         "Dependents": "0",
         "Education": "Not Graduate",
         "Self_Employed": "No",
         "ApplicantIncome": 3833,
         "CoapplicantIncome": 0,
         "LoanAmount": 110,
         "Loan_Amount_Term": 360,
         "Credit_History": 1,
         "Property_Area": "Rural",
         "Loan_Status": "Y",
         "_deepnote_index_column": 595
        },
        {
         "Loan_ID": "LP002941",
         "Gender": "Male",
         "Married": "Yes",
         "Dependents": "2",
         "Education": "Not Graduate",
         "Self_Employed": "Yes",
         "ApplicantIncome": 6383,
         "CoapplicantIncome": 1000,
         "LoanAmount": 187,
         "Loan_Amount_Term": 360,
         "Credit_History": 1,
         "Property_Area": "Rural",
         "Loan_Status": "N",
         "_deepnote_index_column": 596
        },
        {
         "Loan_ID": "LP002943",
         "Gender": "Male",
         "Married": "No",
         "Dependents": "nan",
         "Education": "Graduate",
         "Self_Employed": "No",
         "ApplicantIncome": 2987,
         "CoapplicantIncome": 0,
         "LoanAmount": 88,
         "Loan_Amount_Term": 360,
         "Credit_History": 0,
         "Property_Area": "Semiurban",
         "Loan_Status": "N",
         "_deepnote_index_column": 597
        },
        {
         "Loan_ID": "LP002945",
         "Gender": "Male",
         "Married": "Yes",
         "Dependents": "0",
         "Education": "Graduate",
         "Self_Employed": "Yes",
         "ApplicantIncome": 9963,
         "CoapplicantIncome": 0,
         "LoanAmount": 180,
         "Loan_Amount_Term": 360,
         "Credit_History": 1,
         "Property_Area": "Rural",
         "Loan_Status": "Y",
         "_deepnote_index_column": 598
        },
        {
         "Loan_ID": "LP002948",
         "Gender": "Male",
         "Married": "Yes",
         "Dependents": "2",
         "Education": "Graduate",
         "Self_Employed": "No",
         "ApplicantIncome": 5780,
         "CoapplicantIncome": 0,
         "LoanAmount": 192,
         "Loan_Amount_Term": 360,
         "Credit_History": 1,
         "Property_Area": "Urban",
         "Loan_Status": "Y",
         "_deepnote_index_column": 599
        },
        {
         "Loan_ID": "LP002949",
         "Gender": "Female",
         "Married": "No",
         "Dependents": "3+",
         "Education": "Graduate",
         "Self_Employed": "nan",
         "ApplicantIncome": 416,
         "CoapplicantIncome": 41667,
         "LoanAmount": 350,
         "Loan_Amount_Term": 180,
         "Credit_History": "nan",
         "Property_Area": "Urban",
         "Loan_Status": "N",
         "_deepnote_index_column": 600
        },
        {
         "Loan_ID": "LP002950",
         "Gender": "Male",
         "Married": "Yes",
         "Dependents": "0",
         "Education": "Not Graduate",
         "Self_Employed": "nan",
         "ApplicantIncome": 2894,
         "CoapplicantIncome": 2792,
         "LoanAmount": 155,
         "Loan_Amount_Term": 360,
         "Credit_History": 1,
         "Property_Area": "Rural",
         "Loan_Status": "Y",
         "_deepnote_index_column": 601
        },
        {
         "Loan_ID": "LP002953",
         "Gender": "Male",
         "Married": "Yes",
         "Dependents": "3+",
         "Education": "Graduate",
         "Self_Employed": "No",
         "ApplicantIncome": 5703,
         "CoapplicantIncome": 0,
         "LoanAmount": 128,
         "Loan_Amount_Term": 360,
         "Credit_History": 1,
         "Property_Area": "Urban",
         "Loan_Status": "Y",
         "_deepnote_index_column": 602
        },
        {
         "Loan_ID": "LP002958",
         "Gender": "Male",
         "Married": "No",
         "Dependents": "0",
         "Education": "Graduate",
         "Self_Employed": "No",
         "ApplicantIncome": 3676,
         "CoapplicantIncome": 4301,
         "LoanAmount": 172,
         "Loan_Amount_Term": 360,
         "Credit_History": 1,
         "Property_Area": "Rural",
         "Loan_Status": "Y",
         "_deepnote_index_column": 603
        },
        {
         "Loan_ID": "LP002959",
         "Gender": "Female",
         "Married": "Yes",
         "Dependents": "1",
         "Education": "Graduate",
         "Self_Employed": "No",
         "ApplicantIncome": 12000,
         "CoapplicantIncome": 0,
         "LoanAmount": 496,
         "Loan_Amount_Term": 360,
         "Credit_History": 1,
         "Property_Area": "Semiurban",
         "Loan_Status": "Y",
         "_deepnote_index_column": 604
        },
        {
         "Loan_ID": "LP002960",
         "Gender": "Male",
         "Married": "Yes",
         "Dependents": "0",
         "Education": "Not Graduate",
         "Self_Employed": "No",
         "ApplicantIncome": 2400,
         "CoapplicantIncome": 3800,
         "LoanAmount": "nan",
         "Loan_Amount_Term": 180,
         "Credit_History": 1,
         "Property_Area": "Urban",
         "Loan_Status": "N",
         "_deepnote_index_column": 605
        },
        {
         "Loan_ID": "LP002961",
         "Gender": "Male",
         "Married": "Yes",
         "Dependents": "1",
         "Education": "Graduate",
         "Self_Employed": "No",
         "ApplicantIncome": 3400,
         "CoapplicantIncome": 2500,
         "LoanAmount": 173,
         "Loan_Amount_Term": 360,
         "Credit_History": 1,
         "Property_Area": "Semiurban",
         "Loan_Status": "Y",
         "_deepnote_index_column": 606
        },
        {
         "Loan_ID": "LP002964",
         "Gender": "Male",
         "Married": "Yes",
         "Dependents": "2",
         "Education": "Not Graduate",
         "Self_Employed": "No",
         "ApplicantIncome": 3987,
         "CoapplicantIncome": 1411,
         "LoanAmount": 157,
         "Loan_Amount_Term": 360,
         "Credit_History": 1,
         "Property_Area": "Rural",
         "Loan_Status": "Y",
         "_deepnote_index_column": 607
        },
        {
         "Loan_ID": "LP002974",
         "Gender": "Male",
         "Married": "Yes",
         "Dependents": "0",
         "Education": "Graduate",
         "Self_Employed": "No",
         "ApplicantIncome": 3232,
         "CoapplicantIncome": 1950,
         "LoanAmount": 108,
         "Loan_Amount_Term": 360,
         "Credit_History": 1,
         "Property_Area": "Rural",
         "Loan_Status": "Y",
         "_deepnote_index_column": 608
        },
        {
         "Loan_ID": "LP002978",
         "Gender": "Female",
         "Married": "No",
         "Dependents": "0",
         "Education": "Graduate",
         "Self_Employed": "No",
         "ApplicantIncome": 2900,
         "CoapplicantIncome": 0,
         "LoanAmount": 71,
         "Loan_Amount_Term": 360,
         "Credit_History": 1,
         "Property_Area": "Rural",
         "Loan_Status": "Y",
         "_deepnote_index_column": 609
        },
        {
         "Loan_ID": "LP002979",
         "Gender": "Male",
         "Married": "Yes",
         "Dependents": "3+",
         "Education": "Graduate",
         "Self_Employed": "No",
         "ApplicantIncome": 4106,
         "CoapplicantIncome": 0,
         "LoanAmount": 40,
         "Loan_Amount_Term": 180,
         "Credit_History": 1,
         "Property_Area": "Rural",
         "Loan_Status": "Y",
         "_deepnote_index_column": 610
        },
        {
         "Loan_ID": "LP002983",
         "Gender": "Male",
         "Married": "Yes",
         "Dependents": "1",
         "Education": "Graduate",
         "Self_Employed": "No",
         "ApplicantIncome": 8072,
         "CoapplicantIncome": 240,
         "LoanAmount": 253,
         "Loan_Amount_Term": 360,
         "Credit_History": 1,
         "Property_Area": "Urban",
         "Loan_Status": "Y",
         "_deepnote_index_column": 611
        },
        {
         "Loan_ID": "LP002984",
         "Gender": "Male",
         "Married": "Yes",
         "Dependents": "2",
         "Education": "Graduate",
         "Self_Employed": "No",
         "ApplicantIncome": 7583,
         "CoapplicantIncome": 0,
         "LoanAmount": 187,
         "Loan_Amount_Term": 360,
         "Credit_History": 1,
         "Property_Area": "Urban",
         "Loan_Status": "Y",
         "_deepnote_index_column": 612
        },
        {
         "Loan_ID": "LP002990",
         "Gender": "Female",
         "Married": "No",
         "Dependents": "0",
         "Education": "Graduate",
         "Self_Employed": "Yes",
         "ApplicantIncome": 4583,
         "CoapplicantIncome": 0,
         "LoanAmount": 133,
         "Loan_Amount_Term": 360,
         "Credit_History": 0,
         "Property_Area": "Semiurban",
         "Loan_Status": "N",
         "_deepnote_index_column": 613
        }
       ]
      },
      "text/plain": "      Loan_ID  Gender Married Dependents     Education Self_Employed  \\\n0    LP001002    Male      No          0      Graduate            No   \n1    LP001003    Male     Yes          1      Graduate            No   \n2    LP001005    Male     Yes          0      Graduate           Yes   \n3    LP001006    Male     Yes          0  Not Graduate            No   \n4    LP001008    Male      No          0      Graduate            No   \n..        ...     ...     ...        ...           ...           ...   \n609  LP002978  Female      No          0      Graduate            No   \n610  LP002979    Male     Yes         3+      Graduate            No   \n611  LP002983    Male     Yes          1      Graduate            No   \n612  LP002984    Male     Yes          2      Graduate            No   \n613  LP002990  Female      No          0      Graduate           Yes   \n\n     ApplicantIncome  CoapplicantIncome  LoanAmount  Loan_Amount_Term  \\\n0               5849                0.0         NaN             360.0   \n1               4583             1508.0       128.0             360.0   \n2               3000                0.0        66.0             360.0   \n3               2583             2358.0       120.0             360.0   \n4               6000                0.0       141.0             360.0   \n..               ...                ...         ...               ...   \n609             2900                0.0        71.0             360.0   \n610             4106                0.0        40.0             180.0   \n611             8072              240.0       253.0             360.0   \n612             7583                0.0       187.0             360.0   \n613             4583                0.0       133.0             360.0   \n\n     Credit_History Property_Area Loan_Status  \n0               1.0         Urban           Y  \n1               1.0         Rural           N  \n2               1.0         Urban           Y  \n3               1.0         Urban           Y  \n4               1.0         Urban           Y  \n..              ...           ...         ...  \n609             1.0         Rural           Y  \n610             1.0         Rural           Y  \n611             1.0         Urban           Y  \n612             1.0         Urban           Y  \n613             0.0     Semiurban           N  \n\n[614 rows x 13 columns]",
      "text/html": "<div>\n<style scoped>\n    .dataframe tbody tr th:only-of-type {\n        vertical-align: middle;\n    }\n\n    .dataframe tbody tr th {\n        vertical-align: top;\n    }\n\n    .dataframe thead th {\n        text-align: right;\n    }\n</style>\n<table border=\"1\" class=\"dataframe\">\n  <thead>\n    <tr style=\"text-align: right;\">\n      <th></th>\n      <th>Loan_ID</th>\n      <th>Gender</th>\n      <th>Married</th>\n      <th>Dependents</th>\n      <th>Education</th>\n      <th>Self_Employed</th>\n      <th>ApplicantIncome</th>\n      <th>CoapplicantIncome</th>\n      <th>LoanAmount</th>\n      <th>Loan_Amount_Term</th>\n      <th>Credit_History</th>\n      <th>Property_Area</th>\n      <th>Loan_Status</th>\n    </tr>\n  </thead>\n  <tbody>\n    <tr>\n      <th>0</th>\n      <td>LP001002</td>\n      <td>Male</td>\n      <td>No</td>\n      <td>0</td>\n      <td>Graduate</td>\n      <td>No</td>\n      <td>5849</td>\n      <td>0.0</td>\n      <td>NaN</td>\n      <td>360.0</td>\n      <td>1.0</td>\n      <td>Urban</td>\n      <td>Y</td>\n    </tr>\n    <tr>\n      <th>1</th>\n      <td>LP001003</td>\n      <td>Male</td>\n      <td>Yes</td>\n      <td>1</td>\n      <td>Graduate</td>\n      <td>No</td>\n      <td>4583</td>\n      <td>1508.0</td>\n      <td>128.0</td>\n      <td>360.0</td>\n      <td>1.0</td>\n      <td>Rural</td>\n      <td>N</td>\n    </tr>\n    <tr>\n      <th>2</th>\n      <td>LP001005</td>\n      <td>Male</td>\n      <td>Yes</td>\n      <td>0</td>\n      <td>Graduate</td>\n      <td>Yes</td>\n      <td>3000</td>\n      <td>0.0</td>\n      <td>66.0</td>\n      <td>360.0</td>\n      <td>1.0</td>\n      <td>Urban</td>\n      <td>Y</td>\n    </tr>\n    <tr>\n      <th>3</th>\n      <td>LP001006</td>\n      <td>Male</td>\n      <td>Yes</td>\n      <td>0</td>\n      <td>Not Graduate</td>\n      <td>No</td>\n      <td>2583</td>\n      <td>2358.0</td>\n      <td>120.0</td>\n      <td>360.0</td>\n      <td>1.0</td>\n      <td>Urban</td>\n      <td>Y</td>\n    </tr>\n    <tr>\n      <th>4</th>\n      <td>LP001008</td>\n      <td>Male</td>\n      <td>No</td>\n      <td>0</td>\n      <td>Graduate</td>\n      <td>No</td>\n      <td>6000</td>\n      <td>0.0</td>\n      <td>141.0</td>\n      <td>360.0</td>\n      <td>1.0</td>\n      <td>Urban</td>\n      <td>Y</td>\n    </tr>\n    <tr>\n      <th>...</th>\n      <td>...</td>\n      <td>...</td>\n      <td>...</td>\n      <td>...</td>\n      <td>...</td>\n      <td>...</td>\n      <td>...</td>\n      <td>...</td>\n      <td>...</td>\n      <td>...</td>\n      <td>...</td>\n      <td>...</td>\n      <td>...</td>\n    </tr>\n    <tr>\n      <th>609</th>\n      <td>LP002978</td>\n      <td>Female</td>\n      <td>No</td>\n      <td>0</td>\n      <td>Graduate</td>\n      <td>No</td>\n      <td>2900</td>\n      <td>0.0</td>\n      <td>71.0</td>\n      <td>360.0</td>\n      <td>1.0</td>\n      <td>Rural</td>\n      <td>Y</td>\n    </tr>\n    <tr>\n      <th>610</th>\n      <td>LP002979</td>\n      <td>Male</td>\n      <td>Yes</td>\n      <td>3+</td>\n      <td>Graduate</td>\n      <td>No</td>\n      <td>4106</td>\n      <td>0.0</td>\n      <td>40.0</td>\n      <td>180.0</td>\n      <td>1.0</td>\n      <td>Rural</td>\n      <td>Y</td>\n    </tr>\n    <tr>\n      <th>611</th>\n      <td>LP002983</td>\n      <td>Male</td>\n      <td>Yes</td>\n      <td>1</td>\n      <td>Graduate</td>\n      <td>No</td>\n      <td>8072</td>\n      <td>240.0</td>\n      <td>253.0</td>\n      <td>360.0</td>\n      <td>1.0</td>\n      <td>Urban</td>\n      <td>Y</td>\n    </tr>\n    <tr>\n      <th>612</th>\n      <td>LP002984</td>\n      <td>Male</td>\n      <td>Yes</td>\n      <td>2</td>\n      <td>Graduate</td>\n      <td>No</td>\n      <td>7583</td>\n      <td>0.0</td>\n      <td>187.0</td>\n      <td>360.0</td>\n      <td>1.0</td>\n      <td>Urban</td>\n      <td>Y</td>\n    </tr>\n    <tr>\n      <th>613</th>\n      <td>LP002990</td>\n      <td>Female</td>\n      <td>No</td>\n      <td>0</td>\n      <td>Graduate</td>\n      <td>Yes</td>\n      <td>4583</td>\n      <td>0.0</td>\n      <td>133.0</td>\n      <td>360.0</td>\n      <td>0.0</td>\n      <td>Semiurban</td>\n      <td>N</td>\n    </tr>\n  </tbody>\n</table>\n<p>614 rows × 13 columns</p>\n</div>"
     },
     "metadata": {}
    }
   ],
   "execution_count": null
  },
  {
   "cell_type": "code",
   "metadata": {
    "tags": [],
    "cell_id": "00002-55ee52ca-c6be-4e9d-9258-39f544448ac3",
    "deepnote_to_be_reexecuted": false,
    "source_hash": "f88152d9",
    "execution_start": 1636293312926,
    "execution_millis": 53,
    "deepnote_cell_type": "code"
   },
   "source": "df.describe()",
   "outputs": [
    {
     "output_type": "execute_result",
     "execution_count": 4,
     "data": {
      "application/vnd.deepnote.dataframe.v2+json": {
       "row_count": 8,
       "column_count": 5,
       "columns": [
        {
         "name": "ApplicantIncome",
         "dtype": "float64",
         "stats": {
          "unique_count": 8,
          "nan_count": 0,
          "min": "150.0",
          "max": "81000.0",
          "histogram": [
           {
            "bin_start": 150,
            "bin_end": 8235,
            "count": 7
           },
           {
            "bin_start": 8235,
            "bin_end": 16320,
            "count": 0
           },
           {
            "bin_start": 16320,
            "bin_end": 24405,
            "count": 0
           },
           {
            "bin_start": 24405,
            "bin_end": 32490,
            "count": 0
           },
           {
            "bin_start": 32490,
            "bin_end": 40575,
            "count": 0
           },
           {
            "bin_start": 40575,
            "bin_end": 48660,
            "count": 0
           },
           {
            "bin_start": 48660,
            "bin_end": 56745,
            "count": 0
           },
           {
            "bin_start": 56745,
            "bin_end": 64830,
            "count": 0
           },
           {
            "bin_start": 64830,
            "bin_end": 72915,
            "count": 0
           },
           {
            "bin_start": 72915,
            "bin_end": 81000,
            "count": 1
           }
          ]
         }
        },
        {
         "name": "CoapplicantIncome",
         "dtype": "float64",
         "stats": {
          "unique_count": 7,
          "nan_count": 0,
          "min": "0.0",
          "max": "41667.0",
          "histogram": [
           {
            "bin_start": 0,
            "bin_end": 4166.7,
            "count": 7
           },
           {
            "bin_start": 4166.7,
            "bin_end": 8333.4,
            "count": 0
           },
           {
            "bin_start": 8333.4,
            "bin_end": 12500.099999999999,
            "count": 0
           },
           {
            "bin_start": 12500.099999999999,
            "bin_end": 16666.8,
            "count": 0
           },
           {
            "bin_start": 16666.8,
            "bin_end": 20833.5,
            "count": 0
           },
           {
            "bin_start": 20833.5,
            "bin_end": 25000.199999999997,
            "count": 0
           },
           {
            "bin_start": 25000.199999999997,
            "bin_end": 29166.899999999998,
            "count": 0
           },
           {
            "bin_start": 29166.899999999998,
            "bin_end": 33333.6,
            "count": 0
           },
           {
            "bin_start": 33333.6,
            "bin_end": 37500.299999999996,
            "count": 0
           },
           {
            "bin_start": 37500.299999999996,
            "bin_end": 41667,
            "count": 1
           }
          ]
         }
        },
        {
         "name": "LoanAmount",
         "dtype": "float64",
         "stats": {
          "unique_count": 8,
          "nan_count": 0,
          "min": "9.0",
          "max": "700.0",
          "histogram": [
           {
            "bin_start": 9,
            "bin_end": 78.1,
            "count": 1
           },
           {
            "bin_start": 78.1,
            "bin_end": 147.2,
            "count": 4
           },
           {
            "bin_start": 147.2,
            "bin_end": 216.29999999999998,
            "count": 1
           },
           {
            "bin_start": 216.29999999999998,
            "bin_end": 285.4,
            "count": 0
           },
           {
            "bin_start": 285.4,
            "bin_end": 354.5,
            "count": 0
           },
           {
            "bin_start": 354.5,
            "bin_end": 423.59999999999997,
            "count": 0
           },
           {
            "bin_start": 423.59999999999997,
            "bin_end": 492.69999999999993,
            "count": 0
           },
           {
            "bin_start": 492.69999999999993,
            "bin_end": 561.8,
            "count": 0
           },
           {
            "bin_start": 561.8,
            "bin_end": 630.9,
            "count": 1
           },
           {
            "bin_start": 630.9,
            "bin_end": 700,
            "count": 1
           }
          ]
         }
        },
        {
         "name": "Loan_Amount_Term",
         "dtype": "float64",
         "stats": {
          "unique_count": 6,
          "nan_count": 0,
          "min": "12.0",
          "max": "600.0",
          "histogram": [
           {
            "bin_start": 12,
            "bin_end": 70.8,
            "count": 2
           },
           {
            "bin_start": 70.8,
            "bin_end": 129.6,
            "count": 0
           },
           {
            "bin_start": 129.6,
            "bin_end": 188.39999999999998,
            "count": 0
           },
           {
            "bin_start": 188.39999999999998,
            "bin_end": 247.2,
            "count": 0
           },
           {
            "bin_start": 247.2,
            "bin_end": 306,
            "count": 0
           },
           {
            "bin_start": 306,
            "bin_end": 364.79999999999995,
            "count": 4
           },
           {
            "bin_start": 364.79999999999995,
            "bin_end": 423.59999999999997,
            "count": 0
           },
           {
            "bin_start": 423.59999999999997,
            "bin_end": 482.4,
            "count": 1
           },
           {
            "bin_start": 482.4,
            "bin_end": 541.1999999999999,
            "count": 0
           },
           {
            "bin_start": 541.1999999999999,
            "bin_end": 600,
            "count": 1
           }
          ]
         }
        },
        {
         "name": "Credit_History",
         "dtype": "float64",
         "stats": {
          "unique_count": 5,
          "nan_count": 0,
          "min": "0.0",
          "max": "564.0",
          "histogram": [
           {
            "bin_start": 0,
            "bin_end": 56.4,
            "count": 7
           },
           {
            "bin_start": 56.4,
            "bin_end": 112.8,
            "count": 0
           },
           {
            "bin_start": 112.8,
            "bin_end": 169.2,
            "count": 0
           },
           {
            "bin_start": 169.2,
            "bin_end": 225.6,
            "count": 0
           },
           {
            "bin_start": 225.6,
            "bin_end": 282,
            "count": 0
           },
           {
            "bin_start": 282,
            "bin_end": 338.4,
            "count": 0
           },
           {
            "bin_start": 338.4,
            "bin_end": 394.8,
            "count": 0
           },
           {
            "bin_start": 394.8,
            "bin_end": 451.2,
            "count": 0
           },
           {
            "bin_start": 451.2,
            "bin_end": 507.59999999999997,
            "count": 0
           },
           {
            "bin_start": 507.59999999999997,
            "bin_end": 564,
            "count": 1
           }
          ]
         }
        },
        {
         "name": "_deepnote_index_column",
         "dtype": "object"
        }
       ],
       "rows_top": [
        {
         "ApplicantIncome": 614,
         "CoapplicantIncome": 614,
         "LoanAmount": 592,
         "Loan_Amount_Term": 600,
         "Credit_History": 564,
         "_deepnote_index_column": "count"
        },
        {
         "ApplicantIncome": 5403.459283387622,
         "CoapplicantIncome": 1621.2457980271008,
         "LoanAmount": 146.41216216216216,
         "Loan_Amount_Term": 342,
         "Credit_History": 0.8421985815602837,
         "_deepnote_index_column": "mean"
        },
        {
         "ApplicantIncome": 6109.041673387178,
         "CoapplicantIncome": 2926.2483692241885,
         "LoanAmount": 85.58732523570545,
         "Loan_Amount_Term": 65.12040985461256,
         "Credit_History": 0.3648783192364048,
         "_deepnote_index_column": "std"
        },
        {
         "ApplicantIncome": 150,
         "CoapplicantIncome": 0,
         "LoanAmount": 9,
         "Loan_Amount_Term": 12,
         "Credit_History": 0,
         "_deepnote_index_column": "min"
        },
        {
         "ApplicantIncome": 2877.5,
         "CoapplicantIncome": 0,
         "LoanAmount": 100,
         "Loan_Amount_Term": 360,
         "Credit_History": 1,
         "_deepnote_index_column": "25%"
        },
        {
         "ApplicantIncome": 3812.5,
         "CoapplicantIncome": 1188.5,
         "LoanAmount": 128,
         "Loan_Amount_Term": 360,
         "Credit_History": 1,
         "_deepnote_index_column": "50%"
        },
        {
         "ApplicantIncome": 5795,
         "CoapplicantIncome": 2297.25,
         "LoanAmount": 168,
         "Loan_Amount_Term": 360,
         "Credit_History": 1,
         "_deepnote_index_column": "75%"
        },
        {
         "ApplicantIncome": 81000,
         "CoapplicantIncome": 41667,
         "LoanAmount": 700,
         "Loan_Amount_Term": 480,
         "Credit_History": 1,
         "_deepnote_index_column": "max"
        }
       ],
       "rows_bottom": null
      },
      "text/plain": "       ApplicantIncome  CoapplicantIncome  LoanAmount  Loan_Amount_Term  \\\ncount       614.000000         614.000000  592.000000         600.00000   \nmean       5403.459283        1621.245798  146.412162         342.00000   \nstd        6109.041673        2926.248369   85.587325          65.12041   \nmin         150.000000           0.000000    9.000000          12.00000   \n25%        2877.500000           0.000000  100.000000         360.00000   \n50%        3812.500000        1188.500000  128.000000         360.00000   \n75%        5795.000000        2297.250000  168.000000         360.00000   \nmax       81000.000000       41667.000000  700.000000         480.00000   \n\n       Credit_History  \ncount      564.000000  \nmean         0.842199  \nstd          0.364878  \nmin          0.000000  \n25%          1.000000  \n50%          1.000000  \n75%          1.000000  \nmax          1.000000  ",
      "text/html": "<div>\n<style scoped>\n    .dataframe tbody tr th:only-of-type {\n        vertical-align: middle;\n    }\n\n    .dataframe tbody tr th {\n        vertical-align: top;\n    }\n\n    .dataframe thead th {\n        text-align: right;\n    }\n</style>\n<table border=\"1\" class=\"dataframe\">\n  <thead>\n    <tr style=\"text-align: right;\">\n      <th></th>\n      <th>ApplicantIncome</th>\n      <th>CoapplicantIncome</th>\n      <th>LoanAmount</th>\n      <th>Loan_Amount_Term</th>\n      <th>Credit_History</th>\n    </tr>\n  </thead>\n  <tbody>\n    <tr>\n      <th>count</th>\n      <td>614.000000</td>\n      <td>614.000000</td>\n      <td>592.000000</td>\n      <td>600.00000</td>\n      <td>564.000000</td>\n    </tr>\n    <tr>\n      <th>mean</th>\n      <td>5403.459283</td>\n      <td>1621.245798</td>\n      <td>146.412162</td>\n      <td>342.00000</td>\n      <td>0.842199</td>\n    </tr>\n    <tr>\n      <th>std</th>\n      <td>6109.041673</td>\n      <td>2926.248369</td>\n      <td>85.587325</td>\n      <td>65.12041</td>\n      <td>0.364878</td>\n    </tr>\n    <tr>\n      <th>min</th>\n      <td>150.000000</td>\n      <td>0.000000</td>\n      <td>9.000000</td>\n      <td>12.00000</td>\n      <td>0.000000</td>\n    </tr>\n    <tr>\n      <th>25%</th>\n      <td>2877.500000</td>\n      <td>0.000000</td>\n      <td>100.000000</td>\n      <td>360.00000</td>\n      <td>1.000000</td>\n    </tr>\n    <tr>\n      <th>50%</th>\n      <td>3812.500000</td>\n      <td>1188.500000</td>\n      <td>128.000000</td>\n      <td>360.00000</td>\n      <td>1.000000</td>\n    </tr>\n    <tr>\n      <th>75%</th>\n      <td>5795.000000</td>\n      <td>2297.250000</td>\n      <td>168.000000</td>\n      <td>360.00000</td>\n      <td>1.000000</td>\n    </tr>\n    <tr>\n      <th>max</th>\n      <td>81000.000000</td>\n      <td>41667.000000</td>\n      <td>700.000000</td>\n      <td>480.00000</td>\n      <td>1.000000</td>\n    </tr>\n  </tbody>\n</table>\n</div>"
     },
     "metadata": {}
    }
   ],
   "execution_count": null
  },
  {
   "cell_type": "code",
   "metadata": {
    "tags": [],
    "cell_id": "00003-ef6def2a-73b3-4fac-9f8c-dfc9ae7f62a0",
    "deepnote_to_be_reexecuted": false,
    "source_hash": "65d02d4a",
    "execution_start": 1636293312990,
    "execution_millis": 6,
    "deepnote_cell_type": "code"
   },
   "source": "total = df.isnull().sum().sort_values(ascending=False)\ntotal.head(13)",
   "outputs": [
    {
     "output_type": "execute_result",
     "execution_count": 5,
     "data": {
      "text/plain": "Credit_History       50\nSelf_Employed        32\nLoanAmount           22\nDependents           15\nLoan_Amount_Term     14\nGender               13\nMarried               3\nLoan_ID               0\nEducation             0\nApplicantIncome       0\nCoapplicantIncome     0\nProperty_Area         0\nLoan_Status           0\ndtype: int64"
     },
     "metadata": {}
    }
   ],
   "execution_count": null
  },
  {
   "cell_type": "markdown",
   "source": "There are some features with some missing data, but not a lot. Do we remove them? Do we fill in the data with our own?\n\nHere I just removed the instances with missing data.",
   "metadata": {
    "tags": [],
    "cell_id": "00004-6a7f7b08-8ad1-4a1d-8435-be852fdf5a43",
    "deepnote_cell_type": "markdown"
   }
  },
  {
   "cell_type": "code",
   "metadata": {
    "tags": [],
    "cell_id": "00005-afaa5fb3-5c09-49fd-b2e5-de786f3a82f7",
    "deepnote_to_be_reexecuted": false,
    "source_hash": "a0b93a82",
    "execution_start": 1636293313043,
    "execution_millis": 77,
    "deepnote_cell_type": "code"
   },
   "source": "df = df.dropna(axis=0)\ndf",
   "outputs": [
    {
     "output_type": "execute_result",
     "execution_count": 6,
     "data": {
      "application/vnd.deepnote.dataframe.v2+json": {
       "row_count": 480,
       "column_count": 13,
       "columns": [
        {
         "name": "Loan_ID",
         "dtype": "object",
         "stats": {
          "unique_count": 480,
          "nan_count": 0,
          "categories": [
           {
            "name": "LP001003",
            "count": 1
           },
           {
            "name": "LP001005",
            "count": 1
           },
           {
            "name": "478 others",
            "count": 478
           }
          ]
         }
        },
        {
         "name": "Gender",
         "dtype": "object",
         "stats": {
          "unique_count": 2,
          "nan_count": 0,
          "categories": [
           {
            "name": "Male",
            "count": 394
           },
           {
            "name": "Female",
            "count": 86
           }
          ]
         }
        },
        {
         "name": "Married",
         "dtype": "object",
         "stats": {
          "unique_count": 2,
          "nan_count": 0,
          "categories": [
           {
            "name": "Yes",
            "count": 311
           },
           {
            "name": "No",
            "count": 169
           }
          ]
         }
        },
        {
         "name": "Dependents",
         "dtype": "object",
         "stats": {
          "unique_count": 4,
          "nan_count": 0,
          "categories": [
           {
            "name": "0",
            "count": 274
           },
           {
            "name": "2",
            "count": 85
           },
           {
            "name": "2 others",
            "count": 121
           }
          ]
         }
        },
        {
         "name": "Education",
         "dtype": "object",
         "stats": {
          "unique_count": 2,
          "nan_count": 0,
          "categories": [
           {
            "name": "Graduate",
            "count": 383
           },
           {
            "name": "Not Graduate",
            "count": 97
           }
          ]
         }
        },
        {
         "name": "Self_Employed",
         "dtype": "object",
         "stats": {
          "unique_count": 2,
          "nan_count": 0,
          "categories": [
           {
            "name": "No",
            "count": 414
           },
           {
            "name": "Yes",
            "count": 66
           }
          ]
         }
        },
        {
         "name": "ApplicantIncome",
         "dtype": "int64",
         "stats": {
          "unique_count": 405,
          "nan_count": 0,
          "min": "150",
          "max": "81000",
          "histogram": [
           {
            "bin_start": 150,
            "bin_end": 8235,
            "count": 412
           },
           {
            "bin_start": 8235,
            "bin_end": 16320,
            "count": 53
           },
           {
            "bin_start": 16320,
            "bin_end": 24405,
            "count": 10
           },
           {
            "bin_start": 24405,
            "bin_end": 32490,
            "count": 0
           },
           {
            "bin_start": 32490,
            "bin_end": 40575,
            "count": 4
           },
           {
            "bin_start": 40575,
            "bin_end": 48660,
            "count": 0
           },
           {
            "bin_start": 48660,
            "bin_end": 56745,
            "count": 0
           },
           {
            "bin_start": 56745,
            "bin_end": 64830,
            "count": 0
           },
           {
            "bin_start": 64830,
            "bin_end": 72915,
            "count": 0
           },
           {
            "bin_start": 72915,
            "bin_end": 81000,
            "count": 1
           }
          ]
         }
        },
        {
         "name": "CoapplicantIncome",
         "dtype": "float64",
         "stats": {
          "unique_count": 232,
          "nan_count": 0,
          "min": "0.0",
          "max": "33837.0",
          "histogram": [
           {
            "bin_start": 0,
            "bin_end": 3383.7,
            "count": 418
           },
           {
            "bin_start": 3383.7,
            "bin_end": 6767.4,
            "count": 49
           },
           {
            "bin_start": 6767.4,
            "bin_end": 10151.099999999999,
            "count": 8
           },
           {
            "bin_start": 10151.099999999999,
            "bin_end": 13534.8,
            "count": 2
           },
           {
            "bin_start": 13534.8,
            "bin_end": 16918.5,
            "count": 0
           },
           {
            "bin_start": 16918.5,
            "bin_end": 20302.199999999997,
            "count": 2
           },
           {
            "bin_start": 20302.199999999997,
            "bin_end": 23685.899999999998,
            "count": 0
           },
           {
            "bin_start": 23685.899999999998,
            "bin_end": 27069.6,
            "count": 0
           },
           {
            "bin_start": 27069.6,
            "bin_end": 30453.3,
            "count": 0
           },
           {
            "bin_start": 30453.3,
            "bin_end": 33837,
            "count": 1
           }
          ]
         }
        },
        {
         "name": "LoanAmount",
         "dtype": "float64",
         "stats": {
          "unique_count": 186,
          "nan_count": 0,
          "min": "9.0",
          "max": "600.0",
          "histogram": [
           {
            "bin_start": 9,
            "bin_end": 68.1,
            "count": 42
           },
           {
            "bin_start": 68.1,
            "bin_end": 127.2,
            "count": 194
           },
           {
            "bin_start": 127.2,
            "bin_end": 186.3,
            "count": 153
           },
           {
            "bin_start": 186.3,
            "bin_end": 245.4,
            "count": 49
           },
           {
            "bin_start": 245.4,
            "bin_end": 304.5,
            "count": 22
           },
           {
            "bin_start": 304.5,
            "bin_end": 363.6,
            "count": 8
           },
           {
            "bin_start": 363.6,
            "bin_end": 422.7,
            "count": 3
           },
           {
            "bin_start": 422.7,
            "bin_end": 481.8,
            "count": 3
           },
           {
            "bin_start": 481.8,
            "bin_end": 540.9,
            "count": 3
           },
           {
            "bin_start": 540.9,
            "bin_end": 600,
            "count": 3
           }
          ]
         }
        },
        {
         "name": "Loan_Amount_Term",
         "dtype": "float64",
         "stats": {
          "unique_count": 9,
          "nan_count": 0,
          "min": "36.0",
          "max": "480.0",
          "histogram": [
           {
            "bin_start": 36,
            "bin_end": 80.4,
            "count": 4
           },
           {
            "bin_start": 80.4,
            "bin_end": 124.8,
            "count": 6
           },
           {
            "bin_start": 124.8,
            "bin_end": 169.2,
            "count": 0
           },
           {
            "bin_start": 169.2,
            "bin_end": 213.6,
            "count": 36
           },
           {
            "bin_start": 213.6,
            "bin_end": 258,
            "count": 2
           },
           {
            "bin_start": 258,
            "bin_end": 302.4,
            "count": 9
           },
           {
            "bin_start": 302.4,
            "bin_end": 346.8,
            "count": 0
           },
           {
            "bin_start": 346.8,
            "bin_end": 391.2,
            "count": 411
           },
           {
            "bin_start": 391.2,
            "bin_end": 435.59999999999997,
            "count": 0
           },
           {
            "bin_start": 435.59999999999997,
            "bin_end": 480,
            "count": 12
           }
          ]
         }
        },
        {
         "name": "Credit_History",
         "dtype": "float64",
         "stats": {
          "unique_count": 2,
          "nan_count": 0,
          "min": "0.0",
          "max": "1.0",
          "histogram": [
           {
            "bin_start": 0,
            "bin_end": 0.1,
            "count": 70
           },
           {
            "bin_start": 0.1,
            "bin_end": 0.2,
            "count": 0
           },
           {
            "bin_start": 0.2,
            "bin_end": 0.30000000000000004,
            "count": 0
           },
           {
            "bin_start": 0.30000000000000004,
            "bin_end": 0.4,
            "count": 0
           },
           {
            "bin_start": 0.4,
            "bin_end": 0.5,
            "count": 0
           },
           {
            "bin_start": 0.5,
            "bin_end": 0.6000000000000001,
            "count": 0
           },
           {
            "bin_start": 0.6000000000000001,
            "bin_end": 0.7000000000000001,
            "count": 0
           },
           {
            "bin_start": 0.7000000000000001,
            "bin_end": 0.8,
            "count": 0
           },
           {
            "bin_start": 0.8,
            "bin_end": 0.9,
            "count": 0
           },
           {
            "bin_start": 0.9,
            "bin_end": 1,
            "count": 410
           }
          ]
         }
        },
        {
         "name": "Property_Area",
         "dtype": "object",
         "stats": {
          "unique_count": 3,
          "nan_count": 0,
          "categories": [
           {
            "name": "Semiurban",
            "count": 191
           },
           {
            "name": "Urban",
            "count": 150
           },
           {
            "name": "Rural",
            "count": 139
           }
          ]
         }
        },
        {
         "name": "Loan_Status",
         "dtype": "object",
         "stats": {
          "unique_count": 2,
          "nan_count": 0,
          "categories": [
           {
            "name": "Y",
            "count": 332
           },
           {
            "name": "N",
            "count": 148
           }
          ]
         }
        },
        {
         "name": "_deepnote_index_column",
         "dtype": "int64"
        }
       ],
       "rows_top": [
        {
         "Loan_ID": "LP001003",
         "Gender": "Male",
         "Married": "Yes",
         "Dependents": "1",
         "Education": "Graduate",
         "Self_Employed": "No",
         "ApplicantIncome": 4583,
         "CoapplicantIncome": 1508,
         "LoanAmount": 128,
         "Loan_Amount_Term": 360,
         "Credit_History": 1,
         "Property_Area": "Rural",
         "Loan_Status": "N",
         "_deepnote_index_column": 1
        },
        {
         "Loan_ID": "LP001005",
         "Gender": "Male",
         "Married": "Yes",
         "Dependents": "0",
         "Education": "Graduate",
         "Self_Employed": "Yes",
         "ApplicantIncome": 3000,
         "CoapplicantIncome": 0,
         "LoanAmount": 66,
         "Loan_Amount_Term": 360,
         "Credit_History": 1,
         "Property_Area": "Urban",
         "Loan_Status": "Y",
         "_deepnote_index_column": 2
        },
        {
         "Loan_ID": "LP001006",
         "Gender": "Male",
         "Married": "Yes",
         "Dependents": "0",
         "Education": "Not Graduate",
         "Self_Employed": "No",
         "ApplicantIncome": 2583,
         "CoapplicantIncome": 2358,
         "LoanAmount": 120,
         "Loan_Amount_Term": 360,
         "Credit_History": 1,
         "Property_Area": "Urban",
         "Loan_Status": "Y",
         "_deepnote_index_column": 3
        },
        {
         "Loan_ID": "LP001008",
         "Gender": "Male",
         "Married": "No",
         "Dependents": "0",
         "Education": "Graduate",
         "Self_Employed": "No",
         "ApplicantIncome": 6000,
         "CoapplicantIncome": 0,
         "LoanAmount": 141,
         "Loan_Amount_Term": 360,
         "Credit_History": 1,
         "Property_Area": "Urban",
         "Loan_Status": "Y",
         "_deepnote_index_column": 4
        },
        {
         "Loan_ID": "LP001011",
         "Gender": "Male",
         "Married": "Yes",
         "Dependents": "2",
         "Education": "Graduate",
         "Self_Employed": "Yes",
         "ApplicantIncome": 5417,
         "CoapplicantIncome": 4196,
         "LoanAmount": 267,
         "Loan_Amount_Term": 360,
         "Credit_History": 1,
         "Property_Area": "Urban",
         "Loan_Status": "Y",
         "_deepnote_index_column": 5
        },
        {
         "Loan_ID": "LP001013",
         "Gender": "Male",
         "Married": "Yes",
         "Dependents": "0",
         "Education": "Not Graduate",
         "Self_Employed": "No",
         "ApplicantIncome": 2333,
         "CoapplicantIncome": 1516,
         "LoanAmount": 95,
         "Loan_Amount_Term": 360,
         "Credit_History": 1,
         "Property_Area": "Urban",
         "Loan_Status": "Y",
         "_deepnote_index_column": 6
        },
        {
         "Loan_ID": "LP001014",
         "Gender": "Male",
         "Married": "Yes",
         "Dependents": "3+",
         "Education": "Graduate",
         "Self_Employed": "No",
         "ApplicantIncome": 3036,
         "CoapplicantIncome": 2504,
         "LoanAmount": 158,
         "Loan_Amount_Term": 360,
         "Credit_History": 0,
         "Property_Area": "Semiurban",
         "Loan_Status": "N",
         "_deepnote_index_column": 7
        },
        {
         "Loan_ID": "LP001018",
         "Gender": "Male",
         "Married": "Yes",
         "Dependents": "2",
         "Education": "Graduate",
         "Self_Employed": "No",
         "ApplicantIncome": 4006,
         "CoapplicantIncome": 1526,
         "LoanAmount": 168,
         "Loan_Amount_Term": 360,
         "Credit_History": 1,
         "Property_Area": "Urban",
         "Loan_Status": "Y",
         "_deepnote_index_column": 8
        },
        {
         "Loan_ID": "LP001020",
         "Gender": "Male",
         "Married": "Yes",
         "Dependents": "1",
         "Education": "Graduate",
         "Self_Employed": "No",
         "ApplicantIncome": 12841,
         "CoapplicantIncome": 10968,
         "LoanAmount": 349,
         "Loan_Amount_Term": 360,
         "Credit_History": 1,
         "Property_Area": "Semiurban",
         "Loan_Status": "N",
         "_deepnote_index_column": 9
        },
        {
         "Loan_ID": "LP001024",
         "Gender": "Male",
         "Married": "Yes",
         "Dependents": "2",
         "Education": "Graduate",
         "Self_Employed": "No",
         "ApplicantIncome": 3200,
         "CoapplicantIncome": 700,
         "LoanAmount": 70,
         "Loan_Amount_Term": 360,
         "Credit_History": 1,
         "Property_Area": "Urban",
         "Loan_Status": "Y",
         "_deepnote_index_column": 10
        },
        {
         "Loan_ID": "LP001028",
         "Gender": "Male",
         "Married": "Yes",
         "Dependents": "2",
         "Education": "Graduate",
         "Self_Employed": "No",
         "ApplicantIncome": 3073,
         "CoapplicantIncome": 8106,
         "LoanAmount": 200,
         "Loan_Amount_Term": 360,
         "Credit_History": 1,
         "Property_Area": "Urban",
         "Loan_Status": "Y",
         "_deepnote_index_column": 12
        },
        {
         "Loan_ID": "LP001029",
         "Gender": "Male",
         "Married": "No",
         "Dependents": "0",
         "Education": "Graduate",
         "Self_Employed": "No",
         "ApplicantIncome": 1853,
         "CoapplicantIncome": 2840,
         "LoanAmount": 114,
         "Loan_Amount_Term": 360,
         "Credit_History": 1,
         "Property_Area": "Rural",
         "Loan_Status": "N",
         "_deepnote_index_column": 13
        },
        {
         "Loan_ID": "LP001030",
         "Gender": "Male",
         "Married": "Yes",
         "Dependents": "2",
         "Education": "Graduate",
         "Self_Employed": "No",
         "ApplicantIncome": 1299,
         "CoapplicantIncome": 1086,
         "LoanAmount": 17,
         "Loan_Amount_Term": 120,
         "Credit_History": 1,
         "Property_Area": "Urban",
         "Loan_Status": "Y",
         "_deepnote_index_column": 14
        },
        {
         "Loan_ID": "LP001032",
         "Gender": "Male",
         "Married": "No",
         "Dependents": "0",
         "Education": "Graduate",
         "Self_Employed": "No",
         "ApplicantIncome": 4950,
         "CoapplicantIncome": 0,
         "LoanAmount": 125,
         "Loan_Amount_Term": 360,
         "Credit_History": 1,
         "Property_Area": "Urban",
         "Loan_Status": "Y",
         "_deepnote_index_column": 15
        },
        {
         "Loan_ID": "LP001036",
         "Gender": "Female",
         "Married": "No",
         "Dependents": "0",
         "Education": "Graduate",
         "Self_Employed": "No",
         "ApplicantIncome": 3510,
         "CoapplicantIncome": 0,
         "LoanAmount": 76,
         "Loan_Amount_Term": 360,
         "Credit_History": 0,
         "Property_Area": "Urban",
         "Loan_Status": "N",
         "_deepnote_index_column": 17
        },
        {
         "Loan_ID": "LP001038",
         "Gender": "Male",
         "Married": "Yes",
         "Dependents": "0",
         "Education": "Not Graduate",
         "Self_Employed": "No",
         "ApplicantIncome": 4887,
         "CoapplicantIncome": 0,
         "LoanAmount": 133,
         "Loan_Amount_Term": 360,
         "Credit_History": 1,
         "Property_Area": "Rural",
         "Loan_Status": "N",
         "_deepnote_index_column": 18
        },
        {
         "Loan_ID": "LP001043",
         "Gender": "Male",
         "Married": "Yes",
         "Dependents": "0",
         "Education": "Not Graduate",
         "Self_Employed": "No",
         "ApplicantIncome": 7660,
         "CoapplicantIncome": 0,
         "LoanAmount": 104,
         "Loan_Amount_Term": 360,
         "Credit_History": 0,
         "Property_Area": "Urban",
         "Loan_Status": "N",
         "_deepnote_index_column": 20
        },
        {
         "Loan_ID": "LP001046",
         "Gender": "Male",
         "Married": "Yes",
         "Dependents": "1",
         "Education": "Graduate",
         "Self_Employed": "No",
         "ApplicantIncome": 5955,
         "CoapplicantIncome": 5625,
         "LoanAmount": 315,
         "Loan_Amount_Term": 360,
         "Credit_History": 1,
         "Property_Area": "Urban",
         "Loan_Status": "Y",
         "_deepnote_index_column": 21
        },
        {
         "Loan_ID": "LP001047",
         "Gender": "Male",
         "Married": "Yes",
         "Dependents": "0",
         "Education": "Not Graduate",
         "Self_Employed": "No",
         "ApplicantIncome": 2600,
         "CoapplicantIncome": 1911,
         "LoanAmount": 116,
         "Loan_Amount_Term": 360,
         "Credit_History": 0,
         "Property_Area": "Semiurban",
         "Loan_Status": "N",
         "_deepnote_index_column": 22
        },
        {
         "Loan_ID": "LP001066",
         "Gender": "Male",
         "Married": "Yes",
         "Dependents": "0",
         "Education": "Graduate",
         "Self_Employed": "Yes",
         "ApplicantIncome": 9560,
         "CoapplicantIncome": 0,
         "LoanAmount": 191,
         "Loan_Amount_Term": 360,
         "Credit_History": 1,
         "Property_Area": "Semiurban",
         "Loan_Status": "Y",
         "_deepnote_index_column": 25
        },
        {
         "Loan_ID": "LP001068",
         "Gender": "Male",
         "Married": "Yes",
         "Dependents": "0",
         "Education": "Graduate",
         "Self_Employed": "No",
         "ApplicantIncome": 2799,
         "CoapplicantIncome": 2253,
         "LoanAmount": 122,
         "Loan_Amount_Term": 360,
         "Credit_History": 1,
         "Property_Area": "Semiurban",
         "Loan_Status": "Y",
         "_deepnote_index_column": 26
        },
        {
         "Loan_ID": "LP001073",
         "Gender": "Male",
         "Married": "Yes",
         "Dependents": "2",
         "Education": "Not Graduate",
         "Self_Employed": "No",
         "ApplicantIncome": 4226,
         "CoapplicantIncome": 1040,
         "LoanAmount": 110,
         "Loan_Amount_Term": 360,
         "Credit_History": 1,
         "Property_Area": "Urban",
         "Loan_Status": "Y",
         "_deepnote_index_column": 27
        },
        {
         "Loan_ID": "LP001086",
         "Gender": "Male",
         "Married": "No",
         "Dependents": "0",
         "Education": "Not Graduate",
         "Self_Employed": "No",
         "ApplicantIncome": 1442,
         "CoapplicantIncome": 0,
         "LoanAmount": 35,
         "Loan_Amount_Term": 360,
         "Credit_History": 1,
         "Property_Area": "Urban",
         "Loan_Status": "N",
         "_deepnote_index_column": 28
        },
        {
         "Loan_ID": "LP001095",
         "Gender": "Male",
         "Married": "No",
         "Dependents": "0",
         "Education": "Graduate",
         "Self_Employed": "No",
         "ApplicantIncome": 3167,
         "CoapplicantIncome": 0,
         "LoanAmount": 74,
         "Loan_Amount_Term": 360,
         "Credit_History": 1,
         "Property_Area": "Urban",
         "Loan_Status": "N",
         "_deepnote_index_column": 31
        },
        {
         "Loan_ID": "LP001097",
         "Gender": "Male",
         "Married": "No",
         "Dependents": "1",
         "Education": "Graduate",
         "Self_Employed": "Yes",
         "ApplicantIncome": 4692,
         "CoapplicantIncome": 0,
         "LoanAmount": 106,
         "Loan_Amount_Term": 360,
         "Credit_History": 1,
         "Property_Area": "Rural",
         "Loan_Status": "N",
         "_deepnote_index_column": 32
        },
        {
         "Loan_ID": "LP001098",
         "Gender": "Male",
         "Married": "Yes",
         "Dependents": "0",
         "Education": "Graduate",
         "Self_Employed": "No",
         "ApplicantIncome": 3500,
         "CoapplicantIncome": 1667,
         "LoanAmount": 114,
         "Loan_Amount_Term": 360,
         "Credit_History": 1,
         "Property_Area": "Semiurban",
         "Loan_Status": "Y",
         "_deepnote_index_column": 33
        },
        {
         "Loan_ID": "LP001100",
         "Gender": "Male",
         "Married": "No",
         "Dependents": "3+",
         "Education": "Graduate",
         "Self_Employed": "No",
         "ApplicantIncome": 12500,
         "CoapplicantIncome": 3000,
         "LoanAmount": 320,
         "Loan_Amount_Term": 360,
         "Credit_History": 1,
         "Property_Area": "Rural",
         "Loan_Status": "N",
         "_deepnote_index_column": 34
        },
        {
         "Loan_ID": "LP001112",
         "Gender": "Female",
         "Married": "Yes",
         "Dependents": "0",
         "Education": "Graduate",
         "Self_Employed": "No",
         "ApplicantIncome": 3667,
         "CoapplicantIncome": 1459,
         "LoanAmount": 144,
         "Loan_Amount_Term": 360,
         "Credit_History": 1,
         "Property_Area": "Semiurban",
         "Loan_Status": "Y",
         "_deepnote_index_column": 37
        },
        {
         "Loan_ID": "LP001114",
         "Gender": "Male",
         "Married": "No",
         "Dependents": "0",
         "Education": "Graduate",
         "Self_Employed": "No",
         "ApplicantIncome": 4166,
         "CoapplicantIncome": 7210,
         "LoanAmount": 184,
         "Loan_Amount_Term": 360,
         "Credit_History": 1,
         "Property_Area": "Urban",
         "Loan_Status": "Y",
         "_deepnote_index_column": 38
        },
        {
         "Loan_ID": "LP001116",
         "Gender": "Male",
         "Married": "No",
         "Dependents": "0",
         "Education": "Not Graduate",
         "Self_Employed": "No",
         "ApplicantIncome": 3748,
         "CoapplicantIncome": 1668,
         "LoanAmount": 110,
         "Loan_Amount_Term": 360,
         "Credit_History": 1,
         "Property_Area": "Semiurban",
         "Loan_Status": "Y",
         "_deepnote_index_column": 39
        },
        {
         "Loan_ID": "LP001119",
         "Gender": "Male",
         "Married": "No",
         "Dependents": "0",
         "Education": "Graduate",
         "Self_Employed": "No",
         "ApplicantIncome": 3600,
         "CoapplicantIncome": 0,
         "LoanAmount": 80,
         "Loan_Amount_Term": 360,
         "Credit_History": 1,
         "Property_Area": "Urban",
         "Loan_Status": "N",
         "_deepnote_index_column": 40
        },
        {
         "Loan_ID": "LP001120",
         "Gender": "Male",
         "Married": "No",
         "Dependents": "0",
         "Education": "Graduate",
         "Self_Employed": "No",
         "ApplicantIncome": 1800,
         "CoapplicantIncome": 1213,
         "LoanAmount": 47,
         "Loan_Amount_Term": 360,
         "Credit_History": 1,
         "Property_Area": "Urban",
         "Loan_Status": "Y",
         "_deepnote_index_column": 41
        },
        {
         "Loan_ID": "LP001131",
         "Gender": "Male",
         "Married": "Yes",
         "Dependents": "0",
         "Education": "Graduate",
         "Self_Employed": "No",
         "ApplicantIncome": 3941,
         "CoapplicantIncome": 2336,
         "LoanAmount": 134,
         "Loan_Amount_Term": 360,
         "Credit_History": 1,
         "Property_Area": "Semiurban",
         "Loan_Status": "Y",
         "_deepnote_index_column": 43
        },
        {
         "Loan_ID": "LP001138",
         "Gender": "Male",
         "Married": "Yes",
         "Dependents": "1",
         "Education": "Graduate",
         "Self_Employed": "No",
         "ApplicantIncome": 5649,
         "CoapplicantIncome": 0,
         "LoanAmount": 44,
         "Loan_Amount_Term": 360,
         "Credit_History": 1,
         "Property_Area": "Urban",
         "Loan_Status": "Y",
         "_deepnote_index_column": 46
        },
        {
         "Loan_ID": "LP001144",
         "Gender": "Male",
         "Married": "Yes",
         "Dependents": "0",
         "Education": "Graduate",
         "Self_Employed": "No",
         "ApplicantIncome": 5821,
         "CoapplicantIncome": 0,
         "LoanAmount": 144,
         "Loan_Amount_Term": 360,
         "Credit_History": 1,
         "Property_Area": "Urban",
         "Loan_Status": "Y",
         "_deepnote_index_column": 47
        },
        {
         "Loan_ID": "LP001146",
         "Gender": "Female",
         "Married": "Yes",
         "Dependents": "0",
         "Education": "Graduate",
         "Self_Employed": "No",
         "ApplicantIncome": 2645,
         "CoapplicantIncome": 3440,
         "LoanAmount": 120,
         "Loan_Amount_Term": 360,
         "Credit_History": 0,
         "Property_Area": "Urban",
         "Loan_Status": "N",
         "_deepnote_index_column": 48
        },
        {
         "Loan_ID": "LP001151",
         "Gender": "Female",
         "Married": "No",
         "Dependents": "0",
         "Education": "Graduate",
         "Self_Employed": "No",
         "ApplicantIncome": 4000,
         "CoapplicantIncome": 2275,
         "LoanAmount": 144,
         "Loan_Amount_Term": 360,
         "Credit_History": 1,
         "Property_Area": "Semiurban",
         "Loan_Status": "Y",
         "_deepnote_index_column": 49
        },
        {
         "Loan_ID": "LP001155",
         "Gender": "Female",
         "Married": "Yes",
         "Dependents": "0",
         "Education": "Not Graduate",
         "Self_Employed": "No",
         "ApplicantIncome": 1928,
         "CoapplicantIncome": 1644,
         "LoanAmount": 100,
         "Loan_Amount_Term": 360,
         "Credit_History": 1,
         "Property_Area": "Semiurban",
         "Loan_Status": "Y",
         "_deepnote_index_column": 50
        }
       ],
       "rows_bottom": [
        {
         "Loan_ID": "LP002836",
         "Gender": "Male",
         "Married": "No",
         "Dependents": "0",
         "Education": "Graduate",
         "Self_Employed": "No",
         "ApplicantIncome": 3333,
         "CoapplicantIncome": 0,
         "LoanAmount": 70,
         "Loan_Amount_Term": 360,
         "Credit_History": 1,
         "Property_Area": "Urban",
         "Loan_Status": "Y",
         "_deepnote_index_column": 566
        },
        {
         "Loan_ID": "LP002837",
         "Gender": "Male",
         "Married": "Yes",
         "Dependents": "3+",
         "Education": "Graduate",
         "Self_Employed": "No",
         "ApplicantIncome": 3400,
         "CoapplicantIncome": 2500,
         "LoanAmount": 123,
         "Loan_Amount_Term": 360,
         "Credit_History": 0,
         "Property_Area": "Rural",
         "Loan_Status": "N",
         "_deepnote_index_column": 567
        },
        {
         "Loan_ID": "LP002840",
         "Gender": "Female",
         "Married": "No",
         "Dependents": "0",
         "Education": "Graduate",
         "Self_Employed": "No",
         "ApplicantIncome": 2378,
         "CoapplicantIncome": 0,
         "LoanAmount": 9,
         "Loan_Amount_Term": 360,
         "Credit_History": 1,
         "Property_Area": "Urban",
         "Loan_Status": "N",
         "_deepnote_index_column": 568
        },
        {
         "Loan_ID": "LP002841",
         "Gender": "Male",
         "Married": "Yes",
         "Dependents": "0",
         "Education": "Graduate",
         "Self_Employed": "No",
         "ApplicantIncome": 3166,
         "CoapplicantIncome": 2064,
         "LoanAmount": 104,
         "Loan_Amount_Term": 360,
         "Credit_History": 0,
         "Property_Area": "Urban",
         "Loan_Status": "N",
         "_deepnote_index_column": 569
        },
        {
         "Loan_ID": "LP002842",
         "Gender": "Male",
         "Married": "Yes",
         "Dependents": "1",
         "Education": "Graduate",
         "Self_Employed": "No",
         "ApplicantIncome": 3417,
         "CoapplicantIncome": 1750,
         "LoanAmount": 186,
         "Loan_Amount_Term": 360,
         "Credit_History": 1,
         "Property_Area": "Urban",
         "Loan_Status": "Y",
         "_deepnote_index_column": 570
        },
        {
         "Loan_ID": "LP002855",
         "Gender": "Male",
         "Married": "Yes",
         "Dependents": "2",
         "Education": "Graduate",
         "Self_Employed": "No",
         "ApplicantIncome": 16666,
         "CoapplicantIncome": 0,
         "LoanAmount": 275,
         "Loan_Amount_Term": 360,
         "Credit_History": 1,
         "Property_Area": "Urban",
         "Loan_Status": "Y",
         "_deepnote_index_column": 572
        },
        {
         "Loan_ID": "LP002862",
         "Gender": "Male",
         "Married": "Yes",
         "Dependents": "2",
         "Education": "Not Graduate",
         "Self_Employed": "No",
         "ApplicantIncome": 6125,
         "CoapplicantIncome": 1625,
         "LoanAmount": 187,
         "Loan_Amount_Term": 480,
         "Credit_History": 1,
         "Property_Area": "Semiurban",
         "Loan_Status": "N",
         "_deepnote_index_column": 573
        },
        {
         "Loan_ID": "LP002863",
         "Gender": "Male",
         "Married": "Yes",
         "Dependents": "3+",
         "Education": "Graduate",
         "Self_Employed": "No",
         "ApplicantIncome": 6406,
         "CoapplicantIncome": 0,
         "LoanAmount": 150,
         "Loan_Amount_Term": 360,
         "Credit_History": 1,
         "Property_Area": "Semiurban",
         "Loan_Status": "N",
         "_deepnote_index_column": 574
        },
        {
         "Loan_ID": "LP002868",
         "Gender": "Male",
         "Married": "Yes",
         "Dependents": "2",
         "Education": "Graduate",
         "Self_Employed": "No",
         "ApplicantIncome": 3159,
         "CoapplicantIncome": 461,
         "LoanAmount": 108,
         "Loan_Amount_Term": 84,
         "Credit_History": 1,
         "Property_Area": "Urban",
         "Loan_Status": "Y",
         "_deepnote_index_column": 575
        },
        {
         "Loan_ID": "LP002874",
         "Gender": "Male",
         "Married": "No",
         "Dependents": "0",
         "Education": "Graduate",
         "Self_Employed": "No",
         "ApplicantIncome": 3229,
         "CoapplicantIncome": 2739,
         "LoanAmount": 110,
         "Loan_Amount_Term": 360,
         "Credit_History": 1,
         "Property_Area": "Urban",
         "Loan_Status": "Y",
         "_deepnote_index_column": 577
        },
        {
         "Loan_ID": "LP002877",
         "Gender": "Male",
         "Married": "Yes",
         "Dependents": "1",
         "Education": "Graduate",
         "Self_Employed": "No",
         "ApplicantIncome": 1782,
         "CoapplicantIncome": 2232,
         "LoanAmount": 107,
         "Loan_Amount_Term": 360,
         "Credit_History": 1,
         "Property_Area": "Rural",
         "Loan_Status": "Y",
         "_deepnote_index_column": 578
        },
        {
         "Loan_ID": "LP002892",
         "Gender": "Male",
         "Married": "Yes",
         "Dependents": "2",
         "Education": "Graduate",
         "Self_Employed": "No",
         "ApplicantIncome": 6540,
         "CoapplicantIncome": 0,
         "LoanAmount": 205,
         "Loan_Amount_Term": 360,
         "Credit_History": 1,
         "Property_Area": "Semiurban",
         "Loan_Status": "Y",
         "_deepnote_index_column": 580
        },
        {
         "Loan_ID": "LP002893",
         "Gender": "Male",
         "Married": "No",
         "Dependents": "0",
         "Education": "Graduate",
         "Self_Employed": "No",
         "ApplicantIncome": 1836,
         "CoapplicantIncome": 33837,
         "LoanAmount": 90,
         "Loan_Amount_Term": 360,
         "Credit_History": 1,
         "Property_Area": "Urban",
         "Loan_Status": "N",
         "_deepnote_index_column": 581
        },
        {
         "Loan_ID": "LP002894",
         "Gender": "Female",
         "Married": "Yes",
         "Dependents": "0",
         "Education": "Graduate",
         "Self_Employed": "No",
         "ApplicantIncome": 3166,
         "CoapplicantIncome": 0,
         "LoanAmount": 36,
         "Loan_Amount_Term": 360,
         "Credit_History": 1,
         "Property_Area": "Semiurban",
         "Loan_Status": "Y",
         "_deepnote_index_column": 582
        },
        {
         "Loan_ID": "LP002911",
         "Gender": "Male",
         "Married": "Yes",
         "Dependents": "1",
         "Education": "Graduate",
         "Self_Employed": "No",
         "ApplicantIncome": 2787,
         "CoapplicantIncome": 1917,
         "LoanAmount": 146,
         "Loan_Amount_Term": 360,
         "Credit_History": 0,
         "Property_Area": "Rural",
         "Loan_Status": "N",
         "_deepnote_index_column": 584
        },
        {
         "Loan_ID": "LP002912",
         "Gender": "Male",
         "Married": "Yes",
         "Dependents": "1",
         "Education": "Graduate",
         "Self_Employed": "No",
         "ApplicantIncome": 4283,
         "CoapplicantIncome": 3000,
         "LoanAmount": 172,
         "Loan_Amount_Term": 84,
         "Credit_History": 1,
         "Property_Area": "Rural",
         "Loan_Status": "N",
         "_deepnote_index_column": 585
        },
        {
         "Loan_ID": "LP002916",
         "Gender": "Male",
         "Married": "Yes",
         "Dependents": "0",
         "Education": "Graduate",
         "Self_Employed": "No",
         "ApplicantIncome": 2297,
         "CoapplicantIncome": 1522,
         "LoanAmount": 104,
         "Loan_Amount_Term": 360,
         "Credit_History": 1,
         "Property_Area": "Urban",
         "Loan_Status": "Y",
         "_deepnote_index_column": 586
        },
        {
         "Loan_ID": "LP002917",
         "Gender": "Female",
         "Married": "No",
         "Dependents": "0",
         "Education": "Not Graduate",
         "Self_Employed": "No",
         "ApplicantIncome": 2165,
         "CoapplicantIncome": 0,
         "LoanAmount": 70,
         "Loan_Amount_Term": 360,
         "Credit_History": 1,
         "Property_Area": "Semiurban",
         "Loan_Status": "Y",
         "_deepnote_index_column": 587
        },
        {
         "Loan_ID": "LP002926",
         "Gender": "Male",
         "Married": "Yes",
         "Dependents": "2",
         "Education": "Graduate",
         "Self_Employed": "Yes",
         "ApplicantIncome": 2726,
         "CoapplicantIncome": 0,
         "LoanAmount": 106,
         "Loan_Amount_Term": 360,
         "Credit_History": 0,
         "Property_Area": "Semiurban",
         "Loan_Status": "N",
         "_deepnote_index_column": 589
        },
        {
         "Loan_ID": "LP002928",
         "Gender": "Male",
         "Married": "Yes",
         "Dependents": "0",
         "Education": "Graduate",
         "Self_Employed": "No",
         "ApplicantIncome": 3000,
         "CoapplicantIncome": 3416,
         "LoanAmount": 56,
         "Loan_Amount_Term": 180,
         "Credit_History": 1,
         "Property_Area": "Semiurban",
         "Loan_Status": "Y",
         "_deepnote_index_column": 590
        },
        {
         "Loan_ID": "LP002931",
         "Gender": "Male",
         "Married": "Yes",
         "Dependents": "2",
         "Education": "Graduate",
         "Self_Employed": "Yes",
         "ApplicantIncome": 6000,
         "CoapplicantIncome": 0,
         "LoanAmount": 205,
         "Loan_Amount_Term": 240,
         "Credit_History": 1,
         "Property_Area": "Semiurban",
         "Loan_Status": "N",
         "_deepnote_index_column": 591
        },
        {
         "Loan_ID": "LP002936",
         "Gender": "Male",
         "Married": "Yes",
         "Dependents": "0",
         "Education": "Graduate",
         "Self_Employed": "No",
         "ApplicantIncome": 3859,
         "CoapplicantIncome": 3300,
         "LoanAmount": 142,
         "Loan_Amount_Term": 180,
         "Credit_History": 1,
         "Property_Area": "Rural",
         "Loan_Status": "Y",
         "_deepnote_index_column": 593
        },
        {
         "Loan_ID": "LP002938",
         "Gender": "Male",
         "Married": "Yes",
         "Dependents": "0",
         "Education": "Graduate",
         "Self_Employed": "Yes",
         "ApplicantIncome": 16120,
         "CoapplicantIncome": 0,
         "LoanAmount": 260,
         "Loan_Amount_Term": 360,
         "Credit_History": 1,
         "Property_Area": "Urban",
         "Loan_Status": "Y",
         "_deepnote_index_column": 594
        },
        {
         "Loan_ID": "LP002940",
         "Gender": "Male",
         "Married": "No",
         "Dependents": "0",
         "Education": "Not Graduate",
         "Self_Employed": "No",
         "ApplicantIncome": 3833,
         "CoapplicantIncome": 0,
         "LoanAmount": 110,
         "Loan_Amount_Term": 360,
         "Credit_History": 1,
         "Property_Area": "Rural",
         "Loan_Status": "Y",
         "_deepnote_index_column": 595
        },
        {
         "Loan_ID": "LP002941",
         "Gender": "Male",
         "Married": "Yes",
         "Dependents": "2",
         "Education": "Not Graduate",
         "Self_Employed": "Yes",
         "ApplicantIncome": 6383,
         "CoapplicantIncome": 1000,
         "LoanAmount": 187,
         "Loan_Amount_Term": 360,
         "Credit_History": 1,
         "Property_Area": "Rural",
         "Loan_Status": "N",
         "_deepnote_index_column": 596
        },
        {
         "Loan_ID": "LP002945",
         "Gender": "Male",
         "Married": "Yes",
         "Dependents": "0",
         "Education": "Graduate",
         "Self_Employed": "Yes",
         "ApplicantIncome": 9963,
         "CoapplicantIncome": 0,
         "LoanAmount": 180,
         "Loan_Amount_Term": 360,
         "Credit_History": 1,
         "Property_Area": "Rural",
         "Loan_Status": "Y",
         "_deepnote_index_column": 598
        },
        {
         "Loan_ID": "LP002948",
         "Gender": "Male",
         "Married": "Yes",
         "Dependents": "2",
         "Education": "Graduate",
         "Self_Employed": "No",
         "ApplicantIncome": 5780,
         "CoapplicantIncome": 0,
         "LoanAmount": 192,
         "Loan_Amount_Term": 360,
         "Credit_History": 1,
         "Property_Area": "Urban",
         "Loan_Status": "Y",
         "_deepnote_index_column": 599
        },
        {
         "Loan_ID": "LP002953",
         "Gender": "Male",
         "Married": "Yes",
         "Dependents": "3+",
         "Education": "Graduate",
         "Self_Employed": "No",
         "ApplicantIncome": 5703,
         "CoapplicantIncome": 0,
         "LoanAmount": 128,
         "Loan_Amount_Term": 360,
         "Credit_History": 1,
         "Property_Area": "Urban",
         "Loan_Status": "Y",
         "_deepnote_index_column": 602
        },
        {
         "Loan_ID": "LP002958",
         "Gender": "Male",
         "Married": "No",
         "Dependents": "0",
         "Education": "Graduate",
         "Self_Employed": "No",
         "ApplicantIncome": 3676,
         "CoapplicantIncome": 4301,
         "LoanAmount": 172,
         "Loan_Amount_Term": 360,
         "Credit_History": 1,
         "Property_Area": "Rural",
         "Loan_Status": "Y",
         "_deepnote_index_column": 603
        },
        {
         "Loan_ID": "LP002959",
         "Gender": "Female",
         "Married": "Yes",
         "Dependents": "1",
         "Education": "Graduate",
         "Self_Employed": "No",
         "ApplicantIncome": 12000,
         "CoapplicantIncome": 0,
         "LoanAmount": 496,
         "Loan_Amount_Term": 360,
         "Credit_History": 1,
         "Property_Area": "Semiurban",
         "Loan_Status": "Y",
         "_deepnote_index_column": 604
        },
        {
         "Loan_ID": "LP002961",
         "Gender": "Male",
         "Married": "Yes",
         "Dependents": "1",
         "Education": "Graduate",
         "Self_Employed": "No",
         "ApplicantIncome": 3400,
         "CoapplicantIncome": 2500,
         "LoanAmount": 173,
         "Loan_Amount_Term": 360,
         "Credit_History": 1,
         "Property_Area": "Semiurban",
         "Loan_Status": "Y",
         "_deepnote_index_column": 606
        },
        {
         "Loan_ID": "LP002964",
         "Gender": "Male",
         "Married": "Yes",
         "Dependents": "2",
         "Education": "Not Graduate",
         "Self_Employed": "No",
         "ApplicantIncome": 3987,
         "CoapplicantIncome": 1411,
         "LoanAmount": 157,
         "Loan_Amount_Term": 360,
         "Credit_History": 1,
         "Property_Area": "Rural",
         "Loan_Status": "Y",
         "_deepnote_index_column": 607
        },
        {
         "Loan_ID": "LP002974",
         "Gender": "Male",
         "Married": "Yes",
         "Dependents": "0",
         "Education": "Graduate",
         "Self_Employed": "No",
         "ApplicantIncome": 3232,
         "CoapplicantIncome": 1950,
         "LoanAmount": 108,
         "Loan_Amount_Term": 360,
         "Credit_History": 1,
         "Property_Area": "Rural",
         "Loan_Status": "Y",
         "_deepnote_index_column": 608
        },
        {
         "Loan_ID": "LP002978",
         "Gender": "Female",
         "Married": "No",
         "Dependents": "0",
         "Education": "Graduate",
         "Self_Employed": "No",
         "ApplicantIncome": 2900,
         "CoapplicantIncome": 0,
         "LoanAmount": 71,
         "Loan_Amount_Term": 360,
         "Credit_History": 1,
         "Property_Area": "Rural",
         "Loan_Status": "Y",
         "_deepnote_index_column": 609
        },
        {
         "Loan_ID": "LP002979",
         "Gender": "Male",
         "Married": "Yes",
         "Dependents": "3+",
         "Education": "Graduate",
         "Self_Employed": "No",
         "ApplicantIncome": 4106,
         "CoapplicantIncome": 0,
         "LoanAmount": 40,
         "Loan_Amount_Term": 180,
         "Credit_History": 1,
         "Property_Area": "Rural",
         "Loan_Status": "Y",
         "_deepnote_index_column": 610
        },
        {
         "Loan_ID": "LP002983",
         "Gender": "Male",
         "Married": "Yes",
         "Dependents": "1",
         "Education": "Graduate",
         "Self_Employed": "No",
         "ApplicantIncome": 8072,
         "CoapplicantIncome": 240,
         "LoanAmount": 253,
         "Loan_Amount_Term": 360,
         "Credit_History": 1,
         "Property_Area": "Urban",
         "Loan_Status": "Y",
         "_deepnote_index_column": 611
        },
        {
         "Loan_ID": "LP002984",
         "Gender": "Male",
         "Married": "Yes",
         "Dependents": "2",
         "Education": "Graduate",
         "Self_Employed": "No",
         "ApplicantIncome": 7583,
         "CoapplicantIncome": 0,
         "LoanAmount": 187,
         "Loan_Amount_Term": 360,
         "Credit_History": 1,
         "Property_Area": "Urban",
         "Loan_Status": "Y",
         "_deepnote_index_column": 612
        },
        {
         "Loan_ID": "LP002990",
         "Gender": "Female",
         "Married": "No",
         "Dependents": "0",
         "Education": "Graduate",
         "Self_Employed": "Yes",
         "ApplicantIncome": 4583,
         "CoapplicantIncome": 0,
         "LoanAmount": 133,
         "Loan_Amount_Term": 360,
         "Credit_History": 0,
         "Property_Area": "Semiurban",
         "Loan_Status": "N",
         "_deepnote_index_column": 613
        }
       ]
      },
      "text/plain": "      Loan_ID  Gender Married Dependents     Education Self_Employed  \\\n1    LP001003    Male     Yes          1      Graduate            No   \n2    LP001005    Male     Yes          0      Graduate           Yes   \n3    LP001006    Male     Yes          0  Not Graduate            No   \n4    LP001008    Male      No          0      Graduate            No   \n5    LP001011    Male     Yes          2      Graduate           Yes   \n..        ...     ...     ...        ...           ...           ...   \n609  LP002978  Female      No          0      Graduate            No   \n610  LP002979    Male     Yes         3+      Graduate            No   \n611  LP002983    Male     Yes          1      Graduate            No   \n612  LP002984    Male     Yes          2      Graduate            No   \n613  LP002990  Female      No          0      Graduate           Yes   \n\n     ApplicantIncome  CoapplicantIncome  LoanAmount  Loan_Amount_Term  \\\n1               4583             1508.0       128.0             360.0   \n2               3000                0.0        66.0             360.0   \n3               2583             2358.0       120.0             360.0   \n4               6000                0.0       141.0             360.0   \n5               5417             4196.0       267.0             360.0   \n..               ...                ...         ...               ...   \n609             2900                0.0        71.0             360.0   \n610             4106                0.0        40.0             180.0   \n611             8072              240.0       253.0             360.0   \n612             7583                0.0       187.0             360.0   \n613             4583                0.0       133.0             360.0   \n\n     Credit_History Property_Area Loan_Status  \n1               1.0         Rural           N  \n2               1.0         Urban           Y  \n3               1.0         Urban           Y  \n4               1.0         Urban           Y  \n5               1.0         Urban           Y  \n..              ...           ...         ...  \n609             1.0         Rural           Y  \n610             1.0         Rural           Y  \n611             1.0         Urban           Y  \n612             1.0         Urban           Y  \n613             0.0     Semiurban           N  \n\n[480 rows x 13 columns]",
      "text/html": "<div>\n<style scoped>\n    .dataframe tbody tr th:only-of-type {\n        vertical-align: middle;\n    }\n\n    .dataframe tbody tr th {\n        vertical-align: top;\n    }\n\n    .dataframe thead th {\n        text-align: right;\n    }\n</style>\n<table border=\"1\" class=\"dataframe\">\n  <thead>\n    <tr style=\"text-align: right;\">\n      <th></th>\n      <th>Loan_ID</th>\n      <th>Gender</th>\n      <th>Married</th>\n      <th>Dependents</th>\n      <th>Education</th>\n      <th>Self_Employed</th>\n      <th>ApplicantIncome</th>\n      <th>CoapplicantIncome</th>\n      <th>LoanAmount</th>\n      <th>Loan_Amount_Term</th>\n      <th>Credit_History</th>\n      <th>Property_Area</th>\n      <th>Loan_Status</th>\n    </tr>\n  </thead>\n  <tbody>\n    <tr>\n      <th>1</th>\n      <td>LP001003</td>\n      <td>Male</td>\n      <td>Yes</td>\n      <td>1</td>\n      <td>Graduate</td>\n      <td>No</td>\n      <td>4583</td>\n      <td>1508.0</td>\n      <td>128.0</td>\n      <td>360.0</td>\n      <td>1.0</td>\n      <td>Rural</td>\n      <td>N</td>\n    </tr>\n    <tr>\n      <th>2</th>\n      <td>LP001005</td>\n      <td>Male</td>\n      <td>Yes</td>\n      <td>0</td>\n      <td>Graduate</td>\n      <td>Yes</td>\n      <td>3000</td>\n      <td>0.0</td>\n      <td>66.0</td>\n      <td>360.0</td>\n      <td>1.0</td>\n      <td>Urban</td>\n      <td>Y</td>\n    </tr>\n    <tr>\n      <th>3</th>\n      <td>LP001006</td>\n      <td>Male</td>\n      <td>Yes</td>\n      <td>0</td>\n      <td>Not Graduate</td>\n      <td>No</td>\n      <td>2583</td>\n      <td>2358.0</td>\n      <td>120.0</td>\n      <td>360.0</td>\n      <td>1.0</td>\n      <td>Urban</td>\n      <td>Y</td>\n    </tr>\n    <tr>\n      <th>4</th>\n      <td>LP001008</td>\n      <td>Male</td>\n      <td>No</td>\n      <td>0</td>\n      <td>Graduate</td>\n      <td>No</td>\n      <td>6000</td>\n      <td>0.0</td>\n      <td>141.0</td>\n      <td>360.0</td>\n      <td>1.0</td>\n      <td>Urban</td>\n      <td>Y</td>\n    </tr>\n    <tr>\n      <th>5</th>\n      <td>LP001011</td>\n      <td>Male</td>\n      <td>Yes</td>\n      <td>2</td>\n      <td>Graduate</td>\n      <td>Yes</td>\n      <td>5417</td>\n      <td>4196.0</td>\n      <td>267.0</td>\n      <td>360.0</td>\n      <td>1.0</td>\n      <td>Urban</td>\n      <td>Y</td>\n    </tr>\n    <tr>\n      <th>...</th>\n      <td>...</td>\n      <td>...</td>\n      <td>...</td>\n      <td>...</td>\n      <td>...</td>\n      <td>...</td>\n      <td>...</td>\n      <td>...</td>\n      <td>...</td>\n      <td>...</td>\n      <td>...</td>\n      <td>...</td>\n      <td>...</td>\n    </tr>\n    <tr>\n      <th>609</th>\n      <td>LP002978</td>\n      <td>Female</td>\n      <td>No</td>\n      <td>0</td>\n      <td>Graduate</td>\n      <td>No</td>\n      <td>2900</td>\n      <td>0.0</td>\n      <td>71.0</td>\n      <td>360.0</td>\n      <td>1.0</td>\n      <td>Rural</td>\n      <td>Y</td>\n    </tr>\n    <tr>\n      <th>610</th>\n      <td>LP002979</td>\n      <td>Male</td>\n      <td>Yes</td>\n      <td>3+</td>\n      <td>Graduate</td>\n      <td>No</td>\n      <td>4106</td>\n      <td>0.0</td>\n      <td>40.0</td>\n      <td>180.0</td>\n      <td>1.0</td>\n      <td>Rural</td>\n      <td>Y</td>\n    </tr>\n    <tr>\n      <th>611</th>\n      <td>LP002983</td>\n      <td>Male</td>\n      <td>Yes</td>\n      <td>1</td>\n      <td>Graduate</td>\n      <td>No</td>\n      <td>8072</td>\n      <td>240.0</td>\n      <td>253.0</td>\n      <td>360.0</td>\n      <td>1.0</td>\n      <td>Urban</td>\n      <td>Y</td>\n    </tr>\n    <tr>\n      <th>612</th>\n      <td>LP002984</td>\n      <td>Male</td>\n      <td>Yes</td>\n      <td>2</td>\n      <td>Graduate</td>\n      <td>No</td>\n      <td>7583</td>\n      <td>0.0</td>\n      <td>187.0</td>\n      <td>360.0</td>\n      <td>1.0</td>\n      <td>Urban</td>\n      <td>Y</td>\n    </tr>\n    <tr>\n      <th>613</th>\n      <td>LP002990</td>\n      <td>Female</td>\n      <td>No</td>\n      <td>0</td>\n      <td>Graduate</td>\n      <td>Yes</td>\n      <td>4583</td>\n      <td>0.0</td>\n      <td>133.0</td>\n      <td>360.0</td>\n      <td>0.0</td>\n      <td>Semiurban</td>\n      <td>N</td>\n    </tr>\n  </tbody>\n</table>\n<p>480 rows × 13 columns</p>\n</div>"
     },
     "metadata": {}
    }
   ],
   "execution_count": null
  },
  {
   "cell_type": "code",
   "metadata": {
    "tags": [],
    "cell_id": "00008-37979556-800e-42c5-b7c5-a1b0f1998da9",
    "deepnote_to_be_reexecuted": false,
    "source_hash": "61f9ed66",
    "execution_start": 1636293313127,
    "execution_millis": 129,
    "deepnote_cell_type": "code"
   },
   "source": "df = df.drop(\"Loan_ID\", axis=1)\n\nd1 = {\"Y\": 1, \"N\": 0}\nd2 = {\"Yes\": 1, \"No\": 0}\nd3 = {\"Male\": 1, \"Female\": 0}\nd4 = {\"0\": 0, \"1\": 1, \"2\": 2, \"3+\": 3}\nd5 = {\"Graduate\": 1, \"Not Graduate\": 0}\nd6 = {\"Rural\": 0, \"Semiurban\": 0.5, \"Urban\": 1}\n\ncleanup_nums = {\"Loan_Status\": d1, \"Married\": d2, \"Self_Employed\": d2, \"Gender\": d3,\n\"Dependents\": d4, \"Education\": d5, \"Property_Area\": d6}\n\ndf.replace(cleanup_nums, inplace=True)\ndf",
   "outputs": [
    {
     "output_type": "execute_result",
     "execution_count": 7,
     "data": {
      "application/vnd.deepnote.dataframe.v2+json": {
       "row_count": 480,
       "column_count": 12,
       "columns": [
        {
         "name": "Gender",
         "dtype": "int64",
         "stats": {
          "unique_count": 2,
          "nan_count": 0,
          "min": "0",
          "max": "1",
          "histogram": [
           {
            "bin_start": 0,
            "bin_end": 0.1,
            "count": 86
           },
           {
            "bin_start": 0.1,
            "bin_end": 0.2,
            "count": 0
           },
           {
            "bin_start": 0.2,
            "bin_end": 0.30000000000000004,
            "count": 0
           },
           {
            "bin_start": 0.30000000000000004,
            "bin_end": 0.4,
            "count": 0
           },
           {
            "bin_start": 0.4,
            "bin_end": 0.5,
            "count": 0
           },
           {
            "bin_start": 0.5,
            "bin_end": 0.6000000000000001,
            "count": 0
           },
           {
            "bin_start": 0.6000000000000001,
            "bin_end": 0.7000000000000001,
            "count": 0
           },
           {
            "bin_start": 0.7000000000000001,
            "bin_end": 0.8,
            "count": 0
           },
           {
            "bin_start": 0.8,
            "bin_end": 0.9,
            "count": 0
           },
           {
            "bin_start": 0.9,
            "bin_end": 1,
            "count": 394
           }
          ]
         }
        },
        {
         "name": "Married",
         "dtype": "int64",
         "stats": {
          "unique_count": 2,
          "nan_count": 0,
          "min": "0",
          "max": "1",
          "histogram": [
           {
            "bin_start": 0,
            "bin_end": 0.1,
            "count": 169
           },
           {
            "bin_start": 0.1,
            "bin_end": 0.2,
            "count": 0
           },
           {
            "bin_start": 0.2,
            "bin_end": 0.30000000000000004,
            "count": 0
           },
           {
            "bin_start": 0.30000000000000004,
            "bin_end": 0.4,
            "count": 0
           },
           {
            "bin_start": 0.4,
            "bin_end": 0.5,
            "count": 0
           },
           {
            "bin_start": 0.5,
            "bin_end": 0.6000000000000001,
            "count": 0
           },
           {
            "bin_start": 0.6000000000000001,
            "bin_end": 0.7000000000000001,
            "count": 0
           },
           {
            "bin_start": 0.7000000000000001,
            "bin_end": 0.8,
            "count": 0
           },
           {
            "bin_start": 0.8,
            "bin_end": 0.9,
            "count": 0
           },
           {
            "bin_start": 0.9,
            "bin_end": 1,
            "count": 311
           }
          ]
         }
        },
        {
         "name": "Dependents",
         "dtype": "int64",
         "stats": {
          "unique_count": 4,
          "nan_count": 0,
          "min": "0",
          "max": "3",
          "histogram": [
           {
            "bin_start": 0,
            "bin_end": 0.3,
            "count": 274
           },
           {
            "bin_start": 0.3,
            "bin_end": 0.6,
            "count": 0
           },
           {
            "bin_start": 0.6,
            "bin_end": 0.8999999999999999,
            "count": 0
           },
           {
            "bin_start": 0.8999999999999999,
            "bin_end": 1.2,
            "count": 80
           },
           {
            "bin_start": 1.2,
            "bin_end": 1.5,
            "count": 0
           },
           {
            "bin_start": 1.5,
            "bin_end": 1.7999999999999998,
            "count": 0
           },
           {
            "bin_start": 1.7999999999999998,
            "bin_end": 2.1,
            "count": 85
           },
           {
            "bin_start": 2.1,
            "bin_end": 2.4,
            "count": 0
           },
           {
            "bin_start": 2.4,
            "bin_end": 2.6999999999999997,
            "count": 0
           },
           {
            "bin_start": 2.6999999999999997,
            "bin_end": 3,
            "count": 41
           }
          ]
         }
        },
        {
         "name": "Education",
         "dtype": "int64",
         "stats": {
          "unique_count": 2,
          "nan_count": 0,
          "min": "0",
          "max": "1",
          "histogram": [
           {
            "bin_start": 0,
            "bin_end": 0.1,
            "count": 97
           },
           {
            "bin_start": 0.1,
            "bin_end": 0.2,
            "count": 0
           },
           {
            "bin_start": 0.2,
            "bin_end": 0.30000000000000004,
            "count": 0
           },
           {
            "bin_start": 0.30000000000000004,
            "bin_end": 0.4,
            "count": 0
           },
           {
            "bin_start": 0.4,
            "bin_end": 0.5,
            "count": 0
           },
           {
            "bin_start": 0.5,
            "bin_end": 0.6000000000000001,
            "count": 0
           },
           {
            "bin_start": 0.6000000000000001,
            "bin_end": 0.7000000000000001,
            "count": 0
           },
           {
            "bin_start": 0.7000000000000001,
            "bin_end": 0.8,
            "count": 0
           },
           {
            "bin_start": 0.8,
            "bin_end": 0.9,
            "count": 0
           },
           {
            "bin_start": 0.9,
            "bin_end": 1,
            "count": 383
           }
          ]
         }
        },
        {
         "name": "Self_Employed",
         "dtype": "int64",
         "stats": {
          "unique_count": 2,
          "nan_count": 0,
          "min": "0",
          "max": "1",
          "histogram": [
           {
            "bin_start": 0,
            "bin_end": 0.1,
            "count": 414
           },
           {
            "bin_start": 0.1,
            "bin_end": 0.2,
            "count": 0
           },
           {
            "bin_start": 0.2,
            "bin_end": 0.30000000000000004,
            "count": 0
           },
           {
            "bin_start": 0.30000000000000004,
            "bin_end": 0.4,
            "count": 0
           },
           {
            "bin_start": 0.4,
            "bin_end": 0.5,
            "count": 0
           },
           {
            "bin_start": 0.5,
            "bin_end": 0.6000000000000001,
            "count": 0
           },
           {
            "bin_start": 0.6000000000000001,
            "bin_end": 0.7000000000000001,
            "count": 0
           },
           {
            "bin_start": 0.7000000000000001,
            "bin_end": 0.8,
            "count": 0
           },
           {
            "bin_start": 0.8,
            "bin_end": 0.9,
            "count": 0
           },
           {
            "bin_start": 0.9,
            "bin_end": 1,
            "count": 66
           }
          ]
         }
        },
        {
         "name": "ApplicantIncome",
         "dtype": "int64",
         "stats": {
          "unique_count": 405,
          "nan_count": 0,
          "min": "150",
          "max": "81000",
          "histogram": [
           {
            "bin_start": 150,
            "bin_end": 8235,
            "count": 412
           },
           {
            "bin_start": 8235,
            "bin_end": 16320,
            "count": 53
           },
           {
            "bin_start": 16320,
            "bin_end": 24405,
            "count": 10
           },
           {
            "bin_start": 24405,
            "bin_end": 32490,
            "count": 0
           },
           {
            "bin_start": 32490,
            "bin_end": 40575,
            "count": 4
           },
           {
            "bin_start": 40575,
            "bin_end": 48660,
            "count": 0
           },
           {
            "bin_start": 48660,
            "bin_end": 56745,
            "count": 0
           },
           {
            "bin_start": 56745,
            "bin_end": 64830,
            "count": 0
           },
           {
            "bin_start": 64830,
            "bin_end": 72915,
            "count": 0
           },
           {
            "bin_start": 72915,
            "bin_end": 81000,
            "count": 1
           }
          ]
         }
        },
        {
         "name": "CoapplicantIncome",
         "dtype": "float64",
         "stats": {
          "unique_count": 232,
          "nan_count": 0,
          "min": "0.0",
          "max": "33837.0",
          "histogram": [
           {
            "bin_start": 0,
            "bin_end": 3383.7,
            "count": 418
           },
           {
            "bin_start": 3383.7,
            "bin_end": 6767.4,
            "count": 49
           },
           {
            "bin_start": 6767.4,
            "bin_end": 10151.099999999999,
            "count": 8
           },
           {
            "bin_start": 10151.099999999999,
            "bin_end": 13534.8,
            "count": 2
           },
           {
            "bin_start": 13534.8,
            "bin_end": 16918.5,
            "count": 0
           },
           {
            "bin_start": 16918.5,
            "bin_end": 20302.199999999997,
            "count": 2
           },
           {
            "bin_start": 20302.199999999997,
            "bin_end": 23685.899999999998,
            "count": 0
           },
           {
            "bin_start": 23685.899999999998,
            "bin_end": 27069.6,
            "count": 0
           },
           {
            "bin_start": 27069.6,
            "bin_end": 30453.3,
            "count": 0
           },
           {
            "bin_start": 30453.3,
            "bin_end": 33837,
            "count": 1
           }
          ]
         }
        },
        {
         "name": "LoanAmount",
         "dtype": "float64",
         "stats": {
          "unique_count": 186,
          "nan_count": 0,
          "min": "9.0",
          "max": "600.0",
          "histogram": [
           {
            "bin_start": 9,
            "bin_end": 68.1,
            "count": 42
           },
           {
            "bin_start": 68.1,
            "bin_end": 127.2,
            "count": 194
           },
           {
            "bin_start": 127.2,
            "bin_end": 186.3,
            "count": 153
           },
           {
            "bin_start": 186.3,
            "bin_end": 245.4,
            "count": 49
           },
           {
            "bin_start": 245.4,
            "bin_end": 304.5,
            "count": 22
           },
           {
            "bin_start": 304.5,
            "bin_end": 363.6,
            "count": 8
           },
           {
            "bin_start": 363.6,
            "bin_end": 422.7,
            "count": 3
           },
           {
            "bin_start": 422.7,
            "bin_end": 481.8,
            "count": 3
           },
           {
            "bin_start": 481.8,
            "bin_end": 540.9,
            "count": 3
           },
           {
            "bin_start": 540.9,
            "bin_end": 600,
            "count": 3
           }
          ]
         }
        },
        {
         "name": "Loan_Amount_Term",
         "dtype": "float64",
         "stats": {
          "unique_count": 9,
          "nan_count": 0,
          "min": "36.0",
          "max": "480.0",
          "histogram": [
           {
            "bin_start": 36,
            "bin_end": 80.4,
            "count": 4
           },
           {
            "bin_start": 80.4,
            "bin_end": 124.8,
            "count": 6
           },
           {
            "bin_start": 124.8,
            "bin_end": 169.2,
            "count": 0
           },
           {
            "bin_start": 169.2,
            "bin_end": 213.6,
            "count": 36
           },
           {
            "bin_start": 213.6,
            "bin_end": 258,
            "count": 2
           },
           {
            "bin_start": 258,
            "bin_end": 302.4,
            "count": 9
           },
           {
            "bin_start": 302.4,
            "bin_end": 346.8,
            "count": 0
           },
           {
            "bin_start": 346.8,
            "bin_end": 391.2,
            "count": 411
           },
           {
            "bin_start": 391.2,
            "bin_end": 435.59999999999997,
            "count": 0
           },
           {
            "bin_start": 435.59999999999997,
            "bin_end": 480,
            "count": 12
           }
          ]
         }
        },
        {
         "name": "Credit_History",
         "dtype": "float64",
         "stats": {
          "unique_count": 2,
          "nan_count": 0,
          "min": "0.0",
          "max": "1.0",
          "histogram": [
           {
            "bin_start": 0,
            "bin_end": 0.1,
            "count": 70
           },
           {
            "bin_start": 0.1,
            "bin_end": 0.2,
            "count": 0
           },
           {
            "bin_start": 0.2,
            "bin_end": 0.30000000000000004,
            "count": 0
           },
           {
            "bin_start": 0.30000000000000004,
            "bin_end": 0.4,
            "count": 0
           },
           {
            "bin_start": 0.4,
            "bin_end": 0.5,
            "count": 0
           },
           {
            "bin_start": 0.5,
            "bin_end": 0.6000000000000001,
            "count": 0
           },
           {
            "bin_start": 0.6000000000000001,
            "bin_end": 0.7000000000000001,
            "count": 0
           },
           {
            "bin_start": 0.7000000000000001,
            "bin_end": 0.8,
            "count": 0
           },
           {
            "bin_start": 0.8,
            "bin_end": 0.9,
            "count": 0
           },
           {
            "bin_start": 0.9,
            "bin_end": 1,
            "count": 410
           }
          ]
         }
        },
        {
         "name": "Property_Area",
         "dtype": "float64",
         "stats": {
          "unique_count": 3,
          "nan_count": 0,
          "min": "0.0",
          "max": "1.0",
          "histogram": [
           {
            "bin_start": 0,
            "bin_end": 0.1,
            "count": 139
           },
           {
            "bin_start": 0.1,
            "bin_end": 0.2,
            "count": 0
           },
           {
            "bin_start": 0.2,
            "bin_end": 0.30000000000000004,
            "count": 0
           },
           {
            "bin_start": 0.30000000000000004,
            "bin_end": 0.4,
            "count": 0
           },
           {
            "bin_start": 0.4,
            "bin_end": 0.5,
            "count": 0
           },
           {
            "bin_start": 0.5,
            "bin_end": 0.6000000000000001,
            "count": 191
           },
           {
            "bin_start": 0.6000000000000001,
            "bin_end": 0.7000000000000001,
            "count": 0
           },
           {
            "bin_start": 0.7000000000000001,
            "bin_end": 0.8,
            "count": 0
           },
           {
            "bin_start": 0.8,
            "bin_end": 0.9,
            "count": 0
           },
           {
            "bin_start": 0.9,
            "bin_end": 1,
            "count": 150
           }
          ]
         }
        },
        {
         "name": "Loan_Status",
         "dtype": "int64",
         "stats": {
          "unique_count": 2,
          "nan_count": 0,
          "min": "0",
          "max": "1",
          "histogram": [
           {
            "bin_start": 0,
            "bin_end": 0.1,
            "count": 148
           },
           {
            "bin_start": 0.1,
            "bin_end": 0.2,
            "count": 0
           },
           {
            "bin_start": 0.2,
            "bin_end": 0.30000000000000004,
            "count": 0
           },
           {
            "bin_start": 0.30000000000000004,
            "bin_end": 0.4,
            "count": 0
           },
           {
            "bin_start": 0.4,
            "bin_end": 0.5,
            "count": 0
           },
           {
            "bin_start": 0.5,
            "bin_end": 0.6000000000000001,
            "count": 0
           },
           {
            "bin_start": 0.6000000000000001,
            "bin_end": 0.7000000000000001,
            "count": 0
           },
           {
            "bin_start": 0.7000000000000001,
            "bin_end": 0.8,
            "count": 0
           },
           {
            "bin_start": 0.8,
            "bin_end": 0.9,
            "count": 0
           },
           {
            "bin_start": 0.9,
            "bin_end": 1,
            "count": 332
           }
          ]
         }
        },
        {
         "name": "_deepnote_index_column",
         "dtype": "int64"
        }
       ],
       "rows_top": [
        {
         "Gender": 1,
         "Married": 1,
         "Dependents": 1,
         "Education": 1,
         "Self_Employed": 0,
         "ApplicantIncome": 4583,
         "CoapplicantIncome": 1508,
         "LoanAmount": 128,
         "Loan_Amount_Term": 360,
         "Credit_History": 1,
         "Property_Area": 0,
         "Loan_Status": 0,
         "_deepnote_index_column": 1
        },
        {
         "Gender": 1,
         "Married": 1,
         "Dependents": 0,
         "Education": 1,
         "Self_Employed": 1,
         "ApplicantIncome": 3000,
         "CoapplicantIncome": 0,
         "LoanAmount": 66,
         "Loan_Amount_Term": 360,
         "Credit_History": 1,
         "Property_Area": 1,
         "Loan_Status": 1,
         "_deepnote_index_column": 2
        },
        {
         "Gender": 1,
         "Married": 1,
         "Dependents": 0,
         "Education": 0,
         "Self_Employed": 0,
         "ApplicantIncome": 2583,
         "CoapplicantIncome": 2358,
         "LoanAmount": 120,
         "Loan_Amount_Term": 360,
         "Credit_History": 1,
         "Property_Area": 1,
         "Loan_Status": 1,
         "_deepnote_index_column": 3
        },
        {
         "Gender": 1,
         "Married": 0,
         "Dependents": 0,
         "Education": 1,
         "Self_Employed": 0,
         "ApplicantIncome": 6000,
         "CoapplicantIncome": 0,
         "LoanAmount": 141,
         "Loan_Amount_Term": 360,
         "Credit_History": 1,
         "Property_Area": 1,
         "Loan_Status": 1,
         "_deepnote_index_column": 4
        },
        {
         "Gender": 1,
         "Married": 1,
         "Dependents": 2,
         "Education": 1,
         "Self_Employed": 1,
         "ApplicantIncome": 5417,
         "CoapplicantIncome": 4196,
         "LoanAmount": 267,
         "Loan_Amount_Term": 360,
         "Credit_History": 1,
         "Property_Area": 1,
         "Loan_Status": 1,
         "_deepnote_index_column": 5
        },
        {
         "Gender": 1,
         "Married": 1,
         "Dependents": 0,
         "Education": 0,
         "Self_Employed": 0,
         "ApplicantIncome": 2333,
         "CoapplicantIncome": 1516,
         "LoanAmount": 95,
         "Loan_Amount_Term": 360,
         "Credit_History": 1,
         "Property_Area": 1,
         "Loan_Status": 1,
         "_deepnote_index_column": 6
        },
        {
         "Gender": 1,
         "Married": 1,
         "Dependents": 3,
         "Education": 1,
         "Self_Employed": 0,
         "ApplicantIncome": 3036,
         "CoapplicantIncome": 2504,
         "LoanAmount": 158,
         "Loan_Amount_Term": 360,
         "Credit_History": 0,
         "Property_Area": 0.5,
         "Loan_Status": 0,
         "_deepnote_index_column": 7
        },
        {
         "Gender": 1,
         "Married": 1,
         "Dependents": 2,
         "Education": 1,
         "Self_Employed": 0,
         "ApplicantIncome": 4006,
         "CoapplicantIncome": 1526,
         "LoanAmount": 168,
         "Loan_Amount_Term": 360,
         "Credit_History": 1,
         "Property_Area": 1,
         "Loan_Status": 1,
         "_deepnote_index_column": 8
        },
        {
         "Gender": 1,
         "Married": 1,
         "Dependents": 1,
         "Education": 1,
         "Self_Employed": 0,
         "ApplicantIncome": 12841,
         "CoapplicantIncome": 10968,
         "LoanAmount": 349,
         "Loan_Amount_Term": 360,
         "Credit_History": 1,
         "Property_Area": 0.5,
         "Loan_Status": 0,
         "_deepnote_index_column": 9
        },
        {
         "Gender": 1,
         "Married": 1,
         "Dependents": 2,
         "Education": 1,
         "Self_Employed": 0,
         "ApplicantIncome": 3200,
         "CoapplicantIncome": 700,
         "LoanAmount": 70,
         "Loan_Amount_Term": 360,
         "Credit_History": 1,
         "Property_Area": 1,
         "Loan_Status": 1,
         "_deepnote_index_column": 10
        },
        {
         "Gender": 1,
         "Married": 1,
         "Dependents": 2,
         "Education": 1,
         "Self_Employed": 0,
         "ApplicantIncome": 3073,
         "CoapplicantIncome": 8106,
         "LoanAmount": 200,
         "Loan_Amount_Term": 360,
         "Credit_History": 1,
         "Property_Area": 1,
         "Loan_Status": 1,
         "_deepnote_index_column": 12
        },
        {
         "Gender": 1,
         "Married": 0,
         "Dependents": 0,
         "Education": 1,
         "Self_Employed": 0,
         "ApplicantIncome": 1853,
         "CoapplicantIncome": 2840,
         "LoanAmount": 114,
         "Loan_Amount_Term": 360,
         "Credit_History": 1,
         "Property_Area": 0,
         "Loan_Status": 0,
         "_deepnote_index_column": 13
        },
        {
         "Gender": 1,
         "Married": 1,
         "Dependents": 2,
         "Education": 1,
         "Self_Employed": 0,
         "ApplicantIncome": 1299,
         "CoapplicantIncome": 1086,
         "LoanAmount": 17,
         "Loan_Amount_Term": 120,
         "Credit_History": 1,
         "Property_Area": 1,
         "Loan_Status": 1,
         "_deepnote_index_column": 14
        },
        {
         "Gender": 1,
         "Married": 0,
         "Dependents": 0,
         "Education": 1,
         "Self_Employed": 0,
         "ApplicantIncome": 4950,
         "CoapplicantIncome": 0,
         "LoanAmount": 125,
         "Loan_Amount_Term": 360,
         "Credit_History": 1,
         "Property_Area": 1,
         "Loan_Status": 1,
         "_deepnote_index_column": 15
        },
        {
         "Gender": 0,
         "Married": 0,
         "Dependents": 0,
         "Education": 1,
         "Self_Employed": 0,
         "ApplicantIncome": 3510,
         "CoapplicantIncome": 0,
         "LoanAmount": 76,
         "Loan_Amount_Term": 360,
         "Credit_History": 0,
         "Property_Area": 1,
         "Loan_Status": 0,
         "_deepnote_index_column": 17
        },
        {
         "Gender": 1,
         "Married": 1,
         "Dependents": 0,
         "Education": 0,
         "Self_Employed": 0,
         "ApplicantIncome": 4887,
         "CoapplicantIncome": 0,
         "LoanAmount": 133,
         "Loan_Amount_Term": 360,
         "Credit_History": 1,
         "Property_Area": 0,
         "Loan_Status": 0,
         "_deepnote_index_column": 18
        },
        {
         "Gender": 1,
         "Married": 1,
         "Dependents": 0,
         "Education": 0,
         "Self_Employed": 0,
         "ApplicantIncome": 7660,
         "CoapplicantIncome": 0,
         "LoanAmount": 104,
         "Loan_Amount_Term": 360,
         "Credit_History": 0,
         "Property_Area": 1,
         "Loan_Status": 0,
         "_deepnote_index_column": 20
        },
        {
         "Gender": 1,
         "Married": 1,
         "Dependents": 1,
         "Education": 1,
         "Self_Employed": 0,
         "ApplicantIncome": 5955,
         "CoapplicantIncome": 5625,
         "LoanAmount": 315,
         "Loan_Amount_Term": 360,
         "Credit_History": 1,
         "Property_Area": 1,
         "Loan_Status": 1,
         "_deepnote_index_column": 21
        },
        {
         "Gender": 1,
         "Married": 1,
         "Dependents": 0,
         "Education": 0,
         "Self_Employed": 0,
         "ApplicantIncome": 2600,
         "CoapplicantIncome": 1911,
         "LoanAmount": 116,
         "Loan_Amount_Term": 360,
         "Credit_History": 0,
         "Property_Area": 0.5,
         "Loan_Status": 0,
         "_deepnote_index_column": 22
        },
        {
         "Gender": 1,
         "Married": 1,
         "Dependents": 0,
         "Education": 1,
         "Self_Employed": 1,
         "ApplicantIncome": 9560,
         "CoapplicantIncome": 0,
         "LoanAmount": 191,
         "Loan_Amount_Term": 360,
         "Credit_History": 1,
         "Property_Area": 0.5,
         "Loan_Status": 1,
         "_deepnote_index_column": 25
        },
        {
         "Gender": 1,
         "Married": 1,
         "Dependents": 0,
         "Education": 1,
         "Self_Employed": 0,
         "ApplicantIncome": 2799,
         "CoapplicantIncome": 2253,
         "LoanAmount": 122,
         "Loan_Amount_Term": 360,
         "Credit_History": 1,
         "Property_Area": 0.5,
         "Loan_Status": 1,
         "_deepnote_index_column": 26
        },
        {
         "Gender": 1,
         "Married": 1,
         "Dependents": 2,
         "Education": 0,
         "Self_Employed": 0,
         "ApplicantIncome": 4226,
         "CoapplicantIncome": 1040,
         "LoanAmount": 110,
         "Loan_Amount_Term": 360,
         "Credit_History": 1,
         "Property_Area": 1,
         "Loan_Status": 1,
         "_deepnote_index_column": 27
        },
        {
         "Gender": 1,
         "Married": 0,
         "Dependents": 0,
         "Education": 0,
         "Self_Employed": 0,
         "ApplicantIncome": 1442,
         "CoapplicantIncome": 0,
         "LoanAmount": 35,
         "Loan_Amount_Term": 360,
         "Credit_History": 1,
         "Property_Area": 1,
         "Loan_Status": 0,
         "_deepnote_index_column": 28
        },
        {
         "Gender": 1,
         "Married": 0,
         "Dependents": 0,
         "Education": 1,
         "Self_Employed": 0,
         "ApplicantIncome": 3167,
         "CoapplicantIncome": 0,
         "LoanAmount": 74,
         "Loan_Amount_Term": 360,
         "Credit_History": 1,
         "Property_Area": 1,
         "Loan_Status": 0,
         "_deepnote_index_column": 31
        },
        {
         "Gender": 1,
         "Married": 0,
         "Dependents": 1,
         "Education": 1,
         "Self_Employed": 1,
         "ApplicantIncome": 4692,
         "CoapplicantIncome": 0,
         "LoanAmount": 106,
         "Loan_Amount_Term": 360,
         "Credit_History": 1,
         "Property_Area": 0,
         "Loan_Status": 0,
         "_deepnote_index_column": 32
        },
        {
         "Gender": 1,
         "Married": 1,
         "Dependents": 0,
         "Education": 1,
         "Self_Employed": 0,
         "ApplicantIncome": 3500,
         "CoapplicantIncome": 1667,
         "LoanAmount": 114,
         "Loan_Amount_Term": 360,
         "Credit_History": 1,
         "Property_Area": 0.5,
         "Loan_Status": 1,
         "_deepnote_index_column": 33
        },
        {
         "Gender": 1,
         "Married": 0,
         "Dependents": 3,
         "Education": 1,
         "Self_Employed": 0,
         "ApplicantIncome": 12500,
         "CoapplicantIncome": 3000,
         "LoanAmount": 320,
         "Loan_Amount_Term": 360,
         "Credit_History": 1,
         "Property_Area": 0,
         "Loan_Status": 0,
         "_deepnote_index_column": 34
        },
        {
         "Gender": 0,
         "Married": 1,
         "Dependents": 0,
         "Education": 1,
         "Self_Employed": 0,
         "ApplicantIncome": 3667,
         "CoapplicantIncome": 1459,
         "LoanAmount": 144,
         "Loan_Amount_Term": 360,
         "Credit_History": 1,
         "Property_Area": 0.5,
         "Loan_Status": 1,
         "_deepnote_index_column": 37
        },
        {
         "Gender": 1,
         "Married": 0,
         "Dependents": 0,
         "Education": 1,
         "Self_Employed": 0,
         "ApplicantIncome": 4166,
         "CoapplicantIncome": 7210,
         "LoanAmount": 184,
         "Loan_Amount_Term": 360,
         "Credit_History": 1,
         "Property_Area": 1,
         "Loan_Status": 1,
         "_deepnote_index_column": 38
        },
        {
         "Gender": 1,
         "Married": 0,
         "Dependents": 0,
         "Education": 0,
         "Self_Employed": 0,
         "ApplicantIncome": 3748,
         "CoapplicantIncome": 1668,
         "LoanAmount": 110,
         "Loan_Amount_Term": 360,
         "Credit_History": 1,
         "Property_Area": 0.5,
         "Loan_Status": 1,
         "_deepnote_index_column": 39
        },
        {
         "Gender": 1,
         "Married": 0,
         "Dependents": 0,
         "Education": 1,
         "Self_Employed": 0,
         "ApplicantIncome": 3600,
         "CoapplicantIncome": 0,
         "LoanAmount": 80,
         "Loan_Amount_Term": 360,
         "Credit_History": 1,
         "Property_Area": 1,
         "Loan_Status": 0,
         "_deepnote_index_column": 40
        },
        {
         "Gender": 1,
         "Married": 0,
         "Dependents": 0,
         "Education": 1,
         "Self_Employed": 0,
         "ApplicantIncome": 1800,
         "CoapplicantIncome": 1213,
         "LoanAmount": 47,
         "Loan_Amount_Term": 360,
         "Credit_History": 1,
         "Property_Area": 1,
         "Loan_Status": 1,
         "_deepnote_index_column": 41
        },
        {
         "Gender": 1,
         "Married": 1,
         "Dependents": 0,
         "Education": 1,
         "Self_Employed": 0,
         "ApplicantIncome": 3941,
         "CoapplicantIncome": 2336,
         "LoanAmount": 134,
         "Loan_Amount_Term": 360,
         "Credit_History": 1,
         "Property_Area": 0.5,
         "Loan_Status": 1,
         "_deepnote_index_column": 43
        },
        {
         "Gender": 1,
         "Married": 1,
         "Dependents": 1,
         "Education": 1,
         "Self_Employed": 0,
         "ApplicantIncome": 5649,
         "CoapplicantIncome": 0,
         "LoanAmount": 44,
         "Loan_Amount_Term": 360,
         "Credit_History": 1,
         "Property_Area": 1,
         "Loan_Status": 1,
         "_deepnote_index_column": 46
        },
        {
         "Gender": 1,
         "Married": 1,
         "Dependents": 0,
         "Education": 1,
         "Self_Employed": 0,
         "ApplicantIncome": 5821,
         "CoapplicantIncome": 0,
         "LoanAmount": 144,
         "Loan_Amount_Term": 360,
         "Credit_History": 1,
         "Property_Area": 1,
         "Loan_Status": 1,
         "_deepnote_index_column": 47
        },
        {
         "Gender": 0,
         "Married": 1,
         "Dependents": 0,
         "Education": 1,
         "Self_Employed": 0,
         "ApplicantIncome": 2645,
         "CoapplicantIncome": 3440,
         "LoanAmount": 120,
         "Loan_Amount_Term": 360,
         "Credit_History": 0,
         "Property_Area": 1,
         "Loan_Status": 0,
         "_deepnote_index_column": 48
        },
        {
         "Gender": 0,
         "Married": 0,
         "Dependents": 0,
         "Education": 1,
         "Self_Employed": 0,
         "ApplicantIncome": 4000,
         "CoapplicantIncome": 2275,
         "LoanAmount": 144,
         "Loan_Amount_Term": 360,
         "Credit_History": 1,
         "Property_Area": 0.5,
         "Loan_Status": 1,
         "_deepnote_index_column": 49
        },
        {
         "Gender": 0,
         "Married": 1,
         "Dependents": 0,
         "Education": 0,
         "Self_Employed": 0,
         "ApplicantIncome": 1928,
         "CoapplicantIncome": 1644,
         "LoanAmount": 100,
         "Loan_Amount_Term": 360,
         "Credit_History": 1,
         "Property_Area": 0.5,
         "Loan_Status": 1,
         "_deepnote_index_column": 50
        },
        {
         "Gender": 0,
         "Married": 0,
         "Dependents": 0,
         "Education": 1,
         "Self_Employed": 0,
         "ApplicantIncome": 3086,
         "CoapplicantIncome": 0,
         "LoanAmount": 120,
         "Loan_Amount_Term": 360,
         "Credit_History": 1,
         "Property_Area": 0.5,
         "Loan_Status": 1,
         "_deepnote_index_column": 51
        },
        {
         "Gender": 0,
         "Married": 0,
         "Dependents": 0,
         "Education": 1,
         "Self_Employed": 0,
         "ApplicantIncome": 4230,
         "CoapplicantIncome": 0,
         "LoanAmount": 112,
         "Loan_Amount_Term": 360,
         "Credit_History": 1,
         "Property_Area": 0.5,
         "Loan_Status": 0,
         "_deepnote_index_column": 52
        },
        {
         "Gender": 1,
         "Married": 1,
         "Dependents": 2,
         "Education": 1,
         "Self_Employed": 0,
         "ApplicantIncome": 4616,
         "CoapplicantIncome": 0,
         "LoanAmount": 134,
         "Loan_Amount_Term": 360,
         "Credit_History": 1,
         "Property_Area": 1,
         "Loan_Status": 0,
         "_deepnote_index_column": 53
        }
       ],
       "rows_bottom": [
        {
         "Gender": 0,
         "Married": 1,
         "Dependents": 1,
         "Education": 1,
         "Self_Employed": 1,
         "ApplicantIncome": 19484,
         "CoapplicantIncome": 0,
         "LoanAmount": 600,
         "Loan_Amount_Term": 360,
         "Credit_History": 1,
         "Property_Area": 0.5,
         "Loan_Status": 1,
         "_deepnote_index_column": 561
        },
        {
         "Gender": 1,
         "Married": 1,
         "Dependents": 0,
         "Education": 1,
         "Self_Employed": 0,
         "ApplicantIncome": 5923,
         "CoapplicantIncome": 2054,
         "LoanAmount": 211,
         "Loan_Amount_Term": 360,
         "Credit_History": 1,
         "Property_Area": 0,
         "Loan_Status": 1,
         "_deepnote_index_column": 562
        },
        {
         "Gender": 1,
         "Married": 0,
         "Dependents": 0,
         "Education": 0,
         "Self_Employed": 1,
         "ApplicantIncome": 5800,
         "CoapplicantIncome": 0,
         "LoanAmount": 132,
         "Loan_Amount_Term": 360,
         "Credit_History": 1,
         "Property_Area": 0.5,
         "Loan_Status": 1,
         "_deepnote_index_column": 563
        },
        {
         "Gender": 1,
         "Married": 1,
         "Dependents": 2,
         "Education": 1,
         "Self_Employed": 0,
         "ApplicantIncome": 8799,
         "CoapplicantIncome": 0,
         "LoanAmount": 258,
         "Loan_Amount_Term": 360,
         "Credit_History": 0,
         "Property_Area": 1,
         "Loan_Status": 0,
         "_deepnote_index_column": 564
        },
        {
         "Gender": 1,
         "Married": 0,
         "Dependents": 0,
         "Education": 1,
         "Self_Employed": 0,
         "ApplicantIncome": 3333,
         "CoapplicantIncome": 0,
         "LoanAmount": 70,
         "Loan_Amount_Term": 360,
         "Credit_History": 1,
         "Property_Area": 1,
         "Loan_Status": 1,
         "_deepnote_index_column": 566
        },
        {
         "Gender": 1,
         "Married": 1,
         "Dependents": 3,
         "Education": 1,
         "Self_Employed": 0,
         "ApplicantIncome": 3400,
         "CoapplicantIncome": 2500,
         "LoanAmount": 123,
         "Loan_Amount_Term": 360,
         "Credit_History": 0,
         "Property_Area": 0,
         "Loan_Status": 0,
         "_deepnote_index_column": 567
        },
        {
         "Gender": 0,
         "Married": 0,
         "Dependents": 0,
         "Education": 1,
         "Self_Employed": 0,
         "ApplicantIncome": 2378,
         "CoapplicantIncome": 0,
         "LoanAmount": 9,
         "Loan_Amount_Term": 360,
         "Credit_History": 1,
         "Property_Area": 1,
         "Loan_Status": 0,
         "_deepnote_index_column": 568
        },
        {
         "Gender": 1,
         "Married": 1,
         "Dependents": 0,
         "Education": 1,
         "Self_Employed": 0,
         "ApplicantIncome": 3166,
         "CoapplicantIncome": 2064,
         "LoanAmount": 104,
         "Loan_Amount_Term": 360,
         "Credit_History": 0,
         "Property_Area": 1,
         "Loan_Status": 0,
         "_deepnote_index_column": 569
        },
        {
         "Gender": 1,
         "Married": 1,
         "Dependents": 1,
         "Education": 1,
         "Self_Employed": 0,
         "ApplicantIncome": 3417,
         "CoapplicantIncome": 1750,
         "LoanAmount": 186,
         "Loan_Amount_Term": 360,
         "Credit_History": 1,
         "Property_Area": 1,
         "Loan_Status": 1,
         "_deepnote_index_column": 570
        },
        {
         "Gender": 1,
         "Married": 1,
         "Dependents": 2,
         "Education": 1,
         "Self_Employed": 0,
         "ApplicantIncome": 16666,
         "CoapplicantIncome": 0,
         "LoanAmount": 275,
         "Loan_Amount_Term": 360,
         "Credit_History": 1,
         "Property_Area": 1,
         "Loan_Status": 1,
         "_deepnote_index_column": 572
        },
        {
         "Gender": 1,
         "Married": 1,
         "Dependents": 2,
         "Education": 0,
         "Self_Employed": 0,
         "ApplicantIncome": 6125,
         "CoapplicantIncome": 1625,
         "LoanAmount": 187,
         "Loan_Amount_Term": 480,
         "Credit_History": 1,
         "Property_Area": 0.5,
         "Loan_Status": 0,
         "_deepnote_index_column": 573
        },
        {
         "Gender": 1,
         "Married": 1,
         "Dependents": 3,
         "Education": 1,
         "Self_Employed": 0,
         "ApplicantIncome": 6406,
         "CoapplicantIncome": 0,
         "LoanAmount": 150,
         "Loan_Amount_Term": 360,
         "Credit_History": 1,
         "Property_Area": 0.5,
         "Loan_Status": 0,
         "_deepnote_index_column": 574
        },
        {
         "Gender": 1,
         "Married": 1,
         "Dependents": 2,
         "Education": 1,
         "Self_Employed": 0,
         "ApplicantIncome": 3159,
         "CoapplicantIncome": 461,
         "LoanAmount": 108,
         "Loan_Amount_Term": 84,
         "Credit_History": 1,
         "Property_Area": 1,
         "Loan_Status": 1,
         "_deepnote_index_column": 575
        },
        {
         "Gender": 1,
         "Married": 0,
         "Dependents": 0,
         "Education": 1,
         "Self_Employed": 0,
         "ApplicantIncome": 3229,
         "CoapplicantIncome": 2739,
         "LoanAmount": 110,
         "Loan_Amount_Term": 360,
         "Credit_History": 1,
         "Property_Area": 1,
         "Loan_Status": 1,
         "_deepnote_index_column": 577
        },
        {
         "Gender": 1,
         "Married": 1,
         "Dependents": 1,
         "Education": 1,
         "Self_Employed": 0,
         "ApplicantIncome": 1782,
         "CoapplicantIncome": 2232,
         "LoanAmount": 107,
         "Loan_Amount_Term": 360,
         "Credit_History": 1,
         "Property_Area": 0,
         "Loan_Status": 1,
         "_deepnote_index_column": 578
        },
        {
         "Gender": 1,
         "Married": 1,
         "Dependents": 2,
         "Education": 1,
         "Self_Employed": 0,
         "ApplicantIncome": 6540,
         "CoapplicantIncome": 0,
         "LoanAmount": 205,
         "Loan_Amount_Term": 360,
         "Credit_History": 1,
         "Property_Area": 0.5,
         "Loan_Status": 1,
         "_deepnote_index_column": 580
        },
        {
         "Gender": 1,
         "Married": 0,
         "Dependents": 0,
         "Education": 1,
         "Self_Employed": 0,
         "ApplicantIncome": 1836,
         "CoapplicantIncome": 33837,
         "LoanAmount": 90,
         "Loan_Amount_Term": 360,
         "Credit_History": 1,
         "Property_Area": 1,
         "Loan_Status": 0,
         "_deepnote_index_column": 581
        },
        {
         "Gender": 0,
         "Married": 1,
         "Dependents": 0,
         "Education": 1,
         "Self_Employed": 0,
         "ApplicantIncome": 3166,
         "CoapplicantIncome": 0,
         "LoanAmount": 36,
         "Loan_Amount_Term": 360,
         "Credit_History": 1,
         "Property_Area": 0.5,
         "Loan_Status": 1,
         "_deepnote_index_column": 582
        },
        {
         "Gender": 1,
         "Married": 1,
         "Dependents": 1,
         "Education": 1,
         "Self_Employed": 0,
         "ApplicantIncome": 2787,
         "CoapplicantIncome": 1917,
         "LoanAmount": 146,
         "Loan_Amount_Term": 360,
         "Credit_History": 0,
         "Property_Area": 0,
         "Loan_Status": 0,
         "_deepnote_index_column": 584
        },
        {
         "Gender": 1,
         "Married": 1,
         "Dependents": 1,
         "Education": 1,
         "Self_Employed": 0,
         "ApplicantIncome": 4283,
         "CoapplicantIncome": 3000,
         "LoanAmount": 172,
         "Loan_Amount_Term": 84,
         "Credit_History": 1,
         "Property_Area": 0,
         "Loan_Status": 0,
         "_deepnote_index_column": 585
        },
        {
         "Gender": 1,
         "Married": 1,
         "Dependents": 0,
         "Education": 1,
         "Self_Employed": 0,
         "ApplicantIncome": 2297,
         "CoapplicantIncome": 1522,
         "LoanAmount": 104,
         "Loan_Amount_Term": 360,
         "Credit_History": 1,
         "Property_Area": 1,
         "Loan_Status": 1,
         "_deepnote_index_column": 586
        },
        {
         "Gender": 0,
         "Married": 0,
         "Dependents": 0,
         "Education": 0,
         "Self_Employed": 0,
         "ApplicantIncome": 2165,
         "CoapplicantIncome": 0,
         "LoanAmount": 70,
         "Loan_Amount_Term": 360,
         "Credit_History": 1,
         "Property_Area": 0.5,
         "Loan_Status": 1,
         "_deepnote_index_column": 587
        },
        {
         "Gender": 1,
         "Married": 1,
         "Dependents": 2,
         "Education": 1,
         "Self_Employed": 1,
         "ApplicantIncome": 2726,
         "CoapplicantIncome": 0,
         "LoanAmount": 106,
         "Loan_Amount_Term": 360,
         "Credit_History": 0,
         "Property_Area": 0.5,
         "Loan_Status": 0,
         "_deepnote_index_column": 589
        },
        {
         "Gender": 1,
         "Married": 1,
         "Dependents": 0,
         "Education": 1,
         "Self_Employed": 0,
         "ApplicantIncome": 3000,
         "CoapplicantIncome": 3416,
         "LoanAmount": 56,
         "Loan_Amount_Term": 180,
         "Credit_History": 1,
         "Property_Area": 0.5,
         "Loan_Status": 1,
         "_deepnote_index_column": 590
        },
        {
         "Gender": 1,
         "Married": 1,
         "Dependents": 2,
         "Education": 1,
         "Self_Employed": 1,
         "ApplicantIncome": 6000,
         "CoapplicantIncome": 0,
         "LoanAmount": 205,
         "Loan_Amount_Term": 240,
         "Credit_History": 1,
         "Property_Area": 0.5,
         "Loan_Status": 0,
         "_deepnote_index_column": 591
        },
        {
         "Gender": 1,
         "Married": 1,
         "Dependents": 0,
         "Education": 1,
         "Self_Employed": 0,
         "ApplicantIncome": 3859,
         "CoapplicantIncome": 3300,
         "LoanAmount": 142,
         "Loan_Amount_Term": 180,
         "Credit_History": 1,
         "Property_Area": 0,
         "Loan_Status": 1,
         "_deepnote_index_column": 593
        },
        {
         "Gender": 1,
         "Married": 1,
         "Dependents": 0,
         "Education": 1,
         "Self_Employed": 1,
         "ApplicantIncome": 16120,
         "CoapplicantIncome": 0,
         "LoanAmount": 260,
         "Loan_Amount_Term": 360,
         "Credit_History": 1,
         "Property_Area": 1,
         "Loan_Status": 1,
         "_deepnote_index_column": 594
        },
        {
         "Gender": 1,
         "Married": 0,
         "Dependents": 0,
         "Education": 0,
         "Self_Employed": 0,
         "ApplicantIncome": 3833,
         "CoapplicantIncome": 0,
         "LoanAmount": 110,
         "Loan_Amount_Term": 360,
         "Credit_History": 1,
         "Property_Area": 0,
         "Loan_Status": 1,
         "_deepnote_index_column": 595
        },
        {
         "Gender": 1,
         "Married": 1,
         "Dependents": 2,
         "Education": 0,
         "Self_Employed": 1,
         "ApplicantIncome": 6383,
         "CoapplicantIncome": 1000,
         "LoanAmount": 187,
         "Loan_Amount_Term": 360,
         "Credit_History": 1,
         "Property_Area": 0,
         "Loan_Status": 0,
         "_deepnote_index_column": 596
        },
        {
         "Gender": 1,
         "Married": 1,
         "Dependents": 0,
         "Education": 1,
         "Self_Employed": 1,
         "ApplicantIncome": 9963,
         "CoapplicantIncome": 0,
         "LoanAmount": 180,
         "Loan_Amount_Term": 360,
         "Credit_History": 1,
         "Property_Area": 0,
         "Loan_Status": 1,
         "_deepnote_index_column": 598
        },
        {
         "Gender": 1,
         "Married": 1,
         "Dependents": 2,
         "Education": 1,
         "Self_Employed": 0,
         "ApplicantIncome": 5780,
         "CoapplicantIncome": 0,
         "LoanAmount": 192,
         "Loan_Amount_Term": 360,
         "Credit_History": 1,
         "Property_Area": 1,
         "Loan_Status": 1,
         "_deepnote_index_column": 599
        },
        {
         "Gender": 1,
         "Married": 1,
         "Dependents": 3,
         "Education": 1,
         "Self_Employed": 0,
         "ApplicantIncome": 5703,
         "CoapplicantIncome": 0,
         "LoanAmount": 128,
         "Loan_Amount_Term": 360,
         "Credit_History": 1,
         "Property_Area": 1,
         "Loan_Status": 1,
         "_deepnote_index_column": 602
        },
        {
         "Gender": 1,
         "Married": 0,
         "Dependents": 0,
         "Education": 1,
         "Self_Employed": 0,
         "ApplicantIncome": 3676,
         "CoapplicantIncome": 4301,
         "LoanAmount": 172,
         "Loan_Amount_Term": 360,
         "Credit_History": 1,
         "Property_Area": 0,
         "Loan_Status": 1,
         "_deepnote_index_column": 603
        },
        {
         "Gender": 0,
         "Married": 1,
         "Dependents": 1,
         "Education": 1,
         "Self_Employed": 0,
         "ApplicantIncome": 12000,
         "CoapplicantIncome": 0,
         "LoanAmount": 496,
         "Loan_Amount_Term": 360,
         "Credit_History": 1,
         "Property_Area": 0.5,
         "Loan_Status": 1,
         "_deepnote_index_column": 604
        },
        {
         "Gender": 1,
         "Married": 1,
         "Dependents": 1,
         "Education": 1,
         "Self_Employed": 0,
         "ApplicantIncome": 3400,
         "CoapplicantIncome": 2500,
         "LoanAmount": 173,
         "Loan_Amount_Term": 360,
         "Credit_History": 1,
         "Property_Area": 0.5,
         "Loan_Status": 1,
         "_deepnote_index_column": 606
        },
        {
         "Gender": 1,
         "Married": 1,
         "Dependents": 2,
         "Education": 0,
         "Self_Employed": 0,
         "ApplicantIncome": 3987,
         "CoapplicantIncome": 1411,
         "LoanAmount": 157,
         "Loan_Amount_Term": 360,
         "Credit_History": 1,
         "Property_Area": 0,
         "Loan_Status": 1,
         "_deepnote_index_column": 607
        },
        {
         "Gender": 1,
         "Married": 1,
         "Dependents": 0,
         "Education": 1,
         "Self_Employed": 0,
         "ApplicantIncome": 3232,
         "CoapplicantIncome": 1950,
         "LoanAmount": 108,
         "Loan_Amount_Term": 360,
         "Credit_History": 1,
         "Property_Area": 0,
         "Loan_Status": 1,
         "_deepnote_index_column": 608
        },
        {
         "Gender": 0,
         "Married": 0,
         "Dependents": 0,
         "Education": 1,
         "Self_Employed": 0,
         "ApplicantIncome": 2900,
         "CoapplicantIncome": 0,
         "LoanAmount": 71,
         "Loan_Amount_Term": 360,
         "Credit_History": 1,
         "Property_Area": 0,
         "Loan_Status": 1,
         "_deepnote_index_column": 609
        },
        {
         "Gender": 1,
         "Married": 1,
         "Dependents": 3,
         "Education": 1,
         "Self_Employed": 0,
         "ApplicantIncome": 4106,
         "CoapplicantIncome": 0,
         "LoanAmount": 40,
         "Loan_Amount_Term": 180,
         "Credit_History": 1,
         "Property_Area": 0,
         "Loan_Status": 1,
         "_deepnote_index_column": 610
        },
        {
         "Gender": 1,
         "Married": 1,
         "Dependents": 1,
         "Education": 1,
         "Self_Employed": 0,
         "ApplicantIncome": 8072,
         "CoapplicantIncome": 240,
         "LoanAmount": 253,
         "Loan_Amount_Term": 360,
         "Credit_History": 1,
         "Property_Area": 1,
         "Loan_Status": 1,
         "_deepnote_index_column": 611
        },
        {
         "Gender": 1,
         "Married": 1,
         "Dependents": 2,
         "Education": 1,
         "Self_Employed": 0,
         "ApplicantIncome": 7583,
         "CoapplicantIncome": 0,
         "LoanAmount": 187,
         "Loan_Amount_Term": 360,
         "Credit_History": 1,
         "Property_Area": 1,
         "Loan_Status": 1,
         "_deepnote_index_column": 612
        },
        {
         "Gender": 0,
         "Married": 0,
         "Dependents": 0,
         "Education": 1,
         "Self_Employed": 1,
         "ApplicantIncome": 4583,
         "CoapplicantIncome": 0,
         "LoanAmount": 133,
         "Loan_Amount_Term": 360,
         "Credit_History": 0,
         "Property_Area": 0.5,
         "Loan_Status": 0,
         "_deepnote_index_column": 613
        }
       ]
      },
      "text/plain": "     Gender  Married  Dependents  Education  Self_Employed  ApplicantIncome  \\\n1         1        1           1          1              0             4583   \n2         1        1           0          1              1             3000   \n3         1        1           0          0              0             2583   \n4         1        0           0          1              0             6000   \n5         1        1           2          1              1             5417   \n..      ...      ...         ...        ...            ...              ...   \n609       0        0           0          1              0             2900   \n610       1        1           3          1              0             4106   \n611       1        1           1          1              0             8072   \n612       1        1           2          1              0             7583   \n613       0        0           0          1              1             4583   \n\n     CoapplicantIncome  LoanAmount  Loan_Amount_Term  Credit_History  \\\n1               1508.0       128.0             360.0             1.0   \n2                  0.0        66.0             360.0             1.0   \n3               2358.0       120.0             360.0             1.0   \n4                  0.0       141.0             360.0             1.0   \n5               4196.0       267.0             360.0             1.0   \n..                 ...         ...               ...             ...   \n609                0.0        71.0             360.0             1.0   \n610                0.0        40.0             180.0             1.0   \n611              240.0       253.0             360.0             1.0   \n612                0.0       187.0             360.0             1.0   \n613                0.0       133.0             360.0             0.0   \n\n     Property_Area  Loan_Status  \n1              0.0            0  \n2              1.0            1  \n3              1.0            1  \n4              1.0            1  \n5              1.0            1  \n..             ...          ...  \n609            0.0            1  \n610            0.0            1  \n611            1.0            1  \n612            1.0            1  \n613            0.5            0  \n\n[480 rows x 12 columns]",
      "text/html": "<div>\n<style scoped>\n    .dataframe tbody tr th:only-of-type {\n        vertical-align: middle;\n    }\n\n    .dataframe tbody tr th {\n        vertical-align: top;\n    }\n\n    .dataframe thead th {\n        text-align: right;\n    }\n</style>\n<table border=\"1\" class=\"dataframe\">\n  <thead>\n    <tr style=\"text-align: right;\">\n      <th></th>\n      <th>Gender</th>\n      <th>Married</th>\n      <th>Dependents</th>\n      <th>Education</th>\n      <th>Self_Employed</th>\n      <th>ApplicantIncome</th>\n      <th>CoapplicantIncome</th>\n      <th>LoanAmount</th>\n      <th>Loan_Amount_Term</th>\n      <th>Credit_History</th>\n      <th>Property_Area</th>\n      <th>Loan_Status</th>\n    </tr>\n  </thead>\n  <tbody>\n    <tr>\n      <th>1</th>\n      <td>1</td>\n      <td>1</td>\n      <td>1</td>\n      <td>1</td>\n      <td>0</td>\n      <td>4583</td>\n      <td>1508.0</td>\n      <td>128.0</td>\n      <td>360.0</td>\n      <td>1.0</td>\n      <td>0.0</td>\n      <td>0</td>\n    </tr>\n    <tr>\n      <th>2</th>\n      <td>1</td>\n      <td>1</td>\n      <td>0</td>\n      <td>1</td>\n      <td>1</td>\n      <td>3000</td>\n      <td>0.0</td>\n      <td>66.0</td>\n      <td>360.0</td>\n      <td>1.0</td>\n      <td>1.0</td>\n      <td>1</td>\n    </tr>\n    <tr>\n      <th>3</th>\n      <td>1</td>\n      <td>1</td>\n      <td>0</td>\n      <td>0</td>\n      <td>0</td>\n      <td>2583</td>\n      <td>2358.0</td>\n      <td>120.0</td>\n      <td>360.0</td>\n      <td>1.0</td>\n      <td>1.0</td>\n      <td>1</td>\n    </tr>\n    <tr>\n      <th>4</th>\n      <td>1</td>\n      <td>0</td>\n      <td>0</td>\n      <td>1</td>\n      <td>0</td>\n      <td>6000</td>\n      <td>0.0</td>\n      <td>141.0</td>\n      <td>360.0</td>\n      <td>1.0</td>\n      <td>1.0</td>\n      <td>1</td>\n    </tr>\n    <tr>\n      <th>5</th>\n      <td>1</td>\n      <td>1</td>\n      <td>2</td>\n      <td>1</td>\n      <td>1</td>\n      <td>5417</td>\n      <td>4196.0</td>\n      <td>267.0</td>\n      <td>360.0</td>\n      <td>1.0</td>\n      <td>1.0</td>\n      <td>1</td>\n    </tr>\n    <tr>\n      <th>...</th>\n      <td>...</td>\n      <td>...</td>\n      <td>...</td>\n      <td>...</td>\n      <td>...</td>\n      <td>...</td>\n      <td>...</td>\n      <td>...</td>\n      <td>...</td>\n      <td>...</td>\n      <td>...</td>\n      <td>...</td>\n    </tr>\n    <tr>\n      <th>609</th>\n      <td>0</td>\n      <td>0</td>\n      <td>0</td>\n      <td>1</td>\n      <td>0</td>\n      <td>2900</td>\n      <td>0.0</td>\n      <td>71.0</td>\n      <td>360.0</td>\n      <td>1.0</td>\n      <td>0.0</td>\n      <td>1</td>\n    </tr>\n    <tr>\n      <th>610</th>\n      <td>1</td>\n      <td>1</td>\n      <td>3</td>\n      <td>1</td>\n      <td>0</td>\n      <td>4106</td>\n      <td>0.0</td>\n      <td>40.0</td>\n      <td>180.0</td>\n      <td>1.0</td>\n      <td>0.0</td>\n      <td>1</td>\n    </tr>\n    <tr>\n      <th>611</th>\n      <td>1</td>\n      <td>1</td>\n      <td>1</td>\n      <td>1</td>\n      <td>0</td>\n      <td>8072</td>\n      <td>240.0</td>\n      <td>253.0</td>\n      <td>360.0</td>\n      <td>1.0</td>\n      <td>1.0</td>\n      <td>1</td>\n    </tr>\n    <tr>\n      <th>612</th>\n      <td>1</td>\n      <td>1</td>\n      <td>2</td>\n      <td>1</td>\n      <td>0</td>\n      <td>7583</td>\n      <td>0.0</td>\n      <td>187.0</td>\n      <td>360.0</td>\n      <td>1.0</td>\n      <td>1.0</td>\n      <td>1</td>\n    </tr>\n    <tr>\n      <th>613</th>\n      <td>0</td>\n      <td>0</td>\n      <td>0</td>\n      <td>1</td>\n      <td>1</td>\n      <td>4583</td>\n      <td>0.0</td>\n      <td>133.0</td>\n      <td>360.0</td>\n      <td>0.0</td>\n      <td>0.5</td>\n      <td>0</td>\n    </tr>\n  </tbody>\n</table>\n<p>480 rows × 12 columns</p>\n</div>"
     },
     "metadata": {}
    }
   ],
   "execution_count": null
  },
  {
   "cell_type": "markdown",
   "source": "<a style='text-decoration:none;line-height:16px;display:flex;color:#5B5B62;padding:10px;justify-content:end;' href='https://deepnote.com?utm_source=created-in-deepnote-cell&projectId=5161fece-8ef6-4825-9ea6-16ebba884483' target=\"_blank\">\n<img alt='Created in deepnote.com' style='display:inline;max-height:16px;margin:0px;margin-right:7.5px;' src='data:image/svg+xml;base64,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' > </img>\nCreated in <span style='font-weight:600;margin-left:4px;'>Deepnote</span></a>",
   "metadata": {
    "tags": [],
    "created_in_deepnote_cell": true,
    "deepnote_cell_type": "markdown"
   }
  }
 ],
 "nbformat": 4,
 "nbformat_minor": 2,
 "metadata": {
  "orig_nbformat": 2,
  "deepnote": {
   "is_reactive": false
  },
  "deepnote_notebook_id": "68f63f9d-3d90-4ca6-a974-996b3ad58a46",
  "deepnote_execution_queue": []
 }
}