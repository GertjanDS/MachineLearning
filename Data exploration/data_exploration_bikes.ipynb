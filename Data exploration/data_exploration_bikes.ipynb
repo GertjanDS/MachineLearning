{
 "cells": [
  {
   "cell_type": "code",
   "metadata": {
    "tags": [],
    "cell_id": "00000-50c2165a-695e-4aaa-ba30-408a2aa1296a",
    "deepnote_to_be_reexecuted": false,
    "source_hash": "b7858e6a",
    "execution_start": 1638544775834,
    "execution_millis": 1279,
    "deepnote_cell_type": "code"
   },
   "source": "from sklearn import datasets\nimport pandas as pd\nimport matplotlib.pyplot as plt\nimport seaborn as sns\nfrom sklearn.preprocessing import StandardScaler",
   "outputs": [],
   "execution_count": null
  },
  {
   "cell_type": "code",
   "source": "df = pd.read_csv('../datasets/hour.csv')\nprint(len(df.columns))\ndf.columns",
   "metadata": {
    "tags": [],
    "cell_id": "00001-80f929a1-0143-4dd4-ac46-12ce9112c780",
    "deepnote_to_be_reexecuted": false,
    "source_hash": "dff41eb4",
    "execution_start": 1638544777122,
    "execution_millis": 39,
    "deepnote_output_heights": [
     null,
     78.75
    ],
    "deepnote_cell_type": "code"
   },
   "outputs": [
    {
     "name": "stdout",
     "text": "17\n",
     "output_type": "stream"
    },
    {
     "output_type": "execute_result",
     "execution_count": 2,
     "data": {
      "text/plain": "Index(['instant', 'dteday', 'season', 'yr', 'mnth', 'hr', 'holiday', 'weekday',\n       'workingday', 'weathersit', 'temp', 'atemp', 'hum', 'windspeed',\n       'casual', 'registered', 'cnt'],\n      dtype='object')"
     },
     "metadata": {}
    }
   ],
   "execution_count": null
  },
  {
   "cell_type": "code",
   "source": "df",
   "metadata": {
    "tags": [],
    "cell_id": "00002-b19867ef-1680-4f96-9173-c769adc88c54",
    "deepnote_to_be_reexecuted": false,
    "source_hash": "f804c160",
    "execution_start": 1638544777167,
    "execution_millis": 123,
    "deepnote_cell_type": "code"
   },
   "outputs": [
    {
     "output_type": "execute_result",
     "execution_count": 3,
     "data": {
      "application/vnd.deepnote.dataframe.v2+json": {
       "row_count": 17379,
       "column_count": 17,
       "columns": [
        {
         "name": "instant",
         "dtype": "int64",
         "stats": {
          "unique_count": 17379,
          "nan_count": 0,
          "min": "1",
          "max": "17379",
          "histogram": [
           {
            "bin_start": 1,
            "bin_end": 1738.8,
            "count": 1738
           },
           {
            "bin_start": 1738.8,
            "bin_end": 3476.6,
            "count": 1738
           },
           {
            "bin_start": 3476.6,
            "bin_end": 5214.4,
            "count": 1738
           },
           {
            "bin_start": 5214.4,
            "bin_end": 6952.2,
            "count": 1738
           },
           {
            "bin_start": 6952.2,
            "bin_end": 8690,
            "count": 1737
           },
           {
            "bin_start": 8690,
            "bin_end": 10427.8,
            "count": 1738
           },
           {
            "bin_start": 10427.8,
            "bin_end": 12165.6,
            "count": 1738
           },
           {
            "bin_start": 12165.6,
            "bin_end": 13903.4,
            "count": 1738
           },
           {
            "bin_start": 13903.4,
            "bin_end": 15641.199999999999,
            "count": 1738
           },
           {
            "bin_start": 15641.199999999999,
            "bin_end": 17379,
            "count": 1738
           }
          ]
         }
        },
        {
         "name": "dteday",
         "dtype": "object",
         "stats": {
          "unique_count": 731,
          "nan_count": 0,
          "categories": [
           {
            "name": "2011-01-01",
            "count": 24
           },
           {
            "name": "2011-01-08",
            "count": 24
           },
           {
            "name": "729 others",
            "count": 17331
           }
          ]
         }
        },
        {
         "name": "season",
         "dtype": "int64",
         "stats": {
          "unique_count": 4,
          "nan_count": 0,
          "min": "1",
          "max": "4",
          "histogram": [
           {
            "bin_start": 1,
            "bin_end": 1.3,
            "count": 4242
           },
           {
            "bin_start": 1.3,
            "bin_end": 1.6,
            "count": 0
           },
           {
            "bin_start": 1.6,
            "bin_end": 1.9,
            "count": 0
           },
           {
            "bin_start": 1.9,
            "bin_end": 2.2,
            "count": 4409
           },
           {
            "bin_start": 2.2,
            "bin_end": 2.5,
            "count": 0
           },
           {
            "bin_start": 2.5,
            "bin_end": 2.8,
            "count": 0
           },
           {
            "bin_start": 2.8,
            "bin_end": 3.1,
            "count": 4496
           },
           {
            "bin_start": 3.1,
            "bin_end": 3.4,
            "count": 0
           },
           {
            "bin_start": 3.4,
            "bin_end": 3.6999999999999997,
            "count": 0
           },
           {
            "bin_start": 3.6999999999999997,
            "bin_end": 4,
            "count": 4232
           }
          ]
         }
        },
        {
         "name": "yr",
         "dtype": "int64",
         "stats": {
          "unique_count": 2,
          "nan_count": 0,
          "min": "0",
          "max": "1",
          "histogram": [
           {
            "bin_start": 0,
            "bin_end": 0.1,
            "count": 8645
           },
           {
            "bin_start": 0.1,
            "bin_end": 0.2,
            "count": 0
           },
           {
            "bin_start": 0.2,
            "bin_end": 0.30000000000000004,
            "count": 0
           },
           {
            "bin_start": 0.30000000000000004,
            "bin_end": 0.4,
            "count": 0
           },
           {
            "bin_start": 0.4,
            "bin_end": 0.5,
            "count": 0
           },
           {
            "bin_start": 0.5,
            "bin_end": 0.6000000000000001,
            "count": 0
           },
           {
            "bin_start": 0.6000000000000001,
            "bin_end": 0.7000000000000001,
            "count": 0
           },
           {
            "bin_start": 0.7000000000000001,
            "bin_end": 0.8,
            "count": 0
           },
           {
            "bin_start": 0.8,
            "bin_end": 0.9,
            "count": 0
           },
           {
            "bin_start": 0.9,
            "bin_end": 1,
            "count": 8734
           }
          ]
         }
        },
        {
         "name": "mnth",
         "dtype": "int64",
         "stats": {
          "unique_count": 12,
          "nan_count": 0,
          "min": "1",
          "max": "12",
          "histogram": [
           {
            "bin_start": 1,
            "bin_end": 2.1,
            "count": 2770
           },
           {
            "bin_start": 2.1,
            "bin_end": 3.2,
            "count": 1473
           },
           {
            "bin_start": 3.2,
            "bin_end": 4.300000000000001,
            "count": 1437
           },
           {
            "bin_start": 4.300000000000001,
            "bin_end": 5.4,
            "count": 1488
           },
           {
            "bin_start": 5.4,
            "bin_end": 6.5,
            "count": 1440
           },
           {
            "bin_start": 6.5,
            "bin_end": 7.6000000000000005,
            "count": 1488
           },
           {
            "bin_start": 7.6000000000000005,
            "bin_end": 8.700000000000001,
            "count": 1475
           },
           {
            "bin_start": 8.700000000000001,
            "bin_end": 9.8,
            "count": 1437
           },
           {
            "bin_start": 9.8,
            "bin_end": 10.9,
            "count": 1451
           },
           {
            "bin_start": 10.9,
            "bin_end": 12,
            "count": 2920
           }
          ]
         }
        },
        {
         "name": "hr",
         "dtype": "int64"
        },
        {
         "name": "holiday",
         "dtype": "int64"
        },
        {
         "name": "weekday",
         "dtype": "int64"
        },
        {
         "name": "workingday",
         "dtype": "int64"
        },
        {
         "name": "weathersit",
         "dtype": "int64"
        },
        {
         "name": "temp",
         "dtype": "float64"
        },
        {
         "name": "atemp",
         "dtype": "float64"
        },
        {
         "name": "hum",
         "dtype": "float64"
        },
        {
         "name": "windspeed",
         "dtype": "float64"
        },
        {
         "name": "casual",
         "dtype": "int64"
        },
        {
         "name": "registered",
         "dtype": "int64"
        },
        {
         "name": "cnt",
         "dtype": "int64"
        },
        {
         "name": "_deepnote_index_column",
         "dtype": "int64"
        }
       ],
       "rows_top": [
        {
         "instant": 1,
         "dteday": "2011-01-01",
         "season": 1,
         "yr": 0,
         "mnth": 1,
         "hr": 0,
         "holiday": 0,
         "weekday": 6,
         "workingday": 0,
         "weathersit": 1,
         "temp": 0.24,
         "atemp": 0.2879,
         "hum": 0.81,
         "windspeed": 0,
         "casual": 3,
         "registered": 13,
         "cnt": 16,
         "_deepnote_index_column": 0
        },
        {
         "instant": 2,
         "dteday": "2011-01-01",
         "season": 1,
         "yr": 0,
         "mnth": 1,
         "hr": 1,
         "holiday": 0,
         "weekday": 6,
         "workingday": 0,
         "weathersit": 1,
         "temp": 0.22,
         "atemp": 0.2727,
         "hum": 0.8,
         "windspeed": 0,
         "casual": 8,
         "registered": 32,
         "cnt": 40,
         "_deepnote_index_column": 1
        },
        {
         "instant": 3,
         "dteday": "2011-01-01",
         "season": 1,
         "yr": 0,
         "mnth": 1,
         "hr": 2,
         "holiday": 0,
         "weekday": 6,
         "workingday": 0,
         "weathersit": 1,
         "temp": 0.22,
         "atemp": 0.2727,
         "hum": 0.8,
         "windspeed": 0,
         "casual": 5,
         "registered": 27,
         "cnt": 32,
         "_deepnote_index_column": 2
        },
        {
         "instant": 4,
         "dteday": "2011-01-01",
         "season": 1,
         "yr": 0,
         "mnth": 1,
         "hr": 3,
         "holiday": 0,
         "weekday": 6,
         "workingday": 0,
         "weathersit": 1,
         "temp": 0.24,
         "atemp": 0.2879,
         "hum": 0.75,
         "windspeed": 0,
         "casual": 3,
         "registered": 10,
         "cnt": 13,
         "_deepnote_index_column": 3
        },
        {
         "instant": 5,
         "dteday": "2011-01-01",
         "season": 1,
         "yr": 0,
         "mnth": 1,
         "hr": 4,
         "holiday": 0,
         "weekday": 6,
         "workingday": 0,
         "weathersit": 1,
         "temp": 0.24,
         "atemp": 0.2879,
         "hum": 0.75,
         "windspeed": 0,
         "casual": 0,
         "registered": 1,
         "cnt": 1,
         "_deepnote_index_column": 4
        },
        {
         "instant": 6,
         "dteday": "2011-01-01",
         "season": 1,
         "yr": 0,
         "mnth": 1,
         "hr": 5,
         "holiday": 0,
         "weekday": 6,
         "workingday": 0,
         "weathersit": 2,
         "temp": 0.24,
         "atemp": 0.2576,
         "hum": 0.75,
         "windspeed": 0.0896,
         "casual": 0,
         "registered": 1,
         "cnt": 1,
         "_deepnote_index_column": 5
        },
        {
         "instant": 7,
         "dteday": "2011-01-01",
         "season": 1,
         "yr": 0,
         "mnth": 1,
         "hr": 6,
         "holiday": 0,
         "weekday": 6,
         "workingday": 0,
         "weathersit": 1,
         "temp": 0.22,
         "atemp": 0.2727,
         "hum": 0.8,
         "windspeed": 0,
         "casual": 2,
         "registered": 0,
         "cnt": 2,
         "_deepnote_index_column": 6
        },
        {
         "instant": 8,
         "dteday": "2011-01-01",
         "season": 1,
         "yr": 0,
         "mnth": 1,
         "hr": 7,
         "holiday": 0,
         "weekday": 6,
         "workingday": 0,
         "weathersit": 1,
         "temp": 0.2,
         "atemp": 0.2576,
         "hum": 0.86,
         "windspeed": 0,
         "casual": 1,
         "registered": 2,
         "cnt": 3,
         "_deepnote_index_column": 7
        },
        {
         "instant": 9,
         "dteday": "2011-01-01",
         "season": 1,
         "yr": 0,
         "mnth": 1,
         "hr": 8,
         "holiday": 0,
         "weekday": 6,
         "workingday": 0,
         "weathersit": 1,
         "temp": 0.24,
         "atemp": 0.2879,
         "hum": 0.75,
         "windspeed": 0,
         "casual": 1,
         "registered": 7,
         "cnt": 8,
         "_deepnote_index_column": 8
        },
        {
         "instant": 10,
         "dteday": "2011-01-01",
         "season": 1,
         "yr": 0,
         "mnth": 1,
         "hr": 9,
         "holiday": 0,
         "weekday": 6,
         "workingday": 0,
         "weathersit": 1,
         "temp": 0.32,
         "atemp": 0.3485,
         "hum": 0.76,
         "windspeed": 0,
         "casual": 8,
         "registered": 6,
         "cnt": 14,
         "_deepnote_index_column": 9
        },
        {
         "instant": 11,
         "dteday": "2011-01-01",
         "season": 1,
         "yr": 0,
         "mnth": 1,
         "hr": 10,
         "holiday": 0,
         "weekday": 6,
         "workingday": 0,
         "weathersit": 1,
         "temp": 0.38,
         "atemp": 0.3939,
         "hum": 0.76,
         "windspeed": 0.2537,
         "casual": 12,
         "registered": 24,
         "cnt": 36,
         "_deepnote_index_column": 10
        },
        {
         "instant": 12,
         "dteday": "2011-01-01",
         "season": 1,
         "yr": 0,
         "mnth": 1,
         "hr": 11,
         "holiday": 0,
         "weekday": 6,
         "workingday": 0,
         "weathersit": 1,
         "temp": 0.36,
         "atemp": 0.3333,
         "hum": 0.81,
         "windspeed": 0.2836,
         "casual": 26,
         "registered": 30,
         "cnt": 56,
         "_deepnote_index_column": 11
        },
        {
         "instant": 13,
         "dteday": "2011-01-01",
         "season": 1,
         "yr": 0,
         "mnth": 1,
         "hr": 12,
         "holiday": 0,
         "weekday": 6,
         "workingday": 0,
         "weathersit": 1,
         "temp": 0.42,
         "atemp": 0.4242,
         "hum": 0.77,
         "windspeed": 0.2836,
         "casual": 29,
         "registered": 55,
         "cnt": 84,
         "_deepnote_index_column": 12
        },
        {
         "instant": 14,
         "dteday": "2011-01-01",
         "season": 1,
         "yr": 0,
         "mnth": 1,
         "hr": 13,
         "holiday": 0,
         "weekday": 6,
         "workingday": 0,
         "weathersit": 2,
         "temp": 0.46,
         "atemp": 0.4545,
         "hum": 0.72,
         "windspeed": 0.2985,
         "casual": 47,
         "registered": 47,
         "cnt": 94,
         "_deepnote_index_column": 13
        },
        {
         "instant": 15,
         "dteday": "2011-01-01",
         "season": 1,
         "yr": 0,
         "mnth": 1,
         "hr": 14,
         "holiday": 0,
         "weekday": 6,
         "workingday": 0,
         "weathersit": 2,
         "temp": 0.46,
         "atemp": 0.4545,
         "hum": 0.72,
         "windspeed": 0.2836,
         "casual": 35,
         "registered": 71,
         "cnt": 106,
         "_deepnote_index_column": 14
        },
        {
         "instant": 16,
         "dteday": "2011-01-01",
         "season": 1,
         "yr": 0,
         "mnth": 1,
         "hr": 15,
         "holiday": 0,
         "weekday": 6,
         "workingday": 0,
         "weathersit": 2,
         "temp": 0.44,
         "atemp": 0.4394,
         "hum": 0.77,
         "windspeed": 0.2985,
         "casual": 40,
         "registered": 70,
         "cnt": 110,
         "_deepnote_index_column": 15
        },
        {
         "instant": 17,
         "dteday": "2011-01-01",
         "season": 1,
         "yr": 0,
         "mnth": 1,
         "hr": 16,
         "holiday": 0,
         "weekday": 6,
         "workingday": 0,
         "weathersit": 2,
         "temp": 0.42,
         "atemp": 0.4242,
         "hum": 0.82,
         "windspeed": 0.2985,
         "casual": 41,
         "registered": 52,
         "cnt": 93,
         "_deepnote_index_column": 16
        },
        {
         "instant": 18,
         "dteday": "2011-01-01",
         "season": 1,
         "yr": 0,
         "mnth": 1,
         "hr": 17,
         "holiday": 0,
         "weekday": 6,
         "workingday": 0,
         "weathersit": 2,
         "temp": 0.44,
         "atemp": 0.4394,
         "hum": 0.82,
         "windspeed": 0.2836,
         "casual": 15,
         "registered": 52,
         "cnt": 67,
         "_deepnote_index_column": 17
        },
        {
         "instant": 19,
         "dteday": "2011-01-01",
         "season": 1,
         "yr": 0,
         "mnth": 1,
         "hr": 18,
         "holiday": 0,
         "weekday": 6,
         "workingday": 0,
         "weathersit": 3,
         "temp": 0.42,
         "atemp": 0.4242,
         "hum": 0.88,
         "windspeed": 0.2537,
         "casual": 9,
         "registered": 26,
         "cnt": 35,
         "_deepnote_index_column": 18
        },
        {
         "instant": 20,
         "dteday": "2011-01-01",
         "season": 1,
         "yr": 0,
         "mnth": 1,
         "hr": 19,
         "holiday": 0,
         "weekday": 6,
         "workingday": 0,
         "weathersit": 3,
         "temp": 0.42,
         "atemp": 0.4242,
         "hum": 0.88,
         "windspeed": 0.2537,
         "casual": 6,
         "registered": 31,
         "cnt": 37,
         "_deepnote_index_column": 19
        },
        {
         "instant": 21,
         "dteday": "2011-01-01",
         "season": 1,
         "yr": 0,
         "mnth": 1,
         "hr": 20,
         "holiday": 0,
         "weekday": 6,
         "workingday": 0,
         "weathersit": 2,
         "temp": 0.4,
         "atemp": 0.4091,
         "hum": 0.87,
         "windspeed": 0.2537,
         "casual": 11,
         "registered": 25,
         "cnt": 36,
         "_deepnote_index_column": 20
        },
        {
         "instant": 22,
         "dteday": "2011-01-01",
         "season": 1,
         "yr": 0,
         "mnth": 1,
         "hr": 21,
         "holiday": 0,
         "weekday": 6,
         "workingday": 0,
         "weathersit": 2,
         "temp": 0.4,
         "atemp": 0.4091,
         "hum": 0.87,
         "windspeed": 0.194,
         "casual": 3,
         "registered": 31,
         "cnt": 34,
         "_deepnote_index_column": 21
        },
        {
         "instant": 23,
         "dteday": "2011-01-01",
         "season": 1,
         "yr": 0,
         "mnth": 1,
         "hr": 22,
         "holiday": 0,
         "weekday": 6,
         "workingday": 0,
         "weathersit": 2,
         "temp": 0.4,
         "atemp": 0.4091,
         "hum": 0.94,
         "windspeed": 0.2239,
         "casual": 11,
         "registered": 17,
         "cnt": 28,
         "_deepnote_index_column": 22
        },
        {
         "instant": 24,
         "dteday": "2011-01-01",
         "season": 1,
         "yr": 0,
         "mnth": 1,
         "hr": 23,
         "holiday": 0,
         "weekday": 6,
         "workingday": 0,
         "weathersit": 2,
         "temp": 0.46,
         "atemp": 0.4545,
         "hum": 0.88,
         "windspeed": 0.2985,
         "casual": 15,
         "registered": 24,
         "cnt": 39,
         "_deepnote_index_column": 23
        },
        {
         "instant": 25,
         "dteday": "2011-01-02",
         "season": 1,
         "yr": 0,
         "mnth": 1,
         "hr": 0,
         "holiday": 0,
         "weekday": 0,
         "workingday": 0,
         "weathersit": 2,
         "temp": 0.46,
         "atemp": 0.4545,
         "hum": 0.88,
         "windspeed": 0.2985,
         "casual": 4,
         "registered": 13,
         "cnt": 17,
         "_deepnote_index_column": 24
        },
        {
         "instant": 26,
         "dteday": "2011-01-02",
         "season": 1,
         "yr": 0,
         "mnth": 1,
         "hr": 1,
         "holiday": 0,
         "weekday": 0,
         "workingday": 0,
         "weathersit": 2,
         "temp": 0.44,
         "atemp": 0.4394,
         "hum": 0.94,
         "windspeed": 0.2537,
         "casual": 1,
         "registered": 16,
         "cnt": 17,
         "_deepnote_index_column": 25
        },
        {
         "instant": 27,
         "dteday": "2011-01-02",
         "season": 1,
         "yr": 0,
         "mnth": 1,
         "hr": 2,
         "holiday": 0,
         "weekday": 0,
         "workingday": 0,
         "weathersit": 2,
         "temp": 0.42,
         "atemp": 0.4242,
         "hum": 1,
         "windspeed": 0.2836,
         "casual": 1,
         "registered": 8,
         "cnt": 9,
         "_deepnote_index_column": 26
        },
        {
         "instant": 28,
         "dteday": "2011-01-02",
         "season": 1,
         "yr": 0,
         "mnth": 1,
         "hr": 3,
         "holiday": 0,
         "weekday": 0,
         "workingday": 0,
         "weathersit": 2,
         "temp": 0.46,
         "atemp": 0.4545,
         "hum": 0.94,
         "windspeed": 0.194,
         "casual": 2,
         "registered": 4,
         "cnt": 6,
         "_deepnote_index_column": 27
        },
        {
         "instant": 29,
         "dteday": "2011-01-02",
         "season": 1,
         "yr": 0,
         "mnth": 1,
         "hr": 4,
         "holiday": 0,
         "weekday": 0,
         "workingday": 0,
         "weathersit": 2,
         "temp": 0.46,
         "atemp": 0.4545,
         "hum": 0.94,
         "windspeed": 0.194,
         "casual": 2,
         "registered": 1,
         "cnt": 3,
         "_deepnote_index_column": 28
        }
       ],
       "rows_bottom": [
        {
         "instant": 17351,
         "dteday": "2012-12-30",
         "season": 1,
         "yr": 1,
         "mnth": 12,
         "hr": 19,
         "holiday": 0,
         "weekday": 0,
         "workingday": 0,
         "weathersit": 1,
         "temp": 0.34,
         "atemp": 0.3636,
         "hum": 0.61,
         "windspeed": 0,
         "casual": 16,
         "registered": 86,
         "cnt": 102,
         "_deepnote_index_column": 17350
        },
        {
         "instant": 17352,
         "dteday": "2012-12-30",
         "season": 1,
         "yr": 1,
         "mnth": 12,
         "hr": 20,
         "holiday": 0,
         "weekday": 0,
         "workingday": 0,
         "weathersit": 1,
         "temp": 0.22,
         "atemp": 0.197,
         "hum": 0.47,
         "windspeed": 0.3284,
         "casual": 9,
         "registered": 63,
         "cnt": 72,
         "_deepnote_index_column": 17351
        },
        {
         "instant": 17353,
         "dteday": "2012-12-30",
         "season": 1,
         "yr": 1,
         "mnth": 12,
         "hr": 21,
         "holiday": 0,
         "weekday": 0,
         "workingday": 0,
         "weathersit": 1,
         "temp": 0.2,
         "atemp": 0.2121,
         "hum": 0.51,
         "windspeed": 0.1642,
         "casual": 5,
         "registered": 42,
         "cnt": 47,
         "_deepnote_index_column": 17352
        },
        {
         "instant": 17354,
         "dteday": "2012-12-30",
         "season": 1,
         "yr": 1,
         "mnth": 12,
         "hr": 22,
         "holiday": 0,
         "weekday": 0,
         "workingday": 0,
         "weathersit": 1,
         "temp": 0.2,
         "atemp": 0.197,
         "hum": 0.55,
         "windspeed": 0.194,
         "casual": 6,
         "registered": 30,
         "cnt": 36,
         "_deepnote_index_column": 17353
        },
        {
         "instant": 17355,
         "dteday": "2012-12-30",
         "season": 1,
         "yr": 1,
         "mnth": 12,
         "hr": 23,
         "holiday": 0,
         "weekday": 0,
         "workingday": 0,
         "weathersit": 1,
         "temp": 0.2,
         "atemp": 0.197,
         "hum": 0.51,
         "windspeed": 0.2239,
         "casual": 10,
         "registered": 39,
         "cnt": 49,
         "_deepnote_index_column": 17354
        },
        {
         "instant": 17356,
         "dteday": "2012-12-31",
         "season": 1,
         "yr": 1,
         "mnth": 12,
         "hr": 0,
         "holiday": 0,
         "weekday": 1,
         "workingday": 1,
         "weathersit": 1,
         "temp": 0.18,
         "atemp": 0.1818,
         "hum": 0.55,
         "windspeed": 0.194,
         "casual": 4,
         "registered": 30,
         "cnt": 34,
         "_deepnote_index_column": 17355
        },
        {
         "instant": 17357,
         "dteday": "2012-12-31",
         "season": 1,
         "yr": 1,
         "mnth": 12,
         "hr": 1,
         "holiday": 0,
         "weekday": 1,
         "workingday": 1,
         "weathersit": 1,
         "temp": 0.18,
         "atemp": 0.1818,
         "hum": 0.55,
         "windspeed": 0.194,
         "casual": 6,
         "registered": 13,
         "cnt": 19,
         "_deepnote_index_column": 17356
        },
        {
         "instant": 17358,
         "dteday": "2012-12-31",
         "season": 1,
         "yr": 1,
         "mnth": 12,
         "hr": 2,
         "holiday": 0,
         "weekday": 1,
         "workingday": 1,
         "weathersit": 1,
         "temp": 0.16,
         "atemp": 0.1667,
         "hum": 0.59,
         "windspeed": 0.1642,
         "casual": 3,
         "registered": 8,
         "cnt": 11,
         "_deepnote_index_column": 17357
        },
        {
         "instant": 17359,
         "dteday": "2012-12-31",
         "season": 1,
         "yr": 1,
         "mnth": 12,
         "hr": 3,
         "holiday": 0,
         "weekday": 1,
         "workingday": 1,
         "weathersit": 1,
         "temp": 0.16,
         "atemp": 0.1818,
         "hum": 0.59,
         "windspeed": 0.1045,
         "casual": 0,
         "registered": 1,
         "cnt": 1,
         "_deepnote_index_column": 17358
        },
        {
         "instant": 17360,
         "dteday": "2012-12-31",
         "season": 1,
         "yr": 1,
         "mnth": 12,
         "hr": 4,
         "holiday": 0,
         "weekday": 1,
         "workingday": 1,
         "weathersit": 1,
         "temp": 0.14,
         "atemp": 0.1667,
         "hum": 0.69,
         "windspeed": 0.1045,
         "casual": 0,
         "registered": 3,
         "cnt": 3,
         "_deepnote_index_column": 17359
        },
        {
         "instant": 17361,
         "dteday": "2012-12-31",
         "season": 1,
         "yr": 1,
         "mnth": 12,
         "hr": 5,
         "holiday": 0,
         "weekday": 1,
         "workingday": 1,
         "weathersit": 1,
         "temp": 0.16,
         "atemp": 0.1515,
         "hum": 0.64,
         "windspeed": 0.194,
         "casual": 0,
         "registered": 9,
         "cnt": 9,
         "_deepnote_index_column": 17360
        },
        {
         "instant": 17362,
         "dteday": "2012-12-31",
         "season": 1,
         "yr": 1,
         "mnth": 12,
         "hr": 6,
         "holiday": 0,
         "weekday": 1,
         "workingday": 1,
         "weathersit": 1,
         "temp": 0.16,
         "atemp": 0.1667,
         "hum": 0.64,
         "windspeed": 0.1642,
         "casual": 0,
         "registered": 40,
         "cnt": 40,
         "_deepnote_index_column": 17361
        },
        {
         "instant": 17363,
         "dteday": "2012-12-31",
         "season": 1,
         "yr": 1,
         "mnth": 12,
         "hr": 7,
         "holiday": 0,
         "weekday": 1,
         "workingday": 1,
         "weathersit": 1,
         "temp": 0.16,
         "atemp": 0.1818,
         "hum": 0.64,
         "windspeed": 0.1343,
         "casual": 2,
         "registered": 83,
         "cnt": 85,
         "_deepnote_index_column": 17362
        },
        {
         "instant": 17364,
         "dteday": "2012-12-31",
         "season": 1,
         "yr": 1,
         "mnth": 12,
         "hr": 8,
         "holiday": 0,
         "weekday": 1,
         "workingday": 1,
         "weathersit": 1,
         "temp": 0.14,
         "atemp": 0.1515,
         "hum": 0.69,
         "windspeed": 0.1343,
         "casual": 9,
         "registered": 187,
         "cnt": 196,
         "_deepnote_index_column": 17363
        },
        {
         "instant": 17365,
         "dteday": "2012-12-31",
         "season": 1,
         "yr": 1,
         "mnth": 12,
         "hr": 9,
         "holiday": 0,
         "weekday": 1,
         "workingday": 1,
         "weathersit": 2,
         "temp": 0.18,
         "atemp": 0.2121,
         "hum": 0.64,
         "windspeed": 0.1045,
         "casual": 13,
         "registered": 144,
         "cnt": 157,
         "_deepnote_index_column": 17364
        },
        {
         "instant": 17366,
         "dteday": "2012-12-31",
         "season": 1,
         "yr": 1,
         "mnth": 12,
         "hr": 10,
         "holiday": 0,
         "weekday": 1,
         "workingday": 1,
         "weathersit": 2,
         "temp": 0.2,
         "atemp": 0.2121,
         "hum": 0.69,
         "windspeed": 0.1343,
         "casual": 33,
         "registered": 87,
         "cnt": 120,
         "_deepnote_index_column": 17365
        },
        {
         "instant": 17367,
         "dteday": "2012-12-31",
         "season": 1,
         "yr": 1,
         "mnth": 12,
         "hr": 11,
         "holiday": 0,
         "weekday": 1,
         "workingday": 1,
         "weathersit": 2,
         "temp": 0.22,
         "atemp": 0.2273,
         "hum": 0.6,
         "windspeed": 0.194,
         "casual": 43,
         "registered": 114,
         "cnt": 157,
         "_deepnote_index_column": 17366
        },
        {
         "instant": 17368,
         "dteday": "2012-12-31",
         "season": 1,
         "yr": 1,
         "mnth": 12,
         "hr": 12,
         "holiday": 0,
         "weekday": 1,
         "workingday": 1,
         "weathersit": 2,
         "temp": 0.24,
         "atemp": 0.2273,
         "hum": 0.56,
         "windspeed": 0.194,
         "casual": 52,
         "registered": 172,
         "cnt": 224,
         "_deepnote_index_column": 17367
        },
        {
         "instant": 17369,
         "dteday": "2012-12-31",
         "season": 1,
         "yr": 1,
         "mnth": 12,
         "hr": 13,
         "holiday": 0,
         "weekday": 1,
         "workingday": 1,
         "weathersit": 2,
         "temp": 0.26,
         "atemp": 0.2576,
         "hum": 0.44,
         "windspeed": 0.1642,
         "casual": 38,
         "registered": 165,
         "cnt": 203,
         "_deepnote_index_column": 17368
        },
        {
         "instant": 17370,
         "dteday": "2012-12-31",
         "season": 1,
         "yr": 1,
         "mnth": 12,
         "hr": 14,
         "holiday": 0,
         "weekday": 1,
         "workingday": 1,
         "weathersit": 2,
         "temp": 0.28,
         "atemp": 0.2727,
         "hum": 0.45,
         "windspeed": 0.2239,
         "casual": 62,
         "registered": 185,
         "cnt": 247,
         "_deepnote_index_column": 17369
        },
        {
         "instant": 17371,
         "dteday": "2012-12-31",
         "season": 1,
         "yr": 1,
         "mnth": 12,
         "hr": 15,
         "holiday": 0,
         "weekday": 1,
         "workingday": 1,
         "weathersit": 2,
         "temp": 0.28,
         "atemp": 0.2879,
         "hum": 0.45,
         "windspeed": 0.1343,
         "casual": 69,
         "registered": 246,
         "cnt": 315,
         "_deepnote_index_column": 17370
        },
        {
         "instant": 17372,
         "dteday": "2012-12-31",
         "season": 1,
         "yr": 1,
         "mnth": 12,
         "hr": 16,
         "holiday": 0,
         "weekday": 1,
         "workingday": 1,
         "weathersit": 2,
         "temp": 0.26,
         "atemp": 0.2576,
         "hum": 0.48,
         "windspeed": 0.194,
         "casual": 30,
         "registered": 184,
         "cnt": 214,
         "_deepnote_index_column": 17371
        },
        {
         "instant": 17373,
         "dteday": "2012-12-31",
         "season": 1,
         "yr": 1,
         "mnth": 12,
         "hr": 17,
         "holiday": 0,
         "weekday": 1,
         "workingday": 1,
         "weathersit": 2,
         "temp": 0.26,
         "atemp": 0.2879,
         "hum": 0.48,
         "windspeed": 0.0896,
         "casual": 14,
         "registered": 150,
         "cnt": 164,
         "_deepnote_index_column": 17372
        },
        {
         "instant": 17374,
         "dteday": "2012-12-31",
         "season": 1,
         "yr": 1,
         "mnth": 12,
         "hr": 18,
         "holiday": 0,
         "weekday": 1,
         "workingday": 1,
         "weathersit": 2,
         "temp": 0.26,
         "atemp": 0.2727,
         "hum": 0.48,
         "windspeed": 0.1343,
         "casual": 10,
         "registered": 112,
         "cnt": 122,
         "_deepnote_index_column": 17373
        },
        {
         "instant": 17375,
         "dteday": "2012-12-31",
         "season": 1,
         "yr": 1,
         "mnth": 12,
         "hr": 19,
         "holiday": 0,
         "weekday": 1,
         "workingday": 1,
         "weathersit": 2,
         "temp": 0.26,
         "atemp": 0.2576,
         "hum": 0.6,
         "windspeed": 0.1642,
         "casual": 11,
         "registered": 108,
         "cnt": 119,
         "_deepnote_index_column": 17374
        },
        {
         "instant": 17376,
         "dteday": "2012-12-31",
         "season": 1,
         "yr": 1,
         "mnth": 12,
         "hr": 20,
         "holiday": 0,
         "weekday": 1,
         "workingday": 1,
         "weathersit": 2,
         "temp": 0.26,
         "atemp": 0.2576,
         "hum": 0.6,
         "windspeed": 0.1642,
         "casual": 8,
         "registered": 81,
         "cnt": 89,
         "_deepnote_index_column": 17375
        },
        {
         "instant": 17377,
         "dteday": "2012-12-31",
         "season": 1,
         "yr": 1,
         "mnth": 12,
         "hr": 21,
         "holiday": 0,
         "weekday": 1,
         "workingday": 1,
         "weathersit": 1,
         "temp": 0.26,
         "atemp": 0.2576,
         "hum": 0.6,
         "windspeed": 0.1642,
         "casual": 7,
         "registered": 83,
         "cnt": 90,
         "_deepnote_index_column": 17376
        },
        {
         "instant": 17378,
         "dteday": "2012-12-31",
         "season": 1,
         "yr": 1,
         "mnth": 12,
         "hr": 22,
         "holiday": 0,
         "weekday": 1,
         "workingday": 1,
         "weathersit": 1,
         "temp": 0.26,
         "atemp": 0.2727,
         "hum": 0.56,
         "windspeed": 0.1343,
         "casual": 13,
         "registered": 48,
         "cnt": 61,
         "_deepnote_index_column": 17377
        },
        {
         "instant": 17379,
         "dteday": "2012-12-31",
         "season": 1,
         "yr": 1,
         "mnth": 12,
         "hr": 23,
         "holiday": 0,
         "weekday": 1,
         "workingday": 1,
         "weathersit": 1,
         "temp": 0.26,
         "atemp": 0.2727,
         "hum": 0.65,
         "windspeed": 0.1343,
         "casual": 12,
         "registered": 37,
         "cnt": 49,
         "_deepnote_index_column": 17378
        }
       ]
      },
      "text/plain": "       instant      dteday  season  yr  mnth  hr  holiday  weekday  \\\n0            1  2011-01-01       1   0     1   0        0        6   \n1            2  2011-01-01       1   0     1   1        0        6   \n2            3  2011-01-01       1   0     1   2        0        6   \n3            4  2011-01-01       1   0     1   3        0        6   \n4            5  2011-01-01       1   0     1   4        0        6   \n...        ...         ...     ...  ..   ...  ..      ...      ...   \n17374    17375  2012-12-31       1   1    12  19        0        1   \n17375    17376  2012-12-31       1   1    12  20        0        1   \n17376    17377  2012-12-31       1   1    12  21        0        1   \n17377    17378  2012-12-31       1   1    12  22        0        1   \n17378    17379  2012-12-31       1   1    12  23        0        1   \n\n       workingday  weathersit  temp   atemp   hum  windspeed  casual  \\\n0               0           1  0.24  0.2879  0.81     0.0000       3   \n1               0           1  0.22  0.2727  0.80     0.0000       8   \n2               0           1  0.22  0.2727  0.80     0.0000       5   \n3               0           1  0.24  0.2879  0.75     0.0000       3   \n4               0           1  0.24  0.2879  0.75     0.0000       0   \n...           ...         ...   ...     ...   ...        ...     ...   \n17374           1           2  0.26  0.2576  0.60     0.1642      11   \n17375           1           2  0.26  0.2576  0.60     0.1642       8   \n17376           1           1  0.26  0.2576  0.60     0.1642       7   \n17377           1           1  0.26  0.2727  0.56     0.1343      13   \n17378           1           1  0.26  0.2727  0.65     0.1343      12   \n\n       registered  cnt  \n0              13   16  \n1              32   40  \n2              27   32  \n3              10   13  \n4               1    1  \n...           ...  ...  \n17374         108  119  \n17375          81   89  \n17376          83   90  \n17377          48   61  \n17378          37   49  \n\n[17379 rows x 17 columns]",
      "text/html": "<div>\n<style scoped>\n    .dataframe tbody tr th:only-of-type {\n        vertical-align: middle;\n    }\n\n    .dataframe tbody tr th {\n        vertical-align: top;\n    }\n\n    .dataframe thead th {\n        text-align: right;\n    }\n</style>\n<table border=\"1\" class=\"dataframe\">\n  <thead>\n    <tr style=\"text-align: right;\">\n      <th></th>\n      <th>instant</th>\n      <th>dteday</th>\n      <th>season</th>\n      <th>yr</th>\n      <th>mnth</th>\n      <th>hr</th>\n      <th>holiday</th>\n      <th>weekday</th>\n      <th>workingday</th>\n      <th>weathersit</th>\n      <th>temp</th>\n      <th>atemp</th>\n      <th>hum</th>\n      <th>windspeed</th>\n      <th>casual</th>\n      <th>registered</th>\n      <th>cnt</th>\n    </tr>\n  </thead>\n  <tbody>\n    <tr>\n      <th>0</th>\n      <td>1</td>\n      <td>2011-01-01</td>\n      <td>1</td>\n      <td>0</td>\n      <td>1</td>\n      <td>0</td>\n      <td>0</td>\n      <td>6</td>\n      <td>0</td>\n      <td>1</td>\n      <td>0.24</td>\n      <td>0.2879</td>\n      <td>0.81</td>\n      <td>0.0000</td>\n      <td>3</td>\n      <td>13</td>\n      <td>16</td>\n    </tr>\n    <tr>\n      <th>1</th>\n      <td>2</td>\n      <td>2011-01-01</td>\n      <td>1</td>\n      <td>0</td>\n      <td>1</td>\n      <td>1</td>\n      <td>0</td>\n      <td>6</td>\n      <td>0</td>\n      <td>1</td>\n      <td>0.22</td>\n      <td>0.2727</td>\n      <td>0.80</td>\n      <td>0.0000</td>\n      <td>8</td>\n      <td>32</td>\n      <td>40</td>\n    </tr>\n    <tr>\n      <th>2</th>\n      <td>3</td>\n      <td>2011-01-01</td>\n      <td>1</td>\n      <td>0</td>\n      <td>1</td>\n      <td>2</td>\n      <td>0</td>\n      <td>6</td>\n      <td>0</td>\n      <td>1</td>\n      <td>0.22</td>\n      <td>0.2727</td>\n      <td>0.80</td>\n      <td>0.0000</td>\n      <td>5</td>\n      <td>27</td>\n      <td>32</td>\n    </tr>\n    <tr>\n      <th>3</th>\n      <td>4</td>\n      <td>2011-01-01</td>\n      <td>1</td>\n      <td>0</td>\n      <td>1</td>\n      <td>3</td>\n      <td>0</td>\n      <td>6</td>\n      <td>0</td>\n      <td>1</td>\n      <td>0.24</td>\n      <td>0.2879</td>\n      <td>0.75</td>\n      <td>0.0000</td>\n      <td>3</td>\n      <td>10</td>\n      <td>13</td>\n    </tr>\n    <tr>\n      <th>4</th>\n      <td>5</td>\n      <td>2011-01-01</td>\n      <td>1</td>\n      <td>0</td>\n      <td>1</td>\n      <td>4</td>\n      <td>0</td>\n      <td>6</td>\n      <td>0</td>\n      <td>1</td>\n      <td>0.24</td>\n      <td>0.2879</td>\n      <td>0.75</td>\n      <td>0.0000</td>\n      <td>0</td>\n      <td>1</td>\n      <td>1</td>\n    </tr>\n    <tr>\n      <th>...</th>\n      <td>...</td>\n      <td>...</td>\n      <td>...</td>\n      <td>...</td>\n      <td>...</td>\n      <td>...</td>\n      <td>...</td>\n      <td>...</td>\n      <td>...</td>\n      <td>...</td>\n      <td>...</td>\n      <td>...</td>\n      <td>...</td>\n      <td>...</td>\n      <td>...</td>\n      <td>...</td>\n      <td>...</td>\n    </tr>\n    <tr>\n      <th>17374</th>\n      <td>17375</td>\n      <td>2012-12-31</td>\n      <td>1</td>\n      <td>1</td>\n      <td>12</td>\n      <td>19</td>\n      <td>0</td>\n      <td>1</td>\n      <td>1</td>\n      <td>2</td>\n      <td>0.26</td>\n      <td>0.2576</td>\n      <td>0.60</td>\n      <td>0.1642</td>\n      <td>11</td>\n      <td>108</td>\n      <td>119</td>\n    </tr>\n    <tr>\n      <th>17375</th>\n      <td>17376</td>\n      <td>2012-12-31</td>\n      <td>1</td>\n      <td>1</td>\n      <td>12</td>\n      <td>20</td>\n      <td>0</td>\n      <td>1</td>\n      <td>1</td>\n      <td>2</td>\n      <td>0.26</td>\n      <td>0.2576</td>\n      <td>0.60</td>\n      <td>0.1642</td>\n      <td>8</td>\n      <td>81</td>\n      <td>89</td>\n    </tr>\n    <tr>\n      <th>17376</th>\n      <td>17377</td>\n      <td>2012-12-31</td>\n      <td>1</td>\n      <td>1</td>\n      <td>12</td>\n      <td>21</td>\n      <td>0</td>\n      <td>1</td>\n      <td>1</td>\n      <td>1</td>\n      <td>0.26</td>\n      <td>0.2576</td>\n      <td>0.60</td>\n      <td>0.1642</td>\n      <td>7</td>\n      <td>83</td>\n      <td>90</td>\n    </tr>\n    <tr>\n      <th>17377</th>\n      <td>17378</td>\n      <td>2012-12-31</td>\n      <td>1</td>\n      <td>1</td>\n      <td>12</td>\n      <td>22</td>\n      <td>0</td>\n      <td>1</td>\n      <td>1</td>\n      <td>1</td>\n      <td>0.26</td>\n      <td>0.2727</td>\n      <td>0.56</td>\n      <td>0.1343</td>\n      <td>13</td>\n      <td>48</td>\n      <td>61</td>\n    </tr>\n    <tr>\n      <th>17378</th>\n      <td>17379</td>\n      <td>2012-12-31</td>\n      <td>1</td>\n      <td>1</td>\n      <td>12</td>\n      <td>23</td>\n      <td>0</td>\n      <td>1</td>\n      <td>1</td>\n      <td>1</td>\n      <td>0.26</td>\n      <td>0.2727</td>\n      <td>0.65</td>\n      <td>0.1343</td>\n      <td>12</td>\n      <td>37</td>\n      <td>49</td>\n    </tr>\n  </tbody>\n</table>\n<p>17379 rows × 17 columns</p>\n</div>"
     },
     "metadata": {}
    }
   ],
   "execution_count": null
  },
  {
   "cell_type": "code",
   "source": "df = df.drop([\"instant\", \"dteday\", \"casual\", \"registered\"], axis=1)",
   "metadata": {
    "tags": [],
    "cell_id": "00003-ff8c47f6-bb79-4f9c-b047-67e399e0f35d",
    "deepnote_to_be_reexecuted": false,
    "source_hash": "3e0853f7",
    "execution_start": 1638544777293,
    "execution_millis": 1,
    "deepnote_cell_type": "code"
   },
   "outputs": [],
   "execution_count": null
  },
  {
   "cell_type": "code",
   "source": "df.describe()",
   "metadata": {
    "tags": [],
    "cell_id": "00003-6dc899b8-ee56-4b2e-8c0c-b836996c145b",
    "deepnote_to_be_reexecuted": false,
    "source_hash": "f88152d9",
    "execution_start": 1638544777341,
    "execution_millis": 75,
    "deepnote_cell_type": "code"
   },
   "outputs": [
    {
     "output_type": "execute_result",
     "execution_count": 5,
     "data": {
      "application/vnd.deepnote.dataframe.v2+json": {
       "row_count": 8,
       "column_count": 13,
       "columns": [
        {
         "name": "season",
         "dtype": "float64",
         "stats": {
          "unique_count": 7,
          "nan_count": 0,
          "min": "1.0",
          "max": "17379.0",
          "histogram": [
           {
            "bin_start": 1,
            "bin_end": 1738.8,
            "count": 7
           },
           {
            "bin_start": 1738.8,
            "bin_end": 3476.6,
            "count": 0
           },
           {
            "bin_start": 3476.6,
            "bin_end": 5214.4,
            "count": 0
           },
           {
            "bin_start": 5214.4,
            "bin_end": 6952.2,
            "count": 0
           },
           {
            "bin_start": 6952.2,
            "bin_end": 8690,
            "count": 0
           },
           {
            "bin_start": 8690,
            "bin_end": 10427.8,
            "count": 0
           },
           {
            "bin_start": 10427.8,
            "bin_end": 12165.6,
            "count": 0
           },
           {
            "bin_start": 12165.6,
            "bin_end": 13903.4,
            "count": 0
           },
           {
            "bin_start": 13903.4,
            "bin_end": 15641.199999999999,
            "count": 0
           },
           {
            "bin_start": 15641.199999999999,
            "bin_end": 17379,
            "count": 1
           }
          ]
         }
        },
        {
         "name": "yr",
         "dtype": "float64",
         "stats": {
          "unique_count": 5,
          "nan_count": 0,
          "min": "0.0",
          "max": "17379.0",
          "histogram": [
           {
            "bin_start": 0,
            "bin_end": 1737.9,
            "count": 7
           },
           {
            "bin_start": 1737.9,
            "bin_end": 3475.8,
            "count": 0
           },
           {
            "bin_start": 3475.8,
            "bin_end": 5213.700000000001,
            "count": 0
           },
           {
            "bin_start": 5213.700000000001,
            "bin_end": 6951.6,
            "count": 0
           },
           {
            "bin_start": 6951.6,
            "bin_end": 8689.5,
            "count": 0
           },
           {
            "bin_start": 8689.5,
            "bin_end": 10427.400000000001,
            "count": 0
           },
           {
            "bin_start": 10427.400000000001,
            "bin_end": 12165.300000000001,
            "count": 0
           },
           {
            "bin_start": 12165.300000000001,
            "bin_end": 13903.2,
            "count": 0
           },
           {
            "bin_start": 13903.2,
            "bin_end": 15641.1,
            "count": 0
           },
           {
            "bin_start": 15641.1,
            "bin_end": 17379,
            "count": 1
           }
          ]
         }
        },
        {
         "name": "mnth",
         "dtype": "float64",
         "stats": {
          "unique_count": 8,
          "nan_count": 0,
          "min": "1.0",
          "max": "17379.0",
          "histogram": [
           {
            "bin_start": 1,
            "bin_end": 1738.8,
            "count": 7
           },
           {
            "bin_start": 1738.8,
            "bin_end": 3476.6,
            "count": 0
           },
           {
            "bin_start": 3476.6,
            "bin_end": 5214.4,
            "count": 0
           },
           {
            "bin_start": 5214.4,
            "bin_end": 6952.2,
            "count": 0
           },
           {
            "bin_start": 6952.2,
            "bin_end": 8690,
            "count": 0
           },
           {
            "bin_start": 8690,
            "bin_end": 10427.8,
            "count": 0
           },
           {
            "bin_start": 10427.8,
            "bin_end": 12165.6,
            "count": 0
           },
           {
            "bin_start": 12165.6,
            "bin_end": 13903.4,
            "count": 0
           },
           {
            "bin_start": 13903.4,
            "bin_end": 15641.199999999999,
            "count": 0
           },
           {
            "bin_start": 15641.199999999999,
            "bin_end": 17379,
            "count": 1
           }
          ]
         }
        },
        {
         "name": "hr",
         "dtype": "float64",
         "stats": {
          "unique_count": 8,
          "nan_count": 0,
          "min": "0.0",
          "max": "17379.0",
          "histogram": [
           {
            "bin_start": 0,
            "bin_end": 1737.9,
            "count": 7
           },
           {
            "bin_start": 1737.9,
            "bin_end": 3475.8,
            "count": 0
           },
           {
            "bin_start": 3475.8,
            "bin_end": 5213.700000000001,
            "count": 0
           },
           {
            "bin_start": 5213.700000000001,
            "bin_end": 6951.6,
            "count": 0
           },
           {
            "bin_start": 6951.6,
            "bin_end": 8689.5,
            "count": 0
           },
           {
            "bin_start": 8689.5,
            "bin_end": 10427.400000000001,
            "count": 0
           },
           {
            "bin_start": 10427.400000000001,
            "bin_end": 12165.300000000001,
            "count": 0
           },
           {
            "bin_start": 12165.300000000001,
            "bin_end": 13903.2,
            "count": 0
           },
           {
            "bin_start": 13903.2,
            "bin_end": 15641.1,
            "count": 0
           },
           {
            "bin_start": 15641.1,
            "bin_end": 17379,
            "count": 1
           }
          ]
         }
        },
        {
         "name": "holiday",
         "dtype": "float64",
         "stats": {
          "unique_count": 5,
          "nan_count": 0,
          "min": "0.0",
          "max": "17379.0",
          "histogram": [
           {
            "bin_start": 0,
            "bin_end": 1737.9,
            "count": 7
           },
           {
            "bin_start": 1737.9,
            "bin_end": 3475.8,
            "count": 0
           },
           {
            "bin_start": 3475.8,
            "bin_end": 5213.700000000001,
            "count": 0
           },
           {
            "bin_start": 5213.700000000001,
            "bin_end": 6951.6,
            "count": 0
           },
           {
            "bin_start": 6951.6,
            "bin_end": 8689.5,
            "count": 0
           },
           {
            "bin_start": 8689.5,
            "bin_end": 10427.400000000001,
            "count": 0
           },
           {
            "bin_start": 10427.400000000001,
            "bin_end": 12165.300000000001,
            "count": 0
           },
           {
            "bin_start": 12165.300000000001,
            "bin_end": 13903.2,
            "count": 0
           },
           {
            "bin_start": 13903.2,
            "bin_end": 15641.1,
            "count": 0
           },
           {
            "bin_start": 15641.1,
            "bin_end": 17379,
            "count": 1
           }
          ]
         }
        },
        {
         "name": "weekday",
         "dtype": "float64",
         "stats": {
          "unique_count": 8,
          "nan_count": 0,
          "min": "0.0",
          "max": "17379.0",
          "histogram": [
           {
            "bin_start": 0,
            "bin_end": 1737.9,
            "count": 7
           },
           {
            "bin_start": 1737.9,
            "bin_end": 3475.8,
            "count": 0
           },
           {
            "bin_start": 3475.8,
            "bin_end": 5213.700000000001,
            "count": 0
           },
           {
            "bin_start": 5213.700000000001,
            "bin_end": 6951.6,
            "count": 0
           },
           {
            "bin_start": 6951.6,
            "bin_end": 8689.5,
            "count": 0
           },
           {
            "bin_start": 8689.5,
            "bin_end": 10427.400000000001,
            "count": 0
           },
           {
            "bin_start": 10427.400000000001,
            "bin_end": 12165.300000000001,
            "count": 0
           },
           {
            "bin_start": 12165.300000000001,
            "bin_end": 13903.2,
            "count": 0
           },
           {
            "bin_start": 13903.2,
            "bin_end": 15641.1,
            "count": 0
           },
           {
            "bin_start": 15641.1,
            "bin_end": 17379,
            "count": 1
           }
          ]
         }
        },
        {
         "name": "workingday",
         "dtype": "float64",
         "stats": {
          "unique_count": 5,
          "nan_count": 0,
          "min": "0.0",
          "max": "17379.0",
          "histogram": [
           {
            "bin_start": 0,
            "bin_end": 1737.9,
            "count": 7
           },
           {
            "bin_start": 1737.9,
            "bin_end": 3475.8,
            "count": 0
           },
           {
            "bin_start": 3475.8,
            "bin_end": 5213.700000000001,
            "count": 0
           },
           {
            "bin_start": 5213.700000000001,
            "bin_end": 6951.6,
            "count": 0
           },
           {
            "bin_start": 6951.6,
            "bin_end": 8689.5,
            "count": 0
           },
           {
            "bin_start": 8689.5,
            "bin_end": 10427.400000000001,
            "count": 0
           },
           {
            "bin_start": 10427.400000000001,
            "bin_end": 12165.300000000001,
            "count": 0
           },
           {
            "bin_start": 12165.300000000001,
            "bin_end": 13903.2,
            "count": 0
           },
           {
            "bin_start": 13903.2,
            "bin_end": 15641.1,
            "count": 0
           },
           {
            "bin_start": 15641.1,
            "bin_end": 17379,
            "count": 1
           }
          ]
         }
        },
        {
         "name": "weathersit",
         "dtype": "float64",
         "stats": {
          "unique_count": 6,
          "nan_count": 0,
          "min": "0.6393568777542534",
          "max": "17379.0",
          "histogram": [
           {
            "bin_start": 0.6393568777542534,
            "bin_end": 1738.4754211899788,
            "count": 7
           },
           {
            "bin_start": 1738.4754211899788,
            "bin_end": 3476.3114855022036,
            "count": 0
           },
           {
            "bin_start": 3476.3114855022036,
            "bin_end": 5214.147549814427,
            "count": 0
           },
           {
            "bin_start": 5214.147549814427,
            "bin_end": 6951.983614126652,
            "count": 0
           },
           {
            "bin_start": 6951.983614126652,
            "bin_end": 8689.819678438878,
            "count": 0
           },
           {
            "bin_start": 8689.819678438878,
            "bin_end": 10427.655742751102,
            "count": 0
           },
           {
            "bin_start": 10427.655742751102,
            "bin_end": 12165.491807063327,
            "count": 0
           },
           {
            "bin_start": 12165.491807063327,
            "bin_end": 13903.327871375552,
            "count": 0
           },
           {
            "bin_start": 13903.327871375552,
            "bin_end": 15641.163935687777,
            "count": 0
           },
           {
            "bin_start": 15641.163935687777,
            "bin_end": 17379,
            "count": 1
           }
          ]
         }
        },
        {
         "name": "temp",
         "dtype": "float64",
         "stats": {
          "unique_count": 8,
          "nan_count": 0,
          "min": "0.02",
          "max": "17379.0",
          "histogram": [
           {
            "bin_start": 0.02,
            "bin_end": 1737.918,
            "count": 7
           },
           {
            "bin_start": 1737.918,
            "bin_end": 3475.816,
            "count": 0
           },
           {
            "bin_start": 3475.816,
            "bin_end": 5213.714,
            "count": 0
           },
           {
            "bin_start": 5213.714,
            "bin_end": 6951.612,
            "count": 0
           },
           {
            "bin_start": 6951.612,
            "bin_end": 8689.51,
            "count": 0
           },
           {
            "bin_start": 8689.51,
            "bin_end": 10427.408,
            "count": 0
           },
           {
            "bin_start": 10427.408,
            "bin_end": 12165.306,
            "count": 0
           },
           {
            "bin_start": 12165.306,
            "bin_end": 13903.204,
            "count": 0
           },
           {
            "bin_start": 13903.204,
            "bin_end": 15641.101999999999,
            "count": 0
           },
           {
            "bin_start": 15641.101999999999,
            "bin_end": 17379,
            "count": 1
           }
          ]
         }
        },
        {
         "name": "atemp",
         "dtype": "float64",
         "stats": {
          "unique_count": 8,
          "nan_count": 0,
          "min": "0.0",
          "max": "17379.0",
          "histogram": [
           {
            "bin_start": 0,
            "bin_end": 1737.9,
            "count": 7
           },
           {
            "bin_start": 1737.9,
            "bin_end": 3475.8,
            "count": 0
           },
           {
            "bin_start": 3475.8,
            "bin_end": 5213.700000000001,
            "count": 0
           },
           {
            "bin_start": 5213.700000000001,
            "bin_end": 6951.6,
            "count": 0
           },
           {
            "bin_start": 6951.6,
            "bin_end": 8689.5,
            "count": 0
           },
           {
            "bin_start": 8689.5,
            "bin_end": 10427.400000000001,
            "count": 0
           },
           {
            "bin_start": 10427.400000000001,
            "bin_end": 12165.300000000001,
            "count": 0
           },
           {
            "bin_start": 12165.300000000001,
            "bin_end": 13903.2,
            "count": 0
           },
           {
            "bin_start": 13903.2,
            "bin_end": 15641.1,
            "count": 0
           },
           {
            "bin_start": 15641.1,
            "bin_end": 17379,
            "count": 1
           }
          ]
         }
        },
        {
         "name": "hum",
         "dtype": "float64",
         "stats": {
          "unique_count": 8,
          "nan_count": 0,
          "min": "0.0",
          "max": "17379.0",
          "histogram": [
           {
            "bin_start": 0,
            "bin_end": 1737.9,
            "count": 7
           },
           {
            "bin_start": 1737.9,
            "bin_end": 3475.8,
            "count": 0
           },
           {
            "bin_start": 3475.8,
            "bin_end": 5213.700000000001,
            "count": 0
           },
           {
            "bin_start": 5213.700000000001,
            "bin_end": 6951.6,
            "count": 0
           },
           {
            "bin_start": 6951.6,
            "bin_end": 8689.5,
            "count": 0
           },
           {
            "bin_start": 8689.5,
            "bin_end": 10427.400000000001,
            "count": 0
           },
           {
            "bin_start": 10427.400000000001,
            "bin_end": 12165.300000000001,
            "count": 0
           },
           {
            "bin_start": 12165.300000000001,
            "bin_end": 13903.2,
            "count": 0
           },
           {
            "bin_start": 13903.2,
            "bin_end": 15641.1,
            "count": 0
           },
           {
            "bin_start": 15641.1,
            "bin_end": 17379,
            "count": 1
           }
          ]
         }
        },
        {
         "name": "windspeed",
         "dtype": "float64",
         "stats": {
          "unique_count": 8,
          "nan_count": 0,
          "min": "0.0",
          "max": "17379.0",
          "histogram": [
           {
            "bin_start": 0,
            "bin_end": 1737.9,
            "count": 7
           },
           {
            "bin_start": 1737.9,
            "bin_end": 3475.8,
            "count": 0
           },
           {
            "bin_start": 3475.8,
            "bin_end": 5213.700000000001,
            "count": 0
           },
           {
            "bin_start": 5213.700000000001,
            "bin_end": 6951.6,
            "count": 0
           },
           {
            "bin_start": 6951.6,
            "bin_end": 8689.5,
            "count": 0
           },
           {
            "bin_start": 8689.5,
            "bin_end": 10427.400000000001,
            "count": 0
           },
           {
            "bin_start": 10427.400000000001,
            "bin_end": 12165.300000000001,
            "count": 0
           },
           {
            "bin_start": 12165.300000000001,
            "bin_end": 13903.2,
            "count": 0
           },
           {
            "bin_start": 13903.2,
            "bin_end": 15641.1,
            "count": 0
           },
           {
            "bin_start": 15641.1,
            "bin_end": 17379,
            "count": 1
           }
          ]
         }
        },
        {
         "name": "cnt",
         "dtype": "float64",
         "stats": {
          "unique_count": 8,
          "nan_count": 0,
          "min": "1.0",
          "max": "17379.0",
          "histogram": [
           {
            "bin_start": 1,
            "bin_end": 1738.8,
            "count": 7
           },
           {
            "bin_start": 1738.8,
            "bin_end": 3476.6,
            "count": 0
           },
           {
            "bin_start": 3476.6,
            "bin_end": 5214.4,
            "count": 0
           },
           {
            "bin_start": 5214.4,
            "bin_end": 6952.2,
            "count": 0
           },
           {
            "bin_start": 6952.2,
            "bin_end": 8690,
            "count": 0
           },
           {
            "bin_start": 8690,
            "bin_end": 10427.8,
            "count": 0
           },
           {
            "bin_start": 10427.8,
            "bin_end": 12165.6,
            "count": 0
           },
           {
            "bin_start": 12165.6,
            "bin_end": 13903.4,
            "count": 0
           },
           {
            "bin_start": 13903.4,
            "bin_end": 15641.199999999999,
            "count": 0
           },
           {
            "bin_start": 15641.199999999999,
            "bin_end": 17379,
            "count": 1
           }
          ]
         }
        },
        {
         "name": "_deepnote_index_column",
         "dtype": "object"
        }
       ],
       "rows_top": [
        {
         "season": 17379,
         "yr": 17379,
         "mnth": 17379,
         "hr": 17379,
         "holiday": 17379,
         "weekday": 17379,
         "workingday": 17379,
         "weathersit": 17379,
         "temp": 17379,
         "atemp": 17379,
         "hum": 17379,
         "windspeed": 17379,
         "cnt": 17379,
         "_deepnote_index_column": "count"
        },
        {
         "season": 2.5016399102364923,
         "yr": 0.5025605615973301,
         "mnth": 6.537775476149376,
         "hr": 11.546751826917545,
         "holiday": 0.028770355026181024,
         "weekday": 3.003682605443351,
         "workingday": 0.6827205247712756,
         "weathersit": 1.425283387997008,
         "temp": 0.4969871684216583,
         "atemp": 0.4757751021347604,
         "hum": 0.6272288394038783,
         "windspeed": 0.1900976063064618,
         "cnt": 189.46308763450142,
         "_deepnote_index_column": "mean"
        },
        {
         "season": 1.1069181394480763,
         "yr": 0.5000078290910197,
         "mnth": 3.4387757137501653,
         "hr": 6.9144050952644935,
         "holiday": 0.16716527638437123,
         "weekday": 2.005771456110988,
         "workingday": 0.46543063352388286,
         "weathersit": 0.6393568777542534,
         "temp": 0.1925561212497219,
         "atemp": 0.17185021563535943,
         "hum": 0.19292983406291508,
         "windspeed": 0.12234022857279049,
         "cnt": 181.38759909186473,
         "_deepnote_index_column": "std"
        },
        {
         "season": 1,
         "yr": 0,
         "mnth": 1,
         "hr": 0,
         "holiday": 0,
         "weekday": 0,
         "workingday": 0,
         "weathersit": 1,
         "temp": 0.02,
         "atemp": 0,
         "hum": 0,
         "windspeed": 0,
         "cnt": 1,
         "_deepnote_index_column": "min"
        },
        {
         "season": 2,
         "yr": 0,
         "mnth": 4,
         "hr": 6,
         "holiday": 0,
         "weekday": 1,
         "workingday": 0,
         "weathersit": 1,
         "temp": 0.34,
         "atemp": 0.3333,
         "hum": 0.48,
         "windspeed": 0.1045,
         "cnt": 40,
         "_deepnote_index_column": "25%"
        },
        {
         "season": 3,
         "yr": 1,
         "mnth": 7,
         "hr": 12,
         "holiday": 0,
         "weekday": 3,
         "workingday": 1,
         "weathersit": 1,
         "temp": 0.5,
         "atemp": 0.4848,
         "hum": 0.63,
         "windspeed": 0.194,
         "cnt": 142,
         "_deepnote_index_column": "50%"
        },
        {
         "season": 3,
         "yr": 1,
         "mnth": 10,
         "hr": 18,
         "holiday": 0,
         "weekday": 5,
         "workingday": 1,
         "weathersit": 2,
         "temp": 0.66,
         "atemp": 0.6212,
         "hum": 0.78,
         "windspeed": 0.2537,
         "cnt": 281,
         "_deepnote_index_column": "75%"
        },
        {
         "season": 4,
         "yr": 1,
         "mnth": 12,
         "hr": 23,
         "holiday": 1,
         "weekday": 6,
         "workingday": 1,
         "weathersit": 4,
         "temp": 1,
         "atemp": 1,
         "hum": 1,
         "windspeed": 0.8507,
         "cnt": 977,
         "_deepnote_index_column": "max"
        }
       ],
       "rows_bottom": null
      },
      "text/plain": "             season            yr          mnth            hr       holiday  \\\ncount  17379.000000  17379.000000  17379.000000  17379.000000  17379.000000   \nmean       2.501640      0.502561      6.537775     11.546752      0.028770   \nstd        1.106918      0.500008      3.438776      6.914405      0.167165   \nmin        1.000000      0.000000      1.000000      0.000000      0.000000   \n25%        2.000000      0.000000      4.000000      6.000000      0.000000   \n50%        3.000000      1.000000      7.000000     12.000000      0.000000   \n75%        3.000000      1.000000     10.000000     18.000000      0.000000   \nmax        4.000000      1.000000     12.000000     23.000000      1.000000   \n\n            weekday    workingday    weathersit          temp         atemp  \\\ncount  17379.000000  17379.000000  17379.000000  17379.000000  17379.000000   \nmean       3.003683      0.682721      1.425283      0.496987      0.475775   \nstd        2.005771      0.465431      0.639357      0.192556      0.171850   \nmin        0.000000      0.000000      1.000000      0.020000      0.000000   \n25%        1.000000      0.000000      1.000000      0.340000      0.333300   \n50%        3.000000      1.000000      1.000000      0.500000      0.484800   \n75%        5.000000      1.000000      2.000000      0.660000      0.621200   \nmax        6.000000      1.000000      4.000000      1.000000      1.000000   \n\n                hum     windspeed           cnt  \ncount  17379.000000  17379.000000  17379.000000  \nmean       0.627229      0.190098    189.463088  \nstd        0.192930      0.122340    181.387599  \nmin        0.000000      0.000000      1.000000  \n25%        0.480000      0.104500     40.000000  \n50%        0.630000      0.194000    142.000000  \n75%        0.780000      0.253700    281.000000  \nmax        1.000000      0.850700    977.000000  ",
      "text/html": "<div>\n<style scoped>\n    .dataframe tbody tr th:only-of-type {\n        vertical-align: middle;\n    }\n\n    .dataframe tbody tr th {\n        vertical-align: top;\n    }\n\n    .dataframe thead th {\n        text-align: right;\n    }\n</style>\n<table border=\"1\" class=\"dataframe\">\n  <thead>\n    <tr style=\"text-align: right;\">\n      <th></th>\n      <th>season</th>\n      <th>yr</th>\n      <th>mnth</th>\n      <th>hr</th>\n      <th>holiday</th>\n      <th>weekday</th>\n      <th>workingday</th>\n      <th>weathersit</th>\n      <th>temp</th>\n      <th>atemp</th>\n      <th>hum</th>\n      <th>windspeed</th>\n      <th>cnt</th>\n    </tr>\n  </thead>\n  <tbody>\n    <tr>\n      <th>count</th>\n      <td>17379.000000</td>\n      <td>17379.000000</td>\n      <td>17379.000000</td>\n      <td>17379.000000</td>\n      <td>17379.000000</td>\n      <td>17379.000000</td>\n      <td>17379.000000</td>\n      <td>17379.000000</td>\n      <td>17379.000000</td>\n      <td>17379.000000</td>\n      <td>17379.000000</td>\n      <td>17379.000000</td>\n      <td>17379.000000</td>\n    </tr>\n    <tr>\n      <th>mean</th>\n      <td>2.501640</td>\n      <td>0.502561</td>\n      <td>6.537775</td>\n      <td>11.546752</td>\n      <td>0.028770</td>\n      <td>3.003683</td>\n      <td>0.682721</td>\n      <td>1.425283</td>\n      <td>0.496987</td>\n      <td>0.475775</td>\n      <td>0.627229</td>\n      <td>0.190098</td>\n      <td>189.463088</td>\n    </tr>\n    <tr>\n      <th>std</th>\n      <td>1.106918</td>\n      <td>0.500008</td>\n      <td>3.438776</td>\n      <td>6.914405</td>\n      <td>0.167165</td>\n      <td>2.005771</td>\n      <td>0.465431</td>\n      <td>0.639357</td>\n      <td>0.192556</td>\n      <td>0.171850</td>\n      <td>0.192930</td>\n      <td>0.122340</td>\n      <td>181.387599</td>\n    </tr>\n    <tr>\n      <th>min</th>\n      <td>1.000000</td>\n      <td>0.000000</td>\n      <td>1.000000</td>\n      <td>0.000000</td>\n      <td>0.000000</td>\n      <td>0.000000</td>\n      <td>0.000000</td>\n      <td>1.000000</td>\n      <td>0.020000</td>\n      <td>0.000000</td>\n      <td>0.000000</td>\n      <td>0.000000</td>\n      <td>1.000000</td>\n    </tr>\n    <tr>\n      <th>25%</th>\n      <td>2.000000</td>\n      <td>0.000000</td>\n      <td>4.000000</td>\n      <td>6.000000</td>\n      <td>0.000000</td>\n      <td>1.000000</td>\n      <td>0.000000</td>\n      <td>1.000000</td>\n      <td>0.340000</td>\n      <td>0.333300</td>\n      <td>0.480000</td>\n      <td>0.104500</td>\n      <td>40.000000</td>\n    </tr>\n    <tr>\n      <th>50%</th>\n      <td>3.000000</td>\n      <td>1.000000</td>\n      <td>7.000000</td>\n      <td>12.000000</td>\n      <td>0.000000</td>\n      <td>3.000000</td>\n      <td>1.000000</td>\n      <td>1.000000</td>\n      <td>0.500000</td>\n      <td>0.484800</td>\n      <td>0.630000</td>\n      <td>0.194000</td>\n      <td>142.000000</td>\n    </tr>\n    <tr>\n      <th>75%</th>\n      <td>3.000000</td>\n      <td>1.000000</td>\n      <td>10.000000</td>\n      <td>18.000000</td>\n      <td>0.000000</td>\n      <td>5.000000</td>\n      <td>1.000000</td>\n      <td>2.000000</td>\n      <td>0.660000</td>\n      <td>0.621200</td>\n      <td>0.780000</td>\n      <td>0.253700</td>\n      <td>281.000000</td>\n    </tr>\n    <tr>\n      <th>max</th>\n      <td>4.000000</td>\n      <td>1.000000</td>\n      <td>12.000000</td>\n      <td>23.000000</td>\n      <td>1.000000</td>\n      <td>6.000000</td>\n      <td>1.000000</td>\n      <td>4.000000</td>\n      <td>1.000000</td>\n      <td>1.000000</td>\n      <td>1.000000</td>\n      <td>0.850700</td>\n      <td>977.000000</td>\n    </tr>\n  </tbody>\n</table>\n</div>"
     },
     "metadata": {}
    }
   ],
   "execution_count": null
  },
  {
   "cell_type": "code",
   "source": "total = df.isnull().sum().sort_values(ascending=False)\ntotal.head(5)",
   "metadata": {
    "tags": [],
    "cell_id": "00004-2a653afa-6c1e-4102-8dc5-e4c2d64d2478",
    "deepnote_to_be_reexecuted": false,
    "source_hash": "3c8349d5",
    "execution_start": 1638544806585,
    "execution_millis": 15,
    "deepnote_output_heights": [
     117.125
    ],
    "deepnote_cell_type": "code"
   },
   "outputs": [
    {
     "output_type": "execute_result",
     "execution_count": 8,
     "data": {
      "text/plain": "season     0\nyr         0\nmnth       0\nhr         0\nholiday    0\ndtype: int64"
     },
     "metadata": {}
    }
   ],
   "execution_count": null
  },
  {
   "cell_type": "code",
   "source": "corrmat = df.corr()\nf, ax = plt.subplots(figsize=(8, 4), dpi=110)\nsns.heatmap(corrmat, vmax=.8, square=True)\nax.set_title('Pearson correlations among all features')",
   "metadata": {
    "tags": [],
    "cell_id": "00006-84b91b5c-eca5-484a-87aa-5b4e94787297",
    "deepnote_to_be_reexecuted": false,
    "source_hash": "8f8436ee",
    "execution_start": 1638544808304,
    "execution_millis": 597,
    "deepnote_output_heights": [
     21.1875,
     478
    ],
    "deepnote_cell_type": "code"
   },
   "outputs": [
    {
     "output_type": "execute_result",
     "execution_count": 9,
     "data": {
      "text/plain": "Text(0.5, 1.0, 'Pearson correlations among all features')"
     },
     "metadata": {}
    },
    {
     "data": {
      "text/plain": "<Figure size 880x440 with 2 Axes>",
      "image/png": "[encoded data removed]"
     },
     "metadata": {
      "needs_background": "light",
      "image/png": {
       "width": 552,
       "height": 476
      }
     },
     "output_type": "display_data"
    }
   ],
   "execution_count": null
  },
  {
   "cell_type": "code",
   "source": "",
   "metadata": {
    "tags": [],
    "cell_id": "00007-fb7d9414-088e-42a9-a44d-99e1abfa5d8b",
    "deepnote_to_be_reexecuted": false,
    "source_hash": "b623e53d",
    "execution_start": 1638544778174,
    "execution_millis": 0,
    "deepnote_cell_type": "code"
   },
   "outputs": [],
   "execution_count": null
  },
  {
   "cell_type": "markdown",
   "source": "<a style='text-decoration:none;line-height:16px;display:flex;color:#5B5B62;padding:10px;justify-content:end;' href='https://deepnote.com?utm_source=created-in-deepnote-cell&projectId=5161fece-8ef6-4825-9ea6-16ebba884483' target=\"_blank\">\n<img alt='Created in deepnote.com' style='display:inline;max-height:16px;margin:0px;margin-right:7.5px;' src='data:image/svg+xml;base64,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' > </img>\nCreated in <span style='font-weight:600;margin-left:4px;'>Deepnote</span></a>",
   "metadata": {
    "tags": [],
    "created_in_deepnote_cell": true,
    "deepnote_cell_type": "markdown"
   }
  }
 ],
 "nbformat": 4,
 "nbformat_minor": 2,
 "metadata": {
  "orig_nbformat": 2,
  "deepnote": {
   "is_reactive": false
  },
  "deepnote_notebook_id": "74e381b5-88e0-4dff-a9d5-0dd6bdd4ca34",
  "deepnote_execution_queue": []
 }
}