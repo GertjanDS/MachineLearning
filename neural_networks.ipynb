{
 "cells": [
  {
   "cell_type": "code",
   "metadata": {
    "tags": [],
    "cell_id": "00001-6f033796-89dc-4237-9e49-9b8e91017dcb",
    "deepnote_to_be_reexecuted": false,
    "source_hash": "41547d4b",
    "execution_start": 1638884389056,
    "execution_millis": 3836,
    "deepnote_cell_type": "code"
   },
   "source": "from sklearn import datasets\nimport pandas as pd\nimport matplotlib.pyplot as plt\nimport seaborn as sns\nfrom sklearn.preprocessing import StandardScaler\n\n\ndf = pd.read_csv('loan_data_set.csv')\ndf = df.dropna(axis=0)\ndf = df.drop(\"Loan_ID\", axis=1)\n\nd1 = {\"Y\": 1, \"N\": 0}\nd2 = {\"Yes\": 1, \"No\": 0}\nd3 = {\"Male\": 1, \"Female\": 0}\nd4 = {\"0\": 0, \"1\": 1, \"2\": 2, \"3+\": 3}\nd5 = {\"Graduate\": 1, \"Not Graduate\": 0}\nd6 = {\"Rural\": 0, \"Semiurban\": 0.5, \"Urban\": 1}\n\ncleanup_nums = {\"Loan_Status\": d1, \"Married\": d2, \"Self_Employed\": d2, \"Gender\": d3,\n\"Dependents\": d4, \"Education\": d5, \"Property_Area\": d6}\n\ndf.replace(cleanup_nums, inplace=True)\n\n\nfor i in df.columns[1:]:\n    df[i] = (df[i] - df[i].min()) / (df[i].max() - df[i].min())\n\ndf",
   "outputs": [
    {
     "output_type": "execute_result",
     "execution_count": 1,
     "data": {
      "application/vnd.deepnote.dataframe.v2+json": {
       "row_count": 480,
       "column_count": 12,
       "columns": [
        {
         "name": "Gender",
         "dtype": "int64",
         "stats": {
          "unique_count": 2,
          "nan_count": 0,
          "min": "0",
          "max": "1",
          "histogram": [
           {
            "bin_start": 0,
            "bin_end": 0.1,
            "count": 86
           },
           {
            "bin_start": 0.1,
            "bin_end": 0.2,
            "count": 0
           },
           {
            "bin_start": 0.2,
            "bin_end": 0.30000000000000004,
            "count": 0
           },
           {
            "bin_start": 0.30000000000000004,
            "bin_end": 0.4,
            "count": 0
           },
           {
            "bin_start": 0.4,
            "bin_end": 0.5,
            "count": 0
           },
           {
            "bin_start": 0.5,
            "bin_end": 0.6000000000000001,
            "count": 0
           },
           {
            "bin_start": 0.6000000000000001,
            "bin_end": 0.7000000000000001,
            "count": 0
           },
           {
            "bin_start": 0.7000000000000001,
            "bin_end": 0.8,
            "count": 0
           },
           {
            "bin_start": 0.8,
            "bin_end": 0.9,
            "count": 0
           },
           {
            "bin_start": 0.9,
            "bin_end": 1,
            "count": 394
           }
          ]
         }
        },
        {
         "name": "Married",
         "dtype": "float64",
         "stats": {
          "unique_count": 2,
          "nan_count": 0,
          "min": "0.0",
          "max": "1.0",
          "histogram": [
           {
            "bin_start": 0,
            "bin_end": 0.1,
            "count": 169
           },
           {
            "bin_start": 0.1,
            "bin_end": 0.2,
            "count": 0
           },
           {
            "bin_start": 0.2,
            "bin_end": 0.30000000000000004,
            "count": 0
           },
           {
            "bin_start": 0.30000000000000004,
            "bin_end": 0.4,
            "count": 0
           },
           {
            "bin_start": 0.4,
            "bin_end": 0.5,
            "count": 0
           },
           {
            "bin_start": 0.5,
            "bin_end": 0.6000000000000001,
            "count": 0
           },
           {
            "bin_start": 0.6000000000000001,
            "bin_end": 0.7000000000000001,
            "count": 0
           },
           {
            "bin_start": 0.7000000000000001,
            "bin_end": 0.8,
            "count": 0
           },
           {
            "bin_start": 0.8,
            "bin_end": 0.9,
            "count": 0
           },
           {
            "bin_start": 0.9,
            "bin_end": 1,
            "count": 311
           }
          ]
         }
        },
        {
         "name": "Dependents",
         "dtype": "float64",
         "stats": {
          "unique_count": 4,
          "nan_count": 0,
          "min": "0.0",
          "max": "1.0",
          "histogram": [
           {
            "bin_start": 0,
            "bin_end": 0.1,
            "count": 274
           },
           {
            "bin_start": 0.1,
            "bin_end": 0.2,
            "count": 0
           },
           {
            "bin_start": 0.2,
            "bin_end": 0.30000000000000004,
            "count": 0
           },
           {
            "bin_start": 0.30000000000000004,
            "bin_end": 0.4,
            "count": 80
           },
           {
            "bin_start": 0.4,
            "bin_end": 0.5,
            "count": 0
           },
           {
            "bin_start": 0.5,
            "bin_end": 0.6000000000000001,
            "count": 0
           },
           {
            "bin_start": 0.6000000000000001,
            "bin_end": 0.7000000000000001,
            "count": 85
           },
           {
            "bin_start": 0.7000000000000001,
            "bin_end": 0.8,
            "count": 0
           },
           {
            "bin_start": 0.8,
            "bin_end": 0.9,
            "count": 0
           },
           {
            "bin_start": 0.9,
            "bin_end": 1,
            "count": 41
           }
          ]
         }
        },
        {
         "name": "Education",
         "dtype": "float64",
         "stats": {
          "unique_count": 2,
          "nan_count": 0,
          "min": "0.0",
          "max": "1.0",
          "histogram": [
           {
            "bin_start": 0,
            "bin_end": 0.1,
            "count": 97
           },
           {
            "bin_start": 0.1,
            "bin_end": 0.2,
            "count": 0
           },
           {
            "bin_start": 0.2,
            "bin_end": 0.30000000000000004,
            "count": 0
           },
           {
            "bin_start": 0.30000000000000004,
            "bin_end": 0.4,
            "count": 0
           },
           {
            "bin_start": 0.4,
            "bin_end": 0.5,
            "count": 0
           },
           {
            "bin_start": 0.5,
            "bin_end": 0.6000000000000001,
            "count": 0
           },
           {
            "bin_start": 0.6000000000000001,
            "bin_end": 0.7000000000000001,
            "count": 0
           },
           {
            "bin_start": 0.7000000000000001,
            "bin_end": 0.8,
            "count": 0
           },
           {
            "bin_start": 0.8,
            "bin_end": 0.9,
            "count": 0
           },
           {
            "bin_start": 0.9,
            "bin_end": 1,
            "count": 383
           }
          ]
         }
        },
        {
         "name": "Self_Employed",
         "dtype": "float64",
         "stats": {
          "unique_count": 2,
          "nan_count": 0,
          "min": "0.0",
          "max": "1.0",
          "histogram": [
           {
            "bin_start": 0,
            "bin_end": 0.1,
            "count": 414
           },
           {
            "bin_start": 0.1,
            "bin_end": 0.2,
            "count": 0
           },
           {
            "bin_start": 0.2,
            "bin_end": 0.30000000000000004,
            "count": 0
           },
           {
            "bin_start": 0.30000000000000004,
            "bin_end": 0.4,
            "count": 0
           },
           {
            "bin_start": 0.4,
            "bin_end": 0.5,
            "count": 0
           },
           {
            "bin_start": 0.5,
            "bin_end": 0.6000000000000001,
            "count": 0
           },
           {
            "bin_start": 0.6000000000000001,
            "bin_end": 0.7000000000000001,
            "count": 0
           },
           {
            "bin_start": 0.7000000000000001,
            "bin_end": 0.8,
            "count": 0
           },
           {
            "bin_start": 0.8,
            "bin_end": 0.9,
            "count": 0
           },
           {
            "bin_start": 0.9,
            "bin_end": 1,
            "count": 66
           }
          ]
         }
        },
        {
         "name": "ApplicantIncome",
         "dtype": "float64",
         "stats": {
          "unique_count": 405,
          "nan_count": 0,
          "min": "0.0",
          "max": "1.0",
          "histogram": [
           {
            "bin_start": 0,
            "bin_end": 0.1,
            "count": 412
           },
           {
            "bin_start": 0.1,
            "bin_end": 0.2,
            "count": 53
           },
           {
            "bin_start": 0.2,
            "bin_end": 0.30000000000000004,
            "count": 10
           },
           {
            "bin_start": 0.30000000000000004,
            "bin_end": 0.4,
            "count": 0
           },
           {
            "bin_start": 0.4,
            "bin_end": 0.5,
            "count": 4
           },
           {
            "bin_start": 0.5,
            "bin_end": 0.6000000000000001,
            "count": 0
           },
           {
            "bin_start": 0.6000000000000001,
            "bin_end": 0.7000000000000001,
            "count": 0
           },
           {
            "bin_start": 0.7000000000000001,
            "bin_end": 0.8,
            "count": 0
           },
           {
            "bin_start": 0.8,
            "bin_end": 0.9,
            "count": 0
           },
           {
            "bin_start": 0.9,
            "bin_end": 1,
            "count": 1
           }
          ]
         }
        },
        {
         "name": "CoapplicantIncome",
         "dtype": "float64",
         "stats": {
          "unique_count": 232,
          "nan_count": 0,
          "min": "0.0",
          "max": "1.0",
          "histogram": [
           {
            "bin_start": 0,
            "bin_end": 0.1,
            "count": 418
           },
           {
            "bin_start": 0.1,
            "bin_end": 0.2,
            "count": 49
           },
           {
            "bin_start": 0.2,
            "bin_end": 0.30000000000000004,
            "count": 8
           },
           {
            "bin_start": 0.30000000000000004,
            "bin_end": 0.4,
            "count": 2
           },
           {
            "bin_start": 0.4,
            "bin_end": 0.5,
            "count": 0
           },
           {
            "bin_start": 0.5,
            "bin_end": 0.6000000000000001,
            "count": 2
           },
           {
            "bin_start": 0.6000000000000001,
            "bin_end": 0.7000000000000001,
            "count": 0
           },
           {
            "bin_start": 0.7000000000000001,
            "bin_end": 0.8,
            "count": 0
           },
           {
            "bin_start": 0.8,
            "bin_end": 0.9,
            "count": 0
           },
           {
            "bin_start": 0.9,
            "bin_end": 1,
            "count": 1
           }
          ]
         }
        },
        {
         "name": "LoanAmount",
         "dtype": "float64",
         "stats": {
          "unique_count": 186,
          "nan_count": 0,
          "min": "0.0",
          "max": "1.0",
          "histogram": [
           {
            "bin_start": 0,
            "bin_end": 0.1,
            "count": 42
           },
           {
            "bin_start": 0.1,
            "bin_end": 0.2,
            "count": 194
           },
           {
            "bin_start": 0.2,
            "bin_end": 0.30000000000000004,
            "count": 153
           },
           {
            "bin_start": 0.30000000000000004,
            "bin_end": 0.4,
            "count": 49
           },
           {
            "bin_start": 0.4,
            "bin_end": 0.5,
            "count": 22
           },
           {
            "bin_start": 0.5,
            "bin_end": 0.6000000000000001,
            "count": 8
           },
           {
            "bin_start": 0.6000000000000001,
            "bin_end": 0.7000000000000001,
            "count": 3
           },
           {
            "bin_start": 0.7000000000000001,
            "bin_end": 0.8,
            "count": 3
           },
           {
            "bin_start": 0.8,
            "bin_end": 0.9,
            "count": 3
           },
           {
            "bin_start": 0.9,
            "bin_end": 1,
            "count": 3
           }
          ]
         }
        },
        {
         "name": "Loan_Amount_Term",
         "dtype": "float64",
         "stats": {
          "unique_count": 9,
          "nan_count": 0,
          "min": "0.0",
          "max": "1.0",
          "histogram": [
           {
            "bin_start": 0,
            "bin_end": 0.1,
            "count": 4
           },
           {
            "bin_start": 0.1,
            "bin_end": 0.2,
            "count": 6
           },
           {
            "bin_start": 0.2,
            "bin_end": 0.30000000000000004,
            "count": 0
           },
           {
            "bin_start": 0.30000000000000004,
            "bin_end": 0.4,
            "count": 36
           },
           {
            "bin_start": 0.4,
            "bin_end": 0.5,
            "count": 2
           },
           {
            "bin_start": 0.5,
            "bin_end": 0.6000000000000001,
            "count": 9
           },
           {
            "bin_start": 0.6000000000000001,
            "bin_end": 0.7000000000000001,
            "count": 0
           },
           {
            "bin_start": 0.7000000000000001,
            "bin_end": 0.8,
            "count": 411
           },
           {
            "bin_start": 0.8,
            "bin_end": 0.9,
            "count": 0
           },
           {
            "bin_start": 0.9,
            "bin_end": 1,
            "count": 12
           }
          ]
         }
        },
        {
         "name": "Credit_History",
         "dtype": "float64",
         "stats": {
          "unique_count": 2,
          "nan_count": 0,
          "min": "0.0",
          "max": "1.0",
          "histogram": [
           {
            "bin_start": 0,
            "bin_end": 0.1,
            "count": 70
           },
           {
            "bin_start": 0.1,
            "bin_end": 0.2,
            "count": 0
           },
           {
            "bin_start": 0.2,
            "bin_end": 0.30000000000000004,
            "count": 0
           },
           {
            "bin_start": 0.30000000000000004,
            "bin_end": 0.4,
            "count": 0
           },
           {
            "bin_start": 0.4,
            "bin_end": 0.5,
            "count": 0
           },
           {
            "bin_start": 0.5,
            "bin_end": 0.6000000000000001,
            "count": 0
           },
           {
            "bin_start": 0.6000000000000001,
            "bin_end": 0.7000000000000001,
            "count": 0
           },
           {
            "bin_start": 0.7000000000000001,
            "bin_end": 0.8,
            "count": 0
           },
           {
            "bin_start": 0.8,
            "bin_end": 0.9,
            "count": 0
           },
           {
            "bin_start": 0.9,
            "bin_end": 1,
            "count": 410
           }
          ]
         }
        },
        {
         "name": "Property_Area",
         "dtype": "float64",
         "stats": {
          "unique_count": 3,
          "nan_count": 0,
          "min": "0.0",
          "max": "1.0",
          "histogram": [
           {
            "bin_start": 0,
            "bin_end": 0.1,
            "count": 139
           },
           {
            "bin_start": 0.1,
            "bin_end": 0.2,
            "count": 0
           },
           {
            "bin_start": 0.2,
            "bin_end": 0.30000000000000004,
            "count": 0
           },
           {
            "bin_start": 0.30000000000000004,
            "bin_end": 0.4,
            "count": 0
           },
           {
            "bin_start": 0.4,
            "bin_end": 0.5,
            "count": 0
           },
           {
            "bin_start": 0.5,
            "bin_end": 0.6000000000000001,
            "count": 191
           },
           {
            "bin_start": 0.6000000000000001,
            "bin_end": 0.7000000000000001,
            "count": 0
           },
           {
            "bin_start": 0.7000000000000001,
            "bin_end": 0.8,
            "count": 0
           },
           {
            "bin_start": 0.8,
            "bin_end": 0.9,
            "count": 0
           },
           {
            "bin_start": 0.9,
            "bin_end": 1,
            "count": 150
           }
          ]
         }
        },
        {
         "name": "Loan_Status",
         "dtype": "float64",
         "stats": {
          "unique_count": 2,
          "nan_count": 0,
          "min": "0.0",
          "max": "1.0",
          "histogram": [
           {
            "bin_start": 0,
            "bin_end": 0.1,
            "count": 148
           },
           {
            "bin_start": 0.1,
            "bin_end": 0.2,
            "count": 0
           },
           {
            "bin_start": 0.2,
            "bin_end": 0.30000000000000004,
            "count": 0
           },
           {
            "bin_start": 0.30000000000000004,
            "bin_end": 0.4,
            "count": 0
           },
           {
            "bin_start": 0.4,
            "bin_end": 0.5,
            "count": 0
           },
           {
            "bin_start": 0.5,
            "bin_end": 0.6000000000000001,
            "count": 0
           },
           {
            "bin_start": 0.6000000000000001,
            "bin_end": 0.7000000000000001,
            "count": 0
           },
           {
            "bin_start": 0.7000000000000001,
            "bin_end": 0.8,
            "count": 0
           },
           {
            "bin_start": 0.8,
            "bin_end": 0.9,
            "count": 0
           },
           {
            "bin_start": 0.9,
            "bin_end": 1,
            "count": 332
           }
          ]
         }
        },
        {
         "name": "_deepnote_index_column",
         "dtype": "int64"
        }
       ],
       "rows_top": [
        {
         "Gender": 1,
         "Married": 1,
         "Dependents": 0.3333333333333333,
         "Education": 1,
         "Self_Employed": 0,
         "ApplicantIncome": 0.05482993197278912,
         "CoapplicantIncome": 0.04456659869373762,
         "LoanAmount": 0.20135363790186125,
         "Loan_Amount_Term": 0.7297297297297297,
         "Credit_History": 1,
         "Property_Area": 0,
         "Loan_Status": 0,
         "_deepnote_index_column": 1
        },
        {
         "Gender": 1,
         "Married": 1,
         "Dependents": 0,
         "Education": 1,
         "Self_Employed": 1,
         "ApplicantIncome": 0.03525046382189239,
         "CoapplicantIncome": 0,
         "LoanAmount": 0.09644670050761421,
         "Loan_Amount_Term": 0.7297297297297297,
         "Credit_History": 1,
         "Property_Area": 1,
         "Loan_Status": 1,
         "_deepnote_index_column": 2
        },
        {
         "Gender": 1,
         "Married": 1,
         "Dependents": 0,
         "Education": 0,
         "Self_Employed": 0,
         "ApplicantIncome": 0.030092764378478663,
         "CoapplicantIncome": 0.06968702899193191,
         "LoanAmount": 0.18781725888324874,
         "Loan_Amount_Term": 0.7297297297297297,
         "Credit_History": 1,
         "Property_Area": 1,
         "Loan_Status": 1,
         "_deepnote_index_column": 3
        },
        {
         "Gender": 1,
         "Married": 0,
         "Dependents": 0,
         "Education": 1,
         "Self_Employed": 0,
         "ApplicantIncome": 0.07235621521335807,
         "CoapplicantIncome": 0,
         "LoanAmount": 0.2233502538071066,
         "Loan_Amount_Term": 0.7297297297297297,
         "Credit_History": 1,
         "Property_Area": 1,
         "Loan_Status": 1,
         "_deepnote_index_column": 4
        },
        {
         "Gender": 1,
         "Married": 1,
         "Dependents": 0.6666666666666666,
         "Education": 1,
         "Self_Employed": 1,
         "ApplicantIncome": 0.06514533085961657,
         "CoapplicantIncome": 0.12400626533085084,
         "LoanAmount": 0.4365482233502538,
         "Loan_Amount_Term": 0.7297297297297297,
         "Credit_History": 1,
         "Property_Area": 1,
         "Loan_Status": 1,
         "_deepnote_index_column": 5
        },
        {
         "Gender": 1,
         "Married": 1,
         "Dependents": 0,
         "Education": 0,
         "Self_Employed": 0,
         "ApplicantIncome": 0.027000618429189858,
         "CoapplicantIncome": 0.044803026273014745,
         "LoanAmount": 0.1455160744500846,
         "Loan_Amount_Term": 0.7297297297297297,
         "Credit_History": 1,
         "Property_Area": 1,
         "Loan_Status": 1,
         "_deepnote_index_column": 6
        },
        {
         "Gender": 1,
         "Married": 1,
         "Dependents": 1,
         "Education": 1,
         "Self_Employed": 0,
         "ApplicantIncome": 0.03569573283858998,
         "CoapplicantIncome": 0.0740018323137394,
         "LoanAmount": 0.2521150592216582,
         "Loan_Amount_Term": 0.7297297297297297,
         "Credit_History": 0,
         "Property_Area": 0.5,
         "Loan_Status": 0,
         "_deepnote_index_column": 7
        },
        {
         "Gender": 1,
         "Married": 1,
         "Dependents": 0.6666666666666666,
         "Education": 1,
         "Self_Employed": 0,
         "ApplicantIncome": 0.04769325912183055,
         "CoapplicantIncome": 0.045098560747111154,
         "LoanAmount": 0.26903553299492383,
         "Loan_Amount_Term": 0.7297297297297297,
         "Credit_History": 1,
         "Property_Area": 1,
         "Loan_Status": 1,
         "_deepnote_index_column": 8
        },
        {
         "Gender": 1,
         "Married": 1,
         "Dependents": 0.3333333333333333,
         "Education": 1,
         "Self_Employed": 0,
         "ApplicantIncome": 0.15696969696969698,
         "CoapplicantIncome": 0.3241422111889352,
         "LoanAmount": 0.5752961082910322,
         "Loan_Amount_Term": 0.7297297297297297,
         "Credit_History": 1,
         "Property_Area": 0.5,
         "Loan_Status": 0,
         "_deepnote_index_column": 9
        },
        {
         "Gender": 1,
         "Married": 1,
         "Dependents": 0.6666666666666666,
         "Education": 1,
         "Self_Employed": 0,
         "ApplicantIncome": 0.03772418058132344,
         "CoapplicantIncome": 0.020687413186748233,
         "LoanAmount": 0.10321489001692047,
         "Loan_Amount_Term": 0.7297297297297297,
         "Credit_History": 1,
         "Property_Area": 1,
         "Loan_Status": 1,
         "_deepnote_index_column": 10
        },
        {
         "Gender": 1,
         "Married": 1,
         "Dependents": 0.6666666666666666,
         "Education": 1,
         "Self_Employed": 0,
         "ApplicantIncome": 0.036153370439084724,
         "CoapplicantIncome": 0.23956024470254456,
         "LoanAmount": 0.32318104906937395,
         "Loan_Amount_Term": 0.7297297297297297,
         "Credit_History": 1,
         "Property_Area": 1,
         "Loan_Status": 1,
         "_deepnote_index_column": 12
        },
        {
         "Gender": 1,
         "Married": 0,
         "Dependents": 0,
         "Education": 1,
         "Self_Employed": 0,
         "ApplicantIncome": 0.021063698206555348,
         "CoapplicantIncome": 0.08393179064337855,
         "LoanAmount": 0.17766497461928935,
         "Loan_Amount_Term": 0.7297297297297297,
         "Credit_History": 1,
         "Property_Area": 0,
         "Loan_Status": 0,
         "_deepnote_index_column": 13
        },
        {
         "Gender": 1,
         "Married": 1,
         "Dependents": 0.6666666666666666,
         "Education": 1,
         "Self_Employed": 0,
         "ApplicantIncome": 0.014211502782931354,
         "CoapplicantIncome": 0.0320950438868694,
         "LoanAmount": 0.01353637901861252,
         "Loan_Amount_Term": 0.1891891891891892,
         "Credit_History": 1,
         "Property_Area": 1,
         "Loan_Status": 1,
         "_deepnote_index_column": 14
        },
        {
         "Gender": 1,
         "Married": 0,
         "Dependents": 0,
         "Education": 1,
         "Self_Employed": 0,
         "ApplicantIncome": 0.059369202226345084,
         "CoapplicantIncome": 0,
         "LoanAmount": 0.19627749576988154,
         "Loan_Amount_Term": 0.7297297297297297,
         "Credit_History": 1,
         "Property_Area": 1,
         "Loan_Status": 1,
         "_deepnote_index_column": 15
        },
        {
         "Gender": 0,
         "Married": 0,
         "Dependents": 0,
         "Education": 1,
         "Self_Employed": 0,
         "ApplicantIncome": 0.04155844155844156,
         "CoapplicantIncome": 0,
         "LoanAmount": 0.11336717428087986,
         "Loan_Amount_Term": 0.7297297297297297,
         "Credit_History": 0,
         "Property_Area": 1,
         "Loan_Status": 0,
         "_deepnote_index_column": 17
        },
        {
         "Gender": 1,
         "Married": 1,
         "Dependents": 0,
         "Education": 0,
         "Self_Employed": 0,
         "ApplicantIncome": 0.0585899814471243,
         "CoapplicantIncome": 0,
         "LoanAmount": 0.2098138747884941,
         "Loan_Amount_Term": 0.7297297297297297,
         "Credit_History": 1,
         "Property_Area": 0,
         "Loan_Status": 0,
         "_deepnote_index_column": 18
        },
        {
         "Gender": 1,
         "Married": 1,
         "Dependents": 0,
         "Education": 0,
         "Self_Employed": 0,
         "ApplicantIncome": 0.09288806431663575,
         "CoapplicantIncome": 0,
         "LoanAmount": 0.16074450084602368,
         "Loan_Amount_Term": 0.7297297297297297,
         "Credit_History": 0,
         "Property_Area": 1,
         "Loan_Status": 0,
         "_deepnote_index_column": 20
        },
        {
         "Gender": 1,
         "Married": 1,
         "Dependents": 0.3333333333333333,
         "Education": 1,
         "Self_Employed": 0,
         "ApplicantIncome": 0.07179962894248608,
         "CoapplicantIncome": 0.16623814167922688,
         "LoanAmount": 0.5177664974619289,
         "Loan_Amount_Term": 0.7297297297297297,
         "Credit_History": 1,
         "Property_Area": 1,
         "Loan_Status": 1,
         "_deepnote_index_column": 21
        },
        {
         "Gender": 1,
         "Married": 1,
         "Dependents": 0,
         "Education": 0,
         "Self_Employed": 0,
         "ApplicantIncome": 0.030303030303030304,
         "CoapplicantIncome": 0.05647663799982268,
         "LoanAmount": 0.18104906937394247,
         "Loan_Amount_Term": 0.7297297297297297,
         "Credit_History": 0,
         "Property_Area": 0.5,
         "Loan_Status": 0,
         "_deepnote_index_column": 22
        },
        {
         "Gender": 1,
         "Married": 1,
         "Dependents": 0,
         "Education": 1,
         "Self_Employed": 1,
         "ApplicantIncome": 0.11638837353123067,
         "CoapplicantIncome": 0,
         "LoanAmount": 0.3079526226734349,
         "Loan_Amount_Term": 0.7297297297297297,
         "Credit_History": 1,
         "Property_Area": 0.5,
         "Loan_Status": 1,
         "_deepnote_index_column": 25
        },
        {
         "Gender": 1,
         "Married": 1,
         "Dependents": 0,
         "Education": 1,
         "Self_Employed": 0,
         "ApplicantIncome": 0.032764378478664195,
         "CoapplicantIncome": 0.06658391701391968,
         "LoanAmount": 0.19120135363790186,
         "Loan_Amount_Term": 0.7297297297297297,
         "Credit_History": 1,
         "Property_Area": 0.5,
         "Loan_Status": 1,
         "_deepnote_index_column": 26
        },
        {
         "Gender": 1,
         "Married": 1,
         "Dependents": 0.6666666666666666,
         "Education": 0,
         "Self_Employed": 0,
         "ApplicantIncome": 0.0504143475572047,
         "CoapplicantIncome": 0.030735585306025947,
         "LoanAmount": 0.17089678510998307,
         "Loan_Amount_Term": 0.7297297297297297,
         "Credit_History": 1,
         "Property_Area": 1,
         "Loan_Status": 1,
         "_deepnote_index_column": 27
        },
        {
         "Gender": 1,
         "Married": 0,
         "Dependents": 0,
         "Education": 0,
         "Self_Employed": 0,
         "ApplicantIncome": 0.01598021026592455,
         "CoapplicantIncome": 0,
         "LoanAmount": 0.043993231810490696,
         "Loan_Amount_Term": 0.7297297297297297,
         "Credit_History": 1,
         "Property_Area": 1,
         "Loan_Status": 0,
         "_deepnote_index_column": 28
        },
        {
         "Gender": 1,
         "Married": 0,
         "Dependents": 0,
         "Education": 1,
         "Self_Employed": 0,
         "ApplicantIncome": 0.037316017316017316,
         "CoapplicantIncome": 0,
         "LoanAmount": 0.10998307952622674,
         "Loan_Amount_Term": 0.7297297297297297,
         "Credit_History": 1,
         "Property_Area": 1,
         "Loan_Status": 0,
         "_deepnote_index_column": 31
        },
        {
         "Gender": 1,
         "Married": 0,
         "Dependents": 0.3333333333333333,
         "Education": 1,
         "Self_Employed": 1,
         "ApplicantIncome": 0.05617810760667904,
         "CoapplicantIncome": 0,
         "LoanAmount": 0.16412859560067683,
         "Loan_Amount_Term": 0.7297297297297297,
         "Credit_History": 1,
         "Property_Area": 0,
         "Loan_Status": 0,
         "_deepnote_index_column": 32
        },
        {
         "Gender": 1,
         "Married": 1,
         "Dependents": 0,
         "Education": 1,
         "Self_Employed": 0,
         "ApplicantIncome": 0.04143475572047001,
         "CoapplicantIncome": 0.049265596831870435,
         "LoanAmount": 0.17766497461928935,
         "Loan_Amount_Term": 0.7297297297297297,
         "Credit_History": 1,
         "Property_Area": 0.5,
         "Loan_Status": 1,
         "_deepnote_index_column": 33
        },
        {
         "Gender": 1,
         "Married": 0,
         "Dependents": 1,
         "Education": 1,
         "Self_Employed": 0,
         "ApplicantIncome": 0.15275200989486704,
         "CoapplicantIncome": 0.08866034222892101,
         "LoanAmount": 0.5262267343485617,
         "Loan_Amount_Term": 0.7297297297297297,
         "Credit_History": 1,
         "Property_Area": 0,
         "Loan_Status": 0,
         "_deepnote_index_column": 34
        },
        {
         "Gender": 0,
         "Married": 1,
         "Dependents": 0,
         "Education": 1,
         "Self_Employed": 0,
         "ApplicantIncome": 0.043500309214594926,
         "CoapplicantIncome": 0.04311847977066525,
         "LoanAmount": 0.22842639593908629,
         "Loan_Amount_Term": 0.7297297297297297,
         "Credit_History": 1,
         "Property_Area": 0.5,
         "Loan_Status": 1,
         "_deepnote_index_column": 37
        },
        {
         "Gender": 1,
         "Married": 0,
         "Dependents": 0,
         "Education": 1,
         "Self_Employed": 0,
         "ApplicantIncome": 0.04967223252937539,
         "CoapplicantIncome": 0.21308035582350682,
         "LoanAmount": 0.2961082910321489,
         "Loan_Amount_Term": 0.7297297297297297,
         "Credit_History": 1,
         "Property_Area": 1,
         "Loan_Status": 1,
         "_deepnote_index_column": 38
        },
        {
         "Gender": 1,
         "Married": 0,
         "Dependents": 0,
         "Education": 0,
         "Self_Employed": 0,
         "ApplicantIncome": 0.0445021645021645,
         "CoapplicantIncome": 0.04929515027928008,
         "LoanAmount": 0.17089678510998307,
         "Loan_Amount_Term": 0.7297297297297297,
         "Credit_History": 1,
         "Property_Area": 0.5,
         "Loan_Status": 1,
         "_deepnote_index_column": 39
        },
        {
         "Gender": 1,
         "Married": 0,
         "Dependents": 0,
         "Education": 1,
         "Self_Employed": 0,
         "ApplicantIncome": 0.04267161410018553,
         "CoapplicantIncome": 0,
         "LoanAmount": 0.12013536379018612,
         "Loan_Amount_Term": 0.7297297297297297,
         "Credit_History": 1,
         "Property_Area": 1,
         "Loan_Status": 0,
         "_deepnote_index_column": 40
        },
        {
         "Gender": 1,
         "Married": 0,
         "Dependents": 0,
         "Education": 1,
         "Self_Employed": 0,
         "ApplicantIncome": 0.02040816326530612,
         "CoapplicantIncome": 0.03584833170789373,
         "LoanAmount": 0.06429780033840947,
         "Loan_Amount_Term": 0.7297297297297297,
         "Credit_History": 1,
         "Property_Area": 1,
         "Loan_Status": 1,
         "_deepnote_index_column": 41
        },
        {
         "Gender": 1,
         "Married": 1,
         "Dependents": 0,
         "Education": 1,
         "Self_Employed": 0,
         "ApplicantIncome": 0.04688930117501546,
         "CoapplicantIncome": 0.06903685314891982,
         "LoanAmount": 0.21150592216582065,
         "Loan_Amount_Term": 0.7297297297297297,
         "Credit_History": 1,
         "Property_Area": 0.5,
         "Loan_Status": 1,
         "_deepnote_index_column": 43
        },
        {
         "Gender": 1,
         "Married": 1,
         "Dependents": 0.3333333333333333,
         "Education": 1,
         "Self_Employed": 0,
         "ApplicantIncome": 0.06801484230055659,
         "CoapplicantIncome": 0,
         "LoanAmount": 0.05922165820642978,
         "Loan_Amount_Term": 0.7297297297297297,
         "Credit_History": 1,
         "Property_Area": 1,
         "Loan_Status": 1,
         "_deepnote_index_column": 46
        },
        {
         "Gender": 1,
         "Married": 1,
         "Dependents": 0,
         "Education": 1,
         "Self_Employed": 0,
         "ApplicantIncome": 0.07014223871366729,
         "CoapplicantIncome": 0,
         "LoanAmount": 0.22842639593908629,
         "Loan_Amount_Term": 0.7297297297297297,
         "Credit_History": 1,
         "Property_Area": 1,
         "Loan_Status": 1,
         "_deepnote_index_column": 47
        },
        {
         "Gender": 0,
         "Married": 1,
         "Dependents": 0,
         "Education": 1,
         "Self_Employed": 0,
         "ApplicantIncome": 0.03085961657390229,
         "CoapplicantIncome": 0.10166385908916276,
         "LoanAmount": 0.18781725888324874,
         "Loan_Amount_Term": 0.7297297297297297,
         "Credit_History": 0,
         "Property_Area": 1,
         "Loan_Status": 0,
         "_deepnote_index_column": 48
        },
        {
         "Gender": 0,
         "Married": 0,
         "Dependents": 0,
         "Education": 1,
         "Self_Employed": 0,
         "ApplicantIncome": 0.047619047619047616,
         "CoapplicantIncome": 0.06723409285693176,
         "LoanAmount": 0.22842639593908629,
         "Loan_Amount_Term": 0.7297297297297297,
         "Credit_History": 1,
         "Property_Area": 0.5,
         "Loan_Status": 1,
         "_deepnote_index_column": 49
        },
        {
         "Gender": 0,
         "Married": 1,
         "Dependents": 0,
         "Education": 0,
         "Self_Employed": 0,
         "ApplicantIncome": 0.021991341991341992,
         "CoapplicantIncome": 0.04858586754144871,
         "LoanAmount": 0.15397631133671744,
         "Loan_Amount_Term": 0.7297297297297297,
         "Credit_History": 1,
         "Property_Area": 0.5,
         "Loan_Status": 1,
         "_deepnote_index_column": 50
        },
        {
         "Gender": 0,
         "Married": 0,
         "Dependents": 0,
         "Education": 1,
         "Self_Employed": 0,
         "ApplicantIncome": 0.03631416202844774,
         "CoapplicantIncome": 0,
         "LoanAmount": 0.18781725888324874,
         "Loan_Amount_Term": 0.7297297297297297,
         "Credit_History": 1,
         "Property_Area": 0.5,
         "Loan_Status": 1,
         "_deepnote_index_column": 51
        },
        {
         "Gender": 0,
         "Married": 0,
         "Dependents": 0,
         "Education": 1,
         "Self_Employed": 0,
         "ApplicantIncome": 0.05046382189239332,
         "CoapplicantIncome": 0,
         "LoanAmount": 0.17428087986463622,
         "Loan_Amount_Term": 0.7297297297297297,
         "Credit_History": 1,
         "Property_Area": 0.5,
         "Loan_Status": 0,
         "_deepnote_index_column": 52
        },
        {
         "Gender": 1,
         "Married": 1,
         "Dependents": 0.6666666666666666,
         "Education": 1,
         "Self_Employed": 0,
         "ApplicantIncome": 0.05523809523809524,
         "CoapplicantIncome": 0,
         "LoanAmount": 0.21150592216582065,
         "Loan_Amount_Term": 0.7297297297297297,
         "Credit_History": 1,
         "Property_Area": 1,
         "Loan_Status": 0,
         "_deepnote_index_column": 53
        }
       ],
       "rows_bottom": [
        {
         "Gender": 0,
         "Married": 1,
         "Dependents": 0.3333333333333333,
         "Education": 1,
         "Self_Employed": 1,
         "ApplicantIncome": 0.23913419913419914,
         "CoapplicantIncome": 0,
         "LoanAmount": 1,
         "Loan_Amount_Term": 0.7297297297297297,
         "Credit_History": 1,
         "Property_Area": 0.5,
         "Loan_Status": 1,
         "_deepnote_index_column": 561
        },
        {
         "Gender": 1,
         "Married": 1,
         "Dependents": 0,
         "Education": 1,
         "Self_Employed": 0,
         "ApplicantIncome": 0.07140383426097711,
         "CoapplicantIncome": 0.060702780979401245,
         "LoanAmount": 0.34179357021996615,
         "Loan_Amount_Term": 0.7297297297297297,
         "Credit_History": 1,
         "Property_Area": 0,
         "Loan_Status": 1,
         "_deepnote_index_column": 562
        },
        {
         "Gender": 1,
         "Married": 0,
         "Dependents": 0,
         "Education": 0,
         "Self_Employed": 1,
         "ApplicantIncome": 0.06988249845392702,
         "CoapplicantIncome": 0,
         "LoanAmount": 0.20812182741116753,
         "Loan_Amount_Term": 0.7297297297297297,
         "Credit_History": 1,
         "Property_Area": 0.5,
         "Loan_Status": 1,
         "_deepnote_index_column": 563
        },
        {
         "Gender": 1,
         "Married": 1,
         "Dependents": 0.6666666666666666,
         "Education": 1,
         "Self_Employed": 0,
         "ApplicantIncome": 0.10697588126159555,
         "CoapplicantIncome": 0,
         "LoanAmount": 0.4213197969543147,
         "Loan_Amount_Term": 0.7297297297297297,
         "Credit_History": 0,
         "Property_Area": 1,
         "Loan_Status": 0,
         "_deepnote_index_column": 564
        },
        {
         "Gender": 1,
         "Married": 0,
         "Dependents": 0,
         "Education": 1,
         "Self_Employed": 0,
         "ApplicantIncome": 0.03936920222634508,
         "CoapplicantIncome": 0,
         "LoanAmount": 0.10321489001692047,
         "Loan_Amount_Term": 0.7297297297297297,
         "Credit_History": 1,
         "Property_Area": 1,
         "Loan_Status": 1,
         "_deepnote_index_column": 566
        },
        {
         "Gender": 1,
         "Married": 1,
         "Dependents": 1,
         "Education": 1,
         "Self_Employed": 0,
         "ApplicantIncome": 0.04019789734075448,
         "CoapplicantIncome": 0.07388361852410083,
         "LoanAmount": 0.19289340101522842,
         "Loan_Amount_Term": 0.7297297297297297,
         "Credit_History": 0,
         "Property_Area": 0,
         "Loan_Status": 0,
         "_deepnote_index_column": 567
        },
        {
         "Gender": 0,
         "Married": 0,
         "Dependents": 0,
         "Education": 1,
         "Self_Employed": 0,
         "ApplicantIncome": 0.027557204700061844,
         "CoapplicantIncome": 0,
         "LoanAmount": 0,
         "Loan_Amount_Term": 0.7297297297297297,
         "Credit_History": 1,
         "Property_Area": 1,
         "Loan_Status": 0,
         "_deepnote_index_column": 568
        },
        {
         "Gender": 1,
         "Married": 1,
         "Dependents": 0,
         "Education": 1,
         "Self_Employed": 0,
         "ApplicantIncome": 0.03730364873222016,
         "CoapplicantIncome": 0.060998315453497653,
         "LoanAmount": 0.16074450084602368,
         "Loan_Amount_Term": 0.7297297297297297,
         "Credit_History": 0,
         "Property_Area": 1,
         "Loan_Status": 0,
         "_deepnote_index_column": 569
        },
        {
         "Gender": 1,
         "Married": 1,
         "Dependents": 0.3333333333333333,
         "Education": 1,
         "Self_Employed": 0,
         "ApplicantIncome": 0.04040816326530612,
         "CoapplicantIncome": 0.05171853296687059,
         "LoanAmount": 0.29949238578680204,
         "Loan_Amount_Term": 0.7297297297297297,
         "Credit_History": 1,
         "Property_Area": 1,
         "Loan_Status": 1,
         "_deepnote_index_column": 570
        },
        {
         "Gender": 1,
         "Married": 1,
         "Dependents": 0.6666666666666666,
         "Education": 1,
         "Self_Employed": 0,
         "ApplicantIncome": 0.2042795299938157,
         "CoapplicantIncome": 0,
         "LoanAmount": 0.4500846023688663,
         "Loan_Amount_Term": 0.7297297297297297,
         "Credit_History": 1,
         "Property_Area": 1,
         "Loan_Status": 1,
         "_deepnote_index_column": 572
        },
        {
         "Gender": 1,
         "Married": 1,
         "Dependents": 0.6666666666666666,
         "Education": 0,
         "Self_Employed": 0,
         "ApplicantIncome": 0.07390228818800247,
         "CoapplicantIncome": 0.04802435204066555,
         "LoanAmount": 0.3011844331641286,
         "Loan_Amount_Term": 1,
         "Credit_History": 1,
         "Property_Area": 0.5,
         "Loan_Status": 0,
         "_deepnote_index_column": 573
        },
        {
         "Gender": 1,
         "Married": 1,
         "Dependents": 1,
         "Education": 1,
         "Self_Employed": 0,
         "ApplicantIncome": 0.0773778602350031,
         "CoapplicantIncome": 0,
         "LoanAmount": 0.23857868020304568,
         "Loan_Amount_Term": 0.7297297297297297,
         "Credit_History": 1,
         "Property_Area": 0.5,
         "Loan_Status": 0,
         "_deepnote_index_column": 574
        },
        {
         "Gender": 1,
         "Married": 1,
         "Dependents": 0.6666666666666666,
         "Education": 1,
         "Self_Employed": 0,
         "ApplicantIncome": 0.037217068645640075,
         "CoapplicantIncome": 0.013624139255844193,
         "LoanAmount": 0.16751269035532995,
         "Loan_Amount_Term": 0.10810810810810811,
         "Credit_History": 1,
         "Property_Area": 1,
         "Loan_Status": 1,
         "_deepnote_index_column": 575
        },
        {
         "Gender": 1,
         "Married": 0,
         "Dependents": 0,
         "Education": 1,
         "Self_Employed": 0,
         "ApplicantIncome": 0.03808286951144094,
         "CoapplicantIncome": 0.08094689245500487,
         "LoanAmount": 0.17089678510998307,
         "Loan_Amount_Term": 0.7297297297297297,
         "Credit_History": 1,
         "Property_Area": 1,
         "Loan_Status": 1,
         "_deepnote_index_column": 577
        },
        {
         "Gender": 1,
         "Married": 1,
         "Dependents": 0.3333333333333333,
         "Education": 1,
         "Self_Employed": 0,
         "ApplicantIncome": 0.020185528756957328,
         "CoapplicantIncome": 0.06596329461831722,
         "LoanAmount": 0.1658206429780034,
         "Loan_Amount_Term": 0.7297297297297297,
         "Credit_History": 1,
         "Property_Area": 0,
         "Loan_Status": 1,
         "_deepnote_index_column": 578
        },
        {
         "Gender": 1,
         "Married": 1,
         "Dependents": 0.6666666666666666,
         "Education": 1,
         "Self_Employed": 0,
         "ApplicantIncome": 0.0790352504638219,
         "CoapplicantIncome": 0,
         "LoanAmount": 0.3316412859560068,
         "Loan_Amount_Term": 0.7297297297297297,
         "Credit_History": 1,
         "Property_Area": 0.5,
         "Loan_Status": 1,
         "_deepnote_index_column": 580
        },
        {
         "Gender": 1,
         "Married": 0,
         "Dependents": 0,
         "Education": 1,
         "Self_Employed": 0,
         "ApplicantIncome": 0.02085343228200371,
         "CoapplicantIncome": 1,
         "LoanAmount": 0.13705583756345177,
         "Loan_Amount_Term": 0.7297297297297297,
         "Credit_History": 1,
         "Property_Area": 1,
         "Loan_Status": 0,
         "_deepnote_index_column": 581
        },
        {
         "Gender": 0,
         "Married": 1,
         "Dependents": 0,
         "Education": 1,
         "Self_Employed": 0,
         "ApplicantIncome": 0.03730364873222016,
         "CoapplicantIncome": 0,
         "LoanAmount": 0.04568527918781726,
         "Loan_Amount_Term": 0.7297297297297297,
         "Credit_History": 1,
         "Property_Area": 0.5,
         "Loan_Status": 1,
         "_deepnote_index_column": 582
        },
        {
         "Gender": 1,
         "Married": 1,
         "Dependents": 0.3333333333333333,
         "Education": 1,
         "Self_Employed": 0,
         "ApplicantIncome": 0.03261595547309833,
         "CoapplicantIncome": 0.05665395868428052,
         "LoanAmount": 0.23181049069373943,
         "Loan_Amount_Term": 0.7297297297297297,
         "Credit_History": 0,
         "Property_Area": 0,
         "Loan_Status": 0,
         "_deepnote_index_column": 584
        },
        {
         "Gender": 1,
         "Married": 1,
         "Dependents": 0.3333333333333333,
         "Education": 1,
         "Self_Employed": 0,
         "ApplicantIncome": 0.05111935683364255,
         "CoapplicantIncome": 0.08866034222892101,
         "LoanAmount": 0.27580372250423013,
         "Loan_Amount_Term": 0.10810810810810811,
         "Credit_History": 1,
         "Property_Area": 0,
         "Loan_Status": 0,
         "_deepnote_index_column": 585
        },
        {
         "Gender": 1,
         "Married": 1,
         "Dependents": 0,
         "Education": 1,
         "Self_Employed": 0,
         "ApplicantIncome": 0.02655534941249227,
         "CoapplicantIncome": 0.04498034695747259,
         "LoanAmount": 0.16074450084602368,
         "Loan_Amount_Term": 0.7297297297297297,
         "Credit_History": 1,
         "Property_Area": 1,
         "Loan_Status": 1,
         "_deepnote_index_column": 586
        },
        {
         "Gender": 0,
         "Married": 0,
         "Dependents": 0,
         "Education": 0,
         "Self_Employed": 0,
         "ApplicantIncome": 0.02492269635126778,
         "CoapplicantIncome": 0,
         "LoanAmount": 0.10321489001692047,
         "Loan_Amount_Term": 0.7297297297297297,
         "Credit_History": 1,
         "Property_Area": 0.5,
         "Loan_Status": 1,
         "_deepnote_index_column": 587
        },
        {
         "Gender": 1,
         "Married": 1,
         "Dependents": 0.6666666666666666,
         "Education": 1,
         "Self_Employed": 1,
         "ApplicantIncome": 0.03186147186147186,
         "CoapplicantIncome": 0,
         "LoanAmount": 0.16412859560067683,
         "Loan_Amount_Term": 0.7297297297297297,
         "Credit_History": 0,
         "Property_Area": 0.5,
         "Loan_Status": 0,
         "_deepnote_index_column": 589
        },
        {
         "Gender": 1,
         "Married": 1,
         "Dependents": 0,
         "Education": 1,
         "Self_Employed": 0,
         "ApplicantIncome": 0.03525046382189239,
         "CoapplicantIncome": 0.10095457635133138,
         "LoanAmount": 0.07952622673434856,
         "Loan_Amount_Term": 0.32432432432432434,
         "Credit_History": 1,
         "Property_Area": 0.5,
         "Loan_Status": 1,
         "_deepnote_index_column": 590
        },
        {
         "Gender": 1,
         "Married": 1,
         "Dependents": 0.6666666666666666,
         "Education": 1,
         "Self_Employed": 1,
         "ApplicantIncome": 0.07235621521335807,
         "CoapplicantIncome": 0,
         "LoanAmount": 0.3316412859560068,
         "Loan_Amount_Term": 0.4594594594594595,
         "Credit_History": 1,
         "Property_Area": 0.5,
         "Loan_Status": 0,
         "_deepnote_index_column": 591
        },
        {
         "Gender": 1,
         "Married": 1,
         "Dependents": 0,
         "Education": 1,
         "Self_Employed": 0,
         "ApplicantIncome": 0.04587507730364873,
         "CoapplicantIncome": 0.0975263764518131,
         "LoanAmount": 0.22504230118443316,
         "Loan_Amount_Term": 0.32432432432432434,
         "Credit_History": 1,
         "Property_Area": 0,
         "Loan_Status": 1,
         "_deepnote_index_column": 593
        },
        {
         "Gender": 1,
         "Married": 1,
         "Dependents": 0,
         "Education": 1,
         "Self_Employed": 1,
         "ApplicantIncome": 0.19752628324056895,
         "CoapplicantIncome": 0,
         "LoanAmount": 0.42470389170896783,
         "Loan_Amount_Term": 0.7297297297297297,
         "Credit_History": 1,
         "Property_Area": 1,
         "Loan_Status": 1,
         "_deepnote_index_column": 594
        },
        {
         "Gender": 1,
         "Married": 0,
         "Dependents": 0,
         "Education": 0,
         "Self_Employed": 0,
         "ApplicantIncome": 0.0455534941249227,
         "CoapplicantIncome": 0,
         "LoanAmount": 0.17089678510998307,
         "Loan_Amount_Term": 0.7297297297297297,
         "Credit_History": 1,
         "Property_Area": 0,
         "Loan_Status": 1,
         "_deepnote_index_column": 595
        },
        {
         "Gender": 1,
         "Married": 1,
         "Dependents": 0.6666666666666666,
         "Education": 0,
         "Self_Employed": 1,
         "ApplicantIncome": 0.07709338280766852,
         "CoapplicantIncome": 0.029553447409640336,
         "LoanAmount": 0.3011844331641286,
         "Loan_Amount_Term": 0.7297297297297297,
         "Credit_History": 1,
         "Property_Area": 0,
         "Loan_Status": 0,
         "_deepnote_index_column": 596
        },
        {
         "Gender": 1,
         "Married": 1,
         "Dependents": 0,
         "Education": 1,
         "Self_Employed": 1,
         "ApplicantIncome": 0.12137291280148423,
         "CoapplicantIncome": 0,
         "LoanAmount": 0.2893401015228426,
         "Loan_Amount_Term": 0.7297297297297297,
         "Credit_History": 1,
         "Property_Area": 0,
         "Loan_Status": 1,
         "_deepnote_index_column": 598
        },
        {
         "Gender": 1,
         "Married": 1,
         "Dependents": 0.6666666666666666,
         "Education": 1,
         "Self_Employed": 0,
         "ApplicantIncome": 0.06963512677798392,
         "CoapplicantIncome": 0,
         "LoanAmount": 0.3096446700507614,
         "Loan_Amount_Term": 0.7297297297297297,
         "Credit_History": 1,
         "Property_Area": 1,
         "Loan_Status": 1,
         "_deepnote_index_column": 599
        },
        {
         "Gender": 1,
         "Married": 1,
         "Dependents": 1,
         "Education": 1,
         "Self_Employed": 0,
         "ApplicantIncome": 0.06868274582560296,
         "CoapplicantIncome": 0,
         "LoanAmount": 0.20135363790186125,
         "Loan_Amount_Term": 0.7297297297297297,
         "Credit_History": 1,
         "Property_Area": 1,
         "Loan_Status": 1,
         "_deepnote_index_column": 602
        },
        {
         "Gender": 1,
         "Married": 0,
         "Dependents": 0,
         "Education": 1,
         "Self_Employed": 0,
         "ApplicantIncome": 0.04361162646876932,
         "CoapplicantIncome": 0.12710937730886307,
         "LoanAmount": 0.27580372250423013,
         "Loan_Amount_Term": 0.7297297297297297,
         "Credit_History": 1,
         "Property_Area": 0,
         "Loan_Status": 1,
         "_deepnote_index_column": 603
        },
        {
         "Gender": 0,
         "Married": 1,
         "Dependents": 0.3333333333333333,
         "Education": 1,
         "Self_Employed": 0,
         "ApplicantIncome": 0.14656771799628943,
         "CoapplicantIncome": 0,
         "LoanAmount": 0.8240270727580372,
         "Loan_Amount_Term": 0.7297297297297297,
         "Credit_History": 1,
         "Property_Area": 0.5,
         "Loan_Status": 1,
         "_deepnote_index_column": 604
        },
        {
         "Gender": 1,
         "Married": 1,
         "Dependents": 0.3333333333333333,
         "Education": 1,
         "Self_Employed": 0,
         "ApplicantIncome": 0.04019789734075448,
         "CoapplicantIncome": 0.07388361852410083,
         "LoanAmount": 0.27749576988155666,
         "Loan_Amount_Term": 0.7297297297297297,
         "Credit_History": 1,
         "Property_Area": 0.5,
         "Loan_Status": 1,
         "_deepnote_index_column": 606
        },
        {
         "Gender": 1,
         "Married": 1,
         "Dependents": 0.6666666666666666,
         "Education": 0,
         "Self_Employed": 0,
         "ApplicantIncome": 0.0474582560296846,
         "CoapplicantIncome": 0.04169991429500251,
         "LoanAmount": 0.25042301184433163,
         "Loan_Amount_Term": 0.7297297297297297,
         "Credit_History": 1,
         "Property_Area": 0,
         "Loan_Status": 1,
         "_deepnote_index_column": 607
        },
        {
         "Gender": 1,
         "Married": 1,
         "Dependents": 0,
         "Education": 1,
         "Self_Employed": 0,
         "ApplicantIncome": 0.03811997526283241,
         "CoapplicantIncome": 0.05762922244879865,
         "LoanAmount": 0.16751269035532995,
         "Loan_Amount_Term": 0.7297297297297297,
         "Credit_History": 1,
         "Property_Area": 0,
         "Loan_Status": 1,
         "_deepnote_index_column": 608
        },
        {
         "Gender": 0,
         "Married": 0,
         "Dependents": 0,
         "Education": 1,
         "Self_Employed": 0,
         "ApplicantIncome": 0.034013605442176874,
         "CoapplicantIncome": 0,
         "LoanAmount": 0.10490693739424704,
         "Loan_Amount_Term": 0.7297297297297297,
         "Credit_History": 1,
         "Property_Area": 0,
         "Loan_Status": 1,
         "_deepnote_index_column": 609
        },
        {
         "Gender": 1,
         "Married": 1,
         "Dependents": 1,
         "Education": 1,
         "Self_Employed": 0,
         "ApplicantIncome": 0.04893011750154607,
         "CoapplicantIncome": 0,
         "LoanAmount": 0.05245346869712352,
         "Loan_Amount_Term": 0.32432432432432434,
         "Credit_History": 1,
         "Property_Area": 0,
         "Loan_Status": 1,
         "_deepnote_index_column": 610
        },
        {
         "Gender": 1,
         "Married": 1,
         "Dependents": 0.3333333333333333,
         "Education": 1,
         "Self_Employed": 0,
         "ApplicantIncome": 0.09798392084106369,
         "CoapplicantIncome": 0.00709282737831368,
         "LoanAmount": 0.4128595600676819,
         "Loan_Amount_Term": 0.7297297297297297,
         "Credit_History": 1,
         "Property_Area": 1,
         "Loan_Status": 1,
         "_deepnote_index_column": 611
        },
        {
         "Gender": 1,
         "Married": 1,
         "Dependents": 0.6666666666666666,
         "Education": 1,
         "Self_Employed": 0,
         "ApplicantIncome": 0.0919356833642548,
         "CoapplicantIncome": 0,
         "LoanAmount": 0.3011844331641286,
         "Loan_Amount_Term": 0.7297297297297297,
         "Credit_History": 1,
         "Property_Area": 1,
         "Loan_Status": 1,
         "_deepnote_index_column": 612
        },
        {
         "Gender": 0,
         "Married": 0,
         "Dependents": 0,
         "Education": 1,
         "Self_Employed": 1,
         "ApplicantIncome": 0.05482993197278912,
         "CoapplicantIncome": 0,
         "LoanAmount": 0.2098138747884941,
         "Loan_Amount_Term": 0.7297297297297297,
         "Credit_History": 0,
         "Property_Area": 0.5,
         "Loan_Status": 0,
         "_deepnote_index_column": 613
        }
       ]
      },
      "text/plain": "     Gender  Married  Dependents  Education  Self_Employed  ApplicantIncome  \\\n1         1      1.0    0.333333        1.0            0.0         0.054830   \n2         1      1.0    0.000000        1.0            1.0         0.035250   \n3         1      1.0    0.000000        0.0            0.0         0.030093   \n4         1      0.0    0.000000        1.0            0.0         0.072356   \n5         1      1.0    0.666667        1.0            1.0         0.065145   \n..      ...      ...         ...        ...            ...              ...   \n609       0      0.0    0.000000        1.0            0.0         0.034014   \n610       1      1.0    1.000000        1.0            0.0         0.048930   \n611       1      1.0    0.333333        1.0            0.0         0.097984   \n612       1      1.0    0.666667        1.0            0.0         0.091936   \n613       0      0.0    0.000000        1.0            1.0         0.054830   \n\n     CoapplicantIncome  LoanAmount  Loan_Amount_Term  Credit_History  \\\n1             0.044567    0.201354          0.729730             1.0   \n2             0.000000    0.096447          0.729730             1.0   \n3             0.069687    0.187817          0.729730             1.0   \n4             0.000000    0.223350          0.729730             1.0   \n5             0.124006    0.436548          0.729730             1.0   \n..                 ...         ...               ...             ...   \n609           0.000000    0.104907          0.729730             1.0   \n610           0.000000    0.052453          0.324324             1.0   \n611           0.007093    0.412860          0.729730             1.0   \n612           0.000000    0.301184          0.729730             1.0   \n613           0.000000    0.209814          0.729730             0.0   \n\n     Property_Area  Loan_Status  \n1              0.0          0.0  \n2              1.0          1.0  \n3              1.0          1.0  \n4              1.0          1.0  \n5              1.0          1.0  \n..             ...          ...  \n609            0.0          1.0  \n610            0.0          1.0  \n611            1.0          1.0  \n612            1.0          1.0  \n613            0.5          0.0  \n\n[480 rows x 12 columns]",
      "text/html": "<div>\n<style scoped>\n    .dataframe tbody tr th:only-of-type {\n        vertical-align: middle;\n    }\n\n    .dataframe tbody tr th {\n        vertical-align: top;\n    }\n\n    .dataframe thead th {\n        text-align: right;\n    }\n</style>\n<table border=\"1\" class=\"dataframe\">\n  <thead>\n    <tr style=\"text-align: right;\">\n      <th></th>\n      <th>Gender</th>\n      <th>Married</th>\n      <th>Dependents</th>\n      <th>Education</th>\n      <th>Self_Employed</th>\n      <th>ApplicantIncome</th>\n      <th>CoapplicantIncome</th>\n      <th>LoanAmount</th>\n      <th>Loan_Amount_Term</th>\n      <th>Credit_History</th>\n      <th>Property_Area</th>\n      <th>Loan_Status</th>\n    </tr>\n  </thead>\n  <tbody>\n    <tr>\n      <th>1</th>\n      <td>1</td>\n      <td>1.0</td>\n      <td>0.333333</td>\n      <td>1.0</td>\n      <td>0.0</td>\n      <td>0.054830</td>\n      <td>0.044567</td>\n      <td>0.201354</td>\n      <td>0.729730</td>\n      <td>1.0</td>\n      <td>0.0</td>\n      <td>0.0</td>\n    </tr>\n    <tr>\n      <th>2</th>\n      <td>1</td>\n      <td>1.0</td>\n      <td>0.000000</td>\n      <td>1.0</td>\n      <td>1.0</td>\n      <td>0.035250</td>\n      <td>0.000000</td>\n      <td>0.096447</td>\n      <td>0.729730</td>\n      <td>1.0</td>\n      <td>1.0</td>\n      <td>1.0</td>\n    </tr>\n    <tr>\n      <th>3</th>\n      <td>1</td>\n      <td>1.0</td>\n      <td>0.000000</td>\n      <td>0.0</td>\n      <td>0.0</td>\n      <td>0.030093</td>\n      <td>0.069687</td>\n      <td>0.187817</td>\n      <td>0.729730</td>\n      <td>1.0</td>\n      <td>1.0</td>\n      <td>1.0</td>\n    </tr>\n    <tr>\n      <th>4</th>\n      <td>1</td>\n      <td>0.0</td>\n      <td>0.000000</td>\n      <td>1.0</td>\n      <td>0.0</td>\n      <td>0.072356</td>\n      <td>0.000000</td>\n      <td>0.223350</td>\n      <td>0.729730</td>\n      <td>1.0</td>\n      <td>1.0</td>\n      <td>1.0</td>\n    </tr>\n    <tr>\n      <th>5</th>\n      <td>1</td>\n      <td>1.0</td>\n      <td>0.666667</td>\n      <td>1.0</td>\n      <td>1.0</td>\n      <td>0.065145</td>\n      <td>0.124006</td>\n      <td>0.436548</td>\n      <td>0.729730</td>\n      <td>1.0</td>\n      <td>1.0</td>\n      <td>1.0</td>\n    </tr>\n    <tr>\n      <th>...</th>\n      <td>...</td>\n      <td>...</td>\n      <td>...</td>\n      <td>...</td>\n      <td>...</td>\n      <td>...</td>\n      <td>...</td>\n      <td>...</td>\n      <td>...</td>\n      <td>...</td>\n      <td>...</td>\n      <td>...</td>\n    </tr>\n    <tr>\n      <th>609</th>\n      <td>0</td>\n      <td>0.0</td>\n      <td>0.000000</td>\n      <td>1.0</td>\n      <td>0.0</td>\n      <td>0.034014</td>\n      <td>0.000000</td>\n      <td>0.104907</td>\n      <td>0.729730</td>\n      <td>1.0</td>\n      <td>0.0</td>\n      <td>1.0</td>\n    </tr>\n    <tr>\n      <th>610</th>\n      <td>1</td>\n      <td>1.0</td>\n      <td>1.000000</td>\n      <td>1.0</td>\n      <td>0.0</td>\n      <td>0.048930</td>\n      <td>0.000000</td>\n      <td>0.052453</td>\n      <td>0.324324</td>\n      <td>1.0</td>\n      <td>0.0</td>\n      <td>1.0</td>\n    </tr>\n    <tr>\n      <th>611</th>\n      <td>1</td>\n      <td>1.0</td>\n      <td>0.333333</td>\n      <td>1.0</td>\n      <td>0.0</td>\n      <td>0.097984</td>\n      <td>0.007093</td>\n      <td>0.412860</td>\n      <td>0.729730</td>\n      <td>1.0</td>\n      <td>1.0</td>\n      <td>1.0</td>\n    </tr>\n    <tr>\n      <th>612</th>\n      <td>1</td>\n      <td>1.0</td>\n      <td>0.666667</td>\n      <td>1.0</td>\n      <td>0.0</td>\n      <td>0.091936</td>\n      <td>0.000000</td>\n      <td>0.301184</td>\n      <td>0.729730</td>\n      <td>1.0</td>\n      <td>1.0</td>\n      <td>1.0</td>\n    </tr>\n    <tr>\n      <th>613</th>\n      <td>0</td>\n      <td>0.0</td>\n      <td>0.000000</td>\n      <td>1.0</td>\n      <td>1.0</td>\n      <td>0.054830</td>\n      <td>0.000000</td>\n      <td>0.209814</td>\n      <td>0.729730</td>\n      <td>0.0</td>\n      <td>0.5</td>\n      <td>0.0</td>\n    </tr>\n  </tbody>\n</table>\n<p>480 rows × 12 columns</p>\n</div>"
     },
     "metadata": {}
    }
   ],
   "execution_count": null
  },
  {
   "cell_type": "markdown",
   "source": "### Loan ",
   "metadata": {
    "tags": [],
    "cell_id": "00001-a4a609a8-6039-4437-b538-fae8febeda40",
    "deepnote_cell_type": "markdown"
   }
  },
  {
   "cell_type": "code",
   "metadata": {
    "tags": [],
    "cell_id": "00003-cb1b4cbe-695f-48cb-ac1b-735825e0f435",
    "deepnote_to_be_reexecuted": false,
    "source_hash": "c395d546",
    "execution_start": 1638886699558,
    "execution_millis": 132715,
    "deepnote_output_heights": [
     null,
     21.1875
    ],
    "deepnote_cell_type": "code"
   },
   "source": "import numpy as np\nfrom sklearn.model_selection import train_test_split\nfrom tensorflow.keras import Sequential, Input\nfrom tensorflow.keras.layers import Dense, Dropout, InputLayer\nfrom tensorflow.keras.losses import BinaryCrossentropy\nfrom sklearn.metrics import balanced_accuracy_score\nfrom preprocessing import load_loan_prepr\nfrom tensorflow.random import set_seed\n\n# Import data\nX, y, feature_names = load_loan_prepr()\nseed = 3012\n\nset_seed(seed) #set TensorFlow seed\n\nX_, X_test, y_, y_test = train_test_split(X, y, test_size=0.2, random_state=seed, stratify=y)\nX_train, X_val, y_train, y_val = train_test_split(X_, y_, test_size=0.2, random_state=seed, stratify=y_)\n\n# Initialise neural network\nBATCH_SIZE=64\nINPUT_SIZE= X_train.shape[1]\n\nmodel = Sequential()\nmodel.add(InputLayer(INPUT_SIZE))\nmodel.add(Dense(20,activation=\"relu\"))\nmodel.add(Dropout(0.1))\n# model.add(Dense(10, activation=\"relu\"))\n# model.add(Dropout(0.1))\nmodel.add(Dense(5, activation=\"relu\"))\nmodel.add(Dropout(0.1))\nmodel.add(Dense(1, activation=\"sigmoid\"))\nmodel.compile(optimizer='adam',\n                loss=\"binary_crossentropy\",\n                metrics=['accuracy'])\n\nmodel.fit(X_train, y_train, batch_size=BATCH_SIZE, epochs=1000, validation_data=(X_val, y_val), verbose=1) # validation_split=0.2\n",
   "outputs": [
    {
     "name": "stdout",
     "text": "5/5 [==============================] - 0s 26ms/step - loss: 0.3768 - accuracy: 0.8081 - val_loss: 0.6665 - val_accuracy: 0.7792\nEpoch 502/1000\n5/5 [==============================] - 0s 25ms/step - loss: 0.3416 - accuracy: 0.8700 - val_loss: 0.6682 - val_accuracy: 0.7792\nEpoch 503/1000\n5/5 [==============================] - 0s 26ms/step - loss: 0.3796 - accuracy: 0.8392 - val_loss: 0.6678 - val_accuracy: 0.7792\nEpoch 504/1000\n5/5 [==============================] - 0s 27ms/step - loss: 0.3735 - accuracy: 0.8318 - val_loss: 0.6683 - val_accuracy: 0.7792\nEpoch 505/1000\n5/5 [==============================] - 0s 35ms/step - loss: 0.3173 - accuracy: 0.8769 - val_loss: 0.6688 - val_accuracy: 0.7792\nEpoch 506/1000\n5/5 [==============================] - 0s 48ms/step - loss: 0.3449 - accuracy: 0.8446 - val_loss: 0.6679 - val_accuracy: 0.7792\nEpoch 507/1000\n5/5 [==============================] - 0s 29ms/step - loss: 0.3232 - accuracy: 0.8787 - val_loss: 0.6672 - val_accuracy: 0.7792\nEpoch 508/1000\n5/5 [==============================] - 0s 27ms/step - loss: 0.3544 - accuracy: 0.8633 - val_loss: 0.6677 - val_accuracy: 0.7792\nEpoch 509/1000\n5/5 [==============================] - 0s 43ms/step - loss: 0.3577 - accuracy: 0.8459 - val_loss: 0.6670 - val_accuracy: 0.7792\nEpoch 510/1000\n5/5 [==============================] - 0s 31ms/step - loss: 0.3966 - accuracy: 0.8185 - val_loss: 0.6660 - val_accuracy: 0.7792\nEpoch 511/1000\n5/5 [==============================] - 0s 32ms/step - loss: 0.3697 - accuracy: 0.8298 - val_loss: 0.6655 - val_accuracy: 0.7792\nEpoch 512/1000\n5/5 [==============================] - 0s 26ms/step - loss: 0.3682 - accuracy: 0.8580 - val_loss: 0.6658 - val_accuracy: 0.7792\nEpoch 513/1000\n5/5 [==============================] - 0s 26ms/step - loss: 0.3213 - accuracy: 0.8574 - val_loss: 0.6676 - val_accuracy: 0.7792\nEpoch 514/1000\n5/5 [==============================] - 0s 41ms/step - loss: 0.3774 - accuracy: 0.8602 - val_loss: 0.6702 - val_accuracy: 0.7792\nEpoch 515/1000\n5/5 [==============================] - 0s 22ms/step - loss: 0.3297 - accuracy: 0.8500 - val_loss: 0.6727 - val_accuracy: 0.7792\nEpoch 516/1000\n5/5 [==============================] - 0s 24ms/step - loss: 0.3439 - accuracy: 0.8565 - val_loss: 0.6728 - val_accuracy: 0.7792\nEpoch 517/1000\n5/5 [==============================] - 0s 24ms/step - loss: 0.3173 - accuracy: 0.8813 - val_loss: 0.6727 - val_accuracy: 0.7792\nEpoch 518/1000\n5/5 [==============================] - 0s 28ms/step - loss: 0.3277 - accuracy: 0.8520 - val_loss: 0.6738 - val_accuracy: 0.7792\nEpoch 519/1000\n5/5 [==============================] - 0s 30ms/step - loss: 0.3415 - accuracy: 0.8498 - val_loss: 0.6748 - val_accuracy: 0.7792\nEpoch 520/1000\n5/5 [==============================] - 0s 38ms/step - loss: 0.3135 - accuracy: 0.8763 - val_loss: 0.6753 - val_accuracy: 0.7792\nEpoch 521/1000\n5/5 [==============================] - 0s 27ms/step - loss: 0.3446 - accuracy: 0.8630 - val_loss: 0.6752 - val_accuracy: 0.7792\nEpoch 522/1000\n5/5 [==============================] - 0s 32ms/step - loss: 0.3461 - accuracy: 0.8524 - val_loss: 0.6730 - val_accuracy: 0.7792\nEpoch 523/1000\n5/5 [==============================] - 0s 36ms/step - loss: 0.3583 - accuracy: 0.8765 - val_loss: 0.6709 - val_accuracy: 0.7792\nEpoch 524/1000\n5/5 [==============================] - 0s 28ms/step - loss: 0.3787 - accuracy: 0.8340 - val_loss: 0.6694 - val_accuracy: 0.7792\nEpoch 525/1000\n5/5 [==============================] - 0s 24ms/step - loss: 0.3163 - accuracy: 0.8737 - val_loss: 0.6689 - val_accuracy: 0.7792\nEpoch 526/1000\n5/5 [==============================] - 0s 31ms/step - loss: 0.3209 - accuracy: 0.8587 - val_loss: 0.6687 - val_accuracy: 0.7792\nEpoch 527/1000\n5/5 [==============================] - 0s 25ms/step - loss: 0.2935 - accuracy: 0.8682 - val_loss: 0.6702 - val_accuracy: 0.7792\nEpoch 528/1000\n5/5 [==============================] - 0s 26ms/step - loss: 0.3456 - accuracy: 0.8659 - val_loss: 0.6708 - val_accuracy: 0.7792\nEpoch 529/1000\n5/5 [==============================] - 0s 23ms/step - loss: 0.3451 - accuracy: 0.8604 - val_loss: 0.6719 - val_accuracy: 0.7792\nEpoch 530/1000\n5/5 [==============================] - 0s 25ms/step - loss: 0.3099 - accuracy: 0.8691 - val_loss: 0.6732 - val_accuracy: 0.7792\nEpoch 531/1000\n5/5 [==============================] - 0s 25ms/step - loss: 0.3313 - accuracy: 0.8578 - val_loss: 0.6742 - val_accuracy: 0.7792\nEpoch 532/1000\n5/5 [==============================] - 0s 25ms/step - loss: 0.3168 - accuracy: 0.8837 - val_loss: 0.6735 - val_accuracy: 0.7792\nEpoch 533/1000\n5/5 [==============================] - 0s 27ms/step - loss: 0.3071 - accuracy: 0.8676 - val_loss: 0.6754 - val_accuracy: 0.7792\nEpoch 534/1000\n5/5 [==============================] - 0s 37ms/step - loss: 0.3562 - accuracy: 0.8504 - val_loss: 0.6774 - val_accuracy: 0.7792\nEpoch 535/1000\n5/5 [==============================] - 0s 29ms/step - loss: 0.3445 - accuracy: 0.8682 - val_loss: 0.6762 - val_accuracy: 0.7792\nEpoch 536/1000\n5/5 [==============================] - 0s 35ms/step - loss: 0.3571 - accuracy: 0.8481 - val_loss: 0.6749 - val_accuracy: 0.7792\nEpoch 537/1000\n5/5 [==============================] - 0s 30ms/step - loss: 0.3380 - accuracy: 0.8428 - val_loss: 0.6738 - val_accuracy: 0.7792\nEpoch 538/1000\n5/5 [==============================] - 0s 25ms/step - loss: 0.3042 - accuracy: 0.8732 - val_loss: 0.6737 - val_accuracy: 0.7792\nEpoch 539/1000\n5/5 [==============================] - 0s 25ms/step - loss: 0.3330 - accuracy: 0.8648 - val_loss: 0.6734 - val_accuracy: 0.7792\nEpoch 540/1000\n5/5 [==============================] - 0s 27ms/step - loss: 0.3452 - accuracy: 0.8437 - val_loss: 0.6746 - val_accuracy: 0.7662\nEpoch 541/1000\n5/5 [==============================] - 0s 22ms/step - loss: 0.3294 - accuracy: 0.8676 - val_loss: 0.6755 - val_accuracy: 0.7662\nEpoch 542/1000\n5/5 [==============================] - 0s 25ms/step - loss: 0.3984 - accuracy: 0.8498 - val_loss: 0.6745 - val_accuracy: 0.7662\nEpoch 543/1000\n5/5 [==============================] - 0s 27ms/step - loss: 0.3415 - accuracy: 0.8426 - val_loss: 0.6728 - val_accuracy: 0.7662\nEpoch 544/1000\n5/5 [==============================] - 0s 31ms/step - loss: 0.3041 - accuracy: 0.8988 - val_loss: 0.6713 - val_accuracy: 0.7662\nEpoch 545/1000\n5/5 [==============================] - 0s 23ms/step - loss: 0.3070 - accuracy: 0.8962 - val_loss: 0.6721 - val_accuracy: 0.7662\nEpoch 546/1000\n5/5 [==============================] - 0s 26ms/step - loss: 0.3626 - accuracy: 0.8487 - val_loss: 0.6742 - val_accuracy: 0.7662\nEpoch 547/1000\n5/5 [==============================] - 0s 28ms/step - loss: 0.3410 - accuracy: 0.8622 - val_loss: 0.6754 - val_accuracy: 0.7662\nEpoch 548/1000\n5/5 [==============================] - 0s 28ms/step - loss: 0.3301 - accuracy: 0.8500 - val_loss: 0.6766 - val_accuracy: 0.7662\nEpoch 549/1000\n5/5 [==============================] - 0s 26ms/step - loss: 0.3367 - accuracy: 0.8830 - val_loss: 0.6776 - val_accuracy: 0.7792\nEpoch 550/1000\n5/5 [==============================] - 0s 36ms/step - loss: 0.3213 - accuracy: 0.8598 - val_loss: 0.6774 - val_accuracy: 0.7792\nEpoch 551/1000\n5/5 [==============================] - 0s 32ms/step - loss: 0.2931 - accuracy: 0.8741 - val_loss: 0.6774 - val_accuracy: 0.7792\nEpoch 552/1000\n5/5 [==============================] - 0s 31ms/step - loss: 0.3540 - accuracy: 0.8400 - val_loss: 0.6788 - val_accuracy: 0.7792\nEpoch 553/1000\n5/5 [==============================] - 0s 20ms/step - loss: 0.3207 - accuracy: 0.8813 - val_loss: 0.6802 - val_accuracy: 0.7792\nEpoch 554/1000\n5/5 [==============================] - 0s 27ms/step - loss: 0.3354 - accuracy: 0.8587 - val_loss: 0.6817 - val_accuracy: 0.7792\nEpoch 555/1000\n5/5 [==============================] - 0s 27ms/step - loss: 0.3626 - accuracy: 0.8346 - val_loss: 0.6814 - val_accuracy: 0.7792\nEpoch 556/1000\n5/5 [==============================] - 0s 25ms/step - loss: 0.3413 - accuracy: 0.8633 - val_loss: 0.6817 - val_accuracy: 0.7792\nEpoch 557/1000\n5/5 [==============================] - 0s 24ms/step - loss: 0.3335 - accuracy: 0.8787 - val_loss: 0.6803 - val_accuracy: 0.7792\nEpoch 558/1000\n5/5 [==============================] - 0s 28ms/step - loss: 0.3317 - accuracy: 0.8574 - val_loss: 0.6812 - val_accuracy: 0.7792\nEpoch 559/1000\n5/5 [==============================] - 0s 24ms/step - loss: 0.3415 - accuracy: 0.8624 - val_loss: 0.6824 - val_accuracy: 0.7792\nEpoch 560/1000\n5/5 [==============================] - 0s 25ms/step - loss: 0.3179 - accuracy: 0.8654 - val_loss: 0.6843 - val_accuracy: 0.7792\nEpoch 561/1000\n5/5 [==============================] - 0s 24ms/step - loss: 0.3557 - accuracy: 0.8509 - val_loss: 0.6861 - val_accuracy: 0.7792\nEpoch 562/1000\n5/5 [==============================] - 0s 30ms/step - loss: 0.3400 - accuracy: 0.8424 - val_loss: 0.6857 - val_accuracy: 0.7792\nEpoch 563/1000\n5/5 [==============================] - 0s 32ms/step - loss: 0.3446 - accuracy: 0.8409 - val_loss: 0.6849 - val_accuracy: 0.7792\nEpoch 564/1000\n5/5 [==============================] - 0s 32ms/step - loss: 0.3080 - accuracy: 0.8730 - val_loss: 0.6842 - val_accuracy: 0.7792\nEpoch 565/1000\n5/5 [==============================] - 0s 29ms/step - loss: 0.3533 - accuracy: 0.8656 - val_loss: 0.6852 - val_accuracy: 0.7792\nEpoch 566/1000\n5/5 [==============================] - 0s 22ms/step - loss: 0.3266 - accuracy: 0.8912 - val_loss: 0.6872 - val_accuracy: 0.7792\nEpoch 567/1000\n5/5 [==============================] - 0s 32ms/step - loss: 0.3273 - accuracy: 0.8491 - val_loss: 0.6876 - val_accuracy: 0.7792\nEpoch 568/1000\n5/5 [==============================] - 0s 25ms/step - loss: 0.3112 - accuracy: 0.8628 - val_loss: 0.6859 - val_accuracy: 0.7792\nEpoch 569/1000\n5/5 [==============================] - 0s 34ms/step - loss: 0.3664 - accuracy: 0.8322 - val_loss: 0.6852 - val_accuracy: 0.7792\nEpoch 570/1000\n5/5 [==============================] - 0s 22ms/step - loss: 0.3479 - accuracy: 0.8429 - val_loss: 0.6831 - val_accuracy: 0.7792\nEpoch 571/1000\n5/5 [==============================] - 0s 32ms/step - loss: 0.3454 - accuracy: 0.8422 - val_loss: 0.6816 - val_accuracy: 0.7792\nEpoch 572/1000\n5/5 [==============================] - 0s 20ms/step - loss: 0.3359 - accuracy: 0.8717 - val_loss: 0.6808 - val_accuracy: 0.7792\nEpoch 573/1000\n5/5 [==============================] - 0s 24ms/step - loss: 0.3493 - accuracy: 0.8229 - val_loss: 0.6816 - val_accuracy: 0.7792\nEpoch 574/1000\n5/5 [==============================] - 0s 26ms/step - loss: 0.3382 - accuracy: 0.8478 - val_loss: 0.6835 - val_accuracy: 0.7792\nEpoch 575/1000\n5/5 [==============================] - 0s 27ms/step - loss: 0.3233 - accuracy: 0.8663 - val_loss: 0.6879 - val_accuracy: 0.7792\nEpoch 576/1000\n5/5 [==============================] - 0s 26ms/step - loss: 0.3612 - accuracy: 0.8698 - val_loss: 0.6909 - val_accuracy: 0.7792\nEpoch 577/1000\n5/5 [==============================] - 0s 25ms/step - loss: 0.3645 - accuracy: 0.8372 - val_loss: 0.6940 - val_accuracy: 0.7792\nEpoch 578/1000\n5/5 [==============================] - 0s 30ms/step - loss: 0.3018 - accuracy: 0.8834 - val_loss: 0.6946 - val_accuracy: 0.7792\nEpoch 579/1000\n5/5 [==============================] - 0s 18ms/step - loss: 0.3348 - accuracy: 0.8737 - val_loss: 0.6952 - val_accuracy: 0.7792\nEpoch 580/1000\n5/5 [==============================] - 0s 22ms/step - loss: 0.3472 - accuracy: 0.8728 - val_loss: 0.6976 - val_accuracy: 0.7792\nEpoch 581/1000\n5/5 [==============================] - 0s 26ms/step - loss: 0.3025 - accuracy: 0.8643 - val_loss: 0.6991 - val_accuracy: 0.7792\nEpoch 582/1000\n5/5 [==============================] - 0s 26ms/step - loss: 0.3703 - accuracy: 0.8222 - val_loss: 0.6992 - val_accuracy: 0.7792\nEpoch 583/1000\n5/5 [==============================] - 0s 33ms/step - loss: 0.3454 - accuracy: 0.8554 - val_loss: 0.6992 - val_accuracy: 0.7792\nEpoch 584/1000\n5/5 [==============================] - 0s 29ms/step - loss: 0.3963 - accuracy: 0.8331 - val_loss: 0.7002 - val_accuracy: 0.7792\nEpoch 585/1000\n5/5 [==============================] - 0s 29ms/step - loss: 0.3461 - accuracy: 0.8500 - val_loss: 0.6985 - val_accuracy: 0.7792\nEpoch 586/1000\n5/5 [==============================] - 0s 37ms/step - loss: 0.3598 - accuracy: 0.8472 - val_loss: 0.6976 - val_accuracy: 0.7792\nEpoch 587/1000\n5/5 [==============================] - 0s 28ms/step - loss: 0.3401 - accuracy: 0.8465 - val_loss: 0.6968 - val_accuracy: 0.7792\nEpoch 588/1000\n5/5 [==============================] - 0s 23ms/step - loss: 0.3163 - accuracy: 0.8748 - val_loss: 0.6935 - val_accuracy: 0.7792\nEpoch 589/1000\n5/5 [==============================] - 0s 28ms/step - loss: 0.2954 - accuracy: 0.8828 - val_loss: 0.6921 - val_accuracy: 0.7792\nEpoch 590/1000\n5/5 [==============================] - 0s 42ms/step - loss: 0.2883 - accuracy: 0.8891 - val_loss: 0.6917 - val_accuracy: 0.7792\nEpoch 591/1000\n5/5 [==============================] - 0s 43ms/step - loss: 0.3533 - accuracy: 0.8771 - val_loss: 0.6926 - val_accuracy: 0.7792\nEpoch 592/1000\n5/5 [==============================] - 0s 39ms/step - loss: 0.3176 - accuracy: 0.8728 - val_loss: 0.6940 - val_accuracy: 0.7792\nEpoch 593/1000\n5/5 [==============================] - 0s 22ms/step - loss: 0.3318 - accuracy: 0.8565 - val_loss: 0.6956 - val_accuracy: 0.7792\nEpoch 594/1000\n5/5 [==============================] - 0s 31ms/step - loss: 0.3488 - accuracy: 0.8633 - val_loss: 0.6968 - val_accuracy: 0.7792\nEpoch 595/1000\n5/5 [==============================] - 0s 25ms/step - loss: 0.2965 - accuracy: 0.8793 - val_loss: 0.6979 - val_accuracy: 0.7792\nEpoch 596/1000\n5/5 [==============================] - 0s 35ms/step - loss: 0.3394 - accuracy: 0.8626 - val_loss: 0.6992 - val_accuracy: 0.7792\nEpoch 597/1000\n5/5 [==============================] - 0s 27ms/step - loss: 0.3526 - accuracy: 0.8368 - val_loss: 0.6990 - val_accuracy: 0.7792\nEpoch 598/1000\n5/5 [==============================] - 0s 25ms/step - loss: 0.3125 - accuracy: 0.8672 - val_loss: 0.6970 - val_accuracy: 0.7792\nEpoch 599/1000\n5/5 [==============================] - 0s 31ms/step - loss: 0.3519 - accuracy: 0.8504 - val_loss: 0.6960 - val_accuracy: 0.7792\nEpoch 600/1000\n5/5 [==============================] - 0s 23ms/step - loss: 0.3509 - accuracy: 0.8318 - val_loss: 0.6970 - val_accuracy: 0.7792\nEpoch 601/1000\n5/5 [==============================] - 0s 24ms/step - loss: 0.3310 - accuracy: 0.8641 - val_loss: 0.6948 - val_accuracy: 0.7792\nEpoch 602/1000\n5/5 [==============================] - 0s 30ms/step - loss: 0.2984 - accuracy: 0.8854 - val_loss: 0.6936 - val_accuracy: 0.7792\nEpoch 603/1000\n5/5 [==============================] - 0s 27ms/step - loss: 0.3523 - accuracy: 0.8311 - val_loss: 0.6927 - val_accuracy: 0.7662\nEpoch 604/1000\n5/5 [==============================] - 0s 26ms/step - loss: 0.3114 - accuracy: 0.8678 - val_loss: 0.6928 - val_accuracy: 0.7532\nEpoch 605/1000\n5/5 [==============================] - 0s 26ms/step - loss: 0.3251 - accuracy: 0.8635 - val_loss: 0.6949 - val_accuracy: 0.7662\nEpoch 606/1000\n5/5 [==============================] - 0s 24ms/step - loss: 0.3351 - accuracy: 0.8754 - val_loss: 0.6967 - val_accuracy: 0.7662\nEpoch 607/1000\n5/5 [==============================] - 0s 32ms/step - loss: 0.3025 - accuracy: 0.8850 - val_loss: 0.6991 - val_accuracy: 0.7662\nEpoch 608/1000\n5/5 [==============================] - 0s 27ms/step - loss: 0.3588 - accuracy: 0.8459 - val_loss: 0.7025 - val_accuracy: 0.7662\nEpoch 609/1000\n5/5 [==============================] - 0s 27ms/step - loss: 0.3212 - accuracy: 0.8563 - val_loss: 0.7042 - val_accuracy: 0.7662\nEpoch 610/1000\n5/5 [==============================] - 0s 35ms/step - loss: 0.3368 - accuracy: 0.8450 - val_loss: 0.7057 - val_accuracy: 0.7662\nEpoch 611/1000\n5/5 [==============================] - 0s 25ms/step - loss: 0.3604 - accuracy: 0.8554 - val_loss: 0.7096 - val_accuracy: 0.7662\nEpoch 612/1000\n5/5 [==============================] - 0s 28ms/step - loss: 0.3333 - accuracy: 0.8721 - val_loss: 0.7119 - val_accuracy: 0.7662\nEpoch 613/1000\n5/5 [==============================] - 0s 25ms/step - loss: 0.3233 - accuracy: 0.8633 - val_loss: 0.7126 - val_accuracy: 0.7662\nEpoch 614/1000\n5/5 [==============================] - 0s 24ms/step - loss: 0.3598 - accuracy: 0.8407 - val_loss: 0.7121 - val_accuracy: 0.7662\nEpoch 615/1000\n5/5 [==============================] - 0s 25ms/step - loss: 0.3452 - accuracy: 0.8565 - val_loss: 0.7114 - val_accuracy: 0.7662\nEpoch 616/1000\n5/5 [==============================] - 0s 37ms/step - loss: 0.3159 - accuracy: 0.8843 - val_loss: 0.7126 - val_accuracy: 0.7662\nEpoch 617/1000\n5/5 [==============================] - 0s 30ms/step - loss: 0.3395 - accuracy: 0.8602 - val_loss: 0.7160 - val_accuracy: 0.7662\nEpoch 618/1000\n5/5 [==============================] - 0s 22ms/step - loss: 0.2737 - accuracy: 0.8843 - val_loss: 0.7189 - val_accuracy: 0.7662\nEpoch 619/1000\n5/5 [==============================] - 0s 25ms/step - loss: 0.3767 - accuracy: 0.8481 - val_loss: 0.7184 - val_accuracy: 0.7662\nEpoch 620/1000\n5/5 [==============================] - 0s 26ms/step - loss: 0.3197 - accuracy: 0.8698 - val_loss: 0.7180 - val_accuracy: 0.7662\nEpoch 621/1000\n5/5 [==============================] - 0s 35ms/step - loss: 0.3245 - accuracy: 0.8856 - val_loss: 0.7168 - val_accuracy: 0.7662\nEpoch 622/1000\n5/5 [==============================] - 0s 25ms/step - loss: 0.3868 - accuracy: 0.8231 - val_loss: 0.7167 - val_accuracy: 0.7662\nEpoch 623/1000\n5/5 [==============================] - 0s 30ms/step - loss: 0.3378 - accuracy: 0.8526 - val_loss: 0.7168 - val_accuracy: 0.7662\nEpoch 624/1000\n5/5 [==============================] - 0s 25ms/step - loss: 0.2882 - accuracy: 0.8774 - val_loss: 0.7181 - val_accuracy: 0.7662\nEpoch 625/1000\n5/5 [==============================] - 0s 30ms/step - loss: 0.3094 - accuracy: 0.8765 - val_loss: 0.7193 - val_accuracy: 0.7662\nEpoch 626/1000\n5/5 [==============================] - 0s 27ms/step - loss: 0.3771 - accuracy: 0.8622 - val_loss: 0.7202 - val_accuracy: 0.7662\nEpoch 627/1000\n5/5 [==============================] - 0s 36ms/step - loss: 0.3191 - accuracy: 0.8643 - val_loss: 0.7203 - val_accuracy: 0.7662\nEpoch 628/1000\n5/5 [==============================] - 0s 24ms/step - loss: 0.3212 - accuracy: 0.8541 - val_loss: 0.7200 - val_accuracy: 0.7662\nEpoch 629/1000\n5/5 [==============================] - 0s 28ms/step - loss: 0.3056 - accuracy: 0.8748 - val_loss: 0.7217 - val_accuracy: 0.7662\nEpoch 630/1000\n5/5 [==============================] - 0s 24ms/step - loss: 0.3418 - accuracy: 0.8561 - val_loss: 0.7232 - val_accuracy: 0.7662\nEpoch 631/1000\n5/5 [==============================] - 0s 29ms/step - loss: 0.3546 - accuracy: 0.8526 - val_loss: 0.7219 - val_accuracy: 0.7662\nEpoch 632/1000\n5/5 [==============================] - 0s 24ms/step - loss: 0.3043 - accuracy: 0.8802 - val_loss: 0.7193 - val_accuracy: 0.7662\nEpoch 633/1000\n5/5 [==============================] - 0s 36ms/step - loss: 0.4005 - accuracy: 0.8166 - val_loss: 0.7187 - val_accuracy: 0.7662\nEpoch 634/1000\n5/5 [==============================] - 0s 34ms/step - loss: 0.3456 - accuracy: 0.8570 - val_loss: 0.7180 - val_accuracy: 0.7662\nEpoch 635/1000\n5/5 [==============================] - 0s 86ms/step - loss: 0.3099 - accuracy: 0.8821 - val_loss: 0.7175 - val_accuracy: 0.7662\nEpoch 636/1000\n5/5 [==============================] - 0s 58ms/step - loss: 0.3521 - accuracy: 0.8409 - val_loss: 0.7189 - val_accuracy: 0.7662\nEpoch 637/1000\n5/5 [==============================] - 0s 47ms/step - loss: 0.3486 - accuracy: 0.8300 - val_loss: 0.7198 - val_accuracy: 0.7662\nEpoch 638/1000\n5/5 [==============================] - 0s 46ms/step - loss: 0.3038 - accuracy: 0.8713 - val_loss: 0.7218 - val_accuracy: 0.7662\nEpoch 639/1000\n5/5 [==============================] - 0s 26ms/step - loss: 0.2833 - accuracy: 0.8980 - val_loss: 0.7233 - val_accuracy: 0.7662\nEpoch 640/1000\n5/5 [==============================] - 0s 42ms/step - loss: 0.2995 - accuracy: 0.8906 - val_loss: 0.7245 - val_accuracy: 0.7662\nEpoch 641/1000\n5/5 [==============================] - 0s 51ms/step - loss: 0.3009 - accuracy: 0.8821 - val_loss: 0.7241 - val_accuracy: 0.7662\nEpoch 642/1000\n5/5 [==============================] - 0s 35ms/step - loss: 0.3149 - accuracy: 0.8804 - val_loss: 0.7247 - val_accuracy: 0.7662\nEpoch 643/1000\n5/5 [==============================] - 0s 43ms/step - loss: 0.3571 - accuracy: 0.8478 - val_loss: 0.7256 - val_accuracy: 0.7662\nEpoch 644/1000\n5/5 [==============================] - 0s 55ms/step - loss: 0.3226 - accuracy: 0.8695 - val_loss: 0.7262 - val_accuracy: 0.7662\nEpoch 645/1000\n5/5 [==============================] - 0s 38ms/step - loss: 0.3253 - accuracy: 0.8626 - val_loss: 0.7257 - val_accuracy: 0.7662\nEpoch 646/1000\n5/5 [==============================] - 0s 40ms/step - loss: 0.3046 - accuracy: 0.8739 - val_loss: 0.7257 - val_accuracy: 0.7662\nEpoch 647/1000\n5/5 [==============================] - 0s 52ms/step - loss: 0.3139 - accuracy: 0.8570 - val_loss: 0.7265 - val_accuracy: 0.7662\nEpoch 648/1000\n5/5 [==============================] - 0s 48ms/step - loss: 0.2879 - accuracy: 0.8793 - val_loss: 0.7264 - val_accuracy: 0.7662\nEpoch 649/1000\n5/5 [==============================] - 0s 45ms/step - loss: 0.3471 - accuracy: 0.8487 - val_loss: 0.7262 - val_accuracy: 0.7662\nEpoch 650/1000\n5/5 [==============================] - 0s 47ms/step - loss: 0.2945 - accuracy: 0.8956 - val_loss: 0.7262 - val_accuracy: 0.7662\nEpoch 651/1000\n5/5 [==============================] - 0s 51ms/step - loss: 0.3178 - accuracy: 0.8847 - val_loss: 0.7265 - val_accuracy: 0.7662\nEpoch 652/1000\n5/5 [==============================] - 0s 41ms/step - loss: 0.3189 - accuracy: 0.8481 - val_loss: 0.7294 - val_accuracy: 0.7662\nEpoch 653/1000\n5/5 [==============================] - 0s 49ms/step - loss: 0.3270 - accuracy: 0.8761 - val_loss: 0.7315 - val_accuracy: 0.7662\nEpoch 654/1000\n5/5 [==============================] - 0s 55ms/step - loss: 0.3598 - accuracy: 0.8604 - val_loss: 0.7333 - val_accuracy: 0.7662\nEpoch 655/1000\n5/5 [==============================] - 0s 43ms/step - loss: 0.3096 - accuracy: 0.8580 - val_loss: 0.7358 - val_accuracy: 0.7662\nEpoch 656/1000\n5/5 [==============================] - 0s 47ms/step - loss: 0.3186 - accuracy: 0.8722 - val_loss: 0.7375 - val_accuracy: 0.7662\nEpoch 657/1000\n5/5 [==============================] - 0s 41ms/step - loss: 0.3293 - accuracy: 0.8628 - val_loss: 0.7414 - val_accuracy: 0.7662\nEpoch 658/1000\n5/5 [==============================] - 0s 46ms/step - loss: 0.2990 - accuracy: 0.8830 - val_loss: 0.7439 - val_accuracy: 0.7792\nEpoch 659/1000\n5/5 [==============================] - 0s 45ms/step - loss: 0.3231 - accuracy: 0.8530 - val_loss: 0.7459 - val_accuracy: 0.7792\nEpoch 660/1000\n5/5 [==============================] - 0s 38ms/step - loss: 0.2962 - accuracy: 0.8921 - val_loss: 0.7470 - val_accuracy: 0.7792\nEpoch 661/1000\n5/5 [==============================] - 0s 45ms/step - loss: 0.3716 - accuracy: 0.8201 - val_loss: 0.7473 - val_accuracy: 0.7792\nEpoch 662/1000\n5/5 [==============================] - 0s 57ms/step - loss: 0.2960 - accuracy: 0.8939 - val_loss: 0.7458 - val_accuracy: 0.7662\nEpoch 663/1000\n5/5 [==============================] - 0s 27ms/step - loss: 0.3054 - accuracy: 0.8604 - val_loss: 0.7441 - val_accuracy: 0.7662\nEpoch 664/1000\n5/5 [==============================] - 0s 36ms/step - loss: 0.3329 - accuracy: 0.8587 - val_loss: 0.7435 - val_accuracy: 0.7662\nEpoch 665/1000\n5/5 [==============================] - 0s 38ms/step - loss: 0.3398 - accuracy: 0.8522 - val_loss: 0.7424 - val_accuracy: 0.7662\nEpoch 666/1000\n5/5 [==============================] - 0s 39ms/step - loss: 0.3632 - accuracy: 0.8309 - val_loss: 0.7429 - val_accuracy: 0.7662\nEpoch 667/1000\n5/5 [==============================] - 0s 23ms/step - loss: 0.3271 - accuracy: 0.8578 - val_loss: 0.7402 - val_accuracy: 0.7662\nEpoch 668/1000\n5/5 [==============================] - 0s 27ms/step - loss: 0.3456 - accuracy: 0.8654 - val_loss: 0.7379 - val_accuracy: 0.7662\nEpoch 669/1000\n5/5 [==============================] - 0s 26ms/step - loss: 0.3084 - accuracy: 0.8769 - val_loss: 0.7366 - val_accuracy: 0.7662\nEpoch 670/1000\n5/5 [==============================] - 0s 27ms/step - loss: 0.3396 - accuracy: 0.8450 - val_loss: 0.7351 - val_accuracy: 0.7662\nEpoch 671/1000\n5/5 [==============================] - 0s 28ms/step - loss: 0.2749 - accuracy: 0.8962 - val_loss: 0.7344 - val_accuracy: 0.7662\nEpoch 672/1000\n5/5 [==============================] - 0s 26ms/step - loss: 0.3085 - accuracy: 0.8752 - val_loss: 0.7347 - val_accuracy: 0.7662\nEpoch 673/1000\n5/5 [==============================] - 0s 20ms/step - loss: 0.3364 - accuracy: 0.8659 - val_loss: 0.7360 - val_accuracy: 0.7662\nEpoch 674/1000\n5/5 [==============================] - 0s 24ms/step - loss: 0.3043 - accuracy: 0.8628 - val_loss: 0.7382 - val_accuracy: 0.7662\nEpoch 675/1000\n5/5 [==============================] - 0s 25ms/step - loss: 0.3141 - accuracy: 0.8574 - val_loss: 0.7404 - val_accuracy: 0.7662\nEpoch 676/1000\n5/5 [==============================] - 0s 32ms/step - loss: 0.3041 - accuracy: 0.8715 - val_loss: 0.7418 - val_accuracy: 0.7662\nEpoch 677/1000\n5/5 [==============================] - 0s 24ms/step - loss: 0.3398 - accuracy: 0.8591 - val_loss: 0.7423 - val_accuracy: 0.7662\nEpoch 678/1000\n5/5 [==============================] - 0s 24ms/step - loss: 0.2858 - accuracy: 0.8897 - val_loss: 0.7429 - val_accuracy: 0.7662\nEpoch 679/1000\n5/5 [==============================] - 0s 29ms/step - loss: 0.3549 - accuracy: 0.8691 - val_loss: 0.7412 - val_accuracy: 0.7662\nEpoch 680/1000\n5/5 [==============================] - 0s 28ms/step - loss: 0.2826 - accuracy: 0.8889 - val_loss: 0.7414 - val_accuracy: 0.7662\nEpoch 681/1000\n5/5 [==============================] - 0s 28ms/step - loss: 0.3295 - accuracy: 0.8797 - val_loss: 0.7398 - val_accuracy: 0.7662\nEpoch 682/1000\n5/5 [==============================] - 0s 20ms/step - loss: 0.3087 - accuracy: 0.8669 - val_loss: 0.7396 - val_accuracy: 0.7662\nEpoch 683/1000\n5/5 [==============================] - 0s 30ms/step - loss: 0.3198 - accuracy: 0.8715 - val_loss: 0.7398 - val_accuracy: 0.7662\nEpoch 684/1000\n5/5 [==============================] - 0s 24ms/step - loss: 0.3335 - accuracy: 0.8405 - val_loss: 0.7403 - val_accuracy: 0.7662\nEpoch 685/1000\n5/5 [==============================] - 0s 36ms/step - loss: 0.3381 - accuracy: 0.8487 - val_loss: 0.7401 - val_accuracy: 0.7662\nEpoch 686/1000\n5/5 [==============================] - 0s 32ms/step - loss: 0.3317 - accuracy: 0.8646 - val_loss: 0.7378 - val_accuracy: 0.7532\nEpoch 687/1000\n5/5 [==============================] - 0s 28ms/step - loss: 0.3320 - accuracy: 0.8494 - val_loss: 0.7378 - val_accuracy: 0.7532\nEpoch 688/1000\n5/5 [==============================] - 0s 34ms/step - loss: 0.3607 - accuracy: 0.8748 - val_loss: 0.7377 - val_accuracy: 0.7532\nEpoch 689/1000\n5/5 [==============================] - 0s 26ms/step - loss: 0.3426 - accuracy: 0.8685 - val_loss: 0.7386 - val_accuracy: 0.7532\nEpoch 690/1000\n5/5 [==============================] - 0s 33ms/step - loss: 0.3549 - accuracy: 0.8355 - val_loss: 0.7401 - val_accuracy: 0.7532\nEpoch 691/1000\n5/5 [==============================] - 0s 24ms/step - loss: 0.3319 - accuracy: 0.8439 - val_loss: 0.7407 - val_accuracy: 0.7532\nEpoch 692/1000\n5/5 [==============================] - 0s 27ms/step - loss: 0.2942 - accuracy: 0.8826 - val_loss: 0.7434 - val_accuracy: 0.7662\nEpoch 693/1000\n5/5 [==============================] - 0s 29ms/step - loss: 0.2845 - accuracy: 0.8908 - val_loss: 0.7453 - val_accuracy: 0.7662\nEpoch 694/1000\n5/5 [==============================] - 0s 31ms/step - loss: 0.3022 - accuracy: 0.8776 - val_loss: 0.7465 - val_accuracy: 0.7662\nEpoch 695/1000\n5/5 [==============================] - 0s 25ms/step - loss: 0.3466 - accuracy: 0.8537 - val_loss: 0.7455 - val_accuracy: 0.7662\nEpoch 696/1000\n5/5 [==============================] - 0s 30ms/step - loss: 0.3267 - accuracy: 0.8761 - val_loss: 0.7426 - val_accuracy: 0.7662\nEpoch 697/1000\n5/5 [==============================] - 0s 32ms/step - loss: 0.3615 - accuracy: 0.8513 - val_loss: 0.7415 - val_accuracy: 0.7662\nEpoch 698/1000\n5/5 [==============================] - 0s 25ms/step - loss: 0.3513 - accuracy: 0.8452 - val_loss: 0.7400 - val_accuracy: 0.7662\nEpoch 699/1000\n5/5 [==============================] - 0s 26ms/step - loss: 0.3535 - accuracy: 0.8457 - val_loss: 0.7409 - val_accuracy: 0.7662\nEpoch 700/1000\n5/5 [==============================] - 0s 34ms/step - loss: 0.3287 - accuracy: 0.8832 - val_loss: 0.7419 - val_accuracy: 0.7662\nEpoch 701/1000\n5/5 [==============================] - 0s 27ms/step - loss: 0.3274 - accuracy: 0.8628 - val_loss: 0.7431 - val_accuracy: 0.7662\nEpoch 702/1000\n5/5 [==============================] - 0s 24ms/step - loss: 0.3112 - accuracy: 0.8748 - val_loss: 0.7454 - val_accuracy: 0.7662\nEpoch 703/1000\n5/5 [==============================] - 0s 21ms/step - loss: 0.3282 - accuracy: 0.8685 - val_loss: 0.7477 - val_accuracy: 0.7662\nEpoch 704/1000\n5/5 [==============================] - 0s 24ms/step - loss: 0.3115 - accuracy: 0.8732 - val_loss: 0.7503 - val_accuracy: 0.7662\nEpoch 705/1000\n5/5 [==============================] - 0s 35ms/step - loss: 0.3148 - accuracy: 0.8552 - val_loss: 0.7520 - val_accuracy: 0.7662\nEpoch 706/1000\n5/5 [==============================] - 0s 35ms/step - loss: 0.2963 - accuracy: 0.8708 - val_loss: 0.7539 - val_accuracy: 0.7792\nEpoch 707/1000\n5/5 [==============================] - 0s 36ms/step - loss: 0.3254 - accuracy: 0.8619 - val_loss: 0.7544 - val_accuracy: 0.7792\nEpoch 708/1000\n5/5 [==============================] - 0s 19ms/step - loss: 0.3325 - accuracy: 0.8656 - val_loss: 0.7526 - val_accuracy: 0.7662\nEpoch 709/1000\n5/5 [==============================] - 0s 25ms/step - loss: 0.2873 - accuracy: 0.8893 - val_loss: 0.7510 - val_accuracy: 0.7662\nEpoch 710/1000\n5/5 [==============================] - 0s 23ms/step - loss: 0.3104 - accuracy: 0.8478 - val_loss: 0.7510 - val_accuracy: 0.7662\nEpoch 711/1000\n5/5 [==============================] - 0s 25ms/step - loss: 0.3661 - accuracy: 0.8517 - val_loss: 0.7499 - val_accuracy: 0.7662\nEpoch 712/1000\n5/5 [==============================] - 0s 42ms/step - loss: 0.3240 - accuracy: 0.8698 - val_loss: 0.7506 - val_accuracy: 0.7662\nEpoch 713/1000\n5/5 [==============================] - 0s 28ms/step - loss: 0.3264 - accuracy: 0.8646 - val_loss: 0.7523 - val_accuracy: 0.7662\nEpoch 714/1000\n5/5 [==============================] - 0s 23ms/step - loss: 0.3745 - accuracy: 0.8522 - val_loss: 0.7544 - val_accuracy: 0.7662\nEpoch 715/1000\n5/5 [==============================] - 0s 26ms/step - loss: 0.3284 - accuracy: 0.8563 - val_loss: 0.7540 - val_accuracy: 0.7662\nEpoch 716/1000\n5/5 [==============================] - 0s 31ms/step - loss: 0.3354 - accuracy: 0.8583 - val_loss: 0.7539 - val_accuracy: 0.7662\nEpoch 717/1000\n5/5 [==============================] - 0s 30ms/step - loss: 0.2897 - accuracy: 0.8945 - val_loss: 0.7539 - val_accuracy: 0.7662\nEpoch 718/1000\n5/5 [==============================] - 0s 31ms/step - loss: 0.2972 - accuracy: 0.8717 - val_loss: 0.7547 - val_accuracy: 0.7662\nEpoch 719/1000\n5/5 [==============================] - 0s 34ms/step - loss: 0.2736 - accuracy: 0.8858 - val_loss: 0.7564 - val_accuracy: 0.7662\nEpoch 720/1000\n5/5 [==============================] - 0s 29ms/step - loss: 0.2997 - accuracy: 0.8882 - val_loss: 0.7579 - val_accuracy: 0.7662\nEpoch 721/1000\n5/5 [==============================] - 0s 31ms/step - loss: 0.3270 - accuracy: 0.8604 - val_loss: 0.7595 - val_accuracy: 0.7662\nEpoch 722/1000\n5/5 [==============================] - 0s 23ms/step - loss: 0.3715 - accuracy: 0.8188 - val_loss: 0.7600 - val_accuracy: 0.7662\nEpoch 723/1000\n5/5 [==============================] - 0s 30ms/step - loss: 0.2987 - accuracy: 0.8828 - val_loss: 0.7603 - val_accuracy: 0.7662\nEpoch 724/1000\n5/5 [==============================] - 0s 23ms/step - loss: 0.3569 - accuracy: 0.8533 - val_loss: 0.7602 - val_accuracy: 0.7662\nEpoch 725/1000\n5/5 [==============================] - 0s 26ms/step - loss: 0.3440 - accuracy: 0.8765 - val_loss: 0.7599 - val_accuracy: 0.7662\nEpoch 726/1000\n5/5 [==============================] - 0s 26ms/step - loss: 0.3097 - accuracy: 0.8824 - val_loss: 0.7597 - val_accuracy: 0.7662\nEpoch 727/1000\n5/5 [==============================] - 0s 20ms/step - loss: 0.3178 - accuracy: 0.8654 - val_loss: 0.7591 - val_accuracy: 0.7662\nEpoch 728/1000\n5/5 [==============================] - 0s 29ms/step - loss: 0.3203 - accuracy: 0.8578 - val_loss: 0.7573 - val_accuracy: 0.7662\nEpoch 729/1000\n5/5 [==============================] - 0s 31ms/step - loss: 0.2854 - accuracy: 0.8743 - val_loss: 0.7543 - val_accuracy: 0.7662\nEpoch 730/1000\n5/5 [==============================] - 0s 28ms/step - loss: 0.3424 - accuracy: 0.8609 - val_loss: 0.7529 - val_accuracy: 0.7662\nEpoch 731/1000\n5/5 [==============================] - 0s 21ms/step - loss: 0.3718 - accuracy: 0.8502 - val_loss: 0.7531 - val_accuracy: 0.7662\nEpoch 732/1000\n5/5 [==============================] - 0s 23ms/step - loss: 0.3368 - accuracy: 0.8602 - val_loss: 0.7544 - val_accuracy: 0.7662\nEpoch 733/1000\n5/5 [==============================] - 0s 29ms/step - loss: 0.3396 - accuracy: 0.8418 - val_loss: 0.7563 - val_accuracy: 0.7662\nEpoch 734/1000\n5/5 [==============================] - 0s 30ms/step - loss: 0.3856 - accuracy: 0.8353 - val_loss: 0.7579 - val_accuracy: 0.7662\nEpoch 735/1000\n5/5 [==============================] - 0s 22ms/step - loss: 0.3362 - accuracy: 0.8646 - val_loss: 0.7592 - val_accuracy: 0.7662\nEpoch 736/1000\n5/5 [==============================] - 0s 21ms/step - loss: 0.3446 - accuracy: 0.8591 - val_loss: 0.7574 - val_accuracy: 0.7662\nEpoch 737/1000\n5/5 [==============================] - 0s 20ms/step - loss: 0.2872 - accuracy: 0.8726 - val_loss: 0.7562 - val_accuracy: 0.7662\nEpoch 738/1000\n5/5 [==============================] - 0s 28ms/step - loss: 0.2972 - accuracy: 0.8856 - val_loss: 0.7546 - val_accuracy: 0.7662\nEpoch 739/1000\n5/5 [==============================] - 0s 24ms/step - loss: 0.2787 - accuracy: 0.8908 - val_loss: 0.7539 - val_accuracy: 0.7662\nEpoch 740/1000\n5/5 [==============================] - 0s 26ms/step - loss: 0.3043 - accuracy: 0.8808 - val_loss: 0.7534 - val_accuracy: 0.7662\nEpoch 741/1000\n5/5 [==============================] - 0s 32ms/step - loss: 0.3415 - accuracy: 0.8546 - val_loss: 0.7541 - val_accuracy: 0.7662\nEpoch 742/1000\n5/5 [==============================] - 0s 31ms/step - loss: 0.3043 - accuracy: 0.8622 - val_loss: 0.7548 - val_accuracy: 0.7662\nEpoch 743/1000\n5/5 [==============================] - 0s 28ms/step - loss: 0.2987 - accuracy: 0.9119 - val_loss: 0.7544 - val_accuracy: 0.7532\nEpoch 744/1000\n5/5 [==============================] - 0s 34ms/step - loss: 0.2919 - accuracy: 0.8832 - val_loss: 0.7538 - val_accuracy: 0.7532\nEpoch 745/1000\n5/5 [==============================] - 0s 36ms/step - loss: 0.3249 - accuracy: 0.8787 - val_loss: 0.7540 - val_accuracy: 0.7532\nEpoch 746/1000\n5/5 [==============================] - 0s 26ms/step - loss: 0.2720 - accuracy: 0.8869 - val_loss: 0.7546 - val_accuracy: 0.7532\nEpoch 747/1000\n5/5 [==============================] - 0s 28ms/step - loss: 0.3039 - accuracy: 0.8882 - val_loss: 0.7550 - val_accuracy: 0.7532\nEpoch 748/1000\n5/5 [==============================] - 0s 26ms/step - loss: 0.3543 - accuracy: 0.8561 - val_loss: 0.7575 - val_accuracy: 0.7532\nEpoch 749/1000\n5/5 [==============================] - 0s 27ms/step - loss: 0.3299 - accuracy: 0.8444 - val_loss: 0.7578 - val_accuracy: 0.7532\nEpoch 750/1000\n5/5 [==============================] - 0s 28ms/step - loss: 0.3148 - accuracy: 0.8824 - val_loss: 0.7565 - val_accuracy: 0.7532\nEpoch 751/1000\n5/5 [==============================] - 0s 43ms/step - loss: 0.3098 - accuracy: 0.8758 - val_loss: 0.7573 - val_accuracy: 0.7532\nEpoch 752/1000\n5/5 [==============================] - 0s 21ms/step - loss: 0.3185 - accuracy: 0.8500 - val_loss: 0.7579 - val_accuracy: 0.7662\nEpoch 753/1000\n5/5 [==============================] - 0s 31ms/step - loss: 0.3126 - accuracy: 0.8708 - val_loss: 0.7597 - val_accuracy: 0.7662\nEpoch 754/1000\n5/5 [==============================] - 0s 24ms/step - loss: 0.2896 - accuracy: 0.8758 - val_loss: 0.7635 - val_accuracy: 0.7662\nEpoch 755/1000\n5/5 [==============================] - 0s 22ms/step - loss: 0.3315 - accuracy: 0.8548 - val_loss: 0.7642 - val_accuracy: 0.7662\nEpoch 756/1000\n5/5 [==============================] - 0s 23ms/step - loss: 0.2996 - accuracy: 0.8975 - val_loss: 0.7641 - val_accuracy: 0.7532\nEpoch 757/1000\n5/5 [==============================] - 0s 24ms/step - loss: 0.3252 - accuracy: 0.8860 - val_loss: 0.7631 - val_accuracy: 0.7532\nEpoch 758/1000\n5/5 [==============================] - 0s 25ms/step - loss: 0.3370 - accuracy: 0.8728 - val_loss: 0.7634 - val_accuracy: 0.7532\nEpoch 759/1000\n5/5 [==============================] - 0s 24ms/step - loss: 0.3004 - accuracy: 0.8841 - val_loss: 0.7652 - val_accuracy: 0.7532\nEpoch 760/1000\n5/5 [==============================] - 0s 27ms/step - loss: 0.3232 - accuracy: 0.8583 - val_loss: 0.7678 - val_accuracy: 0.7662\nEpoch 761/1000\n5/5 [==============================] - 1s 185ms/step - loss: 0.3113 - accuracy: 0.8752 - val_loss: 0.7702 - val_accuracy: 0.7662\nEpoch 762/1000\n5/5 [==============================] - 0s 25ms/step - loss: 0.2851 - accuracy: 0.8910 - val_loss: 0.7698 - val_accuracy: 0.7662\nEpoch 763/1000\n5/5 [==============================] - 0s 28ms/step - loss: 0.3254 - accuracy: 0.8665 - val_loss: 0.7711 - val_accuracy: 0.7662\nEpoch 764/1000\n5/5 [==============================] - 0s 27ms/step - loss: 0.3157 - accuracy: 0.8544 - val_loss: 0.7722 - val_accuracy: 0.7532\nEpoch 765/1000\n5/5 [==============================] - 0s 36ms/step - loss: 0.2923 - accuracy: 0.8780 - val_loss: 0.7721 - val_accuracy: 0.7662\nEpoch 766/1000\n5/5 [==============================] - 0s 28ms/step - loss: 0.3226 - accuracy: 0.8483 - val_loss: 0.7737 - val_accuracy: 0.7662\nEpoch 767/1000\n5/5 [==============================] - 0s 25ms/step - loss: 0.3003 - accuracy: 0.8632 - val_loss: 0.7745 - val_accuracy: 0.7662\nEpoch 768/1000\n5/5 [==============================] - 0s 27ms/step - loss: 0.3118 - accuracy: 0.8617 - val_loss: 0.7754 - val_accuracy: 0.7662\nEpoch 769/1000\n5/5 [==============================] - 0s 24ms/step - loss: 0.2833 - accuracy: 0.8867 - val_loss: 0.7751 - val_accuracy: 0.7662\nEpoch 770/1000\n5/5 [==============================] - 0s 23ms/step - loss: 0.3163 - accuracy: 0.8787 - val_loss: 0.7761 - val_accuracy: 0.7662\nEpoch 771/1000\n5/5 [==============================] - 0s 27ms/step - loss: 0.3283 - accuracy: 0.8498 - val_loss: 0.7767 - val_accuracy: 0.7662\nEpoch 772/1000\n5/5 [==============================] - 0s 32ms/step - loss: 0.3047 - accuracy: 0.8745 - val_loss: 0.7786 - val_accuracy: 0.7662\nEpoch 773/1000\n5/5 [==============================] - 0s 26ms/step - loss: 0.3670 - accuracy: 0.8402 - val_loss: 0.7787 - val_accuracy: 0.7662\nEpoch 774/1000\n5/5 [==============================] - 0s 27ms/step - loss: 0.3343 - accuracy: 0.8619 - val_loss: 0.7787 - val_accuracy: 0.7662\nEpoch 775/1000\n5/5 [==============================] - 0s 24ms/step - loss: 0.3151 - accuracy: 0.8735 - val_loss: 0.7783 - val_accuracy: 0.7662\nEpoch 776/1000\n5/5 [==============================] - 0s 36ms/step - loss: 0.2956 - accuracy: 0.8652 - val_loss: 0.7786 - val_accuracy: 0.7662\nEpoch 777/1000\n5/5 [==============================] - 0s 22ms/step - loss: 0.2928 - accuracy: 0.8813 - val_loss: 0.7779 - val_accuracy: 0.7662\nEpoch 778/1000\n5/5 [==============================] - 0s 27ms/step - loss: 0.3366 - accuracy: 0.8491 - val_loss: 0.7766 - val_accuracy: 0.7662\nEpoch 779/1000\n5/5 [==============================] - 0s 25ms/step - loss: 0.3509 - accuracy: 0.8437 - val_loss: 0.7756 - val_accuracy: 0.7662\nEpoch 780/1000\n5/5 [==============================] - 0s 25ms/step - loss: 0.3303 - accuracy: 0.8374 - val_loss: 0.7737 - val_accuracy: 0.7662\nEpoch 781/1000\n5/5 [==============================] - 0s 27ms/step - loss: 0.2705 - accuracy: 0.8832 - val_loss: 0.7710 - val_accuracy: 0.7662\nEpoch 782/1000\n5/5 [==============================] - 0s 27ms/step - loss: 0.3055 - accuracy: 0.8596 - val_loss: 0.7693 - val_accuracy: 0.7662\nEpoch 783/1000\n5/5 [==============================] - 0s 28ms/step - loss: 0.3138 - accuracy: 0.8609 - val_loss: 0.7691 - val_accuracy: 0.7662\nEpoch 784/1000\n5/5 [==============================] - 0s 22ms/step - loss: 0.2995 - accuracy: 0.8795 - val_loss: 0.7695 - val_accuracy: 0.7662\nEpoch 785/1000\n5/5 [==============================] - 0s 25ms/step - loss: 0.2927 - accuracy: 0.8860 - val_loss: 0.7699 - val_accuracy: 0.7662\nEpoch 786/1000\n5/5 [==============================] - 0s 25ms/step - loss: 0.3193 - accuracy: 0.8687 - val_loss: 0.7717 - val_accuracy: 0.7662\nEpoch 787/1000\n5/5 [==============================] - 0s 24ms/step - loss: 0.3141 - accuracy: 0.8622 - val_loss: 0.7721 - val_accuracy: 0.7662\nEpoch 788/1000\n5/5 [==============================] - 0s 25ms/step - loss: 0.3594 - accuracy: 0.8535 - val_loss: 0.7725 - val_accuracy: 0.7662\nEpoch 789/1000\n5/5 [==============================] - 0s 26ms/step - loss: 0.3122 - accuracy: 0.8567 - val_loss: 0.7730 - val_accuracy: 0.7662\nEpoch 790/1000\n5/5 [==============================] - 0s 30ms/step - loss: 0.3246 - accuracy: 0.8687 - val_loss: 0.7732 - val_accuracy: 0.7662\nEpoch 791/1000\n5/5 [==============================] - 0s 23ms/step - loss: 0.2883 - accuracy: 0.8847 - val_loss: 0.7724 - val_accuracy: 0.7662\nEpoch 792/1000\n5/5 [==============================] - 0s 32ms/step - loss: 0.3774 - accuracy: 0.8331 - val_loss: 0.7707 - val_accuracy: 0.7662\nEpoch 793/1000\n5/5 [==============================] - 0s 23ms/step - loss: 0.2885 - accuracy: 0.8732 - val_loss: 0.7710 - val_accuracy: 0.7662\nEpoch 794/1000\n5/5 [==============================] - 0s 26ms/step - loss: 0.3088 - accuracy: 0.8661 - val_loss: 0.7710 - val_accuracy: 0.7662\nEpoch 795/1000\n5/5 [==============================] - 0s 26ms/step - loss: 0.3428 - accuracy: 0.8498 - val_loss: 0.7713 - val_accuracy: 0.7662\nEpoch 796/1000\n5/5 [==============================] - 0s 27ms/step - loss: 0.2864 - accuracy: 0.8847 - val_loss: 0.7715 - val_accuracy: 0.7662\nEpoch 797/1000\n5/5 [==============================] - 0s 25ms/step - loss: 0.3175 - accuracy: 0.8652 - val_loss: 0.7720 - val_accuracy: 0.7662\nEpoch 798/1000\n5/5 [==============================] - 0s 25ms/step - loss: 0.3236 - accuracy: 0.8663 - val_loss: 0.7725 - val_accuracy: 0.7662\nEpoch 799/1000\n5/5 [==============================] - 0s 28ms/step - loss: 0.3103 - accuracy: 0.8596 - val_loss: 0.7720 - val_accuracy: 0.7662\nEpoch 800/1000\n5/5 [==============================] - 0s 23ms/step - loss: 0.3575 - accuracy: 0.8517 - val_loss: 0.7712 - val_accuracy: 0.7662\nEpoch 801/1000\n5/5 [==============================] - 0s 25ms/step - loss: 0.2841 - accuracy: 0.8891 - val_loss: 0.7714 - val_accuracy: 0.7662\nEpoch 802/1000\n5/5 [==============================] - 0s 23ms/step - loss: 0.3218 - accuracy: 0.8498 - val_loss: 0.7714 - val_accuracy: 0.7662\nEpoch 803/1000\n5/5 [==============================] - 0s 25ms/step - loss: 0.2946 - accuracy: 0.8737 - val_loss: 0.7725 - val_accuracy: 0.7662\nEpoch 804/1000\n5/5 [==============================] - 0s 24ms/step - loss: 0.3113 - accuracy: 0.8667 - val_loss: 0.7733 - val_accuracy: 0.7662\nEpoch 805/1000\n5/5 [==============================] - 0s 26ms/step - loss: 0.3168 - accuracy: 0.8761 - val_loss: 0.7726 - val_accuracy: 0.7662\nEpoch 806/1000\n5/5 [==============================] - 0s 29ms/step - loss: 0.3321 - accuracy: 0.8452 - val_loss: 0.7719 - val_accuracy: 0.7662\nEpoch 807/1000\n5/5 [==============================] - 0s 33ms/step - loss: 0.3208 - accuracy: 0.8650 - val_loss: 0.7722 - val_accuracy: 0.7662\nEpoch 808/1000\n5/5 [==============================] - 0s 41ms/step - loss: 0.3375 - accuracy: 0.8567 - val_loss: 0.7720 - val_accuracy: 0.7662\nEpoch 809/1000\n5/5 [==============================] - 0s 28ms/step - loss: 0.3027 - accuracy: 0.8554 - val_loss: 0.7725 - val_accuracy: 0.7662\nEpoch 810/1000\n5/5 [==============================] - 0s 52ms/step - loss: 0.3250 - accuracy: 0.8780 - val_loss: 0.7733 - val_accuracy: 0.7662\nEpoch 811/1000\n5/5 [==============================] - 0s 72ms/step - loss: 0.2644 - accuracy: 0.8732 - val_loss: 0.7750 - val_accuracy: 0.7662\nEpoch 812/1000\n5/5 [==============================] - 0s 26ms/step - loss: 0.3091 - accuracy: 0.8630 - val_loss: 0.7758 - val_accuracy: 0.7662\nEpoch 813/1000\n5/5 [==============================] - 0s 29ms/step - loss: 0.3071 - accuracy: 0.8702 - val_loss: 0.7772 - val_accuracy: 0.7662\nEpoch 814/1000\n5/5 [==============================] - 0s 25ms/step - loss: 0.3067 - accuracy: 0.8843 - val_loss: 0.7776 - val_accuracy: 0.7662\nEpoch 815/1000\n5/5 [==============================] - 0s 30ms/step - loss: 0.2940 - accuracy: 0.8691 - val_loss: 0.7787 - val_accuracy: 0.7662\nEpoch 816/1000\n5/5 [==============================] - 0s 27ms/step - loss: 0.2940 - accuracy: 0.8531 - val_loss: 0.7794 - val_accuracy: 0.7662\nEpoch 817/1000\n5/5 [==============================] - 0s 21ms/step - loss: 0.3237 - accuracy: 0.8908 - val_loss: 0.7801 - val_accuracy: 0.7662\nEpoch 818/1000\n5/5 [==============================] - 0s 29ms/step - loss: 0.2744 - accuracy: 0.8982 - val_loss: 0.7811 - val_accuracy: 0.7662\nEpoch 819/1000\n5/5 [==============================] - 0s 29ms/step - loss: 0.3309 - accuracy: 0.8669 - val_loss: 0.7824 - val_accuracy: 0.7662\nEpoch 820/1000\n5/5 [==============================] - 0s 25ms/step - loss: 0.3286 - accuracy: 0.8854 - val_loss: 0.7836 - val_accuracy: 0.7662\nEpoch 821/1000\n5/5 [==============================] - 0s 30ms/step - loss: 0.3507 - accuracy: 0.8398 - val_loss: 0.7862 - val_accuracy: 0.7662\nEpoch 822/1000\n5/5 [==============================] - 0s 26ms/step - loss: 0.2880 - accuracy: 0.8902 - val_loss: 0.7876 - val_accuracy: 0.7662\nEpoch 823/1000\n5/5 [==============================] - 0s 42ms/step - loss: 0.2843 - accuracy: 0.8995 - val_loss: 0.7896 - val_accuracy: 0.7662\nEpoch 824/1000\n5/5 [==============================] - 0s 30ms/step - loss: 0.3286 - accuracy: 0.8752 - val_loss: 0.7919 - val_accuracy: 0.7662\nEpoch 825/1000\n5/5 [==============================] - 0s 41ms/step - loss: 0.2847 - accuracy: 0.8886 - val_loss: 0.7932 - val_accuracy: 0.7662\nEpoch 826/1000\n5/5 [==============================] - 0s 26ms/step - loss: 0.3087 - accuracy: 0.8709 - val_loss: 0.7938 - val_accuracy: 0.7662\nEpoch 827/1000\n5/5 [==============================] - 0s 26ms/step - loss: 0.3077 - accuracy: 0.8672 - val_loss: 0.7943 - val_accuracy: 0.7662\nEpoch 828/1000\n5/5 [==============================] - 0s 32ms/step - loss: 0.3107 - accuracy: 0.8515 - val_loss: 0.7924 - val_accuracy: 0.7662\nEpoch 829/1000\n5/5 [==============================] - 0s 28ms/step - loss: 0.3383 - accuracy: 0.8678 - val_loss: 0.7917 - val_accuracy: 0.7662\nEpoch 830/1000\n5/5 [==============================] - 0s 25ms/step - loss: 0.3769 - accuracy: 0.8370 - val_loss: 0.7943 - val_accuracy: 0.7662\nEpoch 831/1000\n5/5 [==============================] - 0s 33ms/step - loss: 0.3927 - accuracy: 0.8368 - val_loss: 0.7938 - val_accuracy: 0.7662\nEpoch 832/1000\n5/5 [==============================] - 0s 29ms/step - loss: 0.2963 - accuracy: 0.8607 - val_loss: 0.7951 - val_accuracy: 0.7662\nEpoch 833/1000\n5/5 [==============================] - 0s 24ms/step - loss: 0.3053 - accuracy: 0.8609 - val_loss: 0.7968 - val_accuracy: 0.7662\nEpoch 834/1000\n5/5 [==============================] - 0s 26ms/step - loss: 0.3412 - accuracy: 0.8769 - val_loss: 0.7997 - val_accuracy: 0.7662\nEpoch 835/1000\n5/5 [==============================] - 0s 25ms/step - loss: 0.2914 - accuracy: 0.8765 - val_loss: 0.8012 - val_accuracy: 0.7662\nEpoch 836/1000\n5/5 [==============================] - 0s 25ms/step - loss: 0.3111 - accuracy: 0.8550 - val_loss: 0.8021 - val_accuracy: 0.7662\nEpoch 837/1000\n5/5 [==============================] - 0s 30ms/step - loss: 0.3206 - accuracy: 0.8886 - val_loss: 0.8033 - val_accuracy: 0.7662\nEpoch 838/1000\n5/5 [==============================] - 0s 32ms/step - loss: 0.2932 - accuracy: 0.8902 - val_loss: 0.8057 - val_accuracy: 0.7662\nEpoch 839/1000\n5/5 [==============================] - 0s 36ms/step - loss: 0.3271 - accuracy: 0.8448 - val_loss: 0.8069 - val_accuracy: 0.7662\nEpoch 840/1000\n5/5 [==============================] - 0s 56ms/step - loss: 0.3389 - accuracy: 0.8708 - val_loss: 0.8083 - val_accuracy: 0.7662\nEpoch 841/1000\n5/5 [==============================] - 0s 49ms/step - loss: 0.3390 - accuracy: 0.8787 - val_loss: 0.8067 - val_accuracy: 0.7662\nEpoch 842/1000\n5/5 [==============================] - 0s 23ms/step - loss: 0.2711 - accuracy: 0.9017 - val_loss: 0.8066 - val_accuracy: 0.7662\nEpoch 843/1000\n5/5 [==============================] - 0s 44ms/step - loss: 0.3166 - accuracy: 0.8769 - val_loss: 0.8083 - val_accuracy: 0.7662\nEpoch 844/1000\n5/5 [==============================] - 0s 41ms/step - loss: 0.2842 - accuracy: 0.8889 - val_loss: 0.8097 - val_accuracy: 0.7662\nEpoch 845/1000\n5/5 [==============================] - 0s 28ms/step - loss: 0.3234 - accuracy: 0.8646 - val_loss: 0.8085 - val_accuracy: 0.7662\nEpoch 846/1000\n5/5 [==============================] - 0s 59ms/step - loss: 0.3178 - accuracy: 0.8665 - val_loss: 0.8066 - val_accuracy: 0.7662\nEpoch 847/1000\n5/5 [==============================] - 0s 40ms/step - loss: 0.2771 - accuracy: 0.9038 - val_loss: 0.8053 - val_accuracy: 0.7662\nEpoch 848/1000\n5/5 [==============================] - 0s 60ms/step - loss: 0.3249 - accuracy: 0.8641 - val_loss: 0.8053 - val_accuracy: 0.7662\nEpoch 849/1000\n5/5 [==============================] - 0s 71ms/step - loss: 0.2835 - accuracy: 0.8817 - val_loss: 0.8044 - val_accuracy: 0.7662\nEpoch 850/1000\n5/5 [==============================] - 0s 52ms/step - loss: 0.3058 - accuracy: 0.8696 - val_loss: 0.8056 - val_accuracy: 0.7662\nEpoch 851/1000\n5/5 [==============================] - 0s 43ms/step - loss: 0.3513 - accuracy: 0.8652 - val_loss: 0.8057 - val_accuracy: 0.7662\nEpoch 852/1000\n5/5 [==============================] - 0s 47ms/step - loss: 0.2789 - accuracy: 0.8784 - val_loss: 0.8057 - val_accuracy: 0.7662\nEpoch 853/1000\n5/5 [==============================] - 0s 41ms/step - loss: 0.2846 - accuracy: 0.8830 - val_loss: 0.8062 - val_accuracy: 0.7662\nEpoch 854/1000\n5/5 [==============================] - 0s 41ms/step - loss: 0.3508 - accuracy: 0.8639 - val_loss: 0.8052 - val_accuracy: 0.7662\nEpoch 855/1000\n5/5 [==============================] - 0s 36ms/step - loss: 0.3109 - accuracy: 0.8899 - val_loss: 0.8051 - val_accuracy: 0.7662\nEpoch 856/1000\n5/5 [==============================] - 0s 50ms/step - loss: 0.3327 - accuracy: 0.8424 - val_loss: 0.8048 - val_accuracy: 0.7662\nEpoch 857/1000\n5/5 [==============================] - 0s 35ms/step - loss: 0.2705 - accuracy: 0.8873 - val_loss: 0.8060 - val_accuracy: 0.7662\nEpoch 858/1000\n5/5 [==============================] - 0s 48ms/step - loss: 0.3053 - accuracy: 0.8633 - val_loss: 0.8082 - val_accuracy: 0.7662\nEpoch 859/1000\n5/5 [==============================] - 0s 50ms/step - loss: 0.3132 - accuracy: 0.8761 - val_loss: 0.8099 - val_accuracy: 0.7662\nEpoch 860/1000\n5/5 [==============================] - 0s 58ms/step - loss: 0.3379 - accuracy: 0.8735 - val_loss: 0.8109 - val_accuracy: 0.7662\nEpoch 861/1000\n5/5 [==============================] - 0s 61ms/step - loss: 0.3152 - accuracy: 0.8743 - val_loss: 0.8096 - val_accuracy: 0.7662\nEpoch 862/1000\n5/5 [==============================] - 0s 62ms/step - loss: 0.3426 - accuracy: 0.8789 - val_loss: 0.8089 - val_accuracy: 0.7662\nEpoch 863/1000\n5/5 [==============================] - 0s 45ms/step - loss: 0.3090 - accuracy: 0.8719 - val_loss: 0.8081 - val_accuracy: 0.7662\nEpoch 864/1000\n5/5 [==============================] - 0s 38ms/step - loss: 0.2943 - accuracy: 0.8839 - val_loss: 0.8065 - val_accuracy: 0.7662\nEpoch 865/1000\n5/5 [==============================] - 0s 41ms/step - loss: 0.2798 - accuracy: 0.8841 - val_loss: 0.8071 - val_accuracy: 0.7662\nEpoch 866/1000\n5/5 [==============================] - 0s 43ms/step - loss: 0.2829 - accuracy: 0.8902 - val_loss: 0.8086 - val_accuracy: 0.7662\nEpoch 867/1000\n5/5 [==============================] - 0s 55ms/step - loss: 0.3046 - accuracy: 0.8834 - val_loss: 0.8104 - val_accuracy: 0.7662\nEpoch 868/1000\n5/5 [==============================] - 0s 67ms/step - loss: 0.2989 - accuracy: 0.8952 - val_loss: 0.8127 - val_accuracy: 0.7662\nEpoch 869/1000\n5/5 [==============================] - 0s 34ms/step - loss: 0.2741 - accuracy: 0.8930 - val_loss: 0.8154 - val_accuracy: 0.7662\nEpoch 870/1000\n5/5 [==============================] - 0s 26ms/step - loss: 0.3284 - accuracy: 0.8465 - val_loss: 0.8170 - val_accuracy: 0.7662\nEpoch 871/1000\n5/5 [==============================] - 0s 29ms/step - loss: 0.3484 - accuracy: 0.8598 - val_loss: 0.8192 - val_accuracy: 0.7662\nEpoch 872/1000\n5/5 [==============================] - 0s 37ms/step - loss: 0.3488 - accuracy: 0.8515 - val_loss: 0.8212 - val_accuracy: 0.7662\nEpoch 873/1000\n5/5 [==============================] - 0s 25ms/step - loss: 0.3019 - accuracy: 0.8665 - val_loss: 0.8232 - val_accuracy: 0.7662\nEpoch 874/1000\n5/5 [==============================] - 0s 25ms/step - loss: 0.3080 - accuracy: 0.8611 - val_loss: 0.8252 - val_accuracy: 0.7662\nEpoch 875/1000\n5/5 [==============================] - 0s 30ms/step - loss: 0.2957 - accuracy: 0.8583 - val_loss: 0.8254 - val_accuracy: 0.7662\nEpoch 876/1000\n5/5 [==============================] - 0s 21ms/step - loss: 0.2915 - accuracy: 0.8600 - val_loss: 0.8239 - val_accuracy: 0.7662\nEpoch 877/1000\n5/5 [==============================] - 0s 27ms/step - loss: 0.2920 - accuracy: 0.8865 - val_loss: 0.8223 - val_accuracy: 0.7662\nEpoch 878/1000\n5/5 [==============================] - 0s 26ms/step - loss: 0.3286 - accuracy: 0.8483 - val_loss: 0.8209 - val_accuracy: 0.7662\nEpoch 879/1000\n5/5 [==============================] - 0s 25ms/step - loss: 0.2749 - accuracy: 0.8913 - val_loss: 0.8208 - val_accuracy: 0.7662\nEpoch 880/1000\n5/5 [==============================] - 0s 25ms/step - loss: 0.3340 - accuracy: 0.8515 - val_loss: 0.8216 - val_accuracy: 0.7662\nEpoch 881/1000\n5/5 [==============================] - 0s 29ms/step - loss: 0.3321 - accuracy: 0.8296 - val_loss: 0.8232 - val_accuracy: 0.7662\nEpoch 882/1000\n5/5 [==============================] - 0s 26ms/step - loss: 0.2807 - accuracy: 0.8941 - val_loss: 0.8235 - val_accuracy: 0.7662\nEpoch 883/1000\n5/5 [==============================] - 0s 22ms/step - loss: 0.2988 - accuracy: 0.8784 - val_loss: 0.8238 - val_accuracy: 0.7662\nEpoch 884/1000\n5/5 [==============================] - 0s 33ms/step - loss: 0.3016 - accuracy: 0.8624 - val_loss: 0.8232 - val_accuracy: 0.7662\nEpoch 885/1000\n5/5 [==============================] - 0s 26ms/step - loss: 0.2931 - accuracy: 0.8748 - val_loss: 0.8225 - val_accuracy: 0.7662\nEpoch 886/1000\n5/5 [==============================] - 0s 28ms/step - loss: 0.3751 - accuracy: 0.8311 - val_loss: 0.8211 - val_accuracy: 0.7662\nEpoch 887/1000\n5/5 [==============================] - 0s 30ms/step - loss: 0.3444 - accuracy: 0.8402 - val_loss: 0.8205 - val_accuracy: 0.7662\nEpoch 888/1000\n5/5 [==============================] - 0s 25ms/step - loss: 0.3114 - accuracy: 0.8591 - val_loss: 0.8181 - val_accuracy: 0.7662\nEpoch 889/1000\n5/5 [==============================] - 0s 26ms/step - loss: 0.3171 - accuracy: 0.8715 - val_loss: 0.8173 - val_accuracy: 0.7662\nEpoch 890/1000\n5/5 [==============================] - 0s 32ms/step - loss: 0.3132 - accuracy: 0.8691 - val_loss: 0.8168 - val_accuracy: 0.7662\nEpoch 891/1000\n5/5 [==============================] - 0s 21ms/step - loss: 0.3255 - accuracy: 0.8550 - val_loss: 0.8160 - val_accuracy: 0.7662\nEpoch 892/1000\n5/5 [==============================] - 0s 27ms/step - loss: 0.2933 - accuracy: 0.8906 - val_loss: 0.8155 - val_accuracy: 0.7662\nEpoch 893/1000\n5/5 [==============================] - 0s 28ms/step - loss: 0.3084 - accuracy: 0.8548 - val_loss: 0.8138 - val_accuracy: 0.7662\nEpoch 894/1000\n5/5 [==============================] - 0s 30ms/step - loss: 0.2714 - accuracy: 0.8891 - val_loss: 0.8141 - val_accuracy: 0.7662\nEpoch 895/1000\n5/5 [==============================] - 0s 25ms/step - loss: 0.2798 - accuracy: 0.9004 - val_loss: 0.8167 - val_accuracy: 0.7662\nEpoch 896/1000\n5/5 [==============================] - 0s 30ms/step - loss: 0.3086 - accuracy: 0.8418 - val_loss: 0.8189 - val_accuracy: 0.7662\nEpoch 897/1000\n5/5 [==============================] - 0s 29ms/step - loss: 0.3406 - accuracy: 0.8515 - val_loss: 0.8202 - val_accuracy: 0.7662\nEpoch 898/1000\n5/5 [==============================] - 0s 26ms/step - loss: 0.2830 - accuracy: 0.8917 - val_loss: 0.8212 - val_accuracy: 0.7662\nEpoch 899/1000\n5/5 [==============================] - 0s 32ms/step - loss: 0.3264 - accuracy: 0.8641 - val_loss: 0.8211 - val_accuracy: 0.7662\nEpoch 900/1000\n5/5 [==============================] - 0s 27ms/step - loss: 0.2856 - accuracy: 0.8778 - val_loss: 0.8209 - val_accuracy: 0.7662\nEpoch 901/1000\n5/5 [==============================] - 0s 25ms/step - loss: 0.3208 - accuracy: 0.8602 - val_loss: 0.8239 - val_accuracy: 0.7662\nEpoch 902/1000\n5/5 [==============================] - 0s 23ms/step - loss: 0.3142 - accuracy: 0.8656 - val_loss: 0.8269 - val_accuracy: 0.7662\nEpoch 903/1000\n5/5 [==============================] - 0s 27ms/step - loss: 0.2857 - accuracy: 0.8830 - val_loss: 0.8283 - val_accuracy: 0.7662\nEpoch 904/1000\n5/5 [==============================] - 0s 26ms/step - loss: 0.3286 - accuracy: 0.8494 - val_loss: 0.8298 - val_accuracy: 0.7662\nEpoch 905/1000\n5/5 [==============================] - 0s 23ms/step - loss: 0.2930 - accuracy: 0.8826 - val_loss: 0.8323 - val_accuracy: 0.7662\nEpoch 906/1000\n5/5 [==============================] - 0s 23ms/step - loss: 0.3243 - accuracy: 0.8626 - val_loss: 0.8339 - val_accuracy: 0.7662\nEpoch 907/1000\n5/5 [==============================] - 0s 25ms/step - loss: 0.2884 - accuracy: 0.8967 - val_loss: 0.8339 - val_accuracy: 0.7662\nEpoch 908/1000\n5/5 [==============================] - 0s 33ms/step - loss: 0.3053 - accuracy: 0.8850 - val_loss: 0.8337 - val_accuracy: 0.7662\nEpoch 909/1000\n5/5 [==============================] - 0s 18ms/step - loss: 0.2933 - accuracy: 0.8943 - val_loss: 0.8336 - val_accuracy: 0.7662\nEpoch 910/1000\n5/5 [==============================] - 0s 23ms/step - loss: 0.2932 - accuracy: 0.8834 - val_loss: 0.8336 - val_accuracy: 0.7662\nEpoch 911/1000\n5/5 [==============================] - 0s 30ms/step - loss: 0.3022 - accuracy: 0.8743 - val_loss: 0.8313 - val_accuracy: 0.7662\nEpoch 912/1000\n5/5 [==============================] - 0s 23ms/step - loss: 0.2715 - accuracy: 0.9090 - val_loss: 0.8288 - val_accuracy: 0.7662\nEpoch 913/1000\n5/5 [==============================] - 0s 26ms/step - loss: 0.2813 - accuracy: 0.8899 - val_loss: 0.8251 - val_accuracy: 0.7662\nEpoch 914/1000\n5/5 [==============================] - 0s 28ms/step - loss: 0.2981 - accuracy: 0.8685 - val_loss: 0.8229 - val_accuracy: 0.7662\nEpoch 915/1000\n5/5 [==============================] - 0s 28ms/step - loss: 0.2970 - accuracy: 0.8797 - val_loss: 0.8227 - val_accuracy: 0.7662\nEpoch 916/1000\n5/5 [==============================] - 0s 39ms/step - loss: 0.3561 - accuracy: 0.8442 - val_loss: 0.8221 - val_accuracy: 0.7662\nEpoch 917/1000\n5/5 [==============================] - 0s 33ms/step - loss: 0.2902 - accuracy: 0.8689 - val_loss: 0.8231 - val_accuracy: 0.7662\nEpoch 918/1000\n5/5 [==============================] - 0s 28ms/step - loss: 0.2862 - accuracy: 0.8811 - val_loss: 0.8250 - val_accuracy: 0.7662\nEpoch 919/1000\n5/5 [==============================] - 0s 23ms/step - loss: 0.2726 - accuracy: 0.8867 - val_loss: 0.8262 - val_accuracy: 0.7662\nEpoch 920/1000\n5/5 [==============================] - 0s 25ms/step - loss: 0.2982 - accuracy: 0.8806 - val_loss: 0.8276 - val_accuracy: 0.7662\nEpoch 921/1000\n5/5 [==============================] - 0s 26ms/step - loss: 0.3060 - accuracy: 0.8828 - val_loss: 0.8283 - val_accuracy: 0.7662\nEpoch 922/1000\n5/5 [==============================] - 0s 25ms/step - loss: 0.2882 - accuracy: 0.8793 - val_loss: 0.8302 - val_accuracy: 0.7662\nEpoch 923/1000\n5/5 [==============================] - 0s 27ms/step - loss: 0.2877 - accuracy: 0.8639 - val_loss: 0.8342 - val_accuracy: 0.7662\nEpoch 924/1000\n5/5 [==============================] - 0s 26ms/step - loss: 0.2911 - accuracy: 0.8563 - val_loss: 0.8371 - val_accuracy: 0.7662\nEpoch 925/1000\n5/5 [==============================] - 0s 24ms/step - loss: 0.3029 - accuracy: 0.8756 - val_loss: 0.8402 - val_accuracy: 0.7662\nEpoch 926/1000\n5/5 [==============================] - 0s 30ms/step - loss: 0.2883 - accuracy: 0.8843 - val_loss: 0.8422 - val_accuracy: 0.7662\nEpoch 927/1000\n5/5 [==============================] - 0s 28ms/step - loss: 0.3012 - accuracy: 0.8732 - val_loss: 0.8425 - val_accuracy: 0.7662\nEpoch 928/1000\n5/5 [==============================] - 0s 25ms/step - loss: 0.3131 - accuracy: 0.8721 - val_loss: 0.8424 - val_accuracy: 0.7662\nEpoch 929/1000\n5/5 [==============================] - 0s 24ms/step - loss: 0.2931 - accuracy: 0.8819 - val_loss: 0.8437 - val_accuracy: 0.7662\nEpoch 930/1000\n5/5 [==============================] - 0s 26ms/step - loss: 0.2677 - accuracy: 0.8958 - val_loss: 0.8449 - val_accuracy: 0.7662\nEpoch 931/1000\n5/5 [==============================] - 0s 24ms/step - loss: 0.3457 - accuracy: 0.8565 - val_loss: 0.8440 - val_accuracy: 0.7662\nEpoch 932/1000\n5/5 [==============================] - 0s 23ms/step - loss: 0.2617 - accuracy: 0.8908 - val_loss: 0.8451 - val_accuracy: 0.7662\nEpoch 933/1000\n5/5 [==============================] - 0s 24ms/step - loss: 0.2999 - accuracy: 0.8847 - val_loss: 0.8492 - val_accuracy: 0.7662\nEpoch 934/1000\n5/5 [==============================] - 0s 22ms/step - loss: 0.2516 - accuracy: 0.8926 - val_loss: 0.8537 - val_accuracy: 0.7662\nEpoch 935/1000\n5/5 [==============================] - 0s 28ms/step - loss: 0.2700 - accuracy: 0.8804 - val_loss: 0.8566 - val_accuracy: 0.7662\nEpoch 936/1000\n5/5 [==============================] - 0s 24ms/step - loss: 0.2767 - accuracy: 0.8869 - val_loss: 0.8587 - val_accuracy: 0.7662\nEpoch 937/1000\n5/5 [==============================] - 0s 33ms/step - loss: 0.2699 - accuracy: 0.8893 - val_loss: 0.8571 - val_accuracy: 0.7662\nEpoch 938/1000\n5/5 [==============================] - 2s 580ms/step - loss: 0.2983 - accuracy: 0.8715 - val_loss: 0.8552 - val_accuracy: 0.7662\nEpoch 939/1000\n5/5 [==============================] - 0s 26ms/step - loss: 0.3053 - accuracy: 0.8689 - val_loss: 0.8541 - val_accuracy: 0.7662\nEpoch 940/1000\n5/5 [==============================] - 0s 25ms/step - loss: 0.3103 - accuracy: 0.8680 - val_loss: 0.8552 - val_accuracy: 0.7662\nEpoch 941/1000\n5/5 [==============================] - 0s 24ms/step - loss: 0.2858 - accuracy: 0.8915 - val_loss: 0.8590 - val_accuracy: 0.7662\nEpoch 942/1000\n5/5 [==============================] - 0s 26ms/step - loss: 0.2978 - accuracy: 0.8750 - val_loss: 0.8610 - val_accuracy: 0.7532\nEpoch 943/1000\n5/5 [==============================] - 0s 30ms/step - loss: 0.2622 - accuracy: 0.8869 - val_loss: 0.8608 - val_accuracy: 0.7532\nEpoch 944/1000\n5/5 [==============================] - 0s 36ms/step - loss: 0.2838 - accuracy: 0.8882 - val_loss: 0.8585 - val_accuracy: 0.7662\nEpoch 945/1000\n5/5 [==============================] - 0s 28ms/step - loss: 0.3843 - accuracy: 0.8578 - val_loss: 0.8542 - val_accuracy: 0.7662\nEpoch 946/1000\n5/5 [==============================] - 0s 30ms/step - loss: 0.2706 - accuracy: 0.8619 - val_loss: 0.8521 - val_accuracy: 0.7662\nEpoch 947/1000\n5/5 [==============================] - 0s 25ms/step - loss: 0.2724 - accuracy: 0.9041 - val_loss: 0.8511 - val_accuracy: 0.7662\nEpoch 948/1000\n5/5 [==============================] - 0s 34ms/step - loss: 0.2892 - accuracy: 0.8752 - val_loss: 0.8502 - val_accuracy: 0.7662\nEpoch 949/1000\n5/5 [==============================] - 0s 30ms/step - loss: 0.2360 - accuracy: 0.9208 - val_loss: 0.8502 - val_accuracy: 0.7662\nEpoch 950/1000\n5/5 [==============================] - 0s 28ms/step - loss: 0.2797 - accuracy: 0.8984 - val_loss: 0.8522 - val_accuracy: 0.7662\nEpoch 951/1000\n5/5 [==============================] - 0s 27ms/step - loss: 0.2739 - accuracy: 0.8926 - val_loss: 0.8528 - val_accuracy: 0.7662\nEpoch 952/1000\n5/5 [==============================] - 0s 23ms/step - loss: 0.2917 - accuracy: 0.8748 - val_loss: 0.8542 - val_accuracy: 0.7662\nEpoch 953/1000\n5/5 [==============================] - 0s 22ms/step - loss: 0.2791 - accuracy: 0.8732 - val_loss: 0.8539 - val_accuracy: 0.7662\nEpoch 954/1000\n5/5 [==============================] - 0s 27ms/step - loss: 0.2996 - accuracy: 0.8576 - val_loss: 0.8534 - val_accuracy: 0.7662\nEpoch 955/1000\n5/5 [==============================] - 0s 33ms/step - loss: 0.2801 - accuracy: 0.8856 - val_loss: 0.8546 - val_accuracy: 0.7662\nEpoch 956/1000\n5/5 [==============================] - 0s 23ms/step - loss: 0.2620 - accuracy: 0.8973 - val_loss: 0.8570 - val_accuracy: 0.7662\nEpoch 957/1000\n5/5 [==============================] - 0s 22ms/step - loss: 0.3259 - accuracy: 0.8489 - val_loss: 0.8598 - val_accuracy: 0.7532\nEpoch 958/1000\n5/5 [==============================] - 0s 35ms/step - loss: 0.3060 - accuracy: 0.8646 - val_loss: 0.8625 - val_accuracy: 0.7662\nEpoch 959/1000\n5/5 [==============================] - 0s 27ms/step - loss: 0.2712 - accuracy: 0.8852 - val_loss: 0.8647 - val_accuracy: 0.7662\nEpoch 960/1000\n5/5 [==============================] - 0s 25ms/step - loss: 0.2743 - accuracy: 0.9028 - val_loss: 0.8651 - val_accuracy: 0.7662\nEpoch 961/1000\n5/5 [==============================] - 0s 23ms/step - loss: 0.2861 - accuracy: 0.8843 - val_loss: 0.8669 - val_accuracy: 0.7532\nEpoch 962/1000\n5/5 [==============================] - 0s 24ms/step - loss: 0.2856 - accuracy: 0.8819 - val_loss: 0.8699 - val_accuracy: 0.7662\nEpoch 963/1000\n5/5 [==============================] - 0s 24ms/step - loss: 0.2500 - accuracy: 0.9036 - val_loss: 0.8725 - val_accuracy: 0.7662\nEpoch 964/1000\n5/5 [==============================] - 0s 26ms/step - loss: 0.2838 - accuracy: 0.8750 - val_loss: 0.8739 - val_accuracy: 0.7662\nEpoch 965/1000\n5/5 [==============================] - 0s 29ms/step - loss: 0.2840 - accuracy: 0.8930 - val_loss: 0.8744 - val_accuracy: 0.7662\nEpoch 966/1000\n5/5 [==============================] - 0s 41ms/step - loss: 0.3436 - accuracy: 0.8932 - val_loss: 0.8760 - val_accuracy: 0.7662\nEpoch 967/1000\n5/5 [==============================] - 0s 24ms/step - loss: 0.3153 - accuracy: 0.8554 - val_loss: 0.8766 - val_accuracy: 0.7662\nEpoch 968/1000\n5/5 [==============================] - 0s 37ms/step - loss: 0.2886 - accuracy: 0.8991 - val_loss: 0.8770 - val_accuracy: 0.7662\nEpoch 969/1000\n5/5 [==============================] - 2s 407ms/step - loss: 0.3205 - accuracy: 0.8667 - val_loss: 0.8767 - val_accuracy: 0.7662\nEpoch 970/1000\n5/5 [==============================] - 0s 34ms/step - loss: 0.2837 - accuracy: 0.8778 - val_loss: 0.8772 - val_accuracy: 0.7662\nEpoch 971/1000\n5/5 [==============================] - 0s 25ms/step - loss: 0.2761 - accuracy: 0.8941 - val_loss: 0.8773 - val_accuracy: 0.7662\nEpoch 972/1000\n5/5 [==============================] - 0s 29ms/step - loss: 0.3140 - accuracy: 0.8978 - val_loss: 0.8785 - val_accuracy: 0.7532\nEpoch 973/1000\n5/5 [==============================] - 0s 29ms/step - loss: 0.2927 - accuracy: 0.8730 - val_loss: 0.8826 - val_accuracy: 0.7532\nEpoch 974/1000\n5/5 [==============================] - 0s 26ms/step - loss: 0.2920 - accuracy: 0.8828 - val_loss: 0.8851 - val_accuracy: 0.7532\nEpoch 975/1000\n5/5 [==============================] - 0s 25ms/step - loss: 0.2816 - accuracy: 0.8806 - val_loss: 0.8859 - val_accuracy: 0.7532\nEpoch 976/1000\n5/5 [==============================] - 0s 27ms/step - loss: 0.2820 - accuracy: 0.8884 - val_loss: 0.8839 - val_accuracy: 0.7532\nEpoch 977/1000\n5/5 [==============================] - 0s 25ms/step - loss: 0.3577 - accuracy: 0.8689 - val_loss: 0.8821 - val_accuracy: 0.7662\nEpoch 978/1000\n5/5 [==============================] - 0s 26ms/step - loss: 0.3022 - accuracy: 0.8845 - val_loss: 0.8809 - val_accuracy: 0.7662\nEpoch 979/1000\n5/5 [==============================] - 0s 34ms/step - loss: 0.2682 - accuracy: 0.8860 - val_loss: 0.8801 - val_accuracy: 0.7662\nEpoch 980/1000\n5/5 [==============================] - 0s 27ms/step - loss: 0.2957 - accuracy: 0.8932 - val_loss: 0.8794 - val_accuracy: 0.7662\nEpoch 981/1000\n5/5 [==============================] - 0s 27ms/step - loss: 0.2924 - accuracy: 0.8676 - val_loss: 0.8802 - val_accuracy: 0.7662\nEpoch 982/1000\n5/5 [==============================] - 0s 28ms/step - loss: 0.2775 - accuracy: 0.8902 - val_loss: 0.8804 - val_accuracy: 0.7532\nEpoch 983/1000\n5/5 [==============================] - 0s 26ms/step - loss: 0.2673 - accuracy: 0.8949 - val_loss: 0.8822 - val_accuracy: 0.7662\nEpoch 984/1000\n5/5 [==============================] - 0s 27ms/step - loss: 0.3164 - accuracy: 0.8596 - val_loss: 0.8843 - val_accuracy: 0.7532\nEpoch 985/1000\n5/5 [==============================] - 0s 25ms/step - loss: 0.2637 - accuracy: 0.9041 - val_loss: 0.8833 - val_accuracy: 0.7532\nEpoch 986/1000\n5/5 [==============================] - 0s 26ms/step - loss: 0.3156 - accuracy: 0.8715 - val_loss: 0.8846 - val_accuracy: 0.7403\nEpoch 987/1000\n5/5 [==============================] - 0s 31ms/step - loss: 0.2965 - accuracy: 0.8863 - val_loss: 0.8843 - val_accuracy: 0.7403\nEpoch 988/1000\n5/5 [==============================] - 0s 26ms/step - loss: 0.2966 - accuracy: 0.8754 - val_loss: 0.8811 - val_accuracy: 0.7403\nEpoch 989/1000\n5/5 [==============================] - 0s 25ms/step - loss: 0.2934 - accuracy: 0.8800 - val_loss: 0.8795 - val_accuracy: 0.7403\nEpoch 990/1000\n5/5 [==============================] - 0s 25ms/step - loss: 0.3052 - accuracy: 0.8769 - val_loss: 0.8777 - val_accuracy: 0.7532\nEpoch 991/1000\n5/5 [==============================] - 0s 31ms/step - loss: 0.2907 - accuracy: 0.8789 - val_loss: 0.8759 - val_accuracy: 0.7532\nEpoch 992/1000\n5/5 [==============================] - 0s 23ms/step - loss: 0.2733 - accuracy: 0.8973 - val_loss: 0.8757 - val_accuracy: 0.7532\nEpoch 993/1000\n5/5 [==============================] - 0s 33ms/step - loss: 0.3146 - accuracy: 0.8650 - val_loss: 0.8777 - val_accuracy: 0.7403\nEpoch 994/1000\n5/5 [==============================] - 0s 36ms/step - loss: 0.2480 - accuracy: 0.9004 - val_loss: 0.8793 - val_accuracy: 0.7403\nEpoch 995/1000\n5/5 [==============================] - 0s 20ms/step - loss: 0.2811 - accuracy: 0.8928 - val_loss: 0.8823 - val_accuracy: 0.7403\nEpoch 996/1000\n5/5 [==============================] - 0s 23ms/step - loss: 0.2790 - accuracy: 0.8804 - val_loss: 0.8829 - val_accuracy: 0.7403\nEpoch 997/1000\n5/5 [==============================] - 0s 26ms/step - loss: 0.3192 - accuracy: 0.8934 - val_loss: 0.8824 - val_accuracy: 0.7532\nEpoch 998/1000\n5/5 [==============================] - 0s 25ms/step - loss: 0.3125 - accuracy: 0.8515 - val_loss: 0.8849 - val_accuracy: 0.7532\nEpoch 999/1000\n5/5 [==============================] - 0s 28ms/step - loss: 0.3407 - accuracy: 0.8483 - val_loss: 0.8861 - val_accuracy: 0.7532\nEpoch 1000/1000\n5/5 [==============================] - 0s 29ms/step - loss: 0.2715 - accuracy: 0.8895 - val_loss: 0.8862 - val_accuracy: 0.7532\n",
     "output_type": "stream"
    },
    {
     "output_type": "execute_result",
     "execution_count": 17,
     "data": {
      "text/plain": "<tensorflow.python.keras.callbacks.History at 0x7f1a01346c10>"
     },
     "metadata": {}
    }
   ],
   "execution_count": null
  },
  {
   "cell_type": "code",
   "metadata": {
    "tags": [],
    "cell_id": "00004-2bcd20e8-70fc-459c-b8dc-dd28389e06d0",
    "deepnote_to_be_reexecuted": false,
    "source_hash": "532831eb",
    "execution_start": 1638732077741,
    "execution_millis": 49,
    "deepnote_cell_type": "code"
   },
   "source": "def classify(output: np.ndarray):\n    return (output > 0.5).astype(int)\n\npredictions = model.predict(X_test)\npredictions = np.reshape(predictions, len(y_test))\n\nprint(np.min(predictions))\nprint(np.max(predictions))\n\npredictions = classify(predictions)",
   "execution_count": null,
   "outputs": [
    {
     "name": "stdout",
     "text": "8.2988723e-22\n0.99997354\n",
     "output_type": "stream"
    }
   ]
  },
  {
   "cell_type": "code",
   "metadata": {
    "tags": [],
    "cell_id": "00004-8524e870-dd7d-4f9f-bca5-fc430edcdf75",
    "deepnote_to_be_reexecuted": false,
    "source_hash": "741601ba",
    "execution_start": 1638732083503,
    "execution_millis": 16,
    "deepnote_output_heights": [
     null,
     21
    ],
    "deepnote_cell_type": "code"
   },
   "source": "from sklearn.metrics import balanced_accuracy_score, accuracy_score, f1_score\n\n# Calculates the per-class accuracy given predicted and true output labels.\ndef class_accs(y_pred, y_true):\n    acc0 = ((y_pred == y_true) & (y_true == 0)).sum() / (y_true == 0).sum()\n    acc1 = ((y_pred == y_true) & (y_true == 1)).sum() / (y_true == 1).sum()\n    return acc0, acc1\n\n# Prints a summary of performance metrics given predicted and true output labels.\ndef print_metrics(y_true, y_pred):\n    f1 = f1_score(y_true, y_pred)\n    acc = accuracy_score(y_true, y_pred)\n    acc0, acc1 = class_accs(y_pred, y_true)\n    print(f'F1 = {f1}')\n    print(f'Accuracy = {acc}')\n    print(f'\\tclass 0: {acc0}')\n    print(f'\\tclass 1: {acc1}')\n\n\nbal_acc = balanced_accuracy_score(y_test, predictions)\nprint(\"Balanced accuracy ({}) = {}\".format(\"neural network\", bal_acc))\nprint_metrics(y_test, predictions)\n\nprint(f\"Test set size: {len(predictions)}\")\n\nprint(f\"TN: {((predictions == y_test) & (y_test == 0)).sum()}\") # TN\nprint(f\"FP: {((predictions != y_test) & (y_test == 0)).sum()}\") # FP\nprint(f\"TP: {((predictions == y_test) & (y_test == 1)).sum()}\") # TP\nprint(f\"FN: {((predictions != y_test) & (y_test == 1)).sum()}\") # FN",
   "execution_count": null,
   "outputs": [
    {
     "name": "stdout",
     "text": "Balanced accuracy (neural network) = 0.6863636363636363\nF1 = 0.7906976744186046\nAccuracy = 0.71875\n\tclass 0: 0.6\n\tclass 1: 0.7727272727272727\nTest set size: 96\nTN: 18\nFP: 12\nTP: 51\nFN: 15\n",
     "output_type": "stream"
    }
   ]
  },
  {
   "cell_type": "code",
   "metadata": {
    "tags": [],
    "cell_id": "00005-4f6aace0-9433-46ca-b0d2-e583015f90f7",
    "deepnote_to_be_reexecuted": false,
    "source_hash": "c3e27414",
    "execution_start": 1638885617494,
    "execution_millis": 1574,
    "deepnote_output_heights": [
     611
    ],
    "deepnote_cell_type": "code"
   },
   "source": "# DiCE imports\nimport dice_ml\nfrom dice_ml.utils import helpers  # helper functions\nimport tensorflow as tf\n\n# Import data\ndf = pd.read_csv('loan_data_set.csv')\n\n# Drop unnecessary feature\ndf = df.drop(\"Loan_ID\", axis=1)\n\n# Drop every instance with one or more missing features\ndf = df.dropna(axis=0)\n\n# Define dictionaries to replace words with numeric values\nd1 = {\"Y\": 1, \"N\": 0}\nd2 = {\"Yes\": 1, \"No\": 0}\nd3 = {\"Male\": 1, \"Female\": 0}\nd4 = {\"0\": 0, \"1\": 1, \"2\": 2, \"3+\": 3}\nd5 = {\"Graduate\": 1, \"Not Graduate\": 0}\nd6 = {\"Rural\": 0, \"Semiurban\": 0.5, \"Urban\": 1}\n\ncleanup_nums = {\"Loan_Status\": d1, \"Married\": d2, \"Self_Employed\": d2, \"Gender\": d3,\n\"Dependents\": d4, \"Education\": d5, \"Property_Area\": d6}\n\n# Replace every word with a corresponding numeric value\ndf.replace(cleanup_nums, inplace=True)\n\n\n\nd = dice_ml.Data(dataframe = df, features=[ 'Gender', 'Married', 'Dependents', 'Education',\n       'Self_Employed', 'ApplicantIncome', 'CoapplicantIncome', 'LoanAmount',\n       'Loan_Amount_Term', 'Credit_History', 'Property_Area', 'Loan_Status'], continuous_features=['ApplicantIncome', 'CoapplicantIncome', 'LoanAmount', 'Loan_Amount_Term', 'Credit_History'], outcome_name='Loan_Status')\n\n\nbackend = 'TF'+tf.__version__[0]\n\nm = dice_ml.Model(model=model, backend='TF2')\n\n### I have NO idea why this is NOT working, should be according to the documentation...\n### It is reading the data in a weird way, no idea why...\nexp = dice_ml.Dice(d, m)\n\n\n\nquery_instance = x_train[1:2]\ne1 = exp.generate_counterfactuals(query_instance, total_CFs=10, desired_range=None,\n                                  desired_class=\"opposite\",\n                                  permitted_range=None, features_to_vary=\"all\")\ne1.visualize_as_dataframe(show_only_changes=True)\n\n\nimp = exp.local_feature_importance(query_instance, posthoc_sparsity_param=None)\nprint(imp.local_importance)\n\ncobj = exp.global_feature_importance(x_train[0:10], total_CFs=10, posthoc_sparsity_param=None)\nprint(cobj.summary_importance)\n",
   "outputs": [
    {
     "output_type": "error",
     "ename": "ValueError",
     "evalue": "Input 0 of layer sequential is incompatible with the layer: expected axis -1 of input shape to have value 11 but received input with shape (1, 20)",
     "traceback": [
      "\u001b[0;31m---------------------------------------------------------------------------\u001b[0m",
      "\u001b[0;31mValueError\u001b[0m                                Traceback (most recent call last)",
      "\u001b[0;32m<ipython-input-16-546b82304d87>\u001b[0m in \u001b[0;36m<module>\u001b[0;34m\u001b[0m\n\u001b[1;32m     40\u001b[0m \u001b[0;31m### I have NO idea why this is NOT working, should be according to the documentation...\u001b[0m\u001b[0;34m\u001b[0m\u001b[0;34m\u001b[0m\u001b[0;34m\u001b[0m\u001b[0m\n\u001b[1;32m     41\u001b[0m \u001b[0;31m### It is reading the data in a weird way, no idea why...\u001b[0m\u001b[0;34m\u001b[0m\u001b[0;34m\u001b[0m\u001b[0;34m\u001b[0m\u001b[0m\n\u001b[0;32m---> 42\u001b[0;31m \u001b[0mexp\u001b[0m \u001b[0;34m=\u001b[0m \u001b[0mdice_ml\u001b[0m\u001b[0;34m.\u001b[0m\u001b[0mDice\u001b[0m\u001b[0;34m(\u001b[0m\u001b[0md\u001b[0m\u001b[0;34m,\u001b[0m \u001b[0mm\u001b[0m\u001b[0;34m)\u001b[0m\u001b[0;34m\u001b[0m\u001b[0;34m\u001b[0m\u001b[0m\n\u001b[0m\u001b[1;32m     43\u001b[0m \u001b[0;34m\u001b[0m\u001b[0m\n\u001b[1;32m     44\u001b[0m \u001b[0;34m\u001b[0m\u001b[0m\n",
      "\u001b[0;32m/usr/local/lib/python3.7/site-packages/dice_ml/dice.py\u001b[0m in \u001b[0;36m__init__\u001b[0;34m(self, data_interface, model_interface, method, **kwargs)\u001b[0m\n\u001b[1;32m     19\u001b[0m         \u001b[0;34m:\u001b[0m\u001b[0mparam\u001b[0m \u001b[0mmethod\u001b[0m\u001b[0;34m:\u001b[0m \u001b[0mName\u001b[0m \u001b[0mof\u001b[0m \u001b[0mthe\u001b[0m \u001b[0mmethod\u001b[0m \u001b[0mto\u001b[0m \u001b[0muse\u001b[0m \u001b[0;32mfor\u001b[0m \u001b[0mgenerating\u001b[0m \u001b[0mcounterfactuals\u001b[0m\u001b[0;34m\u001b[0m\u001b[0;34m\u001b[0m\u001b[0m\n\u001b[1;32m     20\u001b[0m         \"\"\"\n\u001b[0;32m---> 21\u001b[0;31m         \u001b[0mself\u001b[0m\u001b[0;34m.\u001b[0m\u001b[0mdecide_implementation_type\u001b[0m\u001b[0;34m(\u001b[0m\u001b[0mdata_interface\u001b[0m\u001b[0;34m,\u001b[0m \u001b[0mmodel_interface\u001b[0m\u001b[0;34m,\u001b[0m \u001b[0mmethod\u001b[0m\u001b[0;34m,\u001b[0m \u001b[0;34m**\u001b[0m\u001b[0mkwargs\u001b[0m\u001b[0;34m)\u001b[0m\u001b[0;34m\u001b[0m\u001b[0;34m\u001b[0m\u001b[0m\n\u001b[0m\u001b[1;32m     22\u001b[0m \u001b[0;34m\u001b[0m\u001b[0m\n\u001b[1;32m     23\u001b[0m     \u001b[0;32mdef\u001b[0m \u001b[0mdecide_implementation_type\u001b[0m\u001b[0;34m(\u001b[0m\u001b[0mself\u001b[0m\u001b[0;34m,\u001b[0m \u001b[0mdata_interface\u001b[0m\u001b[0;34m,\u001b[0m \u001b[0mmodel_interface\u001b[0m\u001b[0;34m,\u001b[0m \u001b[0mmethod\u001b[0m\u001b[0;34m,\u001b[0m \u001b[0;34m**\u001b[0m\u001b[0mkwargs\u001b[0m\u001b[0;34m)\u001b[0m\u001b[0;34m:\u001b[0m\u001b[0;34m\u001b[0m\u001b[0;34m\u001b[0m\u001b[0m\n",
      "\u001b[0;32m/usr/local/lib/python3.7/site-packages/dice_ml/dice.py\u001b[0m in \u001b[0;36mdecide_implementation_type\u001b[0;34m(self, data_interface, model_interface, method, **kwargs)\u001b[0m\n\u001b[1;32m     29\u001b[0m                     ' since kdtree explainer needs access to entire training data')\n\u001b[1;32m     30\u001b[0m         \u001b[0mself\u001b[0m\u001b[0;34m.\u001b[0m\u001b[0m__class__\u001b[0m \u001b[0;34m=\u001b[0m \u001b[0mdecide\u001b[0m\u001b[0;34m(\u001b[0m\u001b[0mmodel_interface\u001b[0m\u001b[0;34m,\u001b[0m \u001b[0mmethod\u001b[0m\u001b[0;34m)\u001b[0m\u001b[0;34m\u001b[0m\u001b[0;34m\u001b[0m\u001b[0m\n\u001b[0;32m---> 31\u001b[0;31m         \u001b[0mself\u001b[0m\u001b[0;34m.\u001b[0m\u001b[0m__init__\u001b[0m\u001b[0;34m(\u001b[0m\u001b[0mdata_interface\u001b[0m\u001b[0;34m,\u001b[0m \u001b[0mmodel_interface\u001b[0m\u001b[0;34m,\u001b[0m \u001b[0;34m**\u001b[0m\u001b[0mkwargs\u001b[0m\u001b[0;34m)\u001b[0m\u001b[0;34m\u001b[0m\u001b[0;34m\u001b[0m\u001b[0m\n\u001b[0m\u001b[1;32m     32\u001b[0m \u001b[0;34m\u001b[0m\u001b[0m\n\u001b[1;32m     33\u001b[0m     def _generate_counterfactuals(self, query_instance, total_CFs,\n",
      "\u001b[0;32m/usr/local/lib/python3.7/site-packages/dice_ml/explainer_interfaces/dice_tensorflow2.py\u001b[0m in \u001b[0;36m__init__\u001b[0;34m(self, data_interface, model_interface)\u001b[0m\n\u001b[1;32m     39\u001b[0m                              \"with no custom transformation function.\")\n\u001b[1;32m     40\u001b[0m         \u001b[0;31m# number of output nodes of ML model\u001b[0m\u001b[0;34m\u001b[0m\u001b[0;34m\u001b[0m\u001b[0;34m\u001b[0m\u001b[0m\n\u001b[0;32m---> 41\u001b[0;31m         \u001b[0mself\u001b[0m\u001b[0;34m.\u001b[0m\u001b[0mnum_output_nodes\u001b[0m \u001b[0;34m=\u001b[0m \u001b[0mself\u001b[0m\u001b[0;34m.\u001b[0m\u001b[0mmodel\u001b[0m\u001b[0;34m.\u001b[0m\u001b[0mget_num_output_nodes\u001b[0m\u001b[0;34m(\u001b[0m\u001b[0mlen\u001b[0m\u001b[0;34m(\u001b[0m\u001b[0mself\u001b[0m\u001b[0;34m.\u001b[0m\u001b[0mdata_interface\u001b[0m\u001b[0;34m.\u001b[0m\u001b[0mohe_encoded_feature_names\u001b[0m\u001b[0;34m)\u001b[0m\u001b[0;34m)\u001b[0m\u001b[0;34m.\u001b[0m\u001b[0mshape\u001b[0m\u001b[0;34m[\u001b[0m\u001b[0;36m1\u001b[0m\u001b[0;34m]\u001b[0m\u001b[0;34m\u001b[0m\u001b[0;34m\u001b[0m\u001b[0m\n\u001b[0m\u001b[1;32m     42\u001b[0m \u001b[0;34m\u001b[0m\u001b[0m\n\u001b[1;32m     43\u001b[0m         \u001b[0;31m# variables required to generate CFs - see generate_counterfactuals() for more info\u001b[0m\u001b[0;34m\u001b[0m\u001b[0;34m\u001b[0m\u001b[0;34m\u001b[0m\u001b[0m\n",
      "\u001b[0;32m/usr/local/lib/python3.7/site-packages/dice_ml/model_interfaces/keras_tensorflow_model.py\u001b[0m in \u001b[0;36mget_num_output_nodes\u001b[0;34m(self, inp_size)\u001b[0m\n\u001b[1;32m     46\u001b[0m     \u001b[0;32mdef\u001b[0m \u001b[0mget_num_output_nodes\u001b[0m\u001b[0;34m(\u001b[0m\u001b[0mself\u001b[0m\u001b[0;34m,\u001b[0m \u001b[0minp_size\u001b[0m\u001b[0;34m)\u001b[0m\u001b[0;34m:\u001b[0m\u001b[0;34m\u001b[0m\u001b[0;34m\u001b[0m\u001b[0m\n\u001b[1;32m     47\u001b[0m         \u001b[0mtemp_input\u001b[0m \u001b[0;34m=\u001b[0m \u001b[0mtf\u001b[0m\u001b[0;34m.\u001b[0m\u001b[0mconvert_to_tensor\u001b[0m\u001b[0;34m(\u001b[0m\u001b[0;34m[\u001b[0m\u001b[0mtf\u001b[0m\u001b[0;34m.\u001b[0m\u001b[0mrandom\u001b[0m\u001b[0;34m.\u001b[0m\u001b[0muniform\u001b[0m\u001b[0;34m(\u001b[0m\u001b[0;34m[\u001b[0m\u001b[0minp_size\u001b[0m\u001b[0;34m]\u001b[0m\u001b[0;34m)\u001b[0m\u001b[0;34m]\u001b[0m\u001b[0;34m,\u001b[0m \u001b[0mdtype\u001b[0m\u001b[0;34m=\u001b[0m\u001b[0mtf\u001b[0m\u001b[0;34m.\u001b[0m\u001b[0mfloat32\u001b[0m\u001b[0;34m)\u001b[0m\u001b[0;34m\u001b[0m\u001b[0;34m\u001b[0m\u001b[0m\n\u001b[0;32m---> 48\u001b[0;31m         \u001b[0;32mreturn\u001b[0m \u001b[0mself\u001b[0m\u001b[0;34m.\u001b[0m\u001b[0mget_output\u001b[0m\u001b[0;34m(\u001b[0m\u001b[0mtemp_input\u001b[0m\u001b[0;34m)\u001b[0m\u001b[0;34m\u001b[0m\u001b[0;34m\u001b[0m\u001b[0m\n\u001b[0m",
      "\u001b[0;32m/usr/local/lib/python3.7/site-packages/dice_ml/model_interfaces/keras_tensorflow_model.py\u001b[0m in \u001b[0;36mget_output\u001b[0;34m(self, input_tensor, training, transform_data)\u001b[0m\n\u001b[1;32m     36\u001b[0m \u001b[0;34m\u001b[0m\u001b[0m\n\u001b[1;32m     37\u001b[0m         \u001b[0;32mif\u001b[0m \u001b[0mself\u001b[0m\u001b[0;34m.\u001b[0m\u001b[0mbackend\u001b[0m \u001b[0;34m==\u001b[0m \u001b[0;34m'TF2'\u001b[0m\u001b[0;34m:\u001b[0m\u001b[0;34m\u001b[0m\u001b[0;34m\u001b[0m\u001b[0m\n\u001b[0;32m---> 38\u001b[0;31m             \u001b[0;32mreturn\u001b[0m \u001b[0mself\u001b[0m\u001b[0;34m.\u001b[0m\u001b[0mmodel\u001b[0m\u001b[0;34m(\u001b[0m\u001b[0minput_tensor\u001b[0m\u001b[0;34m,\u001b[0m \u001b[0mtraining\u001b[0m\u001b[0;34m=\u001b[0m\u001b[0mtraining\u001b[0m\u001b[0;34m)\u001b[0m\u001b[0;34m\u001b[0m\u001b[0;34m\u001b[0m\u001b[0m\n\u001b[0m\u001b[1;32m     39\u001b[0m         \u001b[0;32melse\u001b[0m\u001b[0;34m:\u001b[0m\u001b[0;34m\u001b[0m\u001b[0;34m\u001b[0m\u001b[0m\n\u001b[1;32m     40\u001b[0m             \u001b[0;32mreturn\u001b[0m \u001b[0mself\u001b[0m\u001b[0;34m.\u001b[0m\u001b[0mmodel\u001b[0m\u001b[0;34m(\u001b[0m\u001b[0minput_tensor\u001b[0m\u001b[0;34m)\u001b[0m\u001b[0;34m\u001b[0m\u001b[0;34m\u001b[0m\u001b[0m\n",
      "\u001b[0;32m/shared-libs/python3.7/py/lib/python3.7/site-packages/tensorflow/python/keras/engine/base_layer.py\u001b[0m in \u001b[0;36m__call__\u001b[0;34m(self, *args, **kwargs)\u001b[0m\n\u001b[1;32m    996\u001b[0m         \u001b[0minputs\u001b[0m \u001b[0;34m=\u001b[0m \u001b[0mself\u001b[0m\u001b[0;34m.\u001b[0m\u001b[0m_maybe_cast_inputs\u001b[0m\u001b[0;34m(\u001b[0m\u001b[0minputs\u001b[0m\u001b[0;34m,\u001b[0m \u001b[0minput_list\u001b[0m\u001b[0;34m)\u001b[0m\u001b[0;34m\u001b[0m\u001b[0;34m\u001b[0m\u001b[0m\n\u001b[1;32m    997\u001b[0m \u001b[0;34m\u001b[0m\u001b[0m\n\u001b[0;32m--> 998\u001b[0;31m       \u001b[0minput_spec\u001b[0m\u001b[0;34m.\u001b[0m\u001b[0massert_input_compatibility\u001b[0m\u001b[0;34m(\u001b[0m\u001b[0mself\u001b[0m\u001b[0;34m.\u001b[0m\u001b[0minput_spec\u001b[0m\u001b[0;34m,\u001b[0m \u001b[0minputs\u001b[0m\u001b[0;34m,\u001b[0m \u001b[0mself\u001b[0m\u001b[0;34m.\u001b[0m\u001b[0mname\u001b[0m\u001b[0;34m)\u001b[0m\u001b[0;34m\u001b[0m\u001b[0;34m\u001b[0m\u001b[0m\n\u001b[0m\u001b[1;32m    999\u001b[0m       \u001b[0;32mif\u001b[0m \u001b[0meager\u001b[0m\u001b[0;34m:\u001b[0m\u001b[0;34m\u001b[0m\u001b[0;34m\u001b[0m\u001b[0m\n\u001b[1;32m   1000\u001b[0m         \u001b[0mcall_fn\u001b[0m \u001b[0;34m=\u001b[0m \u001b[0mself\u001b[0m\u001b[0;34m.\u001b[0m\u001b[0mcall\u001b[0m\u001b[0;34m\u001b[0m\u001b[0;34m\u001b[0m\u001b[0m\n",
      "\u001b[0;32m/shared-libs/python3.7/py/lib/python3.7/site-packages/tensorflow/python/keras/engine/input_spec.py\u001b[0m in \u001b[0;36massert_input_compatibility\u001b[0;34m(input_spec, inputs, layer_name)\u001b[0m\n\u001b[1;32m    257\u001b[0m               \u001b[0;34m' incompatible with the layer: expected axis '\u001b[0m \u001b[0;34m+\u001b[0m \u001b[0mstr\u001b[0m\u001b[0;34m(\u001b[0m\u001b[0maxis\u001b[0m\u001b[0;34m)\u001b[0m \u001b[0;34m+\u001b[0m\u001b[0;34m\u001b[0m\u001b[0;34m\u001b[0m\u001b[0m\n\u001b[1;32m    258\u001b[0m               \u001b[0;34m' of input shape to have value '\u001b[0m \u001b[0;34m+\u001b[0m \u001b[0mstr\u001b[0m\u001b[0;34m(\u001b[0m\u001b[0mvalue\u001b[0m\u001b[0;34m)\u001b[0m \u001b[0;34m+\u001b[0m\u001b[0;34m\u001b[0m\u001b[0;34m\u001b[0m\u001b[0m\n\u001b[0;32m--> 259\u001b[0;31m               ' but received input with shape ' + display_shape(x.shape))\n\u001b[0m\u001b[1;32m    260\u001b[0m     \u001b[0;31m# Check shape.\u001b[0m\u001b[0;34m\u001b[0m\u001b[0;34m\u001b[0m\u001b[0;34m\u001b[0m\u001b[0m\n\u001b[1;32m    261\u001b[0m     \u001b[0;32mif\u001b[0m \u001b[0mspec\u001b[0m\u001b[0;34m.\u001b[0m\u001b[0mshape\u001b[0m \u001b[0;32mis\u001b[0m \u001b[0;32mnot\u001b[0m \u001b[0;32mNone\u001b[0m \u001b[0;32mand\u001b[0m \u001b[0mshape\u001b[0m\u001b[0;34m.\u001b[0m\u001b[0mrank\u001b[0m \u001b[0;32mis\u001b[0m \u001b[0;32mnot\u001b[0m \u001b[0;32mNone\u001b[0m\u001b[0;34m:\u001b[0m\u001b[0;34m\u001b[0m\u001b[0;34m\u001b[0m\u001b[0m\n",
      "\u001b[0;31mValueError\u001b[0m: Input 0 of layer sequential is incompatible with the layer: expected axis -1 of input shape to have value 11 but received input with shape (1, 20)"
     ]
    }
   ],
   "execution_count": null
  },
  {
   "cell_type": "code",
   "metadata": {
    "tags": [],
    "cell_id": "00006-faac26ba-d92f-4900-a821-10d8e81422e5",
    "deepnote_cell_type": "code"
   },
   "source": "",
   "execution_count": null,
   "outputs": []
  },
  {
   "cell_type": "code",
   "metadata": {
    "tags": [],
    "cell_id": "00005-22b698ce-45fe-4dbe-a1a3-f90dd374d1ee",
    "deepnote_to_be_reexecuted": false,
    "source_hash": "b623e53d",
    "execution_start": 1638356359598,
    "execution_millis": 0,
    "deepnote_cell_type": "code"
   },
   "source": "",
   "execution_count": null,
   "outputs": []
  },
  {
   "cell_type": "markdown",
   "source": "### Neural network diabetes",
   "metadata": {
    "tags": [],
    "cell_id": "00005-6f5158d4-9c93-4909-8d39-d1c77d757b2a",
    "deepnote_cell_type": "markdown"
   }
  },
  {
   "cell_type": "code",
   "metadata": {
    "tags": [],
    "cell_id": "00005-70ff5711-23f2-41f9-bc6d-d635e5979273",
    "deepnote_to_be_reexecuted": false,
    "source_hash": "68a0002a",
    "execution_start": 1638545960197,
    "execution_millis": 103206,
    "deepnote_output_heights": [
     611,
     21.1875
    ],
    "deepnote_cell_type": "code"
   },
   "source": "from preprocessing import load_diabetes_prepr\n\n\ndia_X, dia_y, dia_features = load_diabetes_prepr()\n\n\nX_dia, X_test_dia, y_dia, y_test_dia = train_test_split(dia_X, dia_y, test_size=0.2, random_state=seed)\nX_train_dia, X_val_dia, y_train_dia, y_val_dia = train_test_split(X_dia, y_dia, test_size=0.2, random_state=seed)\n\n# Initialise neural network\nBATCH_SIZE=64\nINPUT_SIZE= X_train_dia.shape[1]\n\n\ndia_model = Sequential()\ndia_model.add(Input(INPUT_SIZE))\ndia_model.add(Dense(20, activation=\"relu\"))\ndia_model.add(Dropout(0.1))\n# dia_model.add(Dense(10, activation=\"relu\"))\n# dia_model.add(Dropout(0.1))\ndia_model.add(Dense(10, activation=\"relu\"))\ndia_model.add(Dropout(0.1))\ndia_model.add(Dense(1))\ndia_model.compile(optimizer='adam',\n                loss=\"mean_absolute_error\",\n                metrics=['mean_squared_error'])\n\n\nhistory = dia_model.fit(X_train_dia, y_train_dia, batch_size=BATCH_SIZE, epochs=1000, validation_data=(X_val_dia, y_val_dia)) # validation_split=0.2)\n",
   "execution_count": null,
   "outputs": [
    {
     "name": "stdout",
     "text": "5/5 [==============================] - 0s 46ms/step - loss: 46.0045 - mean_squared_error: 3632.5343 - val_loss: 44.3107 - val_mean_squared_error: 3499.1138\nEpoch 502/1000\n5/5 [==============================] - 0s 43ms/step - loss: 43.5006 - mean_squared_error: 3308.2776 - val_loss: 44.3097 - val_mean_squared_error: 3505.2764\nEpoch 503/1000\n5/5 [==============================] - 0s 55ms/step - loss: 44.7724 - mean_squared_error: 3449.5579 - val_loss: 44.3346 - val_mean_squared_error: 3508.6689\nEpoch 504/1000\n5/5 [==============================] - 0s 45ms/step - loss: 45.2480 - mean_squared_error: 3400.3017 - val_loss: 44.3597 - val_mean_squared_error: 3509.4600\nEpoch 505/1000\n5/5 [==============================] - 0s 50ms/step - loss: 47.3248 - mean_squared_error: 3863.4636 - val_loss: 44.3660 - val_mean_squared_error: 3509.3872\nEpoch 506/1000\n5/5 [==============================] - 0s 63ms/step - loss: 43.1359 - mean_squared_error: 3297.5320 - val_loss: 44.3412 - val_mean_squared_error: 3506.0859\nEpoch 507/1000\n5/5 [==============================] - 0s 70ms/step - loss: 39.6706 - mean_squared_error: 2775.1803 - val_loss: 44.3288 - val_mean_squared_error: 3501.0078\nEpoch 508/1000\n5/5 [==============================] - 0s 71ms/step - loss: 44.4272 - mean_squared_error: 3283.1940 - val_loss: 44.3217 - val_mean_squared_error: 3494.5952\nEpoch 509/1000\n5/5 [==============================] - 0s 76ms/step - loss: 42.8257 - mean_squared_error: 3127.0428 - val_loss: 44.3360 - val_mean_squared_error: 3491.0166\nEpoch 510/1000\n5/5 [==============================] - 0s 66ms/step - loss: 42.1561 - mean_squared_error: 2839.7702 - val_loss: 44.2967 - val_mean_squared_error: 3487.7732\nEpoch 511/1000\n5/5 [==============================] - 0s 77ms/step - loss: 43.3751 - mean_squared_error: 3267.5263 - val_loss: 44.2955 - val_mean_squared_error: 3485.2456\nEpoch 512/1000\n5/5 [==============================] - 0s 63ms/step - loss: 43.7903 - mean_squared_error: 3061.9140 - val_loss: 44.2707 - val_mean_squared_error: 3483.8169\nEpoch 513/1000\n5/5 [==============================] - 0s 46ms/step - loss: 42.9726 - mean_squared_error: 3101.3362 - val_loss: 44.2539 - val_mean_squared_error: 3477.9026\nEpoch 514/1000\n5/5 [==============================] - 0s 58ms/step - loss: 47.3515 - mean_squared_error: 3735.4436 - val_loss: 44.2437 - val_mean_squared_error: 3469.2979\nEpoch 515/1000\n5/5 [==============================] - 0s 63ms/step - loss: 44.7165 - mean_squared_error: 3479.6380 - val_loss: 44.2373 - val_mean_squared_error: 3461.4563\nEpoch 516/1000\n5/5 [==============================] - 0s 66ms/step - loss: 42.2466 - mean_squared_error: 3091.5833 - val_loss: 44.2233 - val_mean_squared_error: 3457.9712\nEpoch 517/1000\n5/5 [==============================] - 0s 60ms/step - loss: 45.0521 - mean_squared_error: 3360.7033 - val_loss: 44.2491 - val_mean_squared_error: 3454.2957\nEpoch 518/1000\n5/5 [==============================] - 0s 59ms/step - loss: 46.7980 - mean_squared_error: 3786.7892 - val_loss: 44.2327 - val_mean_squared_error: 3450.6169\nEpoch 519/1000\n5/5 [==============================] - 0s 64ms/step - loss: 42.1535 - mean_squared_error: 3029.5057 - val_loss: 44.2248 - val_mean_squared_error: 3448.3884\nEpoch 520/1000\n5/5 [==============================] - 0s 61ms/step - loss: 42.8903 - mean_squared_error: 2973.6104 - val_loss: 44.2131 - val_mean_squared_error: 3449.6418\nEpoch 521/1000\n5/5 [==============================] - 0s 44ms/step - loss: 43.7859 - mean_squared_error: 3339.0608 - val_loss: 44.1928 - val_mean_squared_error: 3456.2361\nEpoch 522/1000\n5/5 [==============================] - 0s 47ms/step - loss: 44.3304 - mean_squared_error: 3387.8689 - val_loss: 44.1895 - val_mean_squared_error: 3461.0662\nEpoch 523/1000\n5/5 [==============================] - 0s 47ms/step - loss: 44.1393 - mean_squared_error: 3202.6318 - val_loss: 44.1913 - val_mean_squared_error: 3466.1567\nEpoch 524/1000\n5/5 [==============================] - 0s 51ms/step - loss: 43.4929 - mean_squared_error: 3240.1307 - val_loss: 44.1712 - val_mean_squared_error: 3465.8074\nEpoch 525/1000\n5/5 [==============================] - 0s 47ms/step - loss: 41.2562 - mean_squared_error: 2907.6528 - val_loss: 44.1408 - val_mean_squared_error: 3459.6187\nEpoch 526/1000\n5/5 [==============================] - 0s 50ms/step - loss: 47.0346 - mean_squared_error: 3614.2166 - val_loss: 44.1334 - val_mean_squared_error: 3448.7900\nEpoch 527/1000\n5/5 [==============================] - 0s 61ms/step - loss: 41.9431 - mean_squared_error: 3062.1207 - val_loss: 44.1155 - val_mean_squared_error: 3439.8879\nEpoch 528/1000\n5/5 [==============================] - 0s 71ms/step - loss: 45.0161 - mean_squared_error: 3457.3167 - val_loss: 44.0948 - val_mean_squared_error: 3436.5706\nEpoch 529/1000\n5/5 [==============================] - 0s 68ms/step - loss: 42.9906 - mean_squared_error: 3081.8105 - val_loss: 44.1143 - val_mean_squared_error: 3432.1458\nEpoch 530/1000\n5/5 [==============================] - 0s 51ms/step - loss: 44.0315 - mean_squared_error: 3372.9725 - val_loss: 44.1352 - val_mean_squared_error: 3433.8315\nEpoch 531/1000\n5/5 [==============================] - 0s 59ms/step - loss: 43.9872 - mean_squared_error: 3193.1727 - val_loss: 44.1329 - val_mean_squared_error: 3439.8486\nEpoch 532/1000\n5/5 [==============================] - 0s 56ms/step - loss: 45.1822 - mean_squared_error: 3501.8165 - val_loss: 44.1472 - val_mean_squared_error: 3445.8577\nEpoch 533/1000\n5/5 [==============================] - 0s 49ms/step - loss: 44.9457 - mean_squared_error: 3416.6192 - val_loss: 44.1868 - val_mean_squared_error: 3447.5688\nEpoch 534/1000\n5/5 [==============================] - 0s 73ms/step - loss: 40.6712 - mean_squared_error: 2920.1562 - val_loss: 44.2192 - val_mean_squared_error: 3453.1079\nEpoch 535/1000\n5/5 [==============================] - 0s 63ms/step - loss: 44.6342 - mean_squared_error: 3386.3203 - val_loss: 44.2442 - val_mean_squared_error: 3452.5879\nEpoch 536/1000\n5/5 [==============================] - 0s 67ms/step - loss: 41.9682 - mean_squared_error: 3049.6904 - val_loss: 44.2868 - val_mean_squared_error: 3453.1958\nEpoch 537/1000\n5/5 [==============================] - 0s 52ms/step - loss: 43.6786 - mean_squared_error: 3116.4640 - val_loss: 44.3170 - val_mean_squared_error: 3452.4285\nEpoch 538/1000\n5/5 [==============================] - 0s 56ms/step - loss: 43.5283 - mean_squared_error: 3275.8578 - val_loss: 44.3244 - val_mean_squared_error: 3449.7141\nEpoch 539/1000\n5/5 [==============================] - 0s 74ms/step - loss: 42.0323 - mean_squared_error: 3051.1035 - val_loss: 44.3041 - val_mean_squared_error: 3446.3608\nEpoch 540/1000\n5/5 [==============================] - 0s 75ms/step - loss: 41.9373 - mean_squared_error: 2979.8688 - val_loss: 44.2552 - val_mean_squared_error: 3441.7622\nEpoch 541/1000\n5/5 [==============================] - 0s 72ms/step - loss: 44.1960 - mean_squared_error: 3237.9887 - val_loss: 44.2355 - val_mean_squared_error: 3440.9207\nEpoch 542/1000\n5/5 [==============================] - 0s 55ms/step - loss: 41.6806 - mean_squared_error: 2968.7622 - val_loss: 44.2563 - val_mean_squared_error: 3440.7534\nEpoch 543/1000\n5/5 [==============================] - 0s 46ms/step - loss: 45.5473 - mean_squared_error: 3378.8997 - val_loss: 44.2588 - val_mean_squared_error: 3437.1506\nEpoch 544/1000\n5/5 [==============================] - 0s 51ms/step - loss: 43.6785 - mean_squared_error: 3276.5904 - val_loss: 44.2556 - val_mean_squared_error: 3432.3247\nEpoch 545/1000\n5/5 [==============================] - 0s 69ms/step - loss: 43.3867 - mean_squared_error: 3290.6204 - val_loss: 44.2060 - val_mean_squared_error: 3429.7607\nEpoch 546/1000\n5/5 [==============================] - 0s 63ms/step - loss: 44.6492 - mean_squared_error: 3326.9187 - val_loss: 44.1696 - val_mean_squared_error: 3430.4238\nEpoch 547/1000\n5/5 [==============================] - 0s 58ms/step - loss: 39.7742 - mean_squared_error: 2929.8037 - val_loss: 44.1278 - val_mean_squared_error: 3435.2756\nEpoch 548/1000\n5/5 [==============================] - 0s 47ms/step - loss: 41.9854 - mean_squared_error: 2996.7976 - val_loss: 44.1140 - val_mean_squared_error: 3433.2192\nEpoch 549/1000\n5/5 [==============================] - 0s 43ms/step - loss: 43.9746 - mean_squared_error: 3238.6959 - val_loss: 44.0785 - val_mean_squared_error: 3427.4807\nEpoch 550/1000\n5/5 [==============================] - 0s 50ms/step - loss: 45.1804 - mean_squared_error: 3429.2989 - val_loss: 44.0559 - val_mean_squared_error: 3425.0679\nEpoch 551/1000\n5/5 [==============================] - 0s 53ms/step - loss: 44.4674 - mean_squared_error: 3251.9493 - val_loss: 44.0381 - val_mean_squared_error: 3424.1492\nEpoch 552/1000\n5/5 [==============================] - 0s 48ms/step - loss: 42.4235 - mean_squared_error: 3172.3242 - val_loss: 44.0424 - val_mean_squared_error: 3426.5396\nEpoch 553/1000\n5/5 [==============================] - 0s 46ms/step - loss: 40.9344 - mean_squared_error: 3002.7324 - val_loss: 44.0461 - val_mean_squared_error: 3435.8193\nEpoch 554/1000\n5/5 [==============================] - 0s 61ms/step - loss: 44.0745 - mean_squared_error: 3272.5840 - val_loss: 44.0637 - val_mean_squared_error: 3438.5903\nEpoch 555/1000\n5/5 [==============================] - 0s 48ms/step - loss: 43.7528 - mean_squared_error: 3403.0351 - val_loss: 44.0693 - val_mean_squared_error: 3440.3708\nEpoch 556/1000\n5/5 [==============================] - 0s 61ms/step - loss: 42.8411 - mean_squared_error: 3178.0533 - val_loss: 44.0764 - val_mean_squared_error: 3440.1409\nEpoch 557/1000\n5/5 [==============================] - 0s 48ms/step - loss: 45.2837 - mean_squared_error: 3683.6336 - val_loss: 44.0954 - val_mean_squared_error: 3439.4431\nEpoch 558/1000\n5/5 [==============================] - 0s 79ms/step - loss: 39.4024 - mean_squared_error: 2601.7558 - val_loss: 44.1024 - val_mean_squared_error: 3438.1550\nEpoch 559/1000\n5/5 [==============================] - 0s 72ms/step - loss: 42.8199 - mean_squared_error: 3074.4252 - val_loss: 44.1125 - val_mean_squared_error: 3437.9907\nEpoch 560/1000\n5/5 [==============================] - 0s 60ms/step - loss: 48.2187 - mean_squared_error: 3813.6220 - val_loss: 44.1051 - val_mean_squared_error: 3437.2639\nEpoch 561/1000\n5/5 [==============================] - 0s 53ms/step - loss: 41.6482 - mean_squared_error: 2852.1176 - val_loss: 44.1234 - val_mean_squared_error: 3438.8726\nEpoch 562/1000\n5/5 [==============================] - 0s 56ms/step - loss: 45.6575 - mean_squared_error: 3458.5256 - val_loss: 44.1425 - val_mean_squared_error: 3443.6704\nEpoch 563/1000\n5/5 [==============================] - 0s 60ms/step - loss: 43.9789 - mean_squared_error: 3247.5335 - val_loss: 44.1649 - val_mean_squared_error: 3447.1865\nEpoch 564/1000\n5/5 [==============================] - 0s 49ms/step - loss: 42.5468 - mean_squared_error: 3007.6333 - val_loss: 44.1582 - val_mean_squared_error: 3445.1750\nEpoch 565/1000\n5/5 [==============================] - 0s 70ms/step - loss: 43.1104 - mean_squared_error: 3167.4226 - val_loss: 44.1209 - val_mean_squared_error: 3436.4453\nEpoch 566/1000\n5/5 [==============================] - 0s 50ms/step - loss: 43.6298 - mean_squared_error: 3096.4276 - val_loss: 44.1040 - val_mean_squared_error: 3431.9978\nEpoch 567/1000\n5/5 [==============================] - 0s 48ms/step - loss: 44.4656 - mean_squared_error: 3292.2121 - val_loss: 44.0954 - val_mean_squared_error: 3430.9978\nEpoch 568/1000\n5/5 [==============================] - 0s 27ms/step - loss: 40.9416 - mean_squared_error: 2872.0013 - val_loss: 44.0971 - val_mean_squared_error: 3427.5669\nEpoch 569/1000\n5/5 [==============================] - 0s 40ms/step - loss: 45.2627 - mean_squared_error: 3414.5192 - val_loss: 44.1049 - val_mean_squared_error: 3422.9788\nEpoch 570/1000\n5/5 [==============================] - 0s 46ms/step - loss: 41.8075 - mean_squared_error: 3101.9354 - val_loss: 44.1262 - val_mean_squared_error: 3418.4785\nEpoch 571/1000\n5/5 [==============================] - 0s 40ms/step - loss: 41.8764 - mean_squared_error: 2855.8625 - val_loss: 44.1463 - val_mean_squared_error: 3412.9194\nEpoch 572/1000\n5/5 [==============================] - 0s 55ms/step - loss: 44.9814 - mean_squared_error: 3657.9393 - val_loss: 44.1551 - val_mean_squared_error: 3411.3022\nEpoch 573/1000\n5/5 [==============================] - 0s 50ms/step - loss: 44.0753 - mean_squared_error: 3288.3584 - val_loss: 44.1847 - val_mean_squared_error: 3411.2441\nEpoch 574/1000\n5/5 [==============================] - 0s 47ms/step - loss: 43.5927 - mean_squared_error: 3297.4601 - val_loss: 44.2103 - val_mean_squared_error: 3410.9062\nEpoch 575/1000\n5/5 [==============================] - 0s 45ms/step - loss: 45.9302 - mean_squared_error: 3724.8958 - val_loss: 44.2677 - val_mean_squared_error: 3413.6650\nEpoch 576/1000\n5/5 [==============================] - 0s 48ms/step - loss: 45.3805 - mean_squared_error: 3460.4087 - val_loss: 44.3047 - val_mean_squared_error: 3417.0676\nEpoch 577/1000\n5/5 [==============================] - 0s 47ms/step - loss: 44.2013 - mean_squared_error: 3390.4933 - val_loss: 44.3219 - val_mean_squared_error: 3420.3281\nEpoch 578/1000\n5/5 [==============================] - 0s 25ms/step - loss: 40.9884 - mean_squared_error: 2887.4862 - val_loss: 44.3120 - val_mean_squared_error: 3415.0518\nEpoch 579/1000\n5/5 [==============================] - 0s 38ms/step - loss: 42.3799 - mean_squared_error: 3100.7607 - val_loss: 44.2733 - val_mean_squared_error: 3408.9094\nEpoch 580/1000\n5/5 [==============================] - 0s 42ms/step - loss: 46.7604 - mean_squared_error: 3557.7978 - val_loss: 44.2541 - val_mean_squared_error: 3407.4016\nEpoch 581/1000\n5/5 [==============================] - 0s 51ms/step - loss: 45.0857 - mean_squared_error: 3415.4733 - val_loss: 44.2676 - val_mean_squared_error: 3410.6050\nEpoch 582/1000\n5/5 [==============================] - 0s 32ms/step - loss: 44.8651 - mean_squared_error: 3629.7707 - val_loss: 44.2852 - val_mean_squared_error: 3417.5100\nEpoch 583/1000\n5/5 [==============================] - 0s 52ms/step - loss: 43.2284 - mean_squared_error: 3228.3267 - val_loss: 44.2671 - val_mean_squared_error: 3422.3586\nEpoch 584/1000\n5/5 [==============================] - 0s 51ms/step - loss: 45.5482 - mean_squared_error: 3416.1262 - val_loss: 44.2543 - val_mean_squared_error: 3424.3315\nEpoch 585/1000\n5/5 [==============================] - 0s 53ms/step - loss: 40.8592 - mean_squared_error: 2778.7281 - val_loss: 44.2482 - val_mean_squared_error: 3423.7246\nEpoch 586/1000\n5/5 [==============================] - 0s 49ms/step - loss: 44.2137 - mean_squared_error: 3601.1556 - val_loss: 44.2326 - val_mean_squared_error: 3420.0198\nEpoch 587/1000\n5/5 [==============================] - 0s 30ms/step - loss: 42.5533 - mean_squared_error: 3077.7446 - val_loss: 44.2180 - val_mean_squared_error: 3420.1577\nEpoch 588/1000\n5/5 [==============================] - 0s 23ms/step - loss: 42.9475 - mean_squared_error: 3248.1237 - val_loss: 44.2010 - val_mean_squared_error: 3419.3325\nEpoch 589/1000\n5/5 [==============================] - 0s 26ms/step - loss: 43.5852 - mean_squared_error: 3294.4314 - val_loss: 44.1885 - val_mean_squared_error: 3422.7212\nEpoch 590/1000\n5/5 [==============================] - 0s 33ms/step - loss: 43.3938 - mean_squared_error: 3275.5240 - val_loss: 44.2032 - val_mean_squared_error: 3428.1064\nEpoch 591/1000\n5/5 [==============================] - 0s 35ms/step - loss: 40.7590 - mean_squared_error: 2856.1761 - val_loss: 44.2247 - val_mean_squared_error: 3429.2329\nEpoch 592/1000\n5/5 [==============================] - 0s 24ms/step - loss: 42.2968 - mean_squared_error: 3014.0118 - val_loss: 44.2611 - val_mean_squared_error: 3431.0703\nEpoch 593/1000\n5/5 [==============================] - 0s 26ms/step - loss: 46.4600 - mean_squared_error: 3411.4770 - val_loss: 44.3067 - val_mean_squared_error: 3432.4187\nEpoch 594/1000\n5/5 [==============================] - 0s 25ms/step - loss: 44.1333 - mean_squared_error: 3309.2042 - val_loss: 44.3382 - val_mean_squared_error: 3430.6997\nEpoch 595/1000\n5/5 [==============================] - 0s 24ms/step - loss: 43.3213 - mean_squared_error: 3242.3770 - val_loss: 44.3656 - val_mean_squared_error: 3423.5920\nEpoch 596/1000\n5/5 [==============================] - 0s 25ms/step - loss: 43.8027 - mean_squared_error: 2975.9038 - val_loss: 44.3581 - val_mean_squared_error: 3420.8218\nEpoch 597/1000\n5/5 [==============================] - 0s 24ms/step - loss: 44.1732 - mean_squared_error: 3190.7889 - val_loss: 44.3120 - val_mean_squared_error: 3415.1313\nEpoch 598/1000\n5/5 [==============================] - 0s 26ms/step - loss: 40.4712 - mean_squared_error: 2984.8284 - val_loss: 44.2665 - val_mean_squared_error: 3407.1995\nEpoch 599/1000\n5/5 [==============================] - 0s 24ms/step - loss: 43.1281 - mean_squared_error: 3141.2560 - val_loss: 44.2317 - val_mean_squared_error: 3396.7927\nEpoch 600/1000\n5/5 [==============================] - 0s 30ms/step - loss: 43.9924 - mean_squared_error: 3273.7891 - val_loss: 44.2376 - val_mean_squared_error: 3389.9111\nEpoch 601/1000\n5/5 [==============================] - 0s 23ms/step - loss: 46.4889 - mean_squared_error: 3565.1670 - val_loss: 44.2525 - val_mean_squared_error: 3386.4297\nEpoch 602/1000\n5/5 [==============================] - 0s 25ms/step - loss: 44.2801 - mean_squared_error: 3427.2284 - val_loss: 44.2695 - val_mean_squared_error: 3382.4756\nEpoch 603/1000\n5/5 [==============================] - 0s 25ms/step - loss: 42.7855 - mean_squared_error: 2970.5977 - val_loss: 44.2588 - val_mean_squared_error: 3383.2888\nEpoch 604/1000\n5/5 [==============================] - 0s 25ms/step - loss: 40.3757 - mean_squared_error: 2697.8674 - val_loss: 44.2460 - val_mean_squared_error: 3388.2017\nEpoch 605/1000\n5/5 [==============================] - 0s 25ms/step - loss: 41.8082 - mean_squared_error: 2936.7464 - val_loss: 44.2660 - val_mean_squared_error: 3395.5601\nEpoch 606/1000\n5/5 [==============================] - 0s 26ms/step - loss: 42.6313 - mean_squared_error: 3106.4572 - val_loss: 44.2717 - val_mean_squared_error: 3406.5068\nEpoch 607/1000\n5/5 [==============================] - 0s 29ms/step - loss: 42.9820 - mean_squared_error: 2994.2157 - val_loss: 44.2854 - val_mean_squared_error: 3419.6543\nEpoch 608/1000\n5/5 [==============================] - 0s 34ms/step - loss: 43.0694 - mean_squared_error: 3190.0534 - val_loss: 44.2748 - val_mean_squared_error: 3424.2705\nEpoch 609/1000\n5/5 [==============================] - 0s 28ms/step - loss: 45.2089 - mean_squared_error: 3502.3390 - val_loss: 44.2656 - val_mean_squared_error: 3429.5649\nEpoch 610/1000\n5/5 [==============================] - 0s 23ms/step - loss: 41.4222 - mean_squared_error: 2926.2920 - val_loss: 44.2518 - val_mean_squared_error: 3427.9231\nEpoch 611/1000\n5/5 [==============================] - 0s 27ms/step - loss: 44.3969 - mean_squared_error: 3351.0170 - val_loss: 44.2331 - val_mean_squared_error: 3423.4214\nEpoch 612/1000\n5/5 [==============================] - 0s 25ms/step - loss: 45.3255 - mean_squared_error: 3281.3230 - val_loss: 44.2354 - val_mean_squared_error: 3417.1575\nEpoch 613/1000\n5/5 [==============================] - 0s 29ms/step - loss: 45.6903 - mean_squared_error: 3517.5639 - val_loss: 44.2394 - val_mean_squared_error: 3412.8389\nEpoch 614/1000\n5/5 [==============================] - 0s 14ms/step - loss: 39.9609 - mean_squared_error: 2770.8109 - val_loss: 44.2605 - val_mean_squared_error: 3408.4431\nEpoch 615/1000\n5/5 [==============================] - 0s 15ms/step - loss: 41.4979 - mean_squared_error: 3019.9779 - val_loss: 44.3137 - val_mean_squared_error: 3405.7429\nEpoch 616/1000\n5/5 [==============================] - 0s 15ms/step - loss: 41.2316 - mean_squared_error: 2939.0305 - val_loss: 44.3587 - val_mean_squared_error: 3407.5483\nEpoch 617/1000\n5/5 [==============================] - 0s 15ms/step - loss: 41.8343 - mean_squared_error: 2923.7239 - val_loss: 44.3672 - val_mean_squared_error: 3409.7190\nEpoch 618/1000\n5/5 [==============================] - 0s 15ms/step - loss: 42.3852 - mean_squared_error: 3047.2083 - val_loss: 44.3410 - val_mean_squared_error: 3411.7832\nEpoch 619/1000\n5/5 [==============================] - 0s 21ms/step - loss: 44.4045 - mean_squared_error: 3348.4054 - val_loss: 44.3186 - val_mean_squared_error: 3414.7087\nEpoch 620/1000\n5/5 [==============================] - 0s 19ms/step - loss: 42.8329 - mean_squared_error: 3298.1969 - val_loss: 44.3210 - val_mean_squared_error: 3418.8240\nEpoch 621/1000\n5/5 [==============================] - 0s 22ms/step - loss: 40.0889 - mean_squared_error: 2729.0771 - val_loss: 44.3499 - val_mean_squared_error: 3423.1885\nEpoch 622/1000\n5/5 [==============================] - 0s 16ms/step - loss: 46.4400 - mean_squared_error: 3547.5494 - val_loss: 44.3464 - val_mean_squared_error: 3420.9214\nEpoch 623/1000\n5/5 [==============================] - 0s 14ms/step - loss: 45.9040 - mean_squared_error: 3479.3639 - val_loss: 44.3481 - val_mean_squared_error: 3417.6340\nEpoch 624/1000\n5/5 [==============================] - 0s 15ms/step - loss: 43.5126 - mean_squared_error: 3144.7709 - val_loss: 44.3296 - val_mean_squared_error: 3417.3850\nEpoch 625/1000\n5/5 [==============================] - 0s 13ms/step - loss: 41.8451 - mean_squared_error: 3106.6488 - val_loss: 44.3101 - val_mean_squared_error: 3415.3240\nEpoch 626/1000\n5/5 [==============================] - 0s 14ms/step - loss: 46.2358 - mean_squared_error: 3915.4786 - val_loss: 44.3223 - val_mean_squared_error: 3415.6682\nEpoch 627/1000\n5/5 [==============================] - 0s 14ms/step - loss: 41.3335 - mean_squared_error: 2909.3923 - val_loss: 44.3441 - val_mean_squared_error: 3419.9177\nEpoch 628/1000\n5/5 [==============================] - 0s 13ms/step - loss: 42.2881 - mean_squared_error: 3013.7233 - val_loss: 44.3516 - val_mean_squared_error: 3423.1365\nEpoch 629/1000\n5/5 [==============================] - 0s 19ms/step - loss: 43.6307 - mean_squared_error: 3213.1329 - val_loss: 44.3755 - val_mean_squared_error: 3426.8772\nEpoch 630/1000\n5/5 [==============================] - 0s 19ms/step - loss: 42.4877 - mean_squared_error: 3177.5963 - val_loss: 44.4086 - val_mean_squared_error: 3425.6868\nEpoch 631/1000\n5/5 [==============================] - 0s 17ms/step - loss: 41.7480 - mean_squared_error: 2970.4805 - val_loss: 44.4190 - val_mean_squared_error: 3421.5703\nEpoch 632/1000\n5/5 [==============================] - 0s 16ms/step - loss: 41.9317 - mean_squared_error: 3081.3760 - val_loss: 44.4269 - val_mean_squared_error: 3422.6484\nEpoch 633/1000\n5/5 [==============================] - 0s 13ms/step - loss: 42.3296 - mean_squared_error: 3109.0617 - val_loss: 44.4270 - val_mean_squared_error: 3421.8066\nEpoch 634/1000\n5/5 [==============================] - 0s 14ms/step - loss: 42.2166 - mean_squared_error: 2989.2805 - val_loss: 44.4128 - val_mean_squared_error: 3419.1824\nEpoch 635/1000\n5/5 [==============================] - 0s 17ms/step - loss: 40.3887 - mean_squared_error: 2722.0772 - val_loss: 44.3897 - val_mean_squared_error: 3416.5481\nEpoch 636/1000\n5/5 [==============================] - 0s 14ms/step - loss: 45.5894 - mean_squared_error: 3391.3207 - val_loss: 44.3753 - val_mean_squared_error: 3419.1570\nEpoch 637/1000\n5/5 [==============================] - 0s 14ms/step - loss: 42.3963 - mean_squared_error: 3028.8196 - val_loss: 44.3687 - val_mean_squared_error: 3421.3518\nEpoch 638/1000\n5/5 [==============================] - 0s 13ms/step - loss: 43.4413 - mean_squared_error: 3392.6037 - val_loss: 44.3556 - val_mean_squared_error: 3422.2280\nEpoch 639/1000\n5/5 [==============================] - 0s 15ms/step - loss: 45.4201 - mean_squared_error: 3598.1755 - val_loss: 44.3304 - val_mean_squared_error: 3423.0093\nEpoch 640/1000\n5/5 [==============================] - 0s 14ms/step - loss: 44.3122 - mean_squared_error: 3514.7359 - val_loss: 44.3109 - val_mean_squared_error: 3424.6743\nEpoch 641/1000\n5/5 [==============================] - 0s 14ms/step - loss: 44.0091 - mean_squared_error: 3153.9359 - val_loss: 44.3056 - val_mean_squared_error: 3422.1167\nEpoch 642/1000\n5/5 [==============================] - 0s 13ms/step - loss: 42.8918 - mean_squared_error: 3092.8101 - val_loss: 44.3014 - val_mean_squared_error: 3418.3042\nEpoch 643/1000\n5/5 [==============================] - 0s 14ms/step - loss: 41.6906 - mean_squared_error: 2892.4030 - val_loss: 44.3150 - val_mean_squared_error: 3418.2732\nEpoch 644/1000\n5/5 [==============================] - 0s 13ms/step - loss: 42.9644 - mean_squared_error: 3149.3752 - val_loss: 44.3005 - val_mean_squared_error: 3419.1519\nEpoch 645/1000\n5/5 [==============================] - 0s 17ms/step - loss: 43.8838 - mean_squared_error: 3195.1709 - val_loss: 44.3135 - val_mean_squared_error: 3421.7756\nEpoch 646/1000\n5/5 [==============================] - 0s 15ms/step - loss: 44.5947 - mean_squared_error: 3260.2499 - val_loss: 44.3301 - val_mean_squared_error: 3420.5498\nEpoch 647/1000\n5/5 [==============================] - 0s 14ms/step - loss: 43.0999 - mean_squared_error: 3192.5441 - val_loss: 44.3426 - val_mean_squared_error: 3418.9231\nEpoch 648/1000\n5/5 [==============================] - 0s 14ms/step - loss: 42.0525 - mean_squared_error: 3281.0640 - val_loss: 44.3503 - val_mean_squared_error: 3418.0608\nEpoch 649/1000\n5/5 [==============================] - 0s 19ms/step - loss: 41.7720 - mean_squared_error: 3118.2587 - val_loss: 44.3558 - val_mean_squared_error: 3418.0691\nEpoch 650/1000\n5/5 [==============================] - 0s 13ms/step - loss: 45.3320 - mean_squared_error: 3425.4933 - val_loss: 44.3751 - val_mean_squared_error: 3418.9636\nEpoch 651/1000\n5/5 [==============================] - 0s 16ms/step - loss: 44.0597 - mean_squared_error: 3362.4233 - val_loss: 44.3915 - val_mean_squared_error: 3419.5740\nEpoch 652/1000\n5/5 [==============================] - 0s 15ms/step - loss: 44.3716 - mean_squared_error: 3405.8967 - val_loss: 44.3841 - val_mean_squared_error: 3416.2253\nEpoch 653/1000\n5/5 [==============================] - 0s 13ms/step - loss: 40.2945 - mean_squared_error: 2870.0936 - val_loss: 44.3334 - val_mean_squared_error: 3411.7412\nEpoch 654/1000\n5/5 [==============================] - 0s 16ms/step - loss: 45.7734 - mean_squared_error: 3412.8542 - val_loss: 44.2954 - val_mean_squared_error: 3405.0479\nEpoch 655/1000\n5/5 [==============================] - 0s 14ms/step - loss: 45.0977 - mean_squared_error: 3343.5628 - val_loss: 44.2960 - val_mean_squared_error: 3403.8640\nEpoch 656/1000\n5/5 [==============================] - 0s 13ms/step - loss: 43.0568 - mean_squared_error: 3198.9792 - val_loss: 44.3185 - val_mean_squared_error: 3403.2178\nEpoch 657/1000\n5/5 [==============================] - 0s 18ms/step - loss: 44.0317 - mean_squared_error: 3136.9196 - val_loss: 44.3313 - val_mean_squared_error: 3400.6724\nEpoch 658/1000\n5/5 [==============================] - 0s 14ms/step - loss: 43.0488 - mean_squared_error: 3185.1785 - val_loss: 44.3517 - val_mean_squared_error: 3398.0732\nEpoch 659/1000\n5/5 [==============================] - 0s 14ms/step - loss: 44.7532 - mean_squared_error: 3246.9679 - val_loss: 44.3703 - val_mean_squared_error: 3395.5286\nEpoch 660/1000\n5/5 [==============================] - 0s 17ms/step - loss: 40.2576 - mean_squared_error: 2864.5950 - val_loss: 44.3460 - val_mean_squared_error: 3390.6846\nEpoch 661/1000\n5/5 [==============================] - 0s 21ms/step - loss: 42.6433 - mean_squared_error: 3239.5618 - val_loss: 44.3494 - val_mean_squared_error: 3389.7800\nEpoch 662/1000\n5/5 [==============================] - 0s 26ms/step - loss: 43.0226 - mean_squared_error: 3191.9299 - val_loss: 44.3378 - val_mean_squared_error: 3391.4126\nEpoch 663/1000\n5/5 [==============================] - 0s 23ms/step - loss: 45.1843 - mean_squared_error: 3381.3603 - val_loss: 44.3265 - val_mean_squared_error: 3395.2695\nEpoch 664/1000\n5/5 [==============================] - 0s 33ms/step - loss: 42.4952 - mean_squared_error: 3182.9991 - val_loss: 44.3434 - val_mean_squared_error: 3399.8340\nEpoch 665/1000\n5/5 [==============================] - 0s 28ms/step - loss: 41.0301 - mean_squared_error: 2748.0745 - val_loss: 44.3633 - val_mean_squared_error: 3403.7107\nEpoch 666/1000\n5/5 [==============================] - 0s 27ms/step - loss: 42.4317 - mean_squared_error: 3184.4128 - val_loss: 44.3585 - val_mean_squared_error: 3406.2720\nEpoch 667/1000\n5/5 [==============================] - 0s 27ms/step - loss: 43.7284 - mean_squared_error: 3455.2477 - val_loss: 44.3406 - val_mean_squared_error: 3405.8770\nEpoch 668/1000\n5/5 [==============================] - 0s 40ms/step - loss: 41.7454 - mean_squared_error: 2920.9728 - val_loss: 44.3422 - val_mean_squared_error: 3406.6646\nEpoch 669/1000\n5/5 [==============================] - 0s 26ms/step - loss: 40.1757 - mean_squared_error: 2767.5016 - val_loss: 44.3307 - val_mean_squared_error: 3404.7659\nEpoch 670/1000\n5/5 [==============================] - 0s 18ms/step - loss: 48.2864 - mean_squared_error: 4049.5753 - val_loss: 44.3182 - val_mean_squared_error: 3403.8962\nEpoch 671/1000\n5/5 [==============================] - 0s 14ms/step - loss: 43.2924 - mean_squared_error: 3172.5891 - val_loss: 44.3115 - val_mean_squared_error: 3405.5046\nEpoch 672/1000\n5/5 [==============================] - 0s 14ms/step - loss: 43.2834 - mean_squared_error: 3168.3512 - val_loss: 44.3072 - val_mean_squared_error: 3406.5159\nEpoch 673/1000\n5/5 [==============================] - 0s 13ms/step - loss: 43.5245 - mean_squared_error: 3158.2155 - val_loss: 44.3008 - val_mean_squared_error: 3403.4094\nEpoch 674/1000\n5/5 [==============================] - 0s 13ms/step - loss: 40.4266 - mean_squared_error: 2623.1555 - val_loss: 44.3023 - val_mean_squared_error: 3405.3550\nEpoch 675/1000\n5/5 [==============================] - 0s 17ms/step - loss: 45.3414 - mean_squared_error: 3491.5203 - val_loss: 44.3261 - val_mean_squared_error: 3406.3508\nEpoch 676/1000\n5/5 [==============================] - 0s 14ms/step - loss: 42.8788 - mean_squared_error: 3102.3544 - val_loss: 44.3552 - val_mean_squared_error: 3410.9119\nEpoch 677/1000\n5/5 [==============================] - 0s 13ms/step - loss: 40.5095 - mean_squared_error: 2889.7061 - val_loss: 44.3381 - val_mean_squared_error: 3414.5586\nEpoch 678/1000\n5/5 [==============================] - 0s 18ms/step - loss: 43.5267 - mean_squared_error: 3114.6677 - val_loss: 44.3378 - val_mean_squared_error: 3416.7290\nEpoch 679/1000\n5/5 [==============================] - 0s 25ms/step - loss: 45.8933 - mean_squared_error: 3560.2345 - val_loss: 44.3484 - val_mean_squared_error: 3416.0718\nEpoch 680/1000\n5/5 [==============================] - 0s 16ms/step - loss: 44.0861 - mean_squared_error: 3144.4708 - val_loss: 44.3547 - val_mean_squared_error: 3409.9197\nEpoch 681/1000\n5/5 [==============================] - 0s 18ms/step - loss: 44.0468 - mean_squared_error: 3258.2535 - val_loss: 44.3774 - val_mean_squared_error: 3400.6167\nEpoch 682/1000\n5/5 [==============================] - 0s 14ms/step - loss: 41.5486 - mean_squared_error: 3083.3658 - val_loss: 44.3850 - val_mean_squared_error: 3396.1829\nEpoch 683/1000\n5/5 [==============================] - 0s 16ms/step - loss: 44.2766 - mean_squared_error: 3186.7692 - val_loss: 44.4348 - val_mean_squared_error: 3397.3508\nEpoch 684/1000\n5/5 [==============================] - 0s 15ms/step - loss: 43.5000 - mean_squared_error: 3060.0088 - val_loss: 44.4591 - val_mean_squared_error: 3401.3357\nEpoch 685/1000\n5/5 [==============================] - 0s 13ms/step - loss: 42.3979 - mean_squared_error: 3080.7333 - val_loss: 44.4717 - val_mean_squared_error: 3400.1318\nEpoch 686/1000\n5/5 [==============================] - 0s 15ms/step - loss: 42.5840 - mean_squared_error: 2923.2817 - val_loss: 44.4825 - val_mean_squared_error: 3400.9443\nEpoch 687/1000\n5/5 [==============================] - 0s 15ms/step - loss: 42.4121 - mean_squared_error: 2967.4401 - val_loss: 44.4954 - val_mean_squared_error: 3403.8794\nEpoch 688/1000\n5/5 [==============================] - 0s 13ms/step - loss: 42.8105 - mean_squared_error: 3387.5889 - val_loss: 44.5082 - val_mean_squared_error: 3408.2363\nEpoch 689/1000\n5/5 [==============================] - 0s 18ms/step - loss: 40.3564 - mean_squared_error: 2755.1382 - val_loss: 44.5088 - val_mean_squared_error: 3406.7656\nEpoch 690/1000\n5/5 [==============================] - 0s 17ms/step - loss: 42.3885 - mean_squared_error: 3077.0126 - val_loss: 44.4953 - val_mean_squared_error: 3406.9207\nEpoch 691/1000\n5/5 [==============================] - 0s 17ms/step - loss: 42.8117 - mean_squared_error: 3116.2510 - val_loss: 44.4655 - val_mean_squared_error: 3405.2480\nEpoch 692/1000\n5/5 [==============================] - 0s 14ms/step - loss: 40.7309 - mean_squared_error: 2712.1141 - val_loss: 44.4712 - val_mean_squared_error: 3405.7458\nEpoch 693/1000\n5/5 [==============================] - 0s 14ms/step - loss: 39.8360 - mean_squared_error: 2689.5330 - val_loss: 44.4755 - val_mean_squared_error: 3410.1157\nEpoch 694/1000\n5/5 [==============================] - 0s 16ms/step - loss: 45.3178 - mean_squared_error: 3546.9370 - val_loss: 44.4903 - val_mean_squared_error: 3411.7866\nEpoch 695/1000\n5/5 [==============================] - 0s 16ms/step - loss: 43.0267 - mean_squared_error: 3096.1655 - val_loss: 44.5107 - val_mean_squared_error: 3415.0093\nEpoch 696/1000\n5/5 [==============================] - 0s 18ms/step - loss: 39.6773 - mean_squared_error: 2574.9547 - val_loss: 44.5415 - val_mean_squared_error: 3420.2764\nEpoch 697/1000\n5/5 [==============================] - 0s 24ms/step - loss: 41.9196 - mean_squared_error: 3160.0789 - val_loss: 44.5488 - val_mean_squared_error: 3420.0857\nEpoch 698/1000\n5/5 [==============================] - 0s 17ms/step - loss: 41.1809 - mean_squared_error: 2892.9728 - val_loss: 44.5211 - val_mean_squared_error: 3414.3179\nEpoch 699/1000\n5/5 [==============================] - 0s 13ms/step - loss: 44.5974 - mean_squared_error: 3412.9499 - val_loss: 44.4881 - val_mean_squared_error: 3408.4299\nEpoch 700/1000\n5/5 [==============================] - 0s 14ms/step - loss: 41.8925 - mean_squared_error: 2903.3494 - val_loss: 44.4636 - val_mean_squared_error: 3404.4368\nEpoch 701/1000\n5/5 [==============================] - 0s 13ms/step - loss: 41.1535 - mean_squared_error: 3075.1100 - val_loss: 44.4313 - val_mean_squared_error: 3397.1731\nEpoch 702/1000\n5/5 [==============================] - 0s 13ms/step - loss: 46.8352 - mean_squared_error: 3451.1854 - val_loss: 44.4259 - val_mean_squared_error: 3395.8877\nEpoch 703/1000\n5/5 [==============================] - 0s 21ms/step - loss: 40.9187 - mean_squared_error: 3049.0403 - val_loss: 44.4182 - val_mean_squared_error: 3394.3035\nEpoch 704/1000\n5/5 [==============================] - 0s 15ms/step - loss: 41.6336 - mean_squared_error: 3043.4998 - val_loss: 44.4169 - val_mean_squared_error: 3394.6758\nEpoch 705/1000\n5/5 [==============================] - 0s 13ms/step - loss: 44.9238 - mean_squared_error: 3262.2707 - val_loss: 44.4225 - val_mean_squared_error: 3396.7368\nEpoch 706/1000\n5/5 [==============================] - 0s 14ms/step - loss: 45.5851 - mean_squared_error: 3430.1414 - val_loss: 44.4289 - val_mean_squared_error: 3396.8542\nEpoch 707/1000\n5/5 [==============================] - 0s 13ms/step - loss: 42.1542 - mean_squared_error: 3153.3166 - val_loss: 44.4427 - val_mean_squared_error: 3401.5708\nEpoch 708/1000\n5/5 [==============================] - 0s 14ms/step - loss: 45.3334 - mean_squared_error: 3464.8687 - val_loss: 44.4542 - val_mean_squared_error: 3405.1138\nEpoch 709/1000\n5/5 [==============================] - 0s 14ms/step - loss: 43.8491 - mean_squared_error: 3187.6735 - val_loss: 44.4696 - val_mean_squared_error: 3403.2800\nEpoch 710/1000\n5/5 [==============================] - 0s 16ms/step - loss: 41.2057 - mean_squared_error: 2987.8944 - val_loss: 44.4403 - val_mean_squared_error: 3400.1436\nEpoch 711/1000\n5/5 [==============================] - 0s 16ms/step - loss: 43.1775 - mean_squared_error: 3405.8001 - val_loss: 44.3850 - val_mean_squared_error: 3399.0464\nEpoch 712/1000\n5/5 [==============================] - 0s 14ms/step - loss: 42.7527 - mean_squared_error: 3117.5633 - val_loss: 44.3590 - val_mean_squared_error: 3400.0564\nEpoch 713/1000\n5/5 [==============================] - 0s 14ms/step - loss: 42.5944 - mean_squared_error: 2993.7431 - val_loss: 44.3206 - val_mean_squared_error: 3401.7310\nEpoch 714/1000\n5/5 [==============================] - 0s 15ms/step - loss: 42.8581 - mean_squared_error: 3034.5840 - val_loss: 44.2829 - val_mean_squared_error: 3399.8655\nEpoch 715/1000\n5/5 [==============================] - 0s 13ms/step - loss: 41.2362 - mean_squared_error: 3043.8494 - val_loss: 44.2727 - val_mean_squared_error: 3397.4519\nEpoch 716/1000\n5/5 [==============================] - 0s 13ms/step - loss: 40.5282 - mean_squared_error: 2860.9463 - val_loss: 44.2821 - val_mean_squared_error: 3396.0012\nEpoch 717/1000\n5/5 [==============================] - 0s 13ms/step - loss: 44.1134 - mean_squared_error: 3476.9996 - val_loss: 44.2916 - val_mean_squared_error: 3394.4900\nEpoch 718/1000\n5/5 [==============================] - 0s 14ms/step - loss: 42.7888 - mean_squared_error: 3099.5138 - val_loss: 44.2963 - val_mean_squared_error: 3393.2971\nEpoch 719/1000\n5/5 [==============================] - 0s 16ms/step - loss: 39.7356 - mean_squared_error: 2726.1029 - val_loss: 44.3175 - val_mean_squared_error: 3394.6787\nEpoch 720/1000\n5/5 [==============================] - 0s 15ms/step - loss: 43.3610 - mean_squared_error: 3180.0213 - val_loss: 44.3155 - val_mean_squared_error: 3396.9736\nEpoch 721/1000\n5/5 [==============================] - 0s 14ms/step - loss: 43.5724 - mean_squared_error: 3278.4220 - val_loss: 44.3014 - val_mean_squared_error: 3397.1716\nEpoch 722/1000\n5/5 [==============================] - 0s 20ms/step - loss: 46.6504 - mean_squared_error: 3567.5110 - val_loss: 44.2681 - val_mean_squared_error: 3398.3789\nEpoch 723/1000\n5/5 [==============================] - 0s 19ms/step - loss: 40.2175 - mean_squared_error: 2814.5022 - val_loss: 44.2370 - val_mean_squared_error: 3399.5044\nEpoch 724/1000\n5/5 [==============================] - 0s 22ms/step - loss: 43.4511 - mean_squared_error: 3313.9404 - val_loss: 44.2338 - val_mean_squared_error: 3403.0503\nEpoch 725/1000\n5/5 [==============================] - 0s 23ms/step - loss: 40.3576 - mean_squared_error: 2819.7010 - val_loss: 44.2457 - val_mean_squared_error: 3406.5288\nEpoch 726/1000\n5/5 [==============================] - 0s 14ms/step - loss: 43.6991 - mean_squared_error: 3320.6294 - val_loss: 44.2381 - val_mean_squared_error: 3402.6958\nEpoch 727/1000\n5/5 [==============================] - 0s 14ms/step - loss: 45.7046 - mean_squared_error: 3634.6822 - val_loss: 44.2444 - val_mean_squared_error: 3401.3774\nEpoch 728/1000\n5/5 [==============================] - 0s 14ms/step - loss: 40.7578 - mean_squared_error: 2840.2470 - val_loss: 44.2704 - val_mean_squared_error: 3401.7598\nEpoch 729/1000\n5/5 [==============================] - 0s 14ms/step - loss: 41.4395 - mean_squared_error: 2986.7301 - val_loss: 44.2728 - val_mean_squared_error: 3399.0793\nEpoch 730/1000\n5/5 [==============================] - 0s 14ms/step - loss: 40.7159 - mean_squared_error: 2806.4309 - val_loss: 44.2854 - val_mean_squared_error: 3394.0032\nEpoch 731/1000\n5/5 [==============================] - 0s 13ms/step - loss: 44.2096 - mean_squared_error: 3040.7352 - val_loss: 44.2964 - val_mean_squared_error: 3393.6172\nEpoch 732/1000\n5/5 [==============================] - 0s 14ms/step - loss: 45.1871 - mean_squared_error: 3658.9919 - val_loss: 44.3153 - val_mean_squared_error: 3392.5005\nEpoch 733/1000\n5/5 [==============================] - 0s 16ms/step - loss: 42.1283 - mean_squared_error: 3012.8685 - val_loss: 44.3613 - val_mean_squared_error: 3390.1541\nEpoch 734/1000\n5/5 [==============================] - 0s 16ms/step - loss: 40.5435 - mean_squared_error: 2701.8720 - val_loss: 44.3883 - val_mean_squared_error: 3390.9922\nEpoch 735/1000\n5/5 [==============================] - 0s 14ms/step - loss: 44.4842 - mean_squared_error: 3277.4739 - val_loss: 44.4014 - val_mean_squared_error: 3392.2090\nEpoch 736/1000\n5/5 [==============================] - 0s 24ms/step - loss: 41.7959 - mean_squared_error: 3085.1444 - val_loss: 44.4266 - val_mean_squared_error: 3393.6785\nEpoch 737/1000\n5/5 [==============================] - 0s 15ms/step - loss: 42.2455 - mean_squared_error: 2974.6867 - val_loss: 44.4458 - val_mean_squared_error: 3394.4028\nEpoch 738/1000\n5/5 [==============================] - 0s 15ms/step - loss: 41.8563 - mean_squared_error: 2961.0064 - val_loss: 44.4486 - val_mean_squared_error: 3391.4812\nEpoch 739/1000\n5/5 [==============================] - 0s 16ms/step - loss: 42.7955 - mean_squared_error: 3122.2465 - val_loss: 44.4203 - val_mean_squared_error: 3390.3877\nEpoch 740/1000\n5/5 [==============================] - 0s 16ms/step - loss: 41.6173 - mean_squared_error: 2919.2638 - val_loss: 44.3764 - val_mean_squared_error: 3389.1562\nEpoch 741/1000\n5/5 [==============================] - 0s 14ms/step - loss: 43.7181 - mean_squared_error: 3310.8162 - val_loss: 44.3477 - val_mean_squared_error: 3389.4319\nEpoch 742/1000\n5/5 [==============================] - 0s 15ms/step - loss: 42.6553 - mean_squared_error: 3287.6827 - val_loss: 44.3363 - val_mean_squared_error: 3389.3113\nEpoch 743/1000\n5/5 [==============================] - 0s 15ms/step - loss: 42.4615 - mean_squared_error: 3158.0432 - val_loss: 44.3367 - val_mean_squared_error: 3389.8340\nEpoch 744/1000\n5/5 [==============================] - 0s 15ms/step - loss: 41.0236 - mean_squared_error: 2987.0599 - val_loss: 44.3293 - val_mean_squared_error: 3391.4998\nEpoch 745/1000\n5/5 [==============================] - 0s 13ms/step - loss: 44.7693 - mean_squared_error: 3381.6937 - val_loss: 44.3381 - val_mean_squared_error: 3392.4622\nEpoch 746/1000\n5/5 [==============================] - 0s 14ms/step - loss: 41.3503 - mean_squared_error: 2898.4620 - val_loss: 44.3404 - val_mean_squared_error: 3393.1814\nEpoch 747/1000\n5/5 [==============================] - 0s 13ms/step - loss: 44.3818 - mean_squared_error: 3620.9247 - val_loss: 44.3106 - val_mean_squared_error: 3387.2913\nEpoch 748/1000\n5/5 [==============================] - 0s 13ms/step - loss: 43.8400 - mean_squared_error: 3339.1348 - val_loss: 44.2768 - val_mean_squared_error: 3381.8318\nEpoch 749/1000\n5/5 [==============================] - 0s 16ms/step - loss: 42.8186 - mean_squared_error: 3310.5952 - val_loss: 44.2495 - val_mean_squared_error: 3375.9153\nEpoch 750/1000\n5/5 [==============================] - 0s 13ms/step - loss: 39.9928 - mean_squared_error: 2868.6127 - val_loss: 44.2407 - val_mean_squared_error: 3372.5950\nEpoch 751/1000\n5/5 [==============================] - 0s 14ms/step - loss: 39.9509 - mean_squared_error: 2843.9023 - val_loss: 44.2641 - val_mean_squared_error: 3373.4863\nEpoch 752/1000\n5/5 [==============================] - 0s 14ms/step - loss: 43.1807 - mean_squared_error: 3258.2345 - val_loss: 44.2967 - val_mean_squared_error: 3376.3811\nEpoch 753/1000\n5/5 [==============================] - 0s 15ms/step - loss: 41.4070 - mean_squared_error: 2900.0753 - val_loss: 44.3351 - val_mean_squared_error: 3379.3984\nEpoch 754/1000\n5/5 [==============================] - 0s 15ms/step - loss: 41.2621 - mean_squared_error: 3061.9638 - val_loss: 44.3628 - val_mean_squared_error: 3379.4622\nEpoch 755/1000\n5/5 [==============================] - 0s 14ms/step - loss: 40.4525 - mean_squared_error: 2849.3536 - val_loss: 44.3811 - val_mean_squared_error: 3375.4536\nEpoch 756/1000\n5/5 [==============================] - 0s 16ms/step - loss: 44.2263 - mean_squared_error: 3220.1410 - val_loss: 44.3615 - val_mean_squared_error: 3365.9700\nEpoch 757/1000\n5/5 [==============================] - 0s 20ms/step - loss: 41.8114 - mean_squared_error: 2893.8651 - val_loss: 44.3279 - val_mean_squared_error: 3356.1128\nEpoch 758/1000\n5/5 [==============================] - 0s 23ms/step - loss: 43.6766 - mean_squared_error: 3309.5211 - val_loss: 44.3124 - val_mean_squared_error: 3353.0374\nEpoch 759/1000\n5/5 [==============================] - 0s 16ms/step - loss: 40.8619 - mean_squared_error: 2798.3554 - val_loss: 44.2878 - val_mean_squared_error: 3354.1797\nEpoch 760/1000\n5/5 [==============================] - 0s 13ms/step - loss: 44.0087 - mean_squared_error: 3252.2059 - val_loss: 44.2897 - val_mean_squared_error: 3356.2415\nEpoch 761/1000\n5/5 [==============================] - 0s 14ms/step - loss: 43.4226 - mean_squared_error: 3360.7561 - val_loss: 44.3193 - val_mean_squared_error: 3360.1016\nEpoch 762/1000\n5/5 [==============================] - 0s 15ms/step - loss: 43.6122 - mean_squared_error: 3231.0459 - val_loss: 44.3270 - val_mean_squared_error: 3362.3621\nEpoch 763/1000\n5/5 [==============================] - 0s 17ms/step - loss: 42.1433 - mean_squared_error: 2960.6465 - val_loss: 44.3191 - val_mean_squared_error: 3363.2317\nEpoch 764/1000\n5/5 [==============================] - 0s 15ms/step - loss: 42.6213 - mean_squared_error: 3175.1568 - val_loss: 44.2889 - val_mean_squared_error: 3363.5676\nEpoch 765/1000\n5/5 [==============================] - 0s 14ms/step - loss: 42.3256 - mean_squared_error: 3192.8822 - val_loss: 44.2735 - val_mean_squared_error: 3364.6577\nEpoch 766/1000\n5/5 [==============================] - 0s 13ms/step - loss: 40.8089 - mean_squared_error: 2866.5329 - val_loss: 44.2430 - val_mean_squared_error: 3362.5227\nEpoch 767/1000\n5/5 [==============================] - 0s 14ms/step - loss: 41.2368 - mean_squared_error: 2875.5577 - val_loss: 44.2250 - val_mean_squared_error: 3357.2576\nEpoch 768/1000\n5/5 [==============================] - 0s 19ms/step - loss: 41.3006 - mean_squared_error: 3087.3717 - val_loss: 44.2410 - val_mean_squared_error: 3354.4319\nEpoch 769/1000\n5/5 [==============================] - 0s 20ms/step - loss: 41.9924 - mean_squared_error: 2945.2569 - val_loss: 44.2777 - val_mean_squared_error: 3355.5720\nEpoch 770/1000\n5/5 [==============================] - 0s 14ms/step - loss: 41.9504 - mean_squared_error: 2955.6116 - val_loss: 44.2739 - val_mean_squared_error: 3357.9023\nEpoch 771/1000\n5/5 [==============================] - 0s 14ms/step - loss: 42.9272 - mean_squared_error: 3054.7563 - val_loss: 44.2781 - val_mean_squared_error: 3360.4863\nEpoch 772/1000\n5/5 [==============================] - 0s 15ms/step - loss: 44.3595 - mean_squared_error: 3455.0381 - val_loss: 44.2733 - val_mean_squared_error: 3362.9451\nEpoch 773/1000\n5/5 [==============================] - 0s 19ms/step - loss: 43.5467 - mean_squared_error: 3262.3117 - val_loss: 44.2476 - val_mean_squared_error: 3359.9988\nEpoch 774/1000\n5/5 [==============================] - 0s 17ms/step - loss: 39.3016 - mean_squared_error: 2696.2816 - val_loss: 44.2062 - val_mean_squared_error: 3353.2979\nEpoch 775/1000\n5/5 [==============================] - 0s 20ms/step - loss: 43.1869 - mean_squared_error: 3083.2324 - val_loss: 44.2011 - val_mean_squared_error: 3351.9380\nEpoch 776/1000\n5/5 [==============================] - 0s 17ms/step - loss: 43.0874 - mean_squared_error: 3213.4068 - val_loss: 44.1905 - val_mean_squared_error: 3346.8003\nEpoch 777/1000\n5/5 [==============================] - 0s 17ms/step - loss: 46.4063 - mean_squared_error: 3539.7044 - val_loss: 44.2126 - val_mean_squared_error: 3344.1482\nEpoch 778/1000\n5/5 [==============================] - 0s 14ms/step - loss: 43.5089 - mean_squared_error: 3068.2960 - val_loss: 44.2410 - val_mean_squared_error: 3345.9617\nEpoch 779/1000\n5/5 [==============================] - 0s 14ms/step - loss: 41.1036 - mean_squared_error: 3021.9092 - val_loss: 44.2630 - val_mean_squared_error: 3353.0591\nEpoch 780/1000\n5/5 [==============================] - 0s 14ms/step - loss: 42.1785 - mean_squared_error: 2835.1480 - val_loss: 44.3033 - val_mean_squared_error: 3359.3757\nEpoch 781/1000\n5/5 [==============================] - 0s 14ms/step - loss: 41.5876 - mean_squared_error: 2893.6504 - val_loss: 44.3255 - val_mean_squared_error: 3364.9309\nEpoch 782/1000\n5/5 [==============================] - 0s 20ms/step - loss: 42.8780 - mean_squared_error: 3258.8011 - val_loss: 44.3322 - val_mean_squared_error: 3368.2190\nEpoch 783/1000\n5/5 [==============================] - 0s 14ms/step - loss: 41.3247 - mean_squared_error: 3063.9111 - val_loss: 44.3414 - val_mean_squared_error: 3369.0747\nEpoch 784/1000\n5/5 [==============================] - 0s 13ms/step - loss: 42.8686 - mean_squared_error: 3093.9322 - val_loss: 44.3543 - val_mean_squared_error: 3366.6394\nEpoch 785/1000\n5/5 [==============================] - 0s 14ms/step - loss: 41.1747 - mean_squared_error: 2819.6234 - val_loss: 44.3540 - val_mean_squared_error: 3363.3447\nEpoch 786/1000\n5/5 [==============================] - 0s 18ms/step - loss: 44.6745 - mean_squared_error: 3452.2994 - val_loss: 44.3419 - val_mean_squared_error: 3360.8179\nEpoch 787/1000\n5/5 [==============================] - 0s 17ms/step - loss: 42.9401 - mean_squared_error: 3024.4852 - val_loss: 44.3338 - val_mean_squared_error: 3356.1470\nEpoch 788/1000\n5/5 [==============================] - 0s 14ms/step - loss: 44.1408 - mean_squared_error: 3318.2930 - val_loss: 44.3045 - val_mean_squared_error: 3354.3745\nEpoch 789/1000\n5/5 [==============================] - 0s 14ms/step - loss: 41.2682 - mean_squared_error: 2752.9869 - val_loss: 44.2579 - val_mean_squared_error: 3355.5405\nEpoch 790/1000\n5/5 [==============================] - 0s 13ms/step - loss: 43.9103 - mean_squared_error: 3272.6513 - val_loss: 44.2372 - val_mean_squared_error: 3356.2297\nEpoch 791/1000\n5/5 [==============================] - 0s 14ms/step - loss: 44.6383 - mean_squared_error: 3439.6499 - val_loss: 44.2143 - val_mean_squared_error: 3354.2910\nEpoch 792/1000\n5/5 [==============================] - 0s 14ms/step - loss: 44.0697 - mean_squared_error: 3423.1992 - val_loss: 44.2029 - val_mean_squared_error: 3353.6262\nEpoch 793/1000\n5/5 [==============================] - 0s 17ms/step - loss: 42.8053 - mean_squared_error: 3150.8480 - val_loss: 44.1866 - val_mean_squared_error: 3351.9048\nEpoch 794/1000\n5/5 [==============================] - 0s 14ms/step - loss: 43.1050 - mean_squared_error: 3407.8752 - val_loss: 44.1558 - val_mean_squared_error: 3350.4390\nEpoch 795/1000\n5/5 [==============================] - 0s 19ms/step - loss: 41.5042 - mean_squared_error: 2887.1056 - val_loss: 44.1278 - val_mean_squared_error: 3347.8237\nEpoch 796/1000\n5/5 [==============================] - 0s 16ms/step - loss: 41.7289 - mean_squared_error: 3024.8306 - val_loss: 44.1240 - val_mean_squared_error: 3347.2986\nEpoch 797/1000\n5/5 [==============================] - 0s 23ms/step - loss: 41.4662 - mean_squared_error: 3028.2052 - val_loss: 44.1214 - val_mean_squared_error: 3350.4609\nEpoch 798/1000\n5/5 [==============================] - 0s 19ms/step - loss: 44.0354 - mean_squared_error: 3240.8328 - val_loss: 44.1249 - val_mean_squared_error: 3352.6624\nEpoch 799/1000\n5/5 [==============================] - 0s 14ms/step - loss: 41.2695 - mean_squared_error: 2905.0155 - val_loss: 44.1187 - val_mean_squared_error: 3354.1863\nEpoch 800/1000\n5/5 [==============================] - 0s 19ms/step - loss: 41.0213 - mean_squared_error: 2852.8412 - val_loss: 44.0995 - val_mean_squared_error: 3354.8196\nEpoch 801/1000\n5/5 [==============================] - 0s 14ms/step - loss: 43.5259 - mean_squared_error: 2989.9293 - val_loss: 44.0945 - val_mean_squared_error: 3354.5266\nEpoch 802/1000\n5/5 [==============================] - 0s 14ms/step - loss: 43.5127 - mean_squared_error: 3121.0621 - val_loss: 44.0973 - val_mean_squared_error: 3357.1863\nEpoch 803/1000\n5/5 [==============================] - 0s 14ms/step - loss: 42.3687 - mean_squared_error: 3070.1689 - val_loss: 44.0937 - val_mean_squared_error: 3359.6670\nEpoch 804/1000\n5/5 [==============================] - 0s 14ms/step - loss: 40.7745 - mean_squared_error: 2870.8175 - val_loss: 44.0887 - val_mean_squared_error: 3357.7725\nEpoch 805/1000\n5/5 [==============================] - 0s 13ms/step - loss: 44.1031 - mean_squared_error: 3124.3451 - val_loss: 44.0853 - val_mean_squared_error: 3352.0010\nEpoch 806/1000\n5/5 [==============================] - 0s 13ms/step - loss: 42.2255 - mean_squared_error: 3035.3446 - val_loss: 44.1176 - val_mean_squared_error: 3349.3679\nEpoch 807/1000\n5/5 [==============================] - 0s 16ms/step - loss: 43.6311 - mean_squared_error: 3223.0302 - val_loss: 44.1260 - val_mean_squared_error: 3348.3967\nEpoch 808/1000\n5/5 [==============================] - 0s 17ms/step - loss: 44.9433 - mean_squared_error: 3255.3354 - val_loss: 44.1380 - val_mean_squared_error: 3349.3120\nEpoch 809/1000\n5/5 [==============================] - 0s 13ms/step - loss: 41.8781 - mean_squared_error: 3027.6662 - val_loss: 44.1601 - val_mean_squared_error: 3354.6455\nEpoch 810/1000\n5/5 [==============================] - 0s 14ms/step - loss: 44.7855 - mean_squared_error: 3458.0087 - val_loss: 44.2023 - val_mean_squared_error: 3363.6658\nEpoch 811/1000\n5/5 [==============================] - 0s 17ms/step - loss: 40.2850 - mean_squared_error: 2773.4911 - val_loss: 44.2388 - val_mean_squared_error: 3372.4419\nEpoch 812/1000\n5/5 [==============================] - 0s 15ms/step - loss: 44.5330 - mean_squared_error: 3243.4466 - val_loss: 44.2770 - val_mean_squared_error: 3379.5908\nEpoch 813/1000\n5/5 [==============================] - 0s 13ms/step - loss: 42.4718 - mean_squared_error: 3211.2001 - val_loss: 44.2990 - val_mean_squared_error: 3382.1509\nEpoch 814/1000\n5/5 [==============================] - 0s 17ms/step - loss: 41.7898 - mean_squared_error: 2974.7201 - val_loss: 44.3105 - val_mean_squared_error: 3380.7332\nEpoch 815/1000\n5/5 [==============================] - 0s 22ms/step - loss: 44.5554 - mean_squared_error: 3499.3560 - val_loss: 44.3212 - val_mean_squared_error: 3378.7043\nEpoch 816/1000\n5/5 [==============================] - 0s 14ms/step - loss: 42.7518 - mean_squared_error: 3279.4844 - val_loss: 44.3014 - val_mean_squared_error: 3378.6665\nEpoch 817/1000\n5/5 [==============================] - 0s 14ms/step - loss: 41.7273 - mean_squared_error: 3006.3618 - val_loss: 44.2950 - val_mean_squared_error: 3378.5332\nEpoch 818/1000\n5/5 [==============================] - 0s 13ms/step - loss: 44.7198 - mean_squared_error: 3168.5059 - val_loss: 44.2925 - val_mean_squared_error: 3385.7742\nEpoch 819/1000\n5/5 [==============================] - 0s 13ms/step - loss: 42.5018 - mean_squared_error: 3170.1474 - val_loss: 44.2892 - val_mean_squared_error: 3390.5950\nEpoch 820/1000\n5/5 [==============================] - 0s 14ms/step - loss: 41.8250 - mean_squared_error: 3105.7688 - val_loss: 44.2928 - val_mean_squared_error: 3389.8613\nEpoch 821/1000\n5/5 [==============================] - 0s 13ms/step - loss: 44.6553 - mean_squared_error: 3290.4640 - val_loss: 44.3049 - val_mean_squared_error: 3391.2944\nEpoch 822/1000\n5/5 [==============================] - 0s 19ms/step - loss: 41.3166 - mean_squared_error: 2866.8617 - val_loss: 44.3074 - val_mean_squared_error: 3392.6182\nEpoch 823/1000\n5/5 [==============================] - 0s 18ms/step - loss: 39.5246 - mean_squared_error: 2593.5725 - val_loss: 44.3036 - val_mean_squared_error: 3390.1118\nEpoch 824/1000\n5/5 [==============================] - 0s 15ms/step - loss: 41.8578 - mean_squared_error: 3070.3798 - val_loss: 44.2985 - val_mean_squared_error: 3386.6611\nEpoch 825/1000\n5/5 [==============================] - 0s 16ms/step - loss: 42.1868 - mean_squared_error: 3015.7525 - val_loss: 44.2931 - val_mean_squared_error: 3379.5647\nEpoch 826/1000\n5/5 [==============================] - 0s 17ms/step - loss: 39.7562 - mean_squared_error: 2651.4849 - val_loss: 44.2978 - val_mean_squared_error: 3374.7156\nEpoch 827/1000\n5/5 [==============================] - 0s 14ms/step - loss: 41.7845 - mean_squared_error: 3025.8542 - val_loss: 44.3170 - val_mean_squared_error: 3373.2512\nEpoch 828/1000\n5/5 [==============================] - 0s 14ms/step - loss: 44.1637 - mean_squared_error: 3282.5516 - val_loss: 44.3310 - val_mean_squared_error: 3372.8059\nEpoch 829/1000\n5/5 [==============================] - 0s 14ms/step - loss: 38.6673 - mean_squared_error: 2658.1297 - val_loss: 44.3416 - val_mean_squared_error: 3376.0537\nEpoch 830/1000\n5/5 [==============================] - 0s 13ms/step - loss: 42.9619 - mean_squared_error: 2930.1483 - val_loss: 44.3825 - val_mean_squared_error: 3379.5562\nEpoch 831/1000\n5/5 [==============================] - 0s 16ms/step - loss: 39.7388 - mean_squared_error: 2826.5668 - val_loss: 44.3898 - val_mean_squared_error: 3382.8054\nEpoch 832/1000\n5/5 [==============================] - 0s 16ms/step - loss: 42.0127 - mean_squared_error: 3073.9707 - val_loss: 44.3804 - val_mean_squared_error: 3382.0193\nEpoch 833/1000\n5/5 [==============================] - 0s 16ms/step - loss: 42.1521 - mean_squared_error: 3077.7842 - val_loss: 44.3882 - val_mean_squared_error: 3381.3972\nEpoch 834/1000\n5/5 [==============================] - 0s 13ms/step - loss: 42.2620 - mean_squared_error: 3035.7175 - val_loss: 44.4012 - val_mean_squared_error: 3381.5298\nEpoch 835/1000\n5/5 [==============================] - 0s 14ms/step - loss: 42.7591 - mean_squared_error: 2921.0679 - val_loss: 44.4193 - val_mean_squared_error: 3378.9309\nEpoch 836/1000\n5/5 [==============================] - 0s 15ms/step - loss: 42.2640 - mean_squared_error: 3031.0745 - val_loss: 44.3969 - val_mean_squared_error: 3378.1040\nEpoch 837/1000\n5/5 [==============================] - 0s 15ms/step - loss: 43.7807 - mean_squared_error: 3236.1204 - val_loss: 44.3810 - val_mean_squared_error: 3377.9651\nEpoch 838/1000\n5/5 [==============================] - 0s 20ms/step - loss: 40.7385 - mean_squared_error: 3098.4525 - val_loss: 44.3748 - val_mean_squared_error: 3383.7222\nEpoch 839/1000\n5/5 [==============================] - 0s 14ms/step - loss: 42.1701 - mean_squared_error: 3230.5992 - val_loss: 44.3508 - val_mean_squared_error: 3390.3130\nEpoch 840/1000\n5/5 [==============================] - 0s 16ms/step - loss: 40.2010 - mean_squared_error: 2965.3323 - val_loss: 44.3573 - val_mean_squared_error: 3391.5242\nEpoch 841/1000\n5/5 [==============================] - 0s 15ms/step - loss: 40.5489 - mean_squared_error: 3110.5011 - val_loss: 44.3382 - val_mean_squared_error: 3389.8633\nEpoch 842/1000\n5/5 [==============================] - 0s 13ms/step - loss: 40.3242 - mean_squared_error: 2779.7998 - val_loss: 44.3537 - val_mean_squared_error: 3391.1208\nEpoch 843/1000\n5/5 [==============================] - 0s 17ms/step - loss: 41.6002 - mean_squared_error: 3021.2899 - val_loss: 44.3504 - val_mean_squared_error: 3393.5530\nEpoch 844/1000\n5/5 [==============================] - 0s 16ms/step - loss: 40.2354 - mean_squared_error: 2871.0538 - val_loss: 44.3673 - val_mean_squared_error: 3393.4233\nEpoch 845/1000\n5/5 [==============================] - 0s 14ms/step - loss: 41.1276 - mean_squared_error: 2828.2684 - val_loss: 44.3789 - val_mean_squared_error: 3388.9985\nEpoch 846/1000\n5/5 [==============================] - 0s 14ms/step - loss: 40.3169 - mean_squared_error: 2824.9905 - val_loss: 44.3555 - val_mean_squared_error: 3382.2788\nEpoch 847/1000\n5/5 [==============================] - 0s 13ms/step - loss: 43.1957 - mean_squared_error: 3105.7922 - val_loss: 44.3335 - val_mean_squared_error: 3375.1814\nEpoch 848/1000\n5/5 [==============================] - 0s 13ms/step - loss: 41.9596 - mean_squared_error: 2863.0868 - val_loss: 44.3438 - val_mean_squared_error: 3371.0005\nEpoch 849/1000\n5/5 [==============================] - 0s 14ms/step - loss: 39.8871 - mean_squared_error: 2682.2471 - val_loss: 44.3471 - val_mean_squared_error: 3364.4370\nEpoch 850/1000\n5/5 [==============================] - 0s 13ms/step - loss: 41.1936 - mean_squared_error: 2970.2383 - val_loss: 44.3568 - val_mean_squared_error: 3359.1243\nEpoch 851/1000\n5/5 [==============================] - 0s 13ms/step - loss: 39.7183 - mean_squared_error: 2818.8370 - val_loss: 44.3601 - val_mean_squared_error: 3354.7512\nEpoch 852/1000\n5/5 [==============================] - 0s 15ms/step - loss: 40.9036 - mean_squared_error: 2743.3415 - val_loss: 44.3416 - val_mean_squared_error: 3350.4387\nEpoch 853/1000\n5/5 [==============================] - 0s 17ms/step - loss: 41.7407 - mean_squared_error: 3028.2996 - val_loss: 44.3216 - val_mean_squared_error: 3347.3723\nEpoch 854/1000\n5/5 [==============================] - 0s 15ms/step - loss: 43.0012 - mean_squared_error: 3196.5966 - val_loss: 44.2813 - val_mean_squared_error: 3343.4609\nEpoch 855/1000\n5/5 [==============================] - 0s 13ms/step - loss: 44.2976 - mean_squared_error: 3398.8281 - val_loss: 44.2403 - val_mean_squared_error: 3341.6790\nEpoch 856/1000\n5/5 [==============================] - 0s 15ms/step - loss: 41.6355 - mean_squared_error: 2864.0912 - val_loss: 44.2350 - val_mean_squared_error: 3344.0549\nEpoch 857/1000\n5/5 [==============================] - 0s 18ms/step - loss: 42.3138 - mean_squared_error: 2970.0028 - val_loss: 44.2430 - val_mean_squared_error: 3345.8152\nEpoch 858/1000\n5/5 [==============================] - 0s 14ms/step - loss: 41.4377 - mean_squared_error: 2908.3884 - val_loss: 44.2704 - val_mean_squared_error: 3348.4629\nEpoch 859/1000\n5/5 [==============================] - 0s 14ms/step - loss: 42.5164 - mean_squared_error: 2949.0231 - val_loss: 44.2956 - val_mean_squared_error: 3349.7922\nEpoch 860/1000\n5/5 [==============================] - 0s 16ms/step - loss: 39.1990 - mean_squared_error: 2639.5450 - val_loss: 44.3343 - val_mean_squared_error: 3349.8862\nEpoch 861/1000\n5/5 [==============================] - 0s 14ms/step - loss: 44.1025 - mean_squared_error: 3162.2179 - val_loss: 44.3741 - val_mean_squared_error: 3350.4548\nEpoch 862/1000\n5/5 [==============================] - 0s 13ms/step - loss: 43.6422 - mean_squared_error: 3185.6744 - val_loss: 44.3539 - val_mean_squared_error: 3351.6733\nEpoch 863/1000\n5/5 [==============================] - 0s 13ms/step - loss: 41.2719 - mean_squared_error: 2768.6455 - val_loss: 44.3387 - val_mean_squared_error: 3352.1086\nEpoch 864/1000\n5/5 [==============================] - 0s 14ms/step - loss: 43.0960 - mean_squared_error: 3044.9058 - val_loss: 44.3408 - val_mean_squared_error: 3354.8291\nEpoch 865/1000\n5/5 [==============================] - 0s 14ms/step - loss: 42.4922 - mean_squared_error: 3084.9731 - val_loss: 44.3489 - val_mean_squared_error: 3359.2910\nEpoch 866/1000\n5/5 [==============================] - 0s 13ms/step - loss: 41.7658 - mean_squared_error: 2923.6006 - val_loss: 44.3579 - val_mean_squared_error: 3359.4275\nEpoch 867/1000\n5/5 [==============================] - 0s 15ms/step - loss: 40.1398 - mean_squared_error: 2831.8776 - val_loss: 44.3519 - val_mean_squared_error: 3357.1604\nEpoch 868/1000\n5/5 [==============================] - 0s 14ms/step - loss: 45.0275 - mean_squared_error: 3670.9409 - val_loss: 44.3336 - val_mean_squared_error: 3351.9761\nEpoch 869/1000\n5/5 [==============================] - 0s 18ms/step - loss: 42.5343 - mean_squared_error: 2997.8162 - val_loss: 44.3011 - val_mean_squared_error: 3352.3694\nEpoch 870/1000\n5/5 [==============================] - 0s 14ms/step - loss: 42.8865 - mean_squared_error: 3055.6030 - val_loss: 44.2750 - val_mean_squared_error: 3353.2437\nEpoch 871/1000\n5/5 [==============================] - 0s 15ms/step - loss: 43.7665 - mean_squared_error: 3100.6897 - val_loss: 44.2967 - val_mean_squared_error: 3347.9968\nEpoch 872/1000\n5/5 [==============================] - 0s 13ms/step - loss: 43.3129 - mean_squared_error: 3243.4563 - val_loss: 44.3169 - val_mean_squared_error: 3342.3518\nEpoch 873/1000\n5/5 [==============================] - 0s 13ms/step - loss: 43.1222 - mean_squared_error: 3074.8764 - val_loss: 44.3325 - val_mean_squared_error: 3341.2368\nEpoch 874/1000\n5/5 [==============================] - 0s 13ms/step - loss: 41.3116 - mean_squared_error: 2865.9457 - val_loss: 44.3317 - val_mean_squared_error: 3339.4036\nEpoch 875/1000\n5/5 [==============================] - 0s 13ms/step - loss: 41.6342 - mean_squared_error: 2933.5782 - val_loss: 44.3496 - val_mean_squared_error: 3340.7808\nEpoch 876/1000\n5/5 [==============================] - 0s 14ms/step - loss: 43.0182 - mean_squared_error: 2972.6475 - val_loss: 44.3639 - val_mean_squared_error: 3342.6987\nEpoch 877/1000\n5/5 [==============================] - 0s 13ms/step - loss: 39.6800 - mean_squared_error: 2846.8707 - val_loss: 44.3732 - val_mean_squared_error: 3349.1938\nEpoch 878/1000\n5/5 [==============================] - 0s 13ms/step - loss: 39.2695 - mean_squared_error: 2674.5107 - val_loss: 44.3851 - val_mean_squared_error: 3350.0935\nEpoch 879/1000\n5/5 [==============================] - 0s 13ms/step - loss: 44.5649 - mean_squared_error: 3307.2488 - val_loss: 44.3708 - val_mean_squared_error: 3349.5967\nEpoch 880/1000\n5/5 [==============================] - 0s 13ms/step - loss: 44.0560 - mean_squared_error: 3353.4872 - val_loss: 44.3538 - val_mean_squared_error: 3351.9158\nEpoch 881/1000\n5/5 [==============================] - 0s 13ms/step - loss: 40.6342 - mean_squared_error: 2965.6621 - val_loss: 44.3650 - val_mean_squared_error: 3354.3569\nEpoch 882/1000\n5/5 [==============================] - 0s 13ms/step - loss: 41.6292 - mean_squared_error: 3148.0653 - val_loss: 44.3907 - val_mean_squared_error: 3356.2537\nEpoch 883/1000\n5/5 [==============================] - 0s 13ms/step - loss: 41.2876 - mean_squared_error: 2839.9078 - val_loss: 44.3791 - val_mean_squared_error: 3356.0261\nEpoch 884/1000\n5/5 [==============================] - 0s 17ms/step - loss: 41.7754 - mean_squared_error: 3021.9961 - val_loss: 44.3787 - val_mean_squared_error: 3358.3696\nEpoch 885/1000\n5/5 [==============================] - 0s 13ms/step - loss: 43.6746 - mean_squared_error: 3200.0480 - val_loss: 44.3782 - val_mean_squared_error: 3364.3792\nEpoch 886/1000\n5/5 [==============================] - 0s 15ms/step - loss: 43.8587 - mean_squared_error: 3150.8616 - val_loss: 44.3641 - val_mean_squared_error: 3368.2966\nEpoch 887/1000\n5/5 [==============================] - 0s 15ms/step - loss: 41.8147 - mean_squared_error: 3136.6886 - val_loss: 44.3354 - val_mean_squared_error: 3363.6240\nEpoch 888/1000\n5/5 [==============================] - 0s 15ms/step - loss: 42.2184 - mean_squared_error: 2849.5983 - val_loss: 44.3030 - val_mean_squared_error: 3358.5283\nEpoch 889/1000\n5/5 [==============================] - 0s 14ms/step - loss: 42.5866 - mean_squared_error: 3324.6837 - val_loss: 44.2900 - val_mean_squared_error: 3360.8582\nEpoch 890/1000\n5/5 [==============================] - 0s 14ms/step - loss: 42.9059 - mean_squared_error: 3065.7322 - val_loss: 44.2814 - val_mean_squared_error: 3356.4048\nEpoch 891/1000\n5/5 [==============================] - 0s 14ms/step - loss: 41.1715 - mean_squared_error: 2914.3003 - val_loss: 44.2623 - val_mean_squared_error: 3350.3152\nEpoch 892/1000\n5/5 [==============================] - 0s 13ms/step - loss: 41.6333 - mean_squared_error: 3060.8881 - val_loss: 44.2619 - val_mean_squared_error: 3347.6328\nEpoch 893/1000\n5/5 [==============================] - 0s 13ms/step - loss: 43.0015 - mean_squared_error: 3257.5717 - val_loss: 44.2571 - val_mean_squared_error: 3343.5859\nEpoch 894/1000\n5/5 [==============================] - 0s 13ms/step - loss: 41.4081 - mean_squared_error: 2995.6357 - val_loss: 44.2606 - val_mean_squared_error: 3337.4644\nEpoch 895/1000\n5/5 [==============================] - 0s 14ms/step - loss: 40.8036 - mean_squared_error: 2835.9041 - val_loss: 44.2393 - val_mean_squared_error: 3331.9036\nEpoch 896/1000\n5/5 [==============================] - 0s 15ms/step - loss: 41.9445 - mean_squared_error: 3199.7300 - val_loss: 44.2301 - val_mean_squared_error: 3326.3425\nEpoch 897/1000\n5/5 [==============================] - 0s 14ms/step - loss: 37.6644 - mean_squared_error: 2554.3464 - val_loss: 44.2234 - val_mean_squared_error: 3322.1060\nEpoch 898/1000\n5/5 [==============================] - 0s 14ms/step - loss: 44.9155 - mean_squared_error: 3587.9312 - val_loss: 44.2027 - val_mean_squared_error: 3317.4690\nEpoch 899/1000\n5/5 [==============================] - 0s 14ms/step - loss: 41.8937 - mean_squared_error: 2974.4112 - val_loss: 44.1959 - val_mean_squared_error: 3317.3735\nEpoch 900/1000\n5/5 [==============================] - 0s 16ms/step - loss: 41.8629 - mean_squared_error: 3052.6688 - val_loss: 44.2244 - val_mean_squared_error: 3316.0232\nEpoch 901/1000\n5/5 [==============================] - 0s 14ms/step - loss: 42.7848 - mean_squared_error: 3128.4434 - val_loss: 44.2537 - val_mean_squared_error: 3317.0823\nEpoch 902/1000\n5/5 [==============================] - 0s 16ms/step - loss: 41.7966 - mean_squared_error: 3018.1265 - val_loss: 44.2799 - val_mean_squared_error: 3317.1934\nEpoch 903/1000\n5/5 [==============================] - 0s 19ms/step - loss: 41.8910 - mean_squared_error: 2992.0778 - val_loss: 44.2887 - val_mean_squared_error: 3314.4253\nEpoch 904/1000\n5/5 [==============================] - 0s 17ms/step - loss: 44.0326 - mean_squared_error: 3174.4938 - val_loss: 44.2856 - val_mean_squared_error: 3314.1887\nEpoch 905/1000\n5/5 [==============================] - 0s 20ms/step - loss: 42.5765 - mean_squared_error: 3111.7982 - val_loss: 44.2961 - val_mean_squared_error: 3310.1255\nEpoch 906/1000\n5/5 [==============================] - 0s 21ms/step - loss: 39.6632 - mean_squared_error: 2637.4961 - val_loss: 44.2813 - val_mean_squared_error: 3306.4358\nEpoch 907/1000\n5/5 [==============================] - 0s 15ms/step - loss: 40.9601 - mean_squared_error: 3000.3656 - val_loss: 44.2793 - val_mean_squared_error: 3307.0024\nEpoch 908/1000\n5/5 [==============================] - 0s 13ms/step - loss: 40.3566 - mean_squared_error: 2862.3293 - val_loss: 44.2368 - val_mean_squared_error: 3310.0474\nEpoch 909/1000\n5/5 [==============================] - 0s 13ms/step - loss: 42.4200 - mean_squared_error: 2930.1824 - val_loss: 44.1799 - val_mean_squared_error: 3314.3025\nEpoch 910/1000\n5/5 [==============================] - 0s 14ms/step - loss: 41.7571 - mean_squared_error: 2909.5529 - val_loss: 44.1542 - val_mean_squared_error: 3316.2092\nEpoch 911/1000\n5/5 [==============================] - 0s 13ms/step - loss: 39.9602 - mean_squared_error: 2720.3350 - val_loss: 44.1750 - val_mean_squared_error: 3316.3372\nEpoch 912/1000\n5/5 [==============================] - 0s 14ms/step - loss: 43.1491 - mean_squared_error: 3157.5218 - val_loss: 44.2067 - val_mean_squared_error: 3320.3701\nEpoch 913/1000\n5/5 [==============================] - 0s 14ms/step - loss: 44.4570 - mean_squared_error: 3474.2178 - val_loss: 44.2314 - val_mean_squared_error: 3326.9143\nEpoch 914/1000\n5/5 [==============================] - 0s 15ms/step - loss: 43.0292 - mean_squared_error: 3114.8362 - val_loss: 44.2248 - val_mean_squared_error: 3331.1172\nEpoch 915/1000\n5/5 [==============================] - 0s 14ms/step - loss: 41.4359 - mean_squared_error: 2996.8491 - val_loss: 44.2222 - val_mean_squared_error: 3337.3259\nEpoch 916/1000\n5/5 [==============================] - 0s 14ms/step - loss: 43.2982 - mean_squared_error: 3300.6040 - val_loss: 44.2365 - val_mean_squared_error: 3342.6936\nEpoch 917/1000\n5/5 [==============================] - 0s 19ms/step - loss: 42.7667 - mean_squared_error: 2922.4639 - val_loss: 44.2208 - val_mean_squared_error: 3342.4744\nEpoch 918/1000\n5/5 [==============================] - 0s 20ms/step - loss: 41.3756 - mean_squared_error: 2963.0751 - val_loss: 44.1990 - val_mean_squared_error: 3338.2563\nEpoch 919/1000\n5/5 [==============================] - 0s 15ms/step - loss: 44.1524 - mean_squared_error: 3317.7719 - val_loss: 44.1841 - val_mean_squared_error: 3335.9548\nEpoch 920/1000\n5/5 [==============================] - 0s 13ms/step - loss: 43.8037 - mean_squared_error: 3262.0075 - val_loss: 44.2175 - val_mean_squared_error: 3336.2947\nEpoch 921/1000\n5/5 [==============================] - 0s 15ms/step - loss: 43.4385 - mean_squared_error: 3299.0069 - val_loss: 44.2549 - val_mean_squared_error: 3338.4873\nEpoch 922/1000\n5/5 [==============================] - 0s 14ms/step - loss: 42.9285 - mean_squared_error: 3329.6158 - val_loss: 44.2830 - val_mean_squared_error: 3338.0110\nEpoch 923/1000\n5/5 [==============================] - 0s 15ms/step - loss: 41.8627 - mean_squared_error: 3025.6752 - val_loss: 44.3188 - val_mean_squared_error: 3336.4792\nEpoch 924/1000\n5/5 [==============================] - 0s 14ms/step - loss: 44.3277 - mean_squared_error: 3298.5769 - val_loss: 44.3661 - val_mean_squared_error: 3342.3259\nEpoch 925/1000\n5/5 [==============================] - 0s 13ms/step - loss: 43.9210 - mean_squared_error: 3332.4899 - val_loss: 44.3931 - val_mean_squared_error: 3342.8455\nEpoch 926/1000\n5/5 [==============================] - 0s 13ms/step - loss: 41.8391 - mean_squared_error: 3005.3402 - val_loss: 44.4284 - val_mean_squared_error: 3348.1772\nEpoch 927/1000\n5/5 [==============================] - 0s 14ms/step - loss: 43.1263 - mean_squared_error: 3172.2232 - val_loss: 44.4476 - val_mean_squared_error: 3352.2668\nEpoch 928/1000\n5/5 [==============================] - 0s 13ms/step - loss: 40.3826 - mean_squared_error: 2664.4154 - val_loss: 44.4369 - val_mean_squared_error: 3350.2432\nEpoch 929/1000\n5/5 [==============================] - 0s 17ms/step - loss: 41.6956 - mean_squared_error: 2836.7266 - val_loss: 44.3981 - val_mean_squared_error: 3346.1533\nEpoch 930/1000\n5/5 [==============================] - 0s 19ms/step - loss: 42.7695 - mean_squared_error: 3161.2281 - val_loss: 44.3473 - val_mean_squared_error: 3343.0610\nEpoch 931/1000\n5/5 [==============================] - 0s 17ms/step - loss: 43.6336 - mean_squared_error: 3319.4007 - val_loss: 44.3251 - val_mean_squared_error: 3340.9937\nEpoch 932/1000\n5/5 [==============================] - 0s 23ms/step - loss: 43.1492 - mean_squared_error: 3017.2277 - val_loss: 44.3184 - val_mean_squared_error: 3337.0015\nEpoch 933/1000\n5/5 [==============================] - 0s 14ms/step - loss: 44.3865 - mean_squared_error: 3452.0143 - val_loss: 44.3194 - val_mean_squared_error: 3335.4941\nEpoch 934/1000\n5/5 [==============================] - 0s 15ms/step - loss: 43.6208 - mean_squared_error: 3423.2817 - val_loss: 44.3234 - val_mean_squared_error: 3333.5950\nEpoch 935/1000\n5/5 [==============================] - 0s 14ms/step - loss: 40.8730 - mean_squared_error: 2771.2842 - val_loss: 44.3262 - val_mean_squared_error: 3330.8972\nEpoch 936/1000\n5/5 [==============================] - 0s 17ms/step - loss: 43.8347 - mean_squared_error: 3233.5175 - val_loss: 44.3247 - val_mean_squared_error: 3326.7695\nEpoch 937/1000\n5/5 [==============================] - 0s 15ms/step - loss: 43.0227 - mean_squared_error: 3233.5581 - val_loss: 44.3295 - val_mean_squared_error: 3320.6750\nEpoch 938/1000\n5/5 [==============================] - 0s 14ms/step - loss: 42.7165 - mean_squared_error: 3249.9685 - val_loss: 44.3003 - val_mean_squared_error: 3316.8818\nEpoch 939/1000\n5/5 [==============================] - 0s 13ms/step - loss: 44.0901 - mean_squared_error: 3201.2846 - val_loss: 44.2549 - val_mean_squared_error: 3317.5378\nEpoch 940/1000\n5/5 [==============================] - 0s 15ms/step - loss: 39.0271 - mean_squared_error: 2713.2063 - val_loss: 44.2057 - val_mean_squared_error: 3321.6760\nEpoch 941/1000\n5/5 [==============================] - 0s 13ms/step - loss: 43.3179 - mean_squared_error: 3141.1575 - val_loss: 44.1951 - val_mean_squared_error: 3329.2876\nEpoch 942/1000\n5/5 [==============================] - 0s 15ms/step - loss: 43.3884 - mean_squared_error: 3341.5802 - val_loss: 44.2028 - val_mean_squared_error: 3335.6492\nEpoch 943/1000\n5/5 [==============================] - 0s 16ms/step - loss: 37.6901 - mean_squared_error: 2468.8365 - val_loss: 44.2203 - val_mean_squared_error: 3339.5225\nEpoch 944/1000\n5/5 [==============================] - 0s 16ms/step - loss: 41.0814 - mean_squared_error: 3105.9813 - val_loss: 44.2052 - val_mean_squared_error: 3339.9929\nEpoch 945/1000\n5/5 [==============================] - 0s 14ms/step - loss: 43.1612 - mean_squared_error: 3420.6421 - val_loss: 44.1990 - val_mean_squared_error: 3337.1895\nEpoch 946/1000\n5/5 [==============================] - 0s 13ms/step - loss: 42.8596 - mean_squared_error: 3263.0158 - val_loss: 44.2000 - val_mean_squared_error: 3333.8362\nEpoch 947/1000\n5/5 [==============================] - 0s 15ms/step - loss: 40.0231 - mean_squared_error: 2727.5133 - val_loss: 44.2050 - val_mean_squared_error: 3332.6230\nEpoch 948/1000\n5/5 [==============================] - 0s 23ms/step - loss: 42.8579 - mean_squared_error: 3187.1033 - val_loss: 44.2038 - val_mean_squared_error: 3331.5552\nEpoch 949/1000\n5/5 [==============================] - 0s 14ms/step - loss: 40.8044 - mean_squared_error: 2812.6534 - val_loss: 44.1769 - val_mean_squared_error: 3327.2229\nEpoch 950/1000\n5/5 [==============================] - 0s 13ms/step - loss: 43.3051 - mean_squared_error: 3213.3481 - val_loss: 44.1691 - val_mean_squared_error: 3327.8030\nEpoch 951/1000\n5/5 [==============================] - 0s 13ms/step - loss: 44.8426 - mean_squared_error: 3316.6218 - val_loss: 44.1516 - val_mean_squared_error: 3331.3362\nEpoch 952/1000\n5/5 [==============================] - 0s 13ms/step - loss: 41.6442 - mean_squared_error: 3001.6243 - val_loss: 44.1248 - val_mean_squared_error: 3335.3557\nEpoch 953/1000\n5/5 [==============================] - 0s 13ms/step - loss: 39.3142 - mean_squared_error: 2642.1953 - val_loss: 44.1126 - val_mean_squared_error: 3335.7769\nEpoch 954/1000\n5/5 [==============================] - 0s 13ms/step - loss: 43.4080 - mean_squared_error: 3298.3464 - val_loss: 44.1227 - val_mean_squared_error: 3334.9253\nEpoch 955/1000\n5/5 [==============================] - 0s 14ms/step - loss: 41.7998 - mean_squared_error: 3134.2910 - val_loss: 44.1343 - val_mean_squared_error: 3333.9812\nEpoch 956/1000\n5/5 [==============================] - 0s 13ms/step - loss: 41.5191 - mean_squared_error: 2944.0409 - val_loss: 44.1577 - val_mean_squared_error: 3333.9648\nEpoch 957/1000\n5/5 [==============================] - 0s 13ms/step - loss: 41.3479 - mean_squared_error: 3008.8865 - val_loss: 44.1808 - val_mean_squared_error: 3336.9519\nEpoch 958/1000\n5/5 [==============================] - 0s 13ms/step - loss: 44.8383 - mean_squared_error: 3213.0701 - val_loss: 44.2044 - val_mean_squared_error: 3340.8171\nEpoch 959/1000\n5/5 [==============================] - 0s 13ms/step - loss: 40.7898 - mean_squared_error: 2760.7193 - val_loss: 44.2075 - val_mean_squared_error: 3342.4922\nEpoch 960/1000\n5/5 [==============================] - 0s 22ms/step - loss: 44.4450 - mean_squared_error: 3209.6702 - val_loss: 44.2143 - val_mean_squared_error: 3344.5552\nEpoch 961/1000\n5/5 [==============================] - 0s 14ms/step - loss: 43.7167 - mean_squared_error: 3251.4613 - val_loss: 44.2473 - val_mean_squared_error: 3345.2583\nEpoch 962/1000\n5/5 [==============================] - 0s 17ms/step - loss: 42.0660 - mean_squared_error: 3051.2811 - val_loss: 44.2298 - val_mean_squared_error: 3349.5559\nEpoch 963/1000\n5/5 [==============================] - 0s 14ms/step - loss: 44.1207 - mean_squared_error: 3250.0133 - val_loss: 44.1935 - val_mean_squared_error: 3350.2061\nEpoch 964/1000\n5/5 [==============================] - 0s 16ms/step - loss: 41.4052 - mean_squared_error: 2967.4789 - val_loss: 44.1715 - val_mean_squared_error: 3351.8123\nEpoch 965/1000\n5/5 [==============================] - 0s 13ms/step - loss: 44.3609 - mean_squared_error: 3212.9515 - val_loss: 44.1825 - val_mean_squared_error: 3353.0830\nEpoch 966/1000\n5/5 [==============================] - 0s 14ms/step - loss: 44.9889 - mean_squared_error: 3265.9482 - val_loss: 44.2019 - val_mean_squared_error: 3351.6528\nEpoch 967/1000\n5/5 [==============================] - 0s 14ms/step - loss: 45.2043 - mean_squared_error: 3623.9545 - val_loss: 44.2366 - val_mean_squared_error: 3352.1365\nEpoch 968/1000\n5/5 [==============================] - 0s 13ms/step - loss: 41.7565 - mean_squared_error: 2954.5250 - val_loss: 44.2714 - val_mean_squared_error: 3352.2051\nEpoch 969/1000\n5/5 [==============================] - 0s 14ms/step - loss: 43.8158 - mean_squared_error: 3358.6484 - val_loss: 44.2936 - val_mean_squared_error: 3351.2004\nEpoch 970/1000\n5/5 [==============================] - 0s 14ms/step - loss: 42.6243 - mean_squared_error: 3026.5245 - val_loss: 44.2696 - val_mean_squared_error: 3355.4023\nEpoch 971/1000\n5/5 [==============================] - 0s 14ms/step - loss: 44.7216 - mean_squared_error: 3374.5704 - val_loss: 44.2521 - val_mean_squared_error: 3357.8755\nEpoch 972/1000\n5/5 [==============================] - 0s 13ms/step - loss: 43.9127 - mean_squared_error: 3450.4697 - val_loss: 44.2048 - val_mean_squared_error: 3357.3704\nEpoch 973/1000\n5/5 [==============================] - 0s 16ms/step - loss: 42.5252 - mean_squared_error: 2939.6693 - val_loss: 44.1491 - val_mean_squared_error: 3351.7781\nEpoch 974/1000\n5/5 [==============================] - 0s 20ms/step - loss: 42.0964 - mean_squared_error: 3007.4879 - val_loss: 44.1323 - val_mean_squared_error: 3348.0078\nEpoch 975/1000\n5/5 [==============================] - 0s 15ms/step - loss: 42.5597 - mean_squared_error: 3042.4731 - val_loss: 44.1362 - val_mean_squared_error: 3347.8469\nEpoch 976/1000\n5/5 [==============================] - 0s 14ms/step - loss: 44.7209 - mean_squared_error: 3377.2657 - val_loss: 44.1332 - val_mean_squared_error: 3345.6023\nEpoch 977/1000\n5/5 [==============================] - 0s 15ms/step - loss: 41.1537 - mean_squared_error: 2958.4812 - val_loss: 44.1157 - val_mean_squared_error: 3349.0959\nEpoch 978/1000\n5/5 [==============================] - 0s 18ms/step - loss: 41.6163 - mean_squared_error: 3019.7406 - val_loss: 44.0972 - val_mean_squared_error: 3352.6458\nEpoch 979/1000\n5/5 [==============================] - 0s 14ms/step - loss: 44.3882 - mean_squared_error: 3344.3809 - val_loss: 44.0731 - val_mean_squared_error: 3356.4131\nEpoch 980/1000\n5/5 [==============================] - 0s 15ms/step - loss: 44.0342 - mean_squared_error: 3305.4085 - val_loss: 44.0587 - val_mean_squared_error: 3356.9114\nEpoch 981/1000\n5/5 [==============================] - 0s 14ms/step - loss: 42.5511 - mean_squared_error: 3159.0593 - val_loss: 44.0759 - val_mean_squared_error: 3359.4851\nEpoch 982/1000\n5/5 [==============================] - 0s 13ms/step - loss: 45.3879 - mean_squared_error: 3464.7731 - val_loss: 44.0767 - val_mean_squared_error: 3361.9153\nEpoch 983/1000\n5/5 [==============================] - 0s 13ms/step - loss: 42.5139 - mean_squared_error: 3061.6043 - val_loss: 44.0885 - val_mean_squared_error: 3358.1169\nEpoch 984/1000\n5/5 [==============================] - 0s 14ms/step - loss: 43.5498 - mean_squared_error: 3233.7332 - val_loss: 44.0827 - val_mean_squared_error: 3357.2305\nEpoch 985/1000\n5/5 [==============================] - 0s 20ms/step - loss: 45.1464 - mean_squared_error: 3406.0138 - val_loss: 44.0884 - val_mean_squared_error: 3354.3528\nEpoch 986/1000\n5/5 [==============================] - 0s 17ms/step - loss: 45.1588 - mean_squared_error: 3510.2321 - val_loss: 44.1184 - val_mean_squared_error: 3354.2202\nEpoch 987/1000\n5/5 [==============================] - 0s 18ms/step - loss: 41.6483 - mean_squared_error: 2943.8556 - val_loss: 44.1409 - val_mean_squared_error: 3353.0774\nEpoch 988/1000\n5/5 [==============================] - 0s 17ms/step - loss: 43.5665 - mean_squared_error: 3355.5610 - val_loss: 44.1430 - val_mean_squared_error: 3353.3225\nEpoch 989/1000\n5/5 [==============================] - 0s 14ms/step - loss: 42.6521 - mean_squared_error: 3335.6326 - val_loss: 44.1323 - val_mean_squared_error: 3352.4258\nEpoch 990/1000\n5/5 [==============================] - 0s 15ms/step - loss: 43.2526 - mean_squared_error: 3222.8498 - val_loss: 44.1341 - val_mean_squared_error: 3351.7292\nEpoch 991/1000\n5/5 [==============================] - 0s 16ms/step - loss: 39.2823 - mean_squared_error: 2697.7691 - val_loss: 44.1398 - val_mean_squared_error: 3350.6763\nEpoch 992/1000\n5/5 [==============================] - 0s 14ms/step - loss: 40.2425 - mean_squared_error: 2939.3159 - val_loss: 44.1437 - val_mean_squared_error: 3351.4370\nEpoch 993/1000\n5/5 [==============================] - 0s 14ms/step - loss: 44.9148 - mean_squared_error: 3261.0023 - val_loss: 44.1551 - val_mean_squared_error: 3353.0825\nEpoch 994/1000\n5/5 [==============================] - 0s 14ms/step - loss: 42.9135 - mean_squared_error: 3289.5998 - val_loss: 44.1754 - val_mean_squared_error: 3353.9973\nEpoch 995/1000\n5/5 [==============================] - 0s 17ms/step - loss: 44.2910 - mean_squared_error: 3481.2898 - val_loss: 44.2032 - val_mean_squared_error: 3349.5410\nEpoch 996/1000\n5/5 [==============================] - 0s 14ms/step - loss: 40.3443 - mean_squared_error: 2725.3676 - val_loss: 44.2085 - val_mean_squared_error: 3349.3022\nEpoch 997/1000\n5/5 [==============================] - 0s 14ms/step - loss: 41.0544 - mean_squared_error: 2837.5850 - val_loss: 44.2233 - val_mean_squared_error: 3349.7378\nEpoch 998/1000\n5/5 [==============================] - 0s 13ms/step - loss: 42.3708 - mean_squared_error: 3090.8086 - val_loss: 44.2437 - val_mean_squared_error: 3348.8088\nEpoch 999/1000\n5/5 [==============================] - 0s 14ms/step - loss: 41.8627 - mean_squared_error: 3059.4981 - val_loss: 44.2436 - val_mean_squared_error: 3349.9529\nEpoch 1000/1000\n5/5 [==============================] - 0s 18ms/step - loss: 42.6403 - mean_squared_error: 3215.3175 - val_loss: 44.2162 - val_mean_squared_error: 3346.9866\n",
     "output_type": "stream"
    }
   ]
  },
  {
   "cell_type": "code",
   "metadata": {
    "tags": [],
    "cell_id": "00006-b2fb3e58-1176-45a6-95b1-c3e7500b5059",
    "deepnote_to_be_reexecuted": false,
    "source_hash": "abb695b1",
    "execution_start": 1638546065484,
    "execution_millis": 517,
    "deepnote_output_heights": [
     264
    ],
    "deepnote_cell_type": "code"
   },
   "source": "test_predictions = dia_model.predict(X_test_dia)\ntest_predictions = np.reshape(test_predictions, len(y_test_dia))\n\n\n\nerror = test_predictions - y_test_dia\nplt.hist(error, bins=50)\nplt.xlabel('Prediction Error')\n_ = plt.ylabel('Count')",
   "execution_count": null,
   "outputs": [
    {
     "data": {
      "text/plain": "<Figure size 432x288 with 1 Axes>",
      "image/png": "[encoded data removed]"
     },
     "metadata": {
      "needs_background": "light",
      "image/png": {
       "width": 376,
       "height": 262
      }
     },
     "output_type": "display_data"
    }
   ]
  },
  {
   "cell_type": "code",
   "metadata": {
    "tags": [],
    "cell_id": "00007-0b8b3d63-981f-4388-beec-35571ae25740",
    "deepnote_cell_type": "code"
   },
   "source": "",
   "execution_count": null,
   "outputs": []
  },
  {
   "cell_type": "markdown",
   "source": "### Breast cancer",
   "metadata": {
    "tags": [],
    "cell_id": "00010-f75ac003-28c4-41f3-9ae6-0c8877623412",
    "deepnote_cell_type": "markdown"
   }
  },
  {
   "cell_type": "code",
   "metadata": {
    "tags": [],
    "cell_id": "00008-c1d40177-b241-470e-8152-7dfc490303ad",
    "deepnote_to_be_reexecuted": false,
    "source_hash": "baeeb800",
    "execution_start": 1638546765049,
    "execution_millis": 36988,
    "deepnote_output_heights": [
     null,
     21.1875
    ],
    "deepnote_cell_type": "code"
   },
   "source": "\nfrom preprocessing import load_wisconsin_prepr\n\n\nbreast_X, breast_y, breast_features = load_wisconsin_prepr()\n\n\nX_breast, X_test_breast, y_breast, y_test_breast = train_test_split(breast_X, breast_y, test_size=0.2, random_state=seed)\nX_train_breast, X_val_breast, y_train_breast, y_val_breast = train_test_split(X_breast, y_breast, test_size=0.2, random_state=seed)\n\n# Initialise neural network\nBATCH_SIZE=64\nINPUT_SIZE= X_train_breast.shape[1]\n\n\n\nbreast_model = Sequential()\nbreast_model.add(Input(INPUT_SIZE))\nbreast_model.add(Dense(20, activation=\"relu\"))\nbreast_model.add(Dropout(0.1))\nbreast_model.add(Dense(10, activation=\"relu\"))\nbreast_model.add(Dropout(0.1))\nbreast_model.add(Dense(5, activation=\"relu\"))\nbreast_model.add(Dropout(0.1))\nbreast_model.add(Dense(1, activation=\"sigmoid\"))\nbreast_model.compile(optimizer='adam',\n                loss=\"binary_crossentropy\",\n                metrics=['accuracy'])\n\nbreast_model.fit(X_train_breast, y_train_breast, batch_size=BATCH_SIZE, epochs=200, validation_data=(X_val_breast, y_val_breast)) # validation_split=0.2)\n\n\n",
   "execution_count": null,
   "outputs": [
    {
     "name": "stdout",
     "text": "Epoch 1/200\n6/6 [==============================] - 3s 217ms/step - loss: 0.6587 - accuracy: 0.6263 - val_loss: 0.5989 - val_accuracy: 0.7692\nEpoch 2/200\n6/6 [==============================] - 0s 19ms/step - loss: 0.6081 - accuracy: 0.7159 - val_loss: 0.5537 - val_accuracy: 0.8242\nEpoch 3/200\n6/6 [==============================] - 0s 17ms/step - loss: 0.5701 - accuracy: 0.7440 - val_loss: 0.5103 - val_accuracy: 0.8462\nEpoch 4/200\n6/6 [==============================] - 0s 25ms/step - loss: 0.5347 - accuracy: 0.7745 - val_loss: 0.4651 - val_accuracy: 0.8791\nEpoch 5/200\n6/6 [==============================] - 0s 14ms/step - loss: 0.5015 - accuracy: 0.8159 - val_loss: 0.4210 - val_accuracy: 0.9011\nEpoch 6/200\n6/6 [==============================] - 0s 19ms/step - loss: 0.4425 - accuracy: 0.8603 - val_loss: 0.3777 - val_accuracy: 0.9121\nEpoch 7/200\n6/6 [==============================] - 0s 15ms/step - loss: 0.4413 - accuracy: 0.8323 - val_loss: 0.3388 - val_accuracy: 0.9341\nEpoch 8/200\n6/6 [==============================] - 0s 19ms/step - loss: 0.3980 - accuracy: 0.8498 - val_loss: 0.3047 - val_accuracy: 0.9341\nEpoch 9/200\n6/6 [==============================] - 0s 20ms/step - loss: 0.3533 - accuracy: 0.8731 - val_loss: 0.2755 - val_accuracy: 0.9341\nEpoch 10/200\n6/6 [==============================] - 0s 20ms/step - loss: 0.3233 - accuracy: 0.8973 - val_loss: 0.2505 - val_accuracy: 0.9341\nEpoch 11/200\n6/6 [==============================] - 0s 19ms/step - loss: 0.3355 - accuracy: 0.8738 - val_loss: 0.2290 - val_accuracy: 0.9341\nEpoch 12/200\n6/6 [==============================] - 0s 22ms/step - loss: 0.3048 - accuracy: 0.8902 - val_loss: 0.2106 - val_accuracy: 0.9341\nEpoch 13/200\n6/6 [==============================] - 0s 20ms/step - loss: 0.2702 - accuracy: 0.8946 - val_loss: 0.1946 - val_accuracy: 0.9341\nEpoch 14/200\n6/6 [==============================] - 0s 19ms/step - loss: 0.2631 - accuracy: 0.9139 - val_loss: 0.1813 - val_accuracy: 0.9341\nEpoch 15/200\n6/6 [==============================] - 0s 20ms/step - loss: 0.2692 - accuracy: 0.8871 - val_loss: 0.1692 - val_accuracy: 0.9560\nEpoch 16/200\n6/6 [==============================] - 0s 19ms/step - loss: 0.2587 - accuracy: 0.8994 - val_loss: 0.1581 - val_accuracy: 0.9670\nEpoch 17/200\n6/6 [==============================] - 0s 20ms/step - loss: 0.2264 - accuracy: 0.9122 - val_loss: 0.1482 - val_accuracy: 0.9670\nEpoch 18/200\n6/6 [==============================] - 0s 33ms/step - loss: 0.2241 - accuracy: 0.9076 - val_loss: 0.1395 - val_accuracy: 0.9670\nEpoch 19/200\n6/6 [==============================] - 0s 24ms/step - loss: 0.2201 - accuracy: 0.9157 - val_loss: 0.1317 - val_accuracy: 0.9670\nEpoch 20/200\n6/6 [==============================] - 0s 18ms/step - loss: 0.2082 - accuracy: 0.9288 - val_loss: 0.1245 - val_accuracy: 0.9670\nEpoch 21/200\n6/6 [==============================] - 0s 18ms/step - loss: 0.1765 - accuracy: 0.9328 - val_loss: 0.1180 - val_accuracy: 0.9670\nEpoch 22/200\n6/6 [==============================] - 0s 20ms/step - loss: 0.1895 - accuracy: 0.9276 - val_loss: 0.1126 - val_accuracy: 0.9670\nEpoch 23/200\n6/6 [==============================] - 0s 27ms/step - loss: 0.1791 - accuracy: 0.9308 - val_loss: 0.1072 - val_accuracy: 0.9670\nEpoch 24/200\n6/6 [==============================] - 0s 21ms/step - loss: 0.1586 - accuracy: 0.9512 - val_loss: 0.1018 - val_accuracy: 0.9670\nEpoch 25/200\n6/6 [==============================] - 0s 21ms/step - loss: 0.2010 - accuracy: 0.9134 - val_loss: 0.0972 - val_accuracy: 0.9670\nEpoch 26/200\n6/6 [==============================] - 0s 15ms/step - loss: 0.1548 - accuracy: 0.9575 - val_loss: 0.0932 - val_accuracy: 0.9670\nEpoch 27/200\n6/6 [==============================] - 0s 21ms/step - loss: 0.1571 - accuracy: 0.9249 - val_loss: 0.0898 - val_accuracy: 0.9670\nEpoch 28/200\n6/6 [==============================] - 0s 18ms/step - loss: 0.1525 - accuracy: 0.9505 - val_loss: 0.0874 - val_accuracy: 0.9670\nEpoch 29/200\n6/6 [==============================] - 0s 19ms/step - loss: 0.1444 - accuracy: 0.9377 - val_loss: 0.0853 - val_accuracy: 0.9670\nEpoch 30/200\n6/6 [==============================] - 0s 20ms/step - loss: 0.1334 - accuracy: 0.9530 - val_loss: 0.0829 - val_accuracy: 0.9670\nEpoch 31/200\n6/6 [==============================] - 0s 17ms/step - loss: 0.1159 - accuracy: 0.9668 - val_loss: 0.0805 - val_accuracy: 0.9670\nEpoch 32/200\n6/6 [==============================] - 0s 23ms/step - loss: 0.1427 - accuracy: 0.9453 - val_loss: 0.0779 - val_accuracy: 0.9670\nEpoch 33/200\n6/6 [==============================] - 0s 27ms/step - loss: 0.1510 - accuracy: 0.9433 - val_loss: 0.0755 - val_accuracy: 0.9670\nEpoch 34/200\n6/6 [==============================] - 0s 43ms/step - loss: 0.1405 - accuracy: 0.9361 - val_loss: 0.0733 - val_accuracy: 0.9670\nEpoch 35/200\n6/6 [==============================] - 0s 55ms/step - loss: 0.1417 - accuracy: 0.9452 - val_loss: 0.0716 - val_accuracy: 0.9670\nEpoch 36/200\n6/6 [==============================] - 0s 60ms/step - loss: 0.1217 - accuracy: 0.9464 - val_loss: 0.0692 - val_accuracy: 0.9670\nEpoch 37/200\n6/6 [==============================] - 0s 37ms/step - loss: 0.1176 - accuracy: 0.9758 - val_loss: 0.0668 - val_accuracy: 0.9670\nEpoch 38/200\n6/6 [==============================] - 0s 17ms/step - loss: 0.0892 - accuracy: 0.9793 - val_loss: 0.0642 - val_accuracy: 0.9670\nEpoch 39/200\n6/6 [==============================] - 0s 31ms/step - loss: 0.1025 - accuracy: 0.9631 - val_loss: 0.0622 - val_accuracy: 0.9780\nEpoch 40/200\n6/6 [==============================] - 0s 22ms/step - loss: 0.0904 - accuracy: 0.9740 - val_loss: 0.0606 - val_accuracy: 0.9780\nEpoch 41/200\n6/6 [==============================] - 0s 20ms/step - loss: 0.1107 - accuracy: 0.9641 - val_loss: 0.0593 - val_accuracy: 0.9780\nEpoch 42/200\n6/6 [==============================] - 0s 21ms/step - loss: 0.1151 - accuracy: 0.9484 - val_loss: 0.0594 - val_accuracy: 0.9780\nEpoch 43/200\n6/6 [==============================] - 0s 30ms/step - loss: 0.0939 - accuracy: 0.9706 - val_loss: 0.0598 - val_accuracy: 0.9780\nEpoch 44/200\n6/6 [==============================] - 0s 35ms/step - loss: 0.0784 - accuracy: 0.9801 - val_loss: 0.0596 - val_accuracy: 0.9780\nEpoch 45/200\n6/6 [==============================] - 0s 32ms/step - loss: 0.0914 - accuracy: 0.9659 - val_loss: 0.0597 - val_accuracy: 0.9780\nEpoch 46/200\n6/6 [==============================] - 0s 34ms/step - loss: 0.0958 - accuracy: 0.9581 - val_loss: 0.0597 - val_accuracy: 0.9780\nEpoch 47/200\n6/6 [==============================] - 0s 31ms/step - loss: 0.0967 - accuracy: 0.9683 - val_loss: 0.0597 - val_accuracy: 0.9780\nEpoch 48/200\n6/6 [==============================] - 0s 38ms/step - loss: 0.0761 - accuracy: 0.9665 - val_loss: 0.0598 - val_accuracy: 0.9780\nEpoch 49/200\n6/6 [==============================] - 0s 30ms/step - loss: 0.0682 - accuracy: 0.9929 - val_loss: 0.0597 - val_accuracy: 0.9780\nEpoch 50/200\n6/6 [==============================] - 0s 32ms/step - loss: 0.0897 - accuracy: 0.9676 - val_loss: 0.0587 - val_accuracy: 0.9890\nEpoch 51/200\n6/6 [==============================] - 0s 32ms/step - loss: 0.0824 - accuracy: 0.9860 - val_loss: 0.0582 - val_accuracy: 0.9890\nEpoch 52/200\n6/6 [==============================] - 0s 22ms/step - loss: 0.0650 - accuracy: 0.9886 - val_loss: 0.0580 - val_accuracy: 0.9890\nEpoch 53/200\n6/6 [==============================] - 0s 29ms/step - loss: 0.0908 - accuracy: 0.9664 - val_loss: 0.0582 - val_accuracy: 0.9780\nEpoch 54/200\n6/6 [==============================] - 0s 25ms/step - loss: 0.0909 - accuracy: 0.9740 - val_loss: 0.0586 - val_accuracy: 0.9780\nEpoch 55/200\n6/6 [==============================] - 0s 47ms/step - loss: 0.0621 - accuracy: 0.9932 - val_loss: 0.0591 - val_accuracy: 0.9890\nEpoch 56/200\n6/6 [==============================] - 0s 33ms/step - loss: 0.0813 - accuracy: 0.9821 - val_loss: 0.0592 - val_accuracy: 0.9780\nEpoch 57/200\n6/6 [==============================] - 0s 33ms/step - loss: 0.0874 - accuracy: 0.9594 - val_loss: 0.0592 - val_accuracy: 0.9780\nEpoch 58/200\n6/6 [==============================] - 0s 41ms/step - loss: 0.0641 - accuracy: 0.9720 - val_loss: 0.0597 - val_accuracy: 0.9890\nEpoch 59/200\n6/6 [==============================] - 0s 40ms/step - loss: 0.0601 - accuracy: 0.9789 - val_loss: 0.0601 - val_accuracy: 0.9890\nEpoch 60/200\n6/6 [==============================] - 0s 35ms/step - loss: 0.0586 - accuracy: 0.9790 - val_loss: 0.0600 - val_accuracy: 0.9890\nEpoch 61/200\n6/6 [==============================] - 0s 37ms/step - loss: 0.0530 - accuracy: 0.9792 - val_loss: 0.0599 - val_accuracy: 0.9890\nEpoch 62/200\n6/6 [==============================] - 0s 32ms/step - loss: 0.0685 - accuracy: 0.9814 - val_loss: 0.0596 - val_accuracy: 0.9890\nEpoch 63/200\n6/6 [==============================] - 0s 38ms/step - loss: 0.0524 - accuracy: 0.9852 - val_loss: 0.0593 - val_accuracy: 0.9890\nEpoch 64/200\n6/6 [==============================] - 0s 41ms/step - loss: 0.0665 - accuracy: 0.9804 - val_loss: 0.0594 - val_accuracy: 0.9890\nEpoch 65/200\n6/6 [==============================] - 0s 37ms/step - loss: 0.0585 - accuracy: 0.9795 - val_loss: 0.0593 - val_accuracy: 0.9890\nEpoch 66/200\n6/6 [==============================] - 0s 27ms/step - loss: 0.0624 - accuracy: 0.9732 - val_loss: 0.0596 - val_accuracy: 0.9890\nEpoch 67/200\n6/6 [==============================] - 0s 34ms/step - loss: 0.0510 - accuracy: 0.9869 - val_loss: 0.0596 - val_accuracy: 0.9890\nEpoch 68/200\n6/6 [==============================] - 0s 25ms/step - loss: 0.0561 - accuracy: 0.9809 - val_loss: 0.0593 - val_accuracy: 0.9890\nEpoch 69/200\n6/6 [==============================] - 0s 46ms/step - loss: 0.0534 - accuracy: 0.9862 - val_loss: 0.0595 - val_accuracy: 0.9890\nEpoch 70/200\n6/6 [==============================] - 0s 30ms/step - loss: 0.0533 - accuracy: 0.9790 - val_loss: 0.0593 - val_accuracy: 0.9890\nEpoch 71/200\n6/6 [==============================] - 0s 21ms/step - loss: 0.0458 - accuracy: 0.9844 - val_loss: 0.0590 - val_accuracy: 0.9780\nEpoch 72/200\n6/6 [==============================] - 0s 37ms/step - loss: 0.0617 - accuracy: 0.9792 - val_loss: 0.0587 - val_accuracy: 0.9780\nEpoch 73/200\n6/6 [==============================] - 0s 24ms/step - loss: 0.0394 - accuracy: 0.9921 - val_loss: 0.0585 - val_accuracy: 0.9780\nEpoch 74/200\n6/6 [==============================] - 0s 21ms/step - loss: 0.0671 - accuracy: 0.9738 - val_loss: 0.0580 - val_accuracy: 0.9780\nEpoch 75/200\n6/6 [==============================] - 0s 16ms/step - loss: 0.0431 - accuracy: 0.9794 - val_loss: 0.0579 - val_accuracy: 0.9890\nEpoch 76/200\n6/6 [==============================] - 0s 39ms/step - loss: 0.0553 - accuracy: 0.9849 - val_loss: 0.0579 - val_accuracy: 0.9890\nEpoch 77/200\n6/6 [==============================] - 0s 46ms/step - loss: 0.0526 - accuracy: 0.9762 - val_loss: 0.0583 - val_accuracy: 0.9890\nEpoch 78/200\n6/6 [==============================] - 0s 42ms/step - loss: 0.0379 - accuracy: 0.9845 - val_loss: 0.0586 - val_accuracy: 0.9890\nEpoch 79/200\n6/6 [==============================] - 0s 36ms/step - loss: 0.0305 - accuracy: 0.9913 - val_loss: 0.0587 - val_accuracy: 0.9890\nEpoch 80/200\n6/6 [==============================] - 0s 44ms/step - loss: 0.0364 - accuracy: 0.9852 - val_loss: 0.0586 - val_accuracy: 0.9890\nEpoch 81/200\n6/6 [==============================] - 0s 55ms/step - loss: 0.0267 - accuracy: 0.9922 - val_loss: 0.0586 - val_accuracy: 0.9890\nEpoch 82/200\n6/6 [==============================] - 0s 37ms/step - loss: 0.0288 - accuracy: 0.9938 - val_loss: 0.0588 - val_accuracy: 0.9890\nEpoch 83/200\n6/6 [==============================] - 0s 32ms/step - loss: 0.0302 - accuracy: 0.9880 - val_loss: 0.0590 - val_accuracy: 0.9890\nEpoch 84/200\n6/6 [==============================] - 0s 33ms/step - loss: 0.0668 - accuracy: 0.9688 - val_loss: 0.0594 - val_accuracy: 0.9890\nEpoch 85/200\n6/6 [==============================] - 0s 23ms/step - loss: 0.0374 - accuracy: 0.9839 - val_loss: 0.0598 - val_accuracy: 0.9890\nEpoch 86/200\n6/6 [==============================] - 0s 30ms/step - loss: 0.0371 - accuracy: 0.9786 - val_loss: 0.0599 - val_accuracy: 0.9890\nEpoch 87/200\n6/6 [==============================] - 0s 31ms/step - loss: 0.0491 - accuracy: 0.9819 - val_loss: 0.0599 - val_accuracy: 0.9890\nEpoch 88/200\n6/6 [==============================] - 0s 41ms/step - loss: 0.0363 - accuracy: 0.9884 - val_loss: 0.0598 - val_accuracy: 0.9890\nEpoch 89/200\n6/6 [==============================] - 0s 43ms/step - loss: 0.0358 - accuracy: 0.9819 - val_loss: 0.0599 - val_accuracy: 0.9890\nEpoch 90/200\n6/6 [==============================] - 0s 39ms/step - loss: 0.0369 - accuracy: 0.9807 - val_loss: 0.0599 - val_accuracy: 0.9890\nEpoch 91/200\n6/6 [==============================] - 0s 36ms/step - loss: 0.0268 - accuracy: 0.9912 - val_loss: 0.0589 - val_accuracy: 0.9890\nEpoch 92/200\n6/6 [==============================] - 0s 32ms/step - loss: 0.0523 - accuracy: 0.9766 - val_loss: 0.0579 - val_accuracy: 0.9890\nEpoch 93/200\n6/6 [==============================] - 0s 33ms/step - loss: 0.0548 - accuracy: 0.9816 - val_loss: 0.0580 - val_accuracy: 0.9890\nEpoch 94/200\n6/6 [==============================] - 0s 29ms/step - loss: 0.0400 - accuracy: 0.9767 - val_loss: 0.0576 - val_accuracy: 0.9890\nEpoch 95/200\n6/6 [==============================] - 0s 31ms/step - loss: 0.0398 - accuracy: 0.9851 - val_loss: 0.0576 - val_accuracy: 0.9890\nEpoch 96/200\n6/6 [==============================] - 0s 34ms/step - loss: 0.0301 - accuracy: 0.9886 - val_loss: 0.0584 - val_accuracy: 0.9890\nEpoch 97/200\n6/6 [==============================] - 0s 19ms/step - loss: 0.0353 - accuracy: 0.9791 - val_loss: 0.0590 - val_accuracy: 0.9890\nEpoch 98/200\n6/6 [==============================] - 0s 34ms/step - loss: 0.0328 - accuracy: 0.9831 - val_loss: 0.0596 - val_accuracy: 0.9890\nEpoch 99/200\n6/6 [==============================] - 0s 32ms/step - loss: 0.0322 - accuracy: 0.9901 - val_loss: 0.0601 - val_accuracy: 0.9890\nEpoch 100/200\n6/6 [==============================] - 0s 36ms/step - loss: 0.0305 - accuracy: 0.9863 - val_loss: 0.0607 - val_accuracy: 0.9890\nEpoch 101/200\n6/6 [==============================] - 0s 36ms/step - loss: 0.0248 - accuracy: 0.9921 - val_loss: 0.0609 - val_accuracy: 0.9890\nEpoch 102/200\n6/6 [==============================] - 0s 39ms/step - loss: 0.0375 - accuracy: 0.9875 - val_loss: 0.0610 - val_accuracy: 0.9890\nEpoch 103/200\n6/6 [==============================] - 0s 32ms/step - loss: 0.0191 - accuracy: 0.9929 - val_loss: 0.0612 - val_accuracy: 0.9890\nEpoch 104/200\n6/6 [==============================] - 0s 34ms/step - loss: 0.0384 - accuracy: 0.9816 - val_loss: 0.0615 - val_accuracy: 0.9890\nEpoch 105/200\n6/6 [==============================] - 0s 33ms/step - loss: 0.0236 - accuracy: 0.9892 - val_loss: 0.0620 - val_accuracy: 0.9890\nEpoch 106/200\n6/6 [==============================] - 0s 36ms/step - loss: 0.0227 - accuracy: 0.9970 - val_loss: 0.0625 - val_accuracy: 0.9890\nEpoch 107/200\n6/6 [==============================] - 0s 42ms/step - loss: 0.0363 - accuracy: 0.9874 - val_loss: 0.0626 - val_accuracy: 0.9890\nEpoch 108/200\n6/6 [==============================] - 0s 19ms/step - loss: 0.0285 - accuracy: 0.9892 - val_loss: 0.0628 - val_accuracy: 0.9890\nEpoch 109/200\n6/6 [==============================] - 0s 31ms/step - loss: 0.0237 - accuracy: 0.9900 - val_loss: 0.0632 - val_accuracy: 0.9890\nEpoch 110/200\n6/6 [==============================] - 0s 31ms/step - loss: 0.0251 - accuracy: 0.9925 - val_loss: 0.0643 - val_accuracy: 0.9890\nEpoch 111/200\n6/6 [==============================] - 0s 37ms/step - loss: 0.0213 - accuracy: 0.9908 - val_loss: 0.0650 - val_accuracy: 0.9890\nEpoch 112/200\n6/6 [==============================] - 0s 34ms/step - loss: 0.0294 - accuracy: 0.9896 - val_loss: 0.0655 - val_accuracy: 0.9890\nEpoch 113/200\n6/6 [==============================] - 0s 30ms/step - loss: 0.0244 - accuracy: 0.9844 - val_loss: 0.0653 - val_accuracy: 0.9890\nEpoch 114/200\n6/6 [==============================] - 0s 35ms/step - loss: 0.0400 - accuracy: 0.9791 - val_loss: 0.0643 - val_accuracy: 0.9890\nEpoch 115/200\n6/6 [==============================] - 0s 35ms/step - loss: 0.0272 - accuracy: 0.9856 - val_loss: 0.0636 - val_accuracy: 0.9890\nEpoch 116/200\n6/6 [==============================] - 0s 33ms/step - loss: 0.0228 - accuracy: 0.9912 - val_loss: 0.0633 - val_accuracy: 0.9890\nEpoch 117/200\n6/6 [==============================] - 0s 34ms/step - loss: 0.0211 - accuracy: 0.9915 - val_loss: 0.0634 - val_accuracy: 0.9890\nEpoch 118/200\n6/6 [==============================] - 0s 47ms/step - loss: 0.0356 - accuracy: 0.9834 - val_loss: 0.0637 - val_accuracy: 0.9890\nEpoch 119/200\n6/6 [==============================] - 0s 41ms/step - loss: 0.0162 - accuracy: 0.9915 - val_loss: 0.0638 - val_accuracy: 0.9890\nEpoch 120/200\n6/6 [==============================] - 0s 31ms/step - loss: 0.0134 - accuracy: 0.9943 - val_loss: 0.0641 - val_accuracy: 0.9890\nEpoch 121/200\n6/6 [==============================] - 0s 37ms/step - loss: 0.0164 - accuracy: 0.9982 - val_loss: 0.0645 - val_accuracy: 0.9890\nEpoch 122/200\n6/6 [==============================] - 0s 40ms/step - loss: 0.0282 - accuracy: 0.9835 - val_loss: 0.0649 - val_accuracy: 0.9890\nEpoch 123/200\n6/6 [==============================] - 0s 52ms/step - loss: 0.0236 - accuracy: 0.9927 - val_loss: 0.0657 - val_accuracy: 0.9890\nEpoch 124/200\n6/6 [==============================] - 0s 28ms/step - loss: 0.0220 - accuracy: 0.9938 - val_loss: 0.0661 - val_accuracy: 0.9890\nEpoch 125/200\n6/6 [==============================] - 0s 34ms/step - loss: 0.0156 - accuracy: 0.9951 - val_loss: 0.0666 - val_accuracy: 0.9890\nEpoch 126/200\n6/6 [==============================] - 0s 31ms/step - loss: 0.0313 - accuracy: 0.9728 - val_loss: 0.0670 - val_accuracy: 0.9890\nEpoch 127/200\n6/6 [==============================] - 0s 32ms/step - loss: 0.0262 - accuracy: 0.9821 - val_loss: 0.0667 - val_accuracy: 0.9890\nEpoch 128/200\n6/6 [==============================] - 0s 37ms/step - loss: 0.0364 - accuracy: 0.9767 - val_loss: 0.0660 - val_accuracy: 0.9890\nEpoch 129/200\n6/6 [==============================] - 0s 32ms/step - loss: 0.0389 - accuracy: 0.9774 - val_loss: 0.0645 - val_accuracy: 0.9890\nEpoch 130/200\n6/6 [==============================] - 0s 39ms/step - loss: 0.0156 - accuracy: 0.9930 - val_loss: 0.0640 - val_accuracy: 0.9890\nEpoch 131/200\n6/6 [==============================] - 0s 34ms/step - loss: 0.0244 - accuracy: 0.9872 - val_loss: 0.0649 - val_accuracy: 0.9890\nEpoch 132/200\n6/6 [==============================] - 0s 29ms/step - loss: 0.0128 - accuracy: 0.9992 - val_loss: 0.0671 - val_accuracy: 0.9890\nEpoch 133/200\n6/6 [==============================] - 0s 20ms/step - loss: 0.0338 - accuracy: 0.9794 - val_loss: 0.0679 - val_accuracy: 0.9890\nEpoch 134/200\n6/6 [==============================] - 0s 47ms/step - loss: 0.0129 - accuracy: 0.9951 - val_loss: 0.0664 - val_accuracy: 0.9890\nEpoch 135/200\n6/6 [==============================] - 0s 29ms/step - loss: 0.0240 - accuracy: 0.9821 - val_loss: 0.0657 - val_accuracy: 0.9890\nEpoch 136/200\n6/6 [==============================] - 0s 35ms/step - loss: 0.0226 - accuracy: 0.9882 - val_loss: 0.0651 - val_accuracy: 0.9890\nEpoch 137/200\n6/6 [==============================] - 0s 44ms/step - loss: 0.0198 - accuracy: 0.9844 - val_loss: 0.0654 - val_accuracy: 0.9890\nEpoch 138/200\n6/6 [==============================] - 0s 44ms/step - loss: 0.0160 - accuracy: 0.9938 - val_loss: 0.0659 - val_accuracy: 0.9890\nEpoch 139/200\n6/6 [==============================] - 0s 32ms/step - loss: 0.0255 - accuracy: 0.9805 - val_loss: 0.0664 - val_accuracy: 0.9890\nEpoch 140/200\n6/6 [==============================] - 0s 34ms/step - loss: 0.0297 - accuracy: 0.9724 - val_loss: 0.0666 - val_accuracy: 0.9890\nEpoch 141/200\n6/6 [==============================] - 0s 42ms/step - loss: 0.0282 - accuracy: 0.9766 - val_loss: 0.0656 - val_accuracy: 0.9890\nEpoch 142/200\n6/6 [==============================] - 0s 36ms/step - loss: 0.0290 - accuracy: 0.9842 - val_loss: 0.0650 - val_accuracy: 0.9890\nEpoch 143/200\n6/6 [==============================] - 0s 42ms/step - loss: 0.0199 - accuracy: 0.9900 - val_loss: 0.0646 - val_accuracy: 0.9890\nEpoch 144/200\n6/6 [==============================] - 0s 40ms/step - loss: 0.0115 - accuracy: 0.9930 - val_loss: 0.0645 - val_accuracy: 0.9890\nEpoch 145/200\n6/6 [==============================] - 0s 50ms/step - loss: 0.0138 - accuracy: 0.9905 - val_loss: 0.0647 - val_accuracy: 0.9890\nEpoch 146/200\n6/6 [==============================] - 0s 59ms/step - loss: 0.0177 - accuracy: 0.9890 - val_loss: 0.0651 - val_accuracy: 0.9890\nEpoch 147/200\n6/6 [==============================] - 0s 22ms/step - loss: 0.0341 - accuracy: 0.9842 - val_loss: 0.0656 - val_accuracy: 0.9890\nEpoch 148/200\n6/6 [==============================] - 0s 36ms/step - loss: 0.0179 - accuracy: 0.9891 - val_loss: 0.0663 - val_accuracy: 0.9890\nEpoch 149/200\n6/6 [==============================] - 0s 29ms/step - loss: 0.0205 - accuracy: 0.9867 - val_loss: 0.0659 - val_accuracy: 0.9890\nEpoch 150/200\n6/6 [==============================] - 0s 33ms/step - loss: 0.0087 - accuracy: 0.9967 - val_loss: 0.0663 - val_accuracy: 0.9890\nEpoch 151/200\n6/6 [==============================] - 0s 22ms/step - loss: 0.0145 - accuracy: 0.9897 - val_loss: 0.0668 - val_accuracy: 0.9890\nEpoch 152/200\n6/6 [==============================] - 0s 35ms/step - loss: 0.0179 - accuracy: 0.9854 - val_loss: 0.0667 - val_accuracy: 0.9890\nEpoch 153/200\n6/6 [==============================] - 0s 33ms/step - loss: 0.0161 - accuracy: 0.9905 - val_loss: 0.0670 - val_accuracy: 0.9890\nEpoch 154/200\n6/6 [==============================] - 0s 33ms/step - loss: 0.0188 - accuracy: 0.9828 - val_loss: 0.0675 - val_accuracy: 0.9890\nEpoch 155/200\n6/6 [==============================] - 0s 30ms/step - loss: 0.0152 - accuracy: 0.9964 - val_loss: 0.0681 - val_accuracy: 0.9890\nEpoch 156/200\n6/6 [==============================] - 0s 33ms/step - loss: 0.0127 - accuracy: 0.9956 - val_loss: 0.0686 - val_accuracy: 0.9890\nEpoch 157/200\n6/6 [==============================] - 0s 46ms/step - loss: 0.0074 - accuracy: 0.9975 - val_loss: 0.0690 - val_accuracy: 0.9890\nEpoch 158/200\n6/6 [==============================] - 0s 36ms/step - loss: 0.0161 - accuracy: 0.9974 - val_loss: 0.0698 - val_accuracy: 0.9890\nEpoch 159/200\n6/6 [==============================] - 0s 36ms/step - loss: 0.0146 - accuracy: 0.9931 - val_loss: 0.0703 - val_accuracy: 0.9890\nEpoch 160/200\n6/6 [==============================] - 0s 45ms/step - loss: 0.0215 - accuracy: 0.9955 - val_loss: 0.0705 - val_accuracy: 0.9890\nEpoch 161/200\n6/6 [==============================] - 0s 33ms/step - loss: 0.0217 - accuracy: 0.9902 - val_loss: 0.0708 - val_accuracy: 0.9890\nEpoch 162/200\n6/6 [==============================] - 0s 38ms/step - loss: 0.0126 - accuracy: 0.9941 - val_loss: 0.0708 - val_accuracy: 0.9890\nEpoch 163/200\n6/6 [==============================] - 0s 50ms/step - loss: 0.0308 - accuracy: 0.9912 - val_loss: 0.0706 - val_accuracy: 0.9890\nEpoch 164/200\n6/6 [==============================] - 0s 17ms/step - loss: 0.0142 - accuracy: 0.9920 - val_loss: 0.0704 - val_accuracy: 0.9890\nEpoch 165/200\n6/6 [==============================] - 0s 32ms/step - loss: 0.0231 - accuracy: 0.9892 - val_loss: 0.0690 - val_accuracy: 0.9890\nEpoch 166/200\n6/6 [==============================] - 0s 52ms/step - loss: 0.0110 - accuracy: 0.9970 - val_loss: 0.0686 - val_accuracy: 0.9890\nEpoch 167/200\n6/6 [==============================] - 0s 50ms/step - loss: 0.0346 - accuracy: 0.9795 - val_loss: 0.0684 - val_accuracy: 0.9890\nEpoch 168/200\n6/6 [==============================] - 0s 46ms/step - loss: 0.0176 - accuracy: 0.9988 - val_loss: 0.0685 - val_accuracy: 0.9890\nEpoch 169/200\n6/6 [==============================] - 0s 32ms/step - loss: 0.0215 - accuracy: 0.9941 - val_loss: 0.0691 - val_accuracy: 0.9890\nEpoch 170/200\n6/6 [==============================] - 0s 40ms/step - loss: 0.0121 - accuracy: 0.9946 - val_loss: 0.0700 - val_accuracy: 0.9890\nEpoch 171/200\n6/6 [==============================] - 0s 26ms/step - loss: 0.0128 - accuracy: 0.9967 - val_loss: 0.0715 - val_accuracy: 0.9890\nEpoch 172/200\n6/6 [==============================] - 0s 18ms/step - loss: 0.0143 - accuracy: 0.9984 - val_loss: 0.0733 - val_accuracy: 0.9890\nEpoch 173/200\n6/6 [==============================] - 0s 36ms/step - loss: 0.0141 - accuracy: 0.9956 - val_loss: 0.0739 - val_accuracy: 0.9890\nEpoch 174/200\n6/6 [==============================] - 0s 19ms/step - loss: 0.0082 - accuracy: 1.0000 - val_loss: 0.0740 - val_accuracy: 0.9890\nEpoch 175/200\n6/6 [==============================] - 0s 24ms/step - loss: 0.0074 - accuracy: 1.0000 - val_loss: 0.0744 - val_accuracy: 0.9890\nEpoch 176/200\n6/6 [==============================] - 0s 21ms/step - loss: 0.0177 - accuracy: 0.9982 - val_loss: 0.0746 - val_accuracy: 0.9890\nEpoch 177/200\n6/6 [==============================] - 0s 20ms/step - loss: 0.0289 - accuracy: 0.9816 - val_loss: 0.0749 - val_accuracy: 0.9890\nEpoch 178/200\n6/6 [==============================] - 0s 19ms/step - loss: 0.0117 - accuracy: 0.9988 - val_loss: 0.0746 - val_accuracy: 0.9890\nEpoch 179/200\n6/6 [==============================] - 0s 25ms/step - loss: 0.0129 - accuracy: 0.9921 - val_loss: 0.0737 - val_accuracy: 0.9890\nEpoch 180/200\n6/6 [==============================] - 0s 23ms/step - loss: 0.0287 - accuracy: 0.9929 - val_loss: 0.0744 - val_accuracy: 0.9890\nEpoch 181/200\n6/6 [==============================] - 0s 37ms/step - loss: 0.0308 - accuracy: 0.9811 - val_loss: 0.0745 - val_accuracy: 0.9890\nEpoch 182/200\n6/6 [==============================] - 0s 39ms/step - loss: 0.0097 - accuracy: 1.0000 - val_loss: 0.0746 - val_accuracy: 0.9890\nEpoch 183/200\n6/6 [==============================] - 0s 37ms/step - loss: 0.0183 - accuracy: 0.9892 - val_loss: 0.0747 - val_accuracy: 0.9890\nEpoch 184/200\n6/6 [==============================] - 0s 31ms/step - loss: 0.0186 - accuracy: 0.9879 - val_loss: 0.0735 - val_accuracy: 0.9890\nEpoch 185/200\n6/6 [==============================] - 0s 23ms/step - loss: 0.0194 - accuracy: 0.9949 - val_loss: 0.0719 - val_accuracy: 0.9890\nEpoch 186/200\n6/6 [==============================] - 0s 50ms/step - loss: 0.0164 - accuracy: 0.9938 - val_loss: 0.0710 - val_accuracy: 0.9890\nEpoch 187/200\n6/6 [==============================] - 0s 33ms/step - loss: 0.0138 - accuracy: 1.0000 - val_loss: 0.0710 - val_accuracy: 0.9890\nEpoch 188/200\n6/6 [==============================] - 0s 32ms/step - loss: 0.0170 - accuracy: 0.9975 - val_loss: 0.0711 - val_accuracy: 0.9890\nEpoch 189/200\n6/6 [==============================] - 0s 21ms/step - loss: 0.0248 - accuracy: 0.9938 - val_loss: 0.0718 - val_accuracy: 0.9890\nEpoch 190/200\n6/6 [==============================] - 0s 26ms/step - loss: 0.0156 - accuracy: 0.9975 - val_loss: 0.0719 - val_accuracy: 0.9890\nEpoch 191/200\n6/6 [==============================] - 0s 26ms/step - loss: 0.0198 - accuracy: 0.9882 - val_loss: 0.0714 - val_accuracy: 0.9890\nEpoch 192/200\n6/6 [==============================] - 0s 30ms/step - loss: 0.0148 - accuracy: 1.0000 - val_loss: 0.0714 - val_accuracy: 0.9890\nEpoch 193/200\n6/6 [==============================] - 0s 45ms/step - loss: 0.0185 - accuracy: 0.9982 - val_loss: 0.0714 - val_accuracy: 0.9890\nEpoch 194/200\n6/6 [==============================] - 0s 36ms/step - loss: 0.0177 - accuracy: 0.9975 - val_loss: 0.0715 - val_accuracy: 0.9890\nEpoch 195/200\n6/6 [==============================] - 0s 23ms/step - loss: 0.0180 - accuracy: 1.0000 - val_loss: 0.0711 - val_accuracy: 0.9890\nEpoch 196/200\n6/6 [==============================] - 0s 24ms/step - loss: 0.0100 - accuracy: 1.0000 - val_loss: 0.0711 - val_accuracy: 0.9890\nEpoch 197/200\n6/6 [==============================] - 0s 19ms/step - loss: 0.0166 - accuracy: 0.9941 - val_loss: 0.0714 - val_accuracy: 0.9890\nEpoch 198/200\n6/6 [==============================] - 0s 19ms/step - loss: 0.0338 - accuracy: 0.9927 - val_loss: 0.0702 - val_accuracy: 0.9890\nEpoch 199/200\n6/6 [==============================] - 0s 21ms/step - loss: 0.0082 - accuracy: 0.9988 - val_loss: 0.0697 - val_accuracy: 0.9890\nEpoch 200/200\n6/6 [==============================] - 0s 34ms/step - loss: 0.0061 - accuracy: 0.9982 - val_loss: 0.0700 - val_accuracy: 0.9890\n",
     "output_type": "stream"
    },
    {
     "output_type": "execute_result",
     "execution_count": 34,
     "data": {
      "text/plain": "<tensorflow.python.keras.callbacks.History at 0x7f3aa3752210>"
     },
     "metadata": {}
    }
   ]
  },
  {
   "cell_type": "code",
   "metadata": {
    "tags": [],
    "cell_id": "00009-743902c8-c8f0-43e9-b37e-a0d47f31dd37",
    "deepnote_to_be_reexecuted": false,
    "source_hash": "bf0b6c86",
    "execution_start": 1638547008587,
    "execution_millis": 69,
    "deepnote_cell_type": "code"
   },
   "source": "breast_predictions = breast_model.predict(X_test_breast)\nbreast_predictions = np.reshape(breast_predictions, len(y_test_breast))\n\nprint(np.min(breast_predictions))\nprint(np.max(breast_predictions))\n\nbreast_predictions = classify(breast_predictions)\n\n\nbreast_bal_acc = balanced_accuracy_score(y_test_breast, breast_predictions)\nprint(\"Balanced accuracy ({}) = {}\".format(\"neural network\", breast_bal_acc))\nprint_metrics(y_test_breast, breast_predictions)\n\nprint(f\"Test set size: {len(breast_predictions)}\")\n\nprint(f\"TN: {((breast_predictions == y_test_breast) & (y_test_breast == 0)).sum()}\") # TN\nprint(f\"FP: {((breast_predictions != y_test_breast) & (y_test_breast == 0)).sum()}\") # FP\nprint(f\"TP: {((breast_predictions == y_test_breast) & (y_test_breast == 1)).sum()}\") # TP\nprint(f\"FN: {((breast_predictions != y_test_breast) & (y_test_breast == 1)).sum()}\") # FN",
   "execution_count": null,
   "outputs": [
    {
     "name": "stdout",
     "text": "7.670484e-31\n1.0\nBalanced accuracy (neural network) = 0.9635549872122762\nF1 = 0.9705882352941176\nAccuracy = 0.9649122807017544\n\tclass 0: 0.9565217391304348\n\tclass 1: 0.9705882352941176\nTest set size: 114\nTN: 44\nFP: 2\nTP: 66\nFN: 2\n",
     "output_type": "stream"
    }
   ]
  },
  {
   "cell_type": "code",
   "metadata": {
    "tags": [],
    "cell_id": "00013-28da1978-a5eb-41ac-b3b3-0b02c898c6d8",
    "deepnote_to_be_reexecuted": false,
    "source_hash": "b9d2d2f1",
    "execution_start": 1638547038687,
    "execution_millis": 0,
    "deepnote_cell_type": "code"
   },
   "source": "",
   "execution_count": null,
   "outputs": []
  },
  {
   "cell_type": "markdown",
   "source": "### Bikes",
   "metadata": {
    "tags": [],
    "cell_id": "00014-418aa333-b18d-4257-9c73-2a3a50ba29f3",
    "deepnote_cell_type": "markdown"
   }
  },
  {
   "cell_type": "code",
   "metadata": {
    "tags": [],
    "cell_id": "00014-7b2d0894-151d-49ef-8260-324ada948a39",
    "deepnote_to_be_reexecuted": false,
    "source_hash": "92ec94d9",
    "execution_start": 1638548771461,
    "execution_millis": 91360,
    "deepnote_output_heights": [
     null,
     21.1875
    ],
    "deepnote_cell_type": "code"
   },
   "source": "def load_bikes_prepr():\n    df = pd.read_csv('./datasets/hour.csv')\n    df = df.drop([\"instant\", \"dteday\", \"casual\", \"registered\"], axis=1)\n\n    # Convert everything to a NumPy array\n    X = df.values[:,:-1]\n    y = df.values[:,-1]\n    feature_names = df.columns[:-1]\n\n    scaler = StandardScaler()\n    X = scaler.fit_transform(X)\n\n    return X, y, feature_names\n\nbikes_X, bikes_y, bikes_features = load_bikes_prepr()\n\n\nX_bikes, X_test_bikes, y_bikes, y_test_bikes = train_test_split(bikes_X, bikes_y, test_size=0.2, random_state=seed)\nX_train_bikes, X_val_bikes, y_train_bikes, y_val_bikes = train_test_split(X_bikes, y_bikes, test_size=0.2, random_state=seed)\n\n# Initialise neural network\nBATCH_SIZE=64\nINPUT_SIZE= X_train_bikes.shape[1]\n\n\n\nbikes_model = Sequential()\nbikes_model.add(Input(INPUT_SIZE))\nbikes_model.add(Dense(30, activation=\"relu\"))\nbikes_model.add(Dropout(0.1))\nbikes_model.add(Dense(15, activation=\"relu\"))\nbikes_model.add(Dropout(0.1))\nbikes_model.add(Dense(5, activation=\"relu\"))\nbikes_model.add(Dropout(0.1))\nbikes_model.add(Dense(1))\nbikes_model.compile(optimizer='adam',\n                loss=\"mean_absolute_error\",\n                metrics=['mean_squared_error'])\n\nbikes_model.fit(X_train_bikes, y_train_bikes, batch_size=BATCH_SIZE, epochs=200, validation_data=(X_val_bikes, y_val_bikes)) # validation_split=0.2)\n\n\n",
   "execution_count": null,
   "outputs": [
    {
     "name": "stdout",
     "text": "Epoch 1/200\n174/174 [==============================] - 1s 3ms/step - loss: 184.8367 - mean_squared_error: 66906.0743 - val_loss: 139.4370 - val_mean_squared_error: 42622.9570\nEpoch 2/200\n174/174 [==============================] - 0s 2ms/step - loss: 127.4869 - mean_squared_error: 36406.2066 - val_loss: 96.1107 - val_mean_squared_error: 19710.5039\nEpoch 3/200\n174/174 [==============================] - 0s 2ms/step - loss: 106.5473 - mean_squared_error: 24244.8407 - val_loss: 94.1988 - val_mean_squared_error: 19247.6777\nEpoch 4/200\n174/174 [==============================] - 0s 2ms/step - loss: 106.1921 - mean_squared_error: 24347.2796 - val_loss: 93.5783 - val_mean_squared_error: 19661.5020\nEpoch 5/200\n174/174 [==============================] - 0s 2ms/step - loss: 102.2816 - mean_squared_error: 23300.7956 - val_loss: 92.9179 - val_mean_squared_error: 19131.3477\nEpoch 6/200\n174/174 [==============================] - 0s 2ms/step - loss: 103.9176 - mean_squared_error: 24264.5240 - val_loss: 92.5158 - val_mean_squared_error: 19017.8477\nEpoch 7/200\n174/174 [==============================] - 0s 2ms/step - loss: 103.0572 - mean_squared_error: 23559.5314 - val_loss: 92.0231 - val_mean_squared_error: 18900.3770\nEpoch 8/200\n174/174 [==============================] - 0s 2ms/step - loss: 102.9558 - mean_squared_error: 23835.4557 - val_loss: 91.3215 - val_mean_squared_error: 18570.2793\nEpoch 9/200\n174/174 [==============================] - 0s 2ms/step - loss: 103.6477 - mean_squared_error: 23883.6503 - val_loss: 90.3531 - val_mean_squared_error: 18447.7461\nEpoch 10/200\n174/174 [==============================] - 0s 2ms/step - loss: 100.0493 - mean_squared_error: 22894.3362 - val_loss: 89.3819 - val_mean_squared_error: 18366.0488\nEpoch 11/200\n174/174 [==============================] - 1s 3ms/step - loss: 99.2980 - mean_squared_error: 22676.7078 - val_loss: 88.3201 - val_mean_squared_error: 17918.4199\nEpoch 12/200\n174/174 [==============================] - 0s 2ms/step - loss: 101.5269 - mean_squared_error: 23551.4516 - val_loss: 87.4078 - val_mean_squared_error: 17712.2051\nEpoch 13/200\n174/174 [==============================] - 0s 2ms/step - loss: 99.1710 - mean_squared_error: 22688.0715 - val_loss: 86.5519 - val_mean_squared_error: 17158.4375\nEpoch 14/200\n174/174 [==============================] - 0s 2ms/step - loss: 97.4764 - mean_squared_error: 21940.5276 - val_loss: 85.6045 - val_mean_squared_error: 17000.5859\nEpoch 15/200\n174/174 [==============================] - 0s 2ms/step - loss: 98.7054 - mean_squared_error: 22321.3585 - val_loss: 84.6795 - val_mean_squared_error: 16807.3203\nEpoch 16/200\n174/174 [==============================] - 0s 2ms/step - loss: 95.6017 - mean_squared_error: 21156.1441 - val_loss: 83.8121 - val_mean_squared_error: 16588.3242\nEpoch 17/200\n174/174 [==============================] - 0s 2ms/step - loss: 93.5372 - mean_squared_error: 20566.8991 - val_loss: 82.7938 - val_mean_squared_error: 16118.4219\nEpoch 18/200\n174/174 [==============================] - 0s 3ms/step - loss: 94.4217 - mean_squared_error: 20644.8287 - val_loss: 81.7863 - val_mean_squared_error: 15828.3096\nEpoch 19/200\n174/174 [==============================] - 0s 2ms/step - loss: 93.5483 - mean_squared_error: 20526.4680 - val_loss: 81.0063 - val_mean_squared_error: 15882.9102\nEpoch 20/200\n174/174 [==============================] - 0s 2ms/step - loss: 95.5761 - mean_squared_error: 21392.9696 - val_loss: 80.0083 - val_mean_squared_error: 15491.9209\nEpoch 21/200\n174/174 [==============================] - 0s 2ms/step - loss: 91.7440 - mean_squared_error: 19719.8198 - val_loss: 78.9097 - val_mean_squared_error: 15040.0664\nEpoch 22/200\n174/174 [==============================] - 1s 4ms/step - loss: 92.9325 - mean_squared_error: 20157.0308 - val_loss: 78.2146 - val_mean_squared_error: 14816.2305\nEpoch 23/200\n174/174 [==============================] - 1s 5ms/step - loss: 90.6964 - mean_squared_error: 19995.7234 - val_loss: 77.4077 - val_mean_squared_error: 15064.0205\nEpoch 24/200\n174/174 [==============================] - 0s 3ms/step - loss: 90.3399 - mean_squared_error: 19506.1030 - val_loss: 76.9831 - val_mean_squared_error: 13907.6191\nEpoch 25/200\n174/174 [==============================] - 0s 2ms/step - loss: 92.5572 - mean_squared_error: 20673.4478 - val_loss: 76.0897 - val_mean_squared_error: 13894.0615\nEpoch 26/200\n174/174 [==============================] - 0s 2ms/step - loss: 90.4240 - mean_squared_error: 19679.7652 - val_loss: 74.8029 - val_mean_squared_error: 13845.0469\nEpoch 27/200\n174/174 [==============================] - 0s 2ms/step - loss: 88.0745 - mean_squared_error: 19070.4186 - val_loss: 74.3641 - val_mean_squared_error: 13541.2715\nEpoch 28/200\n174/174 [==============================] - 0s 2ms/step - loss: 89.0770 - mean_squared_error: 19835.6171 - val_loss: 73.5126 - val_mean_squared_error: 13537.9199\nEpoch 29/200\n174/174 [==============================] - 0s 2ms/step - loss: 88.1787 - mean_squared_error: 19473.5157 - val_loss: 73.0401 - val_mean_squared_error: 13427.0547\nEpoch 30/200\n174/174 [==============================] - 0s 2ms/step - loss: 87.2538 - mean_squared_error: 18664.8510 - val_loss: 72.7113 - val_mean_squared_error: 13413.4326\nEpoch 31/200\n174/174 [==============================] - 0s 2ms/step - loss: 88.9740 - mean_squared_error: 19620.8286 - val_loss: 72.1611 - val_mean_squared_error: 13577.5977\nEpoch 32/200\n174/174 [==============================] - 0s 2ms/step - loss: 86.9036 - mean_squared_error: 18520.9186 - val_loss: 72.5996 - val_mean_squared_error: 12825.2441\nEpoch 33/200\n174/174 [==============================] - 0s 2ms/step - loss: 85.1043 - mean_squared_error: 18201.1181 - val_loss: 71.8864 - val_mean_squared_error: 12610.2119\nEpoch 34/200\n174/174 [==============================] - 0s 2ms/step - loss: 86.2521 - mean_squared_error: 18509.7766 - val_loss: 70.5848 - val_mean_squared_error: 12964.5420\nEpoch 35/200\n174/174 [==============================] - 0s 2ms/step - loss: 83.9514 - mean_squared_error: 18002.6421 - val_loss: 70.6134 - val_mean_squared_error: 13086.6377\nEpoch 36/200\n174/174 [==============================] - 0s 2ms/step - loss: 84.2530 - mean_squared_error: 17867.2156 - val_loss: 70.0546 - val_mean_squared_error: 12645.3535\nEpoch 37/200\n174/174 [==============================] - 0s 2ms/step - loss: 83.0237 - mean_squared_error: 17508.7850 - val_loss: 70.0145 - val_mean_squared_error: 12549.9189\nEpoch 38/200\n174/174 [==============================] - 1s 3ms/step - loss: 84.0625 - mean_squared_error: 18176.4171 - val_loss: 69.6707 - val_mean_squared_error: 12567.7588\nEpoch 39/200\n174/174 [==============================] - 0s 2ms/step - loss: 84.3382 - mean_squared_error: 17953.4081 - val_loss: 69.0595 - val_mean_squared_error: 12582.2334\nEpoch 40/200\n174/174 [==============================] - 0s 2ms/step - loss: 83.9147 - mean_squared_error: 18011.1202 - val_loss: 68.7893 - val_mean_squared_error: 12562.8252\nEpoch 41/200\n174/174 [==============================] - 0s 2ms/step - loss: 82.2841 - mean_squared_error: 17614.7395 - val_loss: 67.9907 - val_mean_squared_error: 12011.8662\nEpoch 42/200\n174/174 [==============================] - 0s 3ms/step - loss: 83.5592 - mean_squared_error: 17748.1014 - val_loss: 67.3895 - val_mean_squared_error: 12053.9639\nEpoch 43/200\n174/174 [==============================] - 0s 2ms/step - loss: 83.3274 - mean_squared_error: 17984.6940 - val_loss: 66.8782 - val_mean_squared_error: 11920.7783\nEpoch 44/200\n174/174 [==============================] - 0s 2ms/step - loss: 81.4240 - mean_squared_error: 17184.6652 - val_loss: 66.5434 - val_mean_squared_error: 11442.5771\nEpoch 45/200\n174/174 [==============================] - 0s 2ms/step - loss: 82.7264 - mean_squared_error: 17642.9809 - val_loss: 65.8769 - val_mean_squared_error: 11580.2852\nEpoch 46/200\n174/174 [==============================] - 0s 2ms/step - loss: 81.3830 - mean_squared_error: 17296.4194 - val_loss: 65.5206 - val_mean_squared_error: 11719.7256\nEpoch 47/200\n174/174 [==============================] - 0s 2ms/step - loss: 80.9181 - mean_squared_error: 17060.9628 - val_loss: 64.8312 - val_mean_squared_error: 11230.9219\nEpoch 48/200\n174/174 [==============================] - 0s 2ms/step - loss: 80.8293 - mean_squared_error: 17114.4908 - val_loss: 64.5257 - val_mean_squared_error: 11049.7285\nEpoch 49/200\n174/174 [==============================] - 0s 2ms/step - loss: 82.1186 - mean_squared_error: 17550.0119 - val_loss: 64.1371 - val_mean_squared_error: 11210.9365\nEpoch 50/200\n174/174 [==============================] - 0s 2ms/step - loss: 78.2469 - mean_squared_error: 16146.5872 - val_loss: 63.6493 - val_mean_squared_error: 11064.0068\nEpoch 51/200\n174/174 [==============================] - 0s 2ms/step - loss: 78.6874 - mean_squared_error: 16188.7930 - val_loss: 63.8774 - val_mean_squared_error: 10705.4814\nEpoch 52/200\n174/174 [==============================] - 0s 2ms/step - loss: 80.4429 - mean_squared_error: 16911.9995 - val_loss: 62.8619 - val_mean_squared_error: 10800.2451\nEpoch 53/200\n174/174 [==============================] - 0s 2ms/step - loss: 79.3054 - mean_squared_error: 16457.9364 - val_loss: 62.8518 - val_mean_squared_error: 10770.8506\nEpoch 54/200\n174/174 [==============================] - 0s 3ms/step - loss: 78.5208 - mean_squared_error: 16020.6392 - val_loss: 62.5008 - val_mean_squared_error: 10521.6494\nEpoch 55/200\n174/174 [==============================] - 0s 2ms/step - loss: 78.0446 - mean_squared_error: 16016.0311 - val_loss: 62.1272 - val_mean_squared_error: 10523.0000\nEpoch 56/200\n174/174 [==============================] - 0s 2ms/step - loss: 77.7237 - mean_squared_error: 15873.6549 - val_loss: 62.0914 - val_mean_squared_error: 10510.0430\nEpoch 57/200\n174/174 [==============================] - 0s 2ms/step - loss: 80.6638 - mean_squared_error: 17159.1468 - val_loss: 61.8953 - val_mean_squared_error: 10643.7227\nEpoch 58/200\n174/174 [==============================] - 0s 2ms/step - loss: 75.6440 - mean_squared_error: 14995.2332 - val_loss: 61.6732 - val_mean_squared_error: 10321.5635\nEpoch 59/200\n174/174 [==============================] - 0s 2ms/step - loss: 77.2064 - mean_squared_error: 15549.8829 - val_loss: 61.4608 - val_mean_squared_error: 10223.0518\nEpoch 60/200\n174/174 [==============================] - 0s 3ms/step - loss: 76.8485 - mean_squared_error: 15305.7476 - val_loss: 61.2006 - val_mean_squared_error: 10252.0186\nEpoch 61/200\n174/174 [==============================] - 0s 2ms/step - loss: 75.2906 - mean_squared_error: 14827.8815 - val_loss: 61.2988 - val_mean_squared_error: 10079.4922\nEpoch 62/200\n174/174 [==============================] - 0s 2ms/step - loss: 76.3750 - mean_squared_error: 15316.2905 - val_loss: 60.9781 - val_mean_squared_error: 10117.2432\nEpoch 63/200\n174/174 [==============================] - 0s 2ms/step - loss: 78.5396 - mean_squared_error: 16206.3563 - val_loss: 61.2691 - val_mean_squared_error: 10000.5166\nEpoch 64/200\n174/174 [==============================] - 0s 2ms/step - loss: 75.6378 - mean_squared_error: 15042.2721 - val_loss: 60.9259 - val_mean_squared_error: 10161.8926\nEpoch 65/200\n174/174 [==============================] - 0s 2ms/step - loss: 76.6581 - mean_squared_error: 15797.1129 - val_loss: 60.8191 - val_mean_squared_error: 10123.4990\nEpoch 66/200\n174/174 [==============================] - 0s 2ms/step - loss: 77.6548 - mean_squared_error: 15828.3781 - val_loss: 60.9501 - val_mean_squared_error: 10432.6689\nEpoch 67/200\n174/174 [==============================] - 0s 2ms/step - loss: 78.0019 - mean_squared_error: 15947.5080 - val_loss: 60.8360 - val_mean_squared_error: 10289.1914\nEpoch 68/200\n174/174 [==============================] - 0s 3ms/step - loss: 76.1995 - mean_squared_error: 15323.8736 - val_loss: 60.7684 - val_mean_squared_error: 9860.1328\nEpoch 69/200\n174/174 [==============================] - 0s 3ms/step - loss: 74.2566 - mean_squared_error: 14637.1491 - val_loss: 60.9119 - val_mean_squared_error: 10119.5869\nEpoch 70/200\n174/174 [==============================] - 0s 2ms/step - loss: 78.2863 - mean_squared_error: 15920.4380 - val_loss: 60.2822 - val_mean_squared_error: 9918.4600\nEpoch 71/200\n174/174 [==============================] - 0s 2ms/step - loss: 77.6250 - mean_squared_error: 15611.2530 - val_loss: 60.8575 - val_mean_squared_error: 10273.0479\nEpoch 72/200\n174/174 [==============================] - 1s 5ms/step - loss: 76.7880 - mean_squared_error: 15462.2284 - val_loss: 60.3932 - val_mean_squared_error: 9966.9160\nEpoch 73/200\n174/174 [==============================] - 0s 2ms/step - loss: 74.8960 - mean_squared_error: 14575.9059 - val_loss: 60.3043 - val_mean_squared_error: 10189.6885\nEpoch 74/200\n174/174 [==============================] - 0s 2ms/step - loss: 76.0459 - mean_squared_error: 15030.7148 - val_loss: 60.2966 - val_mean_squared_error: 9754.0205\nEpoch 75/200\n174/174 [==============================] - 0s 2ms/step - loss: 74.0563 - mean_squared_error: 14399.2381 - val_loss: 60.1144 - val_mean_squared_error: 9864.9160\nEpoch 76/200\n174/174 [==============================] - 0s 3ms/step - loss: 74.2622 - mean_squared_error: 14420.8711 - val_loss: 60.1397 - val_mean_squared_error: 9907.8594\nEpoch 77/200\n174/174 [==============================] - 0s 2ms/step - loss: 75.3050 - mean_squared_error: 14888.0847 - val_loss: 59.9468 - val_mean_squared_error: 9718.4053\nEpoch 78/200\n174/174 [==============================] - 0s 2ms/step - loss: 74.0248 - mean_squared_error: 14522.9551 - val_loss: 59.5929 - val_mean_squared_error: 9576.8418\nEpoch 79/200\n174/174 [==============================] - 0s 2ms/step - loss: 72.5629 - mean_squared_error: 13844.7928 - val_loss: 59.5749 - val_mean_squared_error: 9797.6768\nEpoch 80/200\n174/174 [==============================] - 0s 2ms/step - loss: 74.9258 - mean_squared_error: 15040.0785 - val_loss: 59.5430 - val_mean_squared_error: 9867.0156\nEpoch 81/200\n174/174 [==============================] - 0s 2ms/step - loss: 73.7152 - mean_squared_error: 14518.2964 - val_loss: 59.5871 - val_mean_squared_error: 9692.2129\nEpoch 82/200\n174/174 [==============================] - 0s 2ms/step - loss: 76.0890 - mean_squared_error: 15383.4081 - val_loss: 59.2577 - val_mean_squared_error: 9648.5557\nEpoch 83/200\n174/174 [==============================] - 0s 2ms/step - loss: 73.4778 - mean_squared_error: 14170.2820 - val_loss: 59.0602 - val_mean_squared_error: 9603.9355\nEpoch 84/200\n174/174 [==============================] - 0s 3ms/step - loss: 72.3881 - mean_squared_error: 13982.6650 - val_loss: 59.3019 - val_mean_squared_error: 9680.8936\nEpoch 85/200\n174/174 [==============================] - 0s 2ms/step - loss: 73.7554 - mean_squared_error: 14387.7323 - val_loss: 58.8380 - val_mean_squared_error: 9445.4229\nEpoch 86/200\n174/174 [==============================] - 0s 2ms/step - loss: 73.7854 - mean_squared_error: 14429.4768 - val_loss: 58.7904 - val_mean_squared_error: 9401.2275\nEpoch 87/200\n174/174 [==============================] - 0s 2ms/step - loss: 74.2566 - mean_squared_error: 14414.3141 - val_loss: 58.9958 - val_mean_squared_error: 9717.2510\nEpoch 88/200\n174/174 [==============================] - 0s 2ms/step - loss: 72.2833 - mean_squared_error: 13943.1605 - val_loss: 58.3507 - val_mean_squared_error: 9252.2520\nEpoch 89/200\n174/174 [==============================] - 0s 2ms/step - loss: 72.6751 - mean_squared_error: 14256.7456 - val_loss: 58.3105 - val_mean_squared_error: 9205.8867\nEpoch 90/200\n174/174 [==============================] - 0s 2ms/step - loss: 74.2877 - mean_squared_error: 14629.7757 - val_loss: 58.0619 - val_mean_squared_error: 9098.3447\nEpoch 91/200\n174/174 [==============================] - 0s 2ms/step - loss: 73.2781 - mean_squared_error: 13895.3233 - val_loss: 58.1193 - val_mean_squared_error: 9186.5332\nEpoch 92/200\n174/174 [==============================] - 0s 2ms/step - loss: 73.7859 - mean_squared_error: 14425.3101 - val_loss: 58.3232 - val_mean_squared_error: 9359.1338\nEpoch 93/200\n174/174 [==============================] - 0s 2ms/step - loss: 72.0653 - mean_squared_error: 13694.9186 - val_loss: 57.7802 - val_mean_squared_error: 9170.3125\nEpoch 94/200\n174/174 [==============================] - 0s 2ms/step - loss: 75.2716 - mean_squared_error: 14823.9920 - val_loss: 58.0914 - val_mean_squared_error: 9331.9160\nEpoch 95/200\n174/174 [==============================] - 0s 3ms/step - loss: 71.9366 - mean_squared_error: 13522.8683 - val_loss: 57.7878 - val_mean_squared_error: 9159.1543\nEpoch 96/200\n174/174 [==============================] - 0s 2ms/step - loss: 70.5352 - mean_squared_error: 13228.5993 - val_loss: 57.5698 - val_mean_squared_error: 9093.5898\nEpoch 97/200\n174/174 [==============================] - 0s 2ms/step - loss: 71.4930 - mean_squared_error: 13652.4723 - val_loss: 57.2631 - val_mean_squared_error: 8949.5049\nEpoch 98/200\n174/174 [==============================] - 0s 2ms/step - loss: 71.8528 - mean_squared_error: 13654.9961 - val_loss: 57.3321 - val_mean_squared_error: 8729.6602\nEpoch 99/200\n174/174 [==============================] - 0s 2ms/step - loss: 72.1000 - mean_squared_error: 13569.7607 - val_loss: 57.0148 - val_mean_squared_error: 8727.3115\nEpoch 100/200\n174/174 [==============================] - 0s 2ms/step - loss: 70.8620 - mean_squared_error: 12933.9962 - val_loss: 57.5275 - val_mean_squared_error: 8951.8320\nEpoch 101/200\n174/174 [==============================] - 0s 2ms/step - loss: 72.4610 - mean_squared_error: 13813.8054 - val_loss: 57.2623 - val_mean_squared_error: 8853.4502\nEpoch 102/200\n174/174 [==============================] - 0s 2ms/step - loss: 71.7995 - mean_squared_error: 13460.7369 - val_loss: 57.1764 - val_mean_squared_error: 9048.8994\nEpoch 103/200\n174/174 [==============================] - 0s 2ms/step - loss: 71.8367 - mean_squared_error: 13788.4984 - val_loss: 57.2429 - val_mean_squared_error: 8711.2236\nEpoch 104/200\n174/174 [==============================] - 0s 2ms/step - loss: 72.1421 - mean_squared_error: 13463.9149 - val_loss: 56.8638 - val_mean_squared_error: 8824.6650\nEpoch 105/200\n174/174 [==============================] - 0s 2ms/step - loss: 70.8188 - mean_squared_error: 13305.1367 - val_loss: 56.9526 - val_mean_squared_error: 8776.4570\nEpoch 106/200\n174/174 [==============================] - 0s 2ms/step - loss: 69.7752 - mean_squared_error: 12833.6011 - val_loss: 57.0837 - val_mean_squared_error: 8929.9316\nEpoch 107/200\n174/174 [==============================] - 0s 2ms/step - loss: 69.2973 - mean_squared_error: 12416.9477 - val_loss: 56.6393 - val_mean_squared_error: 8585.3262\nEpoch 108/200\n174/174 [==============================] - 0s 2ms/step - loss: 72.0214 - mean_squared_error: 13569.0467 - val_loss: 56.2399 - val_mean_squared_error: 8550.7578\nEpoch 109/200\n174/174 [==============================] - 0s 2ms/step - loss: 71.1296 - mean_squared_error: 13409.2859 - val_loss: 56.1807 - val_mean_squared_error: 8384.7627\nEpoch 110/200\n174/174 [==============================] - 0s 2ms/step - loss: 71.7540 - mean_squared_error: 13496.2855 - val_loss: 56.5086 - val_mean_squared_error: 8834.1719\nEpoch 111/200\n174/174 [==============================] - 0s 2ms/step - loss: 69.7158 - mean_squared_error: 12616.7715 - val_loss: 55.9838 - val_mean_squared_error: 8441.5566\nEpoch 112/200\n174/174 [==============================] - 0s 2ms/step - loss: 71.9613 - mean_squared_error: 13531.8443 - val_loss: 56.3944 - val_mean_squared_error: 8492.1738\nEpoch 113/200\n174/174 [==============================] - 0s 2ms/step - loss: 69.5412 - mean_squared_error: 12713.1223 - val_loss: 56.1271 - val_mean_squared_error: 8282.4824\nEpoch 114/200\n174/174 [==============================] - 0s 2ms/step - loss: 68.8072 - mean_squared_error: 12567.5239 - val_loss: 55.7832 - val_mean_squared_error: 8316.5957\nEpoch 115/200\n174/174 [==============================] - 0s 2ms/step - loss: 70.1954 - mean_squared_error: 12968.3724 - val_loss: 56.0884 - val_mean_squared_error: 8434.0176\nEpoch 116/200\n174/174 [==============================] - 1s 3ms/step - loss: 68.6530 - mean_squared_error: 12736.6710 - val_loss: 55.7528 - val_mean_squared_error: 8367.7920\nEpoch 117/200\n174/174 [==============================] - 0s 2ms/step - loss: 68.6272 - mean_squared_error: 12108.0864 - val_loss: 55.2183 - val_mean_squared_error: 8324.2041\nEpoch 118/200\n174/174 [==============================] - 0s 3ms/step - loss: 70.1891 - mean_squared_error: 13118.1191 - val_loss: 56.5210 - val_mean_squared_error: 8903.3721\nEpoch 119/200\n174/174 [==============================] - 0s 2ms/step - loss: 70.3762 - mean_squared_error: 13175.9662 - val_loss: 54.9094 - val_mean_squared_error: 8098.5610\nEpoch 120/200\n174/174 [==============================] - 0s 2ms/step - loss: 70.9912 - mean_squared_error: 13377.5995 - val_loss: 55.4910 - val_mean_squared_error: 8391.8096\nEpoch 121/200\n174/174 [==============================] - 1s 3ms/step - loss: 70.6991 - mean_squared_error: 13155.4031 - val_loss: 55.0369 - val_mean_squared_error: 8080.5098\nEpoch 122/200\n174/174 [==============================] - 0s 2ms/step - loss: 70.3124 - mean_squared_error: 13248.6031 - val_loss: 54.6775 - val_mean_squared_error: 8301.5195\nEpoch 123/200\n174/174 [==============================] - 0s 2ms/step - loss: 68.7255 - mean_squared_error: 12414.8491 - val_loss: 55.1075 - val_mean_squared_error: 8252.1484\nEpoch 124/200\n174/174 [==============================] - 0s 2ms/step - loss: 70.1536 - mean_squared_error: 13302.2839 - val_loss: 54.6232 - val_mean_squared_error: 7974.7358\nEpoch 125/200\n174/174 [==============================] - 0s 2ms/step - loss: 68.7635 - mean_squared_error: 12512.9865 - val_loss: 54.6954 - val_mean_squared_error: 8072.2544\nEpoch 126/200\n174/174 [==============================] - 0s 2ms/step - loss: 69.9289 - mean_squared_error: 12963.3573 - val_loss: 55.3423 - val_mean_squared_error: 8560.0537\nEpoch 127/200\n174/174 [==============================] - 0s 2ms/step - loss: 68.6091 - mean_squared_error: 12595.9198 - val_loss: 54.1974 - val_mean_squared_error: 7951.0146\nEpoch 128/200\n174/174 [==============================] - 0s 2ms/step - loss: 69.2987 - mean_squared_error: 12783.0600 - val_loss: 54.4203 - val_mean_squared_error: 7916.2632\nEpoch 129/200\n174/174 [==============================] - 0s 2ms/step - loss: 69.4586 - mean_squared_error: 12547.7162 - val_loss: 54.3075 - val_mean_squared_error: 7993.7715\nEpoch 130/200\n174/174 [==============================] - 0s 2ms/step - loss: 68.3520 - mean_squared_error: 12318.4204 - val_loss: 54.0937 - val_mean_squared_error: 7955.6348\nEpoch 131/200\n174/174 [==============================] - 0s 2ms/step - loss: 69.5480 - mean_squared_error: 12885.1373 - val_loss: 54.1638 - val_mean_squared_error: 7872.5298\nEpoch 132/200\n174/174 [==============================] - 0s 2ms/step - loss: 69.4640 - mean_squared_error: 12612.0045 - val_loss: 54.1649 - val_mean_squared_error: 7865.5742\nEpoch 133/200\n174/174 [==============================] - 0s 2ms/step - loss: 69.6215 - mean_squared_error: 12803.8634 - val_loss: 53.8919 - val_mean_squared_error: 7850.2324\nEpoch 134/200\n174/174 [==============================] - 0s 3ms/step - loss: 68.5487 - mean_squared_error: 12363.8307 - val_loss: 53.4876 - val_mean_squared_error: 7727.2437\nEpoch 135/200\n174/174 [==============================] - 0s 2ms/step - loss: 69.6528 - mean_squared_error: 12606.2571 - val_loss: 53.4115 - val_mean_squared_error: 7488.1079\nEpoch 136/200\n174/174 [==============================] - 0s 2ms/step - loss: 69.4404 - mean_squared_error: 12512.4199 - val_loss: 53.7419 - val_mean_squared_error: 7901.9956\nEpoch 137/200\n174/174 [==============================] - 0s 2ms/step - loss: 69.3471 - mean_squared_error: 12728.9705 - val_loss: 54.1108 - val_mean_squared_error: 8043.1514\nEpoch 138/200\n174/174 [==============================] - 0s 2ms/step - loss: 69.1889 - mean_squared_error: 12570.5738 - val_loss: 54.4709 - val_mean_squared_error: 8298.6357\nEpoch 139/200\n174/174 [==============================] - 0s 2ms/step - loss: 69.3296 - mean_squared_error: 12467.0496 - val_loss: 53.0836 - val_mean_squared_error: 7549.4097\nEpoch 140/200\n174/174 [==============================] - 0s 2ms/step - loss: 69.2997 - mean_squared_error: 12721.6782 - val_loss: 53.2662 - val_mean_squared_error: 7692.9326\nEpoch 141/200\n174/174 [==============================] - 0s 2ms/step - loss: 67.5969 - mean_squared_error: 12166.2827 - val_loss: 52.8851 - val_mean_squared_error: 7497.9771\nEpoch 142/200\n174/174 [==============================] - 0s 3ms/step - loss: 69.8244 - mean_squared_error: 13046.7164 - val_loss: 53.2067 - val_mean_squared_error: 7561.2695\nEpoch 143/200\n174/174 [==============================] - 1s 3ms/step - loss: 69.1601 - mean_squared_error: 12837.1566 - val_loss: 53.8409 - val_mean_squared_error: 7956.1250\nEpoch 144/200\n174/174 [==============================] - 0s 3ms/step - loss: 68.3697 - mean_squared_error: 12234.4464 - val_loss: 53.0304 - val_mean_squared_error: 7645.3198\nEpoch 145/200\n174/174 [==============================] - 0s 2ms/step - loss: 68.6864 - mean_squared_error: 12528.4685 - val_loss: 52.5378 - val_mean_squared_error: 7466.3296\nEpoch 146/200\n174/174 [==============================] - 0s 3ms/step - loss: 68.9610 - mean_squared_error: 12620.6755 - val_loss: 53.2332 - val_mean_squared_error: 7745.6909\nEpoch 147/200\n174/174 [==============================] - 0s 2ms/step - loss: 67.6215 - mean_squared_error: 12233.9922 - val_loss: 52.0678 - val_mean_squared_error: 7190.7603\nEpoch 148/200\n174/174 [==============================] - 0s 2ms/step - loss: 67.3075 - mean_squared_error: 11962.2052 - val_loss: 52.3712 - val_mean_squared_error: 7255.0723\nEpoch 149/200\n174/174 [==============================] - 0s 2ms/step - loss: 68.8668 - mean_squared_error: 12113.1557 - val_loss: 52.3360 - val_mean_squared_error: 7225.5010\nEpoch 150/200\n174/174 [==============================] - 0s 2ms/step - loss: 69.4023 - mean_squared_error: 12952.6184 - val_loss: 52.1909 - val_mean_squared_error: 7310.5112\nEpoch 151/200\n174/174 [==============================] - 0s 2ms/step - loss: 64.8975 - mean_squared_error: 11299.4103 - val_loss: 51.7288 - val_mean_squared_error: 7140.3677\nEpoch 152/200\n174/174 [==============================] - 0s 3ms/step - loss: 67.3589 - mean_squared_error: 11928.5402 - val_loss: 51.7801 - val_mean_squared_error: 7234.1035\nEpoch 153/200\n174/174 [==============================] - 0s 2ms/step - loss: 67.7856 - mean_squared_error: 12202.0128 - val_loss: 51.9863 - val_mean_squared_error: 7300.1201\nEpoch 154/200\n174/174 [==============================] - 0s 2ms/step - loss: 67.6087 - mean_squared_error: 12290.5164 - val_loss: 51.6083 - val_mean_squared_error: 7210.3135\nEpoch 155/200\n174/174 [==============================] - 0s 2ms/step - loss: 66.4217 - mean_squared_error: 11433.0507 - val_loss: 52.5202 - val_mean_squared_error: 7633.6567\nEpoch 156/200\n174/174 [==============================] - 0s 2ms/step - loss: 67.1724 - mean_squared_error: 12013.1346 - val_loss: 51.5861 - val_mean_squared_error: 7119.4692\nEpoch 157/200\n174/174 [==============================] - 1s 3ms/step - loss: 67.4344 - mean_squared_error: 12420.8354 - val_loss: 51.8608 - val_mean_squared_error: 7483.3799\nEpoch 158/200\n174/174 [==============================] - 0s 3ms/step - loss: 67.5609 - mean_squared_error: 11900.2071 - val_loss: 51.8618 - val_mean_squared_error: 7071.5229\nEpoch 159/200\n174/174 [==============================] - 0s 2ms/step - loss: 66.6445 - mean_squared_error: 11694.1892 - val_loss: 51.3983 - val_mean_squared_error: 7154.5898\nEpoch 160/200\n174/174 [==============================] - 0s 2ms/step - loss: 66.9055 - mean_squared_error: 11911.3425 - val_loss: 51.4164 - val_mean_squared_error: 7169.3828\nEpoch 161/200\n174/174 [==============================] - 0s 2ms/step - loss: 67.9216 - mean_squared_error: 12048.5269 - val_loss: 51.2033 - val_mean_squared_error: 6990.7666\nEpoch 162/200\n174/174 [==============================] - 0s 3ms/step - loss: 68.6537 - mean_squared_error: 12387.6331 - val_loss: 51.4033 - val_mean_squared_error: 7167.5010\nEpoch 163/200\n174/174 [==============================] - 0s 2ms/step - loss: 68.3299 - mean_squared_error: 12397.4557 - val_loss: 51.6209 - val_mean_squared_error: 7198.4360\nEpoch 164/200\n174/174 [==============================] - 0s 2ms/step - loss: 67.4941 - mean_squared_error: 12199.7835 - val_loss: 52.0687 - val_mean_squared_error: 7403.5874\nEpoch 165/200\n174/174 [==============================] - 0s 2ms/step - loss: 65.3354 - mean_squared_error: 10802.7835 - val_loss: 51.0620 - val_mean_squared_error: 7071.2485\nEpoch 166/200\n174/174 [==============================] - 0s 2ms/step - loss: 65.4911 - mean_squared_error: 11220.0813 - val_loss: 50.8416 - val_mean_squared_error: 6957.9829\nEpoch 167/200\n174/174 [==============================] - 0s 2ms/step - loss: 65.9553 - mean_squared_error: 11354.0147 - val_loss: 50.1183 - val_mean_squared_error: 6681.0464\nEpoch 168/200\n174/174 [==============================] - 0s 2ms/step - loss: 66.3161 - mean_squared_error: 11601.8970 - val_loss: 50.5867 - val_mean_squared_error: 6683.4087\nEpoch 169/200\n174/174 [==============================] - 0s 2ms/step - loss: 65.9968 - mean_squared_error: 11571.1273 - val_loss: 50.3171 - val_mean_squared_error: 6566.0806\nEpoch 170/200\n174/174 [==============================] - 0s 2ms/step - loss: 67.8710 - mean_squared_error: 12205.8778 - val_loss: 50.3265 - val_mean_squared_error: 6680.9824\nEpoch 171/200\n174/174 [==============================] - 0s 3ms/step - loss: 64.4049 - mean_squared_error: 10815.9059 - val_loss: 49.9112 - val_mean_squared_error: 6657.8589\nEpoch 172/200\n174/174 [==============================] - 0s 2ms/step - loss: 65.1960 - mean_squared_error: 11042.5510 - val_loss: 50.6291 - val_mean_squared_error: 6864.2339\nEpoch 173/200\n174/174 [==============================] - 0s 2ms/step - loss: 66.6787 - mean_squared_error: 11745.2577 - val_loss: 50.6470 - val_mean_squared_error: 6657.9160\nEpoch 174/200\n174/174 [==============================] - 0s 2ms/step - loss: 66.0440 - mean_squared_error: 11459.4197 - val_loss: 50.5712 - val_mean_squared_error: 6940.5410\nEpoch 175/200\n174/174 [==============================] - 1s 4ms/step - loss: 66.1494 - mean_squared_error: 11674.3887 - val_loss: 49.8398 - val_mean_squared_error: 6541.4629\nEpoch 176/200\n174/174 [==============================] - 1s 4ms/step - loss: 65.6495 - mean_squared_error: 11417.9310 - val_loss: 50.3057 - val_mean_squared_error: 7067.6548\nEpoch 177/200\n174/174 [==============================] - 1s 4ms/step - loss: 65.9555 - mean_squared_error: 11787.2436 - val_loss: 49.4981 - val_mean_squared_error: 6525.2363\nEpoch 178/200\n174/174 [==============================] - 1s 5ms/step - loss: 65.8384 - mean_squared_error: 11405.3349 - val_loss: 50.1007 - val_mean_squared_error: 6740.9600\nEpoch 179/200\n174/174 [==============================] - 1s 5ms/step - loss: 63.8705 - mean_squared_error: 10489.8264 - val_loss: 50.1845 - val_mean_squared_error: 6605.3018\nEpoch 180/200\n174/174 [==============================] - 1s 5ms/step - loss: 66.2200 - mean_squared_error: 11747.4427 - val_loss: 49.7390 - val_mean_squared_error: 6564.5259\nEpoch 181/200\n174/174 [==============================] - 1s 4ms/step - loss: 65.2284 - mean_squared_error: 11387.8267 - val_loss: 50.0682 - val_mean_squared_error: 6687.6255\nEpoch 182/200\n174/174 [==============================] - 1s 4ms/step - loss: 66.3652 - mean_squared_error: 12038.9784 - val_loss: 49.6842 - val_mean_squared_error: 6538.0107\nEpoch 183/200\n174/174 [==============================] - 1s 5ms/step - loss: 66.5737 - mean_squared_error: 11864.8597 - val_loss: 50.3156 - val_mean_squared_error: 6765.6714\nEpoch 184/200\n174/174 [==============================] - 1s 5ms/step - loss: 65.8881 - mean_squared_error: 11373.9134 - val_loss: 50.5330 - val_mean_squared_error: 6819.1372\nEpoch 185/200\n174/174 [==============================] - 1s 5ms/step - loss: 66.4301 - mean_squared_error: 11579.3468 - val_loss: 50.6051 - val_mean_squared_error: 6664.2251\nEpoch 186/200\n174/174 [==============================] - 1s 6ms/step - loss: 66.3777 - mean_squared_error: 11584.8661 - val_loss: 50.1797 - val_mean_squared_error: 6762.0474\nEpoch 187/200\n174/174 [==============================] - 1s 7ms/step - loss: 64.9184 - mean_squared_error: 11358.4894 - val_loss: 48.7748 - val_mean_squared_error: 6235.4023\nEpoch 188/200\n174/174 [==============================] - 0s 2ms/step - loss: 63.5415 - mean_squared_error: 10444.3347 - val_loss: 49.8431 - val_mean_squared_error: 6376.6133\nEpoch 189/200\n174/174 [==============================] - 0s 2ms/step - loss: 65.8237 - mean_squared_error: 11891.9345 - val_loss: 49.8958 - val_mean_squared_error: 6721.6699\nEpoch 190/200\n174/174 [==============================] - 0s 2ms/step - loss: 64.8526 - mean_squared_error: 10868.5677 - val_loss: 49.6004 - val_mean_squared_error: 6323.6323\nEpoch 191/200\n174/174 [==============================] - 0s 2ms/step - loss: 66.2260 - mean_squared_error: 11489.3286 - val_loss: 50.1479 - val_mean_squared_error: 6667.1284\nEpoch 192/200\n174/174 [==============================] - 0s 2ms/step - loss: 64.1500 - mean_squared_error: 10666.1647 - val_loss: 50.2335 - val_mean_squared_error: 6614.4673\nEpoch 193/200\n174/174 [==============================] - 0s 2ms/step - loss: 65.2552 - mean_squared_error: 11495.4635 - val_loss: 48.9700 - val_mean_squared_error: 6193.6274\nEpoch 194/200\n174/174 [==============================] - 1s 5ms/step - loss: 66.9530 - mean_squared_error: 12019.8621 - val_loss: 48.7209 - val_mean_squared_error: 6149.4438\nEpoch 195/200\n174/174 [==============================] - 1s 5ms/step - loss: 65.6766 - mean_squared_error: 11699.4730 - val_loss: 48.7371 - val_mean_squared_error: 6299.7842\nEpoch 196/200\n174/174 [==============================] - 1s 4ms/step - loss: 66.2304 - mean_squared_error: 11496.2000 - val_loss: 48.6419 - val_mean_squared_error: 6358.9839\nEpoch 197/200\n174/174 [==============================] - 1s 4ms/step - loss: 63.5940 - mean_squared_error: 10591.0824 - val_loss: 48.2774 - val_mean_squared_error: 5944.7305\nEpoch 198/200\n174/174 [==============================] - 1s 6ms/step - loss: 63.6825 - mean_squared_error: 10524.5958 - val_loss: 48.7449 - val_mean_squared_error: 5982.5708\nEpoch 199/200\n174/174 [==============================] - 1s 5ms/step - loss: 64.4762 - mean_squared_error: 10423.8976 - val_loss: 48.7985 - val_mean_squared_error: 6265.0708\nEpoch 200/200\n174/174 [==============================] - 1s 5ms/step - loss: 62.0436 - mean_squared_error: 10394.0950 - val_loss: 48.8553 - val_mean_squared_error: 6111.5635\n",
     "output_type": "stream"
    },
    {
     "output_type": "execute_result",
     "execution_count": 41,
     "data": {
      "text/plain": "<tensorflow.python.keras.callbacks.History at 0x7f3aa4379490>"
     },
     "metadata": {}
    }
   ]
  },
  {
   "cell_type": "code",
   "metadata": {
    "tags": [],
    "cell_id": "00015-23a65494-800a-494f-b22a-ce01386b3ca3",
    "deepnote_to_be_reexecuted": false,
    "source_hash": "30b44a37",
    "execution_start": 1638550207166,
    "execution_millis": 512,
    "deepnote_output_heights": [
     null,
     264
    ],
    "deepnote_cell_type": "code"
   },
   "source": "\nbikes_predictions = bikes_model.predict(X_test_bikes)\nbikes_predictions = np.reshape(bikes_predictions, len(y_test_bikes))\n\n\n\nbikes_error = bikes_predictions - y_test_bikes\nplt.hist(bikes_error, bins=50)\nplt.xlabel('Prediction Error')\n_ = plt.ylabel('Count')\n\n\"\"\"\ntmp_df = pd.read_csv('./datasets/hour.csv')\ntmp_df = tmp_df.drop([\"instant\", \"dteday\", \"casual\", \"registered\"], axis=1)\n\nall_bikes_features = tmp_df.columns\n\ntest_results = {}\ntest_results[\"bikes_model\"] = bikes_model.evaluate(X_test_bikes, y_test_bikes, verbose=0)\n\npd.DataFrame(test_results, index=['Mean absolute error']).T\n\"\"\"\n\n\n#from tensorflow.keras.utils import plot_model\n#plot_model(bikes_model, \"multi_input_and_output_model.png\", show_shapes=True)",
   "execution_count": null,
   "outputs": [
    {
     "name": "stdout",
     "text": "('Failed to import pydot. You must `pip install pydot` and install graphviz (https://graphviz.gitlab.io/download/), ', 'for `pydotprint` to work.')\n",
     "output_type": "stream"
    },
    {
     "data": {
      "text/plain": "<Figure size 432x288 with 1 Axes>",
      "image/png": "[encoded data removed]"
     },
     "metadata": {
      "needs_background": "light",
      "image/png": {
       "width": 389,
       "height": 262
      }
     },
     "output_type": "display_data"
    }
   ]
  },
  {
   "cell_type": "code",
   "metadata": {
    "tags": [],
    "cell_id": "00017-e91c782b-f055-466a-8678-2e68cdee2f19",
    "deepnote_to_be_reexecuted": false,
    "source_hash": "b623e53d",
    "execution_start": 1638726682241,
    "execution_millis": 4,
    "deepnote_cell_type": "code"
   },
   "source": "",
   "execution_count": null,
   "outputs": []
  },
  {
   "cell_type": "code",
   "metadata": {
    "tags": [],
    "cell_id": "00017-d14a9f76-9c89-45cf-903f-088b5f4ef207",
    "deepnote_to_be_reexecuted": false,
    "source_hash": "e6076ea0",
    "execution_start": 1638727485035,
    "execution_millis": 3,
    "deepnote_output_heights": [
     155.5
    ],
    "deepnote_cell_type": "code"
   },
   "source": "",
   "execution_count": null,
   "outputs": [
    {
     "output_type": "error",
     "ename": "NameError",
     "evalue": "name 'X_train' is not defined",
     "traceback": [
      "\u001b[0;31m---------------------------------------------------------------------------\u001b[0m",
      "\u001b[0;31mNameError\u001b[0m                                 Traceback (most recent call last)",
      "\u001b[0;32m<ipython-input-10-0e6cd1bc4826>\u001b[0m in \u001b[0;36m<module>\u001b[0;34m\u001b[0m\n\u001b[1;32m      6\u001b[0m \u001b[0;34m\u001b[0m\u001b[0m\n\u001b[1;32m      7\u001b[0m \u001b[0;34m\u001b[0m\u001b[0m\n\u001b[0;32m----> 8\u001b[0;31m \u001b[0md\u001b[0m \u001b[0;34m=\u001b[0m \u001b[0mdice_ml\u001b[0m\u001b[0;34m.\u001b[0m\u001b[0mData\u001b[0m\u001b[0;34m(\u001b[0m\u001b[0mdataframe\u001b[0m\u001b[0;34m=\u001b[0m\u001b[0mX_train\u001b[0m\u001b[0;34m,\u001b[0m \u001b[0mcontinuous_features\u001b[0m\u001b[0;34m=\u001b[0m\u001b[0;34m[\u001b[0m\u001b[0;34m'ApplicantIncome'\u001b[0m\u001b[0;34m,\u001b[0m \u001b[0;34m'CoapplicantIncome'\u001b[0m\u001b[0;34m,\u001b[0m \u001b[0;34m'LoanAmount'\u001b[0m\u001b[0;34m,\u001b[0m \u001b[0;34m'Loan_Amount_Term'\u001b[0m\u001b[0;34m,\u001b[0m \u001b[0;34m'Credit_History'\u001b[0m\u001b[0;34m]\u001b[0m\u001b[0;34m,\u001b[0m \u001b[0moutcome_name\u001b[0m\u001b[0;34m=\u001b[0m\u001b[0;34m'Loan_Status'\u001b[0m\u001b[0;34m)\u001b[0m\u001b[0;34m\u001b[0m\u001b[0;34m\u001b[0m\u001b[0m\n\u001b[0m",
      "\u001b[0;31mNameError\u001b[0m: name 'X_train' is not defined"
     ]
    }
   ]
  },
  {
   "cell_type": "markdown",
   "source": "<a style='text-decoration:none;line-height:16px;display:flex;color:#5B5B62;padding:10px;justify-content:end;' href='https://deepnote.com?utm_source=created-in-deepnote-cell&projectId=90a57419-7b7b-4aa4-8a97-858f9f98a849' target=\"_blank\">\n<img alt='Created in deepnote.com' style='display:inline;max-height:16px;margin:0px;margin-right:7.5px;' src='data:image/svg+xml;base64,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' > </img>\nCreated in <span style='font-weight:600;margin-left:4px;'>Deepnote</span></a>",
   "metadata": {
    "tags": [],
    "created_in_deepnote_cell": true,
    "deepnote_cell_type": "markdown"
   }
  }
 ],
 "nbformat": 4,
 "nbformat_minor": 2,
 "metadata": {
  "orig_nbformat": 2,
  "deepnote": {
   "is_reactive": false
  },
  "deepnote_notebook_id": "1882973e-bf63-42a3-8be8-29bfceb31c51",
  "deepnote_execution_queue": []
 }
}